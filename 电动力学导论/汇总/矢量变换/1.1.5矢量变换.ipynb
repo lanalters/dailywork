{
 "cells": [
  {
   "cell_type": "markdown",
   "metadata": {},
   "source": [
    "# 1.1.5 矢量变换"
   ]
  },
  {
   "cell_type": "markdown",
   "metadata": {},
   "source": [
    "矢量变换实际上是非常重要的内容，我想知道的是 python 能给我提供多大的帮助。"
   ]
  },
  {
   "cell_type": "markdown",
   "metadata": {},
   "source": [
    "假设 $(\\overline{x}, \\overline{y}, \\overline{z})$ 系是相对于 $(x, y, z)$ 系绕共同轴 $x = \\overline{x}$ 一个角度 $\\phi$ 得到的，由图 1.15得\n",
    "$$\n",
    "  A_y = A\\cos\\theta, B_y = A \\sin\\theta\n",
    "$$\n",
    "而\n",
    "$$\n",
    " {\\overline{A}}_y = \\cos\\phi A_y + \\sin\\phi A_z \\\\\n",
    " {\\overline{A}}_z = -\\sin\\phi A_y + \\cos\\phi A_z\n",
    "$$\n",
    "我们可以用矩阵形式表示这些结果：\n",
    "$$\n",
    "  \\begin{pmatrix}\n",
    "    {\\overline{A}}_y \\\\ {\\overline{A}}_z\n",
    "  \\end{pmatrix}\n",
    "  =  \n",
    "  \\begin{pmatrix}\n",
    "    \\cos\\phi & \\sin\\phi \\\\\n",
    "    -\\sin\\phi & \\cos\\phi\n",
    "  \\end{pmatrix}\n",
    "  \\begin{pmatrix}\n",
    "    A_y \\\\ A_z\n",
    "  \\end{pmatrix}\n",
    "  \\tag{1.29}\n",
    "$$"
   ]
  },
  {
   "cell_type": "code",
   "execution_count": 3,
   "metadata": {},
   "outputs": [
    {
     "name": "stdout",
     "output_type": "stream",
     "text": [
      "抽象向量 A = (作为旧变量的函数)\n"
     ]
    },
    {
     "data": {
      "text/latex": [
       "$\\displaystyle \\left(A_{x}\\right)\\mathbf{\\hat{i}_{O}} + \\left(A_{y}\\right)\\mathbf{\\hat{j}_{O}} + \\left(A_{z}\\right)\\mathbf{\\hat{k}_{O}}$"
      ],
      "text/plain": [
       "A_x*O.i + A_y*O.j + A_z*O.k"
      ]
     },
     "metadata": {},
     "output_type": "display_data"
    }
   ],
   "source": [
    "import sympy as sp\n",
    "from sympy.vector import CoordSys3D\n",
    "from IPython.display import display\n",
    "\n",
    "# 创建一个三维坐标系\n",
    "O = CoordSys3D('O')\n",
    "\n",
    "# 定义一个抽象向量\n",
    "A_x, A_y, A_z = sp.symbols('A_x A_y A_z')\n",
    "A = A_x * O.i + A_y * O.j + A_z * O.k\n",
    "print(\"抽象向量 A = (作为旧变量的函数)\")\n",
    "display(A)"
   ]
  },
  {
   "cell_type": "markdown",
   "metadata": {},
   "source": [
    "接下来考虑变量代换，固定 $x$ 轴，让 $y,z$ 轴旋转 $\\phi$ 角度。\n",
    "$N.j$ 在新坐标轴下的坐标是 $(\\cos\\phi, -\\sin\\phi)$, $N.k$ 在新坐标系下的坐标是 $(\\sin\\phi,\\cos\\phi)$。"
   ]
  },
  {
   "cell_type": "code",
   "execution_count": 12,
   "metadata": {},
   "outputs": [
    {
     "name": "stdout",
     "output_type": "stream",
     "text": [
      "如果固定x轴，让y,z绕着x轴旋转phi角度。实际上，改变坐标轴只是改变了向量的表示，向量本身并没有变化，即矢量 A 依然表示为：\n"
     ]
    },
    {
     "data": {
      "text/latex": [
       "$\\displaystyle \\left(A_{x}\\right)\\mathbf{\\hat{i}_{O}} + \\left(A_{y}\\right)\\mathbf{\\hat{j}_{O}} + \\left(A_{z}\\right)\\mathbf{\\hat{k}_{O}}$"
      ],
      "text/plain": [
       "A_x*O.i + A_y*O.j + A_z*O.k"
      ]
     },
     "metadata": {},
     "output_type": "display_data"
    },
    {
     "name": "stdout",
     "output_type": "stream",
     "text": [
      "但我们现在要用新的坐标系表示这个向量，即要求 A 在新坐标系中的表示。我们只需要将 A 中的旧坐标向量用新坐标向量表示即可\n",
      "O.i = N.i , O.j = (cos(phi))*N.j + (-sin(phi))*N.k , O.k = (sin(phi))*N.j + (cos(phi))*N.k\n",
      "\n",
      "于是得到 A 在新坐标系中的表示：\n"
     ]
    },
    {
     "data": {
      "text/latex": [
       "$\\displaystyle \\left(A_{x}\\right)\\mathbf{\\hat{i}_{N}} + \\left(A_{y} \\cos{\\left(\\phi \\right)} + A_{z} \\sin{\\left(\\phi \\right)}\\right)\\mathbf{\\hat{j}_{N}} + \\left(- A_{y} \\sin{\\left(\\phi \\right)} + A_{z} \\cos{\\left(\\phi \\right)}\\right)\\mathbf{\\hat{k}_{N}}$"
      ],
      "text/plain": [
       "A_x*N.i + (A_y*cos(phi) + A_z*sin(phi))*N.j + (-A_y*sin(phi) + A_z*cos(phi))*N.k"
      ]
     },
     "metadata": {},
     "output_type": "display_data"
    }
   ],
   "source": [
    "print('如果固定x轴，让y,z绕着x轴旋转phi角度。实际上，改变坐标轴只是改变了向量的表示，向量本身并没有变化，即矢量 A 依然表示为：')\n",
    "display(A)\n",
    "print('但我们现在要用新的坐标系表示这个向量，即要求 A 在新坐标系中的表示。我们只需要将 A 中的旧坐标向量用新坐标向量表示即可')\n",
    "# 旋转了phi 的角度\n",
    "phi = sp.symbols('phi')\n",
    "# 创建一个新三维坐标系\n",
    "N = CoordSys3D('N')\n",
    "# 旧坐标向量在新坐标系中的表示\n",
    "print('O.i =', N.i, ', O.j =', sp.cos(phi)*N.j -sp.sin(phi)*N.k, ', O.k =', sp.sin(phi)*N.j  + sp.cos(phi)*N.k)\n",
    "\n",
    "# 得到 A 在新坐标系中的表示\n",
    "A_new = A.subs({O.i: N.i, O.j: (sp.cos(phi)*N.j -sp.sin(phi)*N.k), O.k: (sp.sin(phi)*N.j  + sp.cos(phi)*N.k)})\n",
    "print('\\n于是得到 A 在新坐标系中的表示：')\n",
    "display(A_new)\n"
   ]
  },
  {
   "cell_type": "markdown",
   "metadata": {},
   "source": [
    "旧坐标矢量在新坐标系下的表示为\n",
    "$$\n",
    "  \\begin{pmatrix}\n",
    "    \\hat{\\bm x} & \\hat{\\bm y} & \\hat{\\bm z}\n",
    "  \\end{pmatrix}\n",
    "  = \n",
    "  \\begin{pmatrix}\n",
    "    \\hat{\\bm x'} & \\hat{\\bm y'} & \\hat{\\bm z'}\n",
    "  \\end{pmatrix}\n",
    "  \\begin{pmatrix}\n",
    "    1 & 0 & 0 \\\\\n",
    "    0 & \\cos\\phi & \\sin\\phi \\\\\n",
    "    0 & -\\sin\\phi & \\cos\\phi\n",
    "  \\end{pmatrix}\n",
    "$$\n",
    "因此新坐标向量可以表示为\n",
    "$$\n",
    "  \\begin{pmatrix}\n",
    "    A_x' \\\\ A_y' \\\\ A_z'\n",
    "  \\end{pmatrix}\n",
    "  =\n",
    "  \\begin{pmatrix}\n",
    "    1 & 0 & 0 \\\\\n",
    "    0 & \\cos\\phi & \\sin\\phi \\\\\n",
    "    0 & -\\sin\\phi & \\cos\\phi\n",
    "  \\end{pmatrix}\n",
    "  \\begin{pmatrix}\n",
    "    A_x \\\\ A_y \\\\ A_z\n",
    "  \\end{pmatrix}\n",
    "$$\n"
   ]
  },
  {
   "cell_type": "code",
   "execution_count": 15,
   "metadata": {},
   "outputs": [
    {
     "name": "stdout",
     "output_type": "stream",
     "text": [
      "我们也可以通过矩阵乘法来实现同样的结果\n",
      "首先我们定义旧基在新基中的表示：\n",
      "换句话说，旧基 O.i,O.j,O.k 构成的矩阵等于变换矩阵乘以新基 N.i,N.j,N.k 构成的矩阵\n"
     ]
    },
    {
     "data": {
      "text/latex": [
       "$\\displaystyle \\left[\\begin{matrix}\\mathbf{\\hat{i}_{O}} & \\mathbf{\\hat{j}_{O}} & \\mathbf{\\hat{k}_{O}}\\end{matrix}\\right]$"
      ],
      "text/plain": [
       "Matrix([[O.i, O.j, O.k]])"
      ]
     },
     "metadata": {},
     "output_type": "display_data"
    },
    {
     "name": "stdout",
     "output_type": "stream",
     "text": [
      "等于\n"
     ]
    },
    {
     "data": {
      "text/latex": [
       "$\\displaystyle \\left[\\begin{matrix}\\mathbf{\\hat{i}_{N}} & \\mathbf{\\hat{j}_{N}} & \\mathbf{\\hat{k}_{N}}\\end{matrix}\\right]$"
      ],
      "text/plain": [
       "Matrix([[N.i, N.j, N.k]])"
      ]
     },
     "metadata": {},
     "output_type": "display_data"
    },
    {
     "name": "stdout",
     "output_type": "stream",
     "text": [
      "乘以\n"
     ]
    },
    {
     "data": {
      "text/latex": [
       "$\\displaystyle \\left[\\begin{matrix}1 & 0 & 0\\\\0 & \\cos{\\left(\\phi \\right)} & \\sin{\\left(\\phi \\right)}\\\\0 & - \\sin{\\left(\\phi \\right)} & \\cos{\\left(\\phi \\right)}\\end{matrix}\\right]$"
      ],
      "text/plain": [
       "Matrix([\n",
       "[1,         0,        0],\n",
       "[0,  cos(phi), sin(phi)],\n",
       "[0, -sin(phi), cos(phi)]])"
      ]
     },
     "metadata": {},
     "output_type": "display_data"
    },
    {
     "name": "stdout",
     "output_type": "stream",
     "text": [
      "所以向量 A 在新基中的矩阵表示为等于\n"
     ]
    },
    {
     "data": {
      "text/latex": [
       "$\\displaystyle \\left[\\begin{matrix}1 & 0 & 0\\\\0 & \\cos{\\left(\\phi \\right)} & \\sin{\\left(\\phi \\right)}\\\\0 & - \\sin{\\left(\\phi \\right)} & \\cos{\\left(\\phi \\right)}\\end{matrix}\\right]$"
      ],
      "text/plain": [
       "Matrix([\n",
       "[1,         0,        0],\n",
       "[0,  cos(phi), sin(phi)],\n",
       "[0, -sin(phi), cos(phi)]])"
      ]
     },
     "metadata": {},
     "output_type": "display_data"
    },
    {
     "name": "stdout",
     "output_type": "stream",
     "text": [
      "乘以\n"
     ]
    },
    {
     "data": {
      "text/latex": [
       "$\\displaystyle \\left[\\begin{matrix}A_{x}\\\\A_{y}\\\\A_{z}\\end{matrix}\\right]$"
      ],
      "text/plain": [
       "Matrix([\n",
       "[A_x],\n",
       "[A_y],\n",
       "[A_z]])"
      ]
     },
     "metadata": {},
     "output_type": "display_data"
    },
    {
     "name": "stdout",
     "output_type": "stream",
     "text": [
      "于是新的坐标为\n"
     ]
    },
    {
     "data": {
      "text/latex": [
       "$\\displaystyle \\left[\\begin{matrix}A_{x}\\\\A_{y} \\cos{\\left(\\phi \\right)} + A_{z} \\sin{\\left(\\phi \\right)}\\\\- A_{y} \\sin{\\left(\\phi \\right)} + A_{z} \\cos{\\left(\\phi \\right)}\\end{matrix}\\right]$"
      ],
      "text/plain": [
       "Matrix([\n",
       "[                         A_x],\n",
       "[ A_y*cos(phi) + A_z*sin(phi)],\n",
       "[-A_y*sin(phi) + A_z*cos(phi)]])"
      ]
     },
     "metadata": {},
     "output_type": "display_data"
    }
   ],
   "source": [
    "# 我们也可以通过矩阵乘法来实现同样的结果\n",
    "print('我们也可以通过矩阵乘法来实现同样的结果')\n",
    "\n",
    "# 首先我们定义旧基在新基中的表示\n",
    "print('首先我们定义旧基在新基中的表示：')\n",
    "\n",
    "# 旧基在新基中的表示\n",
    "O_in_N = sp.Matrix([\n",
    "    [1, 0, 0],\n",
    "    [0, sp.cos(phi), sp.sin(phi)],\n",
    "    [0, -sp.sin(phi), sp.cos(phi)]\n",
    "])\n",
    "print('换句话说，旧基 O.i,O.j,O.k 构成的矩阵等于变换矩阵乘以新基 N.i,N.j,N.k 构成的矩阵')\n",
    "O_matrix = sp.Matrix([O.i, O.j, O.k]).T\n",
    "display(O_matrix)\n",
    "print('等于')\n",
    "N_matrix = sp.Matrix([N.i, N.j, N.k]).T\n",
    "display(N_matrix)\n",
    "print('乘以')\n",
    "display(O_in_N)\n",
    "\n",
    "# 定义向量 A 的矩阵形式\n",
    "\n",
    "A_matrix = sp.Matrix([A_x, A_y, A_z])\n",
    "\n",
    "print('所以向量 A 在新基中的矩阵表示为等于')\n",
    "display(O_in_N)\n",
    "print('乘以')\n",
    "display(A_matrix)\n",
    "\n",
    "print('于是新的坐标为')\n",
    "# 进行矩阵乘法，得到新的向量\n",
    "A_new_matrix = O_in_N * A_matrix\n",
    "display(A_new_matrix)"
   ]
  }
 ],
 "metadata": {
  "kernelspec": {
   "display_name": "d2l",
   "language": "python",
   "name": "python3"
  },
  "language_info": {
   "codemirror_mode": {
    "name": "ipython",
    "version": 3
   },
   "file_extension": ".py",
   "mimetype": "text/x-python",
   "name": "python",
   "nbconvert_exporter": "python",
   "pygments_lexer": "ipython3",
   "version": "3.8.19"
  }
 },
 "nbformat": 4,
 "nbformat_minor": 2
}
