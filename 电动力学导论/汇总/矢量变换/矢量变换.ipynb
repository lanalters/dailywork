{
 "cells": [
  {
   "cell_type": "markdown",
   "metadata": {},
   "source": [
    "# 矢量变换的规律"
   ]
  },
  {
   "cell_type": "code",
   "execution_count": 3,
   "metadata": {},
   "outputs": [
    {
     "name": "stdout",
     "output_type": "stream",
     "text": [
      "抽象向量 A = \n"
     ]
    },
    {
     "data": {
      "text/latex": [
       "$\\displaystyle \\left(A_{x}\\right)\\mathbf{\\hat{i}_{O}} + \\left(A_{y}\\right)\\mathbf{\\hat{j}_{O}} + \\left(A_{z}\\right)\\mathbf{\\hat{k}_{O}}$"
      ],
      "text/plain": [
       "A_x*O.i + A_y*O.j + A_z*O.k"
      ]
     },
     "metadata": {},
     "output_type": "display_data"
    },
    {
     "name": "stdout",
     "output_type": "stream",
     "text": [
      "如果固定x轴，让y,z绕着x轴旋转phi角度，那么A在新坐标系中的表示为：\n"
     ]
    },
    {
     "data": {
      "text/latex": [
       "$\\displaystyle \\left(A_{x}\\right)\\mathbf{\\hat{i}_{N}} + \\left(A_{y} \\cos{\\left(\\phi \\right)} + A_{z} \\sin{\\left(\\phi \\right)}\\right)\\mathbf{\\hat{j}_{N}} + \\left(- A_{y} \\sin{\\left(\\phi \\right)} + A_{z} \\cos{\\left(\\phi \\right)}\\right)\\mathbf{\\hat{k}_{N}}$"
      ],
      "text/plain": [
       "A_x*N.i + (A_y*cos(phi) + A_z*sin(phi))*N.j + (-A_y*sin(phi) + A_z*cos(phi))*N.k"
      ]
     },
     "metadata": {},
     "output_type": "display_data"
    },
    {
     "name": "stdout",
     "output_type": "stream",
     "text": [
      "我们也可以通过矩阵乘法来实现同样的结果:\n",
      "向量 A 的矩阵形式为：\n"
     ]
    },
    {
     "data": {
      "text/latex": [
       "$\\displaystyle \\left[\\begin{matrix}A_{x}\\\\A_{y}\\\\A_{z}\\end{matrix}\\right]$"
      ],
      "text/plain": [
       "Matrix([\n",
       "[A_x],\n",
       "[A_y],\n",
       "[A_z]])"
      ]
     },
     "metadata": {},
     "output_type": "display_data"
    },
    {
     "data": {
      "text/latex": [
       "$\\displaystyle \\left[\\begin{matrix}A_{x}\\\\A_{y} \\cos{\\left(\\phi \\right)} + A_{z} \\sin{\\left(\\phi \\right)}\\\\- A_{y} \\sin{\\left(\\phi \\right)} + A_{z} \\cos{\\left(\\phi \\right)}\\end{matrix}\\right]$"
      ],
      "text/plain": [
       "Matrix([\n",
       "[                         A_x],\n",
       "[ A_y*cos(phi) + A_z*sin(phi)],\n",
       "[-A_y*sin(phi) + A_z*cos(phi)]])"
      ]
     },
     "metadata": {},
     "output_type": "display_data"
    },
    {
     "name": "stdout",
     "output_type": "stream",
     "text": [
      "变换后的向量 A_new = \n"
     ]
    },
    {
     "data": {
      "text/latex": [
       "$\\displaystyle \\left[\\begin{matrix}A_{x}\\\\A_{y} \\cos{\\left(\\phi \\right)} + A_{z} \\sin{\\left(\\phi \\right)}\\\\- A_{y} \\sin{\\left(\\phi \\right)} + A_{z} \\cos{\\left(\\phi \\right)}\\end{matrix}\\right]$"
      ],
      "text/plain": [
       "Matrix([\n",
       "[                         A_x],\n",
       "[ A_y*cos(phi) + A_z*sin(phi)],\n",
       "[-A_y*sin(phi) + A_z*cos(phi)]])"
      ]
     },
     "metadata": {},
     "output_type": "display_data"
    }
   ],
   "source": [
    "import sympy as sp\n",
    "from sympy.vector import CoordSys3D\n",
    "from IPython.display import display\n",
    "\n",
    "# 创建一个三维坐标系\n",
    "O = CoordSys3D('O')\n",
    "\n",
    "# 定义一个抽象向量\n",
    "A_x, A_y, A_z = sp.symbols('A_x A_y A_z')\n",
    "A = A_x * O.i + A_y * O.j + A_z * O.k\n",
    "print(\"抽象向量 A = \")\n",
    "display(A)\n",
    "# 旋转了phi 的角度\n",
    "phi = sp.symbols('phi')\n",
    "# 创建一个新三维坐标系\n",
    "N = CoordSys3D('N')\n",
    "# 得到 A 在新坐标系中的表示\n",
    "A_new = A.subs({O.i: N.i, O.j: (sp.cos(phi)*N.j + (-sp.sin(phi)*N.k)), O.k: (sp.sin(phi)*N.j  + sp.cos(phi)*N.k)})\n",
    "print('如果固定x轴，让y,z绕着x轴旋转phi角度，那么A在新坐标系中的表示为：')\n",
    "display(A_new)\n",
    "\n",
    "\n",
    "# 我们也可以通过矩阵乘法来实现同样的结果\n",
    "print(\"我们也可以通过矩阵乘法来实现同样的结果:\")\n",
    "\n",
    "# 定义旋转矩阵\n",
    "rotation_matrix = sp.Matrix([\n",
    "    [1, 0, 0],\n",
    "    [0, sp.cos(phi), sp.sin(phi)],\n",
    "    [0, -sp.sin(phi), sp.cos(phi)]\n",
    "])\n",
    "\n",
    "# 定义向量 A 的矩阵形式\n",
    "A_matrix = sp.Matrix([A_x, A_y, A_z])\n",
    "print(\"向量 A 的矩阵形式为：\")\n",
    "display(A_matrix)\n",
    "\n",
    "# 进行矩阵乘法，得到新的向量\n",
    "A_new_matrix = rotation_matrix * A_matrix\n",
    "display(A_new_matrix)\n",
    "print(\"变换后的向量 A_new = \")\n",
    "display(A_new_matrix)"
   ]
  },
  {
   "cell_type": "markdown",
   "metadata": {},
   "source": [
    "# 梯度满足矢量变换规律"
   ]
  },
  {
   "cell_type": "code",
   "execution_count": 3,
   "metadata": {},
   "outputs": [
    {
     "name": "stdout",
     "output_type": "stream",
     "text": [
      "抽象标量场 f = \n"
     ]
    },
    {
     "data": {
      "text/latex": [
       "$\\displaystyle f{\\left(\\mathbf{{x}_{O}},\\mathbf{{y}_{O}},\\mathbf{{z}_{O}} \\right)}$"
      ],
      "text/plain": [
       "f(O.x, O.y, O.z)"
      ]
     },
     "metadata": {},
     "output_type": "display_data"
    },
    {
     "name": "stdout",
     "output_type": "stream",
     "text": [
      "标量场在原坐标系下的梯度 (∇f):\n"
     ]
    },
    {
     "data": {
      "text/latex": [
       "$\\displaystyle \\left(\\frac{\\partial}{\\partial \\mathbf{{x}_{O}}} f{\\left(\\mathbf{{x}_{O}},\\mathbf{{y}_{O}},\\mathbf{{z}_{O}} \\right)}\\right)\\mathbf{\\hat{i}_{O}} + \\left(\\frac{\\partial}{\\partial \\mathbf{{y}_{O}}} f{\\left(\\mathbf{{x}_{O}},\\mathbf{{y}_{O}},\\mathbf{{z}_{O}} \\right)}\\right)\\mathbf{\\hat{j}_{O}} + \\left(\\frac{\\partial}{\\partial \\mathbf{{z}_{O}}} f{\\left(\\mathbf{{x}_{O}},\\mathbf{{y}_{O}},\\mathbf{{z}_{O}} \\right)}\\right)\\mathbf{\\hat{k}_{O}}$"
      ],
      "text/plain": [
       "(Derivative(f(O.x, O.y, O.z), O.x))*O.i + (Derivative(f(O.x, O.y, O.z), O.y))*O.j + (Derivative(f(O.x, O.y, O.z), O.z))*O.k"
      ]
     },
     "metadata": {},
     "output_type": "display_data"
    },
    {
     "name": "stdout",
     "output_type": "stream",
     "text": [
      "如果固定x轴，让y,z绕着x轴旋转phi角度，那么f在新坐标系中的表示为：\n"
     ]
    },
    {
     "data": {
      "text/latex": [
       "$\\displaystyle f{\\left(\\mathbf{{x}_{N}},\\mathbf{{y}_{N}} \\cos{\\left(\\phi \\right)} - \\mathbf{{z}_{N}} \\sin{\\left(\\phi \\right)},\\mathbf{{y}_{N}} \\sin{\\left(\\phi \\right)} + \\mathbf{{z}_{N}} \\cos{\\left(\\phi \\right)} \\right)}$"
      ],
      "text/plain": [
       "f(N.x, N.y*cos(phi) - N.z*sin(phi), N.y*sin(phi) + N.z*cos(phi))"
      ]
     },
     "metadata": {},
     "output_type": "display_data"
    },
    {
     "name": "stdout",
     "output_type": "stream",
     "text": [
      "f 在新坐标系中的梯度 (∇f) 表示为：\n"
     ]
    },
    {
     "data": {
      "text/latex": [
       "$\\displaystyle \\left(\\frac{\\partial}{\\partial \\mathbf{{x}_{N}}} f{\\left(\\mathbf{{x}_{N}},\\mathbf{{y}_{N}} \\cos{\\left(\\phi \\right)} - \\mathbf{{z}_{N}} \\sin{\\left(\\phi \\right)},\\mathbf{{y}_{N}} \\sin{\\left(\\phi \\right)} + \\mathbf{{z}_{N}} \\cos{\\left(\\phi \\right)} \\right)}\\right)\\mathbf{\\hat{i}_{N}} + \\left(\\sin{\\left(\\phi \\right)} \\left. \\frac{\\partial}{\\partial \\xi_{3}} f{\\left(\\mathbf{{x}_{N}},\\mathbf{{y}_{N}} \\cos{\\left(\\phi \\right)} - \\mathbf{{z}_{N}} \\sin{\\left(\\phi \\right)},\\xi_{3} \\right)} \\right|_{\\substack{ \\xi_{3}=\\mathbf{{y}_{N}} \\sin{\\left(\\phi \\right)} + \\mathbf{{z}_{N}} \\cos{\\left(\\phi \\right)} }} + \\cos{\\left(\\phi \\right)} \\left. \\frac{\\partial}{\\partial \\xi_{2}} f{\\left(\\mathbf{{x}_{N}},\\xi_{2},\\mathbf{{y}_{N}} \\sin{\\left(\\phi \\right)} + \\mathbf{{z}_{N}} \\cos{\\left(\\phi \\right)} \\right)} \\right|_{\\substack{ \\xi_{2}=\\mathbf{{y}_{N}} \\cos{\\left(\\phi \\right)} - \\mathbf{{z}_{N}} \\sin{\\left(\\phi \\right)} }}\\right)\\mathbf{\\hat{j}_{N}} + \\left(- \\sin{\\left(\\phi \\right)} \\left. \\frac{\\partial}{\\partial \\xi_{2}} f{\\left(\\mathbf{{x}_{N}},\\xi_{2},\\mathbf{{y}_{N}} \\sin{\\left(\\phi \\right)} + \\mathbf{{z}_{N}} \\cos{\\left(\\phi \\right)} \\right)} \\right|_{\\substack{ \\xi_{2}=\\mathbf{{y}_{N}} \\cos{\\left(\\phi \\right)} - \\mathbf{{z}_{N}} \\sin{\\left(\\phi \\right)} }} + \\cos{\\left(\\phi \\right)} \\left. \\frac{\\partial}{\\partial \\xi_{3}} f{\\left(\\mathbf{{x}_{N}},\\mathbf{{y}_{N}} \\cos{\\left(\\phi \\right)} - \\mathbf{{z}_{N}} \\sin{\\left(\\phi \\right)},\\xi_{3} \\right)} \\right|_{\\substack{ \\xi_{3}=\\mathbf{{y}_{N}} \\sin{\\left(\\phi \\right)} + \\mathbf{{z}_{N}} \\cos{\\left(\\phi \\right)} }}\\right)\\mathbf{\\hat{k}_{N}}$"
      ],
      "text/plain": [
       "(Derivative(f(N.x, N.y*cos(phi) - N.z*sin(phi), N.y*sin(phi) + N.z*cos(phi)), N.x))*N.i + (sin(phi)*Subs(Derivative(f(N.x, N.y*cos(phi) - N.z*sin(phi), _xi_3), _xi_3), _xi_3, N.y*sin(phi) + N.z*cos(phi)) + cos(phi)*Subs(Derivative(f(N.x, _xi_2, N.y*sin(phi) + N.z*cos(phi)), _xi_2), _xi_2, N.y*cos(phi) - N.z*sin(phi)))*N.j + (-sin(phi)*Subs(Derivative(f(N.x, _xi_2, N.y*sin(phi) + N.z*cos(phi)), _xi_2), _xi_2, N.y*cos(phi) - N.z*sin(phi)) + cos(phi)*Subs(Derivative(f(N.x, N.y*cos(phi) - N.z*sin(phi), _xi_3), _xi_3), _xi_3, N.y*sin(phi) + N.z*cos(phi)))*N.k"
      ]
     },
     "metadata": {},
     "output_type": "display_data"
    },
    {
     "name": "stdout",
     "output_type": "stream",
     "text": [
      "可见梯度是满足矢量变换规律的，也可以采用更加明显的形式：\n"
     ]
    },
    {
     "data": {
      "text/latex": [
       "$\\displaystyle \\left(\\frac{\\partial}{\\partial \\mathbf{{x}_{O}}} f{\\left(\\mathbf{{x}_{O}},\\mathbf{{y}_{O}},\\mathbf{{z}_{O}} \\right)}\\right)\\mathbf{\\hat{i}_{N}} + \\left(\\sin{\\left(\\phi \\right)} \\left. \\frac{\\partial}{\\partial \\xi_{3}} f{\\left(\\mathbf{{x}_{O}},\\mathbf{{y}_{O}},\\xi_{3} \\right)} \\right|_{\\substack{ \\xi_{3}=\\mathbf{{z}_{O}} }} + \\cos{\\left(\\phi \\right)} \\left. \\frac{\\partial}{\\partial \\xi_{2}} f{\\left(\\mathbf{{x}_{O}},\\xi_{2},\\mathbf{{z}_{O}} \\right)} \\right|_{\\substack{ \\xi_{2}=\\mathbf{{y}_{O}} }}\\right)\\mathbf{\\hat{j}_{N}} + \\left(- \\sin{\\left(\\phi \\right)} \\left. \\frac{\\partial}{\\partial \\xi_{2}} f{\\left(\\mathbf{{x}_{O}},\\xi_{2},\\mathbf{{z}_{O}} \\right)} \\right|_{\\substack{ \\xi_{2}=\\mathbf{{y}_{O}} }} + \\cos{\\left(\\phi \\right)} \\left. \\frac{\\partial}{\\partial \\xi_{3}} f{\\left(\\mathbf{{x}_{O}},\\mathbf{{y}_{O}},\\xi_{3} \\right)} \\right|_{\\substack{ \\xi_{3}=\\mathbf{{z}_{O}} }}\\right)\\mathbf{\\hat{k}_{N}}$"
      ],
      "text/plain": [
       "(Derivative(f(O.x, O.y, O.z), O.x))*N.i + (sin(phi)*Subs(Derivative(f(O.x, O.y, _xi_3), _xi_3), _xi_3, O.z) + cos(phi)*Subs(Derivative(f(O.x, _xi_2, O.z), _xi_2), _xi_2, O.y))*N.j + (-sin(phi)*Subs(Derivative(f(O.x, _xi_2, O.z), _xi_2), _xi_2, O.y) + cos(phi)*Subs(Derivative(f(O.x, O.y, _xi_3), _xi_3), _xi_3, O.z))*N.k"
      ]
     },
     "metadata": {},
     "output_type": "display_data"
    },
    {
     "name": "stdout",
     "output_type": "stream",
     "text": [
      "我们也可以通过矩阵乘法来实现同样的结果：\n",
      "f 在原坐标系下的梯度 (∇f) 的矩阵形式：\n"
     ]
    },
    {
     "data": {
      "text/latex": [
       "$\\displaystyle \\left[\\begin{matrix}\\frac{\\partial}{\\partial \\mathbf{{x}_{O}}} f{\\left(\\mathbf{{x}_{O}},\\mathbf{{y}_{O}},\\mathbf{{z}_{O}} \\right)}\\\\\\frac{\\partial}{\\partial \\mathbf{{y}_{O}}} f{\\left(\\mathbf{{x}_{O}},\\mathbf{{y}_{O}},\\mathbf{{z}_{O}} \\right)}\\\\\\frac{\\partial}{\\partial \\mathbf{{z}_{O}}} f{\\left(\\mathbf{{x}_{O}},\\mathbf{{y}_{O}},\\mathbf{{z}_{O}} \\right)}\\end{matrix}\\right]$"
      ],
      "text/plain": [
       "Matrix([\n",
       "[Derivative(f(O.x, O.y, O.z), O.x)],\n",
       "[Derivative(f(O.x, O.y, O.z), O.y)],\n",
       "[Derivative(f(O.x, O.y, O.z), O.z)]])"
      ]
     },
     "metadata": {},
     "output_type": "display_data"
    },
    {
     "name": "stdout",
     "output_type": "stream",
     "text": [
      "f 在新坐标系中的梯度 (∇f) 的矩阵形式：\n"
     ]
    },
    {
     "data": {
      "text/latex": [
       "$\\displaystyle \\left[\\begin{matrix}\\frac{\\partial}{\\partial \\mathbf{{x}_{O}}} f{\\left(\\mathbf{{x}_{O}},\\mathbf{{y}_{O}},\\mathbf{{z}_{O}} \\right)}\\\\\\sin{\\left(\\phi \\right)} \\frac{\\partial}{\\partial \\mathbf{{z}_{O}}} f{\\left(\\mathbf{{x}_{O}},\\mathbf{{y}_{O}},\\mathbf{{z}_{O}} \\right)} + \\cos{\\left(\\phi \\right)} \\frac{\\partial}{\\partial \\mathbf{{y}_{O}}} f{\\left(\\mathbf{{x}_{O}},\\mathbf{{y}_{O}},\\mathbf{{z}_{O}} \\right)}\\\\- \\sin{\\left(\\phi \\right)} \\frac{\\partial}{\\partial \\mathbf{{y}_{O}}} f{\\left(\\mathbf{{x}_{O}},\\mathbf{{y}_{O}},\\mathbf{{z}_{O}} \\right)} + \\cos{\\left(\\phi \\right)} \\frac{\\partial}{\\partial \\mathbf{{z}_{O}}} f{\\left(\\mathbf{{x}_{O}},\\mathbf{{y}_{O}},\\mathbf{{z}_{O}} \\right)}\\end{matrix}\\right]$"
      ],
      "text/plain": [
       "Matrix([\n",
       "[                                                       Derivative(f(O.x, O.y, O.z), O.x)],\n",
       "[ sin(phi)*Derivative(f(O.x, O.y, O.z), O.z) + cos(phi)*Derivative(f(O.x, O.y, O.z), O.y)],\n",
       "[-sin(phi)*Derivative(f(O.x, O.y, O.z), O.y) + cos(phi)*Derivative(f(O.x, O.y, O.z), O.z)]])"
      ]
     },
     "metadata": {},
     "output_type": "display_data"
    }
   ],
   "source": [
    "import sympy as sp\n",
    "from sympy.vector import CoordSys3D, gradient\n",
    "from IPython.display import display\n",
    "\n",
    "# 创建一个三维坐标系\n",
    "O = CoordSys3D('O')\n",
    "\n",
    "# 定义一个抽象标量场\n",
    "f = sp.Function('f')(O.x, O.y, O.z)\n",
    "print(\"抽象标量场 f = \")\n",
    "display(f)\n",
    "\n",
    "grad_f = gradient(f, O)\n",
    "print(\"标量场在原坐标系下的梯度 (∇f):\")\n",
    "display(grad_f)\n",
    "\n",
    "# 创建一个新三维坐标系\n",
    "N = CoordSys3D('N')\n",
    "# 旋转了phi 的角度\n",
    "phi = sp.symbols('phi')\n",
    "# 得到 A 在新坐标系中的表示：也就是说我要用新的坐标系来表示原来的标量场\n",
    "f_new = f.subs({O.x: N.x, O.y: (sp.cos(phi)*N.y - sp.sin(phi)*N.z), O.z: (sp.sin(phi)*N.y  + sp.cos(phi)*N.z)})\n",
    "\n",
    "print('如果固定x轴，让y,z绕着x轴旋转phi角度，那么f在新坐标系中的表示为：')\n",
    "display(f_new)\n",
    "\n",
    "grad_f_new = gradient(f_new, N)\n",
    "print('f 在新坐标系中的梯度 (∇f) 表示为：')\n",
    "display(grad_f_new)\n",
    "print('可见梯度是满足矢量变换规律的，也可以采用更加明显的形式：')\n",
    "display(grad_f_new.subs({N.x: O.x, (sp.cos(phi)*N.y - sp.sin(phi)*N.z): O.y, (sp.sin(phi)*N.y  + sp.cos(phi)*N.z): O.z}))\n",
    "\n",
    "# 我们也可以通过矩阵乘法来实现同样的结果\n",
    "print(\"我们也可以通过矩阵乘法来实现同样的结果：\")\n",
    "# 定义旋转矩阵\n",
    "rotation_matrix = sp.Matrix([\n",
    "    [1, 0, 0],\n",
    "    [0, sp.cos(phi), sp.sin(phi)],\n",
    "    [0, -sp.sin(phi), sp.cos(phi)]\n",
    "])\n",
    "\n",
    "# ∇f 的矩阵形式\n",
    "grad_f_matrix = sp.Matrix([grad_f & O.i, grad_f & O.j, grad_f & O.k])\n",
    "print(\"f 在原坐标系下的梯度 (∇f) 的矩阵形式：\")\n",
    "display(grad_f_matrix)\n",
    "\n",
    "# 进行矩阵乘法，得到新的向量\n",
    "grad_f_new = rotation_matrix * grad_f_matrix\n",
    "print(\"f 在新坐标系中的梯度 (∇f) 的矩阵形式：\")\n",
    "display(grad_f_new)"
   ]
  },
  {
   "cell_type": "code",
   "execution_count": null,
   "metadata": {},
   "outputs": [],
   "source": []
  },
  {
   "cell_type": "markdown",
   "metadata": {},
   "source": [
    "### 习题1.17\n",
    "对二维情况，证明在转动变换下散度的变换满足标量的变换规律。"
   ]
  },
  {
   "cell_type": "code",
   "execution_count": 4,
   "metadata": {},
   "outputs": [
    {
     "name": "stdout",
     "output_type": "stream",
     "text": [
      "抽象向量场 A 为：\n"
     ]
    },
    {
     "data": {
      "text/latex": [
       "$\\displaystyle \\left(A_{x}{\\left(\\mathbf{{x}_{O}},\\mathbf{{y}_{O}},\\mathbf{{z}_{O}} \\right)}\\right)\\mathbf{\\hat{i}_{O}} + \\left(A_{y}{\\left(\\mathbf{{x}_{O}},\\mathbf{{y}_{O}},\\mathbf{{z}_{O}} \\right)}\\right)\\mathbf{\\hat{j}_{O}} + \\left(A_{z}{\\left(\\mathbf{{x}_{O}},\\mathbf{{y}_{O}},\\mathbf{{z}_{O}} \\right)}\\right)\\mathbf{\\hat{k}_{O}}$"
      ],
      "text/plain": [
       "(A_x(O.x, O.y, O.z))*O.i + (A_y(O.x, O.y, O.z))*O.j + (A_z(O.x, O.y, O.z))*O.k"
      ]
     },
     "metadata": {},
     "output_type": "display_data"
    },
    {
     "name": "stdout",
     "output_type": "stream",
     "text": [
      "散度 ∇·A:\n"
     ]
    },
    {
     "data": {
      "text/latex": [
       "$\\displaystyle \\frac{\\partial}{\\partial \\mathbf{{x}_{O}}} A_{x}{\\left(\\mathbf{{x}_{O}},\\mathbf{{y}_{O}},\\mathbf{{z}_{O}} \\right)} + \\frac{\\partial}{\\partial \\mathbf{{y}_{O}}} A_{y}{\\left(\\mathbf{{x}_{O}},\\mathbf{{y}_{O}},\\mathbf{{z}_{O}} \\right)} + \\frac{\\partial}{\\partial \\mathbf{{z}_{O}}} A_{z}{\\left(\\mathbf{{x}_{O}},\\mathbf{{y}_{O}},\\mathbf{{z}_{O}} \\right)}$"
      ],
      "text/plain": [
       "Derivative(A_x(O.x, O.y, O.z), O.x) + Derivative(A_y(O.x, O.y, O.z), O.y) + Derivative(A_z(O.x, O.y, O.z), O.z)"
      ]
     },
     "metadata": {},
     "output_type": "display_data"
    },
    {
     "name": "stdout",
     "output_type": "stream",
     "text": [
      "替换 A 中的基底后：\n"
     ]
    },
    {
     "data": {
      "text/latex": [
       "$\\displaystyle \\left(A_{x}{\\left(\\mathbf{{x}_{O}},\\mathbf{{y}_{O}},\\mathbf{{z}_{O}} \\right)}\\right)\\mathbf{\\hat{i}_{N}} + \\left(A_{y}{\\left(\\mathbf{{x}_{O}},\\mathbf{{y}_{O}},\\mathbf{{z}_{O}} \\right)} \\cos{\\left(\\phi \\right)} + A_{z}{\\left(\\mathbf{{x}_{O}},\\mathbf{{y}_{O}},\\mathbf{{z}_{O}} \\right)} \\sin{\\left(\\phi \\right)}\\right)\\mathbf{\\hat{j}_{N}} + \\left(- A_{y}{\\left(\\mathbf{{x}_{O}},\\mathbf{{y}_{O}},\\mathbf{{z}_{O}} \\right)} \\sin{\\left(\\phi \\right)} + A_{z}{\\left(\\mathbf{{x}_{O}},\\mathbf{{y}_{O}},\\mathbf{{z}_{O}} \\right)} \\cos{\\left(\\phi \\right)}\\right)\\mathbf{\\hat{k}_{N}}$"
      ],
      "text/plain": [
       "(A_x(O.x, O.y, O.z))*N.i + (A_y(O.x, O.y, O.z)*cos(phi) + A_z(O.x, O.y, O.z)*sin(phi))*N.j + (-A_y(O.x, O.y, O.z)*sin(phi) + A_z(O.x, O.y, O.z)*cos(phi))*N.k"
      ]
     },
     "metadata": {},
     "output_type": "display_data"
    },
    {
     "name": "stdout",
     "output_type": "stream",
     "text": [
      "替换 A 中的坐标后：\n"
     ]
    },
    {
     "data": {
      "text/latex": [
       "$\\displaystyle \\left(A_{x}{\\left(\\mathbf{{x}_{N}},\\mathbf{{y}_{N}} \\cos{\\left(\\phi \\right)} - \\mathbf{{z}_{N}} \\sin{\\left(\\phi \\right)},\\mathbf{{y}_{N}} \\sin{\\left(\\phi \\right)} + \\mathbf{{z}_{N}} \\cos{\\left(\\phi \\right)} \\right)}\\right)\\mathbf{\\hat{i}_{N}} + \\left(A_{y}{\\left(\\mathbf{{x}_{N}},\\mathbf{{y}_{N}} \\cos{\\left(\\phi \\right)} - \\mathbf{{z}_{N}} \\sin{\\left(\\phi \\right)},\\mathbf{{y}_{N}} \\sin{\\left(\\phi \\right)} + \\mathbf{{z}_{N}} \\cos{\\left(\\phi \\right)} \\right)} \\cos{\\left(\\phi \\right)} + A_{z}{\\left(\\mathbf{{x}_{N}},\\mathbf{{y}_{N}} \\cos{\\left(\\phi \\right)} - \\mathbf{{z}_{N}} \\sin{\\left(\\phi \\right)},\\mathbf{{y}_{N}} \\sin{\\left(\\phi \\right)} + \\mathbf{{z}_{N}} \\cos{\\left(\\phi \\right)} \\right)} \\sin{\\left(\\phi \\right)}\\right)\\mathbf{\\hat{j}_{N}} + \\left(- A_{y}{\\left(\\mathbf{{x}_{N}},\\mathbf{{y}_{N}} \\cos{\\left(\\phi \\right)} - \\mathbf{{z}_{N}} \\sin{\\left(\\phi \\right)},\\mathbf{{y}_{N}} \\sin{\\left(\\phi \\right)} + \\mathbf{{z}_{N}} \\cos{\\left(\\phi \\right)} \\right)} \\sin{\\left(\\phi \\right)} + A_{z}{\\left(\\mathbf{{x}_{N}},\\mathbf{{y}_{N}} \\cos{\\left(\\phi \\right)} - \\mathbf{{z}_{N}} \\sin{\\left(\\phi \\right)},\\mathbf{{y}_{N}} \\sin{\\left(\\phi \\right)} + \\mathbf{{z}_{N}} \\cos{\\left(\\phi \\right)} \\right)} \\cos{\\left(\\phi \\right)}\\right)\\mathbf{\\hat{k}_{N}}$"
      ],
      "text/plain": [
       "(A_x(N.x, N.y*cos(phi) - N.z*sin(phi), N.y*sin(phi) + N.z*cos(phi)))*N.i + (A_y(N.x, N.y*cos(phi) - N.z*sin(phi), N.y*sin(phi) + N.z*cos(phi))*cos(phi) + A_z(N.x, N.y*cos(phi) - N.z*sin(phi), N.y*sin(phi) + N.z*cos(phi))*sin(phi))*N.j + (-A_y(N.x, N.y*cos(phi) - N.z*sin(phi), N.y*sin(phi) + N.z*cos(phi))*sin(phi) + A_z(N.x, N.y*cos(phi) - N.z*sin(phi), N.y*sin(phi) + N.z*cos(phi))*cos(phi))*N.k"
      ]
     },
     "metadata": {},
     "output_type": "display_data"
    },
    {
     "name": "stdout",
     "output_type": "stream",
     "text": [
      "如果固定x轴，让y,z绕着x轴旋转phi角度，那么 A 在新坐标系中的散度为：\n"
     ]
    },
    {
     "data": {
      "text/latex": [
       "$\\displaystyle \\left(\\sin{\\left(\\phi \\right)} \\left. \\frac{\\partial}{\\partial \\xi_{2}} A_{y}{\\left(\\mathbf{{x}_{N}},\\xi_{2},\\mathbf{{y}_{N}} \\sin{\\left(\\phi \\right)} + \\mathbf{{z}_{N}} \\cos{\\left(\\phi \\right)} \\right)} \\right|_{\\substack{ \\xi_{2}=\\mathbf{{y}_{N}} \\cos{\\left(\\phi \\right)} - \\mathbf{{z}_{N}} \\sin{\\left(\\phi \\right)} }} - \\cos{\\left(\\phi \\right)} \\left. \\frac{\\partial}{\\partial \\xi_{3}} A_{y}{\\left(\\mathbf{{x}_{N}},\\mathbf{{y}_{N}} \\cos{\\left(\\phi \\right)} - \\mathbf{{z}_{N}} \\sin{\\left(\\phi \\right)},\\xi_{3} \\right)} \\right|_{\\substack{ \\xi_{3}=\\mathbf{{y}_{N}} \\sin{\\left(\\phi \\right)} + \\mathbf{{z}_{N}} \\cos{\\left(\\phi \\right)} }}\\right) \\sin{\\left(\\phi \\right)} + \\left(\\sin{\\left(\\phi \\right)} \\left. \\frac{\\partial}{\\partial \\xi_{3}} A_{y}{\\left(\\mathbf{{x}_{N}},\\mathbf{{y}_{N}} \\cos{\\left(\\phi \\right)} - \\mathbf{{z}_{N}} \\sin{\\left(\\phi \\right)},\\xi_{3} \\right)} \\right|_{\\substack{ \\xi_{3}=\\mathbf{{y}_{N}} \\sin{\\left(\\phi \\right)} + \\mathbf{{z}_{N}} \\cos{\\left(\\phi \\right)} }} + \\cos{\\left(\\phi \\right)} \\left. \\frac{\\partial}{\\partial \\xi_{2}} A_{y}{\\left(\\mathbf{{x}_{N}},\\xi_{2},\\mathbf{{y}_{N}} \\sin{\\left(\\phi \\right)} + \\mathbf{{z}_{N}} \\cos{\\left(\\phi \\right)} \\right)} \\right|_{\\substack{ \\xi_{2}=\\mathbf{{y}_{N}} \\cos{\\left(\\phi \\right)} - \\mathbf{{z}_{N}} \\sin{\\left(\\phi \\right)} }}\\right) \\cos{\\left(\\phi \\right)} + \\left(- \\sin{\\left(\\phi \\right)} \\left. \\frac{\\partial}{\\partial \\xi_{2}} A_{z}{\\left(\\mathbf{{x}_{N}},\\xi_{2},\\mathbf{{y}_{N}} \\sin{\\left(\\phi \\right)} + \\mathbf{{z}_{N}} \\cos{\\left(\\phi \\right)} \\right)} \\right|_{\\substack{ \\xi_{2}=\\mathbf{{y}_{N}} \\cos{\\left(\\phi \\right)} - \\mathbf{{z}_{N}} \\sin{\\left(\\phi \\right)} }} + \\cos{\\left(\\phi \\right)} \\left. \\frac{\\partial}{\\partial \\xi_{3}} A_{z}{\\left(\\mathbf{{x}_{N}},\\mathbf{{y}_{N}} \\cos{\\left(\\phi \\right)} - \\mathbf{{z}_{N}} \\sin{\\left(\\phi \\right)},\\xi_{3} \\right)} \\right|_{\\substack{ \\xi_{3}=\\mathbf{{y}_{N}} \\sin{\\left(\\phi \\right)} + \\mathbf{{z}_{N}} \\cos{\\left(\\phi \\right)} }}\\right) \\cos{\\left(\\phi \\right)} + \\left(\\sin{\\left(\\phi \\right)} \\left. \\frac{\\partial}{\\partial \\xi_{3}} A_{z}{\\left(\\mathbf{{x}_{N}},\\mathbf{{y}_{N}} \\cos{\\left(\\phi \\right)} - \\mathbf{{z}_{N}} \\sin{\\left(\\phi \\right)},\\xi_{3} \\right)} \\right|_{\\substack{ \\xi_{3}=\\mathbf{{y}_{N}} \\sin{\\left(\\phi \\right)} + \\mathbf{{z}_{N}} \\cos{\\left(\\phi \\right)} }} + \\cos{\\left(\\phi \\right)} \\left. \\frac{\\partial}{\\partial \\xi_{2}} A_{z}{\\left(\\mathbf{{x}_{N}},\\xi_{2},\\mathbf{{y}_{N}} \\sin{\\left(\\phi \\right)} + \\mathbf{{z}_{N}} \\cos{\\left(\\phi \\right)} \\right)} \\right|_{\\substack{ \\xi_{2}=\\mathbf{{y}_{N}} \\cos{\\left(\\phi \\right)} - \\mathbf{{z}_{N}} \\sin{\\left(\\phi \\right)} }}\\right) \\sin{\\left(\\phi \\right)} + \\frac{\\partial}{\\partial \\mathbf{{x}_{N}}} A_{x}{\\left(\\mathbf{{x}_{N}},\\mathbf{{y}_{N}} \\cos{\\left(\\phi \\right)} - \\mathbf{{z}_{N}} \\sin{\\left(\\phi \\right)},\\mathbf{{y}_{N}} \\sin{\\left(\\phi \\right)} + \\mathbf{{z}_{N}} \\cos{\\left(\\phi \\right)} \\right)}$"
      ],
      "text/plain": [
       "(sin(phi)*Subs(Derivative(A_y(N.x, _xi_2, N.y*sin(phi) + N.z*cos(phi)), _xi_2), _xi_2, N.y*cos(phi) - N.z*sin(phi)) - cos(phi)*Subs(Derivative(A_y(N.x, N.y*cos(phi) - N.z*sin(phi), _xi_3), _xi_3), _xi_3, N.y*sin(phi) + N.z*cos(phi)))*sin(phi) + (sin(phi)*Subs(Derivative(A_y(N.x, N.y*cos(phi) - N.z*sin(phi), _xi_3), _xi_3), _xi_3, N.y*sin(phi) + N.z*cos(phi)) + cos(phi)*Subs(Derivative(A_y(N.x, _xi_2, N.y*sin(phi) + N.z*cos(phi)), _xi_2), _xi_2, N.y*cos(phi) - N.z*sin(phi)))*cos(phi) + (-sin(phi)*Subs(Derivative(A_z(N.x, _xi_2, N.y*sin(phi) + N.z*cos(phi)), _xi_2), _xi_2, N.y*cos(phi) - N.z*sin(phi)) + cos(phi)*Subs(Derivative(A_z(N.x, N.y*cos(phi) - N.z*sin(phi), _xi_3), _xi_3), _xi_3, N.y*sin(phi) + N.z*cos(phi)))*cos(phi) + (sin(phi)*Subs(Derivative(A_z(N.x, N.y*cos(phi) - N.z*sin(phi), _xi_3), _xi_3), _xi_3, N.y*sin(phi) + N.z*cos(phi)) + cos(phi)*Subs(Derivative(A_z(N.x, _xi_2, N.y*sin(phi) + N.z*cos(phi)), _xi_2), _xi_2, N.y*cos(phi) - N.z*sin(phi)))*sin(phi) + Derivative(A_x(N.x, N.y*cos(phi) - N.z*sin(phi), N.y*sin(phi) + N.z*cos(phi)), N.x)"
      ]
     },
     "metadata": {},
     "output_type": "display_data"
    },
    {
     "name": "stdout",
     "output_type": "stream",
     "text": [
      "可见梯度是满足矢量变换规律的，也可以采用更加明显的形式：\n"
     ]
    },
    {
     "data": {
      "text/latex": [
       "$\\displaystyle \\left(\\sin{\\left(\\phi \\right)} \\left. \\frac{\\partial}{\\partial \\xi_{2}} A_{y}{\\left(\\mathbf{{x}_{O}},\\xi_{2},\\mathbf{{z}_{O}} \\right)} \\right|_{\\substack{ \\xi_{2}=\\mathbf{{y}_{N}} \\cos{\\left(\\phi \\right)} - \\mathbf{{z}_{N}} \\sin{\\left(\\phi \\right)} }} - \\cos{\\left(\\phi \\right)} \\left. \\frac{\\partial}{\\partial \\xi_{3}} A_{y}{\\left(\\mathbf{{x}_{O}},\\mathbf{{y}_{N}} \\cos{\\left(\\phi \\right)} - \\mathbf{{z}_{N}} \\sin{\\left(\\phi \\right)},\\xi_{3} \\right)} \\right|_{\\substack{ \\xi_{3}=\\mathbf{{z}_{O}} }}\\right) \\sin{\\left(\\phi \\right)} + \\left(\\sin{\\left(\\phi \\right)} \\left. \\frac{\\partial}{\\partial \\xi_{3}} A_{y}{\\left(\\mathbf{{x}_{O}},\\mathbf{{y}_{N}} \\cos{\\left(\\phi \\right)} - \\mathbf{{z}_{N}} \\sin{\\left(\\phi \\right)},\\xi_{3} \\right)} \\right|_{\\substack{ \\xi_{3}=\\mathbf{{z}_{O}} }} + \\cos{\\left(\\phi \\right)} \\left. \\frac{\\partial}{\\partial \\xi_{2}} A_{y}{\\left(\\mathbf{{x}_{O}},\\xi_{2},\\mathbf{{z}_{O}} \\right)} \\right|_{\\substack{ \\xi_{2}=\\mathbf{{y}_{N}} \\cos{\\left(\\phi \\right)} - \\mathbf{{z}_{N}} \\sin{\\left(\\phi \\right)} }}\\right) \\cos{\\left(\\phi \\right)} + \\left(- \\sin{\\left(\\phi \\right)} \\left. \\frac{\\partial}{\\partial \\xi_{2}} A_{z}{\\left(\\mathbf{{x}_{O}},\\xi_{2},\\mathbf{{z}_{O}} \\right)} \\right|_{\\substack{ \\xi_{2}=\\mathbf{{y}_{N}} \\cos{\\left(\\phi \\right)} - \\mathbf{{z}_{N}} \\sin{\\left(\\phi \\right)} }} + \\cos{\\left(\\phi \\right)} \\left. \\frac{\\partial}{\\partial \\xi_{3}} A_{z}{\\left(\\mathbf{{x}_{O}},\\mathbf{{y}_{N}} \\cos{\\left(\\phi \\right)} - \\mathbf{{z}_{N}} \\sin{\\left(\\phi \\right)},\\xi_{3} \\right)} \\right|_{\\substack{ \\xi_{3}=\\mathbf{{z}_{O}} }}\\right) \\cos{\\left(\\phi \\right)} + \\left(\\sin{\\left(\\phi \\right)} \\left. \\frac{\\partial}{\\partial \\xi_{3}} A_{z}{\\left(\\mathbf{{x}_{O}},\\mathbf{{y}_{N}} \\cos{\\left(\\phi \\right)} - \\mathbf{{z}_{N}} \\sin{\\left(\\phi \\right)},\\xi_{3} \\right)} \\right|_{\\substack{ \\xi_{3}=\\mathbf{{z}_{O}} }} + \\cos{\\left(\\phi \\right)} \\left. \\frac{\\partial}{\\partial \\xi_{2}} A_{z}{\\left(\\mathbf{{x}_{O}},\\xi_{2},\\mathbf{{z}_{O}} \\right)} \\right|_{\\substack{ \\xi_{2}=\\mathbf{{y}_{N}} \\cos{\\left(\\phi \\right)} - \\mathbf{{z}_{N}} \\sin{\\left(\\phi \\right)} }}\\right) \\sin{\\left(\\phi \\right)} + \\frac{\\partial}{\\partial \\mathbf{{x}_{O}}} A_{x}{\\left(\\mathbf{{x}_{O}},\\mathbf{{y}_{N}} \\cos{\\left(\\phi \\right)} - \\mathbf{{z}_{N}} \\sin{\\left(\\phi \\right)},\\mathbf{{z}_{O}} \\right)}$"
      ],
      "text/plain": [
       "(sin(phi)*Subs(Derivative(A_y(O.x, _xi_2, O.z), _xi_2), _xi_2, N.y*cos(phi) - N.z*sin(phi)) - cos(phi)*Subs(Derivative(A_y(O.x, N.y*cos(phi) - N.z*sin(phi), _xi_3), _xi_3), _xi_3, O.z))*sin(phi) + (sin(phi)*Subs(Derivative(A_y(O.x, N.y*cos(phi) - N.z*sin(phi), _xi_3), _xi_3), _xi_3, O.z) + cos(phi)*Subs(Derivative(A_y(O.x, _xi_2, O.z), _xi_2), _xi_2, N.y*cos(phi) - N.z*sin(phi)))*cos(phi) + (-sin(phi)*Subs(Derivative(A_z(O.x, _xi_2, O.z), _xi_2), _xi_2, N.y*cos(phi) - N.z*sin(phi)) + cos(phi)*Subs(Derivative(A_z(O.x, N.y*cos(phi) - N.z*sin(phi), _xi_3), _xi_3), _xi_3, O.z))*cos(phi) + (sin(phi)*Subs(Derivative(A_z(O.x, N.y*cos(phi) - N.z*sin(phi), _xi_3), _xi_3), _xi_3, O.z) + cos(phi)*Subs(Derivative(A_z(O.x, _xi_2, O.z), _xi_2), _xi_2, N.y*cos(phi) - N.z*sin(phi)))*sin(phi) + Derivative(A_x(O.x, N.y*cos(phi) - N.z*sin(phi), O.z), O.x)"
      ]
     },
     "metadata": {},
     "output_type": "display_data"
    },
    {
     "name": "stdout",
     "output_type": "stream",
     "text": [
      "化简：\n"
     ]
    },
    {
     "data": {
      "text/latex": [
       "$\\displaystyle \\sin^{2}{\\left(\\phi \\right)} \\frac{\\partial}{\\partial \\mathbf{{y}_{O}}} A_{y}{\\left(\\mathbf{{x}_{O}},\\mathbf{{y}_{O}},\\mathbf{{z}_{O}} \\right)} + \\sin^{2}{\\left(\\phi \\right)} \\frac{\\partial}{\\partial \\mathbf{{z}_{O}}} A_{z}{\\left(\\mathbf{{x}_{O}},\\mathbf{{y}_{O}},\\mathbf{{z}_{O}} \\right)} + \\cos^{2}{\\left(\\phi \\right)} \\frac{\\partial}{\\partial \\mathbf{{y}_{O}}} A_{y}{\\left(\\mathbf{{x}_{O}},\\mathbf{{y}_{O}},\\mathbf{{z}_{O}} \\right)} + \\cos^{2}{\\left(\\phi \\right)} \\frac{\\partial}{\\partial \\mathbf{{z}_{O}}} A_{z}{\\left(\\mathbf{{x}_{O}},\\mathbf{{y}_{O}},\\mathbf{{z}_{O}} \\right)} + \\frac{\\partial}{\\partial \\mathbf{{x}_{O}}} A_{x}{\\left(\\mathbf{{x}_{O}},\\mathbf{{y}_{O}},\\mathbf{{z}_{O}} \\right)}$"
      ],
      "text/plain": [
       "sin(phi)**2*Derivative(A_y(O.x, O.y, O.z), O.y) + sin(phi)**2*Derivative(A_z(O.x, O.y, O.z), O.z) + cos(phi)**2*Derivative(A_y(O.x, O.y, O.z), O.y) + cos(phi)**2*Derivative(A_z(O.x, O.y, O.z), O.z) + Derivative(A_x(O.x, O.y, O.z), O.x)"
      ]
     },
     "metadata": {},
     "output_type": "display_data"
    }
   ],
   "source": [
    "import sympy as sp\n",
    "from sympy.vector import CoordSys3D, divergence\n",
    "from sympy import Function\n",
    "from IPython.display import display\n",
    "\n",
    "# 创建一个三维坐标系\n",
    "O = CoordSys3D('O')\n",
    "\n",
    "# 定义一个抽象矢量场\n",
    "A_x, A_y, A_z = Function('A_x')(O.x, O.y, O.z), Function('A_y')(O.x, O.y, O.z), Function('A_z')(O.x, O.y, O.z)\n",
    "A = A_x*O.i + A_y*O.j + A_z*O.k  # 抽象向量场 A\n",
    "print(\"抽象向量场 A 为：\")\n",
    "display(A)\n",
    "\n",
    "div_A = divergence(A, O)\n",
    "print(\"散度 ∇·A:\")\n",
    "display(div_A)\n",
    "\n",
    "# 创建一个新三维坐标系\n",
    "N = CoordSys3D('N')\n",
    "# 旋转了phi 的角度\n",
    "phi = sp.symbols('phi')\n",
    "# 得到 A 在新坐标系中的表示\n",
    "A_new = A.subs({O.i: N.i, O.j: (sp.cos(phi)*N.j + (-sp.sin(phi)*N.k)), O.k: (sp.sin(phi)*N.j  + sp.cos(phi)*N.k)})\n",
    "print(\"替换 A 中的基底后：\")\n",
    "display(A_new)\n",
    "\n",
    "A_new = A_new.subs({O.x: N.x, O.y: (sp.cos(phi)*N.y - sp.sin(phi)*N.z), O.z: (sp.sin(phi)*N.y  + sp.cos(phi)*N.z)})\n",
    "print(\"替换 A 中的坐标后：\")\n",
    "display(A_new)\n",
    "\n",
    "grad_A_new = divergence(A_new, N)\n",
    "print('如果固定x轴，让y,z绕着x轴旋转phi角度，那么 A 在新坐标系中的散度为：')\n",
    "display(grad_A_new)\n",
    "print('可见梯度是满足矢量变换规律的，也可以采用更加明显的形式：')\n",
    "display(grad_A_new.subs({N.x: O.x, (sp.cos(phi)*N.y + sp.sin(phi)*N.z): O.y, (sp.sin(phi)*N.y  + sp.cos(phi)*N.z): O.z}))\n",
    "print('化简：')\n",
    "display(sp.simplify(grad_A_new.subs({N.x: O.x, (sp.cos(phi)*N.y - sp.sin(phi)*N.z): O.y, (sp.sin(phi)*N.y  + sp.cos(phi)*N.z): O.z})))"
   ]
  }
 ],
 "metadata": {
  "kernelspec": {
   "display_name": "d2l",
   "language": "python",
   "name": "python3"
  },
  "language_info": {
   "codemirror_mode": {
    "name": "ipython",
    "version": 3
   },
   "file_extension": ".py",
   "mimetype": "text/x-python",
   "name": "python",
   "nbconvert_exporter": "python",
   "pygments_lexer": "ipython3",
   "version": "3.8.19"
  }
 },
 "nbformat": 4,
 "nbformat_minor": 2
}
