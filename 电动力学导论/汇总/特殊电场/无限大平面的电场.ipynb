{
 "cells": [
  {
   "cell_type": "markdown",
   "metadata": {},
   "source": [
    "## 例题2.4\n",
    "\n",
    "一个均匀带电的无限大平面，电荷面密度为 $\\sigma$，求出它产生的电场。\n",
    "\n",
    "解：\n",
    "画出一个“高斯盒面”，盒子的顶面处于平面上方，底面处于平面的下方，顶面和底面与平面的距离相同(见图2.22)。\n",
    "对盒面应用高斯定理。\n",
    "对现在的情况，$Q_{\\rm enc} = \\sigma A$，其中 $A$ 是被盒子所包含的带电平面的面积，它等于盒子的顶面积或底面积。\n",
    "由对称性，电场 $\\boldsymbol E$ 的方向是垂直于平面的(如果平面带正电，是外指向的)，这样盒子侧面的积分为零，仅顶面和底面有贡献，而在顶面和底面上电场的大小一样，所以\n",
    "$$\n",
    "  \\oint_S \\boldsymbol E \\cdot \\text d\\boldsymbol a = 2A|\\boldsymbol E|\n",
    "$$\n",
    "因而\n",
    "$$\n",
    "  \\boldsymbol E = \\frac{\\sigma}{2\\varepsilon_0}\\hat{\\boldsymbol n}\n",
    "  \\tag{2.17}\n",
    "$$\n",
    "这里，$\\hat{\\boldsymbol  n}$ 是从平面外指的单位矢量。\n",
    "在习题2.6曾用一个很麻烦的方法得到过这个结果。\n",
    "\n",
    "乍看起来，这个结果令人不可思议。\n",
    "一个无限大平面产生的电场与到平面的距离无关。"
   ]
  }
 ],
 "metadata": {
  "kernelspec": {
   "display_name": "d2l",
   "language": "python",
   "name": "python3"
  },
  "language_info": {
   "name": "python",
   "version": "3.8.19"
  }
 },
 "nbformat": 4,
 "nbformat_minor": 2
}
