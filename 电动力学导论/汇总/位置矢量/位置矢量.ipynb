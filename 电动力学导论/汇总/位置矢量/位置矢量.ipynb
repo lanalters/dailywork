{
 "cells": [
  {
   "cell_type": "markdown",
   "metadata": {},
   "source": [
    "### 例题1.3\n",
    "\n",
    "求出 $r$ (位置矢量的大小)的梯度。\n",
    "\n",
    "解：\n",
    "$$\n",
    "\\begin{split}\n",
    "  \\nabla r\n",
    "  = & \\frac{x\\hat{\\boldsymbol x} + y\\hat{\\boldsymbol y} + z\\hat{\\boldsymbol z}}{r} \\\\\n",
    "  = & \\frac{\\boldsymbol r}{r} = \\hat{\\boldsymbol r}\n",
    "\\end{split}\n",
    "$$\n",
    "\n",
    "鉴于 $r$ 是一个经典的函数，我们总是用 r_field 来命名它，它的模长记为 field_distance。\n",
    "对应的源点 $r'$，记为 r_source，源点的模长记为 source_distance。\n",
    "间隔矢量 r_separation，模长记为 separation_distance。"
   ]
  },
  {
   "cell_type": "markdown",
   "metadata": {},
   "source": [
    "#### 接下来我们用 python 计算 r 的梯度"
   ]
  },
  {
   "cell_type": "code",
   "execution_count": null,
   "metadata": {},
   "outputs": [],
   "source": [
    "\n",
    "import sympy as sp\n",
    "from sympy.vector import CoordSys3D, gradient\n",
    "from IPython.display import display\n",
    "\n",
    "# 创建一个三维坐标系\n",
    "N = CoordSys3D('N')\n",
    "\n",
    "# 定义标量场位置矢量的模长\n",
    "field_distance = sp.sqrt( N.x**2 + N.y**2 + N.z**2 )\n",
    "\n",
    "# 使用 gradient 函数计算梯度\n",
    "grad_field_distance = gradient(field_distance)\n",
    "\n",
    "# 输出梯度\n",
    "print(\"位置矢量模长的梯度 (∇r):\")\n",
    "display(grad_field_distance)"
   ]
  },
  {
   "cell_type": "code",
   "execution_count": null,
   "metadata": {},
   "outputs": [],
   "source": []
  },
  {
   "cell_type": "markdown",
   "metadata": {},
   "source": [
    "## 习题 1.13\n",
    "\n",
    "设 $\\overrightarrow{\\mathfrak r}$ 是从固定点 $(x', y', z')$ 到点 $(x, y, z)$ 的间隔矢量，$\\mathfrak r$ 是它的长度。\n",
    "证明：\n",
    "$$\n",
    "  \\nabla(\\mathfrak r^2) = 2 \\overrightarrow{\\mathfrak r}\n",
    "$$\n",
    "$$\n",
    "  \\nabla \\left( \\frac{1}{\\mathfrak r} \\right) = - \\frac{\\hat{\\mathfrak r}}{\\mathfrak r^2}\n",
    "$$\n",
    "\n",
    "$\\nabla(\\mathfrak r^n)$ 的一般表示是什么?\n"
   ]
  },
  {
   "cell_type": "code",
   "execution_count": 2,
   "metadata": {},
   "outputs": [
    {
     "name": "stdout",
     "output_type": "stream",
     "text": [
      "间隔矢量的模长是：\n"
     ]
    },
    {
     "data": {
      "text/latex": [
       "$\\displaystyle \\sqrt{\\left(\\mathbf{{x}_{N}} - source_{x}\\right)^{2} + \\left(\\mathbf{{y}_{N}} - source_{y}\\right)^{2} + \\left(\\mathbf{{z}_{N}} - source_{z}\\right)^{2}}$"
      ],
      "text/plain": [
       "sqrt((N.x - source_x)**2 + (N.y - source_y)**2 + (N.z - source_z)**2)"
      ]
     },
     "metadata": {},
     "output_type": "display_data"
    },
    {
     "name": "stdout",
     "output_type": "stream",
     "text": [
      "第一问所考察函数：\n"
     ]
    },
    {
     "data": {
      "text/latex": [
       "$\\displaystyle \\left(\\mathbf{{x}_{N}} - source_{x}\\right)^{2} + \\left(\\mathbf{{y}_{N}} - source_{y}\\right)^{2} + \\left(\\mathbf{{z}_{N}} - source_{z}\\right)^{2}$"
      ],
      "text/plain": [
       "(N.x - source_x)**2 + (N.y - source_y)**2 + (N.z - source_z)**2"
      ]
     },
     "metadata": {},
     "output_type": "display_data"
    },
    {
     "name": "stdout",
     "output_type": "stream",
     "text": [
      "间隔矢量模长的梯度:\n"
     ]
    },
    {
     "data": {
      "text/latex": [
       "$\\displaystyle \\left(2 \\mathbf{{x}_{N}} - 2 source_{x}\\right)\\mathbf{\\hat{i}_{N}} + \\left(2 \\mathbf{{y}_{N}} - 2 source_{y}\\right)\\mathbf{\\hat{j}_{N}} + \\left(2 \\mathbf{{z}_{N}} - 2 source_{z}\\right)\\mathbf{\\hat{k}_{N}}$"
      ],
      "text/plain": [
       "(2*N.x - 2*source_x)*N.i + (2*N.y - 2*source_y)*N.j + (2*N.z - 2*source_z)*N.k"
      ]
     },
     "metadata": {},
     "output_type": "display_data"
    },
    {
     "name": "stdout",
     "output_type": "stream",
     "text": [
      "间隔矢量模长的梯度是间隔矢量的两倍：\n"
     ]
    },
    {
     "data": {
      "text/latex": [
       "$\\displaystyle \\left(2 \\mathbf{{x}_{N}} - 2 source_{x}\\right)\\mathbf{\\hat{i}_{N}} + \\left(2 \\mathbf{{y}_{N}} - 2 source_{y}\\right)\\mathbf{\\hat{j}_{N}} + \\left(2 \\mathbf{{z}_{N}} - 2 source_{z}\\right)\\mathbf{\\hat{k}_{N}}$"
      ],
      "text/plain": [
       "(2*N.x - 2*source_x)*N.i + (2*N.y - 2*source_y)*N.j + (2*N.z - 2*source_z)*N.k"
      ]
     },
     "metadata": {},
     "output_type": "display_data"
    },
    {
     "name": "stdout",
     "output_type": "stream",
     "text": [
      "第二问所考察函数是：\n"
     ]
    },
    {
     "data": {
      "text/latex": [
       "$\\displaystyle \\frac{1}{\\sqrt{\\left(\\mathbf{{x}_{N}} - source_{x}\\right)^{2} + \\left(\\mathbf{{y}_{N}} - source_{y}\\right)^{2} + \\left(\\mathbf{{z}_{N}} - source_{z}\\right)^{2}}}$"
      ],
      "text/plain": [
       "1/sqrt((N.x - source_x)**2 + (N.y - source_y)**2 + (N.z - source_z)**2)"
      ]
     },
     "metadata": {},
     "output_type": "display_data"
    },
    {
     "name": "stdout",
     "output_type": "stream",
     "text": [
      "间隔矢量模长的倒数的梯度 (∇1/r):\n"
     ]
    },
    {
     "data": {
      "text/latex": [
       "$\\displaystyle \\left(\\frac{- \\mathbf{{x}_{N}} + source_{x}}{\\left(\\left(\\mathbf{{x}_{N}} - source_{x}\\right)^{2} + \\left(\\mathbf{{y}_{N}} - source_{y}\\right)^{2} + \\left(\\mathbf{{z}_{N}} - source_{z}\\right)^{2}\\right)^{\\frac{3}{2}}}\\right)\\mathbf{\\hat{i}_{N}} + \\left(\\frac{- \\mathbf{{y}_{N}} + source_{y}}{\\left(\\left(\\mathbf{{x}_{N}} - source_{x}\\right)^{2} + \\left(\\mathbf{{y}_{N}} - source_{y}\\right)^{2} + \\left(\\mathbf{{z}_{N}} - source_{z}\\right)^{2}\\right)^{\\frac{3}{2}}}\\right)\\mathbf{\\hat{j}_{N}} + \\left(\\frac{- \\mathbf{{z}_{N}} + source_{z}}{\\left(\\left(\\mathbf{{x}_{N}} - source_{x}\\right)^{2} + \\left(\\mathbf{{y}_{N}} - source_{y}\\right)^{2} + \\left(\\mathbf{{z}_{N}} - source_{z}\\right)^{2}\\right)^{\\frac{3}{2}}}\\right)\\mathbf{\\hat{k}_{N}}$"
      ],
      "text/plain": [
       "((-N.x + source_x)/((N.x - source_x)**2 + (N.y - source_y)**2 + (N.z - source_z)**2)**(3/2))*N.i + ((-N.y + source_y)/((N.x - source_x)**2 + (N.y - source_y)**2 + (N.z - source_z)**2)**(3/2))*N.j + ((-N.z + source_z)/((N.x - source_x)**2 + (N.y - source_y)**2 + (N.z - source_z)**2)**(3/2))*N.k"
      ]
     },
     "metadata": {},
     "output_type": "display_data"
    },
    {
     "name": "stdout",
     "output_type": "stream",
     "text": [
      "就等于右式\n"
     ]
    },
    {
     "data": {
      "text/latex": [
       "$\\displaystyle \\left(\\frac{- \\mathbf{{x}_{N}} + source_{x}}{\\left(\\left(\\mathbf{{x}_{N}} - source_{x}\\right)^{2} + \\left(\\mathbf{{y}_{N}} - source_{y}\\right)^{2} + \\left(\\mathbf{{z}_{N}} - source_{z}\\right)^{2}\\right)^{\\frac{3}{2}}}\\right)\\mathbf{\\hat{i}_{N}} + \\left(\\frac{- \\mathbf{{y}_{N}} + source_{y}}{\\left(\\left(\\mathbf{{x}_{N}} - source_{x}\\right)^{2} + \\left(\\mathbf{{y}_{N}} - source_{y}\\right)^{2} + \\left(\\mathbf{{z}_{N}} - source_{z}\\right)^{2}\\right)^{\\frac{3}{2}}}\\right)\\mathbf{\\hat{j}_{N}} + \\left(\\frac{- \\mathbf{{z}_{N}} + source_{z}}{\\left(\\left(\\mathbf{{x}_{N}} - source_{x}\\right)^{2} + \\left(\\mathbf{{y}_{N}} - source_{y}\\right)^{2} + \\left(\\mathbf{{z}_{N}} - source_{z}\\right)^{2}\\right)^{\\frac{3}{2}}}\\right)\\mathbf{\\hat{k}_{N}}$"
      ],
      "text/plain": [
       "((-N.x + source_x)/((N.x - source_x)**2 + (N.y - source_y)**2 + (N.z - source_z)**2)**(3/2))*N.i + ((-N.y + source_y)/((N.x - source_x)**2 + (N.y - source_y)**2 + (N.z - source_z)**2)**(3/2))*N.j + ((-N.z + source_z)/((N.x - source_x)**2 + (N.y - source_y)**2 + (N.z - source_z)**2)**(3/2))*N.k"
      ]
     },
     "metadata": {},
     "output_type": "display_data"
    },
    {
     "name": "stdout",
     "output_type": "stream",
     "text": [
      "间隔矢量模长的 1 次方的梯度:\n"
     ]
    },
    {
     "data": {
      "text/latex": [
       "$\\displaystyle \\left(\\frac{- \\mathbf{{x}_{N}} + source_{x}}{\\left(\\left(\\mathbf{{x}_{N}} - source_{x}\\right)^{2} + \\left(\\mathbf{{y}_{N}} - source_{y}\\right)^{2} + \\left(\\mathbf{{z}_{N}} - source_{z}\\right)^{2}\\right)^{\\frac{3}{2}}}\\right)\\mathbf{\\hat{i}_{N}} + \\left(\\frac{- \\mathbf{{y}_{N}} + source_{y}}{\\left(\\left(\\mathbf{{x}_{N}} - source_{x}\\right)^{2} + \\left(\\mathbf{{y}_{N}} - source_{y}\\right)^{2} + \\left(\\mathbf{{z}_{N}} - source_{z}\\right)^{2}\\right)^{\\frac{3}{2}}}\\right)\\mathbf{\\hat{j}_{N}} + \\left(\\frac{- \\mathbf{{z}_{N}} + source_{z}}{\\left(\\left(\\mathbf{{x}_{N}} - source_{x}\\right)^{2} + \\left(\\mathbf{{y}_{N}} - source_{y}\\right)^{2} + \\left(\\mathbf{{z}_{N}} - source_{z}\\right)^{2}\\right)^{\\frac{3}{2}}}\\right)\\mathbf{\\hat{k}_{N}}$"
      ],
      "text/plain": [
       "((-N.x + source_x)/((N.x - source_x)**2 + (N.y - source_y)**2 + (N.z - source_z)**2)**(3/2))*N.i + ((-N.y + source_y)/((N.x - source_x)**2 + (N.y - source_y)**2 + (N.z - source_z)**2)**(3/2))*N.j + ((-N.z + source_z)/((N.x - source_x)**2 + (N.y - source_y)**2 + (N.z - source_z)**2)**(3/2))*N.k"
      ]
     },
     "metadata": {},
     "output_type": "display_data"
    },
    {
     "name": "stdout",
     "output_type": "stream",
     "text": [
      "间隔矢量模长的 2 次方的梯度:\n"
     ]
    },
    {
     "data": {
      "text/latex": [
       "$\\displaystyle \\left(\\frac{- 2 \\mathbf{{x}_{N}} + 2 source_{x}}{\\left(\\left(\\mathbf{{x}_{N}} - source_{x}\\right)^{2} + \\left(\\mathbf{{y}_{N}} - source_{y}\\right)^{2} + \\left(\\mathbf{{z}_{N}} - source_{z}\\right)^{2}\\right)^{2}}\\right)\\mathbf{\\hat{i}_{N}} + \\left(\\frac{- 2 \\mathbf{{y}_{N}} + 2 source_{y}}{\\left(\\left(\\mathbf{{x}_{N}} - source_{x}\\right)^{2} + \\left(\\mathbf{{y}_{N}} - source_{y}\\right)^{2} + \\left(\\mathbf{{z}_{N}} - source_{z}\\right)^{2}\\right)^{2}}\\right)\\mathbf{\\hat{j}_{N}} + \\left(\\frac{- 2 \\mathbf{{z}_{N}} + 2 source_{z}}{\\left(\\left(\\mathbf{{x}_{N}} - source_{x}\\right)^{2} + \\left(\\mathbf{{y}_{N}} - source_{y}\\right)^{2} + \\left(\\mathbf{{z}_{N}} - source_{z}\\right)^{2}\\right)^{2}}\\right)\\mathbf{\\hat{k}_{N}}$"
      ],
      "text/plain": [
       "((-2*N.x + 2*source_x)/((N.x - source_x)**2 + (N.y - source_y)**2 + (N.z - source_z)**2)**2)*N.i + ((-2*N.y + 2*source_y)/((N.x - source_x)**2 + (N.y - source_y)**2 + (N.z - source_z)**2)**2)*N.j + ((-2*N.z + 2*source_z)/((N.x - source_x)**2 + (N.y - source_y)**2 + (N.z - source_z)**2)**2)*N.k"
      ]
     },
     "metadata": {},
     "output_type": "display_data"
    },
    {
     "name": "stdout",
     "output_type": "stream",
     "text": [
      "间隔矢量模长的 3 次方的梯度:\n"
     ]
    },
    {
     "data": {
      "text/latex": [
       "$\\displaystyle \\left(\\frac{- 3 \\mathbf{{x}_{N}} + 3 source_{x}}{\\left(\\left(\\mathbf{{x}_{N}} - source_{x}\\right)^{2} + \\left(\\mathbf{{y}_{N}} - source_{y}\\right)^{2} + \\left(\\mathbf{{z}_{N}} - source_{z}\\right)^{2}\\right)^{\\frac{5}{2}}}\\right)\\mathbf{\\hat{i}_{N}} + \\left(\\frac{- 3 \\mathbf{{y}_{N}} + 3 source_{y}}{\\left(\\left(\\mathbf{{x}_{N}} - source_{x}\\right)^{2} + \\left(\\mathbf{{y}_{N}} - source_{y}\\right)^{2} + \\left(\\mathbf{{z}_{N}} - source_{z}\\right)^{2}\\right)^{\\frac{5}{2}}}\\right)\\mathbf{\\hat{j}_{N}} + \\left(\\frac{- 3 \\mathbf{{z}_{N}} + 3 source_{z}}{\\left(\\left(\\mathbf{{x}_{N}} - source_{x}\\right)^{2} + \\left(\\mathbf{{y}_{N}} - source_{y}\\right)^{2} + \\left(\\mathbf{{z}_{N}} - source_{z}\\right)^{2}\\right)^{\\frac{5}{2}}}\\right)\\mathbf{\\hat{k}_{N}}$"
      ],
      "text/plain": [
       "((-3*N.x + 3*source_x)/((N.x - source_x)**2 + (N.y - source_y)**2 + (N.z - source_z)**2)**(5/2))*N.i + ((-3*N.y + 3*source_y)/((N.x - source_x)**2 + (N.y - source_y)**2 + (N.z - source_z)**2)**(5/2))*N.j + ((-3*N.z + 3*source_z)/((N.x - source_x)**2 + (N.y - source_y)**2 + (N.z - source_z)**2)**(5/2))*N.k"
      ]
     },
     "metadata": {},
     "output_type": "display_data"
    },
    {
     "name": "stdout",
     "output_type": "stream",
     "text": [
      "间隔矢量模长的 4 次方的梯度:\n"
     ]
    },
    {
     "data": {
      "text/latex": [
       "$\\displaystyle \\left(\\frac{- 4 \\mathbf{{x}_{N}} + 4 source_{x}}{\\left(\\left(\\mathbf{{x}_{N}} - source_{x}\\right)^{2} + \\left(\\mathbf{{y}_{N}} - source_{y}\\right)^{2} + \\left(\\mathbf{{z}_{N}} - source_{z}\\right)^{2}\\right)^{3}}\\right)\\mathbf{\\hat{i}_{N}} + \\left(\\frac{- 4 \\mathbf{{y}_{N}} + 4 source_{y}}{\\left(\\left(\\mathbf{{x}_{N}} - source_{x}\\right)^{2} + \\left(\\mathbf{{y}_{N}} - source_{y}\\right)^{2} + \\left(\\mathbf{{z}_{N}} - source_{z}\\right)^{2}\\right)^{3}}\\right)\\mathbf{\\hat{j}_{N}} + \\left(\\frac{- 4 \\mathbf{{z}_{N}} + 4 source_{z}}{\\left(\\left(\\mathbf{{x}_{N}} - source_{x}\\right)^{2} + \\left(\\mathbf{{y}_{N}} - source_{y}\\right)^{2} + \\left(\\mathbf{{z}_{N}} - source_{z}\\right)^{2}\\right)^{3}}\\right)\\mathbf{\\hat{k}_{N}}$"
      ],
      "text/plain": [
       "((-4*N.x + 4*source_x)/((N.x - source_x)**2 + (N.y - source_y)**2 + (N.z - source_z)**2)**3)*N.i + ((-4*N.y + 4*source_y)/((N.x - source_x)**2 + (N.y - source_y)**2 + (N.z - source_z)**2)**3)*N.j + ((-4*N.z + 4*source_z)/((N.x - source_x)**2 + (N.y - source_y)**2 + (N.z - source_z)**2)**3)*N.k"
      ]
     },
     "metadata": {},
     "output_type": "display_data"
    },
    {
     "name": "stdout",
     "output_type": "stream",
     "text": [
      "间隔矢量模长的 5 次方的梯度:\n"
     ]
    },
    {
     "data": {
      "text/latex": [
       "$\\displaystyle \\left(\\frac{- 5 \\mathbf{{x}_{N}} + 5 source_{x}}{\\left(\\left(\\mathbf{{x}_{N}} - source_{x}\\right)^{2} + \\left(\\mathbf{{y}_{N}} - source_{y}\\right)^{2} + \\left(\\mathbf{{z}_{N}} - source_{z}\\right)^{2}\\right)^{\\frac{7}{2}}}\\right)\\mathbf{\\hat{i}_{N}} + \\left(\\frac{- 5 \\mathbf{{y}_{N}} + 5 source_{y}}{\\left(\\left(\\mathbf{{x}_{N}} - source_{x}\\right)^{2} + \\left(\\mathbf{{y}_{N}} - source_{y}\\right)^{2} + \\left(\\mathbf{{z}_{N}} - source_{z}\\right)^{2}\\right)^{\\frac{7}{2}}}\\right)\\mathbf{\\hat{j}_{N}} + \\left(\\frac{- 5 \\mathbf{{z}_{N}} + 5 source_{z}}{\\left(\\left(\\mathbf{{x}_{N}} - source_{x}\\right)^{2} + \\left(\\mathbf{{y}_{N}} - source_{y}\\right)^{2} + \\left(\\mathbf{{z}_{N}} - source_{z}\\right)^{2}\\right)^{\\frac{7}{2}}}\\right)\\mathbf{\\hat{k}_{N}}$"
      ],
      "text/plain": [
       "((-5*N.x + 5*source_x)/((N.x - source_x)**2 + (N.y - source_y)**2 + (N.z - source_z)**2)**(7/2))*N.i + ((-5*N.y + 5*source_y)/((N.x - source_x)**2 + (N.y - source_y)**2 + (N.z - source_z)**2)**(7/2))*N.j + ((-5*N.z + 5*source_z)/((N.x - source_x)**2 + (N.y - source_y)**2 + (N.z - source_z)**2)**(7/2))*N.k"
      ]
     },
     "metadata": {},
     "output_type": "display_data"
    },
    {
     "name": "stdout",
     "output_type": "stream",
     "text": [
      "间隔矢量模长的 6 次方的梯度:\n"
     ]
    },
    {
     "data": {
      "text/latex": [
       "$\\displaystyle \\left(\\frac{- 6 \\mathbf{{x}_{N}} + 6 source_{x}}{\\left(\\left(\\mathbf{{x}_{N}} - source_{x}\\right)^{2} + \\left(\\mathbf{{y}_{N}} - source_{y}\\right)^{2} + \\left(\\mathbf{{z}_{N}} - source_{z}\\right)^{2}\\right)^{4}}\\right)\\mathbf{\\hat{i}_{N}} + \\left(\\frac{- 6 \\mathbf{{y}_{N}} + 6 source_{y}}{\\left(\\left(\\mathbf{{x}_{N}} - source_{x}\\right)^{2} + \\left(\\mathbf{{y}_{N}} - source_{y}\\right)^{2} + \\left(\\mathbf{{z}_{N}} - source_{z}\\right)^{2}\\right)^{4}}\\right)\\mathbf{\\hat{j}_{N}} + \\left(\\frac{- 6 \\mathbf{{z}_{N}} + 6 source_{z}}{\\left(\\left(\\mathbf{{x}_{N}} - source_{x}\\right)^{2} + \\left(\\mathbf{{y}_{N}} - source_{y}\\right)^{2} + \\left(\\mathbf{{z}_{N}} - source_{z}\\right)^{2}\\right)^{4}}\\right)\\mathbf{\\hat{k}_{N}}$"
      ],
      "text/plain": [
       "((-6*N.x + 6*source_x)/((N.x - source_x)**2 + (N.y - source_y)**2 + (N.z - source_z)**2)**4)*N.i + ((-6*N.y + 6*source_y)/((N.x - source_x)**2 + (N.y - source_y)**2 + (N.z - source_z)**2)**4)*N.j + ((-6*N.z + 6*source_z)/((N.x - source_x)**2 + (N.y - source_y)**2 + (N.z - source_z)**2)**4)*N.k"
      ]
     },
     "metadata": {},
     "output_type": "display_data"
    },
    {
     "name": "stdout",
     "output_type": "stream",
     "text": [
      "间隔矢量模长的 7 次方的梯度:\n"
     ]
    },
    {
     "data": {
      "text/latex": [
       "$\\displaystyle \\left(\\frac{- 7 \\mathbf{{x}_{N}} + 7 source_{x}}{\\left(\\left(\\mathbf{{x}_{N}} - source_{x}\\right)^{2} + \\left(\\mathbf{{y}_{N}} - source_{y}\\right)^{2} + \\left(\\mathbf{{z}_{N}} - source_{z}\\right)^{2}\\right)^{\\frac{9}{2}}}\\right)\\mathbf{\\hat{i}_{N}} + \\left(\\frac{- 7 \\mathbf{{y}_{N}} + 7 source_{y}}{\\left(\\left(\\mathbf{{x}_{N}} - source_{x}\\right)^{2} + \\left(\\mathbf{{y}_{N}} - source_{y}\\right)^{2} + \\left(\\mathbf{{z}_{N}} - source_{z}\\right)^{2}\\right)^{\\frac{9}{2}}}\\right)\\mathbf{\\hat{j}_{N}} + \\left(\\frac{- 7 \\mathbf{{z}_{N}} + 7 source_{z}}{\\left(\\left(\\mathbf{{x}_{N}} - source_{x}\\right)^{2} + \\left(\\mathbf{{y}_{N}} - source_{y}\\right)^{2} + \\left(\\mathbf{{z}_{N}} - source_{z}\\right)^{2}\\right)^{\\frac{9}{2}}}\\right)\\mathbf{\\hat{k}_{N}}$"
      ],
      "text/plain": [
       "((-7*N.x + 7*source_x)/((N.x - source_x)**2 + (N.y - source_y)**2 + (N.z - source_z)**2)**(9/2))*N.i + ((-7*N.y + 7*source_y)/((N.x - source_x)**2 + (N.y - source_y)**2 + (N.z - source_z)**2)**(9/2))*N.j + ((-7*N.z + 7*source_z)/((N.x - source_x)**2 + (N.y - source_y)**2 + (N.z - source_z)**2)**(9/2))*N.k"
      ]
     },
     "metadata": {},
     "output_type": "display_data"
    },
    {
     "name": "stdout",
     "output_type": "stream",
     "text": [
      "间隔矢量模长的 8 次方的梯度:\n"
     ]
    },
    {
     "data": {
      "text/latex": [
       "$\\displaystyle \\left(\\frac{- 8 \\mathbf{{x}_{N}} + 8 source_{x}}{\\left(\\left(\\mathbf{{x}_{N}} - source_{x}\\right)^{2} + \\left(\\mathbf{{y}_{N}} - source_{y}\\right)^{2} + \\left(\\mathbf{{z}_{N}} - source_{z}\\right)^{2}\\right)^{5}}\\right)\\mathbf{\\hat{i}_{N}} + \\left(\\frac{- 8 \\mathbf{{y}_{N}} + 8 source_{y}}{\\left(\\left(\\mathbf{{x}_{N}} - source_{x}\\right)^{2} + \\left(\\mathbf{{y}_{N}} - source_{y}\\right)^{2} + \\left(\\mathbf{{z}_{N}} - source_{z}\\right)^{2}\\right)^{5}}\\right)\\mathbf{\\hat{j}_{N}} + \\left(\\frac{- 8 \\mathbf{{z}_{N}} + 8 source_{z}}{\\left(\\left(\\mathbf{{x}_{N}} - source_{x}\\right)^{2} + \\left(\\mathbf{{y}_{N}} - source_{y}\\right)^{2} + \\left(\\mathbf{{z}_{N}} - source_{z}\\right)^{2}\\right)^{5}}\\right)\\mathbf{\\hat{k}_{N}}$"
      ],
      "text/plain": [
       "((-8*N.x + 8*source_x)/((N.x - source_x)**2 + (N.y - source_y)**2 + (N.z - source_z)**2)**5)*N.i + ((-8*N.y + 8*source_y)/((N.x - source_x)**2 + (N.y - source_y)**2 + (N.z - source_z)**2)**5)*N.j + ((-8*N.z + 8*source_z)/((N.x - source_x)**2 + (N.y - source_y)**2 + (N.z - source_z)**2)**5)*N.k"
      ]
     },
     "metadata": {},
     "output_type": "display_data"
    },
    {
     "name": "stdout",
     "output_type": "stream",
     "text": [
      "间隔矢量模长的 9 次方的梯度:\n"
     ]
    },
    {
     "data": {
      "text/latex": [
       "$\\displaystyle \\left(\\frac{- 9 \\mathbf{{x}_{N}} + 9 source_{x}}{\\left(\\left(\\mathbf{{x}_{N}} - source_{x}\\right)^{2} + \\left(\\mathbf{{y}_{N}} - source_{y}\\right)^{2} + \\left(\\mathbf{{z}_{N}} - source_{z}\\right)^{2}\\right)^{\\frac{11}{2}}}\\right)\\mathbf{\\hat{i}_{N}} + \\left(\\frac{- 9 \\mathbf{{y}_{N}} + 9 source_{y}}{\\left(\\left(\\mathbf{{x}_{N}} - source_{x}\\right)^{2} + \\left(\\mathbf{{y}_{N}} - source_{y}\\right)^{2} + \\left(\\mathbf{{z}_{N}} - source_{z}\\right)^{2}\\right)^{\\frac{11}{2}}}\\right)\\mathbf{\\hat{j}_{N}} + \\left(\\frac{- 9 \\mathbf{{z}_{N}} + 9 source_{z}}{\\left(\\left(\\mathbf{{x}_{N}} - source_{x}\\right)^{2} + \\left(\\mathbf{{y}_{N}} - source_{y}\\right)^{2} + \\left(\\mathbf{{z}_{N}} - source_{z}\\right)^{2}\\right)^{\\frac{11}{2}}}\\right)\\mathbf{\\hat{k}_{N}}$"
      ],
      "text/plain": [
       "((-9*N.x + 9*source_x)/((N.x - source_x)**2 + (N.y - source_y)**2 + (N.z - source_z)**2)**(11/2))*N.i + ((-9*N.y + 9*source_y)/((N.x - source_x)**2 + (N.y - source_y)**2 + (N.z - source_z)**2)**(11/2))*N.j + ((-9*N.z + 9*source_z)/((N.x - source_x)**2 + (N.y - source_y)**2 + (N.z - source_z)**2)**(11/2))*N.k"
      ]
     },
     "metadata": {},
     "output_type": "display_data"
    }
   ],
   "source": [
    "import sympy as sp\n",
    "from sympy.vector import CoordSys3D, gradient\n",
    "from IPython.display import display\n",
    "\n",
    "# 创建一个三维坐标系\n",
    "N = CoordSys3D('N')\n",
    "\n",
    "# 定义 x', y', z'\n",
    "source_x, source_y, source_z = sp.symbols('source_x source_y source_z')\n",
    "\n",
    "# 定义标量场间隔矢量的模长\n",
    "r_separation = (N.x - source_x) * N.i + (N.y - source_y) * N.j + (N.z - source_z) * N.k\n",
    "separation_distance = sp.sqrt((N.x - source_x)**2 + (N.y - source_y)**2 + (N.z - source_z)**2)\n",
    "print(\"间隔矢量的模长是：\")\n",
    "display(separation_distance)\n",
    "\n",
    "f = separation_distance ** 2\n",
    "print(\"第一问所考察函数：\")\n",
    "display(f)\n",
    "\n",
    "# 使用 gradient 函数计算梯度\n",
    "grad_f = gradient(f)\n",
    "# 输出梯度\n",
    "print(\"间隔矢量模长的梯度:\")\n",
    "display(grad_f)\n",
    "print(\"间隔矢量模长的梯度是间隔矢量的两倍：\")\n",
    "display(sp.simplify(2 * r_separation))\n",
    "\n",
    "\n",
    "# 使用 gradient 函数计算梯度\n",
    "f = 1 / separation_distance\n",
    "grad_f = gradient(f)\n",
    "\n",
    "print(\"第二问所考察函数是：\")\n",
    "display(f)\n",
    "\n",
    "# 输出梯度\n",
    "print(\"间隔矢量模长的倒数的梯度 (∇1/r):\")\n",
    "display(grad_f)\n",
    "\n",
    "print(\"就等于右式\")\n",
    "display( sp.simplify( - r_separation  / separation_distance**3) )\n",
    "\n",
    "for i in range(1,10):\n",
    "    f = 1/ (separation_distance ** i)\n",
    "    grad_f = gradient(f)\n",
    "    print(f\"间隔矢量模长的 {i} 次方的梯度:\")\n",
    "    display(grad_f)"
   ]
  },
  {
   "cell_type": "code",
   "execution_count": null,
   "metadata": {},
   "outputs": [],
   "source": []
  },
  {
   "cell_type": "markdown",
   "metadata": {},
   "source": [
    "### 习题1.38\n",
    "1) 对函数 $\\boldsymbol v_1 = r^2 \\hat{\\boldsymbol r}$ 验证散度定理，体积选为中心在原点，半径为 $R$ 的球体。\n",
    "2) 同样对函数 $\\boldsymbol v_2 = (1/ r^2) \\hat{\\boldsymbol r}$ 计算(如果你对结果感到惊讶， 回顾习题1.16)。"
   ]
  }
 ],
 "metadata": {
  "kernelspec": {
   "display_name": "d2l",
   "language": "python",
   "name": "python3"
  },
  "language_info": {
   "codemirror_mode": {
    "name": "ipython",
    "version": 3
   },
   "file_extension": ".py",
   "mimetype": "text/x-python",
   "name": "python",
   "nbconvert_exporter": "python",
   "pygments_lexer": "ipython3",
   "version": "3.8.19"
  }
 },
 "nbformat": 4,
 "nbformat_minor": 2
}
