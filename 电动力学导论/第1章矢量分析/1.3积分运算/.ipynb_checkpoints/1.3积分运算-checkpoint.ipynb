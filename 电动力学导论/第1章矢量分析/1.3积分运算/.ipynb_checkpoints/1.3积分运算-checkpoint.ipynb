{
 "cells": [
  {
   "cell_type": "markdown",
   "id": "77b65a08-6b49-4f88-a97d-9f32ba8ad0be",
   "metadata": {},
   "source": [
    "# 1.3 积分"
   ]
  },
  {
   "cell_type": "markdown",
   "id": "dd05c032-ab77-42c8-9585-9245e58a24e4",
   "metadata": {},
   "source": [
    "对于积分，我们要做三件事\n",
    "- 符号推演\n",
    "- 求原函数\n",
    "- 求不出来原函数时，数值逼近"
   ]
  },
  {
   "cell_type": "code",
   "execution_count": 1,
   "id": "3758db83-d992-46a0-8d84-b8a3f2691023",
   "metadata": {},
   "outputs": [
    {
     "name": "stdout",
     "output_type": "stream",
     "text": [
      "抽象函数的线积分结果:\n",
      "π                                            \n",
      "⌠                                            \n",
      "⎮    ___________________                     \n",
      "⎮   ╱    2         2                         \n",
      "⎮ ╲╱  sin (t) + cos (t) ⋅f(cos(t), sin(t)) dt\n",
      "⌡                                            \n",
      "0                                            \n"
     ]
    }
   ],
   "source": [
    "import sympy as sp\n",
    "\n",
    "# 定义参数 t\n",
    "t = sp.symbols('t')\n",
    "\n",
    "# 定义路径参数化\n",
    "x = sp.cos(t)\n",
    "y = sp.sin(t)\n",
    "\n",
    "# 定义抽象标量函数 f(x, y)\n",
    "f = sp.Function('f')(x, y)\n",
    "\n",
    "# 计算沿路径的标量场值\n",
    "f_along_path = f.subs({x: sp.cos(t), y: sp.sin(t)})\n",
    "\n",
    "# 计算路径微分元素 ds\n",
    "dx_dt = sp.diff(x, t)\n",
    "dy_dt = sp.diff(y, t)\n",
    "ds = sp.sqrt(dx_dt**2 + dy_dt**2)\n",
    "\n",
    "# 计算线积分 ∫f(x, y) ds\n",
    "line_integral = sp.integrate(f_along_path * ds, (t, 0, sp.pi))\n",
    "\n",
    "# 输出结果\n",
    "print(\"抽象函数的线积分结果:\")\n",
    "sp.pprint(line_integral)"
   ]
  },
  {
   "cell_type": "code",
   "execution_count": null,
   "id": "daba3f6d-6469-492b-80db-1832e893fca8",
   "metadata": {},
   "outputs": [],
   "source": []
  },
  {
   "cell_type": "code",
   "execution_count": null,
   "id": "3363b04d-0775-4a4d-8486-6e385a7da7e3",
   "metadata": {},
   "outputs": [],
   "source": []
  },
  {
   "cell_type": "code",
   "execution_count": null,
   "id": "7c602801-e420-47a7-a024-1037794c2941",
   "metadata": {},
   "outputs": [],
   "source": []
  },
  {
   "cell_type": "code",
   "execution_count": null,
   "id": "e3ca58f1-0c29-4913-87cd-37b8d777ced9",
   "metadata": {},
   "outputs": [],
   "source": []
  },
  {
   "cell_type": "markdown",
   "id": "a3f08a86-9a28-49f1-b758-c6a0e31386e6",
   "metadata": {},
   "source": []
  },
  {
   "cell_type": "code",
   "execution_count": null,
   "id": "4735801a-93f0-4028-b1cb-53341b591ac0",
   "metadata": {},
   "outputs": [],
   "source": []
  },
  {
   "cell_type": "code",
   "execution_count": null,
   "id": "26f06307-e745-432a-bbc6-7691255cfddf",
   "metadata": {},
   "outputs": [],
   "source": []
  },
  {
   "cell_type": "code",
   "execution_count": null,
   "id": "e4808927-f823-4e98-bfd2-98416a828f41",
   "metadata": {},
   "outputs": [],
   "source": []
  },
  {
   "cell_type": "code",
   "execution_count": null,
   "id": "d4f21970-5e49-4044-bbd2-14a0cb53fb70",
   "metadata": {},
   "outputs": [],
   "source": []
  },
  {
   "cell_type": "code",
   "execution_count": null,
   "id": "ecb9bb02-9ec9-41eb-9bb8-1a4a15c7028c",
   "metadata": {},
   "outputs": [],
   "source": []
  },
  {
   "cell_type": "code",
   "execution_count": 3,
   "id": "bd34c8a3-7b60-45a2-bbfc-7f24e7d63c9e",
   "metadata": {},
   "outputs": [
    {
     "name": "stdout",
     "output_type": "stream",
     "text": [
      "抽象函数的面积分结果:\n",
      "2⋅π 1                              \n",
      " ⌠  ⌠                              \n",
      " ⎮  ⎮ r⋅f(r⋅cos(θ), r⋅sin(θ)) dr dθ\n",
      " ⌡  ⌡                              \n",
      " 0  0                              \n"
     ]
    }
   ],
   "source": [
    "import sympy as sp\n",
    "\n",
    "# 定义符号变量\n",
    "x, y = sp.symbols('x y')\n",
    "\n",
    "# 定义抽象的标量函数 f(x, y)\n",
    "f = sp.Function('f')(x, y)\n",
    "\n",
    "# 将积分转换为极坐标\n",
    "r, theta = sp.symbols('r theta')\n",
    "\n",
    "# 将标量场 f(x, y) 转换为极坐标下的形式\n",
    "f_polar = f.subs({x: r * sp.cos(theta), y: r * sp.sin(theta)})\n",
    "\n",
    "# 极坐标下的面积元素为 r dr dθ\n",
    "area_element = r\n",
    "\n",
    "# 计算单位圆内的面积分，r 的范围是 0 到 1，θ 的范围是 0 到 2π\n",
    "area_integral = sp.integrate(f_polar * area_element, (r, 0, 1), (theta, 0, 2 * sp.pi))\n",
    "\n",
    "# 输出结果\n",
    "print(\"抽象函数的面积分结果:\")\n",
    "sp.pprint(area_integral)\n"
   ]
  },
  {
   "cell_type": "code",
   "execution_count": null,
   "id": "99d8a5f4-222b-4978-826c-03a027cba7dc",
   "metadata": {},
   "outputs": [],
   "source": []
  },
  {
   "cell_type": "code",
   "execution_count": null,
   "id": "5e93b8b4-78ef-47ed-be79-27668fb89d11",
   "metadata": {},
   "outputs": [],
   "source": []
  },
  {
   "cell_type": "code",
   "execution_count": null,
   "id": "9e9afdd0-7b39-41fc-8e02-d4010fcffe60",
   "metadata": {},
   "outputs": [],
   "source": []
  },
  {
   "cell_type": "code",
   "execution_count": null,
   "id": "adf27340-4cac-4d37-8701-1758bf60a63b",
   "metadata": {},
   "outputs": [],
   "source": []
  }
 ],
 "metadata": {
  "kernelspec": {
   "display_name": "Python 3 (ipykernel)",
   "language": "python",
   "name": "python3"
  },
  "language_info": {
   "codemirror_mode": {
    "name": "ipython",
    "version": 3
   },
   "file_extension": ".py",
   "mimetype": "text/x-python",
   "name": "python",
   "nbconvert_exporter": "python",
   "pygments_lexer": "ipython3",
   "version": "3.8.19"
  }
 },
 "nbformat": 4,
 "nbformat_minor": 5
}
