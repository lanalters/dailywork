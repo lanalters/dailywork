{
 "cells": [
  {
   "cell_type": "markdown",
   "id": "f96580ae-2be6-40a2-9803-10b4142d041b",
   "metadata": {},
   "source": [
    "# 验证梯度的基本定理"
   ]
  },
  {
   "cell_type": "markdown",
   "id": "d6a42c63-96ab-4993-8bf1-b00455cd5546",
   "metadata": {},
   "source": [
    "假设我们的高度函数是 $\\sqrt{R^2 - x^2 - y^2}$\n",
    "那么显然从边界到原点处的高度差是 $R$。\n",
    "另一方面，我们给出不同的从边界到原点的路径，计算高度的梯度矢量场沿路径线积分得到的也是如此。"
   ]
  },
  {
   "cell_type": "code",
   "execution_count": null,
   "id": "a20ed40e-c7a0-45b3-afbc-c1b719cf9cdb",
   "metadata": {},
   "outputs": [],
   "source": [
    "import sympy as sp\n",
    "from sympy.vector import CoordSys3D, Del\n",
    "import numpy as np\n",
    "\n",
    "# 创建一个三维坐标系\n",
    "N = CoordSys3D('N')\n",
    "x, y, z = N.x, N.y, N.z\n",
    "\n",
    "# 定义 nabla 算子\n",
    "delop = Del()\n",
    "\n",
    "# 定义标量场 f(x, y) = 根号R^2 - x^2 - y ^2，顶点是 (0,0,R)我们选择不同积分路径达到这个值\n",
    "R = 10\n",
    "f = sp.sqrt(R ** 2 - x ** 2 - y ** 2)\n",
    "nabla_f = sp.simplify(delop.gradient(f))\n",
    "# 输出梯度\n",
    "print(\"梯度 (∇f):\")\n",
    "print(sp.simplify(nabla_f))"
   ]
  },
  {
   "cell_type": "markdown",
   "id": "ad9cbbc2-666b-4f97-9898-d0a41d081a53",
   "metadata": {},
   "source": [
    "第一条途径："
   ]
  },
  {
   "cell_type": "code",
   "execution_count": null,
   "id": "d0ff7f20-5724-4142-82c2-2d1c84641c0d",
   "metadata": {},
   "outputs": [],
   "source": [
    "# 定义路径参数化\n",
    "t = sp.symbols('t')\n",
    "x_t = 5 * np.sqrt(2) - t\n",
    "y_t = 5 * np.sqrt(2) - t\n",
    "z_t = 0  # 在平面上的路径\n",
    "\n",
    "# 将路径参数化代入梯度场\n",
    "nabla_f_along_path = nabla_f.subs({x: x_t, y: y_t, z: z_t})\n",
    "print('路径上的矢量场：')\n",
    "print(nabla_f_along_path)\n",
    "\n",
    "# 计算路径的微分元素 dr/dt\n",
    "dx_dt = sp.diff(x_t, t)\n",
    "dy_dt = sp.diff(y_t, t)\n",
    "dz_dt = sp.diff(z_t, t)\n",
    "\n",
    "# 微分向量 dl\n",
    "dl = dx_dt * N.i + dy_dt * N.j + dz_dt * N.k\n",
    "\n",
    "print('路径上的微元：')\n",
    "print(dl)\n",
    "\n",
    "# 计算梯度场与路径微分 dr 的点积\n",
    "integrand = nabla_f_along_path.dot(dl)\n",
    "print('最后的被积函数的形式：')\n",
    "print(integrand)\n",
    "\n",
    "# 计算线积分 ∫∇f · dr，积分范围 t ∈ [0, π]\n",
    "line_integral_symbolic = sp.integrate(integrand, (t, 0, 5 * np.sqrt(2)))\n",
    "\n",
    "# 输出符号线积分结果\n",
    "print(\"\\n符号线积分结果:\")\n",
    "sp.pprint(line_integral_symbolic)\n",
    "\n",
    "# 计算具体数值\n",
    "line_integral_numeric = line_integral_symbolic.evalf(chop=True)\n",
    "\n",
    "print(\"\\n线积分的数值结果:\")\n",
    "print(line_integral_numeric)"
   ]
  },
  {
   "cell_type": "code",
   "execution_count": 7,
   "id": "5ab5c4f0-f00a-4c71-b286-826ca50e53cc",
   "metadata": {},
   "outputs": [
    {
     "ename": "NameError",
     "evalue": "name '第二条路径' is not defined",
     "output_type": "error",
     "traceback": [
      "\u001b[1;31m---------------------------------------------------------------------------\u001b[0m",
      "\u001b[1;31mNameError\u001b[0m                                 Traceback (most recent call last)",
      "Cell \u001b[1;32mIn[7], line 1\u001b[0m\n\u001b[1;32m----> 1\u001b[0m \u001b[43m第二条路径\u001b[49m\n",
      "\u001b[1;31mNameError\u001b[0m: name '第二条路径' is not defined"
     ]
    }
   ],
   "source": [
    "第二条路径"
   ]
  },
  {
   "cell_type": "code",
   "execution_count": 8,
   "id": "bdaa0a3c-63b9-4fdd-b6fe-80ba82787a89",
   "metadata": {},
   "outputs": [
    {
     "ename": "NameError",
     "evalue": "name 'nabla_f' is not defined",
     "output_type": "error",
     "traceback": [
      "\u001b[1;31m---------------------------------------------------------------------------\u001b[0m",
      "\u001b[1;31mNameError\u001b[0m                                 Traceback (most recent call last)",
      "Cell \u001b[1;32mIn[8], line 8\u001b[0m\n\u001b[0;32m      5\u001b[0m z_t \u001b[38;5;241m=\u001b[39m \u001b[38;5;241m0\u001b[39m  \u001b[38;5;66;03m# 在平面上的路径\u001b[39;00m\n\u001b[0;32m      7\u001b[0m \u001b[38;5;66;03m# 将路径参数化代入梯度场\u001b[39;00m\n\u001b[1;32m----> 8\u001b[0m nabla_f_along_path \u001b[38;5;241m=\u001b[39m \u001b[43mnabla_f\u001b[49m\u001b[38;5;241m.\u001b[39msubs({x: x_t, y: y_t, z: z_t})\n\u001b[0;32m      9\u001b[0m \u001b[38;5;28mprint\u001b[39m(\u001b[38;5;124m'\u001b[39m\u001b[38;5;124m路径上的矢量场\u001b[39m\u001b[38;5;124m'\u001b[39m)\n\u001b[0;32m     10\u001b[0m \u001b[38;5;28mprint\u001b[39m(nabla_f_along_path)\n",
      "\u001b[1;31mNameError\u001b[0m: name 'nabla_f' is not defined"
     ]
    }
   ],
   "source": [
    "# 定义路径参数化\n",
    "t = sp.symbols('t')\n",
    "x_t = 10 - t\n",
    "y_t = 0\n",
    "z_t = 0  # 在平面上的路径\n",
    "\n",
    "# 将路径参数化代入梯度场\n",
    "nabla_f_along_path = nabla_f.subs({x: x_t, y: y_t, z: z_t})\n",
    "print('路径上的矢量场')\n",
    "print(nabla_f_along_path)\n",
    "\n",
    "# 计算路径的微分元素 dr/dt\n",
    "dx_dt = sp.diff(x_t, t)\n",
    "dy_dt = sp.diff(y_t, t)\n",
    "dz_dt = sp.diff(z_t, t)\n",
    "\n",
    "# 微分向量 dl\n",
    "dl = dx_dt * N.i + dy_dt * N.j + dz_dt * N.k\n",
    "\n",
    "print('路径上的微元：')\n",
    "print(dl)\n",
    "\n",
    "# 计算梯度场与路径微分 dr 的点积\n",
    "integrand = nabla_f_along_path.dot(dl)\n",
    "print('最后的被积函数的形式：')\n",
    "print(integrand)\n",
    "\n",
    "# 计算线积分 ∫∇f · dr，积分范围 t ∈ [0, π]\n",
    "line_integral_symbolic = sp.simplify(sp.integrate(integrand, (t, 0, 10)))\n",
    "\n",
    "# 输出符号线积分结果\n",
    "print(\"\\n符号线积分结果:\")\n",
    "sp.pprint(line_integral_symbolic)\n",
    "\n",
    "# 计算具体数值\n",
    "line_integral_numeric = line_integral_symbolic.evalf(chop=True)\n",
    "\n",
    "print(\"\\n线积分的数值结果:\")\n",
    "print(line_integral_numeric)"
   ]
  },
  {
   "cell_type": "code",
   "execution_count": null,
   "id": "63c4b7c2-8a3b-4c12-b86a-05c35a4b5ffc",
   "metadata": {},
   "outputs": [],
   "source": [
    "第三条路径"
   ]
  },
  {
   "cell_type": "code",
   "execution_count": null,
   "id": "f5a9a9ff-59f4-4d8c-bf1a-4d6231221903",
   "metadata": {},
   "outputs": [],
   "source": [
    "# 定义路径参数化\n",
    "t = sp.symbols('t')\n",
    "x_t = 10 * (sp.cos(t)) ** 2\n",
    "y_t = 10 * sp.cos(t) * sp.sin(t)\n",
    "z_t = 0  # 在平面上的路径\n",
    "\n",
    "# 将路径参数化代入梯度场\n",
    "nabla_f_along_path = nabla_f.subs({x: x_t, y: y_t, z: z_t})\n",
    "print('路径上的矢量场')\n",
    "print(nabla_f_along_path)\n",
    "\n",
    "# 计算路径的微分元素 dr/dt\n",
    "dx_dt = sp.diff(x_t, t)\n",
    "dy_dt = sp.diff(y_t, t)\n",
    "dz_dt = sp.diff(z_t, t)\n",
    "\n",
    "# 微分向量 dl\n",
    "dl = dx_dt * N.i + dy_dt * N.j + dz_dt * N.k\n",
    "\n",
    "print('路径上的微元：')\n",
    "print(dl)\n",
    "\n",
    "# 计算梯度场与路径微分 dr 的点积\n",
    "integrand = nabla_f_along_path.dot(dl)\n",
    "print('最后的被积函数的形式：')\n",
    "print(integrand)\n",
    "\n",
    "# 计算线积分 ∫∇f · dr，积分范围 t ∈ [0, π]\n",
    "line_integral_symbolic = sp.simplify(sp.integrate(integrand, (t, 0, sp.pi/2)))\n",
    "\n",
    "# 输出符号线积分结果\n",
    "print(\"\\n符号线积分结果:\")\n",
    "sp.pprint(line_integral_symbolic)\n",
    "\n",
    "# 计算具体数值\n",
    "line_integral_numeric = line_integral_symbolic.evalf(chop=True)\n",
    "\n",
    "print(\"\\n线积分的数值结果:\")\n",
    "print(line_integral_numeric)"
   ]
  }
 ],
 "metadata": {
  "kernelspec": {
   "display_name": "Python 3 (ipykernel)",
   "language": "python",
   "name": "python3"
  },
  "language_info": {
   "codemirror_mode": {
    "name": "ipython",
    "version": 3
   },
   "file_extension": ".py",
   "mimetype": "text/x-python",
   "name": "python",
   "nbconvert_exporter": "python",
   "pygments_lexer": "ipython3",
   "version": "3.8.19"
  }
 },
 "nbformat": 4,
 "nbformat_minor": 5
}
