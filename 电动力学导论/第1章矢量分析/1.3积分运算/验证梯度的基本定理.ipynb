{
 "cells": [
  {
   "cell_type": "markdown",
   "id": "f96580ae-2be6-40a2-9803-10b4142d041b",
   "metadata": {},
   "source": [
    "# 验证梯度的基本定理"
   ]
  },
  {
   "cell_type": "markdown",
   "id": "d6a42c63-96ab-4993-8bf1-b00455cd5546",
   "metadata": {},
   "source": [
    "假设我们的高度函数是 $\\sqrt{R^2 - x^2 - y^2}$\n",
    "那么显然从边界到原点处的高度差是 $R$。\n",
    "另一方面，我们给出不同的从边界到原点的路径，计算高度的梯度矢量场沿路径线积分得到的也是如此。"
   ]
  },
  {
   "cell_type": "code",
   "execution_count": 4,
   "id": "a20ed40e-c7a0-45b3-afbc-c1b719cf9cdb",
   "metadata": {},
   "outputs": [
    {
     "name": "stdout",
     "output_type": "stream",
     "text": [
      "标量场 f(x, y) = sqrt(R^2 - x^2 - y^2):\n"
     ]
    },
    {
     "data": {
      "text/latex": [
       "$\\displaystyle \\sqrt{- \\mathbf{{x}_{N}}^{2} - \\mathbf{{y}_{N}}^{2} + 100}$"
      ],
      "text/plain": [
       "sqrt(-N.x**2 - N.y**2 + 100)"
      ]
     },
     "metadata": {},
     "output_type": "display_data"
    },
    {
     "name": "stdout",
     "output_type": "stream",
     "text": [
      "梯度 (∇f):\n"
     ]
    },
    {
     "data": {
      "text/latex": [
       "$\\displaystyle \\left(- \\frac{\\mathbf{{x}_{N}}}{\\sqrt{- \\mathbf{{x}_{N}}^{2} - \\mathbf{{y}_{N}}^{2} + 100}}\\right)\\mathbf{\\hat{i}_{N}} + \\left(- \\frac{\\mathbf{{y}_{N}}}{\\sqrt{- \\mathbf{{x}_{N}}^{2} - \\mathbf{{y}_{N}}^{2} + 100}}\\right)\\mathbf{\\hat{j}_{N}}$"
      ],
      "text/plain": [
       "(-N.x/sqrt(-N.x**2 - N.y**2 + 100))*N.i + (-N.y/sqrt(-N.x**2 - N.y**2 + 100))*N.j"
      ]
     },
     "metadata": {},
     "output_type": "display_data"
    }
   ],
   "source": [
    "import sympy as sp\n",
    "from sympy.vector import CoordSys3D, gradient\n",
    "import numpy as np\n",
    "from IPython.display import display\n",
    "\n",
    "# 创建一个三维坐标系\n",
    "N = CoordSys3D('N')\n",
    "\n",
    "# 定义标量场 f(x, y) = 根号R^2 - x^2 - y ^2，顶点是 (0,0,R)我们选择不同积分路径达到这个值\n",
    "R = 10\n",
    "f = sp.sqrt(R ** 2 - N.x ** 2 - N.y ** 2)\n",
    "print(\"标量场 f(x, y) = sqrt(R^2 - x^2 - y^2):\")\n",
    "display(f)\n",
    "\n",
    "grad_f = sp.simplify(gradient(f))\n",
    "# 输出梯度\n",
    "print(\"梯度 (∇f):\")\n",
    "display(sp.simplify(grad_f))"
   ]
  },
  {
   "cell_type": "markdown",
   "id": "ad9cbbc2-666b-4f97-9898-d0a41d081a53",
   "metadata": {},
   "source": [
    "第一条途径："
   ]
  },
  {
   "cell_type": "code",
   "execution_count": 7,
   "id": "d0ff7f20-5724-4142-82c2-2d1c84641c0d",
   "metadata": {},
   "outputs": [
    {
     "name": "stdout",
     "output_type": "stream",
     "text": [
      "路径上的矢量场：\n"
     ]
    },
    {
     "data": {
      "text/latex": [
       "$\\displaystyle \\left(- \\frac{0.1 \\cdot \\left(7.07106781186548 - t\\right)}{\\sqrt{1.0 - \\left(1 - 0.14142135623731 t\\right)^{2}}}\\right)\\mathbf{\\hat{i}_{N}} + \\left(- \\frac{0.1 \\cdot \\left(7.07106781186548 - t\\right)}{\\sqrt{1.0 - \\left(1 - 0.14142135623731 t\\right)^{2}}}\\right)\\mathbf{\\hat{j}_{N}}$"
      ],
      "text/plain": [
       "(-0.1*(7.07106781186548 - t)/sqrt(1.0 - (1 - 0.14142135623731*t)**2))*N.i + (-0.1*(7.07106781186548 - t)/sqrt(1.0 - (1 - 0.14142135623731*t)**2))*N.j"
      ]
     },
     "metadata": {},
     "output_type": "display_data"
    },
    {
     "name": "stdout",
     "output_type": "stream",
     "text": [
      "路径上的微元：\n"
     ]
    },
    {
     "data": {
      "text/latex": [
       "$\\displaystyle - \\mathbf{\\hat{i}_{N}} - \\mathbf{\\hat{j}_{N}}$"
      ],
      "text/plain": [
       "(-1)*N.i + (-1)*N.j"
      ]
     },
     "metadata": {},
     "output_type": "display_data"
    },
    {
     "name": "stdout",
     "output_type": "stream",
     "text": [
      "最后的被积函数的形式：\n"
     ]
    },
    {
     "data": {
      "text/latex": [
       "$\\displaystyle \\frac{0.2 \\cdot \\left(7.07106781186548 - t\\right)}{\\sqrt{1.0 - \\left(1 - 0.14142135623731 t\\right)^{2}}}$"
      ],
      "text/plain": [
       "0.2*(7.07106781186548 - t)/sqrt(1.0 - (1 - 0.14142135623731*t)**2)"
      ]
     },
     "metadata": {},
     "output_type": "display_data"
    },
    {
     "name": "stdout",
     "output_type": "stream",
     "text": [
      "\n",
      "符号线积分结果:\n"
     ]
    },
    {
     "data": {
      "text/latex": [
       "$\\displaystyle 9.99999970197678 - 2.1073424255447 \\cdot 10^{-7} i$"
      ],
      "text/plain": [
       "9.99999970197678 - 2.1073424255447e-7*I"
      ]
     },
     "metadata": {},
     "output_type": "display_data"
    },
    {
     "name": "stdout",
     "output_type": "stream",
     "text": [
      "\n",
      "线积分的数值结果:\n"
     ]
    },
    {
     "data": {
      "text/latex": [
       "$\\displaystyle 9.99999970197678 - 2.1073424255447 \\cdot 10^{-7} i$"
      ],
      "text/plain": [
       "9.99999970197678 - 2.1073424255447e-7*I"
      ]
     },
     "metadata": {},
     "output_type": "display_data"
    }
   ],
   "source": [
    "# 定义路径参数化\n",
    "t = sp.symbols('t')\n",
    "x_t = 5 * np.sqrt(2) - t\n",
    "y_t = 5 * np.sqrt(2) - t\n",
    "z_t = 0  # 在平面上的路径\n",
    "\n",
    "# 将路径参数化代入梯度场\n",
    "grad_f_along_path = grad_f.subs({N.x: x_t, N.y: y_t, N.z: z_t})\n",
    "print('路径上的矢量场：')\n",
    "display(grad_f_along_path)\n",
    "\n",
    "# 计算路径的微分元素 dr/dt\n",
    "dx_dt = sp.diff(x_t, t)\n",
    "dy_dt = sp.diff(y_t, t)\n",
    "dz_dt = sp.diff(z_t, t)\n",
    "\n",
    "# 微分向量 dl\n",
    "dl = dx_dt * N.i + dy_dt * N.j + dz_dt * N.k\n",
    "\n",
    "print('路径上的微元：')\n",
    "display(dl)\n",
    "\n",
    "# 计算梯度场与路径微分 dr 的点积\n",
    "integrand = grad_f_along_path.dot(dl)\n",
    "print('最后的被积函数的形式：')\n",
    "display(integrand)\n",
    "\n",
    "# 计算线积分 ∫∇f · dr，积分范围 t ∈ [0, π]\n",
    "line_integral_symbolic = sp.integrate(integrand, (t, 0, 5 * np.sqrt(2)))\n",
    "\n",
    "# 输出符号线积分结果\n",
    "print(\"\\n符号线积分结果:\")\n",
    "display(line_integral_symbolic)\n",
    "\n",
    "# 计算具体数值\n",
    "line_integral_numeric = line_integral_symbolic.evalf(chop=True)\n",
    "\n",
    "print(\"\\n线积分的数值结果:\")\n",
    "display(line_integral_numeric)"
   ]
  },
  {
   "cell_type": "markdown",
   "id": "5ab5c4f0-f00a-4c71-b286-826ca50e53cc",
   "metadata": {},
   "source": [
    "#### 第二条路径"
   ]
  },
  {
   "cell_type": "code",
   "execution_count": 10,
   "id": "bdaa0a3c-63b9-4fdd-b6fe-80ba82787a89",
   "metadata": {},
   "outputs": [
    {
     "name": "stdout",
     "output_type": "stream",
     "text": [
      "路径上的矢量场\n"
     ]
    },
    {
     "data": {
      "text/latex": [
       "$\\displaystyle \\left(- \\frac{10 - t}{\\sqrt{100 - \\left(10 - t\\right)^{2}}}\\right)\\mathbf{\\hat{i}_{N}}$"
      ],
      "text/plain": [
       "(-(10 - t)/sqrt(100 - (10 - t)**2))*N.i"
      ]
     },
     "metadata": {},
     "output_type": "display_data"
    },
    {
     "name": "stdout",
     "output_type": "stream",
     "text": [
      "路径上的微元：\n"
     ]
    },
    {
     "data": {
      "text/latex": [
       "$\\displaystyle - \\mathbf{\\hat{i}_{N}}$"
      ],
      "text/plain": [
       "(-1)*N.i"
      ]
     },
     "metadata": {},
     "output_type": "display_data"
    },
    {
     "name": "stdout",
     "output_type": "stream",
     "text": [
      "最后的被积函数的形式：\n"
     ]
    },
    {
     "data": {
      "text/latex": [
       "$\\displaystyle \\frac{10 - t}{\\sqrt{100 - \\left(10 - t\\right)^{2}}}$"
      ],
      "text/plain": [
       "(10 - t)/sqrt(100 - (10 - t)**2)"
      ]
     },
     "metadata": {},
     "output_type": "display_data"
    },
    {
     "name": "stdout",
     "output_type": "stream",
     "text": [
      "\n",
      "符号线积分结果:\n"
     ]
    },
    {
     "data": {
      "text/latex": [
       "$\\displaystyle \\int\\limits_{0}^{10} \\begin{cases} \\frac{i \\left(t - 10\\right)}{\\sqrt{t \\left(t - 20\\right)}} & \\text{for}\\: t > 20 \\vee t < 0 \\\\\\frac{10 - t}{\\sqrt{t \\left(20 - t\\right)}} & \\text{otherwise} \\end{cases}\\, dt$"
      ],
      "text/plain": [
       "Integral(Piecewise((I*(t - 10)/sqrt(t*(t - 20)), (t > 20) | (t < 0)), ((10 - t)/sqrt(t*(20 - t)), True)), (t, 0, 10))"
      ]
     },
     "metadata": {},
     "output_type": "display_data"
    },
    {
     "name": "stdout",
     "output_type": "stream",
     "text": [
      "\n",
      "线积分的数值结果:\n"
     ]
    },
    {
     "data": {
      "text/latex": [
       "$\\displaystyle 10.0$"
      ],
      "text/plain": [
       "10.0000000000000"
      ]
     },
     "metadata": {},
     "output_type": "display_data"
    }
   ],
   "source": [
    "# 定义路径参数化\n",
    "t = sp.symbols('t')\n",
    "x_t = 10 - t\n",
    "y_t = 0\n",
    "z_t = 0  # 在平面上的路径\n",
    "\n",
    "# 将路径参数化代入梯度场\n",
    "grad_f_along_path = grad_f.subs({N.x: x_t, N.y: y_t, N.z: z_t})\n",
    "print('路径上的矢量场')\n",
    "display(grad_f_along_path)\n",
    "\n",
    "# 计算路径的微分元素 dr/dt\n",
    "dx_dt = sp.diff(x_t, t)\n",
    "dy_dt = sp.diff(y_t, t)\n",
    "dz_dt = sp.diff(z_t, t)\n",
    "\n",
    "# 微分向量 dl\n",
    "dl = dx_dt * N.i + dy_dt * N.j + dz_dt * N.k\n",
    "\n",
    "print('路径上的微元：')\n",
    "display(dl)\n",
    "\n",
    "# 计算梯度场与路径微分 dr 的点积\n",
    "integrand = grad_f_along_path.dot(dl)\n",
    "print('最后的被积函数的形式：')\n",
    "display(integrand)\n",
    "\n",
    "# 计算线积分 ∫∇f · dr，积分范围 t ∈ [0, π]\n",
    "line_integral_symbolic = sp.simplify(sp.integrate(integrand, (t, 0, 10)))\n",
    "\n",
    "# 输出符号线积分结果\n",
    "print(\"\\n符号线积分结果:\")\n",
    "display(line_integral_symbolic)\n",
    "\n",
    "# 计算具体数值\n",
    "line_integral_numeric = line_integral_symbolic.evalf(chop=True)\n",
    "\n",
    "print(\"\\n线积分的数值结果:\")\n",
    "display(line_integral_numeric)"
   ]
  },
  {
   "cell_type": "markdown",
   "id": "63c4b7c2-8a3b-4c12-b86a-05c35a4b5ffc",
   "metadata": {},
   "source": [
    "#### 第三条路径"
   ]
  },
  {
   "cell_type": "code",
   "execution_count": 13,
   "id": "f5a9a9ff-59f4-4d8c-bf1a-4d6231221903",
   "metadata": {},
   "outputs": [
    {
     "name": "stdout",
     "output_type": "stream",
     "text": [
      "路径上的矢量场\n"
     ]
    },
    {
     "data": {
      "text/latex": [
       "$\\displaystyle \\left(- \\frac{10 \\cos^{2}{\\left(t \\right)}}{\\sqrt{- 100 \\sin^{2}{\\left(t \\right)} \\cos^{2}{\\left(t \\right)} - 100 \\cos^{4}{\\left(t \\right)} + 100}}\\right)\\mathbf{\\hat{i}_{N}} + \\left(- \\frac{10 \\sin{\\left(t \\right)} \\cos{\\left(t \\right)}}{\\sqrt{- 100 \\sin^{2}{\\left(t \\right)} \\cos^{2}{\\left(t \\right)} - 100 \\cos^{4}{\\left(t \\right)} + 100}}\\right)\\mathbf{\\hat{j}_{N}}$"
      ],
      "text/plain": [
       "(-10*cos(t)**2/sqrt(-100*sin(t)**2*cos(t)**2 - 100*cos(t)**4 + 100))*N.i + (-10*sin(t)*cos(t)/sqrt(-100*sin(t)**2*cos(t)**2 - 100*cos(t)**4 + 100))*N.j"
      ]
     },
     "metadata": {},
     "output_type": "display_data"
    },
    {
     "name": "stdout",
     "output_type": "stream",
     "text": [
      "路径上的微元：\n"
     ]
    },
    {
     "data": {
      "text/latex": [
       "$\\displaystyle \\left(- 20 \\sin{\\left(t \\right)} \\cos{\\left(t \\right)}\\right)\\mathbf{\\hat{i}_{N}} + \\left(- 10 \\sin^{2}{\\left(t \\right)} + 10 \\cos^{2}{\\left(t \\right)}\\right)\\mathbf{\\hat{j}_{N}}$"
      ],
      "text/plain": [
       "(-20*sin(t)*cos(t))*N.i + (-10*sin(t)**2 + 10*cos(t)**2)*N.j"
      ]
     },
     "metadata": {},
     "output_type": "display_data"
    },
    {
     "name": "stdout",
     "output_type": "stream",
     "text": [
      "最后的被积函数的形式：\n"
     ]
    },
    {
     "data": {
      "text/latex": [
       "$\\displaystyle - \\frac{10 \\left(- 10 \\sin^{2}{\\left(t \\right)} + 10 \\cos^{2}{\\left(t \\right)}\\right) \\sin{\\left(t \\right)} \\cos{\\left(t \\right)}}{\\sqrt{- 100 \\sin^{2}{\\left(t \\right)} \\cos^{2}{\\left(t \\right)} - 100 \\cos^{4}{\\left(t \\right)} + 100}} + \\frac{200 \\sin{\\left(t \\right)} \\cos^{3}{\\left(t \\right)}}{\\sqrt{- 100 \\sin^{2}{\\left(t \\right)} \\cos^{2}{\\left(t \\right)} - 100 \\cos^{4}{\\left(t \\right)} + 100}}$"
      ],
      "text/plain": [
       "-10*(-10*sin(t)**2 + 10*cos(t)**2)*sin(t)*cos(t)/sqrt(-100*sin(t)**2*cos(t)**2 - 100*cos(t)**4 + 100) + 200*sin(t)*cos(t)**3/sqrt(-100*sin(t)**2*cos(t)**2 - 100*cos(t)**4 + 100)"
      ]
     },
     "metadata": {},
     "output_type": "display_data"
    },
    {
     "name": "stdout",
     "output_type": "stream",
     "text": [
      "\n",
      "符号线积分结果:\n"
     ]
    },
    {
     "data": {
      "text/latex": [
       "$\\displaystyle 10$"
      ],
      "text/plain": [
       "10"
      ]
     },
     "metadata": {},
     "output_type": "display_data"
    },
    {
     "name": "stdout",
     "output_type": "stream",
     "text": [
      "\n",
      "线积分的数值结果:\n"
     ]
    },
    {
     "data": {
      "text/latex": [
       "$\\displaystyle 10.0$"
      ],
      "text/plain": [
       "10.0000000000000"
      ]
     },
     "metadata": {},
     "output_type": "display_data"
    }
   ],
   "source": [
    "# 定义路径参数化\n",
    "t = sp.symbols('t')\n",
    "x_t = 10 * (sp.cos(t)) ** 2\n",
    "y_t = 10 * sp.cos(t) * sp.sin(t)\n",
    "z_t = 0  # 在平面上的路径\n",
    "\n",
    "# 将路径参数化代入梯度场\n",
    "grad_f_along_path = grad_f.subs({N.x: x_t, N.y: y_t, N.z: z_t})\n",
    "print('路径上的矢量场')\n",
    "display(grad_f_along_path)\n",
    "\n",
    "# 计算路径的微分元素 dr/dt\n",
    "dx_dt = sp.diff(x_t, t)\n",
    "dy_dt = sp.diff(y_t, t)\n",
    "dz_dt = sp.diff(z_t, t)\n",
    "\n",
    "# 微分向量 dl\n",
    "dl = dx_dt * N.i + dy_dt * N.j + dz_dt * N.k\n",
    "\n",
    "print('路径上的微元：')\n",
    "display(dl)\n",
    "\n",
    "# 计算梯度场与路径微分 dr 的点积\n",
    "integrand = grad_f_along_path.dot(dl)\n",
    "print('最后的被积函数的形式：')\n",
    "display(integrand)\n",
    "\n",
    "# 计算线积分 ∫∇f · dr，积分范围 t ∈ [0, π]\n",
    "line_integral_symbolic = sp.simplify(sp.integrate(integrand, (t, 0, sp.pi/2)))\n",
    "\n",
    "# 输出符号线积分结果\n",
    "print(\"\\n符号线积分结果:\")\n",
    "display(line_integral_symbolic)\n",
    "\n",
    "# 计算具体数值\n",
    "line_integral_numeric = line_integral_symbolic.evalf(chop=True)\n",
    "\n",
    "print(\"\\n线积分的数值结果:\")\n",
    "display(line_integral_numeric)"
   ]
  }
 ],
 "metadata": {
  "kernelspec": {
   "display_name": "d2l",
   "language": "python",
   "name": "python3"
  },
  "language_info": {
   "codemirror_mode": {
    "name": "ipython",
    "version": 3
   },
   "file_extension": ".py",
   "mimetype": "text/x-python",
   "name": "python",
   "nbconvert_exporter": "python",
   "pygments_lexer": "ipython3",
   "version": "3.8.19"
  }
 },
 "nbformat": 4,
 "nbformat_minor": 5
}
