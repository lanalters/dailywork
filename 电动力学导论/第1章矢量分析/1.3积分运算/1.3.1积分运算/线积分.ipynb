{
 "cells": [
  {
   "cell_type": "markdown",
   "id": "8f127cff-b4fc-4142-81d0-1b71be3c1bb9",
   "metadata": {},
   "source": [
    "# 线积分"
   ]
  },
  {
   "cell_type": "markdown",
   "id": "3ba76d01-fc7a-46fd-87dd-44841fd15ebe",
   "metadata": {},
   "source": [
    "### 标量场的线积分"
   ]
  },
  {
   "cell_type": "markdown",
   "id": "61125607-7cd2-49b2-aa10-d6ce9c676402",
   "metadata": {},
   "source": [
    "#### 符号推演"
   ]
  },
  {
   "cell_type": "code",
   "execution_count": 2,
   "id": "542ec56e-ab73-447c-885c-49c1974d4f99",
   "metadata": {},
   "outputs": [
    {
     "name": "stdout",
     "output_type": "stream",
     "text": [
      "抽象函数的线积分结果:\n"
     ]
    },
    {
     "data": {
      "text/latex": [
       "$\\displaystyle \\int\\limits_{0}^{\\pi} \\sqrt{\\sin^{2}{\\left(t \\right)} + \\cos^{2}{\\left(t \\right)}} f{\\left(\\cos{\\left(t \\right)},\\sin{\\left(t \\right)} \\right)}\\, dt$"
      ],
      "text/plain": [
       "Integral(sqrt(sin(t)**2 + cos(t)**2)*f(cos(t), sin(t)), (t, 0, pi))"
      ]
     },
     "metadata": {},
     "output_type": "display_data"
    }
   ],
   "source": [
    "import sympy as sp\n",
    "from IPython.display import display\n",
    "from sympy import Function\n",
    "\n",
    "# 定义参数 t\n",
    "t = sp.symbols('t')\n",
    "\n",
    "# 定义路径参数化\n",
    "x = sp.cos(t)\n",
    "y = sp.sin(t)\n",
    "\n",
    "# 定义抽象标量函数 f(x, y)\n",
    "f = Function('f')(x, y)\n",
    "\n",
    "# 计算沿路径的标量场值\n",
    "f_along_path = f.subs({x: sp.cos(t), y: sp.sin(t)})\n",
    "\n",
    "# 计算路径微分元素 ds\n",
    "dx_dt = sp.diff(x, t)\n",
    "dy_dt = sp.diff(y, t)\n",
    "dl = sp.sqrt(dx_dt**2 + dy_dt**2)\n",
    "\n",
    "# 计算线积分 ∫f(x, y) ds\n",
    "line_integral = sp.integrate(f_along_path * dl, (t, 0, sp.pi))\n",
    "\n",
    "# 输出结果\n",
    "print(\"抽象函数的线积分结果:\")\n",
    "display(line_integral)"
   ]
  }
 ],
 "metadata": {
  "kernelspec": {
   "display_name": "d2l",
   "language": "python",
   "name": "python3"
  },
  "language_info": {
   "codemirror_mode": {
    "name": "ipython",
    "version": 3
   },
   "file_extension": ".py",
   "mimetype": "text/x-python",
   "name": "python",
   "nbconvert_exporter": "python",
   "pygments_lexer": "ipython3",
   "version": "3.8.19"
  }
 },
 "nbformat": 4,
 "nbformat_minor": 5
}
