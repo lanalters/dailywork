{
 "cells": [
  {
   "cell_type": "markdown",
   "id": "77b65a08-6b49-4f88-a97d-9f32ba8ad0be",
   "metadata": {},
   "source": [
    "# 1.3 积分"
   ]
  },
  {
   "cell_type": "markdown",
   "id": "dd05c032-ab77-42c8-9585-9245e58a24e4",
   "metadata": {},
   "source": [
    "对于积分，我们要做三件事\n",
    "- 符号推演\n",
    "- 求原函数\n",
    "- 求不出来原函数时，数值逼近"
   ]
  },
  {
   "cell_type": "code",
   "execution_count": 2,
   "id": "3758db83-d992-46a0-8d84-b8a3f2691023",
   "metadata": {},
   "outputs": [
    {
     "name": "stdout",
     "output_type": "stream",
     "text": [
      "抽象函数的线积分结果:\n"
     ]
    },
    {
     "data": {
      "text/latex": [
       "$\\displaystyle \\int\\limits_{0}^{\\pi} \\sqrt{\\sin^{2}{\\left(t \\right)} + \\cos^{2}{\\left(t \\right)}} f{\\left(\\cos{\\left(t \\right)},\\sin{\\left(t \\right)} \\right)}\\, dt$"
      ],
      "text/plain": [
       "Integral(sqrt(sin(t)**2 + cos(t)**2)*f(cos(t), sin(t)), (t, 0, pi))"
      ]
     },
     "metadata": {},
     "output_type": "display_data"
    }
   ],
   "source": [
    "import sympy as sp\n",
    "from IPython.display import display\n",
    "\n",
    "# 定义参数 t\n",
    "t = sp.symbols('t')\n",
    "\n",
    "# 定义路径参数化\n",
    "x = sp.cos(t)\n",
    "y = sp.sin(t)\n",
    "\n",
    "# 定义抽象标量函数 f(x, y)\n",
    "f = sp.Function('f')(x, y)\n",
    "\n",
    "# 计算沿路径的标量场值\n",
    "f_along_path = f.subs({x: sp.cos(t), y: sp.sin(t)})\n",
    "\n",
    "# 计算路径微分元素 ds\n",
    "dx_dt = sp.diff(x, t)\n",
    "dy_dt = sp.diff(y, t)\n",
    "ds = sp.sqrt(dx_dt**2 + dy_dt**2)\n",
    "\n",
    "# 计算线积分 ∫f(x, y) ds\n",
    "line_integral = sp.integrate(f_along_path * ds, (t, 0, sp.pi))\n",
    "\n",
    "# 输出结果\n",
    "print(\"抽象函数的线积分结果:\")\n",
    "display(line_integral)"
   ]
  },
  {
   "cell_type": "code",
   "execution_count": null,
   "id": "ecb9bb02-9ec9-41eb-9bb8-1a4a15c7028c",
   "metadata": {},
   "outputs": [],
   "source": []
  },
  {
   "cell_type": "code",
   "execution_count": 3,
   "id": "bd34c8a3-7b60-45a2-bbfc-7f24e7d63c9e",
   "metadata": {},
   "outputs": [
    {
     "name": "stdout",
     "output_type": "stream",
     "text": [
      "抽象函数的面积分结果:\n"
     ]
    },
    {
     "data": {
      "text/latex": [
       "$\\displaystyle \\int\\limits_{0}^{2 \\pi}\\int\\limits_{0}^{1} r f{\\left(r \\cos{\\left(\\theta \\right)},r \\sin{\\left(\\theta \\right)} \\right)}\\, dr\\, d\\theta$"
      ],
      "text/plain": [
       "Integral(r*f(r*cos(theta), r*sin(theta)), (r, 0, 1), (theta, 0, 2*pi))"
      ]
     },
     "metadata": {},
     "output_type": "display_data"
    }
   ],
   "source": [
    "import sympy as sp\n",
    "from IPython.display import display\n",
    "\n",
    "# 定义符号变量\n",
    "x, y = sp.symbols('x y')\n",
    "\n",
    "# 定义抽象的标量函数 f(x, y)\n",
    "f = sp.Function('f')(x, y)\n",
    "\n",
    "# 将积分转换为极坐标\n",
    "r, theta = sp.symbols('r theta')\n",
    "\n",
    "# 将标量场 f(x, y) 转换为极坐标下的形式\n",
    "f_polar = f.subs({x: r * sp.cos(theta), y: r * sp.sin(theta)})\n",
    "\n",
    "# 极坐标下的面积元素为 r dr dθ\n",
    "area_element = r\n",
    "\n",
    "# 计算单位圆内的面积分，r 的范围是 0 到 1，θ 的范围是 0 到 2π\n",
    "area_integral = sp.integrate(f_polar * area_element, (r, 0, 1), (theta, 0, 2 * sp.pi))\n",
    "\n",
    "# 输出结果\n",
    "print(\"抽象函数的面积分结果:\")\n",
    "display(area_integral)\n"
   ]
  }
 ],
 "metadata": {
  "kernelspec": {
   "display_name": "d2l",
   "language": "python",
   "name": "python3"
  },
  "language_info": {
   "codemirror_mode": {
    "name": "ipython",
    "version": 3
   },
   "file_extension": ".py",
   "mimetype": "text/x-python",
   "name": "python",
   "nbconvert_exporter": "python",
   "pygments_lexer": "ipython3",
   "version": "3.8.19"
  }
 },
 "nbformat": 4,
 "nbformat_minor": 5
}
