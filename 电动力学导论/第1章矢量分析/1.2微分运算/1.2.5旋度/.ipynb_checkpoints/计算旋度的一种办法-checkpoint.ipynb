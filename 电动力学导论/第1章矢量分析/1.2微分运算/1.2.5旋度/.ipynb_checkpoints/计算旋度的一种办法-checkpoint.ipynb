{
 "cells": [
  {
   "cell_type": "markdown",
   "id": "8fa7001e-8d18-4c7e-84d5-0e63e8dd8f50",
   "metadata": {},
   "source": [
    "# 计算旋度的一种办法"
   ]
  },
  {
   "cell_type": "code",
   "execution_count": 2,
   "id": "68f2b42f-4e32-4dbd-a5c6-e1904014d2b8",
   "metadata": {},
   "outputs": [
    {
     "name": "stdout",
     "output_type": "stream",
     "text": [
      "矢量场的散度 (∇×A):\n",
      "(2*N.x + 2*N.y)*N.k\n"
     ]
    }
   ],
   "source": [
    "import sympy as sp\n",
    "from sympy.vector import CoordSys3D, curl\n",
    "\n",
    "# 创建一个三维坐标系\n",
    "N = CoordSys3D('N')\n",
    "x, y, z = N.x, N.y, N.z\n",
    "\n",
    "# 定义矢量场 A\n",
    "# 假设 A = x^2 * i + y^2 * j + z * k\n",
    "A = -y**2 * N.i + x**2 * N.j + z * N.k\n",
    "\n",
    "# 计算矢量场的散度\n",
    "curl_A = curl(A)\n",
    "\n",
    "# 输出散度\n",
    "print(\"矢量场的散度 (∇×A):\")\n",
    "print(curl_A)"
   ]
  }
 ],
 "metadata": {
  "kernelspec": {
   "display_name": "Python 3 (ipykernel)",
   "language": "python",
   "name": "python3"
  },
  "language_info": {
   "codemirror_mode": {
    "name": "ipython",
    "version": 3
   },
   "file_extension": ".py",
   "mimetype": "text/x-python",
   "name": "python",
   "nbconvert_exporter": "python",
   "pygments_lexer": "ipython3",
   "version": "3.8.19"
  }
 },
 "nbformat": 4,
 "nbformat_minor": 5
}
