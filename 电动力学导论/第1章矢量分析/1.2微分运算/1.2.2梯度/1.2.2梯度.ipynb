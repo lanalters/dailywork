{
 "cells": [
  {
   "cell_type": "markdown",
   "id": "7bfbd53b-6dba-4e05-93a7-e7aa25b7743b",
   "metadata": {},
   "source": [
    "# 梯度"
   ]
  },
  {
   "cell_type": "markdown",
   "id": "64a39767-522e-4d61-a4e7-cfe04f0f8517",
   "metadata": {},
   "source": [
    "我们要求的是具体函数的梯度和抽象函数的梯度"
   ]
  },
  {
   "cell_type": "markdown",
   "id": "b8c41089-3e5e-4371-b555-90e69efe24f6",
   "metadata": {},
   "source": [
    "## 求具体函数的梯度"
   ]
  },
  {
   "cell_type": "code",
   "execution_count": null,
   "id": "9147b954-28ee-4422-930c-377453b9782d",
   "metadata": {},
   "outputs": [
    {
     "name": "stdout",
     "output_type": "stream",
     "text": [
      "梯度 (∇f):\n"
     ]
    },
    {
     "data": {
      "text/latex": [
       "$\\displaystyle \\left(2 \\mathbf{{x}_{N}}\\right)\\mathbf{\\hat{i}_{N}} + \\left(2 \\mathbf{{y}_{N}}\\right)\\mathbf{\\hat{j}_{N}} + \\left(2 \\mathbf{{z}_{N}}\\right)\\mathbf{\\hat{k}_{N}}$"
      ],
      "text/plain": [
       "2*N.x*N.i + 2*N.y*N.j + 2*N.z*N.k"
      ]
     },
     "metadata": {},
     "output_type": "display_data"
    }
   ],
   "source": [
    "import sympy as sp\n",
    "from sympy.vector import CoordSys3D, gradient\n",
    "from IPython.display import display\n",
    "\n",
    "# 创建一个三维坐标系\n",
    "N = CoordSys3D('N')\n",
    "N.x, N.y, N.z = N.x, N.y, N.z\n",
    "\n",
    "# 定义标量场 f(x, y, z)\n",
    "f = N.x**2 + N.y**2 + N.z**2\n",
    "\n",
    "# 使用 gradient 函数计算梯度\n",
    "grad_f = gradient(f)\n",
    "# 输出梯度\n",
    "print(\"梯度 (∇f):\")\n",
    "display(grad_f)"
   ]
  },
  {
   "cell_type": "markdown",
   "id": "bd795159-ba64-4bce-9a8e-5412adbe60ea",
   "metadata": {},
   "source": [
    "#### 例题1.3\n",
    "\n",
    "求出 $r$ (位置矢量的大小)的梯度。\n",
    "\n",
    "解：\n",
    "$$\n",
    "\\begin{split}\n",
    "  \\nabla r\n",
    "  = & \\frac{x\\hat{\\boldsymbol x} + y\\hat{\\boldsymbol y} + z\\hat{\\boldsymbol z}}{r} \\\\\n",
    "  = & \\frac{\\boldsymbol r}{r} = \\hat{\\boldsymbol r}\n",
    "\\end{split}\n",
    "$$\n",
    "\n",
    "鉴于 $r$ 是一个经典的函数，我们总是用 field_point 来命名它，它的模长记为 field_distance。\n",
    "对应的源点 $r'$，记为 source_point，源点的模长记为 source_distance。\n",
    "间隔矢量 separation_vector，模长记为 separation_distance。"
   ]
  },
  {
   "cell_type": "code",
   "execution_count": 1,
   "id": "7a9a4541-d52c-4a20-924e-31f1511b9b6e",
   "metadata": {},
   "outputs": [
    {
     "name": "stdout",
     "output_type": "stream",
     "text": [
      "位置矢量模长的梯度 (∇r):\n"
     ]
    },
    {
     "data": {
      "text/latex": [
       "$\\displaystyle \\left(\\frac{\\mathbf{{x}_{N}}}{\\sqrt{\\mathbf{{x}_{N}}^{2} + \\mathbf{{y}_{N}}^{2} + \\mathbf{{z}_{N}}^{2}}}\\right)\\mathbf{\\hat{i}_{N}} + \\left(\\frac{\\mathbf{{y}_{N}}}{\\sqrt{\\mathbf{{x}_{N}}^{2} + \\mathbf{{y}_{N}}^{2} + \\mathbf{{z}_{N}}^{2}}}\\right)\\mathbf{\\hat{j}_{N}} + \\left(\\frac{\\mathbf{{z}_{N}}}{\\sqrt{\\mathbf{{x}_{N}}^{2} + \\mathbf{{y}_{N}}^{2} + \\mathbf{{z}_{N}}^{2}}}\\right)\\mathbf{\\hat{k}_{N}}$"
      ],
      "text/plain": [
       "(N.x/sqrt(N.x**2 + N.y**2 + N.z**2))*N.i + (N.y/sqrt(N.x**2 + N.y**2 + N.z**2))*N.j + (N.z/sqrt(N.x**2 + N.y**2 + N.z**2))*N.k"
      ]
     },
     "metadata": {},
     "output_type": "display_data"
    }
   ],
   "source": [
    "# 接下来我们用 python 计算 r 的梯度\n",
    "import sympy as sp\n",
    "from sympy.vector import CoordSys3D, gradient\n",
    "from IPython.display import display\n",
    "\n",
    "# 创建一个三维坐标系\n",
    "N = CoordSys3D('N')\n",
    "\n",
    "# 定义标量场位置矢量的模长\n",
    "field_distance = sp.sqrt( N.x**2 + N.y**2 + N.z**2 )\n",
    "\n",
    "# 使用 gradient 函数计算梯度\n",
    "grad_field_distance = gradient(field_distance)\n",
    "\n",
    "# 输出梯度\n",
    "print(\"位置矢量模长的梯度 (∇r):\")\n",
    "display(grad_field_distance)"
   ]
  },
  {
   "cell_type": "markdown",
   "id": "d0d9a2ad-4166-4c15-ab89-5eb49c19223c",
   "metadata": {},
   "source": [
    "## 习题 1.13\n",
    "\n",
    "设 $\\overrightarrow{\\mathfrak r}$ 是从固定点 $(x', y', z')$ 到点 $(x, y, z)$ 的间隔矢量，$\\mathfrak r$ 是它的长度。\n",
    "证明：\n",
    "$$\n",
    "  \\nabla(\\mathfrak r^2) = 2 \\overrightarrow{\\mathfrak r}\n",
    "$$\n",
    "$$\n",
    "  \\nabla \\left( \\frac{1}{\\mathfrak r} \\right) = - \\frac{\\hat{\\mathfrak r}}{\\mathfrak r^2}\n",
    "$$\n",
    "\n",
    "$\\nabla(\\mathfrak r^n)$ 的一般表示是什么?\n"
   ]
  },
  {
   "cell_type": "markdown",
   "id": "78dd3256-83e5-44fe-9f86-a3705a005e5c",
   "metadata": {},
   "source": [
    "#### 第一问"
   ]
  },
  {
   "cell_type": "code",
   "execution_count": 5,
   "id": "0d510472-55fc-4d20-940e-a7dfe63523f5",
   "metadata": {},
   "outputs": [
    {
     "name": "stdout",
     "output_type": "stream",
     "text": [
      "间隔矢量的模长是：\n"
     ]
    },
    {
     "data": {
      "text/latex": [
       "$\\displaystyle \\sqrt{\\left(\\mathbf{{x}_{N}} - source_{x}\\right)^{2} + \\left(\\mathbf{{y}_{N}} - source_{y}\\right)^{2} + \\left(\\mathbf{{z}_{N}} - source_{z}\\right)^{2}}$"
      ],
      "text/plain": [
       "sqrt((N.x - source_x)**2 + (N.y - source_y)**2 + (N.z - source_z)**2)"
      ]
     },
     "metadata": {},
     "output_type": "display_data"
    },
    {
     "name": "stdout",
     "output_type": "stream",
     "text": [
      "第一问所考察函数：\n"
     ]
    },
    {
     "data": {
      "text/latex": [
       "$\\displaystyle \\left(\\mathbf{{x}_{N}} - source_{x}\\right)^{2} + \\left(\\mathbf{{y}_{N}} - source_{y}\\right)^{2} + \\left(\\mathbf{{z}_{N}} - source_{z}\\right)^{2}$"
      ],
      "text/plain": [
       "(N.x - source_x)**2 + (N.y - source_y)**2 + (N.z - source_z)**2"
      ]
     },
     "metadata": {},
     "output_type": "display_data"
    },
    {
     "name": "stdout",
     "output_type": "stream",
     "text": [
      "间隔矢量模长的梯度:\n"
     ]
    },
    {
     "data": {
      "text/latex": [
       "$\\displaystyle \\left(2 \\mathbf{{x}_{N}} - 2 source_{x}\\right)\\mathbf{\\hat{i}_{N}} + \\left(2 \\mathbf{{y}_{N}} - 2 source_{y}\\right)\\mathbf{\\hat{j}_{N}} + \\left(2 \\mathbf{{z}_{N}} - 2 source_{z}\\right)\\mathbf{\\hat{k}_{N}}$"
      ],
      "text/plain": [
       "(2*N.x - 2*source_x)*N.i + (2*N.y - 2*source_y)*N.j + (2*N.z - 2*source_z)*N.k"
      ]
     },
     "metadata": {},
     "output_type": "display_data"
    },
    {
     "name": "stdout",
     "output_type": "stream",
     "text": [
      "间隔矢量模长的梯度是间隔矢量的两倍：\n"
     ]
    },
    {
     "data": {
      "text/latex": [
       "$\\displaystyle \\left(2 \\mathbf{{x}_{N}} - 2 source_{x}\\right)\\mathbf{\\hat{i}_{N}} + \\left(2 \\mathbf{{y}_{N}} - 2 source_{y}\\right)\\mathbf{\\hat{j}_{N}} + \\left(2 \\mathbf{{z}_{N}} - 2 source_{z}\\right)\\mathbf{\\hat{k}_{N}}$"
      ],
      "text/plain": [
       "(2*N.x - 2*source_x)*N.i + (2*N.y - 2*source_y)*N.j + (2*N.z - 2*source_z)*N.k"
      ]
     },
     "metadata": {},
     "output_type": "display_data"
    }
   ],
   "source": [
    "import sympy as sp\n",
    "from sympy.vector import CoordSys3D, gradient\n",
    "from IPython.display import display\n",
    "\n",
    "# 创建一个三维坐标系\n",
    "N = CoordSys3D('N')\n",
    "\n",
    "# 定义 x', y', z'\n",
    "source_x, source_y, source_z = sp.symbols('source_x source_y source_z')\n",
    "\n",
    "# 定义标量场间隔矢量的模长\n",
    "r_separation = (N.x - source_x) * N.i + (N.y - source_y) * N.j + (N.z - source_z) * N.k\n",
    "separation_distance = sp.sqrt((N.x - source_x)**2 + (N.y - source_y)**2 + (N.z - source_z)**2)\n",
    "print(\"间隔矢量的模长是：\")\n",
    "display(separation_distance)\n",
    "\n",
    "f = separation_distance ** 2\n",
    "print(\"第一问所考察函数：\")\n",
    "display(f)\n",
    "\n",
    "# 使用 gradient 函数计算梯度\n",
    "grad_f = gradient(f)\n",
    "# 输出梯度\n",
    "print(\"间隔矢量模长的梯度:\")\n",
    "display(grad_f)\n",
    "print(\"间隔矢量模长的梯度是间隔矢量的两倍：\")\n",
    "display(sp.simplify(2 * r_separation))"
   ]
  },
  {
   "cell_type": "markdown",
   "id": "309197b2-6b4d-4d90-a7f4-b616a7aa454a",
   "metadata": {},
   "source": [
    "#### 第二问"
   ]
  },
  {
   "cell_type": "code",
   "execution_count": 3,
   "id": "732e8833-4519-46fc-89b3-1e6e75a07ae9",
   "metadata": {},
   "outputs": [
    {
     "name": "stdout",
     "output_type": "stream",
     "text": [
      "第二问所考察函数是：\n"
     ]
    },
    {
     "data": {
      "text/latex": [
       "$\\displaystyle \\frac{1}{\\sqrt{\\left(\\mathbf{{x}_{N}} - source_{x}\\right)^{2} + \\left(\\mathbf{{y}_{N}} - source_{y}\\right)^{2} + \\left(\\mathbf{{z}_{N}} - source_{z}\\right)^{2}}}$"
      ],
      "text/plain": [
       "1/sqrt((N.x - source_x)**2 + (N.y - source_y)**2 + (N.z - source_z)**2)"
      ]
     },
     "metadata": {},
     "output_type": "display_data"
    },
    {
     "name": "stdout",
     "output_type": "stream",
     "text": [
      "间隔矢量模长的倒数的梯度 (∇1/r):\n"
     ]
    },
    {
     "data": {
      "text/latex": [
       "$\\displaystyle \\left(\\frac{- \\mathbf{{x}_{N}} + source_{x}}{\\left(\\left(\\mathbf{{x}_{N}} - source_{x}\\right)^{2} + \\left(\\mathbf{{y}_{N}} - source_{y}\\right)^{2} + \\left(\\mathbf{{z}_{N}} - source_{z}\\right)^{2}\\right)^{\\frac{3}{2}}}\\right)\\mathbf{\\hat{i}_{N}} + \\left(\\frac{- \\mathbf{{y}_{N}} + source_{y}}{\\left(\\left(\\mathbf{{x}_{N}} - source_{x}\\right)^{2} + \\left(\\mathbf{{y}_{N}} - source_{y}\\right)^{2} + \\left(\\mathbf{{z}_{N}} - source_{z}\\right)^{2}\\right)^{\\frac{3}{2}}}\\right)\\mathbf{\\hat{j}_{N}} + \\left(\\frac{- \\mathbf{{z}_{N}} + source_{z}}{\\left(\\left(\\mathbf{{x}_{N}} - source_{x}\\right)^{2} + \\left(\\mathbf{{y}_{N}} - source_{y}\\right)^{2} + \\left(\\mathbf{{z}_{N}} - source_{z}\\right)^{2}\\right)^{\\frac{3}{2}}}\\right)\\mathbf{\\hat{k}_{N}}$"
      ],
      "text/plain": [
       "((-N.x + source_x)/((N.x - source_x)**2 + (N.y - source_y)**2 + (N.z - source_z)**2)**(3/2))*N.i + ((-N.y + source_y)/((N.x - source_x)**2 + (N.y - source_y)**2 + (N.z - source_z)**2)**(3/2))*N.j + ((-N.z + source_z)/((N.x - source_x)**2 + (N.y - source_y)**2 + (N.z - source_z)**2)**(3/2))*N.k"
      ]
     },
     "metadata": {},
     "output_type": "display_data"
    },
    {
     "name": "stdout",
     "output_type": "stream",
     "text": [
      "就等于右式\n"
     ]
    },
    {
     "data": {
      "text/latex": [
       "$\\displaystyle \\left(\\frac{- \\mathbf{{x}_{N}} + source_{x}}{\\left(\\left(\\mathbf{{x}_{N}} - source_{x}\\right)^{2} + \\left(\\mathbf{{y}_{N}} - source_{y}\\right)^{2} + \\left(\\mathbf{{z}_{N}} - source_{z}\\right)^{2}\\right)^{\\frac{3}{2}}}\\right)\\mathbf{\\hat{i}_{N}} + \\left(\\frac{- \\mathbf{{y}_{N}} + source_{y}}{\\left(\\left(\\mathbf{{x}_{N}} - source_{x}\\right)^{2} + \\left(\\mathbf{{y}_{N}} - source_{y}\\right)^{2} + \\left(\\mathbf{{z}_{N}} - source_{z}\\right)^{2}\\right)^{\\frac{3}{2}}}\\right)\\mathbf{\\hat{j}_{N}} + \\left(\\frac{- \\mathbf{{z}_{N}} + source_{z}}{\\left(\\left(\\mathbf{{x}_{N}} - source_{x}\\right)^{2} + \\left(\\mathbf{{y}_{N}} - source_{y}\\right)^{2} + \\left(\\mathbf{{z}_{N}} - source_{z}\\right)^{2}\\right)^{\\frac{3}{2}}}\\right)\\mathbf{\\hat{k}_{N}}$"
      ],
      "text/plain": [
       "((-N.x + source_x)/((N.x - source_x)**2 + (N.y - source_y)**2 + (N.z - source_z)**2)**(3/2))*N.i + ((-N.y + source_y)/((N.x - source_x)**2 + (N.y - source_y)**2 + (N.z - source_z)**2)**(3/2))*N.j + ((-N.z + source_z)/((N.x - source_x)**2 + (N.y - source_y)**2 + (N.z - source_z)**2)**(3/2))*N.k"
      ]
     },
     "metadata": {},
     "output_type": "display_data"
    }
   ],
   "source": [
    "# 使用 gradient 函数计算梯度\n",
    "f = 1 / separation_distance\n",
    "grad_f = gradient(f)\n",
    "\n",
    "print(\"第二问所考察函数是：\")\n",
    "display(f)\n",
    "\n",
    "# 输出梯度\n",
    "print(\"间隔矢量模长的倒数的梯度 (∇1/r):\")\n",
    "display(grad_f)\n",
    "\n",
    "print(\"就等于右式\")\n",
    "display( sp.simplify( - r_separation  / separation_distance**3) )"
   ]
  },
  {
   "cell_type": "markdown",
   "id": "ef461525-b499-4366-addd-8abb56a5616b",
   "metadata": {},
   "source": [
    "#### 第三问"
   ]
  },
  {
   "cell_type": "code",
   "execution_count": 6,
   "id": "6a88603c-705e-43b7-912e-f1552d59e591",
   "metadata": {},
   "outputs": [
    {
     "name": "stdout",
     "output_type": "stream",
     "text": [
      "间隔矢量模长的 1 次方的梯度:\n"
     ]
    },
    {
     "data": {
      "text/latex": [
       "$\\displaystyle \\left(\\frac{- \\mathbf{{x}_{N}} + source_{x}}{\\left(\\left(\\mathbf{{x}_{N}} - source_{x}\\right)^{2} + \\left(\\mathbf{{y}_{N}} - source_{y}\\right)^{2} + \\left(\\mathbf{{z}_{N}} - source_{z}\\right)^{2}\\right)^{\\frac{3}{2}}}\\right)\\mathbf{\\hat{i}_{N}} + \\left(\\frac{- \\mathbf{{y}_{N}} + source_{y}}{\\left(\\left(\\mathbf{{x}_{N}} - source_{x}\\right)^{2} + \\left(\\mathbf{{y}_{N}} - source_{y}\\right)^{2} + \\left(\\mathbf{{z}_{N}} - source_{z}\\right)^{2}\\right)^{\\frac{3}{2}}}\\right)\\mathbf{\\hat{j}_{N}} + \\left(\\frac{- \\mathbf{{z}_{N}} + source_{z}}{\\left(\\left(\\mathbf{{x}_{N}} - source_{x}\\right)^{2} + \\left(\\mathbf{{y}_{N}} - source_{y}\\right)^{2} + \\left(\\mathbf{{z}_{N}} - source_{z}\\right)^{2}\\right)^{\\frac{3}{2}}}\\right)\\mathbf{\\hat{k}_{N}}$"
      ],
      "text/plain": [
       "((-N.x + source_x)/((N.x - source_x)**2 + (N.y - source_y)**2 + (N.z - source_z)**2)**(3/2))*N.i + ((-N.y + source_y)/((N.x - source_x)**2 + (N.y - source_y)**2 + (N.z - source_z)**2)**(3/2))*N.j + ((-N.z + source_z)/((N.x - source_x)**2 + (N.y - source_y)**2 + (N.z - source_z)**2)**(3/2))*N.k"
      ]
     },
     "metadata": {},
     "output_type": "display_data"
    },
    {
     "name": "stdout",
     "output_type": "stream",
     "text": [
      "间隔矢量模长的 2 次方的梯度:\n"
     ]
    },
    {
     "data": {
      "text/latex": [
       "$\\displaystyle \\left(\\frac{- 2 \\mathbf{{x}_{N}} + 2 source_{x}}{\\left(\\left(\\mathbf{{x}_{N}} - source_{x}\\right)^{2} + \\left(\\mathbf{{y}_{N}} - source_{y}\\right)^{2} + \\left(\\mathbf{{z}_{N}} - source_{z}\\right)^{2}\\right)^{2}}\\right)\\mathbf{\\hat{i}_{N}} + \\left(\\frac{- 2 \\mathbf{{y}_{N}} + 2 source_{y}}{\\left(\\left(\\mathbf{{x}_{N}} - source_{x}\\right)^{2} + \\left(\\mathbf{{y}_{N}} - source_{y}\\right)^{2} + \\left(\\mathbf{{z}_{N}} - source_{z}\\right)^{2}\\right)^{2}}\\right)\\mathbf{\\hat{j}_{N}} + \\left(\\frac{- 2 \\mathbf{{z}_{N}} + 2 source_{z}}{\\left(\\left(\\mathbf{{x}_{N}} - source_{x}\\right)^{2} + \\left(\\mathbf{{y}_{N}} - source_{y}\\right)^{2} + \\left(\\mathbf{{z}_{N}} - source_{z}\\right)^{2}\\right)^{2}}\\right)\\mathbf{\\hat{k}_{N}}$"
      ],
      "text/plain": [
       "((-2*N.x + 2*source_x)/((N.x - source_x)**2 + (N.y - source_y)**2 + (N.z - source_z)**2)**2)*N.i + ((-2*N.y + 2*source_y)/((N.x - source_x)**2 + (N.y - source_y)**2 + (N.z - source_z)**2)**2)*N.j + ((-2*N.z + 2*source_z)/((N.x - source_x)**2 + (N.y - source_y)**2 + (N.z - source_z)**2)**2)*N.k"
      ]
     },
     "metadata": {},
     "output_type": "display_data"
    },
    {
     "name": "stdout",
     "output_type": "stream",
     "text": [
      "间隔矢量模长的 3 次方的梯度:\n"
     ]
    },
    {
     "data": {
      "text/latex": [
       "$\\displaystyle \\left(\\frac{- 3 \\mathbf{{x}_{N}} + 3 source_{x}}{\\left(\\left(\\mathbf{{x}_{N}} - source_{x}\\right)^{2} + \\left(\\mathbf{{y}_{N}} - source_{y}\\right)^{2} + \\left(\\mathbf{{z}_{N}} - source_{z}\\right)^{2}\\right)^{\\frac{5}{2}}}\\right)\\mathbf{\\hat{i}_{N}} + \\left(\\frac{- 3 \\mathbf{{y}_{N}} + 3 source_{y}}{\\left(\\left(\\mathbf{{x}_{N}} - source_{x}\\right)^{2} + \\left(\\mathbf{{y}_{N}} - source_{y}\\right)^{2} + \\left(\\mathbf{{z}_{N}} - source_{z}\\right)^{2}\\right)^{\\frac{5}{2}}}\\right)\\mathbf{\\hat{j}_{N}} + \\left(\\frac{- 3 \\mathbf{{z}_{N}} + 3 source_{z}}{\\left(\\left(\\mathbf{{x}_{N}} - source_{x}\\right)^{2} + \\left(\\mathbf{{y}_{N}} - source_{y}\\right)^{2} + \\left(\\mathbf{{z}_{N}} - source_{z}\\right)^{2}\\right)^{\\frac{5}{2}}}\\right)\\mathbf{\\hat{k}_{N}}$"
      ],
      "text/plain": [
       "((-3*N.x + 3*source_x)/((N.x - source_x)**2 + (N.y - source_y)**2 + (N.z - source_z)**2)**(5/2))*N.i + ((-3*N.y + 3*source_y)/((N.x - source_x)**2 + (N.y - source_y)**2 + (N.z - source_z)**2)**(5/2))*N.j + ((-3*N.z + 3*source_z)/((N.x - source_x)**2 + (N.y - source_y)**2 + (N.z - source_z)**2)**(5/2))*N.k"
      ]
     },
     "metadata": {},
     "output_type": "display_data"
    },
    {
     "name": "stdout",
     "output_type": "stream",
     "text": [
      "间隔矢量模长的 4 次方的梯度:\n"
     ]
    },
    {
     "data": {
      "text/latex": [
       "$\\displaystyle \\left(\\frac{- 4 \\mathbf{{x}_{N}} + 4 source_{x}}{\\left(\\left(\\mathbf{{x}_{N}} - source_{x}\\right)^{2} + \\left(\\mathbf{{y}_{N}} - source_{y}\\right)^{2} + \\left(\\mathbf{{z}_{N}} - source_{z}\\right)^{2}\\right)^{3}}\\right)\\mathbf{\\hat{i}_{N}} + \\left(\\frac{- 4 \\mathbf{{y}_{N}} + 4 source_{y}}{\\left(\\left(\\mathbf{{x}_{N}} - source_{x}\\right)^{2} + \\left(\\mathbf{{y}_{N}} - source_{y}\\right)^{2} + \\left(\\mathbf{{z}_{N}} - source_{z}\\right)^{2}\\right)^{3}}\\right)\\mathbf{\\hat{j}_{N}} + \\left(\\frac{- 4 \\mathbf{{z}_{N}} + 4 source_{z}}{\\left(\\left(\\mathbf{{x}_{N}} - source_{x}\\right)^{2} + \\left(\\mathbf{{y}_{N}} - source_{y}\\right)^{2} + \\left(\\mathbf{{z}_{N}} - source_{z}\\right)^{2}\\right)^{3}}\\right)\\mathbf{\\hat{k}_{N}}$"
      ],
      "text/plain": [
       "((-4*N.x + 4*source_x)/((N.x - source_x)**2 + (N.y - source_y)**2 + (N.z - source_z)**2)**3)*N.i + ((-4*N.y + 4*source_y)/((N.x - source_x)**2 + (N.y - source_y)**2 + (N.z - source_z)**2)**3)*N.j + ((-4*N.z + 4*source_z)/((N.x - source_x)**2 + (N.y - source_y)**2 + (N.z - source_z)**2)**3)*N.k"
      ]
     },
     "metadata": {},
     "output_type": "display_data"
    },
    {
     "name": "stdout",
     "output_type": "stream",
     "text": [
      "间隔矢量模长的 5 次方的梯度:\n"
     ]
    },
    {
     "data": {
      "text/latex": [
       "$\\displaystyle \\left(\\frac{- 5 \\mathbf{{x}_{N}} + 5 source_{x}}{\\left(\\left(\\mathbf{{x}_{N}} - source_{x}\\right)^{2} + \\left(\\mathbf{{y}_{N}} - source_{y}\\right)^{2} + \\left(\\mathbf{{z}_{N}} - source_{z}\\right)^{2}\\right)^{\\frac{7}{2}}}\\right)\\mathbf{\\hat{i}_{N}} + \\left(\\frac{- 5 \\mathbf{{y}_{N}} + 5 source_{y}}{\\left(\\left(\\mathbf{{x}_{N}} - source_{x}\\right)^{2} + \\left(\\mathbf{{y}_{N}} - source_{y}\\right)^{2} + \\left(\\mathbf{{z}_{N}} - source_{z}\\right)^{2}\\right)^{\\frac{7}{2}}}\\right)\\mathbf{\\hat{j}_{N}} + \\left(\\frac{- 5 \\mathbf{{z}_{N}} + 5 source_{z}}{\\left(\\left(\\mathbf{{x}_{N}} - source_{x}\\right)^{2} + \\left(\\mathbf{{y}_{N}} - source_{y}\\right)^{2} + \\left(\\mathbf{{z}_{N}} - source_{z}\\right)^{2}\\right)^{\\frac{7}{2}}}\\right)\\mathbf{\\hat{k}_{N}}$"
      ],
      "text/plain": [
       "((-5*N.x + 5*source_x)/((N.x - source_x)**2 + (N.y - source_y)**2 + (N.z - source_z)**2)**(7/2))*N.i + ((-5*N.y + 5*source_y)/((N.x - source_x)**2 + (N.y - source_y)**2 + (N.z - source_z)**2)**(7/2))*N.j + ((-5*N.z + 5*source_z)/((N.x - source_x)**2 + (N.y - source_y)**2 + (N.z - source_z)**2)**(7/2))*N.k"
      ]
     },
     "metadata": {},
     "output_type": "display_data"
    },
    {
     "name": "stdout",
     "output_type": "stream",
     "text": [
      "间隔矢量模长的 6 次方的梯度:\n"
     ]
    },
    {
     "data": {
      "text/latex": [
       "$\\displaystyle \\left(\\frac{- 6 \\mathbf{{x}_{N}} + 6 source_{x}}{\\left(\\left(\\mathbf{{x}_{N}} - source_{x}\\right)^{2} + \\left(\\mathbf{{y}_{N}} - source_{y}\\right)^{2} + \\left(\\mathbf{{z}_{N}} - source_{z}\\right)^{2}\\right)^{4}}\\right)\\mathbf{\\hat{i}_{N}} + \\left(\\frac{- 6 \\mathbf{{y}_{N}} + 6 source_{y}}{\\left(\\left(\\mathbf{{x}_{N}} - source_{x}\\right)^{2} + \\left(\\mathbf{{y}_{N}} - source_{y}\\right)^{2} + \\left(\\mathbf{{z}_{N}} - source_{z}\\right)^{2}\\right)^{4}}\\right)\\mathbf{\\hat{j}_{N}} + \\left(\\frac{- 6 \\mathbf{{z}_{N}} + 6 source_{z}}{\\left(\\left(\\mathbf{{x}_{N}} - source_{x}\\right)^{2} + \\left(\\mathbf{{y}_{N}} - source_{y}\\right)^{2} + \\left(\\mathbf{{z}_{N}} - source_{z}\\right)^{2}\\right)^{4}}\\right)\\mathbf{\\hat{k}_{N}}$"
      ],
      "text/plain": [
       "((-6*N.x + 6*source_x)/((N.x - source_x)**2 + (N.y - source_y)**2 + (N.z - source_z)**2)**4)*N.i + ((-6*N.y + 6*source_y)/((N.x - source_x)**2 + (N.y - source_y)**2 + (N.z - source_z)**2)**4)*N.j + ((-6*N.z + 6*source_z)/((N.x - source_x)**2 + (N.y - source_y)**2 + (N.z - source_z)**2)**4)*N.k"
      ]
     },
     "metadata": {},
     "output_type": "display_data"
    },
    {
     "name": "stdout",
     "output_type": "stream",
     "text": [
      "间隔矢量模长的 7 次方的梯度:\n"
     ]
    },
    {
     "data": {
      "text/latex": [
       "$\\displaystyle \\left(\\frac{- 7 \\mathbf{{x}_{N}} + 7 source_{x}}{\\left(\\left(\\mathbf{{x}_{N}} - source_{x}\\right)^{2} + \\left(\\mathbf{{y}_{N}} - source_{y}\\right)^{2} + \\left(\\mathbf{{z}_{N}} - source_{z}\\right)^{2}\\right)^{\\frac{9}{2}}}\\right)\\mathbf{\\hat{i}_{N}} + \\left(\\frac{- 7 \\mathbf{{y}_{N}} + 7 source_{y}}{\\left(\\left(\\mathbf{{x}_{N}} - source_{x}\\right)^{2} + \\left(\\mathbf{{y}_{N}} - source_{y}\\right)^{2} + \\left(\\mathbf{{z}_{N}} - source_{z}\\right)^{2}\\right)^{\\frac{9}{2}}}\\right)\\mathbf{\\hat{j}_{N}} + \\left(\\frac{- 7 \\mathbf{{z}_{N}} + 7 source_{z}}{\\left(\\left(\\mathbf{{x}_{N}} - source_{x}\\right)^{2} + \\left(\\mathbf{{y}_{N}} - source_{y}\\right)^{2} + \\left(\\mathbf{{z}_{N}} - source_{z}\\right)^{2}\\right)^{\\frac{9}{2}}}\\right)\\mathbf{\\hat{k}_{N}}$"
      ],
      "text/plain": [
       "((-7*N.x + 7*source_x)/((N.x - source_x)**2 + (N.y - source_y)**2 + (N.z - source_z)**2)**(9/2))*N.i + ((-7*N.y + 7*source_y)/((N.x - source_x)**2 + (N.y - source_y)**2 + (N.z - source_z)**2)**(9/2))*N.j + ((-7*N.z + 7*source_z)/((N.x - source_x)**2 + (N.y - source_y)**2 + (N.z - source_z)**2)**(9/2))*N.k"
      ]
     },
     "metadata": {},
     "output_type": "display_data"
    },
    {
     "name": "stdout",
     "output_type": "stream",
     "text": [
      "间隔矢量模长的 8 次方的梯度:\n"
     ]
    },
    {
     "data": {
      "text/latex": [
       "$\\displaystyle \\left(\\frac{- 8 \\mathbf{{x}_{N}} + 8 source_{x}}{\\left(\\left(\\mathbf{{x}_{N}} - source_{x}\\right)^{2} + \\left(\\mathbf{{y}_{N}} - source_{y}\\right)^{2} + \\left(\\mathbf{{z}_{N}} - source_{z}\\right)^{2}\\right)^{5}}\\right)\\mathbf{\\hat{i}_{N}} + \\left(\\frac{- 8 \\mathbf{{y}_{N}} + 8 source_{y}}{\\left(\\left(\\mathbf{{x}_{N}} - source_{x}\\right)^{2} + \\left(\\mathbf{{y}_{N}} - source_{y}\\right)^{2} + \\left(\\mathbf{{z}_{N}} - source_{z}\\right)^{2}\\right)^{5}}\\right)\\mathbf{\\hat{j}_{N}} + \\left(\\frac{- 8 \\mathbf{{z}_{N}} + 8 source_{z}}{\\left(\\left(\\mathbf{{x}_{N}} - source_{x}\\right)^{2} + \\left(\\mathbf{{y}_{N}} - source_{y}\\right)^{2} + \\left(\\mathbf{{z}_{N}} - source_{z}\\right)^{2}\\right)^{5}}\\right)\\mathbf{\\hat{k}_{N}}$"
      ],
      "text/plain": [
       "((-8*N.x + 8*source_x)/((N.x - source_x)**2 + (N.y - source_y)**2 + (N.z - source_z)**2)**5)*N.i + ((-8*N.y + 8*source_y)/((N.x - source_x)**2 + (N.y - source_y)**2 + (N.z - source_z)**2)**5)*N.j + ((-8*N.z + 8*source_z)/((N.x - source_x)**2 + (N.y - source_y)**2 + (N.z - source_z)**2)**5)*N.k"
      ]
     },
     "metadata": {},
     "output_type": "display_data"
    },
    {
     "name": "stdout",
     "output_type": "stream",
     "text": [
      "间隔矢量模长的 9 次方的梯度:\n"
     ]
    },
    {
     "data": {
      "text/latex": [
       "$\\displaystyle \\left(\\frac{- 9 \\mathbf{{x}_{N}} + 9 source_{x}}{\\left(\\left(\\mathbf{{x}_{N}} - source_{x}\\right)^{2} + \\left(\\mathbf{{y}_{N}} - source_{y}\\right)^{2} + \\left(\\mathbf{{z}_{N}} - source_{z}\\right)^{2}\\right)^{\\frac{11}{2}}}\\right)\\mathbf{\\hat{i}_{N}} + \\left(\\frac{- 9 \\mathbf{{y}_{N}} + 9 source_{y}}{\\left(\\left(\\mathbf{{x}_{N}} - source_{x}\\right)^{2} + \\left(\\mathbf{{y}_{N}} - source_{y}\\right)^{2} + \\left(\\mathbf{{z}_{N}} - source_{z}\\right)^{2}\\right)^{\\frac{11}{2}}}\\right)\\mathbf{\\hat{j}_{N}} + \\left(\\frac{- 9 \\mathbf{{z}_{N}} + 9 source_{z}}{\\left(\\left(\\mathbf{{x}_{N}} - source_{x}\\right)^{2} + \\left(\\mathbf{{y}_{N}} - source_{y}\\right)^{2} + \\left(\\mathbf{{z}_{N}} - source_{z}\\right)^{2}\\right)^{\\frac{11}{2}}}\\right)\\mathbf{\\hat{k}_{N}}$"
      ],
      "text/plain": [
       "((-9*N.x + 9*source_x)/((N.x - source_x)**2 + (N.y - source_y)**2 + (N.z - source_z)**2)**(11/2))*N.i + ((-9*N.y + 9*source_y)/((N.x - source_x)**2 + (N.y - source_y)**2 + (N.z - source_z)**2)**(11/2))*N.j + ((-9*N.z + 9*source_z)/((N.x - source_x)**2 + (N.y - source_y)**2 + (N.z - source_z)**2)**(11/2))*N.k"
      ]
     },
     "metadata": {},
     "output_type": "display_data"
    }
   ],
   "source": [
    "for i in range(1,10):\n",
    "    f = 1/ (separation_distance ** i)\n",
    "    grad_f = gradient(f)\n",
    "    print(f\"间隔矢量模长的 {i} 次方的梯度:\")\n",
    "    display(grad_f)"
   ]
  },
  {
   "cell_type": "code",
   "execution_count": null,
   "id": "bd0a05ce",
   "metadata": {},
   "outputs": [],
   "source": []
  },
  {
   "cell_type": "markdown",
   "id": "5092abc3-0626-4d65-adf4-a2565ff4d0fb",
   "metadata": {},
   "source": [
    "## 求抽象标量场的梯度"
   ]
  },
  {
   "cell_type": "code",
   "execution_count": null,
   "id": "2d83b987-615a-46f0-a2c0-637f192ed25b",
   "metadata": {},
   "outputs": [
    {
     "name": "stdout",
     "output_type": "stream",
     "text": [
      "梯度 (∇f):\n"
     ]
    },
    {
     "data": {
      "text/latex": [
       "$\\displaystyle \\left(\\frac{\\partial}{\\partial \\mathbf{{x}_{N}}} f{\\left(\\mathbf{{x}_{N}},\\mathbf{{y}_{N}},\\mathbf{{z}_{N}} \\right)}\\right)\\mathbf{\\hat{i}_{N}} + \\left(\\frac{\\partial}{\\partial \\mathbf{{y}_{N}}} f{\\left(\\mathbf{{x}_{N}},\\mathbf{{y}_{N}},\\mathbf{{z}_{N}} \\right)}\\right)\\mathbf{\\hat{j}_{N}} + \\left(\\frac{\\partial}{\\partial \\mathbf{{z}_{N}}} f{\\left(\\mathbf{{x}_{N}},\\mathbf{{y}_{N}},\\mathbf{{z}_{N}} \\right)}\\right)\\mathbf{\\hat{k}_{N}}$"
      ],
      "text/plain": [
       "(Derivative(f(N.x, N.y, N.z), N.x))*N.i + (Derivative(f(N.x, N.y, N.z), N.y))*N.j + (Derivative(f(N.x, N.y, N.z), N.z))*N.k"
      ]
     },
     "metadata": {},
     "output_type": "display_data"
    }
   ],
   "source": [
    "import sympy as sp\n",
    "from sympy.vector import CoordSys3D, gradient\n",
    "from sympy import Function\n",
    "from IPython.display import display\n",
    "\n",
    "# 创建一个三维坐标系\n",
    "N = CoordSys3D('N')\n",
    "\n",
    "# 定义标量场 f 和向量场 A\n",
    "N.x, N.y, N.z = N.x, N.y, N.z\n",
    "f = Function('f')(N.x, N.y, N.z)  # 抽象标量场 f\n",
    "\n",
    "# 使用 nabla 进行符号运算\n",
    "# 1. 梯度运算\n",
    "grad_f = gradient(f)\n",
    "grad_f = sp.simplify(grad_f)\n",
    "print(\"梯度 (∇f):\")\n",
    "display(grad_f)"
   ]
  },
  {
   "cell_type": "code",
   "execution_count": null,
   "id": "58ae126c",
   "metadata": {},
   "outputs": [],
   "source": []
  },
  {
   "cell_type": "code",
   "execution_count": null,
   "id": "533a52ea",
   "metadata": {},
   "outputs": [],
   "source": []
  },
  {
   "cell_type": "markdown",
   "id": "139e68b2",
   "metadata": {},
   "source": [
    "#### 习题1.14\n",
    "\n",
    "设 $f$ 仅是两个变量 $(y, z)$ 的函数。\n",
    "证明在转动变换式(1.29)下梯度 $\\nabla f = (\\partial f/\\partial y)\\hat{\\boldsymbol y} + (\\partial f/\\partial z)\\hat{\\boldsymbol z}$ 的变换满足矢量变换规律。"
   ]
  },
  {
   "cell_type": "markdown",
   "id": "d800d368",
   "metadata": {},
   "source": [
    "我们知道，按复合函数导数的链式法则\n",
    "$$\n",
    "  \\begin{pmatrix}\n",
    "    \\frac{\\partial f}{\\partial \\bar{y}} \\\\\n",
    "    \\frac{\\partial f}{\\partial \\bar{z}}\n",
    "  \\end{pmatrix}\n",
    "  = \n",
    "  \\begin{pmatrix}\n",
    "    \\frac{\\partial y}{\\partial \\bar{y}} & \\frac{\\partial z}{\\partial \\bar{y}} \\\\\n",
    "    \\frac{\\partial y}{\\partial \\bar{z}} & \\frac{\\partial z}{\\partial \\bar{z}} \n",
    "  \\end{pmatrix}\n",
    "  \\begin{pmatrix}\n",
    "    \\frac{\\partial f}{\\partial y} \\\\ \\frac{\\partial f}{\\partial z} \n",
    "  \\end{pmatrix}\n",
    "$$\n",
    "我们又知道\n",
    "$$\n",
    "  \\begin{pmatrix}\n",
    "    \\bar{y} \\\\ \\bar{z}\n",
    "  \\end{pmatrix}\n",
    "  =\n",
    "  \\begin{pmatrix}\n",
    "    \\cos\\phi & \\sin\\phi \\\\\n",
    "    -\\sin\\phi & \\cos\\phi\n",
    "  \\end{pmatrix}\n",
    "  \\begin{pmatrix}\n",
    "    y \\\\ z\n",
    "  \\end{pmatrix}\n",
    "$$\n",
    "所以\n",
    "$$\n",
    "  \\begin{pmatrix}\n",
    "    y \\\\ z\n",
    "  \\end{pmatrix}\n",
    "  =\n",
    "  \\begin{pmatrix}\n",
    "    \\cos\\phi & -\\sin\\phi \\\\\n",
    "    \\sin\\phi & \\cos\\phi\n",
    "  \\end{pmatrix}\n",
    "  \\begin{pmatrix}\n",
    "    \\bar{y} \\\\ \\bar{z}\n",
    "  \\end{pmatrix}\n",
    "$$\n",
    "所以\n",
    "$$\n",
    "  \\begin{pmatrix}\n",
    "    \\frac{\\partial f}{\\partial \\bar{y}} \\\\\n",
    "    \\frac{\\partial f}{\\partial \\bar{z}}\n",
    "  \\end{pmatrix}\n",
    "  = \n",
    "  \\begin{pmatrix}\n",
    "    \\cos\\phi & \\sin\\phi \\\\\n",
    "    -\\sin\\phi & \\cos\\phi\n",
    "  \\end{pmatrix}\n",
    "  \\begin{pmatrix}\n",
    "    \\frac{\\partial f}{\\partial y} \\\\ \\frac{\\partial f}{\\partial z} \n",
    "  \\end{pmatrix}\n",
    "$$"
   ]
  },
  {
   "cell_type": "code",
   "execution_count": 3,
   "id": "aff0eefb",
   "metadata": {},
   "outputs": [
    {
     "name": "stdout",
     "output_type": "stream",
     "text": [
      "抽象标量场 f = \n"
     ]
    },
    {
     "data": {
      "text/latex": [
       "$\\displaystyle f{\\left(\\mathbf{{x}_{O}},\\mathbf{{y}_{O}},\\mathbf{{z}_{O}} \\right)}$"
      ],
      "text/plain": [
       "f(O.x, O.y, O.z)"
      ]
     },
     "metadata": {},
     "output_type": "display_data"
    },
    {
     "name": "stdout",
     "output_type": "stream",
     "text": [
      "标量场在原坐标系下的梯度 (∇f):\n"
     ]
    },
    {
     "data": {
      "text/latex": [
       "$\\displaystyle \\left(\\frac{\\partial}{\\partial \\mathbf{{x}_{O}}} f{\\left(\\mathbf{{x}_{O}},\\mathbf{{y}_{O}},\\mathbf{{z}_{O}} \\right)}\\right)\\mathbf{\\hat{i}_{O}} + \\left(\\frac{\\partial}{\\partial \\mathbf{{y}_{O}}} f{\\left(\\mathbf{{x}_{O}},\\mathbf{{y}_{O}},\\mathbf{{z}_{O}} \\right)}\\right)\\mathbf{\\hat{j}_{O}} + \\left(\\frac{\\partial}{\\partial \\mathbf{{z}_{O}}} f{\\left(\\mathbf{{x}_{O}},\\mathbf{{y}_{O}},\\mathbf{{z}_{O}} \\right)}\\right)\\mathbf{\\hat{k}_{O}}$"
      ],
      "text/plain": [
       "(Derivative(f(O.x, O.y, O.z), O.x))*O.i + (Derivative(f(O.x, O.y, O.z), O.y))*O.j + (Derivative(f(O.x, O.y, O.z), O.z))*O.k"
      ]
     },
     "metadata": {},
     "output_type": "display_data"
    },
    {
     "name": "stdout",
     "output_type": "stream",
     "text": [
      "如果固定x轴，让y,z绕着x轴旋转phi角度，接下来要求 f 在新坐标系中的表示，就需要用新的变量表示旧变量，变换矩阵是 N_in_O：\n"
     ]
    },
    {
     "data": {
      "text/latex": [
       "$\\displaystyle f{\\left(\\mathbf{{x}_{N}},\\mathbf{{y}_{N}} \\cos{\\left(\\phi \\right)} - \\mathbf{{z}_{N}} \\sin{\\left(\\phi \\right)},\\mathbf{{y}_{N}} \\sin{\\left(\\phi \\right)} + \\mathbf{{z}_{N}} \\cos{\\left(\\phi \\right)} \\right)}$"
      ],
      "text/plain": [
       "f(N.x, N.y*cos(phi) - N.z*sin(phi), N.y*sin(phi) + N.z*cos(phi))"
      ]
     },
     "metadata": {},
     "output_type": "display_data"
    },
    {
     "name": "stdout",
     "output_type": "stream",
     "text": [
      "f 在新坐标系中的梯度 (∇f) 表示为：\n"
     ]
    },
    {
     "data": {
      "text/latex": [
       "$\\displaystyle \\left(\\frac{\\partial}{\\partial \\mathbf{{x}_{N}}} f{\\left(\\mathbf{{x}_{N}},\\mathbf{{y}_{N}} \\cos{\\left(\\phi \\right)} - \\mathbf{{z}_{N}} \\sin{\\left(\\phi \\right)},\\mathbf{{y}_{N}} \\sin{\\left(\\phi \\right)} + \\mathbf{{z}_{N}} \\cos{\\left(\\phi \\right)} \\right)}\\right)\\mathbf{\\hat{i}_{N}} + \\left(\\sin{\\left(\\phi \\right)} \\left. \\frac{\\partial}{\\partial \\xi_{3}} f{\\left(\\mathbf{{x}_{N}},\\mathbf{{y}_{N}} \\cos{\\left(\\phi \\right)} - \\mathbf{{z}_{N}} \\sin{\\left(\\phi \\right)},\\xi_{3} \\right)} \\right|_{\\substack{ \\xi_{3}=\\mathbf{{y}_{N}} \\sin{\\left(\\phi \\right)} + \\mathbf{{z}_{N}} \\cos{\\left(\\phi \\right)} }} + \\cos{\\left(\\phi \\right)} \\left. \\frac{\\partial}{\\partial \\xi_{2}} f{\\left(\\mathbf{{x}_{N}},\\xi_{2},\\mathbf{{y}_{N}} \\sin{\\left(\\phi \\right)} + \\mathbf{{z}_{N}} \\cos{\\left(\\phi \\right)} \\right)} \\right|_{\\substack{ \\xi_{2}=\\mathbf{{y}_{N}} \\cos{\\left(\\phi \\right)} - \\mathbf{{z}_{N}} \\sin{\\left(\\phi \\right)} }}\\right)\\mathbf{\\hat{j}_{N}} + \\left(- \\sin{\\left(\\phi \\right)} \\left. \\frac{\\partial}{\\partial \\xi_{2}} f{\\left(\\mathbf{{x}_{N}},\\xi_{2},\\mathbf{{y}_{N}} \\sin{\\left(\\phi \\right)} + \\mathbf{{z}_{N}} \\cos{\\left(\\phi \\right)} \\right)} \\right|_{\\substack{ \\xi_{2}=\\mathbf{{y}_{N}} \\cos{\\left(\\phi \\right)} - \\mathbf{{z}_{N}} \\sin{\\left(\\phi \\right)} }} + \\cos{\\left(\\phi \\right)} \\left. \\frac{\\partial}{\\partial \\xi_{3}} f{\\left(\\mathbf{{x}_{N}},\\mathbf{{y}_{N}} \\cos{\\left(\\phi \\right)} - \\mathbf{{z}_{N}} \\sin{\\left(\\phi \\right)},\\xi_{3} \\right)} \\right|_{\\substack{ \\xi_{3}=\\mathbf{{y}_{N}} \\sin{\\left(\\phi \\right)} + \\mathbf{{z}_{N}} \\cos{\\left(\\phi \\right)} }}\\right)\\mathbf{\\hat{k}_{N}}$"
      ],
      "text/plain": [
       "(Derivative(f(N.x, N.y*cos(phi) - N.z*sin(phi), N.y*sin(phi) + N.z*cos(phi)), N.x))*N.i + (sin(phi)*Subs(Derivative(f(N.x, N.y*cos(phi) - N.z*sin(phi), _xi_3), _xi_3), _xi_3, N.y*sin(phi) + N.z*cos(phi)) + cos(phi)*Subs(Derivative(f(N.x, _xi_2, N.y*sin(phi) + N.z*cos(phi)), _xi_2), _xi_2, N.y*cos(phi) - N.z*sin(phi)))*N.j + (-sin(phi)*Subs(Derivative(f(N.x, _xi_2, N.y*sin(phi) + N.z*cos(phi)), _xi_2), _xi_2, N.y*cos(phi) - N.z*sin(phi)) + cos(phi)*Subs(Derivative(f(N.x, N.y*cos(phi) - N.z*sin(phi), _xi_3), _xi_3), _xi_3, N.y*sin(phi) + N.z*cos(phi)))*N.k"
      ]
     },
     "metadata": {},
     "output_type": "display_data"
    },
    {
     "name": "stdout",
     "output_type": "stream",
     "text": [
      "可见梯度是满足矢量变换规律的，也可以采用更加明显的形式：\n"
     ]
    },
    {
     "data": {
      "text/latex": [
       "$\\displaystyle \\left(\\frac{\\partial}{\\partial \\mathbf{{x}_{O}}} f{\\left(\\mathbf{{x}_{O}},\\mathbf{{y}_{O}},\\mathbf{{z}_{O}} \\right)}\\right)\\mathbf{\\hat{i}_{N}} + \\left(\\sin{\\left(\\phi \\right)} \\left. \\frac{\\partial}{\\partial \\xi_{3}} f{\\left(\\mathbf{{x}_{O}},\\mathbf{{y}_{O}},\\xi_{3} \\right)} \\right|_{\\substack{ \\xi_{3}=\\mathbf{{z}_{O}} }} + \\cos{\\left(\\phi \\right)} \\left. \\frac{\\partial}{\\partial \\xi_{2}} f{\\left(\\mathbf{{x}_{O}},\\xi_{2},\\mathbf{{z}_{O}} \\right)} \\right|_{\\substack{ \\xi_{2}=\\mathbf{{y}_{O}} }}\\right)\\mathbf{\\hat{j}_{N}} + \\left(- \\sin{\\left(\\phi \\right)} \\left. \\frac{\\partial}{\\partial \\xi_{2}} f{\\left(\\mathbf{{x}_{O}},\\xi_{2},\\mathbf{{z}_{O}} \\right)} \\right|_{\\substack{ \\xi_{2}=\\mathbf{{y}_{O}} }} + \\cos{\\left(\\phi \\right)} \\left. \\frac{\\partial}{\\partial \\xi_{3}} f{\\left(\\mathbf{{x}_{O}},\\mathbf{{y}_{O}},\\xi_{3} \\right)} \\right|_{\\substack{ \\xi_{3}=\\mathbf{{z}_{O}} }}\\right)\\mathbf{\\hat{k}_{N}}$"
      ],
      "text/plain": [
       "(Derivative(f(O.x, O.y, O.z), O.x))*N.i + (sin(phi)*Subs(Derivative(f(O.x, O.y, _xi_3), _xi_3), _xi_3, O.z) + cos(phi)*Subs(Derivative(f(O.x, _xi_2, O.z), _xi_2), _xi_2, O.y))*N.j + (-sin(phi)*Subs(Derivative(f(O.x, _xi_2, O.z), _xi_2), _xi_2, O.y) + cos(phi)*Subs(Derivative(f(O.x, O.y, _xi_3), _xi_3), _xi_3, O.z))*N.k"
      ]
     },
     "metadata": {},
     "output_type": "display_data"
    }
   ],
   "source": [
    "import sympy as sp\n",
    "from sympy.vector import CoordSys3D, gradient\n",
    "from IPython.display import display\n",
    "\n",
    "# 创建一个三维坐标系\n",
    "O = CoordSys3D('O')\n",
    "\n",
    "# 定义一个抽象标量场\n",
    "f = sp.Function('f')(O.x, O.y, O.z)\n",
    "print(\"抽象标量场 f = \")\n",
    "display(f)\n",
    "\n",
    "grad_f = gradient(f, O)\n",
    "print(\"标量场在原坐标系下的梯度 (∇f):\")\n",
    "display(grad_f)\n",
    "\n",
    "# 创建一个新三维坐标系\n",
    "N = CoordSys3D('N')\n",
    "# 旋转了phi 的角度\n",
    "phi = sp.symbols('phi')\n",
    "\n",
    "print('如果固定x轴，让y,z绕着x轴旋转phi角度，接下来要求 f 在新坐标系中的表示，就需要用新的变量表示旧变量，变换矩阵是 N_in_O：')\n",
    "# 得到 A 在新坐标系中的表示：也就是说我要用新的坐标系来表示原来的标量场\n",
    "f_new = f.subs({O.x: N.x, O.y: (sp.cos(phi)*N.y - sp.sin(phi)*N.z), O.z: (sp.sin(phi)*N.y  + sp.cos(phi)*N.z)})\n",
    "display(f_new)\n",
    "\n",
    "grad_f_new = gradient(f_new, N)\n",
    "print('f 在新坐标系中的梯度 (∇f) 表示为：')\n",
    "display(grad_f_new)\n",
    "print('可见梯度是满足矢量变换规律的，也可以采用更加明显的形式：')\n",
    "display(grad_f_new.subs({N.x: O.x, (sp.cos(phi)*N.y - sp.sin(phi)*N.z): O.y, (sp.sin(phi)*N.y  + sp.cos(phi)*N.z): O.z}))"
   ]
  },
  {
   "cell_type": "code",
   "execution_count": 4,
   "id": "7d441021",
   "metadata": {},
   "outputs": [
    {
     "name": "stdout",
     "output_type": "stream",
     "text": [
      "我们也可以通过矩阵乘法来实现同样的结果。\n",
      "f 在原坐标系下的梯度 (∇f) 的矩阵形式：\n"
     ]
    },
    {
     "data": {
      "text/latex": [
       "$\\displaystyle \\left[\\begin{matrix}\\frac{\\partial}{\\partial \\mathbf{{x}_{O}}} f{\\left(\\mathbf{{x}_{O}},\\mathbf{{y}_{O}},\\mathbf{{z}_{O}} \\right)}\\\\\\frac{\\partial}{\\partial \\mathbf{{y}_{O}}} f{\\left(\\mathbf{{x}_{O}},\\mathbf{{y}_{O}},\\mathbf{{z}_{O}} \\right)}\\\\\\frac{\\partial}{\\partial \\mathbf{{z}_{O}}} f{\\left(\\mathbf{{x}_{O}},\\mathbf{{y}_{O}},\\mathbf{{z}_{O}} \\right)}\\end{matrix}\\right]$"
      ],
      "text/plain": [
       "Matrix([\n",
       "[Derivative(f(O.x, O.y, O.z), O.x)],\n",
       "[Derivative(f(O.x, O.y, O.z), O.y)],\n",
       "[Derivative(f(O.x, O.y, O.z), O.z)]])"
      ]
     },
     "metadata": {},
     "output_type": "display_data"
    },
    {
     "name": "stdout",
     "output_type": "stream",
     "text": [
      "按照复合函数求导的链式法则，f 在新坐标系中的梯度 (∇f) 的矩阵形式等于变换矩阵乘 f 在原坐标系中的梯度 (∇f) 的矩阵形式。\n",
      "变换矩阵表示 D(x,y,z)/D(x',y',z')。\n",
      "我们知道\n"
     ]
    },
    {
     "data": {
      "text/latex": [
       "$\\displaystyle \\left[\\begin{matrix}\\mathbf{{x}_{N}}\\\\\\mathbf{{y}_{N}}\\\\\\mathbf{{z}_{N}}\\end{matrix}\\right]$"
      ],
      "text/plain": [
       "Matrix([\n",
       "[N.x],\n",
       "[N.y],\n",
       "[N.z]])"
      ]
     },
     "metadata": {},
     "output_type": "display_data"
    },
    {
     "name": "stdout",
     "output_type": "stream",
     "text": [
      "等于\n"
     ]
    },
    {
     "data": {
      "text/latex": [
       "$\\displaystyle \\left[\\begin{matrix}1 & 0 & 0\\\\0 & \\cos{\\left(\\phi \\right)} & \\sin{\\left(\\phi \\right)}\\\\0 & - \\sin{\\left(\\phi \\right)} & \\cos{\\left(\\phi \\right)}\\end{matrix}\\right]$"
      ],
      "text/plain": [
       "Matrix([\n",
       "[1,         0,        0],\n",
       "[0,  cos(phi), sin(phi)],\n",
       "[0, -sin(phi), cos(phi)]])"
      ]
     },
     "metadata": {},
     "output_type": "display_data"
    },
    {
     "name": "stdout",
     "output_type": "stream",
     "text": [
      "乘以\n"
     ]
    },
    {
     "data": {
      "text/latex": [
       "$\\displaystyle \\left[\\begin{matrix}\\mathbf{{x}_{O}}\\\\\\mathbf{{y}_{O}}\\\\\\mathbf{{z}_{O}}\\end{matrix}\\right]$"
      ],
      "text/plain": [
       "Matrix([\n",
       "[O.x],\n",
       "[O.y],\n",
       "[O.z]])"
      ]
     },
     "metadata": {},
     "output_type": "display_data"
    },
    {
     "name": "stdout",
     "output_type": "stream",
     "text": [
      "所求雅可比矩阵恰是坐标变换矩阵：\n"
     ]
    },
    {
     "data": {
      "text/latex": [
       "$\\displaystyle \\left[\\begin{matrix}1 & 0 & 0\\\\0 & \\cos{\\left(\\phi \\right)} & \\sin{\\left(\\phi \\right)}\\\\0 & - \\sin{\\left(\\phi \\right)} & \\cos{\\left(\\phi \\right)}\\end{matrix}\\right]$"
      ],
      "text/plain": [
       "Matrix([\n",
       "[1,         0,        0],\n",
       "[0,  cos(phi), sin(phi)],\n",
       "[0, -sin(phi), cos(phi)]])"
      ]
     },
     "metadata": {},
     "output_type": "display_data"
    },
    {
     "name": "stdout",
     "output_type": "stream",
     "text": [
      "f 在新坐标系中的梯度 (∇f) 的矩阵形式：\n"
     ]
    },
    {
     "data": {
      "text/latex": [
       "$\\displaystyle \\left[\\begin{matrix}\\frac{\\partial}{\\partial \\mathbf{{x}_{O}}} f{\\left(\\mathbf{{x}_{O}},\\mathbf{{y}_{O}},\\mathbf{{z}_{O}} \\right)}\\\\\\sin{\\left(\\phi \\right)} \\frac{\\partial}{\\partial \\mathbf{{z}_{O}}} f{\\left(\\mathbf{{x}_{O}},\\mathbf{{y}_{O}},\\mathbf{{z}_{O}} \\right)} + \\cos{\\left(\\phi \\right)} \\frac{\\partial}{\\partial \\mathbf{{y}_{O}}} f{\\left(\\mathbf{{x}_{O}},\\mathbf{{y}_{O}},\\mathbf{{z}_{O}} \\right)}\\\\- \\sin{\\left(\\phi \\right)} \\frac{\\partial}{\\partial \\mathbf{{y}_{O}}} f{\\left(\\mathbf{{x}_{O}},\\mathbf{{y}_{O}},\\mathbf{{z}_{O}} \\right)} + \\cos{\\left(\\phi \\right)} \\frac{\\partial}{\\partial \\mathbf{{z}_{O}}} f{\\left(\\mathbf{{x}_{O}},\\mathbf{{y}_{O}},\\mathbf{{z}_{O}} \\right)}\\end{matrix}\\right]$"
      ],
      "text/plain": [
       "Matrix([\n",
       "[                                                       Derivative(f(O.x, O.y, O.z), O.x)],\n",
       "[ sin(phi)*Derivative(f(O.x, O.y, O.z), O.z) + cos(phi)*Derivative(f(O.x, O.y, O.z), O.y)],\n",
       "[-sin(phi)*Derivative(f(O.x, O.y, O.z), O.y) + cos(phi)*Derivative(f(O.x, O.y, O.z), O.z)]])"
      ]
     },
     "metadata": {},
     "output_type": "display_data"
    }
   ],
   "source": [
    "# 我们也可以通过矩阵乘法来实现同样的结果\n",
    "print(\"我们也可以通过矩阵乘法来实现同样的结果。\")\n",
    "\n",
    "print('f 在原坐标系下的梯度 (∇f) 的矩阵形式：')\n",
    "# ∇f 的矩阵形式\n",
    "grad_f_matrix = grad_f.to_matrix(O)\n",
    "display(grad_f_matrix)\n",
    "\n",
    "print('按照复合函数求导的链式法则，f 在新坐标系中的梯度 (∇f) 的矩阵形式等于变换矩阵乘 f 在原坐标系中的梯度 (∇f) 的矩阵形式。')\n",
    "print('变换矩阵表示 D(x,y,z)/D(x\\',y\\',z\\')。')\n",
    "print('我们知道')\n",
    "display(sp.Matrix([N.x, N.y, N.z]))\n",
    "print('等于')\n",
    "# 定义坐标变换矩阵\n",
    "O_in_N = sp.Matrix([\n",
    "    [1, 0, 0],\n",
    "    [0, sp.cos(phi), sp.sin(phi)],\n",
    "    [0, -sp.sin(phi), sp.cos(phi)]\n",
    "])\n",
    "display(O_in_N)\n",
    "print('乘以')\n",
    "display(sp.Matrix([O.x, O.y, O.z]))\n",
    "\n",
    "print('所求雅可比矩阵恰是坐标变换矩阵：')\n",
    "display(O_in_N)\n",
    "\n",
    "# 进行矩阵乘法，得到新的向量\n",
    "grad_f_new = O_in_N * grad_f_matrix\n",
    "print(\"f 在新坐标系中的梯度 (∇f) 的矩阵形式：\")\n",
    "display(grad_f_new)"
   ]
  }
 ],
 "metadata": {
  "kernelspec": {
   "display_name": "d2l",
   "language": "python",
   "name": "python3"
  },
  "language_info": {
   "codemirror_mode": {
    "name": "ipython",
    "version": 3
   },
   "file_extension": ".py",
   "mimetype": "text/x-python",
   "name": "python",
   "nbconvert_exporter": "python",
   "pygments_lexer": "ipython3",
   "version": "3.8.19"
  }
 },
 "nbformat": 4,
 "nbformat_minor": 5
}
