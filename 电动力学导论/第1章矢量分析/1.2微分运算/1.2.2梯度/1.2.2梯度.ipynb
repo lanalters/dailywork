{
 "cells": [
  {
   "cell_type": "markdown",
   "id": "7bfbd53b-6dba-4e05-93a7-e7aa25b7743b",
   "metadata": {},
   "source": [
    "# 梯度"
   ]
  },
  {
   "cell_type": "markdown",
   "id": "64a39767-522e-4d61-a4e7-cfe04f0f8517",
   "metadata": {},
   "source": [
    "我们要求的是具体函数的梯度和抽象函数的梯度"
   ]
  },
  {
   "cell_type": "markdown",
   "id": "b8c41089-3e5e-4371-b555-90e69efe24f6",
   "metadata": {},
   "source": [
    "## 求具体函数的梯度"
   ]
  },
  {
   "cell_type": "code",
   "execution_count": 1,
   "id": "9147b954-28ee-4422-930c-377453b9782d",
   "metadata": {},
   "outputs": [
    {
     "name": "stdout",
     "output_type": "stream",
     "text": [
      "梯度 (∇f):\n",
      "2*N.x*N.i + 2*N.y*N.j + 2*N.z*N.k\n"
     ]
    }
   ],
   "source": [
    "import sympy as sp\n",
    "from sympy.vector import CoordSys3D, gradient\n",
    "\n",
    "# 创建一个三维坐标系\n",
    "N = CoordSys3D('N')\n",
    "x, y, z = N.x, N.y, N.z\n",
    "\n",
    "# 定义标量场 f(x, y, z)\n",
    "f = N.x**2 + N.y**2 + N.z**2\n",
    "\n",
    "# 使用 gradient 函数计算梯度\n",
    "grad_f = gradient(f)\n",
    "# 输出梯度\n",
    "print(\"梯度 (∇f):\")\n",
    "print(grad_f)"
   ]
  },
  {
   "cell_type": "markdown",
   "id": "bd795159-ba64-4bce-9a8e-5412adbe60ea",
   "metadata": {},
   "source": [
    "#### 例题1.3\n",
    "\n",
    "求出 $r$ (位置矢量的大小)的梯度。\n",
    "\n",
    "解：\n",
    "$$\n",
    "\\begin{split}\n",
    "  \\nabla r\n",
    "  = & \\frac{x\\hat{\\boldsymbol x} + y\\hat{\\boldsymbol y} + z\\hat{\\boldsymbol z}}{r} \\\\\n",
    "  = & \\frac{\\boldsymbol r}{r} = \\hat{\\boldsymbol r}\n",
    "\\end{split}\n",
    "$$\n",
    "\n",
    "鉴于 $r$ 是一个经典的函数，我们总是用 field_point 来命名它，它的模长记为 field_distance。\n",
    "对应的源点 $r'$，记为 source_point，源点的模长记为 source_distance。\n",
    "间隔矢量 separation_vector，模长记为 separation_distance。"
   ]
  },
  {
   "cell_type": "code",
   "execution_count": 2,
   "id": "7a9a4541-d52c-4a20-924e-31f1511b9b6e",
   "metadata": {},
   "outputs": [
    {
     "name": "stdout",
     "output_type": "stream",
     "text": [
      "位置矢量模长的梯度 (∇r):\n",
      "(N.x/sqrt(N.x**2 + N.y**2 + N.z**2))*N.i + (N.y/sqrt(N.x**2 + N.y**2 + N.z**2))*N.j + (N.z/sqrt(N.x**2 + N.y**2 + N.z**2))*N.k\n"
     ]
    }
   ],
   "source": [
    "import sympy as sp\n",
    "from sympy.vector import CoordSys3D, gradient\n",
    "\n",
    "# 创建一个三维坐标系\n",
    "N = CoordSys3D('N')\n",
    "x, y, z = N.x, N.y, N.z\n",
    "\n",
    "# 定义标量场位置矢量的模长\n",
    "field_distance = sp.sqrt(N.x**2 + N.y**2 + N.z**2)\n",
    "\n",
    "# 使用 gradient 函数计算梯度\n",
    "grad_field_distance = gradient(field_distance)\n",
    "\n",
    "# 输出梯度\n",
    "print(\"位置矢量模长的梯度 (∇r):\")\n",
    "print(grad_field_distance)"
   ]
  },
  {
   "cell_type": "markdown",
   "id": "d0d9a2ad-4166-4c15-ab89-5eb49c19223c",
   "metadata": {},
   "source": [
    "## 习题 1.13\n",
    "\n",
    "设 $\\overrightarrow{\\mathfrak r}$ 是从固定点 $(x', y', z')$ 到点 $(x, y, z)$ 的间隔矢量，$\\mathfrak r$ 是它的长度。\n",
    "证明：\n",
    "$$\n",
    "  \\nabla(\\mathfrak r^2) = 2 \\overrightarrow{\\mathfrak r}\n",
    "$$\n",
    "$$\n",
    "  \\nabla \\left( \\frac{1}{\\mathfrak r} \\right) = - \\frac{\\hat{\\mathfrak r}}{\\mathfrak r^2}\n",
    "$$\n",
    "\n",
    "$\\nabla(\\mathfrak r^n)$ 的一般表示是什么?\n"
   ]
  },
  {
   "cell_type": "markdown",
   "id": "78dd3256-83e5-44fe-9f86-a3705a005e5c",
   "metadata": {},
   "source": [
    "#### 第一问"
   ]
  },
  {
   "cell_type": "code",
   "execution_count": 3,
   "id": "0d510472-55fc-4d20-940e-a7dfe63523f5",
   "metadata": {},
   "outputs": [
    {
     "name": "stdout",
     "output_type": "stream",
     "text": [
      "间隔矢量模长的梯度:\n",
      "(2*N.x - 2*source_x)*N.i + (2*N.y - 2*source_y)*N.j + (2*N.z - 2*source_z)*N.k\n",
      "间隔矢量是:\n",
      "(N.x - source_x)*N.i + (N.y - source_y)*N.j + (N.z - source_z)*N.k\n",
      "间隔矢量模长的梯度是间隔矢量的两倍：\n",
      "0\n"
     ]
    }
   ],
   "source": [
    "import sympy as sp\n",
    "from sympy.vector import CoordSys3D, gradient\n",
    "\n",
    "# 创建一个三维坐标系\n",
    "N = CoordSys3D('N')\n",
    "x, y, z = N.x, N.y, N.z\n",
    "\n",
    "# 定义 x', y', z'\n",
    "source_x, source_y, source_z = sp.symbols('source_x source_y source_z')\n",
    "\n",
    "# 定义标量场间隔矢量的模长\n",
    "separation_vector = (N.x - source_x) * N.i + (N.y - source_y) * N.j + (N.z - source_z) * N.k\n",
    "separation_distance = sp.sqrt((N.x - source_x)**2 + (N.y - source_y)**2 + (N.z - source_z)**2)\n",
    "\n",
    "f = separation_distance ** 2\n",
    "\n",
    "# 使用 gradient 函数计算梯度\n",
    "grad_f = gradient(f)\n",
    "\n",
    "# 输出梯度\n",
    "print(\"间隔矢量模长的梯度:\")\n",
    "print(grad_f)\n",
    "print(\"间隔矢量是:\")\n",
    "print(separation_vector)\n",
    "print(\"间隔矢量模长的梯度是间隔矢量的两倍：\")\n",
    "print(sp.simplify(grad_f - 2 * separation_vector))"
   ]
  },
  {
   "cell_type": "markdown",
   "id": "309197b2-6b4d-4d90-a7f4-b616a7aa454a",
   "metadata": {},
   "source": [
    "#### 第二问"
   ]
  },
  {
   "cell_type": "code",
   "execution_count": 4,
   "id": "732e8833-4519-46fc-89b3-1e6e75a07ae9",
   "metadata": {},
   "outputs": [
    {
     "name": "stdout",
     "output_type": "stream",
     "text": [
      "间隔矢量模长的倒数的梯度 (∇1/r):\n",
      "((-N.x + source_x)/((N.x - source_x)**2 + (N.y - source_y)**2 + (N.z - source_z)**2)**(3/2))*N.i + ((-N.y + source_y)/((N.x - source_x)**2 + (N.y - source_y)**2 + (N.z - source_z)**2)**(3/2))*N.j + ((-N.z + source_z)/((N.x - source_x)**2 + (N.y - source_y)**2 + (N.z - source_z)**2)**(3/2))*N.k\n",
      "就等于右式\n",
      "0\n"
     ]
    }
   ],
   "source": [
    "# 使用 gradient 函数计算梯度\n",
    "grad_f = gradient(1 / separation_distance)\n",
    "\n",
    "# 输出梯度\n",
    "print(\"间隔矢量模长的倒数的梯度 (∇1/r):\")\n",
    "print(grad_f)\n",
    "print(\"就等于右式\")\n",
    "print( sp.simplify(grad_f + separation_vector  / separation_distance**3) )"
   ]
  },
  {
   "cell_type": "markdown",
   "id": "ef461525-b499-4366-addd-8abb56a5616b",
   "metadata": {},
   "source": [
    "#### 第三问"
   ]
  },
  {
   "cell_type": "code",
   "execution_count": 5,
   "id": "6a88603c-705e-43b7-912e-f1552d59e591",
   "metadata": {},
   "outputs": [
    {
     "name": "stdout",
     "output_type": "stream",
     "text": [
      "间隔矢量模长的 1 次方的梯度:\n",
      "((-N.x + source_x)/((N.x - source_x)**2 + (N.y - source_y)**2 + (N.z - source_z)**2)**(3/2))*N.i + ((-N.y + source_y)/((N.x - source_x)**2 + (N.y - source_y)**2 + (N.z - source_z)**2)**(3/2))*N.j + ((-N.z + source_z)/((N.x - source_x)**2 + (N.y - source_y)**2 + (N.z - source_z)**2)**(3/2))*N.k\n",
      "间隔矢量模长的 2 次方的梯度:\n",
      "((-2*N.x + 2*source_x)/((N.x - source_x)**2 + (N.y - source_y)**2 + (N.z - source_z)**2)**2)*N.i + ((-2*N.y + 2*source_y)/((N.x - source_x)**2 + (N.y - source_y)**2 + (N.z - source_z)**2)**2)*N.j + ((-2*N.z + 2*source_z)/((N.x - source_x)**2 + (N.y - source_y)**2 + (N.z - source_z)**2)**2)*N.k\n",
      "间隔矢量模长的 3 次方的梯度:\n",
      "((-3*N.x + 3*source_x)/((N.x - source_x)**2 + (N.y - source_y)**2 + (N.z - source_z)**2)**(5/2))*N.i + ((-3*N.y + 3*source_y)/((N.x - source_x)**2 + (N.y - source_y)**2 + (N.z - source_z)**2)**(5/2))*N.j + ((-3*N.z + 3*source_z)/((N.x - source_x)**2 + (N.y - source_y)**2 + (N.z - source_z)**2)**(5/2))*N.k\n",
      "间隔矢量模长的 4 次方的梯度:\n",
      "((-4*N.x + 4*source_x)/((N.x - source_x)**2 + (N.y - source_y)**2 + (N.z - source_z)**2)**3)*N.i + ((-4*N.y + 4*source_y)/((N.x - source_x)**2 + (N.y - source_y)**2 + (N.z - source_z)**2)**3)*N.j + ((-4*N.z + 4*source_z)/((N.x - source_x)**2 + (N.y - source_y)**2 + (N.z - source_z)**2)**3)*N.k\n",
      "间隔矢量模长的 5 次方的梯度:\n",
      "((-5*N.x + 5*source_x)/((N.x - source_x)**2 + (N.y - source_y)**2 + (N.z - source_z)**2)**(7/2))*N.i + ((-5*N.y + 5*source_y)/((N.x - source_x)**2 + (N.y - source_y)**2 + (N.z - source_z)**2)**(7/2))*N.j + ((-5*N.z + 5*source_z)/((N.x - source_x)**2 + (N.y - source_y)**2 + (N.z - source_z)**2)**(7/2))*N.k\n",
      "间隔矢量模长的 6 次方的梯度:\n",
      "((-6*N.x + 6*source_x)/((N.x - source_x)**2 + (N.y - source_y)**2 + (N.z - source_z)**2)**4)*N.i + ((-6*N.y + 6*source_y)/((N.x - source_x)**2 + (N.y - source_y)**2 + (N.z - source_z)**2)**4)*N.j + ((-6*N.z + 6*source_z)/((N.x - source_x)**2 + (N.y - source_y)**2 + (N.z - source_z)**2)**4)*N.k\n",
      "间隔矢量模长的 7 次方的梯度:\n",
      "((-7*N.x + 7*source_x)/((N.x - source_x)**2 + (N.y - source_y)**2 + (N.z - source_z)**2)**(9/2))*N.i + ((-7*N.y + 7*source_y)/((N.x - source_x)**2 + (N.y - source_y)**2 + (N.z - source_z)**2)**(9/2))*N.j + ((-7*N.z + 7*source_z)/((N.x - source_x)**2 + (N.y - source_y)**2 + (N.z - source_z)**2)**(9/2))*N.k\n",
      "间隔矢量模长的 8 次方的梯度:\n",
      "((-8*N.x + 8*source_x)/((N.x - source_x)**2 + (N.y - source_y)**2 + (N.z - source_z)**2)**5)*N.i + ((-8*N.y + 8*source_y)/((N.x - source_x)**2 + (N.y - source_y)**2 + (N.z - source_z)**2)**5)*N.j + ((-8*N.z + 8*source_z)/((N.x - source_x)**2 + (N.y - source_y)**2 + (N.z - source_z)**2)**5)*N.k\n",
      "间隔矢量模长的 9 次方的梯度:\n",
      "((-9*N.x + 9*source_x)/((N.x - source_x)**2 + (N.y - source_y)**2 + (N.z - source_z)**2)**(11/2))*N.i + ((-9*N.y + 9*source_y)/((N.x - source_x)**2 + (N.y - source_y)**2 + (N.z - source_z)**2)**(11/2))*N.j + ((-9*N.z + 9*source_z)/((N.x - source_x)**2 + (N.y - source_y)**2 + (N.z - source_z)**2)**(11/2))*N.k\n"
     ]
    }
   ],
   "source": [
    "for i in range(1,10):\n",
    "    f = 1/ (separation_distance ** i)\n",
    "    grad_f = gradient(f)\n",
    "    print(f\"间隔矢量模长的 {i} 次方的梯度:\")\n",
    "    print(grad_f)"
   ]
  },
  {
   "cell_type": "markdown",
   "id": "5092abc3-0626-4d65-adf4-a2565ff4d0fb",
   "metadata": {},
   "source": [
    "## 求抽象标量场的梯度"
   ]
  },
  {
   "cell_type": "code",
   "execution_count": 8,
   "id": "2d83b987-615a-46f0-a2c0-637f192ed25b",
   "metadata": {},
   "outputs": [
    {
     "name": "stdout",
     "output_type": "stream",
     "text": [
      "梯度 (∇f):\n",
      "(Derivative(f(N.x, N.y, N.z), N.x))*N.i + (Derivative(f(N.x, N.y, N.z), N.y))*N.j + (Derivative(f(N.x, N.y, N.z), N.z))*N.k\n"
     ]
    }
   ],
   "source": [
    "import sympy as sp\n",
    "from sympy.vector import CoordSys3D, gradient\n",
    "from sympy import Function\n",
    "\n",
    "# 创建一个三维坐标系\n",
    "N = CoordSys3D('N')\n",
    "\n",
    "# 定义标量场 f 和向量场 A\n",
    "x, y, z = N.x, N.y, N.z\n",
    "f = Function('f')(x, y, z)  # 抽象标量场 f\n",
    "\n",
    "# 使用 nabla 进行符号运算\n",
    "# 1. 梯度运算\n",
    "grad_f = gradient(f)\n",
    "grad_f = sp.simplify(grad_f)\n",
    "print(\"梯度 (∇f):\")\n",
    "print(grad_f)"
   ]
  }
 ],
 "metadata": {
  "kernelspec": {
   "display_name": "Python 3 (ipykernel)",
   "language": "python",
   "name": "python3"
  },
  "language_info": {
   "codemirror_mode": {
    "name": "ipython",
    "version": 3
   },
   "file_extension": ".py",
   "mimetype": "text/x-python",
   "name": "python",
   "nbconvert_exporter": "python",
   "pygments_lexer": "ipython3",
   "version": "3.8.19"
  }
 },
 "nbformat": 4,
 "nbformat_minor": 5
}
