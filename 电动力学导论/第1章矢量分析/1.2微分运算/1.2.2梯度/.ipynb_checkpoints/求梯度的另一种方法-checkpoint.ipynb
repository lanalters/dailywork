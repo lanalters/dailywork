{
 "cells": [
  {
   "cell_type": "markdown",
   "id": "db31aa13-7502-46c9-abbb-336fc0ee71db",
   "metadata": {},
   "source": [
    "# 求梯度的另一种方法"
   ]
  },
  {
   "cell_type": "code",
   "execution_count": 1,
   "id": "3315861a-7233-4ae8-97c3-4747f6f2e61a",
   "metadata": {},
   "outputs": [
    {
     "name": "stdout",
     "output_type": "stream",
     "text": [
      "梯度 (∇f):\n"
     ]
    },
    {
     "data": {
      "text/latex": [
       "$\\displaystyle \\left(2 \\mathbf{{x}_{N}}\\right)\\mathbf{\\hat{i}_{N}} + \\left(2 \\mathbf{{y}_{N}}\\right)\\mathbf{\\hat{j}_{N}} + \\left(2 \\mathbf{{z}_{N}}\\right)\\mathbf{\\hat{k}_{N}}$"
      ],
      "text/plain": [
       "2*N.x*N.i + 2*N.y*N.j + 2*N.z*N.k"
      ]
     },
     "metadata": {},
     "output_type": "display_data"
    }
   ],
   "source": [
    "import sympy as sp\n",
    "from sympy.vector import CoordSys3D, Del\n",
    "from IPython.display import display\n",
    "\n",
    "# 创建一个三维坐标系\n",
    "N = CoordSys3D('N')\n",
    "x, y, z = N.x, N.y, N.z\n",
    "\n",
    "delop = Del()\n",
    "\n",
    "# 定义标量场 f(x, y, z)\n",
    "f = N.x**2 + N.y**2 + N.z**2\n",
    "\n",
    "# 使用 gradient 函数计算梯度\n",
    "grad_f = delop.gradient(f)\n",
    "grad_f = sp.simplify(grad_f)\n",
    "# 输出梯度\n",
    "print(\"梯度 (∇f):\")\n",
    "display(grad_f)"
   ]
  }
 ],
 "metadata": {
  "kernelspec": {
   "display_name": "Python 3 (ipykernel)",
   "language": "python",
   "name": "python3"
  },
  "language_info": {
   "codemirror_mode": {
    "name": "ipython",
    "version": 3
   },
   "file_extension": ".py",
   "mimetype": "text/x-python",
   "name": "python",
   "nbconvert_exporter": "python",
   "pygments_lexer": "ipython3",
   "version": "3.8.19"
  }
 },
 "nbformat": 4,
 "nbformat_minor": 5
}
