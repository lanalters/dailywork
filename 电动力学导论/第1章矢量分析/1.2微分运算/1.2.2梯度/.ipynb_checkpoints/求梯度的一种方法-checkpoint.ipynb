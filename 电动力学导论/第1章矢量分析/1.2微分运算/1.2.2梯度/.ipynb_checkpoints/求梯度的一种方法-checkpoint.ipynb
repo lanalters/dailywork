{
 "cells": [
  {
   "cell_type": "markdown",
   "id": "5eea7a14-f67a-4bd0-aff4-29978b5cea0a",
   "metadata": {},
   "source": [
    "# 求梯度的一种方法"
   ]
  },
  {
   "cell_type": "code",
   "execution_count": 1,
   "id": "2a5e8587-0718-4cb9-b390-19e0d0d9f362",
   "metadata": {},
   "outputs": [
    {
     "name": "stdout",
     "output_type": "stream",
     "text": [
      "梯度 (∇f):\n"
     ]
    },
    {
     "data": {
      "text/latex": [
       "$\\displaystyle \\left(2 \\mathbf{{x}_{N}}\\right)\\mathbf{\\hat{i}_{N}} + \\left(2 \\mathbf{{y}_{N}}\\right)\\mathbf{\\hat{j}_{N}} + \\left(2 \\mathbf{{z}_{N}}\\right)\\mathbf{\\hat{k}_{N}}$"
      ],
      "text/plain": [
       "2*N.x*N.i + 2*N.y*N.j + 2*N.z*N.k"
      ]
     },
     "metadata": {},
     "output_type": "display_data"
    }
   ],
   "source": [
    "import sympy as sp\n",
    "from sympy.vector import CoordSys3D, gradient\n",
    "from IPython.display import display\n",
    "\n",
    "# 创建一个三维坐标系\n",
    "N = CoordSys3D('N')\n",
    "x, y, z = N.x, N.y, N.z\n",
    "\n",
    "# 定义标量场 f(x, y, z)\n",
    "f = N.x**2 + N.y**2 + N.z**2\n",
    "\n",
    "# 使用 gradient 函数计算梯度\n",
    "grad_f = gradient(f)\n",
    "\n",
    "# 输出梯度\n",
    "print(\"梯度 (∇f):\")\n",
    "display(grad_f)"
   ]
  }
 ],
 "metadata": {
  "kernelspec": {
   "display_name": "Python 3 (ipykernel)",
   "language": "python",
   "name": "python3"
  },
  "language_info": {
   "codemirror_mode": {
    "name": "ipython",
    "version": 3
   },
   "file_extension": ".py",
   "mimetype": "text/x-python",
   "name": "python",
   "nbconvert_exporter": "python",
   "pygments_lexer": "ipython3",
   "version": "3.8.19"
  }
 },
 "nbformat": 4,
 "nbformat_minor": 5
}
