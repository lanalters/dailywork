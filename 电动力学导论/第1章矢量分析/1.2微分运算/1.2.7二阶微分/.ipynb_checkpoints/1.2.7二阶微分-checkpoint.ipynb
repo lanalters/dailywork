{
 "cells": [
  {
   "cell_type": "markdown",
   "id": "ee2a611c-1f2c-4c7a-bc96-6156a403b8db",
   "metadata": {},
   "source": [
    "# 1.2.7 二阶微分\n"
   ]
  },
  {
   "cell_type": "markdown",
   "id": "f9c32e1b-51a9-4e6a-a9ad-8e5f71a44d12",
   "metadata": {},
   "source": [
    "### 1) 梯度的散度"
   ]
  },
  {
   "cell_type": "code",
   "execution_count": 7,
   "id": "606aa734-299f-46d1-9496-3fae14594052",
   "metadata": {},
   "outputs": [
    {
     "name": "stdout",
     "output_type": "stream",
     "text": [
      "梯度 ∇f :\n",
      "(Derivative(f(N.x, N.y, N.z), N.x))*N.i + (Derivative(f(N.x, N.y, N.z), N.y))*N.j + (Derivative(f(N.x, N.y, N.z), N.z))*N.k\n",
      "梯度的散度：\n",
      "Derivative(f(N.x, N.y, N.z), (N.x, 2)) + Derivative(f(N.x, N.y, N.z), (N.y, 2)) + Derivative(f(N.x, N.y, N.z), (N.z, 2))\n"
     ]
    }
   ],
   "source": [
    "import sympy as sp\n",
    "from sympy.vector import CoordSys3D, Del\n",
    "from sympy import Function\n",
    "\n",
    "# 创建一个三维坐标系\n",
    "N = CoordSys3D('N')\n",
    "\n",
    "# 定义 nabla 算子\n",
    "delop = Del()\n",
    "\n",
    "# 定义标量场 f 和向量场 A\n",
    "x, y, z = N.x, N.y, N.z\n",
    "f = Function('f')(x, y, z)  # 抽象标量场 f\n",
    "# 使用 nabla 进行符号运算\n",
    "\n",
    "# 梯度运算\n",
    "nabla_f = delop.gradient(f)\n",
    "nabla2_f = delop & nabla_f\n",
    "\n",
    "result = sp.simplify(sp.expand( nabla2_f))\n",
    "\n",
    "print(\"梯度 ∇f :\")\n",
    "print(nabla_f)\n",
    "print(\"梯度的散度：\")\n",
    "print(sp.simplify(sp.expand(nabla2_f)))"
   ]
  },
  {
   "cell_type": "code",
   "execution_count": 5,
   "id": "0954a19b-fc17-469b-b447-73d90de4317f",
   "metadata": {},
   "outputs": [
    {
     "name": "stdout",
     "output_type": "stream",
     "text": [
      "梯度的散度：\n",
      "Derivative(f(N.x, N.y, N.z), (N.x, 2)) + Derivative(f(N.x, N.y, N.z), (N.y, 2)) + Derivative(f(N.x, N.y, N.z), (N.z, 2))\n"
     ]
    }
   ],
   "source": [
    "import sympy as sp\n",
    "from sympy.vector import CoordSys3D, Laplacian\n",
    "from sympy import Function\n",
    "\n",
    "# 创建一个三维坐标系\n",
    "N = CoordSys3D('N')\n",
    "x, y, z = N.x, N.y, N.z\n",
    "\n",
    "# 定义标量场 f 和向量场 A\n",
    "f = Function('f')(x, y, z)  # 抽象标量场 f\n",
    "# 使用 nabla 进行符号运算\n",
    "\n",
    "# laplace运算\n",
    "lap_f = Laplacian(f)\n",
    "\n",
    "print(\"梯度的散度：\")\n",
    "print(sp.simplify(lap_f))"
   ]
  },
  {
   "cell_type": "code",
   "execution_count": 4,
   "id": "87727f09-c22b-42c5-bbe6-bac05736c8e5",
   "metadata": {},
   "outputs": [
    {
     "data": {
      "text/latex": [
       "$\\displaystyle \\frac{\\partial^{2}}{\\partial \\mathbf{{x}_{N}}^{2}} f{\\left(\\mathbf{{x}_{N}},\\mathbf{{y}_{N}},\\mathbf{{z}_{N}} \\right)} + \\frac{\\partial^{2}}{\\partial \\mathbf{{y}_{N}}^{2}} f{\\left(\\mathbf{{x}_{N}},\\mathbf{{y}_{N}},\\mathbf{{z}_{N}} \\right)} + \\frac{\\partial^{2}}{\\partial \\mathbf{{z}_{N}}^{2}} f{\\left(\\mathbf{{x}_{N}},\\mathbf{{y}_{N}},\\mathbf{{z}_{N}} \\right)}$"
      ],
      "text/plain": [
       "Derivative(f(N.x, N.y, N.z), (N.x, 2)) + Derivative(f(N.x, N.y, N.z), (N.y, 2)) + Derivative(f(N.x, N.y, N.z), (N.z, 2))"
      ]
     },
     "execution_count": 4,
     "metadata": {},
     "output_type": "execute_result"
    }
   ],
   "source": []
  },
  {
   "cell_type": "markdown",
   "id": "876a055a-bb59-47b5-aa48-d8dfbfb9cbf6",
   "metadata": {},
   "source": [
    "### 2) 梯度的旋度总是为零："
   ]
  },
  {
   "cell_type": "code",
   "execution_count": 8,
   "id": "f39d3dc9-9c78-47dd-b41b-a0a7a4e60bf5",
   "metadata": {},
   "outputs": [
    {
     "name": "stdout",
     "output_type": "stream",
     "text": [
      "梯度 ∇f :\n",
      "(Derivative(f(N.x, N.y, N.z), N.x))*N.i + (Derivative(f(N.x, N.y, N.z), N.y))*N.j + (Derivative(f(N.x, N.y, N.z), N.z))*N.k\n",
      "梯度的旋度：\n",
      "0\n"
     ]
    }
   ],
   "source": [
    "import sympy as sp\n",
    "from sympy.vector import CoordSys3D, Del\n",
    "from sympy import Function\n",
    "\n",
    "# 创建一个三维坐标系\n",
    "N = CoordSys3D('N')\n",
    "\n",
    "# 定义 nabla 算子\n",
    "delop = Del()\n",
    "\n",
    "# 定义标量场 f 和向量场 A\n",
    "x, y, z = N.x, N.y, N.z\n",
    "f = Function('f')(x, y, z)  # 抽象标量场 f\n",
    "# 使用 nabla 进行符号运算\n",
    "\n",
    "# 梯度运算\n",
    "nabla_f = delop.gradient(f)\n",
    "nabla2_f = delop ^ nabla_f\n",
    "\n",
    "print(\"梯度 ∇f :\")\n",
    "print(nabla_f)\n",
    "print(\"梯度的旋度：\")\n",
    "print(sp.simplify(sp.expand(nabla2_f)))"
   ]
  },
  {
   "cell_type": "markdown",
   "id": "a2c830a3-11f6-468d-8196-bd2a6cf5084b",
   "metadata": {},
   "source": [
    "### 3) $\\nabla(\\nabla\\cdot \\boldsymbol v)$"
   ]
  },
  {
   "cell_type": "code",
   "execution_count": 11,
   "id": "a7883357-ecbc-46d0-bf7a-685eb9bc31aa",
   "metadata": {},
   "outputs": [
    {
     "name": "stdout",
     "output_type": "stream",
     "text": [
      "散度 ∇·v:\n",
      "Derivative(vx(N.x, N.y, N.z), N.x) + Derivative(vy(N.x, N.y, N.z), N.y) + Derivative(vz(N.x, N.y, N.z), N.z)\n",
      "散度的梯度：\n",
      "(Derivative(Derivative(vx(N.x, N.y, N.z), N.x) + Derivative(vy(N.x, N.y, N.z), N.y) + Derivative(vz(N.x, N.y, N.z), N.z), N.x))*N.i + (Derivative(Derivative(vx(N.x, N.y, N.z), N.x) + Derivative(vy(N.x, N.y, N.z), N.y) + Derivative(vz(N.x, N.y, N.z), N.z), N.y))*N.j + (Derivative(Derivative(vx(N.x, N.y, N.z), N.x) + Derivative(vy(N.x, N.y, N.z), N.y) + Derivative(vz(N.x, N.y, N.z), N.z), N.z))*N.k\n",
      "(Derivative(vx(N.x, N.y, N.z), (N.x, 2)) + Derivative(vy(N.x, N.y, N.z), N.x, N.y) + Derivative(vz(N.x, N.y, N.z), N.x, N.z))*N.i + (Derivative(vy(N.x, N.y, N.z), (N.y, 2)) + Derivative(vx(N.x, N.y, N.z), N.x, N.y) + Derivative(vz(N.x, N.y, N.z), N.y, N.z))*N.j + (Derivative(vz(N.x, N.y, N.z), (N.z, 2)) + Derivative(vx(N.x, N.y, N.z), N.x, N.z) + Derivative(vy(N.x, N.y, N.z), N.y, N.z))*N.k\n"
     ]
    }
   ],
   "source": [
    "import sympy as sp\n",
    "from sympy.vector import CoordSys3D, Del\n",
    "from sympy import Function\n",
    "\n",
    "# 创建一个三维坐标系\n",
    "N = CoordSys3D('N')\n",
    "\n",
    "# 定义 nabla 算子\n",
    "delop = Del()\n",
    "\n",
    "# 定义标量场 f 和向量场 A\n",
    "x, y, z = N.x, N.y, N.z\n",
    "vx, vy, vz = Function('vx')(x, y, z), Function('vy')(x, y, z), Function('vz')(x, y, z)\n",
    "v = vx*N.i + vy*N.j + vz*N.k  # 抽象向量场 v\n",
    "\n",
    "# 梯度运算\n",
    "nabla_v = delop & v\n",
    "nabla2_v = delop.gradient( nabla_v)\n",
    "\n",
    "print(\"散度 ∇·v:\")\n",
    "print(nabla_v)\n",
    "print(\"散度的梯度：\")\n",
    "print(nabla2_v)"
   ]
  },
  {
   "cell_type": "markdown",
   "id": "b1c28d06-052c-4e69-9130-36cdf8b8e972",
   "metadata": {},
   "source": [
    "### 4) 旋度的散度同梯度的旋度一样，总是为零："
   ]
  },
  {
   "cell_type": "code",
   "execution_count": 14,
   "id": "02a0e041-39ac-4578-be49-dc395cca670c",
   "metadata": {},
   "outputs": [
    {
     "name": "stdout",
     "output_type": "stream",
     "text": [
      "散度 ∇·v:\n",
      "(-Derivative(vy(N.x, N.y, N.z), N.z) + Derivative(vz(N.x, N.y, N.z), N.y))*N.i + (Derivative(vx(N.x, N.y, N.z), N.z) - Derivative(vz(N.x, N.y, N.z), N.x))*N.j + (-Derivative(vx(N.x, N.y, N.z), N.y) + Derivative(vy(N.x, N.y, N.z), N.x))*N.k\n",
      "散度的旋度：\n",
      "0\n"
     ]
    }
   ],
   "source": [
    "import sympy as sp\n",
    "from sympy.vector import CoordSys3D, Del\n",
    "from sympy import Function\n",
    "\n",
    "# 创建一个三维坐标系\n",
    "N = CoordSys3D('N')\n",
    "\n",
    "# 定义 nabla 算子\n",
    "delop = Del()\n",
    "\n",
    "# 定义标量场 f 和向量场 A\n",
    "x, y, z = N.x, N.y, N.z\n",
    "vx, vy, vz = Function('vx')(x, y, z), Function('vy')(x, y, z), Function('vz')(x, y, z)\n",
    "v = vx*N.i + vy*N.j + vz*N.k  # 抽象向量场 v\n",
    "\n",
    "# 梯度运算\n",
    "nabla_v = delop ^ v\n",
    "nabla2_v = delop & nabla_v\n",
    "\n",
    "print(\"旋度 ∇×v:\")\n",
    "print(nabla_v)\n",
    "print(\"旋度的散度等于：\")\n",
    "print(sp.simplify(sp.expand(nabla2_v)))"
   ]
  },
  {
   "cell_type": "markdown",
   "id": "f15a04df-81bb-44fa-9b46-8f35f5dbd0c7",
   "metadata": {},
   "source": [
    "### 旋度的旋度"
   ]
  },
  {
   "cell_type": "code",
   "execution_count": 16,
   "id": "e84dc322-5a0f-403e-841e-29cbd76b9513",
   "metadata": {},
   "outputs": [
    {
     "name": "stdout",
     "output_type": "stream",
     "text": [
      "旋度 ∇×v:\n",
      "(-Derivative(vy(N.x, N.y, N.z), N.z) + Derivative(vz(N.x, N.y, N.z), N.y))*N.i + (Derivative(vx(N.x, N.y, N.z), N.z) - Derivative(vz(N.x, N.y, N.z), N.x))*N.j + (-Derivative(vx(N.x, N.y, N.z), N.y) + Derivative(vy(N.x, N.y, N.z), N.x))*N.k\n",
      "旋度的旋度：\n",
      "(-Derivative(vx(N.x, N.y, N.z), (N.y, 2)) - Derivative(vx(N.x, N.y, N.z), (N.z, 2)) + Derivative(vy(N.x, N.y, N.z), N.x, N.y) + Derivative(vz(N.x, N.y, N.z), N.x, N.z))*N.i + (-Derivative(vy(N.x, N.y, N.z), (N.x, 2)) - Derivative(vy(N.x, N.y, N.z), (N.z, 2)) + Derivative(vx(N.x, N.y, N.z), N.x, N.y) + Derivative(vz(N.x, N.y, N.z), N.y, N.z))*N.j + (-Derivative(vz(N.x, N.y, N.z), (N.x, 2)) - Derivative(vz(N.x, N.y, N.z), (N.y, 2)) + Derivative(vx(N.x, N.y, N.z), N.x, N.z) + Derivative(vy(N.x, N.y, N.z), N.y, N.z))*N.k\n"
     ]
    }
   ],
   "source": [
    "import sympy as sp\n",
    "from sympy.vector import CoordSys3D, Del\n",
    "from sympy import Function\n",
    "\n",
    "# 创建一个三维坐标系\n",
    "N = CoordSys3D('N')\n",
    "\n",
    "# 定义 nabla 算子\n",
    "delop = Del()\n",
    "\n",
    "# 定义标量场 f 和向量场 A\n",
    "x, y, z = N.x, N.y, N.z\n",
    "vx, vy, vz = Function('vx')(x, y, z), Function('vy')(x, y, z), Function('vz')(x, y, z)\n",
    "v = vx*N.i + vy*N.j + vz*N.k  # 抽象向量场 v\n",
    "\n",
    "# 梯度运算\n",
    "nabla_v = delop ^ v\n",
    "nabla2_v = delop ^ nabla_v\n",
    "\n",
    "print(\"旋度 ∇×v:\")\n",
    "print(nabla_v)\n",
    "print(\"旋度的旋度：\")\n",
    "print(sp.simplify(sp.expand(nabla2_v)))"
   ]
  },
  {
   "cell_type": "code",
   "execution_count": 26,
   "id": "fd51d791-c649-4687-bbdb-2cd55a95baf5",
   "metadata": {},
   "outputs": [
    {
     "name": "stdout",
     "output_type": "stream",
     "text": [
      "左式减去右式等于\n",
      "0\n"
     ]
    }
   ],
   "source": [
    "#### 验证旋度的旋度的公式\n",
    "\n",
    "right1 = delop.gradient(delop & v)\n",
    "right2 = sp.diff(v, x, 2) + sp.diff(v, y, 2) + sp.diff(v, z, 2)\n",
    "\n",
    "print('左式减去右式等于')\n",
    "print(sp.simplify(sp.expand(nabla2_v - right1 + right2)))"
   ]
  }
 ],
 "metadata": {
  "kernelspec": {
   "display_name": "Python 3 (ipykernel)",
   "language": "python",
   "name": "python3"
  },
  "language_info": {
   "codemirror_mode": {
    "name": "ipython",
    "version": 3
   },
   "file_extension": ".py",
   "mimetype": "text/x-python",
   "name": "python",
   "nbconvert_exporter": "python",
   "pygments_lexer": "ipython3",
   "version": "3.8.19"
  }
 },
 "nbformat": 4,
 "nbformat_minor": 5
}
