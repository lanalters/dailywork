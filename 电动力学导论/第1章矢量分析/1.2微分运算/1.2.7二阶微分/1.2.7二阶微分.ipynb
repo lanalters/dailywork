{
 "cells": [
  {
   "cell_type": "markdown",
   "id": "ee2a611c-1f2c-4c7a-bc96-6156a403b8db",
   "metadata": {},
   "source": [
    "# 1.2.7 二阶微分\n"
   ]
  },
  {
   "cell_type": "markdown",
   "id": "f9c32e1b-51a9-4e6a-a9ad-8e5f71a44d12",
   "metadata": {},
   "source": [
    "### 1) 梯度的散度"
   ]
  },
  {
   "cell_type": "code",
   "execution_count": null,
   "id": "606aa734-299f-46d1-9496-3fae14594052",
   "metadata": {},
   "outputs": [
    {
     "name": "stdout",
     "output_type": "stream",
     "text": [
      "标量场：\n"
     ]
    },
    {
     "data": {
      "text/latex": [
       "$\\displaystyle f{\\left(\\mathbf{{x}_{N}},\\mathbf{{y}_{N}},\\mathbf{{z}_{N}} \\right)}$"
      ],
      "text/plain": [
       "f(N.x, N.y, N.z)"
      ]
     },
     "metadata": {},
     "output_type": "display_data"
    },
    {
     "name": "stdout",
     "output_type": "stream",
     "text": [
      "梯度 ∇f :\n"
     ]
    },
    {
     "data": {
      "text/latex": [
       "$\\displaystyle \\left(\\frac{\\partial}{\\partial \\mathbf{{x}_{N}}} f{\\left(\\mathbf{{x}_{N}},\\mathbf{{y}_{N}},\\mathbf{{z}_{N}} \\right)}\\right)\\mathbf{\\hat{i}_{N}} + \\left(\\frac{\\partial}{\\partial \\mathbf{{y}_{N}}} f{\\left(\\mathbf{{x}_{N}},\\mathbf{{y}_{N}},\\mathbf{{z}_{N}} \\right)}\\right)\\mathbf{\\hat{j}_{N}} + \\left(\\frac{\\partial}{\\partial \\mathbf{{z}_{N}}} f{\\left(\\mathbf{{x}_{N}},\\mathbf{{y}_{N}},\\mathbf{{z}_{N}} \\right)}\\right)\\mathbf{\\hat{k}_{N}}$"
      ],
      "text/plain": [
       "(Derivative(f(N.x, N.y, N.z), N.x))*N.i + (Derivative(f(N.x, N.y, N.z), N.y))*N.j + (Derivative(f(N.x, N.y, N.z), N.z))*N.k"
      ]
     },
     "metadata": {},
     "output_type": "display_data"
    },
    {
     "name": "stdout",
     "output_type": "stream",
     "text": [
      "梯度的散度 ∇·∇f :\n"
     ]
    },
    {
     "data": {
      "text/latex": [
       "$\\displaystyle \\frac{\\partial^{2}}{\\partial \\mathbf{{x}_{N}}^{2}} f{\\left(\\mathbf{{x}_{N}},\\mathbf{{y}_{N}},\\mathbf{{z}_{N}} \\right)} + \\frac{\\partial^{2}}{\\partial \\mathbf{{y}_{N}}^{2}} f{\\left(\\mathbf{{x}_{N}},\\mathbf{{y}_{N}},\\mathbf{{z}_{N}} \\right)} + \\frac{\\partial^{2}}{\\partial \\mathbf{{z}_{N}}^{2}} f{\\left(\\mathbf{{x}_{N}},\\mathbf{{y}_{N}},\\mathbf{{z}_{N}} \\right)}$"
      ],
      "text/plain": [
       "Derivative(f(N.x, N.y, N.z), (N.x, 2)) + Derivative(f(N.x, N.y, N.z), (N.y, 2)) + Derivative(f(N.x, N.y, N.z), (N.z, 2))"
      ]
     },
     "metadata": {},
     "output_type": "display_data"
    }
   ],
   "source": [
    "import sympy as sp\n",
    "from sympy.vector import CoordSys3D, gradient, divergence\n",
    "from sympy import Function\n",
    "from IPython.display import display\n",
    "\n",
    "# 创建一个三维坐标系\n",
    "N = CoordSys3D('N')\n",
    "\n",
    "# 定义标量场 f 和向量场 A\n",
    "f = Function('f')(N.x, N.y, N.z)  # 抽象标量场 f\n",
    "print(\"标量场：\")\n",
    "display(f)\n",
    "\n",
    "# 计算梯度的散度\n",
    "grad_f = gradient(f)\n",
    "div_grad_f = divergence(grad_f)\n",
    "\n",
    "print(\"梯度 ∇f :\")\n",
    "display(grad_f)\n",
    "print(\"梯度的散度 ∇·∇f :\")\n",
    "display(div_grad_f)"
   ]
  },
  {
   "cell_type": "code",
   "execution_count": 4,
   "id": "0954a19b-fc17-469b-b447-73d90de4317f",
   "metadata": {},
   "outputs": [
    {
     "name": "stdout",
     "output_type": "stream",
     "text": [
      "标量场：f =\n"
     ]
    },
    {
     "data": {
      "text/latex": [
       "$\\displaystyle f{\\left(\\mathbf{{x}_{N}},\\mathbf{{y}_{N}},\\mathbf{{z}_{N}} \\right)}$"
      ],
      "text/plain": [
       "f(N.x, N.y, N.z)"
      ]
     },
     "metadata": {},
     "output_type": "display_data"
    },
    {
     "name": "stdout",
     "output_type": "stream",
     "text": [
      "梯度的散度：\n"
     ]
    },
    {
     "data": {
      "text/latex": [
       "$\\displaystyle \\frac{\\partial^{2}}{\\partial \\mathbf{{x}_{N}}^{2}} f{\\left(\\mathbf{{x}_{N}},\\mathbf{{y}_{N}},\\mathbf{{z}_{N}} \\right)} + \\frac{\\partial^{2}}{\\partial \\mathbf{{y}_{N}}^{2}} f{\\left(\\mathbf{{x}_{N}},\\mathbf{{y}_{N}},\\mathbf{{z}_{N}} \\right)} + \\frac{\\partial^{2}}{\\partial \\mathbf{{z}_{N}}^{2}} f{\\left(\\mathbf{{x}_{N}},\\mathbf{{y}_{N}},\\mathbf{{z}_{N}} \\right)}$"
      ],
      "text/plain": [
       "Derivative(f(N.x, N.y, N.z), (N.x, 2)) + Derivative(f(N.x, N.y, N.z), (N.y, 2)) + Derivative(f(N.x, N.y, N.z), (N.z, 2))"
      ]
     },
     "metadata": {},
     "output_type": "display_data"
    }
   ],
   "source": [
    "import sympy as sp\n",
    "from sympy.vector import CoordSys3D, laplacian\n",
    "from sympy import Function\n",
    "from IPython.display import display\n",
    "\n",
    "# 创建一个三维坐标系\n",
    "N = CoordSys3D('N')\n",
    "\n",
    "# 定义标量场 f 和向量场 A\n",
    "f = Function('f')(N.x, N.y, N.z)  # 抽象标量场 f\n",
    "print(\"标量场：f =\")\n",
    "display(f)\n",
    "\n",
    "# laplace运算\n",
    "lap_f = laplacian(f)\n",
    "\n",
    "print(\"梯度的散度：\")\n",
    "display(lap_f)"
   ]
  },
  {
   "cell_type": "markdown",
   "id": "876a055a-bb59-47b5-aa48-d8dfbfb9cbf6",
   "metadata": {},
   "source": [
    "### 2) 梯度的旋度总是为零："
   ]
  },
  {
   "cell_type": "code",
   "execution_count": 6,
   "id": "f39d3dc9-9c78-47dd-b41b-a0a7a4e60bf5",
   "metadata": {},
   "outputs": [
    {
     "name": "stdout",
     "output_type": "stream",
     "text": [
      "标量场：f =\n"
     ]
    },
    {
     "data": {
      "text/latex": [
       "$\\displaystyle f{\\left(\\mathbf{{x}_{N}},\\mathbf{{y}_{N}},\\mathbf{{z}_{N}} \\right)}$"
      ],
      "text/plain": [
       "f(N.x, N.y, N.z)"
      ]
     },
     "metadata": {},
     "output_type": "display_data"
    },
    {
     "name": "stdout",
     "output_type": "stream",
     "text": [
      "梯度 ∇f :\n"
     ]
    },
    {
     "data": {
      "text/latex": [
       "$\\displaystyle \\left(\\frac{\\partial}{\\partial \\mathbf{{x}_{N}}} f{\\left(\\mathbf{{x}_{N}},\\mathbf{{y}_{N}},\\mathbf{{z}_{N}} \\right)}\\right)\\mathbf{\\hat{i}_{N}} + \\left(\\frac{\\partial}{\\partial \\mathbf{{y}_{N}}} f{\\left(\\mathbf{{x}_{N}},\\mathbf{{y}_{N}},\\mathbf{{z}_{N}} \\right)}\\right)\\mathbf{\\hat{j}_{N}} + \\left(\\frac{\\partial}{\\partial \\mathbf{{z}_{N}}} f{\\left(\\mathbf{{x}_{N}},\\mathbf{{y}_{N}},\\mathbf{{z}_{N}} \\right)}\\right)\\mathbf{\\hat{k}_{N}}$"
      ],
      "text/plain": [
       "(Derivative(f(N.x, N.y, N.z), N.x))*N.i + (Derivative(f(N.x, N.y, N.z), N.y))*N.j + (Derivative(f(N.x, N.y, N.z), N.z))*N.k"
      ]
     },
     "metadata": {},
     "output_type": "display_data"
    },
    {
     "name": "stdout",
     "output_type": "stream",
     "text": [
      "梯度的旋度 ∇×∇f :\n"
     ]
    },
    {
     "data": {
      "text/latex": [
       "$\\displaystyle \\mathbf{\\hat{0}}$"
      ],
      "text/plain": [
       "0"
      ]
     },
     "metadata": {},
     "output_type": "display_data"
    }
   ],
   "source": [
    "import sympy as sp\n",
    "from sympy.vector import CoordSys3D, gradient, curl\n",
    "from sympy import Function\n",
    "\n",
    "# 创建一个三维坐标系\n",
    "N = CoordSys3D('N')\n",
    "\n",
    "\n",
    "# 定义标量场 f 和向量场 A\n",
    "f = Function('f')(N.x, N.y, N.z)  # 抽象标量场 f\n",
    "print(\"标量场：f =\")\n",
    "display(f)\n",
    "\n",
    "# 计算梯度的旋度\n",
    "grad_f = gradient(f)\n",
    "curl_grad_f = curl(grad_f)\n",
    "\n",
    "print(\"梯度 ∇f :\")\n",
    "display(grad_f)\n",
    "print(\"梯度的旋度 ∇×∇f :\")\n",
    "display(curl_grad_f)"
   ]
  },
  {
   "cell_type": "markdown",
   "id": "a2c830a3-11f6-468d-8196-bd2a6cf5084b",
   "metadata": {},
   "source": [
    "### 3) $\\nabla(\\nabla\\cdot \\boldsymbol v)$"
   ]
  },
  {
   "cell_type": "code",
   "execution_count": 7,
   "id": "a7883357-ecbc-46d0-bf7a-685eb9bc31aa",
   "metadata": {},
   "outputs": [
    {
     "name": "stdout",
     "output_type": "stream",
     "text": [
      "向量场：v =\n"
     ]
    },
    {
     "data": {
      "text/latex": [
       "$\\displaystyle \\left(v_{x}{\\left(\\mathbf{{x}_{N}},\\mathbf{{y}_{N}},\\mathbf{{z}_{N}} \\right)}\\right)\\mathbf{\\hat{i}_{N}} + \\left(v_{y}{\\left(\\mathbf{{x}_{N}},\\mathbf{{y}_{N}},\\mathbf{{z}_{N}} \\right)}\\right)\\mathbf{\\hat{j}_{N}} + \\left(v_{z}{\\left(\\mathbf{{x}_{N}},\\mathbf{{y}_{N}},\\mathbf{{z}_{N}} \\right)}\\right)\\mathbf{\\hat{k}_{N}}$"
      ],
      "text/plain": [
       "(v_x(N.x, N.y, N.z))*N.i + (v_y(N.x, N.y, N.z))*N.j + (v_z(N.x, N.y, N.z))*N.k"
      ]
     },
     "metadata": {},
     "output_type": "display_data"
    },
    {
     "name": "stdout",
     "output_type": "stream",
     "text": [
      "散度 ∇·v:\n"
     ]
    },
    {
     "data": {
      "text/latex": [
       "$\\displaystyle \\frac{\\partial}{\\partial \\mathbf{{x}_{N}}} v_{x}{\\left(\\mathbf{{x}_{N}},\\mathbf{{y}_{N}},\\mathbf{{z}_{N}} \\right)} + \\frac{\\partial}{\\partial \\mathbf{{y}_{N}}} v_{y}{\\left(\\mathbf{{x}_{N}},\\mathbf{{y}_{N}},\\mathbf{{z}_{N}} \\right)} + \\frac{\\partial}{\\partial \\mathbf{{z}_{N}}} v_{z}{\\left(\\mathbf{{x}_{N}},\\mathbf{{y}_{N}},\\mathbf{{z}_{N}} \\right)}$"
      ],
      "text/plain": [
       "Derivative(v_x(N.x, N.y, N.z), N.x) + Derivative(v_y(N.x, N.y, N.z), N.y) + Derivative(v_z(N.x, N.y, N.z), N.z)"
      ]
     },
     "metadata": {},
     "output_type": "display_data"
    },
    {
     "name": "stdout",
     "output_type": "stream",
     "text": [
      "散度的梯度 ∇(∇·v):\n"
     ]
    },
    {
     "data": {
      "text/latex": [
       "$\\displaystyle \\left(\\frac{\\partial^{2}}{\\partial \\mathbf{{x}_{N}}^{2}} v_{x}{\\left(\\mathbf{{x}_{N}},\\mathbf{{y}_{N}},\\mathbf{{z}_{N}} \\right)} + \\frac{\\partial^{2}}{\\partial \\mathbf{{y}_{N}}\\partial \\mathbf{{x}_{N}}} v_{y}{\\left(\\mathbf{{x}_{N}},\\mathbf{{y}_{N}},\\mathbf{{z}_{N}} \\right)} + \\frac{\\partial^{2}}{\\partial \\mathbf{{z}_{N}}\\partial \\mathbf{{x}_{N}}} v_{z}{\\left(\\mathbf{{x}_{N}},\\mathbf{{y}_{N}},\\mathbf{{z}_{N}} \\right)}\\right)\\mathbf{\\hat{i}_{N}} + \\left(\\frac{\\partial^{2}}{\\partial \\mathbf{{y}_{N}}^{2}} v_{y}{\\left(\\mathbf{{x}_{N}},\\mathbf{{y}_{N}},\\mathbf{{z}_{N}} \\right)} + \\frac{\\partial^{2}}{\\partial \\mathbf{{y}_{N}}\\partial \\mathbf{{x}_{N}}} v_{x}{\\left(\\mathbf{{x}_{N}},\\mathbf{{y}_{N}},\\mathbf{{z}_{N}} \\right)} + \\frac{\\partial^{2}}{\\partial \\mathbf{{z}_{N}}\\partial \\mathbf{{y}_{N}}} v_{z}{\\left(\\mathbf{{x}_{N}},\\mathbf{{y}_{N}},\\mathbf{{z}_{N}} \\right)}\\right)\\mathbf{\\hat{j}_{N}} + \\left(\\frac{\\partial^{2}}{\\partial \\mathbf{{z}_{N}}^{2}} v_{z}{\\left(\\mathbf{{x}_{N}},\\mathbf{{y}_{N}},\\mathbf{{z}_{N}} \\right)} + \\frac{\\partial^{2}}{\\partial \\mathbf{{z}_{N}}\\partial \\mathbf{{x}_{N}}} v_{x}{\\left(\\mathbf{{x}_{N}},\\mathbf{{y}_{N}},\\mathbf{{z}_{N}} \\right)} + \\frac{\\partial^{2}}{\\partial \\mathbf{{z}_{N}}\\partial \\mathbf{{y}_{N}}} v_{y}{\\left(\\mathbf{{x}_{N}},\\mathbf{{y}_{N}},\\mathbf{{z}_{N}} \\right)}\\right)\\mathbf{\\hat{k}_{N}}$"
      ],
      "text/plain": [
       "(Derivative(v_x(N.x, N.y, N.z), (N.x, 2)) + Derivative(v_y(N.x, N.y, N.z), N.x, N.y) + Derivative(v_z(N.x, N.y, N.z), N.x, N.z))*N.i + (Derivative(v_y(N.x, N.y, N.z), (N.y, 2)) + Derivative(v_x(N.x, N.y, N.z), N.x, N.y) + Derivative(v_z(N.x, N.y, N.z), N.y, N.z))*N.j + (Derivative(v_z(N.x, N.y, N.z), (N.z, 2)) + Derivative(v_x(N.x, N.y, N.z), N.x, N.z) + Derivative(v_y(N.x, N.y, N.z), N.y, N.z))*N.k"
      ]
     },
     "metadata": {},
     "output_type": "display_data"
    }
   ],
   "source": [
    "import sympy as sp\n",
    "from sympy.vector import CoordSys3D, gradient, divergence\n",
    "from sympy import Function\n",
    "\n",
    "# 创建一个三维坐标系\n",
    "N = CoordSys3D('N')\n",
    "\n",
    "# 定义标量场 f 和向量场 A\n",
    "v_x, v_y, v_z = Function('v_x')(N.x, N.y, N.z), Function('v_y')(N.x, N.y, N.z), Function('v_z')(N.x, N.y, N.z)\n",
    "v = v_x*N.i + v_y*N.j + v_z*N.k  # 抽象向量场 v\n",
    "print(\"向量场：v =\")\n",
    "display(v)\n",
    "\n",
    "# 计算散度的梯度\n",
    "div_v = divergence(v)\n",
    "grad_div_v = gradient( div_v)\n",
    "\n",
    "print(\"散度 ∇·v:\")\n",
    "display(div_v)\n",
    "print(\"散度的梯度 ∇(∇·v):\")\n",
    "display(grad_div_v)"
   ]
  },
  {
   "cell_type": "markdown",
   "id": "b1c28d06-052c-4e69-9130-36cdf8b8e972",
   "metadata": {},
   "source": [
    "### 4) 旋度的散度同梯度的旋度一样，总是为零："
   ]
  },
  {
   "cell_type": "code",
   "execution_count": 9,
   "id": "02a0e041-39ac-4578-be49-dc395cca670c",
   "metadata": {},
   "outputs": [
    {
     "name": "stdout",
     "output_type": "stream",
     "text": [
      "向量场：v =\n"
     ]
    },
    {
     "data": {
      "text/latex": [
       "$\\displaystyle \\left(v_{x}{\\left(\\mathbf{{x}_{N}},\\mathbf{{y}_{N}},\\mathbf{{z}_{N}} \\right)}\\right)\\mathbf{\\hat{i}_{N}} + \\left(v_{y}{\\left(\\mathbf{{x}_{N}},\\mathbf{{y}_{N}},\\mathbf{{z}_{N}} \\right)}\\right)\\mathbf{\\hat{j}_{N}} + \\left(v_{z}{\\left(\\mathbf{{x}_{N}},\\mathbf{{y}_{N}},\\mathbf{{z}_{N}} \\right)}\\right)\\mathbf{\\hat{k}_{N}}$"
      ],
      "text/plain": [
       "(v_x(N.x, N.y, N.z))*N.i + (v_y(N.x, N.y, N.z))*N.j + (v_z(N.x, N.y, N.z))*N.k"
      ]
     },
     "metadata": {},
     "output_type": "display_data"
    },
    {
     "name": "stdout",
     "output_type": "stream",
     "text": [
      "旋度 ∇×v:\n"
     ]
    },
    {
     "data": {
      "text/latex": [
       "$\\displaystyle \\left(- \\frac{\\partial}{\\partial \\mathbf{{z}_{N}}} v_{y}{\\left(\\mathbf{{x}_{N}},\\mathbf{{y}_{N}},\\mathbf{{z}_{N}} \\right)} + \\frac{\\partial}{\\partial \\mathbf{{y}_{N}}} v_{z}{\\left(\\mathbf{{x}_{N}},\\mathbf{{y}_{N}},\\mathbf{{z}_{N}} \\right)}\\right)\\mathbf{\\hat{i}_{N}} + \\left(\\frac{\\partial}{\\partial \\mathbf{{z}_{N}}} v_{x}{\\left(\\mathbf{{x}_{N}},\\mathbf{{y}_{N}},\\mathbf{{z}_{N}} \\right)} - \\frac{\\partial}{\\partial \\mathbf{{x}_{N}}} v_{z}{\\left(\\mathbf{{x}_{N}},\\mathbf{{y}_{N}},\\mathbf{{z}_{N}} \\right)}\\right)\\mathbf{\\hat{j}_{N}} + \\left(- \\frac{\\partial}{\\partial \\mathbf{{y}_{N}}} v_{x}{\\left(\\mathbf{{x}_{N}},\\mathbf{{y}_{N}},\\mathbf{{z}_{N}} \\right)} + \\frac{\\partial}{\\partial \\mathbf{{x}_{N}}} v_{y}{\\left(\\mathbf{{x}_{N}},\\mathbf{{y}_{N}},\\mathbf{{z}_{N}} \\right)}\\right)\\mathbf{\\hat{k}_{N}}$"
      ],
      "text/plain": [
       "(-Derivative(v_y(N.x, N.y, N.z), N.z) + Derivative(v_z(N.x, N.y, N.z), N.y))*N.i + (Derivative(v_x(N.x, N.y, N.z), N.z) - Derivative(v_z(N.x, N.y, N.z), N.x))*N.j + (-Derivative(v_x(N.x, N.y, N.z), N.y) + Derivative(v_y(N.x, N.y, N.z), N.x))*N.k"
      ]
     },
     "metadata": {},
     "output_type": "display_data"
    },
    {
     "name": "stdout",
     "output_type": "stream",
     "text": [
      "旋度的散度等于 ∇·(∇×v) =\n"
     ]
    },
    {
     "data": {
      "text/latex": [
       "$\\displaystyle 0$"
      ],
      "text/plain": [
       "0"
      ]
     },
     "metadata": {},
     "output_type": "display_data"
    }
   ],
   "source": [
    "import sympy as sp\n",
    "from sympy.vector import CoordSys3D, gradient, divergence, curl\n",
    "from sympy import Function\n",
    "\n",
    "# 创建一个三维坐标系\n",
    "N = CoordSys3D('N')\n",
    "\n",
    "# 定义标量场 f 和向量场 A\n",
    "v_x, v_y, v_z = Function('v_x')(N.x, N.y, N.z), Function('v_y')(N.x, N.y, N.z), Function('v_z')(N.x, N.y, N.z)\n",
    "v = v_x*N.i + v_y*N.j + v_z*N.k  # 抽象向量场 v\n",
    "print(\"向量场：v =\")\n",
    "display(v)\n",
    "\n",
    "# 计算旋度的散度\n",
    "curl_v = curl(v)\n",
    "div_curl_v = divergence(curl_v)\n",
    "\n",
    "print(\"旋度 ∇×v:\")\n",
    "display(curl_v)\n",
    "print(\"旋度的散度等于 ∇·(∇×v) =\")\n",
    "display(div_curl_v)"
   ]
  },
  {
   "cell_type": "markdown",
   "id": "f15a04df-81bb-44fa-9b46-8f35f5dbd0c7",
   "metadata": {},
   "source": [
    "### 旋度的旋度"
   ]
  },
  {
   "cell_type": "code",
   "execution_count": 13,
   "id": "e84dc322-5a0f-403e-841e-29cbd76b9513",
   "metadata": {},
   "outputs": [
    {
     "name": "stdout",
     "output_type": "stream",
     "text": [
      "向量场：v =\n"
     ]
    },
    {
     "data": {
      "text/latex": [
       "$\\displaystyle \\left(v_{x}{\\left(\\mathbf{{x}_{N}},\\mathbf{{y}_{N}},\\mathbf{{z}_{N}} \\right)}\\right)\\mathbf{\\hat{i}_{N}} + \\left(v_{y}{\\left(\\mathbf{{x}_{N}},\\mathbf{{y}_{N}},\\mathbf{{z}_{N}} \\right)}\\right)\\mathbf{\\hat{j}_{N}} + \\left(v_{z}{\\left(\\mathbf{{x}_{N}},\\mathbf{{y}_{N}},\\mathbf{{z}_{N}} \\right)}\\right)\\mathbf{\\hat{k}_{N}}$"
      ],
      "text/plain": [
       "(v_x(N.x, N.y, N.z))*N.i + (v_y(N.x, N.y, N.z))*N.j + (v_z(N.x, N.y, N.z))*N.k"
      ]
     },
     "metadata": {},
     "output_type": "display_data"
    },
    {
     "name": "stdout",
     "output_type": "stream",
     "text": [
      "旋度 ∇×v:\n"
     ]
    },
    {
     "data": {
      "text/latex": [
       "$\\displaystyle \\left(- \\frac{\\partial}{\\partial \\mathbf{{z}_{N}}} v_{y}{\\left(\\mathbf{{x}_{N}},\\mathbf{{y}_{N}},\\mathbf{{z}_{N}} \\right)} + \\frac{\\partial}{\\partial \\mathbf{{y}_{N}}} v_{z}{\\left(\\mathbf{{x}_{N}},\\mathbf{{y}_{N}},\\mathbf{{z}_{N}} \\right)}\\right)\\mathbf{\\hat{i}_{N}} + \\left(\\frac{\\partial}{\\partial \\mathbf{{z}_{N}}} v_{x}{\\left(\\mathbf{{x}_{N}},\\mathbf{{y}_{N}},\\mathbf{{z}_{N}} \\right)} - \\frac{\\partial}{\\partial \\mathbf{{x}_{N}}} v_{z}{\\left(\\mathbf{{x}_{N}},\\mathbf{{y}_{N}},\\mathbf{{z}_{N}} \\right)}\\right)\\mathbf{\\hat{j}_{N}} + \\left(- \\frac{\\partial}{\\partial \\mathbf{{y}_{N}}} v_{x}{\\left(\\mathbf{{x}_{N}},\\mathbf{{y}_{N}},\\mathbf{{z}_{N}} \\right)} + \\frac{\\partial}{\\partial \\mathbf{{x}_{N}}} v_{y}{\\left(\\mathbf{{x}_{N}},\\mathbf{{y}_{N}},\\mathbf{{z}_{N}} \\right)}\\right)\\mathbf{\\hat{k}_{N}}$"
      ],
      "text/plain": [
       "(-Derivative(v_y(N.x, N.y, N.z), N.z) + Derivative(v_z(N.x, N.y, N.z), N.y))*N.i + (Derivative(v_x(N.x, N.y, N.z), N.z) - Derivative(v_z(N.x, N.y, N.z), N.x))*N.j + (-Derivative(v_x(N.x, N.y, N.z), N.y) + Derivative(v_y(N.x, N.y, N.z), N.x))*N.k"
      ]
     },
     "metadata": {},
     "output_type": "display_data"
    },
    {
     "name": "stdout",
     "output_type": "stream",
     "text": [
      "旋度 ∇×v:\n",
      "旋度的旋度 ∇×(∇×v) =\n"
     ]
    },
    {
     "data": {
      "text/latex": [
       "$\\displaystyle \\left(- \\frac{\\partial^{2}}{\\partial \\mathbf{{y}_{N}}^{2}} v_{x}{\\left(\\mathbf{{x}_{N}},\\mathbf{{y}_{N}},\\mathbf{{z}_{N}} \\right)} - \\frac{\\partial^{2}}{\\partial \\mathbf{{z}_{N}}^{2}} v_{x}{\\left(\\mathbf{{x}_{N}},\\mathbf{{y}_{N}},\\mathbf{{z}_{N}} \\right)} + \\frac{\\partial^{2}}{\\partial \\mathbf{{y}_{N}}\\partial \\mathbf{{x}_{N}}} v_{y}{\\left(\\mathbf{{x}_{N}},\\mathbf{{y}_{N}},\\mathbf{{z}_{N}} \\right)} + \\frac{\\partial^{2}}{\\partial \\mathbf{{z}_{N}}\\partial \\mathbf{{x}_{N}}} v_{z}{\\left(\\mathbf{{x}_{N}},\\mathbf{{y}_{N}},\\mathbf{{z}_{N}} \\right)}\\right)\\mathbf{\\hat{i}_{N}} + \\left(- \\frac{\\partial^{2}}{\\partial \\mathbf{{x}_{N}}^{2}} v_{y}{\\left(\\mathbf{{x}_{N}},\\mathbf{{y}_{N}},\\mathbf{{z}_{N}} \\right)} - \\frac{\\partial^{2}}{\\partial \\mathbf{{z}_{N}}^{2}} v_{y}{\\left(\\mathbf{{x}_{N}},\\mathbf{{y}_{N}},\\mathbf{{z}_{N}} \\right)} + \\frac{\\partial^{2}}{\\partial \\mathbf{{y}_{N}}\\partial \\mathbf{{x}_{N}}} v_{x}{\\left(\\mathbf{{x}_{N}},\\mathbf{{y}_{N}},\\mathbf{{z}_{N}} \\right)} + \\frac{\\partial^{2}}{\\partial \\mathbf{{z}_{N}}\\partial \\mathbf{{y}_{N}}} v_{z}{\\left(\\mathbf{{x}_{N}},\\mathbf{{y}_{N}},\\mathbf{{z}_{N}} \\right)}\\right)\\mathbf{\\hat{j}_{N}} + \\left(- \\frac{\\partial^{2}}{\\partial \\mathbf{{x}_{N}}^{2}} v_{z}{\\left(\\mathbf{{x}_{N}},\\mathbf{{y}_{N}},\\mathbf{{z}_{N}} \\right)} - \\frac{\\partial^{2}}{\\partial \\mathbf{{y}_{N}}^{2}} v_{z}{\\left(\\mathbf{{x}_{N}},\\mathbf{{y}_{N}},\\mathbf{{z}_{N}} \\right)} + \\frac{\\partial^{2}}{\\partial \\mathbf{{z}_{N}}\\partial \\mathbf{{x}_{N}}} v_{x}{\\left(\\mathbf{{x}_{N}},\\mathbf{{y}_{N}},\\mathbf{{z}_{N}} \\right)} + \\frac{\\partial^{2}}{\\partial \\mathbf{{z}_{N}}\\partial \\mathbf{{y}_{N}}} v_{y}{\\left(\\mathbf{{x}_{N}},\\mathbf{{y}_{N}},\\mathbf{{z}_{N}} \\right)}\\right)\\mathbf{\\hat{k}_{N}}$"
      ],
      "text/plain": [
       "(-Derivative(v_x(N.x, N.y, N.z), (N.y, 2)) - Derivative(v_x(N.x, N.y, N.z), (N.z, 2)) + Derivative(v_y(N.x, N.y, N.z), N.x, N.y) + Derivative(v_z(N.x, N.y, N.z), N.x, N.z))*N.i + (-Derivative(v_y(N.x, N.y, N.z), (N.x, 2)) - Derivative(v_y(N.x, N.y, N.z), (N.z, 2)) + Derivative(v_x(N.x, N.y, N.z), N.x, N.y) + Derivative(v_z(N.x, N.y, N.z), N.y, N.z))*N.j + (-Derivative(v_z(N.x, N.y, N.z), (N.x, 2)) - Derivative(v_z(N.x, N.y, N.z), (N.y, 2)) + Derivative(v_x(N.x, N.y, N.z), N.x, N.z) + Derivative(v_y(N.x, N.y, N.z), N.y, N.z))*N.k"
      ]
     },
     "metadata": {},
     "output_type": "display_data"
    },
    {
     "name": "stdout",
     "output_type": "stream",
     "text": [
      "散度的梯度等于\n"
     ]
    },
    {
     "data": {
      "text/latex": [
       "$\\displaystyle \\left(\\frac{\\partial^{2}}{\\partial \\mathbf{{x}_{N}}^{2}} v_{x}{\\left(\\mathbf{{x}_{N}},\\mathbf{{y}_{N}},\\mathbf{{z}_{N}} \\right)} + \\frac{\\partial^{2}}{\\partial \\mathbf{{y}_{N}}\\partial \\mathbf{{x}_{N}}} v_{y}{\\left(\\mathbf{{x}_{N}},\\mathbf{{y}_{N}},\\mathbf{{z}_{N}} \\right)} + \\frac{\\partial^{2}}{\\partial \\mathbf{{z}_{N}}\\partial \\mathbf{{x}_{N}}} v_{z}{\\left(\\mathbf{{x}_{N}},\\mathbf{{y}_{N}},\\mathbf{{z}_{N}} \\right)}\\right)\\mathbf{\\hat{i}_{N}} + \\left(\\frac{\\partial^{2}}{\\partial \\mathbf{{y}_{N}}^{2}} v_{y}{\\left(\\mathbf{{x}_{N}},\\mathbf{{y}_{N}},\\mathbf{{z}_{N}} \\right)} + \\frac{\\partial^{2}}{\\partial \\mathbf{{y}_{N}}\\partial \\mathbf{{x}_{N}}} v_{x}{\\left(\\mathbf{{x}_{N}},\\mathbf{{y}_{N}},\\mathbf{{z}_{N}} \\right)} + \\frac{\\partial^{2}}{\\partial \\mathbf{{z}_{N}}\\partial \\mathbf{{y}_{N}}} v_{z}{\\left(\\mathbf{{x}_{N}},\\mathbf{{y}_{N}},\\mathbf{{z}_{N}} \\right)}\\right)\\mathbf{\\hat{j}_{N}} + \\left(\\frac{\\partial^{2}}{\\partial \\mathbf{{z}_{N}}^{2}} v_{z}{\\left(\\mathbf{{x}_{N}},\\mathbf{{y}_{N}},\\mathbf{{z}_{N}} \\right)} + \\frac{\\partial^{2}}{\\partial \\mathbf{{z}_{N}}\\partial \\mathbf{{x}_{N}}} v_{x}{\\left(\\mathbf{{x}_{N}},\\mathbf{{y}_{N}},\\mathbf{{z}_{N}} \\right)} + \\frac{\\partial^{2}}{\\partial \\mathbf{{z}_{N}}\\partial \\mathbf{{y}_{N}}} v_{y}{\\left(\\mathbf{{x}_{N}},\\mathbf{{y}_{N}},\\mathbf{{z}_{N}} \\right)}\\right)\\mathbf{\\hat{k}_{N}}$"
      ],
      "text/plain": [
       "(Derivative(v_x(N.x, N.y, N.z), (N.x, 2)) + Derivative(v_y(N.x, N.y, N.z), N.x, N.y) + Derivative(v_z(N.x, N.y, N.z), N.x, N.z))*N.i + (Derivative(v_y(N.x, N.y, N.z), (N.y, 2)) + Derivative(v_x(N.x, N.y, N.z), N.x, N.y) + Derivative(v_z(N.x, N.y, N.z), N.y, N.z))*N.j + (Derivative(v_z(N.x, N.y, N.z), (N.z, 2)) + Derivative(v_x(N.x, N.y, N.z), N.x, N.z) + Derivative(v_y(N.x, N.y, N.z), N.y, N.z))*N.k"
      ]
     },
     "metadata": {},
     "output_type": "display_data"
    },
    {
     "name": "stdout",
     "output_type": "stream",
     "text": [
      "拉普拉斯算子等于\n"
     ]
    },
    {
     "data": {
      "text/latex": [
       "$\\displaystyle \\left(\\frac{\\partial^{2}}{\\partial \\mathbf{{x}_{N}}^{2}} v_{x}{\\left(\\mathbf{{x}_{N}},\\mathbf{{y}_{N}},\\mathbf{{z}_{N}} \\right)} + \\frac{\\partial^{2}}{\\partial \\mathbf{{y}_{N}}^{2}} v_{x}{\\left(\\mathbf{{x}_{N}},\\mathbf{{y}_{N}},\\mathbf{{z}_{N}} \\right)} + \\frac{\\partial^{2}}{\\partial \\mathbf{{z}_{N}}^{2}} v_{x}{\\left(\\mathbf{{x}_{N}},\\mathbf{{y}_{N}},\\mathbf{{z}_{N}} \\right)}\\right)\\mathbf{\\hat{i}_{N}} + \\left(\\frac{\\partial^{2}}{\\partial \\mathbf{{x}_{N}}^{2}} v_{y}{\\left(\\mathbf{{x}_{N}},\\mathbf{{y}_{N}},\\mathbf{{z}_{N}} \\right)} + \\frac{\\partial^{2}}{\\partial \\mathbf{{y}_{N}}^{2}} v_{y}{\\left(\\mathbf{{x}_{N}},\\mathbf{{y}_{N}},\\mathbf{{z}_{N}} \\right)} + \\frac{\\partial^{2}}{\\partial \\mathbf{{z}_{N}}^{2}} v_{y}{\\left(\\mathbf{{x}_{N}},\\mathbf{{y}_{N}},\\mathbf{{z}_{N}} \\right)}\\right)\\mathbf{\\hat{j}_{N}} + \\left(\\frac{\\partial^{2}}{\\partial \\mathbf{{x}_{N}}^{2}} v_{z}{\\left(\\mathbf{{x}_{N}},\\mathbf{{y}_{N}},\\mathbf{{z}_{N}} \\right)} + \\frac{\\partial^{2}}{\\partial \\mathbf{{y}_{N}}^{2}} v_{z}{\\left(\\mathbf{{x}_{N}},\\mathbf{{y}_{N}},\\mathbf{{z}_{N}} \\right)} + \\frac{\\partial^{2}}{\\partial \\mathbf{{z}_{N}}^{2}} v_{z}{\\left(\\mathbf{{x}_{N}},\\mathbf{{y}_{N}},\\mathbf{{z}_{N}} \\right)}\\right)\\mathbf{\\hat{k}_{N}}$"
      ],
      "text/plain": [
       "(Derivative(v_x(N.x, N.y, N.z), (N.x, 2)) + Derivative(v_x(N.x, N.y, N.z), (N.y, 2)) + Derivative(v_x(N.x, N.y, N.z), (N.z, 2)))*N.i + (Derivative(v_y(N.x, N.y, N.z), (N.x, 2)) + Derivative(v_y(N.x, N.y, N.z), (N.y, 2)) + Derivative(v_y(N.x, N.y, N.z), (N.z, 2)))*N.j + (Derivative(v_z(N.x, N.y, N.z), (N.x, 2)) + Derivative(v_z(N.x, N.y, N.z), (N.y, 2)) + Derivative(v_z(N.x, N.y, N.z), (N.z, 2)))*N.k"
      ]
     },
     "metadata": {},
     "output_type": "display_data"
    },
    {
     "name": "stdout",
     "output_type": "stream",
     "text": [
      "左式减去右式等于\n"
     ]
    },
    {
     "data": {
      "text/latex": [
       "$\\displaystyle \\mathbf{\\hat{0}}$"
      ],
      "text/plain": [
       "0"
      ]
     },
     "metadata": {},
     "output_type": "display_data"
    }
   ],
   "source": [
    "import sympy as sp\n",
    "from sympy.vector import CoordSys3D, curl, gradient, divergence, laplacian\n",
    "from sympy import Function\n",
    "\n",
    "# 创建一个三维坐标系\n",
    "N = CoordSys3D('N')\n",
    "\n",
    "# 定义标量场 f 和向量场 A\n",
    "N.x, N.y, N.z = N.x, N.y, N.z\n",
    "v_x, v_y, v_z = Function('v_x')(N.x, N.y, N.z), Function('v_y')(N.x, N.y, N.z), Function('v_z')(N.x, N.y, N.z)\n",
    "v = v_x*N.i + v_y*N.j + v_z*N.k  # 抽象向量场 v\n",
    "print(\"向量场：v =\")\n",
    "display(v)\n",
    "\n",
    "# 计算旋度的旋度\n",
    "curl_v = curl(v)\n",
    "curl_curl_v = curl(curl_v)\n",
    "\n",
    "print(\"旋度 ∇×v:\")\n",
    "display(curl_v)\n",
    "print(\"旋度 ∇×v:\")\n",
    "print(\"旋度的旋度 ∇×(∇×v) =\")\n",
    "display(curl_curl_v)\n",
    "\n",
    "#### 验证旋度的旋度的公式\n",
    "\n",
    "div_v = divergence(v)\n",
    "grad_div_v = gradient(div_v)\n",
    "lap_v = laplacian(v)\n",
    "\n",
    "print('散度的梯度等于')\n",
    "display(grad_div_v)\n",
    "print('拉普拉斯算子等于')\n",
    "display(lap_v)\n",
    "\n",
    "print('左式减去右式等于')\n",
    "display(curl_curl_v - (grad_div_v - lap_v))"
   ]
  }
 ],
 "metadata": {
  "kernelspec": {
   "display_name": "d2l",
   "language": "python",
   "name": "python3"
  },
  "language_info": {
   "codemirror_mode": {
    "name": "ipython",
    "version": 3
   },
   "file_extension": ".py",
   "mimetype": "text/x-python",
   "name": "python",
   "nbconvert_exporter": "python",
   "pygments_lexer": "ipython3",
   "version": "3.8.19"
  }
 },
 "nbformat": 4,
 "nbformat_minor": 5
}
