{
 "cells": [
  {
   "cell_type": "markdown",
   "id": "20ccdd45-c213-4742-9421-3aa6cdafd503",
   "metadata": {},
   "source": [
    "# 求散度的一种办法"
   ]
  },
  {
   "cell_type": "code",
   "execution_count": 1,
   "id": "04c7dcd1-d80f-4095-9166-7b46a56cb36a",
   "metadata": {},
   "outputs": [
    {
     "name": "stdout",
     "output_type": "stream",
     "text": [
      "矢量场的散度 (∇·A):\n"
     ]
    },
    {
     "data": {
      "text/latex": [
       "$\\displaystyle 2 \\mathbf{{x}_{N}} + 2 \\mathbf{{y}_{N}} + 1$"
      ],
      "text/plain": [
       "2*N.x + 2*N.y + 1"
      ]
     },
     "metadata": {},
     "output_type": "display_data"
    }
   ],
   "source": [
    "import sympy as sp\n",
    "from sympy.vector import CoordSys3D, divergence\n",
    "from IPython.display import display\n",
    "\n",
    "# 创建一个三维坐标系\n",
    "N = CoordSys3D('N')\n",
    "\n",
    "# 定义矢量场 A\n",
    "# 假设 A = x^2 * i + y^2 * j + z * k\n",
    "A = N.x**2 * N.i + N.y**2 * N.j + N.z * N.k # 我们曾学过如何定义矢量场\n",
    "\n",
    "# 计算矢量场的散度\n",
    "div_A = divergence(A)\n",
    "\n",
    "# 输出散度\n",
    "print(\"矢量场的散度 (∇·A):\")\n",
    "display(div_A)"
   ]
  },
  {
   "cell_type": "code",
   "execution_count": 2,
   "id": "96e366a2",
   "metadata": {},
   "outputs": [
    {
     "name": "stdout",
     "output_type": "stream",
     "text": [
      "抽象向量场 A 为：\n"
     ]
    },
    {
     "data": {
      "text/latex": [
       "$\\displaystyle \\left(A_{x}{\\left(\\mathbf{{x}_{N}},\\mathbf{{y}_{N}},\\mathbf{{z}_{N}} \\right)}\\right)\\mathbf{\\hat{i}_{N}} + \\left(A_{y}{\\left(\\mathbf{{x}_{N}},\\mathbf{{y}_{N}},\\mathbf{{z}_{N}} \\right)}\\right)\\mathbf{\\hat{j}_{N}} + \\left(A_{z}{\\left(\\mathbf{{x}_{N}},\\mathbf{{y}_{N}},\\mathbf{{z}_{N}} \\right)}\\right)\\mathbf{\\hat{k}_{N}}$"
      ],
      "text/plain": [
       "(A_x(N.x, N.y, N.z))*N.i + (A_y(N.x, N.y, N.z))*N.j + (A_z(N.x, N.y, N.z))*N.k"
      ]
     },
     "metadata": {},
     "output_type": "display_data"
    },
    {
     "name": "stdout",
     "output_type": "stream",
     "text": [
      "\n",
      "散度 (∇·A):\n"
     ]
    },
    {
     "data": {
      "text/latex": [
       "$\\displaystyle \\frac{\\partial}{\\partial \\mathbf{{x}_{N}}} A_{x}{\\left(\\mathbf{{x}_{N}},\\mathbf{{y}_{N}},\\mathbf{{z}_{N}} \\right)} + \\frac{\\partial}{\\partial \\mathbf{{y}_{N}}} A_{y}{\\left(\\mathbf{{x}_{N}},\\mathbf{{y}_{N}},\\mathbf{{z}_{N}} \\right)} + \\frac{\\partial}{\\partial \\mathbf{{z}_{N}}} A_{z}{\\left(\\mathbf{{x}_{N}},\\mathbf{{y}_{N}},\\mathbf{{z}_{N}} \\right)}$"
      ],
      "text/plain": [
       "Derivative(A_x(N.x, N.y, N.z), N.x) + Derivative(A_y(N.x, N.y, N.z), N.y) + Derivative(A_z(N.x, N.y, N.z), N.z)"
      ]
     },
     "metadata": {},
     "output_type": "display_data"
    },
    {
     "name": "stdout",
     "output_type": "stream",
     "text": [
      "\n",
      "代入 Ax = x, Ay = y, Az = z 后的散度 (∇·A):\n"
     ]
    },
    {
     "data": {
      "text/latex": [
       "$\\displaystyle \\frac{d}{d \\mathbf{{x}_{N}}} \\mathbf{{x}_{N}} + \\frac{d}{d \\mathbf{{y}_{N}}} \\mathbf{{y}_{N}} + \\frac{d}{d \\mathbf{{z}_{N}}} \\mathbf{{z}_{N}}$"
      ],
      "text/plain": [
       "Derivative(N.x, N.x) + Derivative(N.y, N.y) + Derivative(N.z, N.z)"
      ]
     },
     "metadata": {},
     "output_type": "display_data"
    },
    {
     "name": "stdout",
     "output_type": "stream",
     "text": [
      "化简为：\n"
     ]
    },
    {
     "data": {
      "text/latex": [
       "$\\displaystyle 3$"
      ],
      "text/plain": [
       "3"
      ]
     },
     "metadata": {},
     "output_type": "display_data"
    }
   ],
   "source": [
    "import sympy as sp\n",
    "from sympy.vector import CoordSys3D, divergence\n",
    "from sympy import Function\n",
    "from IPython.display import display\n",
    "\n",
    "# 创建一个三维坐标系\n",
    "N = CoordSys3D('N')\n",
    "\n",
    "# 定义抽象的标量场 f(x, y, z) 和向量场 A(x, y, z)\n",
    "A_x, A_y, A_z = Function('A_x')(N.x, N.y, N.z), Function('A_y')(N.x, N.y, N.z), Function('A_z')(N.x, N.y, N.z)\n",
    "A = A_x*N.i + A_y*N.j + A_z*N.k  # 抽象向量场 A\n",
    "print(\"抽象向量场 A 为：\")\n",
    "display(A)\n",
    "\n",
    "# 散度运算\n",
    "div_A = divergence(A)  # 使用 & 运算符进行散度计算\n",
    "print(\"\\n散度 (∇·A):\")\n",
    "display(div_A)\n",
    "\n",
    "# 同时代入 Ax = x, Ay = y, Az = z\n",
    "div_A_specific = div_A.subs({A_x: N.x, A_y: N.y, A_z: N.z})\n",
    "\n",
    "print(\"\\n代入 Ax = x, Ay = y, Az = z 后的散度 (∇·A):\")\n",
    "display(div_A_specific)\n",
    "print(\"化简为：\")\n",
    "display(sp.simplify(div_A_specific))"
   ]
  }
 ],
 "metadata": {
  "kernelspec": {
   "display_name": "d2l",
   "language": "python",
   "name": "python3"
  },
  "language_info": {
   "codemirror_mode": {
    "name": "ipython",
    "version": 3
   },
   "file_extension": ".py",
   "mimetype": "text/x-python",
   "name": "python",
   "nbconvert_exporter": "python",
   "pygments_lexer": "ipython3",
   "version": "3.8.19"
  }
 },
 "nbformat": 4,
 "nbformat_minor": 5
}
