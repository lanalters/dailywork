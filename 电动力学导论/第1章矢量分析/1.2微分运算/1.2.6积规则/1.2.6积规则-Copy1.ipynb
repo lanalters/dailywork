{
 "cells": [
  {
   "cell_type": "markdown",
   "id": "fbbaf2ec-c1a4-498d-8e7e-1631e0c6a95a",
   "metadata": {},
   "source": [
    "# 1.2.6 积规则\n"
   ]
  },
  {
   "cell_type": "markdown",
   "id": "4c769bb2-211a-431b-8e0a-6e480b7f1a44",
   "metadata": {},
   "source": [
    "现在我们要用 python 验证各种积规则"
   ]
  },
  {
   "cell_type": "markdown",
   "id": "5fa6fda0-09e4-4af7-a3a8-3045955e7576",
   "metadata": {},
   "source": [
    "## 抽象函数的导数"
   ]
  },
  {
   "cell_type": "code",
   "execution_count": 5,
   "id": "7fdfdfe4-0601-4bba-af2f-ec98d09f315f",
   "metadata": {},
   "outputs": [
    {
     "name": "stdout",
     "output_type": "stream",
     "text": [
      "f'(x) =\n",
      "Derivative(f(x, y, z), x)\n"
     ]
    }
   ],
   "source": [
    "import sympy as sp\n",
    "from sympy import Function\n",
    "\n",
    "# 定义标量场 f 和向量场 A\n",
    "x, y, z = sp.symbols(\"x y z\")\n",
    "f = Function('f')(x, y, z)  # 抽象标量场 f\n",
    "# 对函数 f(x) 求导数\n",
    "f_prime = sp.diff(f, x)\n",
    "\n",
    "# 输出导数\n",
    "print(\"f'(x) =\")\n",
    "print(f_prime)"
   ]
  },
  {
   "cell_type": "markdown",
   "id": "abc6b3e5-835f-4809-81d0-ba6a4b53b821",
   "metadata": {},
   "source": [
    "### 验证导数的加法规则"
   ]
  },
  {
   "cell_type": "code",
   "execution_count": 32,
   "id": "a18b1d60-fb4c-4fb1-9371-4d64345acb38",
   "metadata": {},
   "outputs": [
    {
     "name": "stdout",
     "output_type": "stream",
     "text": [
      "(f(x) + g(x))' = \n",
      "Derivative(f(x, y, z), x) + Derivative(g(x, y, z), x)\n",
      "左式减去右式等于：\n",
      "0\n"
     ]
    }
   ],
   "source": [
    "import sympy as sp\n",
    "from sympy import Function\n",
    "\n",
    "# 定义标量场 f 和向量场 A\n",
    "x, y, z = sp.symbols(\"x y z\")\n",
    "f = Function('f')(x, y, z)  # 抽象标量场 f\n",
    "g = Function('g')(x, y, z)  # 抽象标量场 g\n",
    "# 对函数 f(x) 求导数\n",
    "f_prime = sp.diff(f, x)\n",
    "g_prime = sp.diff(g, x)\n",
    "fg_prime = sp.diff(f + g, x)\n",
    "result = sp.simplify(sp.expand( fg_prime - f_prime - g_prime ))\n",
    "\n",
    "# 输出导数\n",
    "print(\"(f(x) + g(x))' = \")\n",
    "print(fg_prime)\n",
    "print(\"左式减去右式等于：\")\n",
    "print(result)"
   ]
  },
  {
   "cell_type": "markdown",
   "id": "c16f4aca-09f4-42e3-a0e7-b0dbac88fca2",
   "metadata": {},
   "source": [
    "### 验证导数的数乘规则"
   ]
  },
  {
   "cell_type": "code",
   "execution_count": 34,
   "id": "c97bdff0-9c40-48cb-b4df-36d2561ad693",
   "metadata": {},
   "outputs": [
    {
     "name": "stdout",
     "output_type": "stream",
     "text": [
      "(kf(x))'=\n",
      "k*Derivative(f(x, y, z), x)\n",
      "左式减去右式等于：\n",
      "0\n"
     ]
    }
   ],
   "source": [
    "import sympy as sp\n",
    "from sympy import Function\n",
    "\n",
    "# 定义标量场 f 和向量场 A\n",
    "x, y, z = sp.symbols('x y z')\n",
    "f = Function('f')(x, y, z)  # 抽象标量场 f\n",
    "k = sp.symbols('k')\n",
    "# 对函数 f(x) 求导数\n",
    "f_prime = sp.diff(f, x)\n",
    "kf_prime = sp.diff(k * f , x)\n",
    "result = sp.simplify(sp.expand( kf_prime - k * f_prime))\n",
    "\n",
    "# 输出导数\n",
    "print(\"(kf(x))'=\")\n",
    "print(kf_prime)\n",
    "print(\"左式减去右式等于：\")\n",
    "print(result)"
   ]
  },
  {
   "cell_type": "markdown",
   "id": "b2e81874-502d-4433-ac90-35f6e8f5a577",
   "metadata": {},
   "source": [
    "### 验证导数的积规则"
   ]
  },
  {
   "cell_type": "code",
   "execution_count": 36,
   "id": "da5428d9-1bc6-4043-9a69-52e66dbd0495",
   "metadata": {},
   "outputs": [
    {
     "name": "stdout",
     "output_type": "stream",
     "text": [
      "(f(x) * g(x))'=\n",
      "f(x, y, z)*Derivative(g(x, y, z), x) + g(x, y, z)*Derivative(f(x, y, z), x)\n",
      "左式减去右式等于：\n",
      "0\n"
     ]
    }
   ],
   "source": [
    "import sympy as sp\n",
    "from sympy import Function\n",
    "\n",
    "# 定义标量场 f 和向量场 A\n",
    "x, y, z = sp.symbols(\"x y z\")\n",
    "f = Function('f')(x, y, z)  # 抽象标量场 f\n",
    "g = Function('g')(x, y, z)  # 抽象标量场 g\n",
    "# 对函数 f(x) 求导数\n",
    "f_prime = sp.diff(f, x)\n",
    "g_prime = sp.diff(g, x)\n",
    "fg_prime = sp.diff(f * g, x)\n",
    "result = sp.simplify(sp.expand( fg_prime - g * f_prime - f * g_prime))\n",
    "\n",
    "# 输出导数\n",
    "print(\"(f(x) * g(x))'=\")\n",
    "print(fg_prime)\n",
    "print(\"左式减去右式等于：\")\n",
    "print(result)"
   ]
  },
  {
   "cell_type": "markdown",
   "id": "b755c85e-6b73-4164-aa5b-3c4763cb21f8",
   "metadata": {},
   "source": [
    "### 验证导数的除法规则"
   ]
  },
  {
   "cell_type": "code",
   "execution_count": 39,
   "id": "356a90f8-c0a0-4713-ba3b-ab0cf86e1768",
   "metadata": {},
   "outputs": [
    {
     "name": "stdout",
     "output_type": "stream",
     "text": [
      "(f(x) / g(x))'=\n",
      "-f(x, y, z)*Derivative(g(x, y, z), x)/g(x, y, z)**2 + Derivative(f(x, y, z), x)/g(x, y, z)\n",
      "左式减去右式等于：\n",
      "0\n"
     ]
    }
   ],
   "source": [
    "import sympy as sp\n",
    "from sympy import Function\n",
    "\n",
    "# 定义标量场 f 和向量场 A\n",
    "x, y, z = sp.symbols(\"x y z\")\n",
    "f = Function('f')(x, y, z)  # 抽象标量场 f\n",
    "g = Function('g')(x, y, z)  # 抽象标量场 g\n",
    "# 对函数 f(x) 求导数\n",
    "f_prime = sp.diff(f, x)\n",
    "g_prime = sp.diff(g, x)\n",
    "fg_prime = sp.diff(f / g, x)\n",
    "result = sp.simplify(sp.expand( fg_prime - (g * f_prime - f * g_prime)/g ** 2))\n",
    "\n",
    "# 输出导数\n",
    "print(\"(f(x) / g(x))'=\")\n",
    "print(fg_prime)\n",
    "print(\"左式减去右式等于：\")\n",
    "print(result)"
   ]
  },
  {
   "cell_type": "code",
   "execution_count": null,
   "id": "97cbe58b-94f5-4e4b-ad69-25a2d693b5a8",
   "metadata": {},
   "outputs": [],
   "source": []
  },
  {
   "cell_type": "markdown",
   "id": "58f496c0-9c6f-4f45-9517-0ab9a912bfdc",
   "metadata": {},
   "source": [
    "### 验证梯度的加法和数乘法则"
   ]
  },
  {
   "cell_type": "code",
   "execution_count": 41,
   "id": "d2d0d251-b48b-4f90-9177-03640f4d04ed",
   "metadata": {},
   "outputs": [
    {
     "name": "stdout",
     "output_type": "stream",
     "text": [
      "梯度 ∇(f + g):\n",
      "(Derivative(f(N.x, N.y, N.z) + g(N.x, N.y, N.z), N.x))*N.i + (Derivative(f(N.x, N.y, N.z) + g(N.x, N.y, N.z), N.y))*N.j + (Derivative(f(N.x, N.y, N.z) + g(N.x, N.y, N.z), N.z))*N.k\n",
      "左式减去右式等于：\n",
      "0\n"
     ]
    }
   ],
   "source": [
    "import sympy as sp\n",
    "from sympy.vector import CoordSys3D, Del\n",
    "from sympy import Function\n",
    "\n",
    "# 创建一个三维坐标系\n",
    "N = CoordSys3D('N')\n",
    "\n",
    "# 定义 nabla 算子\n",
    "delop = Del()\n",
    "\n",
    "# 定义标量场 f 和向量场 A\n",
    "x, y, z = N.x, N.y, N.z\n",
    "f = Function('f')(x, y, z)  # 抽象标量场 f\n",
    "g = Function('g')(x, y, z)  # 抽象标量场 f\n",
    "# 使用 nabla 进行符号运算\n",
    "# 梯度运算\n",
    "nabla_fg = delop.gradient(f + g)\n",
    "nabla_f = delop.gradient(f)\n",
    "nabla_g = delop.gradient(g)\n",
    "\n",
    "result = sp.simplify(sp.expand( nabla_fg - nabla_f - nabla_g))\n",
    "\n",
    "print(\"梯度 ∇(f + g):\")\n",
    "print(nabla_fg)\n",
    "print(\"左式减去右式等于：\")\n",
    "print(result)"
   ]
  },
  {
   "cell_type": "code",
   "execution_count": 42,
   "id": "d5c588cd-446d-4981-996c-28f2d6477bfa",
   "metadata": {},
   "outputs": [
    {
     "name": "stdout",
     "output_type": "stream",
     "text": [
      "梯度 ∇(k * f):\n",
      "(Derivative(k*f(N.x, N.y, N.z), N.x))*N.i + (Derivative(k*f(N.x, N.y, N.z), N.y))*N.j + (Derivative(k*f(N.x, N.y, N.z), N.z))*N.k\n",
      "左式减去右式等于：\n",
      "0\n"
     ]
    }
   ],
   "source": [
    "import sympy as sp\n",
    "from sympy.vector import CoordSys3D, Del\n",
    "from sympy import Function\n",
    "\n",
    "# 创建一个三维坐标系\n",
    "N = CoordSys3D('N')\n",
    "\n",
    "# 定义 nabla 算子\n",
    "delop = Del()\n",
    "\n",
    "# 定义标量场 f 和向量场 A\n",
    "x, y, z = N.x, N.y, N.z\n",
    "f = Function('f')(x, y, z)  # 抽象标量场 f\n",
    "k = sp.symbols('k')\n",
    "# 使用 nabla 进行符号运算\n",
    "# 梯度运算\n",
    "nabla_kf = delop.gradient( k * f)\n",
    "nabla_f = delop.gradient(f)\n",
    "\n",
    "result = sp.simplify(sp.expand( nabla_kf - k * nabla_f))\n",
    "\n",
    "print(\"梯度 ∇(k * f):\")\n",
    "print(nabla_kf)\n",
    "print(\"左式减去右式等于：\")\n",
    "print(result)"
   ]
  },
  {
   "cell_type": "markdown",
   "id": "dca1647c-2642-4be6-a821-21d4d61f5750",
   "metadata": {},
   "source": [
    "### 验证散度的加法和数乘法则"
   ]
  },
  {
   "cell_type": "code",
   "execution_count": 48,
   "id": "ab0d0a31-5c5b-4104-8ae2-a589347dad03",
   "metadata": {},
   "outputs": [
    {
     "name": "stdout",
     "output_type": "stream",
     "text": [
      "梯度 ∇·(A + B):\n",
      "Derivative(A1(N.x, N.y, N.z) + B1(N.x, N.y, N.z), N.x) + Derivative(A2(N.x, N.y, N.z) + B2(N.x, N.y, N.z), N.y) + Derivative(A3(N.x, N.y, N.z) + B3(N.x, N.y, N.z), N.z)\n",
      "左式减去右式等于：\n",
      "0\n"
     ]
    }
   ],
   "source": [
    "import sympy as sp\n",
    "from sympy.vector import CoordSys3D, Del\n",
    "from sympy import Function\n",
    "\n",
    "# 创建一个三维坐标系\n",
    "N = CoordSys3D('N')\n",
    "\n",
    "# 定义 nabla 算子\n",
    "delop = Del()\n",
    "\n",
    "# 定义标量场 f 和向量场 A\n",
    "x, y, z = N.x, N.y, N.z\n",
    "A1, A2, A3 = Function('A1')(x, y, z), Function('A2')(x, y, z), Function('A3')(x, y, z)\n",
    "A = A1*N.i + A2*N.j + A3*N.k  # 抽象向量场 A\n",
    "B1, B2, B3 = Function('B1')(x, y, z), Function('B2')(x, y, z), Function('B3')(x, y, z)\n",
    "B = B1*N.i + B2*N.j + B3*N.k  # 抽象向量场 B\n",
    "# 使用 nabla 进行符号运算\n",
    "# 梯度运算\n",
    "nabla_AB = delop & (A + B)\n",
    "nabla_A = delop & A\n",
    "nabla_B = delop & B\n",
    "\n",
    "result = sp.simplify(sp.expand( nabla_AB - nabla_A - nabla_B))\n",
    "\n",
    "print(\"梯度 ∇·(A + B):\")\n",
    "print(nabla_AB)\n",
    "print(\"左式减去右式等于：\")\n",
    "print(result)"
   ]
  },
  {
   "cell_type": "code",
   "execution_count": 49,
   "id": "dd047020-884f-4267-b85e-f800dc535d9c",
   "metadata": {},
   "outputs": [
    {
     "name": "stdout",
     "output_type": "stream",
     "text": [
      "梯度 ∇·(k A):\n",
      "Derivative(k*A1(N.x, N.y, N.z), N.x) + Derivative(k*A2(N.x, N.y, N.z), N.y) + Derivative(k*A3(N.x, N.y, N.z), N.z)\n",
      "左式减去右式等于：\n",
      "0\n"
     ]
    }
   ],
   "source": [
    "import sympy as sp\n",
    "from sympy.vector import CoordSys3D, Del\n",
    "from sympy import Function\n",
    "\n",
    "# 创建一个三维坐标系\n",
    "N = CoordSys3D('N')\n",
    "\n",
    "# 定义 nabla 算子\n",
    "delop = Del()\n",
    "\n",
    "# 定义标量场 f 和向量场 A\n",
    "x, y, z = N.x, N.y, N.z\n",
    "A1, A2, A3 = Function('A1')(x, y, z), Function('A2')(x, y, z), Function('A3')(x, y, z)\n",
    "A = A1*N.i + A2*N.j + A3*N.k  # 抽象向量场 A\n",
    "k = sp.symbols('k')\n",
    "# 使用 nabla 进行符号运算\n",
    "# 梯度运算\n",
    "nabla_kA = delop & (k * A)\n",
    "nabla_A = delop & A\n",
    "\n",
    "result = sp.simplify(sp.expand( nabla_kA - k * nabla_A))\n",
    "\n",
    "print(\"梯度 ∇·(k A):\")\n",
    "print(nabla_kA)\n",
    "print(\"左式减去右式等于：\")\n",
    "print(result)"
   ]
  },
  {
   "cell_type": "markdown",
   "id": "a685344c-6b13-4507-9f00-e56bd89df871",
   "metadata": {},
   "source": [
    "### 验证旋度的加法和数乘法则"
   ]
  },
  {
   "cell_type": "code",
   "execution_count": 51,
   "id": "3044a3ee-b058-4e5f-b9a0-777331cb2a12",
   "metadata": {},
   "outputs": [
    {
     "name": "stdout",
     "output_type": "stream",
     "text": [
      "旋度 ∇×(A + B):\n",
      "(-Derivative(A2(N.x, N.y, N.z) + B2(N.x, N.y, N.z), N.z) + Derivative(A3(N.x, N.y, N.z) + B3(N.x, N.y, N.z), N.y))*N.i + (Derivative(A1(N.x, N.y, N.z) + B1(N.x, N.y, N.z), N.z) - Derivative(A3(N.x, N.y, N.z) + B3(N.x, N.y, N.z), N.x))*N.j + (-Derivative(A1(N.x, N.y, N.z) + B1(N.x, N.y, N.z), N.y) + Derivative(A2(N.x, N.y, N.z) + B2(N.x, N.y, N.z), N.x))*N.k\n",
      "左式减去右式等于：\n",
      "0\n"
     ]
    }
   ],
   "source": [
    "import sympy as sp\n",
    "from sympy.vector import CoordSys3D, Del\n",
    "from sympy import Function\n",
    "\n",
    "# 创建一个三维坐标系\n",
    "N = CoordSys3D('N')\n",
    "\n",
    "# 定义 nabla 算子\n",
    "delop = Del()\n",
    "\n",
    "# 定义标量场 f 和向量场 A\n",
    "x, y, z = N.x, N.y, N.z\n",
    "A1, A2, A3 = Function('A1')(x, y, z), Function('A2')(x, y, z), Function('A3')(x, y, z)\n",
    "A = A1*N.i + A2*N.j + A3*N.k  # 抽象向量场 A\n",
    "B1, B2, B3 = Function('B1')(x, y, z), Function('B2')(x, y, z), Function('B3')(x, y, z)\n",
    "B = B1*N.i + B2*N.j + B3*N.k  # 抽象向量场 B\n",
    "\n",
    "# 使用 nabla 进行符号运算\n",
    "# 梯度运算\n",
    "nabla_AB = delop ^ (A + B)\n",
    "nabla_A = delop ^ A\n",
    "nabla_B = delop ^ B\n",
    "\n",
    "result = sp.simplify(sp.expand( nabla_AB - nabla_A - nabla_B))\n",
    "\n",
    "print(\"旋度 ∇×(A + B):\")\n",
    "print(nabla_AB)\n",
    "print(\"左式减去右式等于：\")\n",
    "print(result)"
   ]
  },
  {
   "cell_type": "code",
   "execution_count": 52,
   "id": "632d8ea7-f043-4d59-bf6b-c1732fca11b9",
   "metadata": {},
   "outputs": [
    {
     "name": "stdout",
     "output_type": "stream",
     "text": [
      "旋度 ∇×(k A):\n",
      "(-Derivative(k*A2(N.x, N.y, N.z), N.z) + Derivative(k*A3(N.x, N.y, N.z), N.y))*N.i + (Derivative(k*A1(N.x, N.y, N.z), N.z) - Derivative(k*A3(N.x, N.y, N.z), N.x))*N.j + (-Derivative(k*A1(N.x, N.y, N.z), N.y) + Derivative(k*A2(N.x, N.y, N.z), N.x))*N.k\n",
      "左式减去右式等于：\n",
      "0\n"
     ]
    }
   ],
   "source": [
    "import sympy as sp\n",
    "from sympy.vector import CoordSys3D, Del\n",
    "from sympy import Function\n",
    "\n",
    "# 创建一个三维坐标系\n",
    "N = CoordSys3D('N')\n",
    "\n",
    "# 定义 nabla 算子\n",
    "delop = Del()\n",
    "\n",
    "# 定义标量场 f 和向量场 A\n",
    "x, y, z = N.x, N.y, N.z\n",
    "A1, A2, A3 = Function('A1')(x, y, z), Function('A2')(x, y, z), Function('A3')(x, y, z)\n",
    "A = A1*N.i + A2*N.j + A3*N.k  # 抽象向量场 A\n",
    "k = sp.symbols('k')\n",
    "# 使用 nabla 进行符号运算\n",
    "# 梯度运算\n",
    "nabla_kA = delop ^ (k * A)\n",
    "nabla_A = delop ^ A\n",
    "\n",
    "result = sp.simplify(sp.expand( nabla_kA - k * nabla_A))\n",
    "\n",
    "print(\"旋度 ∇×(k A):\")\n",
    "print(nabla_kA)\n",
    "print(\"左式减去右式等于：\")\n",
    "print(result)"
   ]
  },
  {
   "cell_type": "code",
   "execution_count": null,
   "id": "730d41b7-f35c-43b0-8d47-8135a7ad6170",
   "metadata": {},
   "outputs": [],
   "source": []
  },
  {
   "cell_type": "markdown",
   "id": "e13cc84b-1c46-4deb-a3db-11fca129e05c",
   "metadata": {},
   "source": [
    "## 最重要的是验证六个积公式"
   ]
  },
  {
   "cell_type": "markdown",
   "id": "77101316-2de2-4a2d-87ec-219a45f7207f",
   "metadata": {},
   "source": [
    "### 梯度积公式"
   ]
  },
  {
   "cell_type": "code",
   "execution_count": 55,
   "id": "9eb4ee10-8091-430a-b716-15a0cd409dfa",
   "metadata": {},
   "outputs": [
    {
     "name": "stdout",
     "output_type": "stream",
     "text": [
      "梯度 ∇(f + g):\n",
      "(Derivative(f(N.x, N.y, N.z)*g(N.x, N.y, N.z), N.x))*N.i + (Derivative(f(N.x, N.y, N.z)*g(N.x, N.y, N.z), N.y))*N.j + (Derivative(f(N.x, N.y, N.z)*g(N.x, N.y, N.z), N.z))*N.k\n",
      "左式减去右式等于：\n",
      "0\n"
     ]
    }
   ],
   "source": [
    "import sympy as sp\n",
    "from sympy.vector import CoordSys3D, Del\n",
    "from sympy import Function\n",
    "\n",
    "# 创建一个三维坐标系\n",
    "N = CoordSys3D('N')\n",
    "\n",
    "# 定义 nabla 算子\n",
    "delop = Del()\n",
    "\n",
    "# 定义标量场 f 和向量场 A\n",
    "x, y, z = N.x, N.y, N.z\n",
    "f = Function('f')(x, y, z)  # 抽象标量场 f\n",
    "g = Function('g')(x, y, z)  # 抽象标量场 f\n",
    "# 使用 nabla 进行符号运算\n",
    "# 梯度运算\n",
    "nabla_fg = delop.gradient(f * g)\n",
    "nabla_f = delop.gradient(f)\n",
    "nabla_g = delop.gradient(g)\n",
    "\n",
    "result = sp.simplify(sp.expand( nabla_fg - f * nabla_g - nabla_f * g))\n",
    "\n",
    "print(\"梯度 ∇(f + g):\")\n",
    "print(nabla_fg)\n",
    "print(\"左式减去右式等于：\")\n",
    "print(result)"
   ]
  },
  {
   "cell_type": "code",
   "execution_count": 109,
   "id": "cefcddfa-f27b-4252-b07b-79489c15e3fc",
   "metadata": {},
   "outputs": [
    {
     "name": "stdout",
     "output_type": "stream",
     "text": [
      "梯度 ∇(A ·B):\n",
      "(Derivative(A1(N.x, N.y, N.z)*B1(N.x, N.y, N.z) + A2(N.x, N.y, N.z)*B2(N.x, N.y, N.z) + A3(N.x, N.y, N.z)*B3(N.x, N.y, N.z), N.x))*N.i + (Derivative(A1(N.x, N.y, N.z)*B1(N.x, N.y, N.z) + A2(N.x, N.y, N.z)*B2(N.x, N.y, N.z) + A3(N.x, N.y, N.z)*B3(N.x, N.y, N.z), N.y))*N.j + (Derivative(A1(N.x, N.y, N.z)*B1(N.x, N.y, N.z) + A2(N.x, N.y, N.z)*B2(N.x, N.y, N.z) + A3(N.x, N.y, N.z)*B3(N.x, N.y, N.z), N.z))*N.k\n",
      "展开得到：\n",
      "(A1(N.x, N.y, N.z)*Derivative(B1(N.x, N.y, N.z), N.x) + A2(N.x, N.y, N.z)*Derivative(B2(N.x, N.y, N.z), N.x) + A3(N.x, N.y, N.z)*Derivative(B3(N.x, N.y, N.z), N.x) + B1(N.x, N.y, N.z)*Derivative(A1(N.x, N.y, N.z), N.x) + B2(N.x, N.y, N.z)*Derivative(A2(N.x, N.y, N.z), N.x) + B3(N.x, N.y, N.z)*Derivative(A3(N.x, N.y, N.z), N.x))*N.i + (A1(N.x, N.y, N.z)*Derivative(B1(N.x, N.y, N.z), N.y) + A2(N.x, N.y, N.z)*Derivative(B2(N.x, N.y, N.z), N.y) + A3(N.x, N.y, N.z)*Derivative(B3(N.x, N.y, N.z), N.y) + B1(N.x, N.y, N.z)*Derivative(A1(N.x, N.y, N.z), N.y) + B2(N.x, N.y, N.z)*Derivative(A2(N.x, N.y, N.z), N.y) + B3(N.x, N.y, N.z)*Derivative(A3(N.x, N.y, N.z), N.y))*N.j + (A1(N.x, N.y, N.z)*Derivative(B1(N.x, N.y, N.z), N.z) + A2(N.x, N.y, N.z)*Derivative(B2(N.x, N.y, N.z), N.z) + A3(N.x, N.y, N.z)*Derivative(B3(N.x, N.y, N.z), N.z) + B1(N.x, N.y, N.z)*Derivative(A1(N.x, N.y, N.z), N.z) + B2(N.x, N.y, N.z)*Derivative(A2(N.x, N.y, N.z), N.z) + B3(N.x, N.y, N.z)*Derivative(A3(N.x, N.y, N.z), N.z))*N.k\n"
     ]
    }
   ],
   "source": [
    "import sympy as sp\n",
    "from sympy.vector import CoordSys3D, Del\n",
    "from sympy import Function\n",
    "\n",
    "# 创建一个三维坐标系\n",
    "N = CoordSys3D('N')\n",
    "\n",
    "# 定义 nabla 算子\n",
    "delop = Del()\n",
    "\n",
    "# 定义标量场 f 和向量场 A\n",
    "x, y, z = N.x, N.y, N.z\n",
    "A1, A2, A3 = Function('A1')(x, y, z), Function('A2')(x, y, z), Function('A3')(x, y, z)\n",
    "A = A1*N.i + A2*N.j + A3*N.k  # 抽象向量场 A\n",
    "B1, B2, B3 = Function('B1')(x, y, z), Function('B2')(x, y, z), Function('B3')(x, y, z)\n",
    "B = B1*N.i + B2*N.j + B3*N.k  # 抽象向量场 B\n",
    "\n",
    "# 使用 nabla 进行符号运算\n",
    "# 梯度运算\n",
    "nabla_AB = delop.gradient(A & B)\n",
    "\n",
    "print(\"梯度 ∇(A ·B):\")\n",
    "print(nabla_AB)\n",
    "print(\"展开得到：\")\n",
    "print(sp.simplify(sp.expand(nabla_AB)))"
   ]
  },
  {
   "cell_type": "markdown",
   "id": "837f0f9b-0046-4b50-8afd-ef2b5181d3ba",
   "metadata": {},
   "source": [
    "我们可以看到两个向量的点积的梯度各分量的形式是非常简单的"
   ]
  },
  {
   "cell_type": "code",
   "execution_count": 120,
   "id": "39f879dc-7557-4c94-8d98-48c58dbce0c5",
   "metadata": {},
   "outputs": [
    {
     "name": "stdout",
     "output_type": "stream",
     "text": [
      "右式固定A的第一项：\n",
      "((-Derivative(B1(N.x, N.y, N.z), N.y) + Derivative(B2(N.x, N.y, N.z), N.x))*A2(N.x, N.y, N.z) + (-Derivative(B1(N.x, N.y, N.z), N.z) + Derivative(B3(N.x, N.y, N.z), N.x))*A3(N.x, N.y, N.z))*N.i + ((Derivative(B1(N.x, N.y, N.z), N.y) - Derivative(B2(N.x, N.y, N.z), N.x))*A1(N.x, N.y, N.z) + (-Derivative(B2(N.x, N.y, N.z), N.z) + Derivative(B3(N.x, N.y, N.z), N.y))*A3(N.x, N.y, N.z))*N.j + ((Derivative(B1(N.x, N.y, N.z), N.z) - Derivative(B3(N.x, N.y, N.z), N.x))*A1(N.x, N.y, N.z) + (Derivative(B2(N.x, N.y, N.z), N.z) - Derivative(B3(N.x, N.y, N.z), N.y))*A2(N.x, N.y, N.z))*N.k\n"
     ]
    }
   ],
   "source": [
    "right_A1 = A ^ ( delop ^ B)\n",
    "print(\"右式固定A的第一项：\")\n",
    "print(right_A1)"
   ]
  },
  {
   "cell_type": "code",
   "execution_count": 119,
   "id": "db0578ec-ba9e-43be-8de9-a0bb586790ba",
   "metadata": {},
   "outputs": [
    {
     "name": "stdout",
     "output_type": "stream",
     "text": [
      "右式固定B的第一项：\n",
      "((-Derivative(A1(N.x, N.y, N.z), N.y) + Derivative(A2(N.x, N.y, N.z), N.x))*B2(N.x, N.y, N.z) + (-Derivative(A1(N.x, N.y, N.z), N.z) + Derivative(A3(N.x, N.y, N.z), N.x))*B3(N.x, N.y, N.z))*N.i + ((Derivative(A1(N.x, N.y, N.z), N.y) - Derivative(A2(N.x, N.y, N.z), N.x))*B1(N.x, N.y, N.z) + (-Derivative(A2(N.x, N.y, N.z), N.z) + Derivative(A3(N.x, N.y, N.z), N.y))*B3(N.x, N.y, N.z))*N.j + ((Derivative(A1(N.x, N.y, N.z), N.z) - Derivative(A3(N.x, N.y, N.z), N.x))*B1(N.x, N.y, N.z) + (Derivative(A2(N.x, N.y, N.z), N.z) - Derivative(A3(N.x, N.y, N.z), N.y))*B2(N.x, N.y, N.z))*N.k\n"
     ]
    }
   ],
   "source": [
    "right_B1 = B ^ ( delop ^ A)\n",
    "print(\"右式固定B的第一项：\")\n",
    "print(right_B1)"
   ]
  },
  {
   "cell_type": "code",
   "execution_count": 121,
   "id": "40dd22d8-40e0-46b2-9dbb-c9a4e861ae80",
   "metadata": {},
   "outputs": [
    {
     "name": "stdout",
     "output_type": "stream",
     "text": [
      "右式固定A的第二项：\n",
      "(A1(N.x, N.y, N.z)*Derivative(B1(N.x, N.y, N.z), N.x) + A2(N.x, N.y, N.z)*Derivative(B1(N.x, N.y, N.z), N.y) + A3(N.x, N.y, N.z)*Derivative(B1(N.x, N.y, N.z), N.z))*N.i + (A1(N.x, N.y, N.z)*Derivative(B2(N.x, N.y, N.z), N.x) + A2(N.x, N.y, N.z)*Derivative(B2(N.x, N.y, N.z), N.y) + A3(N.x, N.y, N.z)*Derivative(B2(N.x, N.y, N.z), N.z))*N.j + (A1(N.x, N.y, N.z)*Derivative(B3(N.x, N.y, N.z), N.x) + A2(N.x, N.y, N.z)*Derivative(B3(N.x, N.y, N.z), N.y) + A3(N.x, N.y, N.z)*Derivative(B3(N.x, N.y, N.z), N.z))*N.k\n"
     ]
    }
   ],
   "source": [
    "right_A2 = (A & (sp.diff(B1, x)*N.i + sp.diff(B1, y)* N.j + sp.diff(B1, z) * N.k)) * N.i + \\\n",
    "(A & (sp.diff(B2, x)*N.i + sp.diff(B2, y)* N.j + sp.diff(B2, z) * N.k)) * N.j + \\\n",
    "(A & (sp.diff(B3, x)*N.i + sp.diff(B3, y)* N.j + sp.diff(B3, z) * N.k)) * N.k\n",
    "print(\"右式固定A的第二项：\")\n",
    "print(right_A2)"
   ]
  },
  {
   "cell_type": "code",
   "execution_count": 122,
   "id": "1b1c5fd8-5e02-41a9-9d2a-670280b252ef",
   "metadata": {},
   "outputs": [
    {
     "name": "stdout",
     "output_type": "stream",
     "text": [
      "右式固定B的第二项：\n",
      "(B1(N.x, N.y, N.z)*Derivative(A1(N.x, N.y, N.z), N.x) + B2(N.x, N.y, N.z)*Derivative(A1(N.x, N.y, N.z), N.y) + B3(N.x, N.y, N.z)*Derivative(A1(N.x, N.y, N.z), N.z))*N.i + (B1(N.x, N.y, N.z)*Derivative(A2(N.x, N.y, N.z), N.x) + B2(N.x, N.y, N.z)*Derivative(A2(N.x, N.y, N.z), N.y) + B3(N.x, N.y, N.z)*Derivative(A2(N.x, N.y, N.z), N.z))*N.j + (B1(N.x, N.y, N.z)*Derivative(A3(N.x, N.y, N.z), N.x) + B2(N.x, N.y, N.z)*Derivative(A3(N.x, N.y, N.z), N.y) + B3(N.x, N.y, N.z)*Derivative(A3(N.x, N.y, N.z), N.z))*N.k\n"
     ]
    }
   ],
   "source": [
    "right_B2 = (B & (sp.diff(A1, x)*N.i + sp.diff(A1, y)* N.j + sp.diff(A1, z) * N.k)) * N.i + \\\n",
    "(B & (sp.diff(A2, x)*N.i + sp.diff(A2, y)* N.j + sp.diff(A2, z) * N.k)) * N.j + \\\n",
    "(B & (sp.diff(A3, x)*N.i + sp.diff(A3, y)* N.j + sp.diff(A3, z) * N.k)) * N.k\n",
    "print(\"右式固定B的第二项：\")\n",
    "print(right_B2)"
   ]
  },
  {
   "cell_type": "code",
   "execution_count": 128,
   "id": "f4fb80c3-96b6-4d64-8830-c7959c44502f",
   "metadata": {},
   "outputs": [
    {
     "name": "stdout",
     "output_type": "stream",
     "text": [
      "检验左式和右式是否相等，左式减去右式等于：\n",
      "0\n"
     ]
    }
   ],
   "source": [
    "print('检验左式和右式是否相等，左式减去右式等于：')\n",
    "print(sp.simplify(sp.expand(nabla_AB - right_A1 - right_A2 - right_B1 - right_B2)))"
   ]
  },
  {
   "cell_type": "markdown",
   "id": "40bd1c41-204d-451e-bf3a-1f5276736f46",
   "metadata": {},
   "source": [
    "### 散度积公式"
   ]
  },
  {
   "cell_type": "code",
   "execution_count": 127,
   "id": "85caf1a9-1bce-4725-9a5a-5cd08e1c8312",
   "metadata": {},
   "outputs": [
    {
     "name": "stdout",
     "output_type": "stream",
     "text": [
      "梯度 ∇(f + g):\n",
      "Derivative(A1(N.x, N.y, N.z)*f(N.x, N.y, N.z), N.x) + Derivative(A2(N.x, N.y, N.z)*f(N.x, N.y, N.z), N.y) + Derivative(A3(N.x, N.y, N.z)*f(N.x, N.y, N.z), N.z)\n",
      "展开得到：\n",
      "A1(N.x, N.y, N.z)*Derivative(f(N.x, N.y, N.z), N.x) + A2(N.x, N.y, N.z)*Derivative(f(N.x, N.y, N.z), N.y) + A3(N.x, N.y, N.z)*Derivative(f(N.x, N.y, N.z), N.z) + f(N.x, N.y, N.z)*Derivative(A1(N.x, N.y, N.z), N.x) + f(N.x, N.y, N.z)*Derivative(A2(N.x, N.y, N.z), N.y) + f(N.x, N.y, N.z)*Derivative(A3(N.x, N.y, N.z), N.z)\n"
     ]
    }
   ],
   "source": [
    "import sympy as sp\n",
    "from sympy.vector import CoordSys3D, Del\n",
    "from sympy import Function\n",
    "\n",
    "# 创建一个三维坐标系\n",
    "N = CoordSys3D('N')\n",
    "\n",
    "# 定义 nabla 算子\n",
    "delop = Del()\n",
    "\n",
    "# 定义标量场 f 和向量场 A\n",
    "x, y, z = N.x, N.y, N.z\n",
    "f = Function('f')(x, y, z)  # 抽象标量场 f\n",
    "\n",
    "A1, A2, A3 = Function('A1')(x, y, z), Function('A2')(x, y, z), Function('A3')(x, y, z)\n",
    "A = A1*N.i + A2*N.j + A3*N.k  # 抽象向量场 A\n",
    "\n",
    "# 使用 nabla 进行符号运算\n",
    "# 梯度运算\n",
    "\n",
    "nabla_fA = delop & (f * A)\n",
    "\n",
    "print(\"梯度 ∇(f + g):\")\n",
    "print(nabla_fA)\n",
    "print(\"展开得到：\")\n",
    "print(sp.simplify(sp.expand( nabla_fA)))"
   ]
  },
  {
   "cell_type": "code",
   "execution_count": 130,
   "id": "dcfaefd9-922c-487c-b5c4-c06af7f6709d",
   "metadata": {},
   "outputs": [
    {
     "name": "stdout",
     "output_type": "stream",
     "text": [
      "检验左式和右式是否相等，左式减去右式等于：\n"
     ]
    },
    {
     "data": {
      "text/latex": [
       "$\\displaystyle 0$"
      ],
      "text/plain": [
       "0"
      ]
     },
     "execution_count": 130,
     "metadata": {},
     "output_type": "execute_result"
    }
   ],
   "source": [
    "nabla_f = delop.gradient(f)\n",
    "nabla_A = delop & A\n",
    "print('检验左式和右式是否相等，左式减去右式等于：')\n",
    "sp.simplify(sp.expand(nabla_fA - (nabla_f & A) - f * nabla_A))"
   ]
  },
  {
   "cell_type": "code",
   "execution_count": 131,
   "id": "597a29eb-ab96-410b-903e-80c32cdd6c8c",
   "metadata": {},
   "outputs": [
    {
     "name": "stdout",
     "output_type": "stream",
     "text": [
      "梯度 ∇(A ·B):\n",
      "Derivative(A1(N.x, N.y, N.z)*B2(N.x, N.y, N.z) - A2(N.x, N.y, N.z)*B1(N.x, N.y, N.z), N.z) + Derivative(-A1(N.x, N.y, N.z)*B3(N.x, N.y, N.z) + A3(N.x, N.y, N.z)*B1(N.x, N.y, N.z), N.y) + Derivative(A2(N.x, N.y, N.z)*B3(N.x, N.y, N.z) - A3(N.x, N.y, N.z)*B2(N.x, N.y, N.z), N.x)\n",
      "展开得到：\n",
      "A1(N.x, N.y, N.z)*Derivative(B2(N.x, N.y, N.z), N.z) - A1(N.x, N.y, N.z)*Derivative(B3(N.x, N.y, N.z), N.y) - A2(N.x, N.y, N.z)*Derivative(B1(N.x, N.y, N.z), N.z) + A2(N.x, N.y, N.z)*Derivative(B3(N.x, N.y, N.z), N.x) + A3(N.x, N.y, N.z)*Derivative(B1(N.x, N.y, N.z), N.y) - A3(N.x, N.y, N.z)*Derivative(B2(N.x, N.y, N.z), N.x) - B1(N.x, N.y, N.z)*Derivative(A2(N.x, N.y, N.z), N.z) + B1(N.x, N.y, N.z)*Derivative(A3(N.x, N.y, N.z), N.y) + B2(N.x, N.y, N.z)*Derivative(A1(N.x, N.y, N.z), N.z) - B2(N.x, N.y, N.z)*Derivative(A3(N.x, N.y, N.z), N.x) - B3(N.x, N.y, N.z)*Derivative(A1(N.x, N.y, N.z), N.y) + B3(N.x, N.y, N.z)*Derivative(A2(N.x, N.y, N.z), N.x)\n"
     ]
    }
   ],
   "source": [
    "import sympy as sp\n",
    "from sympy.vector import CoordSys3D, Del\n",
    "from sympy import Function\n",
    "\n",
    "# 创建一个三维坐标系\n",
    "N = CoordSys3D('N')\n",
    "\n",
    "# 定义 nabla 算子\n",
    "delop = Del()\n",
    "\n",
    "# 定义标量场 f 和向量场 A\n",
    "x, y, z = N.x, N.y, N.z\n",
    "A1, A2, A3 = Function('A1')(x, y, z), Function('A2')(x, y, z), Function('A3')(x, y, z)\n",
    "A = A1*N.i + A2*N.j + A3*N.k  # 抽象向量场 A\n",
    "B1, B2, B3 = Function('B1')(x, y, z), Function('B2')(x, y, z), Function('B3')(x, y, z)\n",
    "B = B1*N.i + B2*N.j + B3*N.k  # 抽象向量场 B\n",
    "\n",
    "# 使用 nabla 进行符号运算\n",
    "# 梯度运算\n",
    "nabla_AB = delop & (A ^ B)\n",
    "\n",
    "print(\"梯度 ∇(A ·B):\")\n",
    "print(nabla_AB)\n",
    "print(\"展开得到：\")\n",
    "print(sp.simplify(sp.expand(nabla_AB)))"
   ]
  },
  {
   "cell_type": "code",
   "execution_count": 135,
   "id": "d7090ecf-f0d8-4191-8b15-0287a0c04a93",
   "metadata": {},
   "outputs": [
    {
     "name": "stdout",
     "output_type": "stream",
     "text": [
      "检验左式和右式是否相等，左式减去右式等于：\n"
     ]
    },
    {
     "data": {
      "text/latex": [
       "$\\displaystyle 0$"
      ],
      "text/plain": [
       "0"
      ]
     },
     "execution_count": 135,
     "metadata": {},
     "output_type": "execute_result"
    }
   ],
   "source": [
    "nabla_A = delop ^ A\n",
    "nabla_B = delop ^ B\n",
    "print('检验左式和右式是否相等，左式减去右式等于：')\n",
    "sp.simplify(sp.expand(nabla_AB - (nabla_A & B) + (A & nabla_B)))"
   ]
  },
  {
   "cell_type": "code",
   "execution_count": null,
   "id": "3f68f501-e09f-414a-baae-af896482fdf6",
   "metadata": {},
   "outputs": [],
   "source": []
  },
  {
   "cell_type": "markdown",
   "id": "adbf6c1b-4697-4089-948f-86a18b85cc9e",
   "metadata": {},
   "source": [
    "### 验证旋度的积法则"
   ]
  },
  {
   "cell_type": "code",
   "execution_count": 137,
   "id": "e328b283-4be0-43a9-8b1a-161422f10ca6",
   "metadata": {},
   "outputs": [
    {
     "name": "stdout",
     "output_type": "stream",
     "text": [
      "梯度 ∇(f + g):\n",
      "(-Derivative(A2(N.x, N.y, N.z)*f(N.x, N.y, N.z), N.z) + Derivative(A3(N.x, N.y, N.z)*f(N.x, N.y, N.z), N.y))*N.i + (Derivative(A1(N.x, N.y, N.z)*f(N.x, N.y, N.z), N.z) - Derivative(A3(N.x, N.y, N.z)*f(N.x, N.y, N.z), N.x))*N.j + (-Derivative(A1(N.x, N.y, N.z)*f(N.x, N.y, N.z), N.y) + Derivative(A2(N.x, N.y, N.z)*f(N.x, N.y, N.z), N.x))*N.k\n",
      "展开得到：\n",
      "(-A2(N.x, N.y, N.z)*Derivative(f(N.x, N.y, N.z), N.z) + A3(N.x, N.y, N.z)*Derivative(f(N.x, N.y, N.z), N.y) - f(N.x, N.y, N.z)*Derivative(A2(N.x, N.y, N.z), N.z) + f(N.x, N.y, N.z)*Derivative(A3(N.x, N.y, N.z), N.y))*N.i + (A1(N.x, N.y, N.z)*Derivative(f(N.x, N.y, N.z), N.z) - A3(N.x, N.y, N.z)*Derivative(f(N.x, N.y, N.z), N.x) + f(N.x, N.y, N.z)*Derivative(A1(N.x, N.y, N.z), N.z) - f(N.x, N.y, N.z)*Derivative(A3(N.x, N.y, N.z), N.x))*N.j + (-A1(N.x, N.y, N.z)*Derivative(f(N.x, N.y, N.z), N.y) + A2(N.x, N.y, N.z)*Derivative(f(N.x, N.y, N.z), N.x) - f(N.x, N.y, N.z)*Derivative(A1(N.x, N.y, N.z), N.y) + f(N.x, N.y, N.z)*Derivative(A2(N.x, N.y, N.z), N.x))*N.k\n"
     ]
    }
   ],
   "source": [
    "import sympy as sp\n",
    "from sympy.vector import CoordSys3D, Del\n",
    "from sympy import Function\n",
    "\n",
    "# 创建一个三维坐标系\n",
    "N = CoordSys3D('N')\n",
    "\n",
    "# 定义 nabla 算子\n",
    "delop = Del()\n",
    "\n",
    "# 定义标量场 f 和向量场 A\n",
    "x, y, z = N.x, N.y, N.z\n",
    "f = Function('f')(x, y, z)  # 抽象标量场 f\n",
    "\n",
    "A1, A2, A3 = Function('A1')(x, y, z), Function('A2')(x, y, z), Function('A3')(x, y, z)\n",
    "A = A1*N.i + A2*N.j + A3*N.k  # 抽象向量场 A\n",
    "\n",
    "# 使用 nabla 进行符号运算\n",
    "# 梯度运算\n",
    "\n",
    "nabla_fA = delop ^ (f * A)\n",
    "\n",
    "print(\"梯度 ∇(f + g):\")\n",
    "print(nabla_fA)\n",
    "print(\"展开得到：\")\n",
    "print(sp.simplify(sp.expand( nabla_fA)))"
   ]
  },
  {
   "cell_type": "code",
   "execution_count": 138,
   "id": "1cba67f5-b0bd-48a8-aa69-9b1db254dab1",
   "metadata": {},
   "outputs": [
    {
     "name": "stdout",
     "output_type": "stream",
     "text": [
      "检验左式和右式是否相等，左式减去右式等于：\n"
     ]
    },
    {
     "data": {
      "text/latex": [
       "$\\displaystyle \\mathbf{\\hat{0}}$"
      ],
      "text/plain": [
       "0"
      ]
     },
     "execution_count": 138,
     "metadata": {},
     "output_type": "execute_result"
    }
   ],
   "source": [
    "nabla_f = delop.gradient(f)\n",
    "nabla_A = delop ^ A\n",
    "print('检验左式和右式是否相等，左式减去右式等于：')\n",
    "sp.simplify(sp.expand(nabla_fA - (nabla_f ^ A) - f * nabla_A))"
   ]
  },
  {
   "cell_type": "code",
   "execution_count": 146,
   "id": "305c0220-9275-40b0-9773-a1d32b72b320",
   "metadata": {},
   "outputs": [
    {
     "name": "stdout",
     "output_type": "stream",
     "text": [
      "梯度 ∇(A ·B):\n",
      "(Derivative(A1(N.x, N.y, N.z)*B2(N.x, N.y, N.z) - A2(N.x, N.y, N.z)*B1(N.x, N.y, N.z), N.y) - Derivative(-A1(N.x, N.y, N.z)*B3(N.x, N.y, N.z) + A3(N.x, N.y, N.z)*B1(N.x, N.y, N.z), N.z))*N.i + (-Derivative(A1(N.x, N.y, N.z)*B2(N.x, N.y, N.z) - A2(N.x, N.y, N.z)*B1(N.x, N.y, N.z), N.x) + Derivative(A2(N.x, N.y, N.z)*B3(N.x, N.y, N.z) - A3(N.x, N.y, N.z)*B2(N.x, N.y, N.z), N.z))*N.j + (Derivative(-A1(N.x, N.y, N.z)*B3(N.x, N.y, N.z) + A3(N.x, N.y, N.z)*B1(N.x, N.y, N.z), N.x) - Derivative(A2(N.x, N.y, N.z)*B3(N.x, N.y, N.z) - A3(N.x, N.y, N.z)*B2(N.x, N.y, N.z), N.y))*N.k\n",
      "展开得到：\n",
      "(A1(N.x, N.y, N.z)*Derivative(B2(N.x, N.y, N.z), N.y) + A1(N.x, N.y, N.z)*Derivative(B3(N.x, N.y, N.z), N.z) - A2(N.x, N.y, N.z)*Derivative(B1(N.x, N.y, N.z), N.y) - A3(N.x, N.y, N.z)*Derivative(B1(N.x, N.y, N.z), N.z) - B1(N.x, N.y, N.z)*Derivative(A2(N.x, N.y, N.z), N.y) - B1(N.x, N.y, N.z)*Derivative(A3(N.x, N.y, N.z), N.z) + B2(N.x, N.y, N.z)*Derivative(A1(N.x, N.y, N.z), N.y) + B3(N.x, N.y, N.z)*Derivative(A1(N.x, N.y, N.z), N.z))*N.i + (-A1(N.x, N.y, N.z)*Derivative(B2(N.x, N.y, N.z), N.x) + A2(N.x, N.y, N.z)*Derivative(B1(N.x, N.y, N.z), N.x) + A2(N.x, N.y, N.z)*Derivative(B3(N.x, N.y, N.z), N.z) - A3(N.x, N.y, N.z)*Derivative(B2(N.x, N.y, N.z), N.z) + B1(N.x, N.y, N.z)*Derivative(A2(N.x, N.y, N.z), N.x) - B2(N.x, N.y, N.z)*Derivative(A1(N.x, N.y, N.z), N.x) - B2(N.x, N.y, N.z)*Derivative(A3(N.x, N.y, N.z), N.z) + B3(N.x, N.y, N.z)*Derivative(A2(N.x, N.y, N.z), N.z))*N.j + (-A1(N.x, N.y, N.z)*Derivative(B3(N.x, N.y, N.z), N.x) - A2(N.x, N.y, N.z)*Derivative(B3(N.x, N.y, N.z), N.y) + A3(N.x, N.y, N.z)*Derivative(B1(N.x, N.y, N.z), N.x) + A3(N.x, N.y, N.z)*Derivative(B2(N.x, N.y, N.z), N.y) + B1(N.x, N.y, N.z)*Derivative(A3(N.x, N.y, N.z), N.x) + B2(N.x, N.y, N.z)*Derivative(A3(N.x, N.y, N.z), N.y) - B3(N.x, N.y, N.z)*Derivative(A1(N.x, N.y, N.z), N.x) - B3(N.x, N.y, N.z)*Derivative(A2(N.x, N.y, N.z), N.y))*N.k\n"
     ]
    }
   ],
   "source": [
    "import sympy as sp\n",
    "from sympy.vector import CoordSys3D, Del\n",
    "from sympy import Function\n",
    "\n",
    "# 创建一个三维坐标系\n",
    "N = CoordSys3D('N')\n",
    "\n",
    "# 定义 nabla 算子\n",
    "delop = Del()\n",
    "\n",
    "# 定义标量场 f 和向量场 A\n",
    "x, y, z = N.x, N.y, N.z\n",
    "A1, A2, A3 = Function('A1')(x, y, z), Function('A2')(x, y, z), Function('A3')(x, y, z)\n",
    "A = A1*N.i + A2*N.j + A3*N.k  # 抽象向量场 A\n",
    "B1, B2, B3 = Function('B1')(x, y, z), Function('B2')(x, y, z), Function('B3')(x, y, z)\n",
    "B = B1*N.i + B2*N.j + B3*N.k  # 抽象向量场 B\n",
    "\n",
    "# 使用 nabla 进行符号运算\n",
    "# 梯度运算\n",
    "nabla_AB = delop ^ (A ^ B)\n",
    "\n",
    "print(\"梯度 ∇(A ·B):\")\n",
    "print(nabla_AB)\n",
    "print(\"展开得到：\")\n",
    "print(sp.simplify(sp.expand(nabla_AB)))"
   ]
  },
  {
   "cell_type": "code",
   "execution_count": 149,
   "id": "ce9eb434-5dc5-40a5-a328-c87a213857f8",
   "metadata": {},
   "outputs": [
    {
     "name": "stdout",
     "output_type": "stream",
     "text": [
      "右式固定A的第一项：\n",
      "((Derivative(B1(N.x, N.y, N.z), N.x) + Derivative(B2(N.x, N.y, N.z), N.y) + Derivative(B3(N.x, N.y, N.z), N.z))*A1(N.x, N.y, N.z))*N.i + ((Derivative(B1(N.x, N.y, N.z), N.x) + Derivative(B2(N.x, N.y, N.z), N.y) + Derivative(B3(N.x, N.y, N.z), N.z))*A2(N.x, N.y, N.z))*N.j + ((Derivative(B1(N.x, N.y, N.z), N.x) + Derivative(B2(N.x, N.y, N.z), N.y) + Derivative(B3(N.x, N.y, N.z), N.z))*A3(N.x, N.y, N.z))*N.k\n"
     ]
    }
   ],
   "source": [
    "right_A1 = A * (delop & B)\n",
    "print(\"右式固定A的第一项：\")\n",
    "print(right_A1)"
   ]
  },
  {
   "cell_type": "code",
   "execution_count": 150,
   "id": "7cd77736-34e9-46c0-9366-99b4eab2a426",
   "metadata": {},
   "outputs": [
    {
     "name": "stdout",
     "output_type": "stream",
     "text": [
      "右式固定A的第二项：\n",
      "(A1(N.x, N.y, N.z)*Derivative(B1(N.x, N.y, N.z), N.x) + A2(N.x, N.y, N.z)*Derivative(B1(N.x, N.y, N.z), N.y) + A3(N.x, N.y, N.z)*Derivative(B1(N.x, N.y, N.z), N.z))*N.i + (A1(N.x, N.y, N.z)*Derivative(B2(N.x, N.y, N.z), N.x) + A2(N.x, N.y, N.z)*Derivative(B2(N.x, N.y, N.z), N.y) + A3(N.x, N.y, N.z)*Derivative(B2(N.x, N.y, N.z), N.z))*N.j + (A1(N.x, N.y, N.z)*Derivative(B3(N.x, N.y, N.z), N.x) + A2(N.x, N.y, N.z)*Derivative(B3(N.x, N.y, N.z), N.y) + A3(N.x, N.y, N.z)*Derivative(B3(N.x, N.y, N.z), N.z))*N.k\n"
     ]
    }
   ],
   "source": [
    "right_A2 = (A & (sp.diff(B1, x)*N.i + sp.diff(B1, y)* N.j + sp.diff(B1, z) * N.k)) * N.i + \\\n",
    "(A & (sp.diff(B2, x)*N.i + sp.diff(B2, y)* N.j + sp.diff(B2, z) * N.k)) * N.j + \\\n",
    "(A & (sp.diff(B3, x)*N.i + sp.diff(B3, y)* N.j + sp.diff(B3, z) * N.k)) * N.k\n",
    "print(\"右式固定A的第二项：\")\n",
    "print(right_A2)"
   ]
  },
  {
   "cell_type": "code",
   "execution_count": 151,
   "id": "d825f820-2919-4d62-ade4-35a957fcfd82",
   "metadata": {},
   "outputs": [
    {
     "name": "stdout",
     "output_type": "stream",
     "text": [
      "右式固定B的第一项：\n",
      "((Derivative(A1(N.x, N.y, N.z), N.x) + Derivative(A2(N.x, N.y, N.z), N.y) + Derivative(A3(N.x, N.y, N.z), N.z))*B1(N.x, N.y, N.z))*N.i + ((Derivative(A1(N.x, N.y, N.z), N.x) + Derivative(A2(N.x, N.y, N.z), N.y) + Derivative(A3(N.x, N.y, N.z), N.z))*B2(N.x, N.y, N.z))*N.j + ((Derivative(A1(N.x, N.y, N.z), N.x) + Derivative(A2(N.x, N.y, N.z), N.y) + Derivative(A3(N.x, N.y, N.z), N.z))*B3(N.x, N.y, N.z))*N.k\n"
     ]
    }
   ],
   "source": [
    "right_B1 = B * (delop & A)\n",
    "print(\"右式固定B的第一项：\")\n",
    "print(right_B1)"
   ]
  },
  {
   "cell_type": "code",
   "execution_count": 152,
   "id": "cec1eb56-4034-4eec-a019-16071ab178d5",
   "metadata": {},
   "outputs": [
    {
     "name": "stdout",
     "output_type": "stream",
     "text": [
      "右式固定B的第二项：\n",
      "(B1(N.x, N.y, N.z)*Derivative(A1(N.x, N.y, N.z), N.x) + B2(N.x, N.y, N.z)*Derivative(A1(N.x, N.y, N.z), N.y) + B3(N.x, N.y, N.z)*Derivative(A1(N.x, N.y, N.z), N.z))*N.i + (B1(N.x, N.y, N.z)*Derivative(A2(N.x, N.y, N.z), N.x) + B2(N.x, N.y, N.z)*Derivative(A2(N.x, N.y, N.z), N.y) + B3(N.x, N.y, N.z)*Derivative(A2(N.x, N.y, N.z), N.z))*N.j + (B1(N.x, N.y, N.z)*Derivative(A3(N.x, N.y, N.z), N.x) + B2(N.x, N.y, N.z)*Derivative(A3(N.x, N.y, N.z), N.y) + B3(N.x, N.y, N.z)*Derivative(A3(N.x, N.y, N.z), N.z))*N.k\n"
     ]
    }
   ],
   "source": [
    "right_B2 = (B & (sp.diff(A1, x)*N.i + sp.diff(A1, y)* N.j + sp.diff(A1, z) * N.k)) * N.i + \\\n",
    "(B & (sp.diff(A2, x)*N.i + sp.diff(A2, y)* N.j + sp.diff(A2, z) * N.k)) * N.j + \\\n",
    "(B & (sp.diff(A3, x)*N.i + sp.diff(A3, y)* N.j + sp.diff(A3, z) * N.k)) * N.k\n",
    "print(\"右式固定B的第二项：\")\n",
    "print(right_B2)"
   ]
  },
  {
   "cell_type": "code",
   "execution_count": 155,
   "id": "88c802ff-0363-47f3-a053-c37b1f1fbb07",
   "metadata": {},
   "outputs": [
    {
     "name": "stdout",
     "output_type": "stream",
     "text": [
      "检验左式和右式是否相等，左式减去右式等于：\n",
      "0\n"
     ]
    }
   ],
   "source": [
    "print('检验左式和右式是否相等，左式减去右式等于：')\n",
    "print(sp.simplify(sp.expand(nabla_AB - right_A1 + right_A2 + right_B1 - right_B2)))"
   ]
  },
  {
   "cell_type": "code",
   "execution_count": null,
   "id": "7ac65a34-1f6b-4172-b1d7-229c0b84568e",
   "metadata": {},
   "outputs": [],
   "source": []
  },
  {
   "cell_type": "code",
   "execution_count": null,
   "id": "b12b00d4-9f94-4b13-9a20-775a474af5e6",
   "metadata": {},
   "outputs": [],
   "source": []
  },
  {
   "cell_type": "markdown",
   "id": "444b68db-7103-4744-9a42-8be77b5dcf62",
   "metadata": {},
   "source": [
    "## 习题1.21\n",
    "计算 $(\\hat{\\boldsymbol r} \\cdot \\nabla ){\\hat{\\boldsymbol r}}$, 其中 $\\hat{\\boldsymbol r}$ 是由式(1.21)定义的径向单位矢量。\n",
    "\n"
   ]
  },
  {
   "cell_type": "code",
   "execution_count": 13,
   "id": "7e1f71c2-a937-4b24-9e20-fd1c589aab50",
   "metadata": {},
   "outputs": [],
   "source": [
    "import sympy as sp\n",
    "from sympy.vector import CoordSys3D, Del\n",
    "\n",
    "# 创建一个三维坐标系\n",
    "N = CoordSys3D('N')\n",
    "x, y, z = N.x, N.y, N.z\n",
    "# 定义 nabla 算子\n",
    "delop = Del()\n",
    "\n",
    "# 定义矢量场 r\n",
    "r_hat = (N.x * N.i + N.y * N.j + N.z * N.k)/sp.sqrt(N.x ** 2 + N.y ** 2 + N.z **2)"
   ]
  },
  {
   "cell_type": "code",
   "execution_count": 16,
   "id": "516644d6-60e1-468e-9b31-69937edd0cf9",
   "metadata": {},
   "outputs": [
    {
     "name": "stdout",
     "output_type": "stream",
     "text": [
      "右式固定A的第二项：\n",
      "0\n"
     ]
    }
   ],
   "source": [
    "r_nabla_r = (r_hat & (sp.diff(r_hat & N.i, x)*N.i + sp.diff(r_hat & N.i, y)* N.j + sp.diff(r_hat & N.i, z) * N.k)) * N.i + \\\n",
    "(r_hat & (sp.diff(r_hat & N.j, x)*N.i + sp.diff(r_hat & N.j, y)* N.j + sp.diff(r_hat & N.j, z) * N.k)) * N.j + \\\n",
    "(r_hat & (sp.diff(r_hat & N.k, x)*N.i + sp.diff(r_hat & N.k, y)* N.j + sp.diff(r_hat & N.k, z) * N.k)) * N.k\n",
    "print(\"右式固定A的第二项：\")\n",
    "print(sp.simplify(sp.expand(r_nabla_r)))"
   ]
  },
  {
   "cell_type": "code",
   "execution_count": 17,
   "id": "3f170c93-f5d0-4f2d-b784-f02fb28f00b0",
   "metadata": {},
   "outputs": [
    {
     "data": {
      "text/latex": [
       "$\\displaystyle \\left(- \\frac{\\mathbf{{x}_{N}} \\mathbf{{y}_{N}}^{2}}{\\left(\\mathbf{{x}_{N}}^{2} + \\mathbf{{y}_{N}}^{2} + \\mathbf{{z}_{N}}^{2}\\right)^{2}} - \\frac{\\mathbf{{x}_{N}} \\mathbf{{z}_{N}}^{2}}{\\left(\\mathbf{{x}_{N}}^{2} + \\mathbf{{y}_{N}}^{2} + \\mathbf{{z}_{N}}^{2}\\right)^{2}} + \\frac{\\mathbf{{x}_{N}} \\left(- \\frac{\\mathbf{{x}_{N}}^{2}}{\\left(\\mathbf{{x}_{N}}^{2} + \\mathbf{{y}_{N}}^{2} + \\mathbf{{z}_{N}}^{2}\\right)^{\\frac{3}{2}}} + \\frac{1}{\\sqrt{\\mathbf{{x}_{N}}^{2} + \\mathbf{{y}_{N}}^{2} + \\mathbf{{z}_{N}}^{2}}}\\right)}{\\sqrt{\\mathbf{{x}_{N}}^{2} + \\mathbf{{y}_{N}}^{2} + \\mathbf{{z}_{N}}^{2}}}\\right)\\mathbf{\\hat{i}_{N}} + \\left(- \\frac{\\mathbf{{x}_{N}}^{2} \\mathbf{{y}_{N}}}{\\left(\\mathbf{{x}_{N}}^{2} + \\mathbf{{y}_{N}}^{2} + \\mathbf{{z}_{N}}^{2}\\right)^{2}} - \\frac{\\mathbf{{y}_{N}} \\mathbf{{z}_{N}}^{2}}{\\left(\\mathbf{{x}_{N}}^{2} + \\mathbf{{y}_{N}}^{2} + \\mathbf{{z}_{N}}^{2}\\right)^{2}} + \\frac{\\mathbf{{y}_{N}} \\left(- \\frac{\\mathbf{{y}_{N}}^{2}}{\\left(\\mathbf{{x}_{N}}^{2} + \\mathbf{{y}_{N}}^{2} + \\mathbf{{z}_{N}}^{2}\\right)^{\\frac{3}{2}}} + \\frac{1}{\\sqrt{\\mathbf{{x}_{N}}^{2} + \\mathbf{{y}_{N}}^{2} + \\mathbf{{z}_{N}}^{2}}}\\right)}{\\sqrt{\\mathbf{{x}_{N}}^{2} + \\mathbf{{y}_{N}}^{2} + \\mathbf{{z}_{N}}^{2}}}\\right)\\mathbf{\\hat{j}_{N}} + \\left(- \\frac{\\mathbf{{x}_{N}}^{2} \\mathbf{{z}_{N}}}{\\left(\\mathbf{{x}_{N}}^{2} + \\mathbf{{y}_{N}}^{2} + \\mathbf{{z}_{N}}^{2}\\right)^{2}} - \\frac{\\mathbf{{y}_{N}}^{2} \\mathbf{{z}_{N}}}{\\left(\\mathbf{{x}_{N}}^{2} + \\mathbf{{y}_{N}}^{2} + \\mathbf{{z}_{N}}^{2}\\right)^{2}} + \\frac{\\mathbf{{z}_{N}} \\left(- \\frac{\\mathbf{{z}_{N}}^{2}}{\\left(\\mathbf{{x}_{N}}^{2} + \\mathbf{{y}_{N}}^{2} + \\mathbf{{z}_{N}}^{2}\\right)^{\\frac{3}{2}}} + \\frac{1}{\\sqrt{\\mathbf{{x}_{N}}^{2} + \\mathbf{{y}_{N}}^{2} + \\mathbf{{z}_{N}}^{2}}}\\right)}{\\sqrt{\\mathbf{{x}_{N}}^{2} + \\mathbf{{y}_{N}}^{2} + \\mathbf{{z}_{N}}^{2}}}\\right)\\mathbf{\\hat{k}_{N}}$"
      ],
      "text/plain": [
       "(-N.x*N.y**2/(N.x**2 + N.y**2 + N.z**2)**2 - N.x*N.z**2/(N.x**2 + N.y**2 + N.z**2)**2 + N.x*(-N.x**2/(N.x**2 + N.y**2 + N.z**2)**(3/2) + 1/sqrt(N.x**2 + N.y**2 + N.z**2))/sqrt(N.x**2 + N.y**2 + N.z**2))*N.i + (-N.x**2*N.y/(N.x**2 + N.y**2 + N.z**2)**2 - N.y*N.z**2/(N.x**2 + N.y**2 + N.z**2)**2 + N.y*(-N.y**2/(N.x**2 + N.y**2 + N.z**2)**(3/2) + 1/sqrt(N.x**2 + N.y**2 + N.z**2))/sqrt(N.x**2 + N.y**2 + N.z**2))*N.j + (-N.x**2*N.z/(N.x**2 + N.y**2 + N.z**2)**2 - N.y**2*N.z/(N.x**2 + N.y**2 + N.z**2)**2 + N.z*(-N.z**2/(N.x**2 + N.y**2 + N.z**2)**(3/2) + 1/sqrt(N.x**2 + N.y**2 + N.z**2))/sqrt(N.x**2 + N.y**2 + N.z**2))*N.k"
      ]
     },
     "execution_count": 17,
     "metadata": {},
     "output_type": "execute_result"
    }
   ],
   "source": []
  }
 ],
 "metadata": {
  "kernelspec": {
   "display_name": "Python 3 (ipykernel)",
   "language": "python",
   "name": "python3"
  },
  "language_info": {
   "codemirror_mode": {
    "name": "ipython",
    "version": 3
   },
   "file_extension": ".py",
   "mimetype": "text/x-python",
   "name": "python",
   "nbconvert_exporter": "python",
   "pygments_lexer": "ipython3",
   "version": "3.8.19"
  }
 },
 "nbformat": 4,
 "nbformat_minor": 5
}
