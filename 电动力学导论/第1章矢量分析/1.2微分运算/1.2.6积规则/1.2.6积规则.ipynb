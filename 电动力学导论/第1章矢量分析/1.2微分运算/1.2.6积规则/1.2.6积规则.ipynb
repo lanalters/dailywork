{
 "cells": [
  {
   "cell_type": "markdown",
   "id": "fbbaf2ec-c1a4-498d-8e7e-1631e0c6a95a",
   "metadata": {},
   "source": [
    "# 1.2.6 积规则\n"
   ]
  },
  {
   "cell_type": "markdown",
   "id": "4c769bb2-211a-431b-8e0a-6e480b7f1a44",
   "metadata": {},
   "source": [
    "现在我们要用 python 验证各种积规则"
   ]
  },
  {
   "cell_type": "markdown",
   "id": "5fa6fda0-09e4-4af7-a3a8-3045955e7576",
   "metadata": {},
   "source": [
    "## 抽象函数的导数"
   ]
  },
  {
   "cell_type": "code",
   "execution_count": 2,
   "id": "7fdfdfe4-0601-4bba-af2f-ec98d09f315f",
   "metadata": {},
   "outputs": [
    {
     "name": "stdout",
     "output_type": "stream",
     "text": [
      "抽象标量场 f =\n"
     ]
    },
    {
     "data": {
      "text/latex": [
       "$\\displaystyle f{\\left(\\mathbf{{x}_{N}},\\mathbf{{y}_{N}},\\mathbf{{z}_{N}} \\right)}$"
      ],
      "text/plain": [
       "f(N.x, N.y, N.z)"
      ]
     },
     "metadata": {},
     "output_type": "display_data"
    },
    {
     "name": "stdout",
     "output_type": "stream",
     "text": [
      "f'(x) =\n"
     ]
    },
    {
     "data": {
      "text/latex": [
       "$\\displaystyle \\frac{\\partial}{\\partial \\mathbf{{x}_{N}}} f{\\left(\\mathbf{{x}_{N}},\\mathbf{{y}_{N}},\\mathbf{{z}_{N}} \\right)}$"
      ],
      "text/plain": [
       "Derivative(f(N.x, N.y, N.z), N.x)"
      ]
     },
     "metadata": {},
     "output_type": "display_data"
    }
   ],
   "source": [
    "import sympy as sp\n",
    "from sympy import Function\n",
    "from sympy.vector import CoordSys3D\n",
    "from IPython.display import display\n",
    "\n",
    "# 创建一个三维坐标系\n",
    "N = CoordSys3D('N')\n",
    "\n",
    "# 定义标量场 f 和向量场 A\n",
    "f = Function('f')(N.x, N.y, N.z)  # 抽象标量场 f\n",
    "print(\"抽象标量场 f =\")\n",
    "display(f)\n",
    "\n",
    "# 对函数 f(x) 求导数\n",
    "diff_fx = sp.diff(f, N.x)\n",
    "# 输出导数\n",
    "print(\"f'(x) =\")\n",
    "display(diff_fx)"
   ]
  },
  {
   "cell_type": "markdown",
   "id": "abc6b3e5-835f-4809-81d0-ba6a4b53b821",
   "metadata": {},
   "source": [
    "### 验证导数的加法规则"
   ]
  },
  {
   "cell_type": "code",
   "execution_count": 3,
   "id": "a18b1d60-fb4c-4fb1-9371-4d64345acb38",
   "metadata": {},
   "outputs": [
    {
     "name": "stdout",
     "output_type": "stream",
     "text": [
      "抽象标量场 f =\n"
     ]
    },
    {
     "data": {
      "text/latex": [
       "$\\displaystyle f{\\left(\\mathbf{{x}_{N}},\\mathbf{{y}_{N}},\\mathbf{{z}_{N}} \\right)}$"
      ],
      "text/plain": [
       "f(N.x, N.y, N.z)"
      ]
     },
     "metadata": {},
     "output_type": "display_data"
    },
    {
     "name": "stdout",
     "output_type": "stream",
     "text": [
      "抽象标量场 g =\n"
     ]
    },
    {
     "data": {
      "text/latex": [
       "$\\displaystyle g{\\left(\\mathbf{{x}_{N}},\\mathbf{{y}_{N}},\\mathbf{{z}_{N}} \\right)}$"
      ],
      "text/plain": [
       "g(N.x, N.y, N.z)"
      ]
     },
     "metadata": {},
     "output_type": "display_data"
    },
    {
     "name": "stdout",
     "output_type": "stream",
     "text": [
      "和的导数等于：\n"
     ]
    },
    {
     "data": {
      "text/latex": [
       "$\\displaystyle \\frac{\\partial}{\\partial \\mathbf{{x}_{N}}} f{\\left(\\mathbf{{x}_{N}},\\mathbf{{y}_{N}},\\mathbf{{z}_{N}} \\right)} + \\frac{\\partial}{\\partial \\mathbf{{x}_{N}}} g{\\left(\\mathbf{{x}_{N}},\\mathbf{{y}_{N}},\\mathbf{{z}_{N}} \\right)}$"
      ],
      "text/plain": [
       "Derivative(f(N.x, N.y, N.z), N.x) + Derivative(g(N.x, N.y, N.z), N.x)"
      ]
     },
     "metadata": {},
     "output_type": "display_data"
    },
    {
     "name": "stdout",
     "output_type": "stream",
     "text": [
      "导数的和等于：\n"
     ]
    },
    {
     "data": {
      "text/latex": [
       "$\\displaystyle \\frac{\\partial}{\\partial \\mathbf{{x}_{N}}} f{\\left(\\mathbf{{x}_{N}},\\mathbf{{y}_{N}},\\mathbf{{z}_{N}} \\right)} + \\frac{\\partial}{\\partial \\mathbf{{x}_{N}}} g{\\left(\\mathbf{{x}_{N}},\\mathbf{{y}_{N}},\\mathbf{{z}_{N}} \\right)}$"
      ],
      "text/plain": [
       "Derivative(f(N.x, N.y, N.z), N.x) + Derivative(g(N.x, N.y, N.z), N.x)"
      ]
     },
     "metadata": {},
     "output_type": "display_data"
    }
   ],
   "source": [
    "import sympy as sp\n",
    "from sympy import Function\n",
    "from sympy.vector import CoordSys3D\n",
    "from IPython.display import display\n",
    "\n",
    "# 创建一个三维坐标系\n",
    "N = CoordSys3D('N')\n",
    "\n",
    "# 定义标量场 f 和向量场 A\n",
    "f = Function('f')(N.x, N.y, N.z)  # 抽象标量场 f\n",
    "g = Function('g')(N.x, N.y, N.z)  # 抽象标量场 g\n",
    "print(\"抽象标量场 f =\")\n",
    "display(f)\n",
    "print(\"抽象标量场 g =\")\n",
    "display(g)\n",
    "\n",
    "# 对函数 f(x) 求导数\n",
    "diff_fx = sp.diff(f, N.x)\n",
    "diff_gx = sp.diff(g, N.x)\n",
    "diff_fgx = sp.diff(f + g, N.x)\n",
    "Right = diff_fx + diff_gx\n",
    "\n",
    "print(\"和的导数等于：\")\n",
    "display(diff_fgx)\n",
    "print(\"导数的和等于：\")\n",
    "display(Right)"
   ]
  },
  {
   "cell_type": "markdown",
   "id": "c16f4aca-09f4-42e3-a0e7-b0dbac88fca2",
   "metadata": {},
   "source": [
    "### 验证导数的数乘规则"
   ]
  },
  {
   "cell_type": "code",
   "execution_count": 5,
   "id": "c97bdff0-9c40-48cb-b4df-36d2561ad693",
   "metadata": {},
   "outputs": [
    {
     "name": "stdout",
     "output_type": "stream",
     "text": [
      "抽象标量场 f =\n"
     ]
    },
    {
     "data": {
      "text/latex": [
       "$\\displaystyle f{\\left(\\mathbf{{x}_{N}},\\mathbf{{y}_{N}},\\mathbf{{z}_{N}} \\right)}$"
      ],
      "text/plain": [
       "f(N.x, N.y, N.z)"
      ]
     },
     "metadata": {},
     "output_type": "display_data"
    },
    {
     "name": "stdout",
     "output_type": "stream",
     "text": [
      "数乘的导数等于：\n"
     ]
    },
    {
     "data": {
      "text/latex": [
       "$\\displaystyle k \\frac{\\partial}{\\partial \\mathbf{{x}_{N}}} f{\\left(\\mathbf{{x}_{N}},\\mathbf{{y}_{N}},\\mathbf{{z}_{N}} \\right)}$"
      ],
      "text/plain": [
       "k*Derivative(f(N.x, N.y, N.z), N.x)"
      ]
     },
     "metadata": {},
     "output_type": "display_data"
    },
    {
     "name": "stdout",
     "output_type": "stream",
     "text": [
      "数乘上函数导数等于：\n"
     ]
    },
    {
     "data": {
      "text/latex": [
       "$\\displaystyle k \\frac{\\partial}{\\partial \\mathbf{{x}_{N}}} f{\\left(\\mathbf{{x}_{N}},\\mathbf{{y}_{N}},\\mathbf{{z}_{N}} \\right)}$"
      ],
      "text/plain": [
       "k*Derivative(f(N.x, N.y, N.z), N.x)"
      ]
     },
     "metadata": {},
     "output_type": "display_data"
    }
   ],
   "source": [
    "import sympy as sp\n",
    "from sympy import Function\n",
    "from sympy.vector import CoordSys3D\n",
    "from IPython.display import display\n",
    "\n",
    "# 创建一个三维坐标系\n",
    "N = CoordSys3D('N')\n",
    "\n",
    "# 定义标量场 f 和向量场 A\n",
    "f = Function('f')(N.x, N.y, N.z)  # 抽象标量场 f\n",
    "k = sp.symbols('k')\n",
    "print(\"抽象标量场 f =\")\n",
    "display(f)\n",
    "\n",
    "# 对函数 f(x) 求导数\n",
    "diff_fx = sp.diff(f, N.x)\n",
    "diff_kfx = sp.diff(k * f , N.x)\n",
    "Right = k * diff_fx\n",
    "\n",
    "# 输出导数\n",
    "print(\"数乘的导数等于：\")\n",
    "display(diff_kfx)\n",
    "print(\"数乘上函数导数等于：\")\n",
    "display(Right)"
   ]
  },
  {
   "cell_type": "markdown",
   "id": "b2e81874-502d-4433-ac90-35f6e8f5a577",
   "metadata": {},
   "source": [
    "### 验证导数的积规则"
   ]
  },
  {
   "cell_type": "code",
   "execution_count": 7,
   "id": "da5428d9-1bc6-4043-9a69-52e66dbd0495",
   "metadata": {},
   "outputs": [
    {
     "name": "stdout",
     "output_type": "stream",
     "text": [
      "抽象标量场 f =\n"
     ]
    },
    {
     "data": {
      "text/latex": [
       "$\\displaystyle f{\\left(\\mathbf{{x}_{N}},\\mathbf{{y}_{N}},\\mathbf{{z}_{N}} \\right)}$"
      ],
      "text/plain": [
       "f(N.x, N.y, N.z)"
      ]
     },
     "metadata": {},
     "output_type": "display_data"
    },
    {
     "name": "stdout",
     "output_type": "stream",
     "text": [
      "抽象标量场 g =\n"
     ]
    },
    {
     "data": {
      "text/latex": [
       "$\\displaystyle g{\\left(\\mathbf{{x}_{N}},\\mathbf{{y}_{N}},\\mathbf{{z}_{N}} \\right)}$"
      ],
      "text/plain": [
       "g(N.x, N.y, N.z)"
      ]
     },
     "metadata": {},
     "output_type": "display_data"
    },
    {
     "name": "stdout",
     "output_type": "stream",
     "text": [
      "乘积的导数等于：(f(x) * g(x))'=\n"
     ]
    },
    {
     "data": {
      "text/latex": [
       "$\\displaystyle f{\\left(\\mathbf{{x}_{N}},\\mathbf{{y}_{N}},\\mathbf{{z}_{N}} \\right)} \\frac{\\partial}{\\partial \\mathbf{{x}_{N}}} g{\\left(\\mathbf{{x}_{N}},\\mathbf{{y}_{N}},\\mathbf{{z}_{N}} \\right)} + g{\\left(\\mathbf{{x}_{N}},\\mathbf{{y}_{N}},\\mathbf{{z}_{N}} \\right)} \\frac{\\partial}{\\partial \\mathbf{{x}_{N}}} f{\\left(\\mathbf{{x}_{N}},\\mathbf{{y}_{N}},\\mathbf{{z}_{N}} \\right)}$"
      ],
      "text/plain": [
       "f(N.x, N.y, N.z)*Derivative(g(N.x, N.y, N.z), N.x) + g(N.x, N.y, N.z)*Derivative(f(N.x, N.y, N.z), N.x)"
      ]
     },
     "metadata": {},
     "output_type": "display_data"
    },
    {
     "name": "stdout",
     "output_type": "stream",
     "text": [
      "左导右不导加上左不导右导等于：\n"
     ]
    },
    {
     "data": {
      "text/latex": [
       "$\\displaystyle f{\\left(\\mathbf{{x}_{N}},\\mathbf{{y}_{N}},\\mathbf{{z}_{N}} \\right)} \\frac{\\partial}{\\partial \\mathbf{{x}_{N}}} g{\\left(\\mathbf{{x}_{N}},\\mathbf{{y}_{N}},\\mathbf{{z}_{N}} \\right)} + g{\\left(\\mathbf{{x}_{N}},\\mathbf{{y}_{N}},\\mathbf{{z}_{N}} \\right)} \\frac{\\partial}{\\partial \\mathbf{{x}_{N}}} f{\\left(\\mathbf{{x}_{N}},\\mathbf{{y}_{N}},\\mathbf{{z}_{N}} \\right)}$"
      ],
      "text/plain": [
       "f(N.x, N.y, N.z)*Derivative(g(N.x, N.y, N.z), N.x) + g(N.x, N.y, N.z)*Derivative(f(N.x, N.y, N.z), N.x)"
      ]
     },
     "metadata": {},
     "output_type": "display_data"
    }
   ],
   "source": [
    "import sympy as sp\n",
    "from sympy import Function\n",
    "from sympy.vector import CoordSys3D\n",
    "from IPython.display import display\n",
    "\n",
    "# 创建一个三维坐标系\n",
    "N = CoordSys3D('N')\n",
    "\n",
    "# 定义标量场 f 和向量场 A\n",
    "f = Function('f')(N.x, N.y, N.z)  # 抽象标量场 f\n",
    "g = Function('g')(N.x, N.y, N.z)  # 抽象标量场 g\n",
    "print(\"抽象标量场 f =\")\n",
    "display(f)\n",
    "print(\"抽象标量场 g =\")\n",
    "display(g)\n",
    "\n",
    "# 对函数 f(x) 求导数\n",
    "diff_fx = sp.diff(f, N.x)\n",
    "diff_gx = sp.diff(g, N.x)\n",
    "diff_fgx = sp.diff(f * g, N.x)\n",
    "Right = sp.simplify(sp.expand( g * diff_fx + f * diff_gx))\n",
    "\n",
    "# 输出导数\n",
    "print(\"乘积的导数等于：(f(x) * g(x))'=\")\n",
    "display(diff_fgx)\n",
    "print(\"左导右不导加上左不导右导等于：\")\n",
    "display(Right)"
   ]
  },
  {
   "cell_type": "markdown",
   "id": "b755c85e-6b73-4164-aa5b-3c4763cb21f8",
   "metadata": {},
   "source": [
    "### 验证导数的除法规则"
   ]
  },
  {
   "cell_type": "code",
   "execution_count": null,
   "id": "356a90f8-c0a0-4713-ba3b-ab0cf86e1768",
   "metadata": {},
   "outputs": [
    {
     "name": "stdout",
     "output_type": "stream",
     "text": [
      "抽象标量场 f =\n"
     ]
    },
    {
     "data": {
      "text/latex": [
       "$\\displaystyle f{\\left(\\mathbf{{x}_{N}},\\mathbf{{y}_{N}},\\mathbf{{z}_{N}} \\right)}$"
      ],
      "text/plain": [
       "f(N.x, N.y, N.z)"
      ]
     },
     "metadata": {},
     "output_type": "display_data"
    },
    {
     "name": "stdout",
     "output_type": "stream",
     "text": [
      "抽象标量场 g =\n"
     ]
    },
    {
     "data": {
      "text/latex": [
       "$\\displaystyle g{\\left(\\mathbf{{x}_{N}},\\mathbf{{y}_{N}},\\mathbf{{z}_{N}} \\right)}$"
      ],
      "text/plain": [
       "g(N.x, N.y, N.z)"
      ]
     },
     "metadata": {},
     "output_type": "display_data"
    },
    {
     "name": "stdout",
     "output_type": "stream",
     "text": [
      "商的导数等于：(f(x) / g(x))'=\n"
     ]
    },
    {
     "data": {
      "text/latex": [
       "$\\displaystyle - \\frac{f{\\left(\\mathbf{{x}_{N}},\\mathbf{{y}_{N}},\\mathbf{{z}_{N}} \\right)} \\frac{\\partial}{\\partial \\mathbf{{x}_{N}}} g{\\left(\\mathbf{{x}_{N}},\\mathbf{{y}_{N}},\\mathbf{{z}_{N}} \\right)}}{g^{2}{\\left(\\mathbf{{x}_{N}},\\mathbf{{y}_{N}},\\mathbf{{z}_{N}} \\right)}} + \\frac{\\frac{\\partial}{\\partial \\mathbf{{x}_{N}}} f{\\left(\\mathbf{{x}_{N}},\\mathbf{{y}_{N}},\\mathbf{{z}_{N}} \\right)}}{g{\\left(\\mathbf{{x}_{N}},\\mathbf{{y}_{N}},\\mathbf{{z}_{N}} \\right)}}$"
      ],
      "text/plain": [
       "-f(N.x, N.y, N.z)*Derivative(g(N.x, N.y, N.z), N.x)/g(N.x, N.y, N.z)**2 + Derivative(f(N.x, N.y, N.z), N.x)/g(N.x, N.y, N.z)"
      ]
     },
     "metadata": {},
     "output_type": "display_data"
    },
    {
     "name": "stdout",
     "output_type": "stream",
     "text": [
      "左导右不导减去左不导右导除以右的平方等于：\n"
     ]
    },
    {
     "data": {
      "text/latex": [
       "$\\displaystyle \\frac{- f{\\left(\\mathbf{{x}_{N}},\\mathbf{{y}_{N}},\\mathbf{{z}_{N}} \\right)} \\frac{\\partial}{\\partial \\mathbf{{x}_{N}}} g{\\left(\\mathbf{{x}_{N}},\\mathbf{{y}_{N}},\\mathbf{{z}_{N}} \\right)} + g{\\left(\\mathbf{{x}_{N}},\\mathbf{{y}_{N}},\\mathbf{{z}_{N}} \\right)} \\frac{\\partial}{\\partial \\mathbf{{x}_{N}}} f{\\left(\\mathbf{{x}_{N}},\\mathbf{{y}_{N}},\\mathbf{{z}_{N}} \\right)}}{g^{2}{\\left(\\mathbf{{x}_{N}},\\mathbf{{y}_{N}},\\mathbf{{z}_{N}} \\right)}}$"
      ],
      "text/plain": [
       "(-f(N.x, N.y, N.z)*Derivative(g(N.x, N.y, N.z), N.x) + g(N.x, N.y, N.z)*Derivative(f(N.x, N.y, N.z), N.x))/g(N.x, N.y, N.z)**2"
      ]
     },
     "metadata": {},
     "output_type": "display_data"
    }
   ],
   "source": [
    "import sympy as sp\n",
    "from sympy import Function\n",
    "from sympy.vector import CoordSys3D\n",
    "\n",
    "# 创建一个三维坐标系\n",
    "N = CoordSys3D('N')\n",
    "\n",
    "# 定义标量场 f 和向量场 A\n",
    "f = Function('f')(N.x, N.y, N.z)  # 抽象标量场 f\n",
    "g = Function('g')(N.x, N.y, N.z)  # 抽象标量场 g\n",
    "print(\"抽象标量场 f =\")\n",
    "display(f)\n",
    "print(\"抽象标量场 g =\")\n",
    "display(g)\n",
    "\n",
    "# 对函数 f(x) 求导数\n",
    "diff_fx = sp.diff(f, N.x)\n",
    "diff_gx = sp.diff(g, N.x)\n",
    "diff_fgx = sp.diff(f / g, N.x)\n",
    "Right = sp.simplify(sp.expand( (g * diff_fx - f * diff_gx)/g ** 2))\n",
    "\n",
    "# 输出导数\n",
    "print(\"商的导数等于：(f(x) / g(x))'=\")\n",
    "display(diff_fgx)\n",
    "print(\"上导下不导减去上不导下导除以下的平方等于：\")\n",
    "display(Right)"
   ]
  },
  {
   "cell_type": "markdown",
   "id": "58f496c0-9c6f-4f45-9517-0ab9a912bfdc",
   "metadata": {},
   "source": [
    "### 验证梯度的加法和数乘法则"
   ]
  },
  {
   "cell_type": "code",
   "execution_count": 10,
   "id": "d2d0d251-b48b-4f90-9177-03640f4d04ed",
   "metadata": {},
   "outputs": [
    {
     "name": "stdout",
     "output_type": "stream",
     "text": [
      "抽象标量场 f =\n"
     ]
    },
    {
     "data": {
      "text/latex": [
       "$\\displaystyle f{\\left(\\mathbf{{x}_{N}},\\mathbf{{y}_{N}},\\mathbf{{z}_{N}} \\right)}$"
      ],
      "text/plain": [
       "f(N.x, N.y, N.z)"
      ]
     },
     "metadata": {},
     "output_type": "display_data"
    },
    {
     "name": "stdout",
     "output_type": "stream",
     "text": [
      "抽象标量场 g =\n"
     ]
    },
    {
     "data": {
      "text/latex": [
       "$\\displaystyle g{\\left(\\mathbf{{x}_{N}},\\mathbf{{y}_{N}},\\mathbf{{z}_{N}} \\right)}$"
      ],
      "text/plain": [
       "g(N.x, N.y, N.z)"
      ]
     },
     "metadata": {},
     "output_type": "display_data"
    },
    {
     "name": "stdout",
     "output_type": "stream",
     "text": [
      "梯度 ∇(f + g):\n"
     ]
    },
    {
     "data": {
      "text/latex": [
       "$\\displaystyle \\left(\\frac{\\partial}{\\partial \\mathbf{{x}_{N}}} f{\\left(\\mathbf{{x}_{N}},\\mathbf{{y}_{N}},\\mathbf{{z}_{N}} \\right)} + \\frac{\\partial}{\\partial \\mathbf{{x}_{N}}} g{\\left(\\mathbf{{x}_{N}},\\mathbf{{y}_{N}},\\mathbf{{z}_{N}} \\right)}\\right)\\mathbf{\\hat{i}_{N}} + \\left(\\frac{\\partial}{\\partial \\mathbf{{y}_{N}}} f{\\left(\\mathbf{{x}_{N}},\\mathbf{{y}_{N}},\\mathbf{{z}_{N}} \\right)} + \\frac{\\partial}{\\partial \\mathbf{{y}_{N}}} g{\\left(\\mathbf{{x}_{N}},\\mathbf{{y}_{N}},\\mathbf{{z}_{N}} \\right)}\\right)\\mathbf{\\hat{j}_{N}} + \\left(\\frac{\\partial}{\\partial \\mathbf{{z}_{N}}} f{\\left(\\mathbf{{x}_{N}},\\mathbf{{y}_{N}},\\mathbf{{z}_{N}} \\right)} + \\frac{\\partial}{\\partial \\mathbf{{z}_{N}}} g{\\left(\\mathbf{{x}_{N}},\\mathbf{{y}_{N}},\\mathbf{{z}_{N}} \\right)}\\right)\\mathbf{\\hat{k}_{N}}$"
      ],
      "text/plain": [
       "(Derivative(f(N.x, N.y, N.z), N.x) + Derivative(g(N.x, N.y, N.z), N.x))*N.i + (Derivative(f(N.x, N.y, N.z), N.y) + Derivative(g(N.x, N.y, N.z), N.y))*N.j + (Derivative(f(N.x, N.y, N.z), N.z) + Derivative(g(N.x, N.y, N.z), N.z))*N.k"
      ]
     },
     "metadata": {},
     "output_type": "display_data"
    },
    {
     "name": "stdout",
     "output_type": "stream",
     "text": [
      "梯度 ∇f:\n"
     ]
    },
    {
     "data": {
      "text/latex": [
       "$\\displaystyle \\left(\\frac{\\partial}{\\partial \\mathbf{{x}_{N}}} f{\\left(\\mathbf{{x}_{N}},\\mathbf{{y}_{N}},\\mathbf{{z}_{N}} \\right)}\\right)\\mathbf{\\hat{i}_{N}} + \\left(\\frac{\\partial}{\\partial \\mathbf{{y}_{N}}} f{\\left(\\mathbf{{x}_{N}},\\mathbf{{y}_{N}},\\mathbf{{z}_{N}} \\right)}\\right)\\mathbf{\\hat{j}_{N}} + \\left(\\frac{\\partial}{\\partial \\mathbf{{z}_{N}}} f{\\left(\\mathbf{{x}_{N}},\\mathbf{{y}_{N}},\\mathbf{{z}_{N}} \\right)}\\right)\\mathbf{\\hat{k}_{N}}$"
      ],
      "text/plain": [
       "(Derivative(f(N.x, N.y, N.z), N.x))*N.i + (Derivative(f(N.x, N.y, N.z), N.y))*N.j + (Derivative(f(N.x, N.y, N.z), N.z))*N.k"
      ]
     },
     "metadata": {},
     "output_type": "display_data"
    },
    {
     "name": "stdout",
     "output_type": "stream",
     "text": [
      "梯度 ∇g:\n"
     ]
    },
    {
     "data": {
      "text/latex": [
       "$\\displaystyle \\left(\\frac{\\partial}{\\partial \\mathbf{{x}_{N}}} g{\\left(\\mathbf{{x}_{N}},\\mathbf{{y}_{N}},\\mathbf{{z}_{N}} \\right)}\\right)\\mathbf{\\hat{i}_{N}} + \\left(\\frac{\\partial}{\\partial \\mathbf{{y}_{N}}} g{\\left(\\mathbf{{x}_{N}},\\mathbf{{y}_{N}},\\mathbf{{z}_{N}} \\right)}\\right)\\mathbf{\\hat{j}_{N}} + \\left(\\frac{\\partial}{\\partial \\mathbf{{z}_{N}}} g{\\left(\\mathbf{{x}_{N}},\\mathbf{{y}_{N}},\\mathbf{{z}_{N}} \\right)}\\right)\\mathbf{\\hat{k}_{N}}$"
      ],
      "text/plain": [
       "(Derivative(g(N.x, N.y, N.z), N.x))*N.i + (Derivative(g(N.x, N.y, N.z), N.y))*N.j + (Derivative(g(N.x, N.y, N.z), N.z))*N.k"
      ]
     },
     "metadata": {},
     "output_type": "display_data"
    }
   ],
   "source": [
    "import sympy as sp\n",
    "from sympy.vector import CoordSys3D, gradient\n",
    "from sympy import Function\n",
    "\n",
    "# 创建一个三维坐标系\n",
    "N = CoordSys3D('N')\n",
    "\n",
    "# 定义标量场 f 和向量场 A\n",
    "f = Function('f')(N.x, N.y, N.z)  # 抽象标量场 f\n",
    "g = Function('g')(N.x, N.y, N.z)  # 抽象标量场 f\n",
    "print(\"抽象标量场 f =\")\n",
    "display(f)\n",
    "print(\"抽象标量场 g =\")\n",
    "display(g)\n",
    "\n",
    "\n",
    "# 梯度运算\n",
    "grad_fg = gradient(f + g)\n",
    "grad_f = gradient(f)\n",
    "grad_g = gradient(g)\n",
    "\n",
    "# 输出梯度\n",
    "print(\"梯度 ∇(f + g):\")\n",
    "display(grad_fg)\n",
    "print(\"梯度 ∇f:\")\n",
    "display(grad_f)\n",
    "print(\"梯度 ∇g:\")\n",
    "display(grad_g)"
   ]
  },
  {
   "cell_type": "code",
   "execution_count": 11,
   "id": "d5c588cd-446d-4981-996c-28f2d6477bfa",
   "metadata": {},
   "outputs": [
    {
     "name": "stdout",
     "output_type": "stream",
     "text": [
      "抽象标量场 f =\n"
     ]
    },
    {
     "data": {
      "text/latex": [
       "$\\displaystyle f{\\left(\\mathbf{{x}_{N}},\\mathbf{{y}_{N}},\\mathbf{{z}_{N}} \\right)}$"
      ],
      "text/plain": [
       "f(N.x, N.y, N.z)"
      ]
     },
     "metadata": {},
     "output_type": "display_data"
    },
    {
     "name": "stdout",
     "output_type": "stream",
     "text": [
      "梯度 ∇(k * f):\n"
     ]
    },
    {
     "data": {
      "text/latex": [
       "$\\displaystyle \\left(k \\frac{\\partial}{\\partial \\mathbf{{x}_{N}}} f{\\left(\\mathbf{{x}_{N}},\\mathbf{{y}_{N}},\\mathbf{{z}_{N}} \\right)}\\right)\\mathbf{\\hat{i}_{N}} + \\left(k \\frac{\\partial}{\\partial \\mathbf{{y}_{N}}} f{\\left(\\mathbf{{x}_{N}},\\mathbf{{y}_{N}},\\mathbf{{z}_{N}} \\right)}\\right)\\mathbf{\\hat{j}_{N}} + \\left(k \\frac{\\partial}{\\partial \\mathbf{{z}_{N}}} f{\\left(\\mathbf{{x}_{N}},\\mathbf{{y}_{N}},\\mathbf{{z}_{N}} \\right)}\\right)\\mathbf{\\hat{k}_{N}}$"
      ],
      "text/plain": [
       "(k*Derivative(f(N.x, N.y, N.z), N.x))*N.i + (k*Derivative(f(N.x, N.y, N.z), N.y))*N.j + (k*Derivative(f(N.x, N.y, N.z), N.z))*N.k"
      ]
     },
     "metadata": {},
     "output_type": "display_data"
    },
    {
     "name": "stdout",
     "output_type": "stream",
     "text": [
      "梯度 k * ∇f:\n"
     ]
    },
    {
     "data": {
      "text/latex": [
       "$\\displaystyle \\left(k \\frac{\\partial}{\\partial \\mathbf{{x}_{N}}} f{\\left(\\mathbf{{x}_{N}},\\mathbf{{y}_{N}},\\mathbf{{z}_{N}} \\right)}\\right)\\mathbf{\\hat{i}_{N}} + \\left(k \\frac{\\partial}{\\partial \\mathbf{{y}_{N}}} f{\\left(\\mathbf{{x}_{N}},\\mathbf{{y}_{N}},\\mathbf{{z}_{N}} \\right)}\\right)\\mathbf{\\hat{j}_{N}} + \\left(k \\frac{\\partial}{\\partial \\mathbf{{z}_{N}}} f{\\left(\\mathbf{{x}_{N}},\\mathbf{{y}_{N}},\\mathbf{{z}_{N}} \\right)}\\right)\\mathbf{\\hat{k}_{N}}$"
      ],
      "text/plain": [
       "(k*Derivative(f(N.x, N.y, N.z), N.x))*N.i + (k*Derivative(f(N.x, N.y, N.z), N.y))*N.j + (k*Derivative(f(N.x, N.y, N.z), N.z))*N.k"
      ]
     },
     "metadata": {},
     "output_type": "display_data"
    }
   ],
   "source": [
    "import sympy as sp\n",
    "from sympy.vector import CoordSys3D, gradient\n",
    "from sympy import Function\n",
    "from IPython.display import display\n",
    "\n",
    "# 创建一个三维坐标系\n",
    "N = CoordSys3D('N')\n",
    "\n",
    "# 定义标量场 f 和向量场 A\n",
    "f = Function('f')(N.x, N.y, N.z)  # 抽象标量场 f\n",
    "k = sp.symbols('k')\n",
    "print(\"抽象标量场 f =\")\n",
    "display(f)\n",
    "\n",
    "# 使用 nabla 进行符号运算\n",
    "# 梯度运算\n",
    "grad_kf = gradient( k * f)\n",
    "grad_f = gradient(f)\n",
    "\n",
    "# 输出梯度\n",
    "\n",
    "print(\"梯度 ∇(k * f):\")\n",
    "display(grad_kf)\n",
    "print(\"梯度 k * ∇f:\")\n",
    "display(k * grad_f)"
   ]
  },
  {
   "cell_type": "markdown",
   "id": "dca1647c-2642-4be6-a821-21d4d61f5750",
   "metadata": {},
   "source": [
    "### 验证散度的加法和数乘法则"
   ]
  },
  {
   "cell_type": "code",
   "execution_count": null,
   "id": "ab0d0a31-5c5b-4104-8ae2-a589347dad03",
   "metadata": {},
   "outputs": [
    {
     "name": "stdout",
     "output_type": "stream",
     "text": [
      "抽象向量场 A =\n"
     ]
    },
    {
     "data": {
      "text/latex": [
       "$\\displaystyle \\left(A_{x}{\\left(\\mathbf{{x}_{N}},\\mathbf{{y}_{N}},\\mathbf{{z}_{N}} \\right)}\\right)\\mathbf{\\hat{i}_{N}} + \\left(A_{y}{\\left(\\mathbf{{x}_{N}},\\mathbf{{y}_{N}},\\mathbf{{z}_{N}} \\right)}\\right)\\mathbf{\\hat{j}_{N}} + \\left(A_{z}{\\left(\\mathbf{{x}_{N}},\\mathbf{{y}_{N}},\\mathbf{{z}_{N}} \\right)}\\right)\\mathbf{\\hat{k}_{N}}$"
      ],
      "text/plain": [
       "(A_x(N.x, N.y, N.z))*N.i + (A_y(N.x, N.y, N.z))*N.j + (A_z(N.x, N.y, N.z))*N.k"
      ]
     },
     "metadata": {},
     "output_type": "display_data"
    },
    {
     "name": "stdout",
     "output_type": "stream",
     "text": [
      "抽象向量场 B =\n"
     ]
    },
    {
     "data": {
      "text/latex": [
       "$\\displaystyle \\left(B_{x}{\\left(\\mathbf{{x}_{N}},\\mathbf{{y}_{N}},\\mathbf{{z}_{N}} \\right)}\\right)\\mathbf{\\hat{i}_{N}} + \\left(B_{y}{\\left(\\mathbf{{x}_{N}},\\mathbf{{y}_{N}},\\mathbf{{z}_{N}} \\right)}\\right)\\mathbf{\\hat{j}_{N}} + \\left(B_{z}{\\left(\\mathbf{{x}_{N}},\\mathbf{{y}_{N}},\\mathbf{{z}_{N}} \\right)}\\right)\\mathbf{\\hat{k}_{N}}$"
      ],
      "text/plain": [
       "(B_x(N.x, N.y, N.z))*N.i + (B_y(N.x, N.y, N.z))*N.j + (B_z(N.x, N.y, N.z))*N.k"
      ]
     },
     "metadata": {},
     "output_type": "display_data"
    },
    {
     "name": "stdout",
     "output_type": "stream",
     "text": [
      "梯度 ∇·(A + B):\n"
     ]
    },
    {
     "data": {
      "text/latex": [
       "$\\displaystyle \\frac{\\partial}{\\partial \\mathbf{{x}_{N}}} A_{x}{\\left(\\mathbf{{x}_{N}},\\mathbf{{y}_{N}},\\mathbf{{z}_{N}} \\right)} + \\frac{\\partial}{\\partial \\mathbf{{y}_{N}}} A_{y}{\\left(\\mathbf{{x}_{N}},\\mathbf{{y}_{N}},\\mathbf{{z}_{N}} \\right)} + \\frac{\\partial}{\\partial \\mathbf{{z}_{N}}} A_{z}{\\left(\\mathbf{{x}_{N}},\\mathbf{{y}_{N}},\\mathbf{{z}_{N}} \\right)} + \\frac{\\partial}{\\partial \\mathbf{{x}_{N}}} B_{x}{\\left(\\mathbf{{x}_{N}},\\mathbf{{y}_{N}},\\mathbf{{z}_{N}} \\right)} + \\frac{\\partial}{\\partial \\mathbf{{y}_{N}}} B_{y}{\\left(\\mathbf{{x}_{N}},\\mathbf{{y}_{N}},\\mathbf{{z}_{N}} \\right)} + \\frac{\\partial}{\\partial \\mathbf{{z}_{N}}} B_{z}{\\left(\\mathbf{{x}_{N}},\\mathbf{{y}_{N}},\\mathbf{{z}_{N}} \\right)}$"
      ],
      "text/plain": [
       "Derivative(A_x(N.x, N.y, N.z), N.x) + Derivative(A_y(N.x, N.y, N.z), N.y) + Derivative(A_z(N.x, N.y, N.z), N.z) + Derivative(B_x(N.x, N.y, N.z), N.x) + Derivative(B_y(N.x, N.y, N.z), N.y) + Derivative(B_z(N.x, N.y, N.z), N.z)"
      ]
     },
     "metadata": {},
     "output_type": "display_data"
    },
    {
     "name": "stdout",
     "output_type": "stream",
     "text": [
      "梯度 ∇·A + ∇·B:\n"
     ]
    },
    {
     "data": {
      "text/latex": [
       "$\\displaystyle \\frac{\\partial}{\\partial \\mathbf{{x}_{N}}} A_{x}{\\left(\\mathbf{{x}_{N}},\\mathbf{{y}_{N}},\\mathbf{{z}_{N}} \\right)} + \\frac{\\partial}{\\partial \\mathbf{{y}_{N}}} A_{y}{\\left(\\mathbf{{x}_{N}},\\mathbf{{y}_{N}},\\mathbf{{z}_{N}} \\right)} + \\frac{\\partial}{\\partial \\mathbf{{z}_{N}}} A_{z}{\\left(\\mathbf{{x}_{N}},\\mathbf{{y}_{N}},\\mathbf{{z}_{N}} \\right)} + \\frac{\\partial}{\\partial \\mathbf{{x}_{N}}} B_{x}{\\left(\\mathbf{{x}_{N}},\\mathbf{{y}_{N}},\\mathbf{{z}_{N}} \\right)} + \\frac{\\partial}{\\partial \\mathbf{{y}_{N}}} B_{y}{\\left(\\mathbf{{x}_{N}},\\mathbf{{y}_{N}},\\mathbf{{z}_{N}} \\right)} + \\frac{\\partial}{\\partial \\mathbf{{z}_{N}}} B_{z}{\\left(\\mathbf{{x}_{N}},\\mathbf{{y}_{N}},\\mathbf{{z}_{N}} \\right)}$"
      ],
      "text/plain": [
       "Derivative(A_x(N.x, N.y, N.z), N.x) + Derivative(A_y(N.x, N.y, N.z), N.y) + Derivative(A_z(N.x, N.y, N.z), N.z) + Derivative(B_x(N.x, N.y, N.z), N.x) + Derivative(B_y(N.x, N.y, N.z), N.y) + Derivative(B_z(N.x, N.y, N.z), N.z)"
      ]
     },
     "metadata": {},
     "output_type": "display_data"
    }
   ],
   "source": [
    "import sympy as sp\n",
    "from sympy.vector import CoordSys3D, divergence\n",
    "from sympy import Function\n",
    "from IPython.display import display\n",
    "\n",
    "# 创建一个三维坐标系\n",
    "N = CoordSys3D('N')\n",
    "\n",
    "# 定义向量场 A，B\n",
    "\n",
    "A_x, A_y, A_z = Function('A_x')(N.x, N.y, N.z), Function('A_y')(N.x, N.y, N.z), Function('A_z')(N.x, N.y, N.z)\n",
    "A = A_x*N.i + A_y*N.j + A_z*N.k  # 抽象向量场 A\n",
    "B_x, B_y, B_z = Function('B_x')(N.x, N.y, N.z), Function('B_y')(N.x, N.y, N.z), Function('B_z')(N.x, N.y, N.z)\n",
    "B = B_x*N.i + B_y*N.j + B_z*N.k  # 抽象向量场 B\n",
    "print(\"抽象向量场 A =\")\n",
    "display(A)\n",
    "print(\"抽象向量场 B =\")\n",
    "display(B)\n",
    "\n",
    "# 散度运算\n",
    "\n",
    "div_AB = divergence(A + B)\n",
    "div_A = divergence(A)\n",
    "div_B = divergence(B)\n",
    "\n",
    "print(\"梯度 ∇·(A + B):\")\n",
    "display(div_AB)\n",
    "print(\"梯度 ∇·A + ∇·B:\")\n",
    "display(div_A + div_B)"
   ]
  },
  {
   "cell_type": "code",
   "execution_count": 13,
   "id": "dd047020-884f-4267-b85e-f800dc535d9c",
   "metadata": {},
   "outputs": [
    {
     "name": "stdout",
     "output_type": "stream",
     "text": [
      "抽象向量场 A =\n"
     ]
    },
    {
     "data": {
      "text/latex": [
       "$\\displaystyle \\left(A_{x}{\\left(\\mathbf{{x}_{N}},\\mathbf{{y}_{N}},\\mathbf{{z}_{N}} \\right)}\\right)\\mathbf{\\hat{i}_{N}} + \\left(A_{y}{\\left(\\mathbf{{x}_{N}},\\mathbf{{y}_{N}},\\mathbf{{z}_{N}} \\right)}\\right)\\mathbf{\\hat{j}_{N}} + \\left(A_{z}{\\left(\\mathbf{{x}_{N}},\\mathbf{{y}_{N}},\\mathbf{{z}_{N}} \\right)}\\right)\\mathbf{\\hat{k}_{N}}$"
      ],
      "text/plain": [
       "(A_x(N.x, N.y, N.z))*N.i + (A_y(N.x, N.y, N.z))*N.j + (A_z(N.x, N.y, N.z))*N.k"
      ]
     },
     "metadata": {},
     "output_type": "display_data"
    },
    {
     "name": "stdout",
     "output_type": "stream",
     "text": [
      "梯度 ∇·(k A):\n"
     ]
    },
    {
     "data": {
      "text/latex": [
       "$\\displaystyle k \\frac{\\partial}{\\partial \\mathbf{{x}_{N}}} A_{x}{\\left(\\mathbf{{x}_{N}},\\mathbf{{y}_{N}},\\mathbf{{z}_{N}} \\right)} + k \\frac{\\partial}{\\partial \\mathbf{{y}_{N}}} A_{y}{\\left(\\mathbf{{x}_{N}},\\mathbf{{y}_{N}},\\mathbf{{z}_{N}} \\right)} + k \\frac{\\partial}{\\partial \\mathbf{{z}_{N}}} A_{z}{\\left(\\mathbf{{x}_{N}},\\mathbf{{y}_{N}},\\mathbf{{z}_{N}} \\right)}$"
      ],
      "text/plain": [
       "k*Derivative(A_x(N.x, N.y, N.z), N.x) + k*Derivative(A_y(N.x, N.y, N.z), N.y) + k*Derivative(A_z(N.x, N.y, N.z), N.z)"
      ]
     },
     "metadata": {},
     "output_type": "display_data"
    },
    {
     "name": "stdout",
     "output_type": "stream",
     "text": [
      "梯度 k∇·A:\n"
     ]
    },
    {
     "data": {
      "text/latex": [
       "$\\displaystyle k \\left(\\frac{\\partial}{\\partial \\mathbf{{x}_{N}}} A_{x}{\\left(\\mathbf{{x}_{N}},\\mathbf{{y}_{N}},\\mathbf{{z}_{N}} \\right)} + \\frac{\\partial}{\\partial \\mathbf{{y}_{N}}} A_{y}{\\left(\\mathbf{{x}_{N}},\\mathbf{{y}_{N}},\\mathbf{{z}_{N}} \\right)} + \\frac{\\partial}{\\partial \\mathbf{{z}_{N}}} A_{z}{\\left(\\mathbf{{x}_{N}},\\mathbf{{y}_{N}},\\mathbf{{z}_{N}} \\right)}\\right)$"
      ],
      "text/plain": [
       "k*(Derivative(A_x(N.x, N.y, N.z), N.x) + Derivative(A_y(N.x, N.y, N.z), N.y) + Derivative(A_z(N.x, N.y, N.z), N.z))"
      ]
     },
     "metadata": {},
     "output_type": "display_data"
    }
   ],
   "source": [
    "import sympy as sp\n",
    "from sympy.vector import CoordSys3D, divergence\n",
    "from sympy import Function\n",
    "from IPython.display import display\n",
    "\n",
    "# 创建一个三维坐标系\n",
    "N = CoordSys3D('N')\n",
    "\n",
    "# 定义标量场 f 和向量场 A\n",
    "A_x, A_y, A_z = Function('A_x')(N.x, N.y, N.z), Function('A_y')(N.x, N.y, N.z), Function('A_z')(N.x, N.y, N.z)\n",
    "A = A_x*N.i + A_y*N.j + A_z*N.k  # 抽象向量场 A\n",
    "k = sp.symbols('k')\n",
    "print(\"抽象向量场 A =\")\n",
    "display(A)\n",
    "\n",
    "# 梯度运算\n",
    "div_kA = divergence (k * A)\n",
    "div_A = divergence( A)\n",
    "\n",
    "print(\"梯度 ∇·(k A):\")\n",
    "display(div_kA)\n",
    "print(\"梯度 k∇·A:\")\n",
    "display(k * div_A)"
   ]
  },
  {
   "cell_type": "markdown",
   "id": "a685344c-6b13-4507-9f00-e56bd89df871",
   "metadata": {},
   "source": [
    "### 验证旋度的加法和数乘法则"
   ]
  },
  {
   "cell_type": "code",
   "execution_count": null,
   "id": "3044a3ee-b058-4e5f-b9a0-777331cb2a12",
   "metadata": {},
   "outputs": [
    {
     "name": "stdout",
     "output_type": "stream",
     "text": [
      "抽象向量场 A =\n"
     ]
    },
    {
     "data": {
      "text/latex": [
       "$\\displaystyle \\left(A_{x}{\\left(\\mathbf{{x}_{N}},\\mathbf{{y}_{N}},\\mathbf{{z}_{N}} \\right)}\\right)\\mathbf{\\hat{i}_{N}} + \\left(A_{y}{\\left(\\mathbf{{x}_{N}},\\mathbf{{y}_{N}},\\mathbf{{z}_{N}} \\right)}\\right)\\mathbf{\\hat{j}_{N}} + \\left(A_{z}{\\left(\\mathbf{{x}_{N}},\\mathbf{{y}_{N}},\\mathbf{{z}_{N}} \\right)}\\right)\\mathbf{\\hat{k}_{N}}$"
      ],
      "text/plain": [
       "(A_x(N.x, N.y, N.z))*N.i + (A_y(N.x, N.y, N.z))*N.j + (A_z(N.x, N.y, N.z))*N.k"
      ]
     },
     "metadata": {},
     "output_type": "display_data"
    },
    {
     "name": "stdout",
     "output_type": "stream",
     "text": [
      "抽象向量场 B =\n"
     ]
    },
    {
     "data": {
      "text/latex": [
       "$\\displaystyle \\left(B_{x}{\\left(\\mathbf{{x}_{N}},\\mathbf{{y}_{N}},\\mathbf{{z}_{N}} \\right)}\\right)\\mathbf{\\hat{i}_{N}} + \\left(B_{y}{\\left(\\mathbf{{x}_{N}},\\mathbf{{y}_{N}},\\mathbf{{z}_{N}} \\right)}\\right)\\mathbf{\\hat{j}_{N}} + \\left(B_{z}{\\left(\\mathbf{{x}_{N}},\\mathbf{{y}_{N}},\\mathbf{{z}_{N}} \\right)}\\right)\\mathbf{\\hat{k}_{N}}$"
      ],
      "text/plain": [
       "(B_x(N.x, N.y, N.z))*N.i + (B_y(N.x, N.y, N.z))*N.j + (B_z(N.x, N.y, N.z))*N.k"
      ]
     },
     "metadata": {},
     "output_type": "display_data"
    },
    {
     "name": "stdout",
     "output_type": "stream",
     "text": [
      "旋度 ∇×(A + B):\n"
     ]
    },
    {
     "data": {
      "text/latex": [
       "$\\displaystyle \\left(- \\frac{\\partial}{\\partial \\mathbf{{z}_{N}}} A_{y}{\\left(\\mathbf{{x}_{N}},\\mathbf{{y}_{N}},\\mathbf{{z}_{N}} \\right)} + \\frac{\\partial}{\\partial \\mathbf{{y}_{N}}} A_{z}{\\left(\\mathbf{{x}_{N}},\\mathbf{{y}_{N}},\\mathbf{{z}_{N}} \\right)} - \\frac{\\partial}{\\partial \\mathbf{{z}_{N}}} B_{y}{\\left(\\mathbf{{x}_{N}},\\mathbf{{y}_{N}},\\mathbf{{z}_{N}} \\right)} + \\frac{\\partial}{\\partial \\mathbf{{y}_{N}}} B_{z}{\\left(\\mathbf{{x}_{N}},\\mathbf{{y}_{N}},\\mathbf{{z}_{N}} \\right)}\\right)\\mathbf{\\hat{i}_{N}} + \\left(\\frac{\\partial}{\\partial \\mathbf{{z}_{N}}} A_{x}{\\left(\\mathbf{{x}_{N}},\\mathbf{{y}_{N}},\\mathbf{{z}_{N}} \\right)} - \\frac{\\partial}{\\partial \\mathbf{{x}_{N}}} A_{z}{\\left(\\mathbf{{x}_{N}},\\mathbf{{y}_{N}},\\mathbf{{z}_{N}} \\right)} + \\frac{\\partial}{\\partial \\mathbf{{z}_{N}}} B_{x}{\\left(\\mathbf{{x}_{N}},\\mathbf{{y}_{N}},\\mathbf{{z}_{N}} \\right)} - \\frac{\\partial}{\\partial \\mathbf{{x}_{N}}} B_{z}{\\left(\\mathbf{{x}_{N}},\\mathbf{{y}_{N}},\\mathbf{{z}_{N}} \\right)}\\right)\\mathbf{\\hat{j}_{N}} + \\left(- \\frac{\\partial}{\\partial \\mathbf{{y}_{N}}} A_{x}{\\left(\\mathbf{{x}_{N}},\\mathbf{{y}_{N}},\\mathbf{{z}_{N}} \\right)} + \\frac{\\partial}{\\partial \\mathbf{{x}_{N}}} A_{y}{\\left(\\mathbf{{x}_{N}},\\mathbf{{y}_{N}},\\mathbf{{z}_{N}} \\right)} - \\frac{\\partial}{\\partial \\mathbf{{y}_{N}}} B_{x}{\\left(\\mathbf{{x}_{N}},\\mathbf{{y}_{N}},\\mathbf{{z}_{N}} \\right)} + \\frac{\\partial}{\\partial \\mathbf{{x}_{N}}} B_{y}{\\left(\\mathbf{{x}_{N}},\\mathbf{{y}_{N}},\\mathbf{{z}_{N}} \\right)}\\right)\\mathbf{\\hat{k}_{N}}$"
      ],
      "text/plain": [
       "(-Derivative(A_y(N.x, N.y, N.z), N.z) + Derivative(A_z(N.x, N.y, N.z), N.y) - Derivative(B_y(N.x, N.y, N.z), N.z) + Derivative(B_z(N.x, N.y, N.z), N.y))*N.i + (Derivative(A_x(N.x, N.y, N.z), N.z) - Derivative(A_z(N.x, N.y, N.z), N.x) + Derivative(B_x(N.x, N.y, N.z), N.z) - Derivative(B_z(N.x, N.y, N.z), N.x))*N.j + (-Derivative(A_x(N.x, N.y, N.z), N.y) + Derivative(A_y(N.x, N.y, N.z), N.x) - Derivative(B_x(N.x, N.y, N.z), N.y) + Derivative(B_y(N.x, N.y, N.z), N.x))*N.k"
      ]
     },
     "metadata": {},
     "output_type": "display_data"
    },
    {
     "name": "stdout",
     "output_type": "stream",
     "text": [
      "旋度 ∇×A + ∇×B：\n"
     ]
    },
    {
     "data": {
      "text/latex": [
       "$\\displaystyle \\left(- \\frac{\\partial}{\\partial \\mathbf{{z}_{N}}} A_{y}{\\left(\\mathbf{{x}_{N}},\\mathbf{{y}_{N}},\\mathbf{{z}_{N}} \\right)} + \\frac{\\partial}{\\partial \\mathbf{{y}_{N}}} A_{z}{\\left(\\mathbf{{x}_{N}},\\mathbf{{y}_{N}},\\mathbf{{z}_{N}} \\right)} - \\frac{\\partial}{\\partial \\mathbf{{z}_{N}}} B_{y}{\\left(\\mathbf{{x}_{N}},\\mathbf{{y}_{N}},\\mathbf{{z}_{N}} \\right)} + \\frac{\\partial}{\\partial \\mathbf{{y}_{N}}} B_{z}{\\left(\\mathbf{{x}_{N}},\\mathbf{{y}_{N}},\\mathbf{{z}_{N}} \\right)}\\right)\\mathbf{\\hat{i}_{N}} + \\left(\\frac{\\partial}{\\partial \\mathbf{{z}_{N}}} A_{x}{\\left(\\mathbf{{x}_{N}},\\mathbf{{y}_{N}},\\mathbf{{z}_{N}} \\right)} - \\frac{\\partial}{\\partial \\mathbf{{x}_{N}}} A_{z}{\\left(\\mathbf{{x}_{N}},\\mathbf{{y}_{N}},\\mathbf{{z}_{N}} \\right)} + \\frac{\\partial}{\\partial \\mathbf{{z}_{N}}} B_{x}{\\left(\\mathbf{{x}_{N}},\\mathbf{{y}_{N}},\\mathbf{{z}_{N}} \\right)} - \\frac{\\partial}{\\partial \\mathbf{{x}_{N}}} B_{z}{\\left(\\mathbf{{x}_{N}},\\mathbf{{y}_{N}},\\mathbf{{z}_{N}} \\right)}\\right)\\mathbf{\\hat{j}_{N}} + \\left(- \\frac{\\partial}{\\partial \\mathbf{{y}_{N}}} A_{x}{\\left(\\mathbf{{x}_{N}},\\mathbf{{y}_{N}},\\mathbf{{z}_{N}} \\right)} + \\frac{\\partial}{\\partial \\mathbf{{x}_{N}}} A_{y}{\\left(\\mathbf{{x}_{N}},\\mathbf{{y}_{N}},\\mathbf{{z}_{N}} \\right)} - \\frac{\\partial}{\\partial \\mathbf{{y}_{N}}} B_{x}{\\left(\\mathbf{{x}_{N}},\\mathbf{{y}_{N}},\\mathbf{{z}_{N}} \\right)} + \\frac{\\partial}{\\partial \\mathbf{{x}_{N}}} B_{y}{\\left(\\mathbf{{x}_{N}},\\mathbf{{y}_{N}},\\mathbf{{z}_{N}} \\right)}\\right)\\mathbf{\\hat{k}_{N}}$"
      ],
      "text/plain": [
       "(-Derivative(A_y(N.x, N.y, N.z), N.z) + Derivative(A_z(N.x, N.y, N.z), N.y) - Derivative(B_y(N.x, N.y, N.z), N.z) + Derivative(B_z(N.x, N.y, N.z), N.y))*N.i + (Derivative(A_x(N.x, N.y, N.z), N.z) - Derivative(A_z(N.x, N.y, N.z), N.x) + Derivative(B_x(N.x, N.y, N.z), N.z) - Derivative(B_z(N.x, N.y, N.z), N.x))*N.j + (-Derivative(A_x(N.x, N.y, N.z), N.y) + Derivative(A_y(N.x, N.y, N.z), N.x) - Derivative(B_x(N.x, N.y, N.z), N.y) + Derivative(B_y(N.x, N.y, N.z), N.x))*N.k"
      ]
     },
     "metadata": {},
     "output_type": "display_data"
    }
   ],
   "source": [
    "import sympy as sp\n",
    "from sympy.vector import CoordSys3D, curl\n",
    "from sympy import Function\n",
    "from IPython.display import display\n",
    "\n",
    "# 创建一个三维坐标系\n",
    "N = CoordSys3D('N')\n",
    "\n",
    "# 定义向量场 A, B\n",
    "A_x, A_y, A_z = Function('A_x')(N.x, N.y, N.z), Function('A_y')(N.x, N.y, N.z), Function('A_z')(N.x, N.y, N.z)\n",
    "A = A_x*N.i + A_y*N.j + A_z*N.k  # 抽象向量场 A\n",
    "B_x, B_y, B_z = Function('B_x')(N.x, N.y, N.z), Function('B_y')(N.x, N.y, N.z), Function('B_z')(N.x, N.y, N.z)\n",
    "B = B_x*N.i + B_y*N.j + B_z*N.k  # 抽象向量场 B\n",
    "print(\"抽象向量场 A =\")\n",
    "display(A)\n",
    "print(\"抽象向量场 B =\")\n",
    "display(B)\n",
    "\n",
    "# 旋度运算\n",
    "curl_AB = curl(A + B)\n",
    "curl_A = curl(A)\n",
    "curl_B = curl(B)\n",
    "\n",
    "print(\"旋度 ∇×(A + B):\")\n",
    "display(curl_AB)\n",
    "print(\"旋度 ∇×A + ∇×B：\")\n",
    "display(curl_A + curl_B)"
   ]
  },
  {
   "cell_type": "code",
   "execution_count": 4,
   "id": "632d8ea7-f043-4d59-bf6b-c1732fca11b9",
   "metadata": {},
   "outputs": [
    {
     "name": "stdout",
     "output_type": "stream",
     "text": [
      "向量场 A =\n"
     ]
    },
    {
     "data": {
      "text/latex": [
       "$\\displaystyle \\left(A_{x}{\\left(\\mathbf{{x}_{N}},\\mathbf{{y}_{N}},\\mathbf{{z}_{N}} \\right)}\\right)\\mathbf{\\hat{i}_{N}} + \\left(A_{y}{\\left(\\mathbf{{x}_{N}},\\mathbf{{y}_{N}},\\mathbf{{z}_{N}} \\right)}\\right)\\mathbf{\\hat{j}_{N}} + \\left(A_{z}{\\left(\\mathbf{{x}_{N}},\\mathbf{{y}_{N}},\\mathbf{{z}_{N}} \\right)}\\right)\\mathbf{\\hat{k}_{N}}$"
      ],
      "text/plain": [
       "(A_x(N.x, N.y, N.z))*N.i + (A_y(N.x, N.y, N.z))*N.j + (A_z(N.x, N.y, N.z))*N.k"
      ]
     },
     "metadata": {},
     "output_type": "display_data"
    },
    {
     "name": "stdout",
     "output_type": "stream",
     "text": [
      "旋度 ∇×(k A):\n"
     ]
    },
    {
     "data": {
      "text/latex": [
       "$\\displaystyle \\left(- k \\frac{\\partial}{\\partial \\mathbf{{z}_{N}}} A_{y}{\\left(\\mathbf{{x}_{N}},\\mathbf{{y}_{N}},\\mathbf{{z}_{N}} \\right)} + k \\frac{\\partial}{\\partial \\mathbf{{y}_{N}}} A_{z}{\\left(\\mathbf{{x}_{N}},\\mathbf{{y}_{N}},\\mathbf{{z}_{N}} \\right)}\\right)\\mathbf{\\hat{i}_{N}} + \\left(k \\frac{\\partial}{\\partial \\mathbf{{z}_{N}}} A_{x}{\\left(\\mathbf{{x}_{N}},\\mathbf{{y}_{N}},\\mathbf{{z}_{N}} \\right)} - k \\frac{\\partial}{\\partial \\mathbf{{x}_{N}}} A_{z}{\\left(\\mathbf{{x}_{N}},\\mathbf{{y}_{N}},\\mathbf{{z}_{N}} \\right)}\\right)\\mathbf{\\hat{j}_{N}} + \\left(- k \\frac{\\partial}{\\partial \\mathbf{{y}_{N}}} A_{x}{\\left(\\mathbf{{x}_{N}},\\mathbf{{y}_{N}},\\mathbf{{z}_{N}} \\right)} + k \\frac{\\partial}{\\partial \\mathbf{{x}_{N}}} A_{y}{\\left(\\mathbf{{x}_{N}},\\mathbf{{y}_{N}},\\mathbf{{z}_{N}} \\right)}\\right)\\mathbf{\\hat{k}_{N}}$"
      ],
      "text/plain": [
       "(-k*Derivative(A_y(N.x, N.y, N.z), N.z) + k*Derivative(A_z(N.x, N.y, N.z), N.y))*N.i + (k*Derivative(A_x(N.x, N.y, N.z), N.z) - k*Derivative(A_z(N.x, N.y, N.z), N.x))*N.j + (-k*Derivative(A_x(N.x, N.y, N.z), N.y) + k*Derivative(A_y(N.x, N.y, N.z), N.x))*N.k"
      ]
     },
     "metadata": {},
     "output_type": "display_data"
    },
    {
     "name": "stdout",
     "output_type": "stream",
     "text": [
      "旋度 k ∇×A：\n"
     ]
    },
    {
     "data": {
      "text/latex": [
       "$\\displaystyle \\left(k \\left(- \\frac{\\partial}{\\partial \\mathbf{{z}_{N}}} A_{y}{\\left(\\mathbf{{x}_{N}},\\mathbf{{y}_{N}},\\mathbf{{z}_{N}} \\right)} + \\frac{\\partial}{\\partial \\mathbf{{y}_{N}}} A_{z}{\\left(\\mathbf{{x}_{N}},\\mathbf{{y}_{N}},\\mathbf{{z}_{N}} \\right)}\\right)\\right)\\mathbf{\\hat{i}_{N}} + \\left(k \\left(\\frac{\\partial}{\\partial \\mathbf{{z}_{N}}} A_{x}{\\left(\\mathbf{{x}_{N}},\\mathbf{{y}_{N}},\\mathbf{{z}_{N}} \\right)} - \\frac{\\partial}{\\partial \\mathbf{{x}_{N}}} A_{z}{\\left(\\mathbf{{x}_{N}},\\mathbf{{y}_{N}},\\mathbf{{z}_{N}} \\right)}\\right)\\right)\\mathbf{\\hat{j}_{N}} + \\left(k \\left(- \\frac{\\partial}{\\partial \\mathbf{{y}_{N}}} A_{x}{\\left(\\mathbf{{x}_{N}},\\mathbf{{y}_{N}},\\mathbf{{z}_{N}} \\right)} + \\frac{\\partial}{\\partial \\mathbf{{x}_{N}}} A_{y}{\\left(\\mathbf{{x}_{N}},\\mathbf{{y}_{N}},\\mathbf{{z}_{N}} \\right)}\\right)\\right)\\mathbf{\\hat{k}_{N}}$"
      ],
      "text/plain": [
       "(k*(-Derivative(A_y(N.x, N.y, N.z), N.z) + Derivative(A_z(N.x, N.y, N.z), N.y)))*N.i + (k*(Derivative(A_x(N.x, N.y, N.z), N.z) - Derivative(A_z(N.x, N.y, N.z), N.x)))*N.j + (k*(-Derivative(A_x(N.x, N.y, N.z), N.y) + Derivative(A_y(N.x, N.y, N.z), N.x)))*N.k"
      ]
     },
     "metadata": {},
     "output_type": "display_data"
    }
   ],
   "source": [
    "import sympy as sp\n",
    "from sympy.vector import CoordSys3D, curl\n",
    "from sympy import Function\n",
    "from IPython.display import display\n",
    "\n",
    "# 创建一个三维坐标系\n",
    "N = CoordSys3D('N')\n",
    "\n",
    "# 定义标量场 f 和向量场 A\n",
    "\n",
    "A_x, A_y, A_z = Function('A_x')(N.x, N.y, N.z), Function('A_y')(N.x, N.y, N.z), Function('A_z')(N.x, N.y, N.z)\n",
    "A = A_x*N.i + A_y*N.j + A_z*N.k  # 抽象向量场 A\n",
    "k = sp.symbols('k')\n",
    "print(\"向量场 A =\")\n",
    "display(A)\n",
    "\n",
    "# 旋度运算\n",
    "curl_kA = curl(k * A)\n",
    "curl_A =curl(A)\n",
    "\n",
    "print(\"旋度 ∇×(k A):\")\n",
    "display(curl_kA)\n",
    "print(\"旋度 k ∇×A：\")\n",
    "display(k * curl_A)"
   ]
  },
  {
   "cell_type": "markdown",
   "id": "e13cc84b-1c46-4deb-a3db-11fca129e05c",
   "metadata": {},
   "source": [
    "## 最重要的是验证六个积公式"
   ]
  },
  {
   "cell_type": "markdown",
   "id": "77101316-2de2-4a2d-87ec-219a45f7207f",
   "metadata": {},
   "source": [
    "### 梯度积公式"
   ]
  },
  {
   "cell_type": "code",
   "execution_count": 7,
   "id": "9eb4ee10-8091-430a-b716-15a0cd409dfa",
   "metadata": {},
   "outputs": [
    {
     "name": "stdout",
     "output_type": "stream",
     "text": [
      "标量场 f =\n"
     ]
    },
    {
     "data": {
      "text/latex": [
       "$\\displaystyle f{\\left(\\mathbf{{x}_{N}},\\mathbf{{y}_{N}},\\mathbf{{z}_{N}} \\right)}$"
      ],
      "text/plain": [
       "f(N.x, N.y, N.z)"
      ]
     },
     "metadata": {},
     "output_type": "display_data"
    },
    {
     "name": "stdout",
     "output_type": "stream",
     "text": [
      "标量场 g =\n"
     ]
    },
    {
     "data": {
      "text/latex": [
       "$\\displaystyle g{\\left(\\mathbf{{x}_{N}},\\mathbf{{y}_{N}},\\mathbf{{z}_{N}} \\right)}$"
      ],
      "text/plain": [
       "g(N.x, N.y, N.z)"
      ]
     },
     "metadata": {},
     "output_type": "display_data"
    },
    {
     "name": "stdout",
     "output_type": "stream",
     "text": [
      "梯度 ∇(fg):\n"
     ]
    },
    {
     "data": {
      "text/latex": [
       "$\\displaystyle \\left(f{\\left(\\mathbf{{x}_{N}},\\mathbf{{y}_{N}},\\mathbf{{z}_{N}} \\right)} \\frac{\\partial}{\\partial \\mathbf{{x}_{N}}} g{\\left(\\mathbf{{x}_{N}},\\mathbf{{y}_{N}},\\mathbf{{z}_{N}} \\right)} + g{\\left(\\mathbf{{x}_{N}},\\mathbf{{y}_{N}},\\mathbf{{z}_{N}} \\right)} \\frac{\\partial}{\\partial \\mathbf{{x}_{N}}} f{\\left(\\mathbf{{x}_{N}},\\mathbf{{y}_{N}},\\mathbf{{z}_{N}} \\right)}\\right)\\mathbf{\\hat{i}_{N}} + \\left(f{\\left(\\mathbf{{x}_{N}},\\mathbf{{y}_{N}},\\mathbf{{z}_{N}} \\right)} \\frac{\\partial}{\\partial \\mathbf{{y}_{N}}} g{\\left(\\mathbf{{x}_{N}},\\mathbf{{y}_{N}},\\mathbf{{z}_{N}} \\right)} + g{\\left(\\mathbf{{x}_{N}},\\mathbf{{y}_{N}},\\mathbf{{z}_{N}} \\right)} \\frac{\\partial}{\\partial \\mathbf{{y}_{N}}} f{\\left(\\mathbf{{x}_{N}},\\mathbf{{y}_{N}},\\mathbf{{z}_{N}} \\right)}\\right)\\mathbf{\\hat{j}_{N}} + \\left(f{\\left(\\mathbf{{x}_{N}},\\mathbf{{y}_{N}},\\mathbf{{z}_{N}} \\right)} \\frac{\\partial}{\\partial \\mathbf{{z}_{N}}} g{\\left(\\mathbf{{x}_{N}},\\mathbf{{y}_{N}},\\mathbf{{z}_{N}} \\right)} + g{\\left(\\mathbf{{x}_{N}},\\mathbf{{y}_{N}},\\mathbf{{z}_{N}} \\right)} \\frac{\\partial}{\\partial \\mathbf{{z}_{N}}} f{\\left(\\mathbf{{x}_{N}},\\mathbf{{y}_{N}},\\mathbf{{z}_{N}} \\right)}\\right)\\mathbf{\\hat{k}_{N}}$"
      ],
      "text/plain": [
       "(f(N.x, N.y, N.z)*Derivative(g(N.x, N.y, N.z), N.x) + g(N.x, N.y, N.z)*Derivative(f(N.x, N.y, N.z), N.x))*N.i + (f(N.x, N.y, N.z)*Derivative(g(N.x, N.y, N.z), N.y) + g(N.x, N.y, N.z)*Derivative(f(N.x, N.y, N.z), N.y))*N.j + (f(N.x, N.y, N.z)*Derivative(g(N.x, N.y, N.z), N.z) + g(N.x, N.y, N.z)*Derivative(f(N.x, N.y, N.z), N.z))*N.k"
      ]
     },
     "metadata": {},
     "output_type": "display_data"
    },
    {
     "name": "stdout",
     "output_type": "stream",
     "text": [
      "梯度 f∇(g) + g∇(f)：\n"
     ]
    },
    {
     "data": {
      "text/latex": [
       "$\\displaystyle \\left(f{\\left(\\mathbf{{x}_{N}},\\mathbf{{y}_{N}},\\mathbf{{z}_{N}} \\right)} \\frac{\\partial}{\\partial \\mathbf{{x}_{N}}} g{\\left(\\mathbf{{x}_{N}},\\mathbf{{y}_{N}},\\mathbf{{z}_{N}} \\right)} + g{\\left(\\mathbf{{x}_{N}},\\mathbf{{y}_{N}},\\mathbf{{z}_{N}} \\right)} \\frac{\\partial}{\\partial \\mathbf{{x}_{N}}} f{\\left(\\mathbf{{x}_{N}},\\mathbf{{y}_{N}},\\mathbf{{z}_{N}} \\right)}\\right)\\mathbf{\\hat{i}_{N}} + \\left(f{\\left(\\mathbf{{x}_{N}},\\mathbf{{y}_{N}},\\mathbf{{z}_{N}} \\right)} \\frac{\\partial}{\\partial \\mathbf{{y}_{N}}} g{\\left(\\mathbf{{x}_{N}},\\mathbf{{y}_{N}},\\mathbf{{z}_{N}} \\right)} + g{\\left(\\mathbf{{x}_{N}},\\mathbf{{y}_{N}},\\mathbf{{z}_{N}} \\right)} \\frac{\\partial}{\\partial \\mathbf{{y}_{N}}} f{\\left(\\mathbf{{x}_{N}},\\mathbf{{y}_{N}},\\mathbf{{z}_{N}} \\right)}\\right)\\mathbf{\\hat{j}_{N}} + \\left(f{\\left(\\mathbf{{x}_{N}},\\mathbf{{y}_{N}},\\mathbf{{z}_{N}} \\right)} \\frac{\\partial}{\\partial \\mathbf{{z}_{N}}} g{\\left(\\mathbf{{x}_{N}},\\mathbf{{y}_{N}},\\mathbf{{z}_{N}} \\right)} + g{\\left(\\mathbf{{x}_{N}},\\mathbf{{y}_{N}},\\mathbf{{z}_{N}} \\right)} \\frac{\\partial}{\\partial \\mathbf{{z}_{N}}} f{\\left(\\mathbf{{x}_{N}},\\mathbf{{y}_{N}},\\mathbf{{z}_{N}} \\right)}\\right)\\mathbf{\\hat{k}_{N}}$"
      ],
      "text/plain": [
       "(f(N.x, N.y, N.z)*Derivative(g(N.x, N.y, N.z), N.x) + g(N.x, N.y, N.z)*Derivative(f(N.x, N.y, N.z), N.x))*N.i + (f(N.x, N.y, N.z)*Derivative(g(N.x, N.y, N.z), N.y) + g(N.x, N.y, N.z)*Derivative(f(N.x, N.y, N.z), N.y))*N.j + (f(N.x, N.y, N.z)*Derivative(g(N.x, N.y, N.z), N.z) + g(N.x, N.y, N.z)*Derivative(f(N.x, N.y, N.z), N.z))*N.k"
      ]
     },
     "metadata": {},
     "output_type": "display_data"
    }
   ],
   "source": [
    "import sympy as sp\n",
    "from sympy.vector import CoordSys3D, gradient, divergence, curl\n",
    "from sympy import Function\n",
    "from IPython.display import display\n",
    "\n",
    "# 创建一个三维坐标系\n",
    "N = CoordSys3D('N')\n",
    "\n",
    "# 定义标量场 f 和向量场 A\n",
    "f = Function('f')(N.x, N.y, N.z)  # 抽象标量场 f\n",
    "g = Function('g')(N.x, N.y, N.z)  # 抽象标量场 g\n",
    "print(\"标量场 f =\")\n",
    "display(f)\n",
    "print(\"标量场 g =\")\n",
    "display(g)\n",
    "\n",
    "# 梯度运算\n",
    "grad_fg = gradient(f * g)\n",
    "grad_f = gradient(f)\n",
    "grad_g = gradient(g)\n",
    "\n",
    "result = sp.simplify(sp.expand( grad_fg - f * grad_g - grad_f * g))\n",
    "\n",
    "print(\"梯度 ∇(fg):\")\n",
    "display(grad_fg)\n",
    "print(\"梯度 f∇(g) + g∇(f)：\")\n",
    "display(f * grad_g + grad_f * g)"
   ]
  },
  {
   "cell_type": "code",
   "execution_count": 17,
   "id": "cefcddfa-f27b-4252-b07b-79489c15e3fc",
   "metadata": {},
   "outputs": [
    {
     "name": "stdout",
     "output_type": "stream",
     "text": [
      "抽象向量场 A =\n"
     ]
    },
    {
     "data": {
      "text/latex": [
       "$\\displaystyle \\left(A_{x}{\\left(\\mathbf{{x}_{N}},\\mathbf{{y}_{N}},\\mathbf{{z}_{N}} \\right)}\\right)\\mathbf{\\hat{i}_{N}} + \\left(A_{y}{\\left(\\mathbf{{x}_{N}},\\mathbf{{y}_{N}},\\mathbf{{z}_{N}} \\right)}\\right)\\mathbf{\\hat{j}_{N}} + \\left(A_{z}{\\left(\\mathbf{{x}_{N}},\\mathbf{{y}_{N}},\\mathbf{{z}_{N}} \\right)}\\right)\\mathbf{\\hat{k}_{N}}$"
      ],
      "text/plain": [
       "(A_x(N.x, N.y, N.z))*N.i + (A_y(N.x, N.y, N.z))*N.j + (A_z(N.x, N.y, N.z))*N.k"
      ]
     },
     "metadata": {},
     "output_type": "display_data"
    },
    {
     "name": "stdout",
     "output_type": "stream",
     "text": [
      "抽象向量场 B =\n"
     ]
    },
    {
     "data": {
      "text/latex": [
       "$\\displaystyle \\left(B_{x}{\\left(\\mathbf{{x}_{N}},\\mathbf{{y}_{N}},\\mathbf{{z}_{N}} \\right)}\\right)\\mathbf{\\hat{i}_{N}} + \\left(B_{y}{\\left(\\mathbf{{x}_{N}},\\mathbf{{y}_{N}},\\mathbf{{z}_{N}} \\right)}\\right)\\mathbf{\\hat{j}_{N}} + \\left(B_{z}{\\left(\\mathbf{{x}_{N}},\\mathbf{{y}_{N}},\\mathbf{{z}_{N}} \\right)}\\right)\\mathbf{\\hat{k}_{N}}$"
      ],
      "text/plain": [
       "(B_x(N.x, N.y, N.z))*N.i + (B_y(N.x, N.y, N.z))*N.j + (B_z(N.x, N.y, N.z))*N.k"
      ]
     },
     "metadata": {},
     "output_type": "display_data"
    },
    {
     "name": "stdout",
     "output_type": "stream",
     "text": [
      "梯度 ∇(A ·B):\n"
     ]
    },
    {
     "data": {
      "text/latex": [
       "$\\displaystyle \\left(A_{x}{\\left(\\mathbf{{x}_{N}},\\mathbf{{y}_{N}},\\mathbf{{z}_{N}} \\right)} \\frac{\\partial}{\\partial \\mathbf{{x}_{N}}} B_{x}{\\left(\\mathbf{{x}_{N}},\\mathbf{{y}_{N}},\\mathbf{{z}_{N}} \\right)} + A_{y}{\\left(\\mathbf{{x}_{N}},\\mathbf{{y}_{N}},\\mathbf{{z}_{N}} \\right)} \\frac{\\partial}{\\partial \\mathbf{{x}_{N}}} B_{y}{\\left(\\mathbf{{x}_{N}},\\mathbf{{y}_{N}},\\mathbf{{z}_{N}} \\right)} + A_{z}{\\left(\\mathbf{{x}_{N}},\\mathbf{{y}_{N}},\\mathbf{{z}_{N}} \\right)} \\frac{\\partial}{\\partial \\mathbf{{x}_{N}}} B_{z}{\\left(\\mathbf{{x}_{N}},\\mathbf{{y}_{N}},\\mathbf{{z}_{N}} \\right)} + B_{x}{\\left(\\mathbf{{x}_{N}},\\mathbf{{y}_{N}},\\mathbf{{z}_{N}} \\right)} \\frac{\\partial}{\\partial \\mathbf{{x}_{N}}} A_{x}{\\left(\\mathbf{{x}_{N}},\\mathbf{{y}_{N}},\\mathbf{{z}_{N}} \\right)} + B_{y}{\\left(\\mathbf{{x}_{N}},\\mathbf{{y}_{N}},\\mathbf{{z}_{N}} \\right)} \\frac{\\partial}{\\partial \\mathbf{{x}_{N}}} A_{y}{\\left(\\mathbf{{x}_{N}},\\mathbf{{y}_{N}},\\mathbf{{z}_{N}} \\right)} + B_{z}{\\left(\\mathbf{{x}_{N}},\\mathbf{{y}_{N}},\\mathbf{{z}_{N}} \\right)} \\frac{\\partial}{\\partial \\mathbf{{x}_{N}}} A_{z}{\\left(\\mathbf{{x}_{N}},\\mathbf{{y}_{N}},\\mathbf{{z}_{N}} \\right)}\\right)\\mathbf{\\hat{i}_{N}} + \\left(A_{x}{\\left(\\mathbf{{x}_{N}},\\mathbf{{y}_{N}},\\mathbf{{z}_{N}} \\right)} \\frac{\\partial}{\\partial \\mathbf{{y}_{N}}} B_{x}{\\left(\\mathbf{{x}_{N}},\\mathbf{{y}_{N}},\\mathbf{{z}_{N}} \\right)} + A_{y}{\\left(\\mathbf{{x}_{N}},\\mathbf{{y}_{N}},\\mathbf{{z}_{N}} \\right)} \\frac{\\partial}{\\partial \\mathbf{{y}_{N}}} B_{y}{\\left(\\mathbf{{x}_{N}},\\mathbf{{y}_{N}},\\mathbf{{z}_{N}} \\right)} + A_{z}{\\left(\\mathbf{{x}_{N}},\\mathbf{{y}_{N}},\\mathbf{{z}_{N}} \\right)} \\frac{\\partial}{\\partial \\mathbf{{y}_{N}}} B_{z}{\\left(\\mathbf{{x}_{N}},\\mathbf{{y}_{N}},\\mathbf{{z}_{N}} \\right)} + B_{x}{\\left(\\mathbf{{x}_{N}},\\mathbf{{y}_{N}},\\mathbf{{z}_{N}} \\right)} \\frac{\\partial}{\\partial \\mathbf{{y}_{N}}} A_{x}{\\left(\\mathbf{{x}_{N}},\\mathbf{{y}_{N}},\\mathbf{{z}_{N}} \\right)} + B_{y}{\\left(\\mathbf{{x}_{N}},\\mathbf{{y}_{N}},\\mathbf{{z}_{N}} \\right)} \\frac{\\partial}{\\partial \\mathbf{{y}_{N}}} A_{y}{\\left(\\mathbf{{x}_{N}},\\mathbf{{y}_{N}},\\mathbf{{z}_{N}} \\right)} + B_{z}{\\left(\\mathbf{{x}_{N}},\\mathbf{{y}_{N}},\\mathbf{{z}_{N}} \\right)} \\frac{\\partial}{\\partial \\mathbf{{y}_{N}}} A_{z}{\\left(\\mathbf{{x}_{N}},\\mathbf{{y}_{N}},\\mathbf{{z}_{N}} \\right)}\\right)\\mathbf{\\hat{j}_{N}} + \\left(A_{x}{\\left(\\mathbf{{x}_{N}},\\mathbf{{y}_{N}},\\mathbf{{z}_{N}} \\right)} \\frac{\\partial}{\\partial \\mathbf{{z}_{N}}} B_{x}{\\left(\\mathbf{{x}_{N}},\\mathbf{{y}_{N}},\\mathbf{{z}_{N}} \\right)} + A_{y}{\\left(\\mathbf{{x}_{N}},\\mathbf{{y}_{N}},\\mathbf{{z}_{N}} \\right)} \\frac{\\partial}{\\partial \\mathbf{{z}_{N}}} B_{y}{\\left(\\mathbf{{x}_{N}},\\mathbf{{y}_{N}},\\mathbf{{z}_{N}} \\right)} + A_{z}{\\left(\\mathbf{{x}_{N}},\\mathbf{{y}_{N}},\\mathbf{{z}_{N}} \\right)} \\frac{\\partial}{\\partial \\mathbf{{z}_{N}}} B_{z}{\\left(\\mathbf{{x}_{N}},\\mathbf{{y}_{N}},\\mathbf{{z}_{N}} \\right)} + B_{x}{\\left(\\mathbf{{x}_{N}},\\mathbf{{y}_{N}},\\mathbf{{z}_{N}} \\right)} \\frac{\\partial}{\\partial \\mathbf{{z}_{N}}} A_{x}{\\left(\\mathbf{{x}_{N}},\\mathbf{{y}_{N}},\\mathbf{{z}_{N}} \\right)} + B_{y}{\\left(\\mathbf{{x}_{N}},\\mathbf{{y}_{N}},\\mathbf{{z}_{N}} \\right)} \\frac{\\partial}{\\partial \\mathbf{{z}_{N}}} A_{y}{\\left(\\mathbf{{x}_{N}},\\mathbf{{y}_{N}},\\mathbf{{z}_{N}} \\right)} + B_{z}{\\left(\\mathbf{{x}_{N}},\\mathbf{{y}_{N}},\\mathbf{{z}_{N}} \\right)} \\frac{\\partial}{\\partial \\mathbf{{z}_{N}}} A_{z}{\\left(\\mathbf{{x}_{N}},\\mathbf{{y}_{N}},\\mathbf{{z}_{N}} \\right)}\\right)\\mathbf{\\hat{k}_{N}}$"
      ],
      "text/plain": [
       "(A_x(N.x, N.y, N.z)*Derivative(B_x(N.x, N.y, N.z), N.x) + A_y(N.x, N.y, N.z)*Derivative(B_y(N.x, N.y, N.z), N.x) + A_z(N.x, N.y, N.z)*Derivative(B_z(N.x, N.y, N.z), N.x) + B_x(N.x, N.y, N.z)*Derivative(A_x(N.x, N.y, N.z), N.x) + B_y(N.x, N.y, N.z)*Derivative(A_y(N.x, N.y, N.z), N.x) + B_z(N.x, N.y, N.z)*Derivative(A_z(N.x, N.y, N.z), N.x))*N.i + (A_x(N.x, N.y, N.z)*Derivative(B_x(N.x, N.y, N.z), N.y) + A_y(N.x, N.y, N.z)*Derivative(B_y(N.x, N.y, N.z), N.y) + A_z(N.x, N.y, N.z)*Derivative(B_z(N.x, N.y, N.z), N.y) + B_x(N.x, N.y, N.z)*Derivative(A_x(N.x, N.y, N.z), N.y) + B_y(N.x, N.y, N.z)*Derivative(A_y(N.x, N.y, N.z), N.y) + B_z(N.x, N.y, N.z)*Derivative(A_z(N.x, N.y, N.z), N.y))*N.j + (A_x(N.x, N.y, N.z)*Derivative(B_x(N.x, N.y, N.z), N.z) + A_y(N.x, N.y, N.z)*Derivative(B_y(N.x, N.y, N.z), N.z) + A_z(N.x, N.y, N.z)*Derivative(B_z(N.x, N.y, N.z), N.z) + B_x(N.x, N.y, N.z)*Derivative(A_x(N.x, N.y, N.z), N.z) + B_y(N.x, N.y, N.z)*Derivative(A_y(N.x, N.y, N.z), N.z) + B_z(N.x, N.y, N.z)*Derivative(A_z(N.x, N.y, N.z), N.z))*N.k"
      ]
     },
     "metadata": {},
     "output_type": "display_data"
    }
   ],
   "source": [
    "import sympy as sp\n",
    "from sympy.vector import CoordSys3D, gradient, divergence, curl\n",
    "from sympy import Function\n",
    "from IPython.display import display\n",
    "\n",
    "# 创建一个三维坐标系\n",
    "N = CoordSys3D('N')\n",
    "\n",
    "# 定义向量场 A, B\n",
    "A_x, A_y, A_z = Function('A_x')(N.x, N.y, N.z), Function('A_y')(N.x, N.y, N.z), Function('A_z')(N.x, N.y, N.z)\n",
    "A = A_x*N.i + A_y*N.j + A_z*N.k  # 抽象向量场 A\n",
    "B_x, B_y, B_z = Function('B_x')(N.x, N.y, N.z), Function('B_y')(N.x, N.y, N.z), Function('B_z')(N.x, N.y, N.z)\n",
    "B = B_x*N.i + B_y*N.j + B_z*N.k  # 抽象向量场 B\n",
    "print(\"抽象向量场 A =\")\n",
    "display(A)\n",
    "print(\"抽象向量场 B =\")\n",
    "display(B)\n",
    "\n",
    "# 点乘的梯度\n",
    "grad_AB = gradient(A & B)\n",
    "\n",
    "print(\"梯度 ∇(A ·B):\")\n",
    "display(grad_AB)"
   ]
  },
  {
   "cell_type": "markdown",
   "id": "837f0f9b-0046-4b50-8afd-ef2b5181d3ba",
   "metadata": {},
   "source": [
    "我们可以看到两个向量的点积的梯度各分量的形式是非常简单的"
   ]
  },
  {
   "cell_type": "code",
   "execution_count": 25,
   "id": "39f879dc-7557-4c94-8d98-48c58dbce0c5",
   "metadata": {},
   "outputs": [
    {
     "name": "stdout",
     "output_type": "stream",
     "text": [
      "右式固定A的第一项：\n"
     ]
    },
    {
     "data": {
      "text/latex": [
       "$\\displaystyle \\left(\\left(- \\frac{\\partial}{\\partial \\mathbf{{y}_{N}}} B_{x}{\\left(\\mathbf{{x}_{N}},\\mathbf{{y}_{N}},\\mathbf{{z}_{N}} \\right)} + \\frac{\\partial}{\\partial \\mathbf{{x}_{N}}} B_{y}{\\left(\\mathbf{{x}_{N}},\\mathbf{{y}_{N}},\\mathbf{{z}_{N}} \\right)}\\right) A_{y}{\\left(\\mathbf{{x}_{N}},\\mathbf{{y}_{N}},\\mathbf{{z}_{N}} \\right)} + \\left(- \\frac{\\partial}{\\partial \\mathbf{{z}_{N}}} B_{x}{\\left(\\mathbf{{x}_{N}},\\mathbf{{y}_{N}},\\mathbf{{z}_{N}} \\right)} + \\frac{\\partial}{\\partial \\mathbf{{x}_{N}}} B_{z}{\\left(\\mathbf{{x}_{N}},\\mathbf{{y}_{N}},\\mathbf{{z}_{N}} \\right)}\\right) A_{z}{\\left(\\mathbf{{x}_{N}},\\mathbf{{y}_{N}},\\mathbf{{z}_{N}} \\right)}\\right)\\mathbf{\\hat{i}_{N}} + \\left(\\left(\\frac{\\partial}{\\partial \\mathbf{{y}_{N}}} B_{x}{\\left(\\mathbf{{x}_{N}},\\mathbf{{y}_{N}},\\mathbf{{z}_{N}} \\right)} - \\frac{\\partial}{\\partial \\mathbf{{x}_{N}}} B_{y}{\\left(\\mathbf{{x}_{N}},\\mathbf{{y}_{N}},\\mathbf{{z}_{N}} \\right)}\\right) A_{x}{\\left(\\mathbf{{x}_{N}},\\mathbf{{y}_{N}},\\mathbf{{z}_{N}} \\right)} + \\left(- \\frac{\\partial}{\\partial \\mathbf{{z}_{N}}} B_{y}{\\left(\\mathbf{{x}_{N}},\\mathbf{{y}_{N}},\\mathbf{{z}_{N}} \\right)} + \\frac{\\partial}{\\partial \\mathbf{{y}_{N}}} B_{z}{\\left(\\mathbf{{x}_{N}},\\mathbf{{y}_{N}},\\mathbf{{z}_{N}} \\right)}\\right) A_{z}{\\left(\\mathbf{{x}_{N}},\\mathbf{{y}_{N}},\\mathbf{{z}_{N}} \\right)}\\right)\\mathbf{\\hat{j}_{N}} + \\left(\\left(\\frac{\\partial}{\\partial \\mathbf{{z}_{N}}} B_{x}{\\left(\\mathbf{{x}_{N}},\\mathbf{{y}_{N}},\\mathbf{{z}_{N}} \\right)} - \\frac{\\partial}{\\partial \\mathbf{{x}_{N}}} B_{z}{\\left(\\mathbf{{x}_{N}},\\mathbf{{y}_{N}},\\mathbf{{z}_{N}} \\right)}\\right) A_{x}{\\left(\\mathbf{{x}_{N}},\\mathbf{{y}_{N}},\\mathbf{{z}_{N}} \\right)} + \\left(\\frac{\\partial}{\\partial \\mathbf{{z}_{N}}} B_{y}{\\left(\\mathbf{{x}_{N}},\\mathbf{{y}_{N}},\\mathbf{{z}_{N}} \\right)} - \\frac{\\partial}{\\partial \\mathbf{{y}_{N}}} B_{z}{\\left(\\mathbf{{x}_{N}},\\mathbf{{y}_{N}},\\mathbf{{z}_{N}} \\right)}\\right) A_{y}{\\left(\\mathbf{{x}_{N}},\\mathbf{{y}_{N}},\\mathbf{{z}_{N}} \\right)}\\right)\\mathbf{\\hat{k}_{N}}$"
      ],
      "text/plain": [
       "((-Derivative(B_x(N.x, N.y, N.z), N.y) + Derivative(B_y(N.x, N.y, N.z), N.x))*A_y(N.x, N.y, N.z) + (-Derivative(B_x(N.x, N.y, N.z), N.z) + Derivative(B_z(N.x, N.y, N.z), N.x))*A_z(N.x, N.y, N.z))*N.i + ((Derivative(B_x(N.x, N.y, N.z), N.y) - Derivative(B_y(N.x, N.y, N.z), N.x))*A_x(N.x, N.y, N.z) + (-Derivative(B_y(N.x, N.y, N.z), N.z) + Derivative(B_z(N.x, N.y, N.z), N.y))*A_z(N.x, N.y, N.z))*N.j + ((Derivative(B_x(N.x, N.y, N.z), N.z) - Derivative(B_z(N.x, N.y, N.z), N.x))*A_x(N.x, N.y, N.z) + (Derivative(B_y(N.x, N.y, N.z), N.z) - Derivative(B_z(N.x, N.y, N.z), N.y))*A_y(N.x, N.y, N.z))*N.k"
      ]
     },
     "metadata": {},
     "output_type": "display_data"
    },
    {
     "name": "stdout",
     "output_type": "stream",
     "text": [
      "右式固定B的第一项：\n"
     ]
    },
    {
     "data": {
      "text/latex": [
       "$\\displaystyle \\left(\\left(- \\frac{\\partial}{\\partial \\mathbf{{y}_{N}}} A_{x}{\\left(\\mathbf{{x}_{N}},\\mathbf{{y}_{N}},\\mathbf{{z}_{N}} \\right)} + \\frac{\\partial}{\\partial \\mathbf{{x}_{N}}} A_{y}{\\left(\\mathbf{{x}_{N}},\\mathbf{{y}_{N}},\\mathbf{{z}_{N}} \\right)}\\right) B_{y}{\\left(\\mathbf{{x}_{N}},\\mathbf{{y}_{N}},\\mathbf{{z}_{N}} \\right)} + \\left(- \\frac{\\partial}{\\partial \\mathbf{{z}_{N}}} A_{x}{\\left(\\mathbf{{x}_{N}},\\mathbf{{y}_{N}},\\mathbf{{z}_{N}} \\right)} + \\frac{\\partial}{\\partial \\mathbf{{x}_{N}}} A_{z}{\\left(\\mathbf{{x}_{N}},\\mathbf{{y}_{N}},\\mathbf{{z}_{N}} \\right)}\\right) B_{z}{\\left(\\mathbf{{x}_{N}},\\mathbf{{y}_{N}},\\mathbf{{z}_{N}} \\right)}\\right)\\mathbf{\\hat{i}_{N}} + \\left(\\left(\\frac{\\partial}{\\partial \\mathbf{{y}_{N}}} A_{x}{\\left(\\mathbf{{x}_{N}},\\mathbf{{y}_{N}},\\mathbf{{z}_{N}} \\right)} - \\frac{\\partial}{\\partial \\mathbf{{x}_{N}}} A_{y}{\\left(\\mathbf{{x}_{N}},\\mathbf{{y}_{N}},\\mathbf{{z}_{N}} \\right)}\\right) B_{x}{\\left(\\mathbf{{x}_{N}},\\mathbf{{y}_{N}},\\mathbf{{z}_{N}} \\right)} + \\left(- \\frac{\\partial}{\\partial \\mathbf{{z}_{N}}} A_{y}{\\left(\\mathbf{{x}_{N}},\\mathbf{{y}_{N}},\\mathbf{{z}_{N}} \\right)} + \\frac{\\partial}{\\partial \\mathbf{{y}_{N}}} A_{z}{\\left(\\mathbf{{x}_{N}},\\mathbf{{y}_{N}},\\mathbf{{z}_{N}} \\right)}\\right) B_{z}{\\left(\\mathbf{{x}_{N}},\\mathbf{{y}_{N}},\\mathbf{{z}_{N}} \\right)}\\right)\\mathbf{\\hat{j}_{N}} + \\left(\\left(\\frac{\\partial}{\\partial \\mathbf{{z}_{N}}} A_{x}{\\left(\\mathbf{{x}_{N}},\\mathbf{{y}_{N}},\\mathbf{{z}_{N}} \\right)} - \\frac{\\partial}{\\partial \\mathbf{{x}_{N}}} A_{z}{\\left(\\mathbf{{x}_{N}},\\mathbf{{y}_{N}},\\mathbf{{z}_{N}} \\right)}\\right) B_{x}{\\left(\\mathbf{{x}_{N}},\\mathbf{{y}_{N}},\\mathbf{{z}_{N}} \\right)} + \\left(\\frac{\\partial}{\\partial \\mathbf{{z}_{N}}} A_{y}{\\left(\\mathbf{{x}_{N}},\\mathbf{{y}_{N}},\\mathbf{{z}_{N}} \\right)} - \\frac{\\partial}{\\partial \\mathbf{{y}_{N}}} A_{z}{\\left(\\mathbf{{x}_{N}},\\mathbf{{y}_{N}},\\mathbf{{z}_{N}} \\right)}\\right) B_{y}{\\left(\\mathbf{{x}_{N}},\\mathbf{{y}_{N}},\\mathbf{{z}_{N}} \\right)}\\right)\\mathbf{\\hat{k}_{N}}$"
      ],
      "text/plain": [
       "((-Derivative(A_x(N.x, N.y, N.z), N.y) + Derivative(A_y(N.x, N.y, N.z), N.x))*B_y(N.x, N.y, N.z) + (-Derivative(A_x(N.x, N.y, N.z), N.z) + Derivative(A_z(N.x, N.y, N.z), N.x))*B_z(N.x, N.y, N.z))*N.i + ((Derivative(A_x(N.x, N.y, N.z), N.y) - Derivative(A_y(N.x, N.y, N.z), N.x))*B_x(N.x, N.y, N.z) + (-Derivative(A_y(N.x, N.y, N.z), N.z) + Derivative(A_z(N.x, N.y, N.z), N.y))*B_z(N.x, N.y, N.z))*N.j + ((Derivative(A_x(N.x, N.y, N.z), N.z) - Derivative(A_z(N.x, N.y, N.z), N.x))*B_x(N.x, N.y, N.z) + (Derivative(A_y(N.x, N.y, N.z), N.z) - Derivative(A_z(N.x, N.y, N.z), N.y))*B_y(N.x, N.y, N.z))*N.k"
      ]
     },
     "metadata": {},
     "output_type": "display_data"
    },
    {
     "name": "stdout",
     "output_type": "stream",
     "text": [
      "右式固定A的第二项：\n"
     ]
    },
    {
     "data": {
      "text/latex": [
       "$\\displaystyle \\left(A_{x}{\\left(\\mathbf{{x}_{N}},\\mathbf{{y}_{N}},\\mathbf{{z}_{N}} \\right)} \\frac{\\partial}{\\partial \\mathbf{{x}_{N}}} B_{x}{\\left(\\mathbf{{x}_{N}},\\mathbf{{y}_{N}},\\mathbf{{z}_{N}} \\right)} + A_{y}{\\left(\\mathbf{{x}_{N}},\\mathbf{{y}_{N}},\\mathbf{{z}_{N}} \\right)} \\frac{\\partial}{\\partial \\mathbf{{y}_{N}}} B_{x}{\\left(\\mathbf{{x}_{N}},\\mathbf{{y}_{N}},\\mathbf{{z}_{N}} \\right)} + A_{z}{\\left(\\mathbf{{x}_{N}},\\mathbf{{y}_{N}},\\mathbf{{z}_{N}} \\right)} \\frac{\\partial}{\\partial \\mathbf{{z}_{N}}} B_{x}{\\left(\\mathbf{{x}_{N}},\\mathbf{{y}_{N}},\\mathbf{{z}_{N}} \\right)}\\right)\\mathbf{\\hat{i}_{N}} + \\left(A_{x}{\\left(\\mathbf{{x}_{N}},\\mathbf{{y}_{N}},\\mathbf{{z}_{N}} \\right)} \\frac{\\partial}{\\partial \\mathbf{{x}_{N}}} B_{y}{\\left(\\mathbf{{x}_{N}},\\mathbf{{y}_{N}},\\mathbf{{z}_{N}} \\right)} + A_{y}{\\left(\\mathbf{{x}_{N}},\\mathbf{{y}_{N}},\\mathbf{{z}_{N}} \\right)} \\frac{\\partial}{\\partial \\mathbf{{y}_{N}}} B_{y}{\\left(\\mathbf{{x}_{N}},\\mathbf{{y}_{N}},\\mathbf{{z}_{N}} \\right)} + A_{z}{\\left(\\mathbf{{x}_{N}},\\mathbf{{y}_{N}},\\mathbf{{z}_{N}} \\right)} \\frac{\\partial}{\\partial \\mathbf{{z}_{N}}} B_{y}{\\left(\\mathbf{{x}_{N}},\\mathbf{{y}_{N}},\\mathbf{{z}_{N}} \\right)}\\right)\\mathbf{\\hat{j}_{N}} + \\left(A_{x}{\\left(\\mathbf{{x}_{N}},\\mathbf{{y}_{N}},\\mathbf{{z}_{N}} \\right)} \\frac{\\partial}{\\partial \\mathbf{{x}_{N}}} B_{z}{\\left(\\mathbf{{x}_{N}},\\mathbf{{y}_{N}},\\mathbf{{z}_{N}} \\right)} + A_{y}{\\left(\\mathbf{{x}_{N}},\\mathbf{{y}_{N}},\\mathbf{{z}_{N}} \\right)} \\frac{\\partial}{\\partial \\mathbf{{y}_{N}}} B_{z}{\\left(\\mathbf{{x}_{N}},\\mathbf{{y}_{N}},\\mathbf{{z}_{N}} \\right)} + A_{z}{\\left(\\mathbf{{x}_{N}},\\mathbf{{y}_{N}},\\mathbf{{z}_{N}} \\right)} \\frac{\\partial}{\\partial \\mathbf{{z}_{N}}} B_{z}{\\left(\\mathbf{{x}_{N}},\\mathbf{{y}_{N}},\\mathbf{{z}_{N}} \\right)}\\right)\\mathbf{\\hat{k}_{N}}$"
      ],
      "text/plain": [
       "(A_x(N.x, N.y, N.z)*Derivative(B_x(N.x, N.y, N.z), N.x) + A_y(N.x, N.y, N.z)*Derivative(B_x(N.x, N.y, N.z), N.y) + A_z(N.x, N.y, N.z)*Derivative(B_x(N.x, N.y, N.z), N.z))*N.i + (A_x(N.x, N.y, N.z)*Derivative(B_y(N.x, N.y, N.z), N.x) + A_y(N.x, N.y, N.z)*Derivative(B_y(N.x, N.y, N.z), N.y) + A_z(N.x, N.y, N.z)*Derivative(B_y(N.x, N.y, N.z), N.z))*N.j + (A_x(N.x, N.y, N.z)*Derivative(B_z(N.x, N.y, N.z), N.x) + A_y(N.x, N.y, N.z)*Derivative(B_z(N.x, N.y, N.z), N.y) + A_z(N.x, N.y, N.z)*Derivative(B_z(N.x, N.y, N.z), N.z))*N.k"
      ]
     },
     "metadata": {},
     "output_type": "display_data"
    },
    {
     "name": "stdout",
     "output_type": "stream",
     "text": [
      "右式固定B的第二项：\n"
     ]
    },
    {
     "data": {
      "text/latex": [
       "$\\displaystyle \\left(B_{x}{\\left(\\mathbf{{x}_{N}},\\mathbf{{y}_{N}},\\mathbf{{z}_{N}} \\right)} \\frac{\\partial}{\\partial \\mathbf{{x}_{N}}} A_{x}{\\left(\\mathbf{{x}_{N}},\\mathbf{{y}_{N}},\\mathbf{{z}_{N}} \\right)} + B_{y}{\\left(\\mathbf{{x}_{N}},\\mathbf{{y}_{N}},\\mathbf{{z}_{N}} \\right)} \\frac{\\partial}{\\partial \\mathbf{{y}_{N}}} A_{x}{\\left(\\mathbf{{x}_{N}},\\mathbf{{y}_{N}},\\mathbf{{z}_{N}} \\right)} + B_{z}{\\left(\\mathbf{{x}_{N}},\\mathbf{{y}_{N}},\\mathbf{{z}_{N}} \\right)} \\frac{\\partial}{\\partial \\mathbf{{z}_{N}}} A_{x}{\\left(\\mathbf{{x}_{N}},\\mathbf{{y}_{N}},\\mathbf{{z}_{N}} \\right)}\\right)\\mathbf{\\hat{i}_{N}} + \\left(B_{x}{\\left(\\mathbf{{x}_{N}},\\mathbf{{y}_{N}},\\mathbf{{z}_{N}} \\right)} \\frac{\\partial}{\\partial \\mathbf{{x}_{N}}} A_{y}{\\left(\\mathbf{{x}_{N}},\\mathbf{{y}_{N}},\\mathbf{{z}_{N}} \\right)} + B_{y}{\\left(\\mathbf{{x}_{N}},\\mathbf{{y}_{N}},\\mathbf{{z}_{N}} \\right)} \\frac{\\partial}{\\partial \\mathbf{{y}_{N}}} A_{y}{\\left(\\mathbf{{x}_{N}},\\mathbf{{y}_{N}},\\mathbf{{z}_{N}} \\right)} + B_{z}{\\left(\\mathbf{{x}_{N}},\\mathbf{{y}_{N}},\\mathbf{{z}_{N}} \\right)} \\frac{\\partial}{\\partial \\mathbf{{z}_{N}}} A_{y}{\\left(\\mathbf{{x}_{N}},\\mathbf{{y}_{N}},\\mathbf{{z}_{N}} \\right)}\\right)\\mathbf{\\hat{j}_{N}} + \\left(B_{x}{\\left(\\mathbf{{x}_{N}},\\mathbf{{y}_{N}},\\mathbf{{z}_{N}} \\right)} \\frac{\\partial}{\\partial \\mathbf{{x}_{N}}} A_{z}{\\left(\\mathbf{{x}_{N}},\\mathbf{{y}_{N}},\\mathbf{{z}_{N}} \\right)} + B_{y}{\\left(\\mathbf{{x}_{N}},\\mathbf{{y}_{N}},\\mathbf{{z}_{N}} \\right)} \\frac{\\partial}{\\partial \\mathbf{{y}_{N}}} A_{z}{\\left(\\mathbf{{x}_{N}},\\mathbf{{y}_{N}},\\mathbf{{z}_{N}} \\right)} + B_{z}{\\left(\\mathbf{{x}_{N}},\\mathbf{{y}_{N}},\\mathbf{{z}_{N}} \\right)} \\frac{\\partial}{\\partial \\mathbf{{z}_{N}}} A_{z}{\\left(\\mathbf{{x}_{N}},\\mathbf{{y}_{N}},\\mathbf{{z}_{N}} \\right)}\\right)\\mathbf{\\hat{k}_{N}}$"
      ],
      "text/plain": [
       "(B_x(N.x, N.y, N.z)*Derivative(A_x(N.x, N.y, N.z), N.x) + B_y(N.x, N.y, N.z)*Derivative(A_x(N.x, N.y, N.z), N.y) + B_z(N.x, N.y, N.z)*Derivative(A_x(N.x, N.y, N.z), N.z))*N.i + (B_x(N.x, N.y, N.z)*Derivative(A_y(N.x, N.y, N.z), N.x) + B_y(N.x, N.y, N.z)*Derivative(A_y(N.x, N.y, N.z), N.y) + B_z(N.x, N.y, N.z)*Derivative(A_y(N.x, N.y, N.z), N.z))*N.j + (B_x(N.x, N.y, N.z)*Derivative(A_z(N.x, N.y, N.z), N.x) + B_y(N.x, N.y, N.z)*Derivative(A_z(N.x, N.y, N.z), N.y) + B_z(N.x, N.y, N.z)*Derivative(A_z(N.x, N.y, N.z), N.z))*N.k"
      ]
     },
     "metadata": {},
     "output_type": "display_data"
    }
   ],
   "source": [
    "right_A1 = A ^ ( curl(B))\n",
    "print(\"右式固定A的第一项：\")\n",
    "display(right_A1)\n",
    "right_B1 = B ^ ( curl(A))\n",
    "print(\"右式固定B的第一项：\")\n",
    "display(right_B1)\n",
    "right_A2 =  (A & gradient(B_x)) * N.i + \\\n",
    "            (A & gradient(B_y)) * N.j + \\\n",
    "            (A & gradient(B_z)) * N.k\n",
    "print(\"右式固定A的第二项：\")\n",
    "display(right_A2)\n",
    "\n",
    "right_B2 =  (B & gradient(A_x)) * N.i + \\\n",
    "            (B & gradient(A_y)) * N.j + \\\n",
    "            (B & gradient(A_z)) * N.k\n",
    "print(\"右式固定B的第二项：\")\n",
    "display(right_B2)"
   ]
  },
  {
   "cell_type": "code",
   "execution_count": 28,
   "id": "f4fb80c3-96b6-4d64-8830-c7959c44502f",
   "metadata": {},
   "outputs": [
    {
     "name": "stdout",
     "output_type": "stream",
     "text": [
      "检验左式和右式是否相等，左式减去右式等于：\n"
     ]
    },
    {
     "data": {
      "text/latex": [
       "$\\displaystyle \\left(- \\left(- \\frac{\\partial}{\\partial \\mathbf{{y}_{N}}} A_{x}{\\left(\\mathbf{{x}_{N}},\\mathbf{{y}_{N}},\\mathbf{{z}_{N}} \\right)} + \\frac{\\partial}{\\partial \\mathbf{{x}_{N}}} A_{y}{\\left(\\mathbf{{x}_{N}},\\mathbf{{y}_{N}},\\mathbf{{z}_{N}} \\right)}\\right) B_{y}{\\left(\\mathbf{{x}_{N}},\\mathbf{{y}_{N}},\\mathbf{{z}_{N}} \\right)} - \\left(- \\frac{\\partial}{\\partial \\mathbf{{z}_{N}}} A_{x}{\\left(\\mathbf{{x}_{N}},\\mathbf{{y}_{N}},\\mathbf{{z}_{N}} \\right)} + \\frac{\\partial}{\\partial \\mathbf{{x}_{N}}} A_{z}{\\left(\\mathbf{{x}_{N}},\\mathbf{{y}_{N}},\\mathbf{{z}_{N}} \\right)}\\right) B_{z}{\\left(\\mathbf{{x}_{N}},\\mathbf{{y}_{N}},\\mathbf{{z}_{N}} \\right)} - \\left(- \\frac{\\partial}{\\partial \\mathbf{{y}_{N}}} B_{x}{\\left(\\mathbf{{x}_{N}},\\mathbf{{y}_{N}},\\mathbf{{z}_{N}} \\right)} + \\frac{\\partial}{\\partial \\mathbf{{x}_{N}}} B_{y}{\\left(\\mathbf{{x}_{N}},\\mathbf{{y}_{N}},\\mathbf{{z}_{N}} \\right)}\\right) A_{y}{\\left(\\mathbf{{x}_{N}},\\mathbf{{y}_{N}},\\mathbf{{z}_{N}} \\right)} - \\left(- \\frac{\\partial}{\\partial \\mathbf{{z}_{N}}} B_{x}{\\left(\\mathbf{{x}_{N}},\\mathbf{{y}_{N}},\\mathbf{{z}_{N}} \\right)} + \\frac{\\partial}{\\partial \\mathbf{{x}_{N}}} B_{z}{\\left(\\mathbf{{x}_{N}},\\mathbf{{y}_{N}},\\mathbf{{z}_{N}} \\right)}\\right) A_{z}{\\left(\\mathbf{{x}_{N}},\\mathbf{{y}_{N}},\\mathbf{{z}_{N}} \\right)} - A_{y}{\\left(\\mathbf{{x}_{N}},\\mathbf{{y}_{N}},\\mathbf{{z}_{N}} \\right)} \\frac{\\partial}{\\partial \\mathbf{{y}_{N}}} B_{x}{\\left(\\mathbf{{x}_{N}},\\mathbf{{y}_{N}},\\mathbf{{z}_{N}} \\right)} + A_{y}{\\left(\\mathbf{{x}_{N}},\\mathbf{{y}_{N}},\\mathbf{{z}_{N}} \\right)} \\frac{\\partial}{\\partial \\mathbf{{x}_{N}}} B_{y}{\\left(\\mathbf{{x}_{N}},\\mathbf{{y}_{N}},\\mathbf{{z}_{N}} \\right)} - A_{z}{\\left(\\mathbf{{x}_{N}},\\mathbf{{y}_{N}},\\mathbf{{z}_{N}} \\right)} \\frac{\\partial}{\\partial \\mathbf{{z}_{N}}} B_{x}{\\left(\\mathbf{{x}_{N}},\\mathbf{{y}_{N}},\\mathbf{{z}_{N}} \\right)} + A_{z}{\\left(\\mathbf{{x}_{N}},\\mathbf{{y}_{N}},\\mathbf{{z}_{N}} \\right)} \\frac{\\partial}{\\partial \\mathbf{{x}_{N}}} B_{z}{\\left(\\mathbf{{x}_{N}},\\mathbf{{y}_{N}},\\mathbf{{z}_{N}} \\right)} - B_{y}{\\left(\\mathbf{{x}_{N}},\\mathbf{{y}_{N}},\\mathbf{{z}_{N}} \\right)} \\frac{\\partial}{\\partial \\mathbf{{y}_{N}}} A_{x}{\\left(\\mathbf{{x}_{N}},\\mathbf{{y}_{N}},\\mathbf{{z}_{N}} \\right)} + B_{y}{\\left(\\mathbf{{x}_{N}},\\mathbf{{y}_{N}},\\mathbf{{z}_{N}} \\right)} \\frac{\\partial}{\\partial \\mathbf{{x}_{N}}} A_{y}{\\left(\\mathbf{{x}_{N}},\\mathbf{{y}_{N}},\\mathbf{{z}_{N}} \\right)} - B_{z}{\\left(\\mathbf{{x}_{N}},\\mathbf{{y}_{N}},\\mathbf{{z}_{N}} \\right)} \\frac{\\partial}{\\partial \\mathbf{{z}_{N}}} A_{x}{\\left(\\mathbf{{x}_{N}},\\mathbf{{y}_{N}},\\mathbf{{z}_{N}} \\right)} + B_{z}{\\left(\\mathbf{{x}_{N}},\\mathbf{{y}_{N}},\\mathbf{{z}_{N}} \\right)} \\frac{\\partial}{\\partial \\mathbf{{x}_{N}}} A_{z}{\\left(\\mathbf{{x}_{N}},\\mathbf{{y}_{N}},\\mathbf{{z}_{N}} \\right)}\\right)\\mathbf{\\hat{i}_{N}} + \\left(- \\left(\\frac{\\partial}{\\partial \\mathbf{{y}_{N}}} A_{x}{\\left(\\mathbf{{x}_{N}},\\mathbf{{y}_{N}},\\mathbf{{z}_{N}} \\right)} - \\frac{\\partial}{\\partial \\mathbf{{x}_{N}}} A_{y}{\\left(\\mathbf{{x}_{N}},\\mathbf{{y}_{N}},\\mathbf{{z}_{N}} \\right)}\\right) B_{x}{\\left(\\mathbf{{x}_{N}},\\mathbf{{y}_{N}},\\mathbf{{z}_{N}} \\right)} - \\left(- \\frac{\\partial}{\\partial \\mathbf{{z}_{N}}} A_{y}{\\left(\\mathbf{{x}_{N}},\\mathbf{{y}_{N}},\\mathbf{{z}_{N}} \\right)} + \\frac{\\partial}{\\partial \\mathbf{{y}_{N}}} A_{z}{\\left(\\mathbf{{x}_{N}},\\mathbf{{y}_{N}},\\mathbf{{z}_{N}} \\right)}\\right) B_{z}{\\left(\\mathbf{{x}_{N}},\\mathbf{{y}_{N}},\\mathbf{{z}_{N}} \\right)} - \\left(\\frac{\\partial}{\\partial \\mathbf{{y}_{N}}} B_{x}{\\left(\\mathbf{{x}_{N}},\\mathbf{{y}_{N}},\\mathbf{{z}_{N}} \\right)} - \\frac{\\partial}{\\partial \\mathbf{{x}_{N}}} B_{y}{\\left(\\mathbf{{x}_{N}},\\mathbf{{y}_{N}},\\mathbf{{z}_{N}} \\right)}\\right) A_{x}{\\left(\\mathbf{{x}_{N}},\\mathbf{{y}_{N}},\\mathbf{{z}_{N}} \\right)} - \\left(- \\frac{\\partial}{\\partial \\mathbf{{z}_{N}}} B_{y}{\\left(\\mathbf{{x}_{N}},\\mathbf{{y}_{N}},\\mathbf{{z}_{N}} \\right)} + \\frac{\\partial}{\\partial \\mathbf{{y}_{N}}} B_{z}{\\left(\\mathbf{{x}_{N}},\\mathbf{{y}_{N}},\\mathbf{{z}_{N}} \\right)}\\right) A_{z}{\\left(\\mathbf{{x}_{N}},\\mathbf{{y}_{N}},\\mathbf{{z}_{N}} \\right)} + A_{x}{\\left(\\mathbf{{x}_{N}},\\mathbf{{y}_{N}},\\mathbf{{z}_{N}} \\right)} \\frac{\\partial}{\\partial \\mathbf{{y}_{N}}} B_{x}{\\left(\\mathbf{{x}_{N}},\\mathbf{{y}_{N}},\\mathbf{{z}_{N}} \\right)} - A_{x}{\\left(\\mathbf{{x}_{N}},\\mathbf{{y}_{N}},\\mathbf{{z}_{N}} \\right)} \\frac{\\partial}{\\partial \\mathbf{{x}_{N}}} B_{y}{\\left(\\mathbf{{x}_{N}},\\mathbf{{y}_{N}},\\mathbf{{z}_{N}} \\right)} - A_{z}{\\left(\\mathbf{{x}_{N}},\\mathbf{{y}_{N}},\\mathbf{{z}_{N}} \\right)} \\frac{\\partial}{\\partial \\mathbf{{z}_{N}}} B_{y}{\\left(\\mathbf{{x}_{N}},\\mathbf{{y}_{N}},\\mathbf{{z}_{N}} \\right)} + A_{z}{\\left(\\mathbf{{x}_{N}},\\mathbf{{y}_{N}},\\mathbf{{z}_{N}} \\right)} \\frac{\\partial}{\\partial \\mathbf{{y}_{N}}} B_{z}{\\left(\\mathbf{{x}_{N}},\\mathbf{{y}_{N}},\\mathbf{{z}_{N}} \\right)} + B_{x}{\\left(\\mathbf{{x}_{N}},\\mathbf{{y}_{N}},\\mathbf{{z}_{N}} \\right)} \\frac{\\partial}{\\partial \\mathbf{{y}_{N}}} A_{x}{\\left(\\mathbf{{x}_{N}},\\mathbf{{y}_{N}},\\mathbf{{z}_{N}} \\right)} - B_{x}{\\left(\\mathbf{{x}_{N}},\\mathbf{{y}_{N}},\\mathbf{{z}_{N}} \\right)} \\frac{\\partial}{\\partial \\mathbf{{x}_{N}}} A_{y}{\\left(\\mathbf{{x}_{N}},\\mathbf{{y}_{N}},\\mathbf{{z}_{N}} \\right)} - B_{z}{\\left(\\mathbf{{x}_{N}},\\mathbf{{y}_{N}},\\mathbf{{z}_{N}} \\right)} \\frac{\\partial}{\\partial \\mathbf{{z}_{N}}} A_{y}{\\left(\\mathbf{{x}_{N}},\\mathbf{{y}_{N}},\\mathbf{{z}_{N}} \\right)} + B_{z}{\\left(\\mathbf{{x}_{N}},\\mathbf{{y}_{N}},\\mathbf{{z}_{N}} \\right)} \\frac{\\partial}{\\partial \\mathbf{{y}_{N}}} A_{z}{\\left(\\mathbf{{x}_{N}},\\mathbf{{y}_{N}},\\mathbf{{z}_{N}} \\right)}\\right)\\mathbf{\\hat{j}_{N}} + \\left(- \\left(\\frac{\\partial}{\\partial \\mathbf{{z}_{N}}} A_{x}{\\left(\\mathbf{{x}_{N}},\\mathbf{{y}_{N}},\\mathbf{{z}_{N}} \\right)} - \\frac{\\partial}{\\partial \\mathbf{{x}_{N}}} A_{z}{\\left(\\mathbf{{x}_{N}},\\mathbf{{y}_{N}},\\mathbf{{z}_{N}} \\right)}\\right) B_{x}{\\left(\\mathbf{{x}_{N}},\\mathbf{{y}_{N}},\\mathbf{{z}_{N}} \\right)} - \\left(\\frac{\\partial}{\\partial \\mathbf{{z}_{N}}} A_{y}{\\left(\\mathbf{{x}_{N}},\\mathbf{{y}_{N}},\\mathbf{{z}_{N}} \\right)} - \\frac{\\partial}{\\partial \\mathbf{{y}_{N}}} A_{z}{\\left(\\mathbf{{x}_{N}},\\mathbf{{y}_{N}},\\mathbf{{z}_{N}} \\right)}\\right) B_{y}{\\left(\\mathbf{{x}_{N}},\\mathbf{{y}_{N}},\\mathbf{{z}_{N}} \\right)} - \\left(\\frac{\\partial}{\\partial \\mathbf{{z}_{N}}} B_{x}{\\left(\\mathbf{{x}_{N}},\\mathbf{{y}_{N}},\\mathbf{{z}_{N}} \\right)} - \\frac{\\partial}{\\partial \\mathbf{{x}_{N}}} B_{z}{\\left(\\mathbf{{x}_{N}},\\mathbf{{y}_{N}},\\mathbf{{z}_{N}} \\right)}\\right) A_{x}{\\left(\\mathbf{{x}_{N}},\\mathbf{{y}_{N}},\\mathbf{{z}_{N}} \\right)} - \\left(\\frac{\\partial}{\\partial \\mathbf{{z}_{N}}} B_{y}{\\left(\\mathbf{{x}_{N}},\\mathbf{{y}_{N}},\\mathbf{{z}_{N}} \\right)} - \\frac{\\partial}{\\partial \\mathbf{{y}_{N}}} B_{z}{\\left(\\mathbf{{x}_{N}},\\mathbf{{y}_{N}},\\mathbf{{z}_{N}} \\right)}\\right) A_{y}{\\left(\\mathbf{{x}_{N}},\\mathbf{{y}_{N}},\\mathbf{{z}_{N}} \\right)} + A_{x}{\\left(\\mathbf{{x}_{N}},\\mathbf{{y}_{N}},\\mathbf{{z}_{N}} \\right)} \\frac{\\partial}{\\partial \\mathbf{{z}_{N}}} B_{x}{\\left(\\mathbf{{x}_{N}},\\mathbf{{y}_{N}},\\mathbf{{z}_{N}} \\right)} - A_{x}{\\left(\\mathbf{{x}_{N}},\\mathbf{{y}_{N}},\\mathbf{{z}_{N}} \\right)} \\frac{\\partial}{\\partial \\mathbf{{x}_{N}}} B_{z}{\\left(\\mathbf{{x}_{N}},\\mathbf{{y}_{N}},\\mathbf{{z}_{N}} \\right)} + A_{y}{\\left(\\mathbf{{x}_{N}},\\mathbf{{y}_{N}},\\mathbf{{z}_{N}} \\right)} \\frac{\\partial}{\\partial \\mathbf{{z}_{N}}} B_{y}{\\left(\\mathbf{{x}_{N}},\\mathbf{{y}_{N}},\\mathbf{{z}_{N}} \\right)} - A_{y}{\\left(\\mathbf{{x}_{N}},\\mathbf{{y}_{N}},\\mathbf{{z}_{N}} \\right)} \\frac{\\partial}{\\partial \\mathbf{{y}_{N}}} B_{z}{\\left(\\mathbf{{x}_{N}},\\mathbf{{y}_{N}},\\mathbf{{z}_{N}} \\right)} + B_{x}{\\left(\\mathbf{{x}_{N}},\\mathbf{{y}_{N}},\\mathbf{{z}_{N}} \\right)} \\frac{\\partial}{\\partial \\mathbf{{z}_{N}}} A_{x}{\\left(\\mathbf{{x}_{N}},\\mathbf{{y}_{N}},\\mathbf{{z}_{N}} \\right)} - B_{x}{\\left(\\mathbf{{x}_{N}},\\mathbf{{y}_{N}},\\mathbf{{z}_{N}} \\right)} \\frac{\\partial}{\\partial \\mathbf{{x}_{N}}} A_{z}{\\left(\\mathbf{{x}_{N}},\\mathbf{{y}_{N}},\\mathbf{{z}_{N}} \\right)} + B_{y}{\\left(\\mathbf{{x}_{N}},\\mathbf{{y}_{N}},\\mathbf{{z}_{N}} \\right)} \\frac{\\partial}{\\partial \\mathbf{{z}_{N}}} A_{y}{\\left(\\mathbf{{x}_{N}},\\mathbf{{y}_{N}},\\mathbf{{z}_{N}} \\right)} - B_{y}{\\left(\\mathbf{{x}_{N}},\\mathbf{{y}_{N}},\\mathbf{{z}_{N}} \\right)} \\frac{\\partial}{\\partial \\mathbf{{y}_{N}}} A_{z}{\\left(\\mathbf{{x}_{N}},\\mathbf{{y}_{N}},\\mathbf{{z}_{N}} \\right)}\\right)\\mathbf{\\hat{k}_{N}}$"
      ],
      "text/plain": [
       "(-(-Derivative(A_x(N.x, N.y, N.z), N.y) + Derivative(A_y(N.x, N.y, N.z), N.x))*B_y(N.x, N.y, N.z) - (-Derivative(A_x(N.x, N.y, N.z), N.z) + Derivative(A_z(N.x, N.y, N.z), N.x))*B_z(N.x, N.y, N.z) - (-Derivative(B_x(N.x, N.y, N.z), N.y) + Derivative(B_y(N.x, N.y, N.z), N.x))*A_y(N.x, N.y, N.z) - (-Derivative(B_x(N.x, N.y, N.z), N.z) + Derivative(B_z(N.x, N.y, N.z), N.x))*A_z(N.x, N.y, N.z) - A_y(N.x, N.y, N.z)*Derivative(B_x(N.x, N.y, N.z), N.y) + A_y(N.x, N.y, N.z)*Derivative(B_y(N.x, N.y, N.z), N.x) - A_z(N.x, N.y, N.z)*Derivative(B_x(N.x, N.y, N.z), N.z) + A_z(N.x, N.y, N.z)*Derivative(B_z(N.x, N.y, N.z), N.x) - B_y(N.x, N.y, N.z)*Derivative(A_x(N.x, N.y, N.z), N.y) + B_y(N.x, N.y, N.z)*Derivative(A_y(N.x, N.y, N.z), N.x) - B_z(N.x, N.y, N.z)*Derivative(A_x(N.x, N.y, N.z), N.z) + B_z(N.x, N.y, N.z)*Derivative(A_z(N.x, N.y, N.z), N.x))*N.i + (-(Derivative(A_x(N.x, N.y, N.z), N.y) - Derivative(A_y(N.x, N.y, N.z), N.x))*B_x(N.x, N.y, N.z) - (-Derivative(A_y(N.x, N.y, N.z), N.z) + Derivative(A_z(N.x, N.y, N.z), N.y))*B_z(N.x, N.y, N.z) - (Derivative(B_x(N.x, N.y, N.z), N.y) - Derivative(B_y(N.x, N.y, N.z), N.x))*A_x(N.x, N.y, N.z) - (-Derivative(B_y(N.x, N.y, N.z), N.z) + Derivative(B_z(N.x, N.y, N.z), N.y))*A_z(N.x, N.y, N.z) + A_x(N.x, N.y, N.z)*Derivative(B_x(N.x, N.y, N.z), N.y) - A_x(N.x, N.y, N.z)*Derivative(B_y(N.x, N.y, N.z), N.x) - A_z(N.x, N.y, N.z)*Derivative(B_y(N.x, N.y, N.z), N.z) + A_z(N.x, N.y, N.z)*Derivative(B_z(N.x, N.y, N.z), N.y) + B_x(N.x, N.y, N.z)*Derivative(A_x(N.x, N.y, N.z), N.y) - B_x(N.x, N.y, N.z)*Derivative(A_y(N.x, N.y, N.z), N.x) - B_z(N.x, N.y, N.z)*Derivative(A_y(N.x, N.y, N.z), N.z) + B_z(N.x, N.y, N.z)*Derivative(A_z(N.x, N.y, N.z), N.y))*N.j + (-(Derivative(A_x(N.x, N.y, N.z), N.z) - Derivative(A_z(N.x, N.y, N.z), N.x))*B_x(N.x, N.y, N.z) - (Derivative(A_y(N.x, N.y, N.z), N.z) - Derivative(A_z(N.x, N.y, N.z), N.y))*B_y(N.x, N.y, N.z) - (Derivative(B_x(N.x, N.y, N.z), N.z) - Derivative(B_z(N.x, N.y, N.z), N.x))*A_x(N.x, N.y, N.z) - (Derivative(B_y(N.x, N.y, N.z), N.z) - Derivative(B_z(N.x, N.y, N.z), N.y))*A_y(N.x, N.y, N.z) + A_x(N.x, N.y, N.z)*Derivative(B_x(N.x, N.y, N.z), N.z) - A_x(N.x, N.y, N.z)*Derivative(B_z(N.x, N.y, N.z), N.x) + A_y(N.x, N.y, N.z)*Derivative(B_y(N.x, N.y, N.z), N.z) - A_y(N.x, N.y, N.z)*Derivative(B_z(N.x, N.y, N.z), N.y) + B_x(N.x, N.y, N.z)*Derivative(A_x(N.x, N.y, N.z), N.z) - B_x(N.x, N.y, N.z)*Derivative(A_z(N.x, N.y, N.z), N.x) + B_y(N.x, N.y, N.z)*Derivative(A_y(N.x, N.y, N.z), N.z) - B_y(N.x, N.y, N.z)*Derivative(A_z(N.x, N.y, N.z), N.y))*N.k"
      ]
     },
     "metadata": {},
     "output_type": "display_data"
    },
    {
     "name": "stdout",
     "output_type": "stream",
     "text": [
      "化简得到\n"
     ]
    },
    {
     "data": {
      "text/latex": [
       "$\\displaystyle \\mathbf{\\hat{0}}$"
      ],
      "text/plain": [
       "0"
      ]
     },
     "metadata": {},
     "output_type": "display_data"
    }
   ],
   "source": [
    "print('检验左式和右式是否相等，左式减去右式等于：')\n",
    "display(grad_AB - right_A1 - right_A2 - right_B1 - right_B2)\n",
    "print(\"化简得到\")\n",
    "display(sp.simplify(sp.expand(grad_AB - right_A1 - right_A2 - right_B1 - right_B2)))"
   ]
  },
  {
   "cell_type": "markdown",
   "id": "40bd1c41-204d-451e-bf3a-1f5276736f46",
   "metadata": {},
   "source": [
    "### 散度积公式"
   ]
  },
  {
   "cell_type": "code",
   "execution_count": 30,
   "id": "85caf1a9-1bce-4725-9a5a-5cd08e1c8312",
   "metadata": {},
   "outputs": [
    {
     "name": "stdout",
     "output_type": "stream",
     "text": [
      "向量场 A =\n"
     ]
    },
    {
     "data": {
      "text/latex": [
       "$\\displaystyle \\left(A_{x}{\\left(\\mathbf{{x}_{N}},\\mathbf{{y}_{N}},\\mathbf{{z}_{N}} \\right)}\\right)\\mathbf{\\hat{i}_{N}} + \\left(A_{y}{\\left(\\mathbf{{x}_{N}},\\mathbf{{y}_{N}},\\mathbf{{z}_{N}} \\right)}\\right)\\mathbf{\\hat{j}_{N}} + \\left(A_{z}{\\left(\\mathbf{{x}_{N}},\\mathbf{{y}_{N}},\\mathbf{{z}_{N}} \\right)}\\right)\\mathbf{\\hat{k}_{N}}$"
      ],
      "text/plain": [
       "(A_x(N.x, N.y, N.z))*N.i + (A_y(N.x, N.y, N.z))*N.j + (A_z(N.x, N.y, N.z))*N.k"
      ]
     },
     "metadata": {},
     "output_type": "display_data"
    },
    {
     "name": "stdout",
     "output_type": "stream",
     "text": [
      "散度 ∇(fA):\n"
     ]
    },
    {
     "data": {
      "text/latex": [
       "$\\displaystyle A_{x}{\\left(\\mathbf{{x}_{N}},\\mathbf{{y}_{N}},\\mathbf{{z}_{N}} \\right)} \\frac{\\partial}{\\partial \\mathbf{{x}_{N}}} f{\\left(\\mathbf{{x}_{N}},\\mathbf{{y}_{N}},\\mathbf{{z}_{N}} \\right)} + A_{y}{\\left(\\mathbf{{x}_{N}},\\mathbf{{y}_{N}},\\mathbf{{z}_{N}} \\right)} \\frac{\\partial}{\\partial \\mathbf{{y}_{N}}} f{\\left(\\mathbf{{x}_{N}},\\mathbf{{y}_{N}},\\mathbf{{z}_{N}} \\right)} + A_{z}{\\left(\\mathbf{{x}_{N}},\\mathbf{{y}_{N}},\\mathbf{{z}_{N}} \\right)} \\frac{\\partial}{\\partial \\mathbf{{z}_{N}}} f{\\left(\\mathbf{{x}_{N}},\\mathbf{{y}_{N}},\\mathbf{{z}_{N}} \\right)} + f{\\left(\\mathbf{{x}_{N}},\\mathbf{{y}_{N}},\\mathbf{{z}_{N}} \\right)} \\frac{\\partial}{\\partial \\mathbf{{x}_{N}}} A_{x}{\\left(\\mathbf{{x}_{N}},\\mathbf{{y}_{N}},\\mathbf{{z}_{N}} \\right)} + f{\\left(\\mathbf{{x}_{N}},\\mathbf{{y}_{N}},\\mathbf{{z}_{N}} \\right)} \\frac{\\partial}{\\partial \\mathbf{{y}_{N}}} A_{y}{\\left(\\mathbf{{x}_{N}},\\mathbf{{y}_{N}},\\mathbf{{z}_{N}} \\right)} + f{\\left(\\mathbf{{x}_{N}},\\mathbf{{y}_{N}},\\mathbf{{z}_{N}} \\right)} \\frac{\\partial}{\\partial \\mathbf{{z}_{N}}} A_{z}{\\left(\\mathbf{{x}_{N}},\\mathbf{{y}_{N}},\\mathbf{{z}_{N}} \\right)}$"
      ],
      "text/plain": [
       "A_x(N.x, N.y, N.z)*Derivative(f(N.x, N.y, N.z), N.x) + A_y(N.x, N.y, N.z)*Derivative(f(N.x, N.y, N.z), N.y) + A_z(N.x, N.y, N.z)*Derivative(f(N.x, N.y, N.z), N.z) + f(N.x, N.y, N.z)*Derivative(A_x(N.x, N.y, N.z), N.x) + f(N.x, N.y, N.z)*Derivative(A_y(N.x, N.y, N.z), N.y) + f(N.x, N.y, N.z)*Derivative(A_z(N.x, N.y, N.z), N.z)"
      ]
     },
     "metadata": {},
     "output_type": "display_data"
    }
   ],
   "source": [
    "import sympy as sp\n",
    "from sympy.vector import CoordSys3D, gradient, divergence, curl\n",
    "from sympy import Function\n",
    "\n",
    "# 创建一个三维坐标系\n",
    "N = CoordSys3D('N')\n",
    "\n",
    "# 定义标量场 f 和向量场 A\n",
    "f = Function('f')(N.x, N.y, N.z)  # 抽象标量场 f\n",
    "A_x, A_y, A_z = Function('A_x')(N.x, N.y, N.z), Function('A_y')(N.x, N.y, N.z), Function('A_z')(N.x, N.y, N.z)\n",
    "A = A_x*N.i + A_y*N.j + A_z*N.k  # 抽象向量场 A\n",
    "print(\"向量场 A =\")\n",
    "display(A)\n",
    "\n",
    "# 计算标量函数和矢量场的积的散度\n",
    "\n",
    "div_fA = divergence(f * A)\n",
    "\n",
    "print(\"散度 ∇(fA):\")\n",
    "display(div_fA)"
   ]
  },
  {
   "cell_type": "code",
   "execution_count": 41,
   "id": "dcfaefd9-922c-487c-b5c4-c06af7f6709d",
   "metadata": {},
   "outputs": [
    {
     "name": "stdout",
     "output_type": "stream",
     "text": [
      "检验左式和右式是否相等，左式减去右式等于：\n"
     ]
    },
    {
     "data": {
      "text/latex": [
       "$\\displaystyle - \\left(\\frac{\\partial}{\\partial \\mathbf{{x}_{N}}} A_{x}{\\left(\\mathbf{{x}_{N}},\\mathbf{{y}_{N}},\\mathbf{{z}_{N}} \\right)} + \\frac{\\partial}{\\partial \\mathbf{{y}_{N}}} A_{y}{\\left(\\mathbf{{x}_{N}},\\mathbf{{y}_{N}},\\mathbf{{z}_{N}} \\right)} + \\frac{\\partial}{\\partial \\mathbf{{z}_{N}}} A_{z}{\\left(\\mathbf{{x}_{N}},\\mathbf{{y}_{N}},\\mathbf{{z}_{N}} \\right)}\\right) f{\\left(\\mathbf{{x}_{N}},\\mathbf{{y}_{N}},\\mathbf{{z}_{N}} \\right)} + f{\\left(\\mathbf{{x}_{N}},\\mathbf{{y}_{N}},\\mathbf{{z}_{N}} \\right)} \\frac{\\partial}{\\partial \\mathbf{{x}_{N}}} A_{x}{\\left(\\mathbf{{x}_{N}},\\mathbf{{y}_{N}},\\mathbf{{z}_{N}} \\right)} + f{\\left(\\mathbf{{x}_{N}},\\mathbf{{y}_{N}},\\mathbf{{z}_{N}} \\right)} \\frac{\\partial}{\\partial \\mathbf{{y}_{N}}} A_{y}{\\left(\\mathbf{{x}_{N}},\\mathbf{{y}_{N}},\\mathbf{{z}_{N}} \\right)} + f{\\left(\\mathbf{{x}_{N}},\\mathbf{{y}_{N}},\\mathbf{{z}_{N}} \\right)} \\frac{\\partial}{\\partial \\mathbf{{z}_{N}}} A_{z}{\\left(\\mathbf{{x}_{N}},\\mathbf{{y}_{N}},\\mathbf{{z}_{N}} \\right)}$"
      ],
      "text/plain": [
       "-(Derivative(A_x(N.x, N.y, N.z), N.x) + Derivative(A_y(N.x, N.y, N.z), N.y) + Derivative(A_z(N.x, N.y, N.z), N.z))*f(N.x, N.y, N.z) + f(N.x, N.y, N.z)*Derivative(A_x(N.x, N.y, N.z), N.x) + f(N.x, N.y, N.z)*Derivative(A_y(N.x, N.y, N.z), N.y) + f(N.x, N.y, N.z)*Derivative(A_z(N.x, N.y, N.z), N.z)"
      ]
     },
     "metadata": {},
     "output_type": "display_data"
    },
    {
     "name": "stdout",
     "output_type": "stream",
     "text": [
      "化简得到：\n"
     ]
    },
    {
     "data": {
      "text/latex": [
       "$\\displaystyle 0$"
      ],
      "text/plain": [
       "0"
      ]
     },
     "metadata": {},
     "output_type": "display_data"
    }
   ],
   "source": [
    "grad_f = gradient(f)\n",
    "div_A = divergence(A)\n",
    "print('检验左式和右式是否相等，左式减去右式等于：')\n",
    "display(div_fA - f * div_A - (grad_f & A))\n",
    "print('化简得到：')\n",
    "display(sp.simplify(div_fA - f * div_A - (grad_f & A)))"
   ]
  },
  {
   "cell_type": "code",
   "execution_count": 43,
   "id": "597a29eb-ab96-410b-903e-80c32cdd6c8c",
   "metadata": {},
   "outputs": [
    {
     "name": "stdout",
     "output_type": "stream",
     "text": [
      "旋度的散度 ∇·(A × B):\n"
     ]
    },
    {
     "data": {
      "text/latex": [
       "$\\displaystyle A_{x}{\\left(\\mathbf{{x}_{N}},\\mathbf{{y}_{N}},\\mathbf{{z}_{N}} \\right)} \\frac{\\partial}{\\partial \\mathbf{{z}_{N}}} B_{y}{\\left(\\mathbf{{x}_{N}},\\mathbf{{y}_{N}},\\mathbf{{z}_{N}} \\right)} - A_{x}{\\left(\\mathbf{{x}_{N}},\\mathbf{{y}_{N}},\\mathbf{{z}_{N}} \\right)} \\frac{\\partial}{\\partial \\mathbf{{y}_{N}}} B_{z}{\\left(\\mathbf{{x}_{N}},\\mathbf{{y}_{N}},\\mathbf{{z}_{N}} \\right)} - A_{y}{\\left(\\mathbf{{x}_{N}},\\mathbf{{y}_{N}},\\mathbf{{z}_{N}} \\right)} \\frac{\\partial}{\\partial \\mathbf{{z}_{N}}} B_{x}{\\left(\\mathbf{{x}_{N}},\\mathbf{{y}_{N}},\\mathbf{{z}_{N}} \\right)} + A_{y}{\\left(\\mathbf{{x}_{N}},\\mathbf{{y}_{N}},\\mathbf{{z}_{N}} \\right)} \\frac{\\partial}{\\partial \\mathbf{{x}_{N}}} B_{z}{\\left(\\mathbf{{x}_{N}},\\mathbf{{y}_{N}},\\mathbf{{z}_{N}} \\right)} + A_{z}{\\left(\\mathbf{{x}_{N}},\\mathbf{{y}_{N}},\\mathbf{{z}_{N}} \\right)} \\frac{\\partial}{\\partial \\mathbf{{y}_{N}}} B_{x}{\\left(\\mathbf{{x}_{N}},\\mathbf{{y}_{N}},\\mathbf{{z}_{N}} \\right)} - A_{z}{\\left(\\mathbf{{x}_{N}},\\mathbf{{y}_{N}},\\mathbf{{z}_{N}} \\right)} \\frac{\\partial}{\\partial \\mathbf{{x}_{N}}} B_{y}{\\left(\\mathbf{{x}_{N}},\\mathbf{{y}_{N}},\\mathbf{{z}_{N}} \\right)} - B_{x}{\\left(\\mathbf{{x}_{N}},\\mathbf{{y}_{N}},\\mathbf{{z}_{N}} \\right)} \\frac{\\partial}{\\partial \\mathbf{{z}_{N}}} A_{y}{\\left(\\mathbf{{x}_{N}},\\mathbf{{y}_{N}},\\mathbf{{z}_{N}} \\right)} + B_{x}{\\left(\\mathbf{{x}_{N}},\\mathbf{{y}_{N}},\\mathbf{{z}_{N}} \\right)} \\frac{\\partial}{\\partial \\mathbf{{y}_{N}}} A_{z}{\\left(\\mathbf{{x}_{N}},\\mathbf{{y}_{N}},\\mathbf{{z}_{N}} \\right)} + B_{y}{\\left(\\mathbf{{x}_{N}},\\mathbf{{y}_{N}},\\mathbf{{z}_{N}} \\right)} \\frac{\\partial}{\\partial \\mathbf{{z}_{N}}} A_{x}{\\left(\\mathbf{{x}_{N}},\\mathbf{{y}_{N}},\\mathbf{{z}_{N}} \\right)} - B_{y}{\\left(\\mathbf{{x}_{N}},\\mathbf{{y}_{N}},\\mathbf{{z}_{N}} \\right)} \\frac{\\partial}{\\partial \\mathbf{{x}_{N}}} A_{z}{\\left(\\mathbf{{x}_{N}},\\mathbf{{y}_{N}},\\mathbf{{z}_{N}} \\right)} - B_{z}{\\left(\\mathbf{{x}_{N}},\\mathbf{{y}_{N}},\\mathbf{{z}_{N}} \\right)} \\frac{\\partial}{\\partial \\mathbf{{y}_{N}}} A_{x}{\\left(\\mathbf{{x}_{N}},\\mathbf{{y}_{N}},\\mathbf{{z}_{N}} \\right)} + B_{z}{\\left(\\mathbf{{x}_{N}},\\mathbf{{y}_{N}},\\mathbf{{z}_{N}} \\right)} \\frac{\\partial}{\\partial \\mathbf{{x}_{N}}} A_{y}{\\left(\\mathbf{{x}_{N}},\\mathbf{{y}_{N}},\\mathbf{{z}_{N}} \\right)}$"
      ],
      "text/plain": [
       "A_x(N.x, N.y, N.z)*Derivative(B_y(N.x, N.y, N.z), N.z) - A_x(N.x, N.y, N.z)*Derivative(B_z(N.x, N.y, N.z), N.y) - A_y(N.x, N.y, N.z)*Derivative(B_x(N.x, N.y, N.z), N.z) + A_y(N.x, N.y, N.z)*Derivative(B_z(N.x, N.y, N.z), N.x) + A_z(N.x, N.y, N.z)*Derivative(B_x(N.x, N.y, N.z), N.y) - A_z(N.x, N.y, N.z)*Derivative(B_y(N.x, N.y, N.z), N.x) - B_x(N.x, N.y, N.z)*Derivative(A_y(N.x, N.y, N.z), N.z) + B_x(N.x, N.y, N.z)*Derivative(A_z(N.x, N.y, N.z), N.y) + B_y(N.x, N.y, N.z)*Derivative(A_x(N.x, N.y, N.z), N.z) - B_y(N.x, N.y, N.z)*Derivative(A_z(N.x, N.y, N.z), N.x) - B_z(N.x, N.y, N.z)*Derivative(A_x(N.x, N.y, N.z), N.y) + B_z(N.x, N.y, N.z)*Derivative(A_y(N.x, N.y, N.z), N.x)"
      ]
     },
     "metadata": {},
     "output_type": "display_data"
    }
   ],
   "source": [
    "import sympy as sp\n",
    "from sympy.vector import CoordSys3D, gradient, divergence, curl\n",
    "from sympy import Function\n",
    "from IPython.display import display\n",
    "\n",
    "# 创建一个三维坐标系\n",
    "N = CoordSys3D('N')\n",
    "\n",
    "# 定义标量场 f 和向量场 A\n",
    "A_x, A_y, A_z = Function('A_x')(N.x, N.y, N.z), Function('A_y')(N.x, N.y, N.z), Function('A_z')(N.x, N.y, N.z)\n",
    "A = A_x*N.i + A_y*N.j + A_z*N.k  # 抽象向量场 A\n",
    "B_x, B_y, B_z = Function('B_x')(N.x, N.y, N.z), Function('B_y')(N.x, N.y, N.z), Function('B_z')(N.x, N.y, N.z)\n",
    "B = B_x*N.i + B_y*N.j + B_z*N.k  # 抽象向量场 B\n",
    "\n",
    "# 计算旋度的散度\n",
    "div_AB = divergence(A ^ B)\n",
    "\n",
    "print(\"旋度的散度 ∇·(A × B):\")\n",
    "display(div_AB)"
   ]
  },
  {
   "cell_type": "code",
   "execution_count": 45,
   "id": "d7090ecf-f0d8-4191-8b15-0287a0c04a93",
   "metadata": {},
   "outputs": [
    {
     "name": "stdout",
     "output_type": "stream",
     "text": [
      "检验左式和右式是否相等，左式减去右式等于：\n"
     ]
    },
    {
     "data": {
      "text/latex": [
       "$\\displaystyle - \\left(- \\frac{\\partial}{\\partial \\mathbf{{y}_{N}}} A_{x}{\\left(\\mathbf{{x}_{N}},\\mathbf{{y}_{N}},\\mathbf{{z}_{N}} \\right)} + \\frac{\\partial}{\\partial \\mathbf{{x}_{N}}} A_{y}{\\left(\\mathbf{{x}_{N}},\\mathbf{{y}_{N}},\\mathbf{{z}_{N}} \\right)}\\right) B_{z}{\\left(\\mathbf{{x}_{N}},\\mathbf{{y}_{N}},\\mathbf{{z}_{N}} \\right)} - \\left(\\frac{\\partial}{\\partial \\mathbf{{z}_{N}}} A_{x}{\\left(\\mathbf{{x}_{N}},\\mathbf{{y}_{N}},\\mathbf{{z}_{N}} \\right)} - \\frac{\\partial}{\\partial \\mathbf{{x}_{N}}} A_{z}{\\left(\\mathbf{{x}_{N}},\\mathbf{{y}_{N}},\\mathbf{{z}_{N}} \\right)}\\right) B_{y}{\\left(\\mathbf{{x}_{N}},\\mathbf{{y}_{N}},\\mathbf{{z}_{N}} \\right)} - \\left(- \\frac{\\partial}{\\partial \\mathbf{{z}_{N}}} A_{y}{\\left(\\mathbf{{x}_{N}},\\mathbf{{y}_{N}},\\mathbf{{z}_{N}} \\right)} + \\frac{\\partial}{\\partial \\mathbf{{y}_{N}}} A_{z}{\\left(\\mathbf{{x}_{N}},\\mathbf{{y}_{N}},\\mathbf{{z}_{N}} \\right)}\\right) B_{x}{\\left(\\mathbf{{x}_{N}},\\mathbf{{y}_{N}},\\mathbf{{z}_{N}} \\right)} + \\left(- \\frac{\\partial}{\\partial \\mathbf{{y}_{N}}} B_{x}{\\left(\\mathbf{{x}_{N}},\\mathbf{{y}_{N}},\\mathbf{{z}_{N}} \\right)} + \\frac{\\partial}{\\partial \\mathbf{{x}_{N}}} B_{y}{\\left(\\mathbf{{x}_{N}},\\mathbf{{y}_{N}},\\mathbf{{z}_{N}} \\right)}\\right) A_{z}{\\left(\\mathbf{{x}_{N}},\\mathbf{{y}_{N}},\\mathbf{{z}_{N}} \\right)} + \\left(\\frac{\\partial}{\\partial \\mathbf{{z}_{N}}} B_{x}{\\left(\\mathbf{{x}_{N}},\\mathbf{{y}_{N}},\\mathbf{{z}_{N}} \\right)} - \\frac{\\partial}{\\partial \\mathbf{{x}_{N}}} B_{z}{\\left(\\mathbf{{x}_{N}},\\mathbf{{y}_{N}},\\mathbf{{z}_{N}} \\right)}\\right) A_{y}{\\left(\\mathbf{{x}_{N}},\\mathbf{{y}_{N}},\\mathbf{{z}_{N}} \\right)} + \\left(- \\frac{\\partial}{\\partial \\mathbf{{z}_{N}}} B_{y}{\\left(\\mathbf{{x}_{N}},\\mathbf{{y}_{N}},\\mathbf{{z}_{N}} \\right)} + \\frac{\\partial}{\\partial \\mathbf{{y}_{N}}} B_{z}{\\left(\\mathbf{{x}_{N}},\\mathbf{{y}_{N}},\\mathbf{{z}_{N}} \\right)}\\right) A_{x}{\\left(\\mathbf{{x}_{N}},\\mathbf{{y}_{N}},\\mathbf{{z}_{N}} \\right)} + A_{x}{\\left(\\mathbf{{x}_{N}},\\mathbf{{y}_{N}},\\mathbf{{z}_{N}} \\right)} \\frac{\\partial}{\\partial \\mathbf{{z}_{N}}} B_{y}{\\left(\\mathbf{{x}_{N}},\\mathbf{{y}_{N}},\\mathbf{{z}_{N}} \\right)} - A_{x}{\\left(\\mathbf{{x}_{N}},\\mathbf{{y}_{N}},\\mathbf{{z}_{N}} \\right)} \\frac{\\partial}{\\partial \\mathbf{{y}_{N}}} B_{z}{\\left(\\mathbf{{x}_{N}},\\mathbf{{y}_{N}},\\mathbf{{z}_{N}} \\right)} - A_{y}{\\left(\\mathbf{{x}_{N}},\\mathbf{{y}_{N}},\\mathbf{{z}_{N}} \\right)} \\frac{\\partial}{\\partial \\mathbf{{z}_{N}}} B_{x}{\\left(\\mathbf{{x}_{N}},\\mathbf{{y}_{N}},\\mathbf{{z}_{N}} \\right)} + A_{y}{\\left(\\mathbf{{x}_{N}},\\mathbf{{y}_{N}},\\mathbf{{z}_{N}} \\right)} \\frac{\\partial}{\\partial \\mathbf{{x}_{N}}} B_{z}{\\left(\\mathbf{{x}_{N}},\\mathbf{{y}_{N}},\\mathbf{{z}_{N}} \\right)} + A_{z}{\\left(\\mathbf{{x}_{N}},\\mathbf{{y}_{N}},\\mathbf{{z}_{N}} \\right)} \\frac{\\partial}{\\partial \\mathbf{{y}_{N}}} B_{x}{\\left(\\mathbf{{x}_{N}},\\mathbf{{y}_{N}},\\mathbf{{z}_{N}} \\right)} - A_{z}{\\left(\\mathbf{{x}_{N}},\\mathbf{{y}_{N}},\\mathbf{{z}_{N}} \\right)} \\frac{\\partial}{\\partial \\mathbf{{x}_{N}}} B_{y}{\\left(\\mathbf{{x}_{N}},\\mathbf{{y}_{N}},\\mathbf{{z}_{N}} \\right)} - B_{x}{\\left(\\mathbf{{x}_{N}},\\mathbf{{y}_{N}},\\mathbf{{z}_{N}} \\right)} \\frac{\\partial}{\\partial \\mathbf{{z}_{N}}} A_{y}{\\left(\\mathbf{{x}_{N}},\\mathbf{{y}_{N}},\\mathbf{{z}_{N}} \\right)} + B_{x}{\\left(\\mathbf{{x}_{N}},\\mathbf{{y}_{N}},\\mathbf{{z}_{N}} \\right)} \\frac{\\partial}{\\partial \\mathbf{{y}_{N}}} A_{z}{\\left(\\mathbf{{x}_{N}},\\mathbf{{y}_{N}},\\mathbf{{z}_{N}} \\right)} + B_{y}{\\left(\\mathbf{{x}_{N}},\\mathbf{{y}_{N}},\\mathbf{{z}_{N}} \\right)} \\frac{\\partial}{\\partial \\mathbf{{z}_{N}}} A_{x}{\\left(\\mathbf{{x}_{N}},\\mathbf{{y}_{N}},\\mathbf{{z}_{N}} \\right)} - B_{y}{\\left(\\mathbf{{x}_{N}},\\mathbf{{y}_{N}},\\mathbf{{z}_{N}} \\right)} \\frac{\\partial}{\\partial \\mathbf{{x}_{N}}} A_{z}{\\left(\\mathbf{{x}_{N}},\\mathbf{{y}_{N}},\\mathbf{{z}_{N}} \\right)} - B_{z}{\\left(\\mathbf{{x}_{N}},\\mathbf{{y}_{N}},\\mathbf{{z}_{N}} \\right)} \\frac{\\partial}{\\partial \\mathbf{{y}_{N}}} A_{x}{\\left(\\mathbf{{x}_{N}},\\mathbf{{y}_{N}},\\mathbf{{z}_{N}} \\right)} + B_{z}{\\left(\\mathbf{{x}_{N}},\\mathbf{{y}_{N}},\\mathbf{{z}_{N}} \\right)} \\frac{\\partial}{\\partial \\mathbf{{x}_{N}}} A_{y}{\\left(\\mathbf{{x}_{N}},\\mathbf{{y}_{N}},\\mathbf{{z}_{N}} \\right)}$"
      ],
      "text/plain": [
       "-(-Derivative(A_x(N.x, N.y, N.z), N.y) + Derivative(A_y(N.x, N.y, N.z), N.x))*B_z(N.x, N.y, N.z) - (Derivative(A_x(N.x, N.y, N.z), N.z) - Derivative(A_z(N.x, N.y, N.z), N.x))*B_y(N.x, N.y, N.z) - (-Derivative(A_y(N.x, N.y, N.z), N.z) + Derivative(A_z(N.x, N.y, N.z), N.y))*B_x(N.x, N.y, N.z) + (-Derivative(B_x(N.x, N.y, N.z), N.y) + Derivative(B_y(N.x, N.y, N.z), N.x))*A_z(N.x, N.y, N.z) + (Derivative(B_x(N.x, N.y, N.z), N.z) - Derivative(B_z(N.x, N.y, N.z), N.x))*A_y(N.x, N.y, N.z) + (-Derivative(B_y(N.x, N.y, N.z), N.z) + Derivative(B_z(N.x, N.y, N.z), N.y))*A_x(N.x, N.y, N.z) + A_x(N.x, N.y, N.z)*Derivative(B_y(N.x, N.y, N.z), N.z) - A_x(N.x, N.y, N.z)*Derivative(B_z(N.x, N.y, N.z), N.y) - A_y(N.x, N.y, N.z)*Derivative(B_x(N.x, N.y, N.z), N.z) + A_y(N.x, N.y, N.z)*Derivative(B_z(N.x, N.y, N.z), N.x) + A_z(N.x, N.y, N.z)*Derivative(B_x(N.x, N.y, N.z), N.y) - A_z(N.x, N.y, N.z)*Derivative(B_y(N.x, N.y, N.z), N.x) - B_x(N.x, N.y, N.z)*Derivative(A_y(N.x, N.y, N.z), N.z) + B_x(N.x, N.y, N.z)*Derivative(A_z(N.x, N.y, N.z), N.y) + B_y(N.x, N.y, N.z)*Derivative(A_x(N.x, N.y, N.z), N.z) - B_y(N.x, N.y, N.z)*Derivative(A_z(N.x, N.y, N.z), N.x) - B_z(N.x, N.y, N.z)*Derivative(A_x(N.x, N.y, N.z), N.y) + B_z(N.x, N.y, N.z)*Derivative(A_y(N.x, N.y, N.z), N.x)"
      ]
     },
     "metadata": {},
     "output_type": "display_data"
    },
    {
     "name": "stdout",
     "output_type": "stream",
     "text": [
      "化简得到：\n"
     ]
    },
    {
     "data": {
      "text/latex": [
       "$\\displaystyle 0$"
      ],
      "text/plain": [
       "0"
      ]
     },
     "metadata": {},
     "output_type": "display_data"
    }
   ],
   "source": [
    "curl_A = curl(A)\n",
    "curl_B = curl(B)\n",
    "print('检验左式和右式是否相等，左式减去右式等于：')\n",
    "display(div_AB - (curl_A & B) + (curl_B & A))\n",
    "print('化简得到：')\n",
    "display(sp.simplify(div_AB - (curl_A & B) + (curl_B & A)))"
   ]
  },
  {
   "cell_type": "markdown",
   "id": "adbf6c1b-4697-4089-948f-86a18b85cc9e",
   "metadata": {},
   "source": [
    "### 验证旋度的积法则"
   ]
  },
  {
   "cell_type": "code",
   "execution_count": 47,
   "id": "e328b283-4be0-43a9-8b1a-161422f10ca6",
   "metadata": {},
   "outputs": [
    {
     "name": "stdout",
     "output_type": "stream",
     "text": [
      "抽象向量场：A =\n"
     ]
    },
    {
     "data": {
      "text/latex": [
       "$\\displaystyle \\left(A_{x}{\\left(\\mathbf{{x}_{N}},\\mathbf{{y}_{N}},\\mathbf{{z}_{N}} \\right)}\\right)\\mathbf{\\hat{i}_{N}} + \\left(A_{y}{\\left(\\mathbf{{x}_{N}},\\mathbf{{y}_{N}},\\mathbf{{z}_{N}} \\right)}\\right)\\mathbf{\\hat{j}_{N}} + \\left(A_{z}{\\left(\\mathbf{{x}_{N}},\\mathbf{{y}_{N}},\\mathbf{{z}_{N}} \\right)}\\right)\\mathbf{\\hat{k}_{N}}$"
      ],
      "text/plain": [
       "(A_x(N.x, N.y, N.z))*N.i + (A_y(N.x, N.y, N.z))*N.j + (A_z(N.x, N.y, N.z))*N.k"
      ]
     },
     "metadata": {},
     "output_type": "display_data"
    },
    {
     "name": "stdout",
     "output_type": "stream",
     "text": [
      "梯度 ∇×(fg):\n"
     ]
    },
    {
     "data": {
      "text/latex": [
       "$\\displaystyle \\left(- A_{y}{\\left(\\mathbf{{x}_{N}},\\mathbf{{y}_{N}},\\mathbf{{z}_{N}} \\right)} \\frac{\\partial}{\\partial \\mathbf{{z}_{N}}} f{\\left(\\mathbf{{x}_{N}},\\mathbf{{y}_{N}},\\mathbf{{z}_{N}} \\right)} + A_{z}{\\left(\\mathbf{{x}_{N}},\\mathbf{{y}_{N}},\\mathbf{{z}_{N}} \\right)} \\frac{\\partial}{\\partial \\mathbf{{y}_{N}}} f{\\left(\\mathbf{{x}_{N}},\\mathbf{{y}_{N}},\\mathbf{{z}_{N}} \\right)} - f{\\left(\\mathbf{{x}_{N}},\\mathbf{{y}_{N}},\\mathbf{{z}_{N}} \\right)} \\frac{\\partial}{\\partial \\mathbf{{z}_{N}}} A_{y}{\\left(\\mathbf{{x}_{N}},\\mathbf{{y}_{N}},\\mathbf{{z}_{N}} \\right)} + f{\\left(\\mathbf{{x}_{N}},\\mathbf{{y}_{N}},\\mathbf{{z}_{N}} \\right)} \\frac{\\partial}{\\partial \\mathbf{{y}_{N}}} A_{z}{\\left(\\mathbf{{x}_{N}},\\mathbf{{y}_{N}},\\mathbf{{z}_{N}} \\right)}\\right)\\mathbf{\\hat{i}_{N}} + \\left(A_{x}{\\left(\\mathbf{{x}_{N}},\\mathbf{{y}_{N}},\\mathbf{{z}_{N}} \\right)} \\frac{\\partial}{\\partial \\mathbf{{z}_{N}}} f{\\left(\\mathbf{{x}_{N}},\\mathbf{{y}_{N}},\\mathbf{{z}_{N}} \\right)} - A_{z}{\\left(\\mathbf{{x}_{N}},\\mathbf{{y}_{N}},\\mathbf{{z}_{N}} \\right)} \\frac{\\partial}{\\partial \\mathbf{{x}_{N}}} f{\\left(\\mathbf{{x}_{N}},\\mathbf{{y}_{N}},\\mathbf{{z}_{N}} \\right)} + f{\\left(\\mathbf{{x}_{N}},\\mathbf{{y}_{N}},\\mathbf{{z}_{N}} \\right)} \\frac{\\partial}{\\partial \\mathbf{{z}_{N}}} A_{x}{\\left(\\mathbf{{x}_{N}},\\mathbf{{y}_{N}},\\mathbf{{z}_{N}} \\right)} - f{\\left(\\mathbf{{x}_{N}},\\mathbf{{y}_{N}},\\mathbf{{z}_{N}} \\right)} \\frac{\\partial}{\\partial \\mathbf{{x}_{N}}} A_{z}{\\left(\\mathbf{{x}_{N}},\\mathbf{{y}_{N}},\\mathbf{{z}_{N}} \\right)}\\right)\\mathbf{\\hat{j}_{N}} + \\left(- A_{x}{\\left(\\mathbf{{x}_{N}},\\mathbf{{y}_{N}},\\mathbf{{z}_{N}} \\right)} \\frac{\\partial}{\\partial \\mathbf{{y}_{N}}} f{\\left(\\mathbf{{x}_{N}},\\mathbf{{y}_{N}},\\mathbf{{z}_{N}} \\right)} + A_{y}{\\left(\\mathbf{{x}_{N}},\\mathbf{{y}_{N}},\\mathbf{{z}_{N}} \\right)} \\frac{\\partial}{\\partial \\mathbf{{x}_{N}}} f{\\left(\\mathbf{{x}_{N}},\\mathbf{{y}_{N}},\\mathbf{{z}_{N}} \\right)} - f{\\left(\\mathbf{{x}_{N}},\\mathbf{{y}_{N}},\\mathbf{{z}_{N}} \\right)} \\frac{\\partial}{\\partial \\mathbf{{y}_{N}}} A_{x}{\\left(\\mathbf{{x}_{N}},\\mathbf{{y}_{N}},\\mathbf{{z}_{N}} \\right)} + f{\\left(\\mathbf{{x}_{N}},\\mathbf{{y}_{N}},\\mathbf{{z}_{N}} \\right)} \\frac{\\partial}{\\partial \\mathbf{{x}_{N}}} A_{y}{\\left(\\mathbf{{x}_{N}},\\mathbf{{y}_{N}},\\mathbf{{z}_{N}} \\right)}\\right)\\mathbf{\\hat{k}_{N}}$"
      ],
      "text/plain": [
       "(-A_y(N.x, N.y, N.z)*Derivative(f(N.x, N.y, N.z), N.z) + A_z(N.x, N.y, N.z)*Derivative(f(N.x, N.y, N.z), N.y) - f(N.x, N.y, N.z)*Derivative(A_y(N.x, N.y, N.z), N.z) + f(N.x, N.y, N.z)*Derivative(A_z(N.x, N.y, N.z), N.y))*N.i + (A_x(N.x, N.y, N.z)*Derivative(f(N.x, N.y, N.z), N.z) - A_z(N.x, N.y, N.z)*Derivative(f(N.x, N.y, N.z), N.x) + f(N.x, N.y, N.z)*Derivative(A_x(N.x, N.y, N.z), N.z) - f(N.x, N.y, N.z)*Derivative(A_z(N.x, N.y, N.z), N.x))*N.j + (-A_x(N.x, N.y, N.z)*Derivative(f(N.x, N.y, N.z), N.y) + A_y(N.x, N.y, N.z)*Derivative(f(N.x, N.y, N.z), N.x) - f(N.x, N.y, N.z)*Derivative(A_x(N.x, N.y, N.z), N.y) + f(N.x, N.y, N.z)*Derivative(A_y(N.x, N.y, N.z), N.x))*N.k"
      ]
     },
     "metadata": {},
     "output_type": "display_data"
    }
   ],
   "source": [
    "import sympy as sp\n",
    "from sympy.vector import CoordSys3D, gradient, divergence, curl\n",
    "from sympy import Function\n",
    "from IPython.display import display\n",
    "\n",
    "# 创建一个三维坐标系\n",
    "N = CoordSys3D('N')\n",
    "\n",
    "# 定义标量场 f 和向量场 A\n",
    "N.x, N.y, N.z = N.x, N.y, N.z\n",
    "f = Function('f')(N.x, N.y, N.z)  # 抽象标量场 f\n",
    "\n",
    "A_x, A_y, A_z = Function('A_x')(N.x, N.y, N.z), Function('A_y')(N.x, N.y, N.z), Function('A_z')(N.x, N.y, N.z)\n",
    "A = A_x*N.i + A_y*N.j + A_z*N.k  # 抽象向量场 A\n",
    "print('抽象向量场：A =')\n",
    "display(A)\n",
    "\n",
    "# 计算标量函数与矢量场乘积的旋度\n",
    "\n",
    "curl_fA = curl(f * A)\n",
    "\n",
    "print(\"梯度 ∇×(fg):\")\n",
    "display(curl_fA)"
   ]
  },
  {
   "cell_type": "code",
   "execution_count": 49,
   "id": "1cba67f5-b0bd-48a8-aa69-9b1db254dab1",
   "metadata": {},
   "outputs": [
    {
     "name": "stdout",
     "output_type": "stream",
     "text": [
      "检验左式和右式是否相等，左式减去右式等于：\n"
     ]
    },
    {
     "data": {
      "text/latex": [
       "$\\displaystyle \\left(- \\left(- \\frac{\\partial}{\\partial \\mathbf{{z}_{N}}} A_{y}{\\left(\\mathbf{{x}_{N}},\\mathbf{{y}_{N}},\\mathbf{{z}_{N}} \\right)} + \\frac{\\partial}{\\partial \\mathbf{{y}_{N}}} A_{z}{\\left(\\mathbf{{x}_{N}},\\mathbf{{y}_{N}},\\mathbf{{z}_{N}} \\right)}\\right) f{\\left(\\mathbf{{x}_{N}},\\mathbf{{y}_{N}},\\mathbf{{z}_{N}} \\right)} - f{\\left(\\mathbf{{x}_{N}},\\mathbf{{y}_{N}},\\mathbf{{z}_{N}} \\right)} \\frac{\\partial}{\\partial \\mathbf{{z}_{N}}} A_{y}{\\left(\\mathbf{{x}_{N}},\\mathbf{{y}_{N}},\\mathbf{{z}_{N}} \\right)} + f{\\left(\\mathbf{{x}_{N}},\\mathbf{{y}_{N}},\\mathbf{{z}_{N}} \\right)} \\frac{\\partial}{\\partial \\mathbf{{y}_{N}}} A_{z}{\\left(\\mathbf{{x}_{N}},\\mathbf{{y}_{N}},\\mathbf{{z}_{N}} \\right)}\\right)\\mathbf{\\hat{i}_{N}} + \\left(- \\left(\\frac{\\partial}{\\partial \\mathbf{{z}_{N}}} A_{x}{\\left(\\mathbf{{x}_{N}},\\mathbf{{y}_{N}},\\mathbf{{z}_{N}} \\right)} - \\frac{\\partial}{\\partial \\mathbf{{x}_{N}}} A_{z}{\\left(\\mathbf{{x}_{N}},\\mathbf{{y}_{N}},\\mathbf{{z}_{N}} \\right)}\\right) f{\\left(\\mathbf{{x}_{N}},\\mathbf{{y}_{N}},\\mathbf{{z}_{N}} \\right)} + f{\\left(\\mathbf{{x}_{N}},\\mathbf{{y}_{N}},\\mathbf{{z}_{N}} \\right)} \\frac{\\partial}{\\partial \\mathbf{{z}_{N}}} A_{x}{\\left(\\mathbf{{x}_{N}},\\mathbf{{y}_{N}},\\mathbf{{z}_{N}} \\right)} - f{\\left(\\mathbf{{x}_{N}},\\mathbf{{y}_{N}},\\mathbf{{z}_{N}} \\right)} \\frac{\\partial}{\\partial \\mathbf{{x}_{N}}} A_{z}{\\left(\\mathbf{{x}_{N}},\\mathbf{{y}_{N}},\\mathbf{{z}_{N}} \\right)}\\right)\\mathbf{\\hat{j}_{N}} + \\left(- \\left(- \\frac{\\partial}{\\partial \\mathbf{{y}_{N}}} A_{x}{\\left(\\mathbf{{x}_{N}},\\mathbf{{y}_{N}},\\mathbf{{z}_{N}} \\right)} + \\frac{\\partial}{\\partial \\mathbf{{x}_{N}}} A_{y}{\\left(\\mathbf{{x}_{N}},\\mathbf{{y}_{N}},\\mathbf{{z}_{N}} \\right)}\\right) f{\\left(\\mathbf{{x}_{N}},\\mathbf{{y}_{N}},\\mathbf{{z}_{N}} \\right)} - f{\\left(\\mathbf{{x}_{N}},\\mathbf{{y}_{N}},\\mathbf{{z}_{N}} \\right)} \\frac{\\partial}{\\partial \\mathbf{{y}_{N}}} A_{x}{\\left(\\mathbf{{x}_{N}},\\mathbf{{y}_{N}},\\mathbf{{z}_{N}} \\right)} + f{\\left(\\mathbf{{x}_{N}},\\mathbf{{y}_{N}},\\mathbf{{z}_{N}} \\right)} \\frac{\\partial}{\\partial \\mathbf{{x}_{N}}} A_{y}{\\left(\\mathbf{{x}_{N}},\\mathbf{{y}_{N}},\\mathbf{{z}_{N}} \\right)}\\right)\\mathbf{\\hat{k}_{N}}$"
      ],
      "text/plain": [
       "(-(-Derivative(A_y(N.x, N.y, N.z), N.z) + Derivative(A_z(N.x, N.y, N.z), N.y))*f(N.x, N.y, N.z) - f(N.x, N.y, N.z)*Derivative(A_y(N.x, N.y, N.z), N.z) + f(N.x, N.y, N.z)*Derivative(A_z(N.x, N.y, N.z), N.y))*N.i + (-(Derivative(A_x(N.x, N.y, N.z), N.z) - Derivative(A_z(N.x, N.y, N.z), N.x))*f(N.x, N.y, N.z) + f(N.x, N.y, N.z)*Derivative(A_x(N.x, N.y, N.z), N.z) - f(N.x, N.y, N.z)*Derivative(A_z(N.x, N.y, N.z), N.x))*N.j + (-(-Derivative(A_x(N.x, N.y, N.z), N.y) + Derivative(A_y(N.x, N.y, N.z), N.x))*f(N.x, N.y, N.z) - f(N.x, N.y, N.z)*Derivative(A_x(N.x, N.y, N.z), N.y) + f(N.x, N.y, N.z)*Derivative(A_y(N.x, N.y, N.z), N.x))*N.k"
      ]
     },
     "metadata": {},
     "output_type": "display_data"
    },
    {
     "name": "stdout",
     "output_type": "stream",
     "text": [
      "化简得到：\n"
     ]
    },
    {
     "data": {
      "text/latex": [
       "$\\displaystyle \\mathbf{\\hat{0}}$"
      ],
      "text/plain": [
       "0"
      ]
     },
     "metadata": {},
     "output_type": "display_data"
    }
   ],
   "source": [
    "grad_f = gradient(f)\n",
    "curl_A = curl(A)\n",
    "print('检验左式和右式是否相等，左式减去右式等于：')\n",
    "display(curl_fA - (grad_f ^ A) - (f * curl_A))\n",
    "print('化简得到：')\n",
    "display(sp.simplify(curl_fA - (grad_f ^ A) - (f * curl_A)))"
   ]
  },
  {
   "cell_type": "code",
   "execution_count": 51,
   "id": "305c0220-9275-40b0-9773-a1d32b72b320",
   "metadata": {},
   "outputs": [
    {
     "name": "stdout",
     "output_type": "stream",
     "text": [
      "抽象矢量场 A =\n"
     ]
    },
    {
     "data": {
      "text/latex": [
       "$\\displaystyle \\left(A_{x}{\\left(\\mathbf{{x}_{N}},\\mathbf{{y}_{N}},\\mathbf{{z}_{N}} \\right)}\\right)\\mathbf{\\hat{i}_{N}} + \\left(A_{y}{\\left(\\mathbf{{x}_{N}},\\mathbf{{y}_{N}},\\mathbf{{z}_{N}} \\right)}\\right)\\mathbf{\\hat{j}_{N}} + \\left(A_{z}{\\left(\\mathbf{{x}_{N}},\\mathbf{{y}_{N}},\\mathbf{{z}_{N}} \\right)}\\right)\\mathbf{\\hat{k}_{N}}$"
      ],
      "text/plain": [
       "(A_x(N.x, N.y, N.z))*N.i + (A_y(N.x, N.y, N.z))*N.j + (A_z(N.x, N.y, N.z))*N.k"
      ]
     },
     "metadata": {},
     "output_type": "display_data"
    },
    {
     "name": "stdout",
     "output_type": "stream",
     "text": [
      "抽象矢量场 B =\n"
     ]
    },
    {
     "data": {
      "text/latex": [
       "$\\displaystyle \\left(B_{x}{\\left(\\mathbf{{x}_{N}},\\mathbf{{y}_{N}},\\mathbf{{z}_{N}} \\right)}\\right)\\mathbf{\\hat{i}_{N}} + \\left(B_{y}{\\left(\\mathbf{{x}_{N}},\\mathbf{{y}_{N}},\\mathbf{{z}_{N}} \\right)}\\right)\\mathbf{\\hat{j}_{N}} + \\left(B_{z}{\\left(\\mathbf{{x}_{N}},\\mathbf{{y}_{N}},\\mathbf{{z}_{N}} \\right)}\\right)\\mathbf{\\hat{k}_{N}}$"
      ],
      "text/plain": [
       "(B_x(N.x, N.y, N.z))*N.i + (B_y(N.x, N.y, N.z))*N.j + (B_z(N.x, N.y, N.z))*N.k"
      ]
     },
     "metadata": {},
     "output_type": "display_data"
    },
    {
     "name": "stdout",
     "output_type": "stream",
     "text": [
      "梯度 ∇×(A×B):\n"
     ]
    },
    {
     "data": {
      "text/latex": [
       "$\\displaystyle \\left(A_{x}{\\left(\\mathbf{{x}_{N}},\\mathbf{{y}_{N}},\\mathbf{{z}_{N}} \\right)} \\frac{\\partial}{\\partial \\mathbf{{y}_{N}}} B_{y}{\\left(\\mathbf{{x}_{N}},\\mathbf{{y}_{N}},\\mathbf{{z}_{N}} \\right)} + A_{x}{\\left(\\mathbf{{x}_{N}},\\mathbf{{y}_{N}},\\mathbf{{z}_{N}} \\right)} \\frac{\\partial}{\\partial \\mathbf{{z}_{N}}} B_{z}{\\left(\\mathbf{{x}_{N}},\\mathbf{{y}_{N}},\\mathbf{{z}_{N}} \\right)} - A_{y}{\\left(\\mathbf{{x}_{N}},\\mathbf{{y}_{N}},\\mathbf{{z}_{N}} \\right)} \\frac{\\partial}{\\partial \\mathbf{{y}_{N}}} B_{x}{\\left(\\mathbf{{x}_{N}},\\mathbf{{y}_{N}},\\mathbf{{z}_{N}} \\right)} - A_{z}{\\left(\\mathbf{{x}_{N}},\\mathbf{{y}_{N}},\\mathbf{{z}_{N}} \\right)} \\frac{\\partial}{\\partial \\mathbf{{z}_{N}}} B_{x}{\\left(\\mathbf{{x}_{N}},\\mathbf{{y}_{N}},\\mathbf{{z}_{N}} \\right)} - B_{x}{\\left(\\mathbf{{x}_{N}},\\mathbf{{y}_{N}},\\mathbf{{z}_{N}} \\right)} \\frac{\\partial}{\\partial \\mathbf{{y}_{N}}} A_{y}{\\left(\\mathbf{{x}_{N}},\\mathbf{{y}_{N}},\\mathbf{{z}_{N}} \\right)} - B_{x}{\\left(\\mathbf{{x}_{N}},\\mathbf{{y}_{N}},\\mathbf{{z}_{N}} \\right)} \\frac{\\partial}{\\partial \\mathbf{{z}_{N}}} A_{z}{\\left(\\mathbf{{x}_{N}},\\mathbf{{y}_{N}},\\mathbf{{z}_{N}} \\right)} + B_{y}{\\left(\\mathbf{{x}_{N}},\\mathbf{{y}_{N}},\\mathbf{{z}_{N}} \\right)} \\frac{\\partial}{\\partial \\mathbf{{y}_{N}}} A_{x}{\\left(\\mathbf{{x}_{N}},\\mathbf{{y}_{N}},\\mathbf{{z}_{N}} \\right)} + B_{z}{\\left(\\mathbf{{x}_{N}},\\mathbf{{y}_{N}},\\mathbf{{z}_{N}} \\right)} \\frac{\\partial}{\\partial \\mathbf{{z}_{N}}} A_{x}{\\left(\\mathbf{{x}_{N}},\\mathbf{{y}_{N}},\\mathbf{{z}_{N}} \\right)}\\right)\\mathbf{\\hat{i}_{N}} + \\left(- A_{x}{\\left(\\mathbf{{x}_{N}},\\mathbf{{y}_{N}},\\mathbf{{z}_{N}} \\right)} \\frac{\\partial}{\\partial \\mathbf{{x}_{N}}} B_{y}{\\left(\\mathbf{{x}_{N}},\\mathbf{{y}_{N}},\\mathbf{{z}_{N}} \\right)} + A_{y}{\\left(\\mathbf{{x}_{N}},\\mathbf{{y}_{N}},\\mathbf{{z}_{N}} \\right)} \\frac{\\partial}{\\partial \\mathbf{{x}_{N}}} B_{x}{\\left(\\mathbf{{x}_{N}},\\mathbf{{y}_{N}},\\mathbf{{z}_{N}} \\right)} + A_{y}{\\left(\\mathbf{{x}_{N}},\\mathbf{{y}_{N}},\\mathbf{{z}_{N}} \\right)} \\frac{\\partial}{\\partial \\mathbf{{z}_{N}}} B_{z}{\\left(\\mathbf{{x}_{N}},\\mathbf{{y}_{N}},\\mathbf{{z}_{N}} \\right)} - A_{z}{\\left(\\mathbf{{x}_{N}},\\mathbf{{y}_{N}},\\mathbf{{z}_{N}} \\right)} \\frac{\\partial}{\\partial \\mathbf{{z}_{N}}} B_{y}{\\left(\\mathbf{{x}_{N}},\\mathbf{{y}_{N}},\\mathbf{{z}_{N}} \\right)} + B_{x}{\\left(\\mathbf{{x}_{N}},\\mathbf{{y}_{N}},\\mathbf{{z}_{N}} \\right)} \\frac{\\partial}{\\partial \\mathbf{{x}_{N}}} A_{y}{\\left(\\mathbf{{x}_{N}},\\mathbf{{y}_{N}},\\mathbf{{z}_{N}} \\right)} - B_{y}{\\left(\\mathbf{{x}_{N}},\\mathbf{{y}_{N}},\\mathbf{{z}_{N}} \\right)} \\frac{\\partial}{\\partial \\mathbf{{x}_{N}}} A_{x}{\\left(\\mathbf{{x}_{N}},\\mathbf{{y}_{N}},\\mathbf{{z}_{N}} \\right)} - B_{y}{\\left(\\mathbf{{x}_{N}},\\mathbf{{y}_{N}},\\mathbf{{z}_{N}} \\right)} \\frac{\\partial}{\\partial \\mathbf{{z}_{N}}} A_{z}{\\left(\\mathbf{{x}_{N}},\\mathbf{{y}_{N}},\\mathbf{{z}_{N}} \\right)} + B_{z}{\\left(\\mathbf{{x}_{N}},\\mathbf{{y}_{N}},\\mathbf{{z}_{N}} \\right)} \\frac{\\partial}{\\partial \\mathbf{{z}_{N}}} A_{y}{\\left(\\mathbf{{x}_{N}},\\mathbf{{y}_{N}},\\mathbf{{z}_{N}} \\right)}\\right)\\mathbf{\\hat{j}_{N}} + \\left(- A_{x}{\\left(\\mathbf{{x}_{N}},\\mathbf{{y}_{N}},\\mathbf{{z}_{N}} \\right)} \\frac{\\partial}{\\partial \\mathbf{{x}_{N}}} B_{z}{\\left(\\mathbf{{x}_{N}},\\mathbf{{y}_{N}},\\mathbf{{z}_{N}} \\right)} - A_{y}{\\left(\\mathbf{{x}_{N}},\\mathbf{{y}_{N}},\\mathbf{{z}_{N}} \\right)} \\frac{\\partial}{\\partial \\mathbf{{y}_{N}}} B_{z}{\\left(\\mathbf{{x}_{N}},\\mathbf{{y}_{N}},\\mathbf{{z}_{N}} \\right)} + A_{z}{\\left(\\mathbf{{x}_{N}},\\mathbf{{y}_{N}},\\mathbf{{z}_{N}} \\right)} \\frac{\\partial}{\\partial \\mathbf{{x}_{N}}} B_{x}{\\left(\\mathbf{{x}_{N}},\\mathbf{{y}_{N}},\\mathbf{{z}_{N}} \\right)} + A_{z}{\\left(\\mathbf{{x}_{N}},\\mathbf{{y}_{N}},\\mathbf{{z}_{N}} \\right)} \\frac{\\partial}{\\partial \\mathbf{{y}_{N}}} B_{y}{\\left(\\mathbf{{x}_{N}},\\mathbf{{y}_{N}},\\mathbf{{z}_{N}} \\right)} + B_{x}{\\left(\\mathbf{{x}_{N}},\\mathbf{{y}_{N}},\\mathbf{{z}_{N}} \\right)} \\frac{\\partial}{\\partial \\mathbf{{x}_{N}}} A_{z}{\\left(\\mathbf{{x}_{N}},\\mathbf{{y}_{N}},\\mathbf{{z}_{N}} \\right)} + B_{y}{\\left(\\mathbf{{x}_{N}},\\mathbf{{y}_{N}},\\mathbf{{z}_{N}} \\right)} \\frac{\\partial}{\\partial \\mathbf{{y}_{N}}} A_{z}{\\left(\\mathbf{{x}_{N}},\\mathbf{{y}_{N}},\\mathbf{{z}_{N}} \\right)} - B_{z}{\\left(\\mathbf{{x}_{N}},\\mathbf{{y}_{N}},\\mathbf{{z}_{N}} \\right)} \\frac{\\partial}{\\partial \\mathbf{{x}_{N}}} A_{x}{\\left(\\mathbf{{x}_{N}},\\mathbf{{y}_{N}},\\mathbf{{z}_{N}} \\right)} - B_{z}{\\left(\\mathbf{{x}_{N}},\\mathbf{{y}_{N}},\\mathbf{{z}_{N}} \\right)} \\frac{\\partial}{\\partial \\mathbf{{y}_{N}}} A_{y}{\\left(\\mathbf{{x}_{N}},\\mathbf{{y}_{N}},\\mathbf{{z}_{N}} \\right)}\\right)\\mathbf{\\hat{k}_{N}}$"
      ],
      "text/plain": [
       "(A_x(N.x, N.y, N.z)*Derivative(B_y(N.x, N.y, N.z), N.y) + A_x(N.x, N.y, N.z)*Derivative(B_z(N.x, N.y, N.z), N.z) - A_y(N.x, N.y, N.z)*Derivative(B_x(N.x, N.y, N.z), N.y) - A_z(N.x, N.y, N.z)*Derivative(B_x(N.x, N.y, N.z), N.z) - B_x(N.x, N.y, N.z)*Derivative(A_y(N.x, N.y, N.z), N.y) - B_x(N.x, N.y, N.z)*Derivative(A_z(N.x, N.y, N.z), N.z) + B_y(N.x, N.y, N.z)*Derivative(A_x(N.x, N.y, N.z), N.y) + B_z(N.x, N.y, N.z)*Derivative(A_x(N.x, N.y, N.z), N.z))*N.i + (-A_x(N.x, N.y, N.z)*Derivative(B_y(N.x, N.y, N.z), N.x) + A_y(N.x, N.y, N.z)*Derivative(B_x(N.x, N.y, N.z), N.x) + A_y(N.x, N.y, N.z)*Derivative(B_z(N.x, N.y, N.z), N.z) - A_z(N.x, N.y, N.z)*Derivative(B_y(N.x, N.y, N.z), N.z) + B_x(N.x, N.y, N.z)*Derivative(A_y(N.x, N.y, N.z), N.x) - B_y(N.x, N.y, N.z)*Derivative(A_x(N.x, N.y, N.z), N.x) - B_y(N.x, N.y, N.z)*Derivative(A_z(N.x, N.y, N.z), N.z) + B_z(N.x, N.y, N.z)*Derivative(A_y(N.x, N.y, N.z), N.z))*N.j + (-A_x(N.x, N.y, N.z)*Derivative(B_z(N.x, N.y, N.z), N.x) - A_y(N.x, N.y, N.z)*Derivative(B_z(N.x, N.y, N.z), N.y) + A_z(N.x, N.y, N.z)*Derivative(B_x(N.x, N.y, N.z), N.x) + A_z(N.x, N.y, N.z)*Derivative(B_y(N.x, N.y, N.z), N.y) + B_x(N.x, N.y, N.z)*Derivative(A_z(N.x, N.y, N.z), N.x) + B_y(N.x, N.y, N.z)*Derivative(A_z(N.x, N.y, N.z), N.y) - B_z(N.x, N.y, N.z)*Derivative(A_x(N.x, N.y, N.z), N.x) - B_z(N.x, N.y, N.z)*Derivative(A_y(N.x, N.y, N.z), N.y))*N.k"
      ]
     },
     "metadata": {},
     "output_type": "display_data"
    }
   ],
   "source": [
    "import sympy as sp\n",
    "from sympy.vector import CoordSys3D, gradient, divergence, curl\n",
    "from sympy import Function\n",
    "from IPython.display import display\n",
    "\n",
    "# 创建一个三维坐标系\n",
    "N = CoordSys3D('N')\n",
    "\n",
    "\n",
    "# 定义标量场 f 和向量场 A\n",
    "N.x, N.y, N.z = N.x, N.y, N.z\n",
    "A_x, A_y, A_z = Function('A_x')(N.x, N.y, N.z), Function('A_y')(N.x, N.y, N.z), Function('A_z')(N.x, N.y, N.z)\n",
    "A = A_x*N.i + A_y*N.j + A_z*N.k  # 抽象向量场 A\n",
    "B_x, B_y, B_z = Function('B_x')(N.x, N.y, N.z), Function('B_y')(N.x, N.y, N.z), Function('B_z')(N.x, N.y, N.z)\n",
    "B = B_x*N.i + B_y*N.j + B_z*N.k  # 抽象向量场 B\n",
    "print('抽象矢量场 A =')\n",
    "display(A)\n",
    "print('抽象矢量场 B =')\n",
    "display(B)\n",
    "\n",
    "# 计算旋度的旋度\n",
    "curl_AB = curl(A ^ B)\n",
    "\n",
    "print(\"梯度 ∇×(A×B):\")\n",
    "display(curl_AB)"
   ]
  },
  {
   "cell_type": "code",
   "execution_count": 66,
   "id": "ce9eb434-5dc5-40a5-a328-c87a213857f8",
   "metadata": {},
   "outputs": [
    {
     "name": "stdout",
     "output_type": "stream",
     "text": [
      "右式固定A的第一项：\n"
     ]
    },
    {
     "data": {
      "text/latex": [
       "$\\displaystyle \\left(\\left(\\frac{\\partial}{\\partial \\mathbf{{x}_{N}}} B_{x}{\\left(\\mathbf{{x}_{N}},\\mathbf{{y}_{N}},\\mathbf{{z}_{N}} \\right)} + \\frac{\\partial}{\\partial \\mathbf{{y}_{N}}} B_{y}{\\left(\\mathbf{{x}_{N}},\\mathbf{{y}_{N}},\\mathbf{{z}_{N}} \\right)} + \\frac{\\partial}{\\partial \\mathbf{{z}_{N}}} B_{z}{\\left(\\mathbf{{x}_{N}},\\mathbf{{y}_{N}},\\mathbf{{z}_{N}} \\right)}\\right) A_{x}{\\left(\\mathbf{{x}_{N}},\\mathbf{{y}_{N}},\\mathbf{{z}_{N}} \\right)}\\right)\\mathbf{\\hat{i}_{N}} + \\left(\\left(\\frac{\\partial}{\\partial \\mathbf{{x}_{N}}} B_{x}{\\left(\\mathbf{{x}_{N}},\\mathbf{{y}_{N}},\\mathbf{{z}_{N}} \\right)} + \\frac{\\partial}{\\partial \\mathbf{{y}_{N}}} B_{y}{\\left(\\mathbf{{x}_{N}},\\mathbf{{y}_{N}},\\mathbf{{z}_{N}} \\right)} + \\frac{\\partial}{\\partial \\mathbf{{z}_{N}}} B_{z}{\\left(\\mathbf{{x}_{N}},\\mathbf{{y}_{N}},\\mathbf{{z}_{N}} \\right)}\\right) A_{y}{\\left(\\mathbf{{x}_{N}},\\mathbf{{y}_{N}},\\mathbf{{z}_{N}} \\right)}\\right)\\mathbf{\\hat{j}_{N}} + \\left(\\left(\\frac{\\partial}{\\partial \\mathbf{{x}_{N}}} B_{x}{\\left(\\mathbf{{x}_{N}},\\mathbf{{y}_{N}},\\mathbf{{z}_{N}} \\right)} + \\frac{\\partial}{\\partial \\mathbf{{y}_{N}}} B_{y}{\\left(\\mathbf{{x}_{N}},\\mathbf{{y}_{N}},\\mathbf{{z}_{N}} \\right)} + \\frac{\\partial}{\\partial \\mathbf{{z}_{N}}} B_{z}{\\left(\\mathbf{{x}_{N}},\\mathbf{{y}_{N}},\\mathbf{{z}_{N}} \\right)}\\right) A_{z}{\\left(\\mathbf{{x}_{N}},\\mathbf{{y}_{N}},\\mathbf{{z}_{N}} \\right)}\\right)\\mathbf{\\hat{k}_{N}}$"
      ],
      "text/plain": [
       "((Derivative(B_x(N.x, N.y, N.z), N.x) + Derivative(B_y(N.x, N.y, N.z), N.y) + Derivative(B_z(N.x, N.y, N.z), N.z))*A_x(N.x, N.y, N.z))*N.i + ((Derivative(B_x(N.x, N.y, N.z), N.x) + Derivative(B_y(N.x, N.y, N.z), N.y) + Derivative(B_z(N.x, N.y, N.z), N.z))*A_y(N.x, N.y, N.z))*N.j + ((Derivative(B_x(N.x, N.y, N.z), N.x) + Derivative(B_y(N.x, N.y, N.z), N.y) + Derivative(B_z(N.x, N.y, N.z), N.z))*A_z(N.x, N.y, N.z))*N.k"
      ]
     },
     "metadata": {},
     "output_type": "display_data"
    },
    {
     "name": "stdout",
     "output_type": "stream",
     "text": [
      "右式固定A的第二项：\n"
     ]
    },
    {
     "data": {
      "text/latex": [
       "$\\displaystyle \\left(- A_{x}{\\left(\\mathbf{{x}_{N}},\\mathbf{{y}_{N}},\\mathbf{{z}_{N}} \\right)} \\frac{\\partial}{\\partial \\mathbf{{x}_{N}}} B_{x}{\\left(\\mathbf{{x}_{N}},\\mathbf{{y}_{N}},\\mathbf{{z}_{N}} \\right)} - A_{y}{\\left(\\mathbf{{x}_{N}},\\mathbf{{y}_{N}},\\mathbf{{z}_{N}} \\right)} \\frac{\\partial}{\\partial \\mathbf{{y}_{N}}} B_{x}{\\left(\\mathbf{{x}_{N}},\\mathbf{{y}_{N}},\\mathbf{{z}_{N}} \\right)} - A_{z}{\\left(\\mathbf{{x}_{N}},\\mathbf{{y}_{N}},\\mathbf{{z}_{N}} \\right)} \\frac{\\partial}{\\partial \\mathbf{{z}_{N}}} B_{x}{\\left(\\mathbf{{x}_{N}},\\mathbf{{y}_{N}},\\mathbf{{z}_{N}} \\right)}\\right)\\mathbf{\\hat{i}_{N}} + \\left(- A_{x}{\\left(\\mathbf{{x}_{N}},\\mathbf{{y}_{N}},\\mathbf{{z}_{N}} \\right)} \\frac{\\partial}{\\partial \\mathbf{{x}_{N}}} B_{y}{\\left(\\mathbf{{x}_{N}},\\mathbf{{y}_{N}},\\mathbf{{z}_{N}} \\right)} - A_{y}{\\left(\\mathbf{{x}_{N}},\\mathbf{{y}_{N}},\\mathbf{{z}_{N}} \\right)} \\frac{\\partial}{\\partial \\mathbf{{y}_{N}}} B_{y}{\\left(\\mathbf{{x}_{N}},\\mathbf{{y}_{N}},\\mathbf{{z}_{N}} \\right)} - A_{z}{\\left(\\mathbf{{x}_{N}},\\mathbf{{y}_{N}},\\mathbf{{z}_{N}} \\right)} \\frac{\\partial}{\\partial \\mathbf{{z}_{N}}} B_{y}{\\left(\\mathbf{{x}_{N}},\\mathbf{{y}_{N}},\\mathbf{{z}_{N}} \\right)}\\right)\\mathbf{\\hat{j}_{N}} + \\left(- A_{x}{\\left(\\mathbf{{x}_{N}},\\mathbf{{y}_{N}},\\mathbf{{z}_{N}} \\right)} \\frac{\\partial}{\\partial \\mathbf{{x}_{N}}} B_{z}{\\left(\\mathbf{{x}_{N}},\\mathbf{{y}_{N}},\\mathbf{{z}_{N}} \\right)} - A_{y}{\\left(\\mathbf{{x}_{N}},\\mathbf{{y}_{N}},\\mathbf{{z}_{N}} \\right)} \\frac{\\partial}{\\partial \\mathbf{{y}_{N}}} B_{z}{\\left(\\mathbf{{x}_{N}},\\mathbf{{y}_{N}},\\mathbf{{z}_{N}} \\right)} - A_{z}{\\left(\\mathbf{{x}_{N}},\\mathbf{{y}_{N}},\\mathbf{{z}_{N}} \\right)} \\frac{\\partial}{\\partial \\mathbf{{z}_{N}}} B_{z}{\\left(\\mathbf{{x}_{N}},\\mathbf{{y}_{N}},\\mathbf{{z}_{N}} \\right)}\\right)\\mathbf{\\hat{k}_{N}}$"
      ],
      "text/plain": [
       "(-A_x(N.x, N.y, N.z)*Derivative(B_x(N.x, N.y, N.z), N.x) - A_y(N.x, N.y, N.z)*Derivative(B_x(N.x, N.y, N.z), N.y) - A_z(N.x, N.y, N.z)*Derivative(B_x(N.x, N.y, N.z), N.z))*N.i + (-A_x(N.x, N.y, N.z)*Derivative(B_y(N.x, N.y, N.z), N.x) - A_y(N.x, N.y, N.z)*Derivative(B_y(N.x, N.y, N.z), N.y) - A_z(N.x, N.y, N.z)*Derivative(B_y(N.x, N.y, N.z), N.z))*N.j + (-A_x(N.x, N.y, N.z)*Derivative(B_z(N.x, N.y, N.z), N.x) - A_y(N.x, N.y, N.z)*Derivative(B_z(N.x, N.y, N.z), N.y) - A_z(N.x, N.y, N.z)*Derivative(B_z(N.x, N.y, N.z), N.z))*N.k"
      ]
     },
     "metadata": {},
     "output_type": "display_data"
    }
   ],
   "source": [
    "right_A1 = A * (divergence(B))\n",
    "print(\"右式固定A的第一项：\")\n",
    "display(right_A1)\n",
    "\n",
    "right_A2 = -    ((A & gradient(B_x)) * N.i + \\\n",
    "                (A & gradient(B_y)) * N.j + \\\n",
    "                (A & gradient(B_z)) * N.k)\n",
    "print(\"右式固定A的第二项：\")\n",
    "display(right_A2)"
   ]
  },
  {
   "cell_type": "code",
   "execution_count": 64,
   "id": "d825f820-2919-4d62-ade4-35a957fcfd82",
   "metadata": {},
   "outputs": [
    {
     "name": "stdout",
     "output_type": "stream",
     "text": [
      "右式固定B的第一项：\n"
     ]
    },
    {
     "data": {
      "text/latex": [
       "$\\displaystyle \\left(- \\left(\\frac{\\partial}{\\partial \\mathbf{{x}_{N}}} A_{x}{\\left(\\mathbf{{x}_{N}},\\mathbf{{y}_{N}},\\mathbf{{z}_{N}} \\right)} + \\frac{\\partial}{\\partial \\mathbf{{y}_{N}}} A_{y}{\\left(\\mathbf{{x}_{N}},\\mathbf{{y}_{N}},\\mathbf{{z}_{N}} \\right)} + \\frac{\\partial}{\\partial \\mathbf{{z}_{N}}} A_{z}{\\left(\\mathbf{{x}_{N}},\\mathbf{{y}_{N}},\\mathbf{{z}_{N}} \\right)}\\right) B_{x}{\\left(\\mathbf{{x}_{N}},\\mathbf{{y}_{N}},\\mathbf{{z}_{N}} \\right)}\\right)\\mathbf{\\hat{i}_{N}} + \\left(- \\left(\\frac{\\partial}{\\partial \\mathbf{{x}_{N}}} A_{x}{\\left(\\mathbf{{x}_{N}},\\mathbf{{y}_{N}},\\mathbf{{z}_{N}} \\right)} + \\frac{\\partial}{\\partial \\mathbf{{y}_{N}}} A_{y}{\\left(\\mathbf{{x}_{N}},\\mathbf{{y}_{N}},\\mathbf{{z}_{N}} \\right)} + \\frac{\\partial}{\\partial \\mathbf{{z}_{N}}} A_{z}{\\left(\\mathbf{{x}_{N}},\\mathbf{{y}_{N}},\\mathbf{{z}_{N}} \\right)}\\right) B_{y}{\\left(\\mathbf{{x}_{N}},\\mathbf{{y}_{N}},\\mathbf{{z}_{N}} \\right)}\\right)\\mathbf{\\hat{j}_{N}} + \\left(- \\left(\\frac{\\partial}{\\partial \\mathbf{{x}_{N}}} A_{x}{\\left(\\mathbf{{x}_{N}},\\mathbf{{y}_{N}},\\mathbf{{z}_{N}} \\right)} + \\frac{\\partial}{\\partial \\mathbf{{y}_{N}}} A_{y}{\\left(\\mathbf{{x}_{N}},\\mathbf{{y}_{N}},\\mathbf{{z}_{N}} \\right)} + \\frac{\\partial}{\\partial \\mathbf{{z}_{N}}} A_{z}{\\left(\\mathbf{{x}_{N}},\\mathbf{{y}_{N}},\\mathbf{{z}_{N}} \\right)}\\right) B_{z}{\\left(\\mathbf{{x}_{N}},\\mathbf{{y}_{N}},\\mathbf{{z}_{N}} \\right)}\\right)\\mathbf{\\hat{k}_{N}}$"
      ],
      "text/plain": [
       "(-(Derivative(A_x(N.x, N.y, N.z), N.x) + Derivative(A_y(N.x, N.y, N.z), N.y) + Derivative(A_z(N.x, N.y, N.z), N.z))*B_x(N.x, N.y, N.z))*N.i + (-(Derivative(A_x(N.x, N.y, N.z), N.x) + Derivative(A_y(N.x, N.y, N.z), N.y) + Derivative(A_z(N.x, N.y, N.z), N.z))*B_y(N.x, N.y, N.z))*N.j + (-(Derivative(A_x(N.x, N.y, N.z), N.x) + Derivative(A_y(N.x, N.y, N.z), N.y) + Derivative(A_z(N.x, N.y, N.z), N.z))*B_z(N.x, N.y, N.z))*N.k"
      ]
     },
     "metadata": {},
     "output_type": "display_data"
    },
    {
     "name": "stdout",
     "output_type": "stream",
     "text": [
      "右式固定B的第二项：\n",
      "(B_x(N.x, N.y, N.z)*Derivative(A_x(N.x, N.y, N.z), N.x) + B_y(N.x, N.y, N.z)*Derivative(A_x(N.x, N.y, N.z), N.y) + B_z(N.x, N.y, N.z)*Derivative(A_x(N.x, N.y, N.z), N.z))*N.i + (B_x(N.x, N.y, N.z)*Derivative(A_y(N.x, N.y, N.z), N.x) + B_y(N.x, N.y, N.z)*Derivative(A_y(N.x, N.y, N.z), N.y) + B_z(N.x, N.y, N.z)*Derivative(A_y(N.x, N.y, N.z), N.z))*N.j + (B_x(N.x, N.y, N.z)*Derivative(A_z(N.x, N.y, N.z), N.x) + B_y(N.x, N.y, N.z)*Derivative(A_z(N.x, N.y, N.z), N.y) + B_z(N.x, N.y, N.z)*Derivative(A_z(N.x, N.y, N.z), N.z))*N.k\n"
     ]
    }
   ],
   "source": [
    "right_B1 = -B * divergence(A)\n",
    "print(\"右式固定B的第一项：\")\n",
    "display(right_B1)\n",
    "right_B2 =  (B & gradient(A_x)) * N.i + \\\n",
    "            (B & gradient(A_y)) * N.j + \\\n",
    "            (B & gradient(A_z)) * N.k\n",
    "print(\"右式固定B的第二项：\")\n",
    "print(right_B2)"
   ]
  },
  {
   "cell_type": "code",
   "execution_count": 68,
   "id": "88c802ff-0363-47f3-a053-c37b1f1fbb07",
   "metadata": {},
   "outputs": [
    {
     "name": "stdout",
     "output_type": "stream",
     "text": [
      "检验左式和右式是否相等，左式减去右式等于：\n"
     ]
    },
    {
     "data": {
      "text/latex": [
       "$\\displaystyle \\left(\\left(\\frac{\\partial}{\\partial \\mathbf{{x}_{N}}} A_{x}{\\left(\\mathbf{{x}_{N}},\\mathbf{{y}_{N}},\\mathbf{{z}_{N}} \\right)} + \\frac{\\partial}{\\partial \\mathbf{{y}_{N}}} A_{y}{\\left(\\mathbf{{x}_{N}},\\mathbf{{y}_{N}},\\mathbf{{z}_{N}} \\right)} + \\frac{\\partial}{\\partial \\mathbf{{z}_{N}}} A_{z}{\\left(\\mathbf{{x}_{N}},\\mathbf{{y}_{N}},\\mathbf{{z}_{N}} \\right)}\\right) B_{x}{\\left(\\mathbf{{x}_{N}},\\mathbf{{y}_{N}},\\mathbf{{z}_{N}} \\right)} - \\left(\\frac{\\partial}{\\partial \\mathbf{{x}_{N}}} B_{x}{\\left(\\mathbf{{x}_{N}},\\mathbf{{y}_{N}},\\mathbf{{z}_{N}} \\right)} + \\frac{\\partial}{\\partial \\mathbf{{y}_{N}}} B_{y}{\\left(\\mathbf{{x}_{N}},\\mathbf{{y}_{N}},\\mathbf{{z}_{N}} \\right)} + \\frac{\\partial}{\\partial \\mathbf{{z}_{N}}} B_{z}{\\left(\\mathbf{{x}_{N}},\\mathbf{{y}_{N}},\\mathbf{{z}_{N}} \\right)}\\right) A_{x}{\\left(\\mathbf{{x}_{N}},\\mathbf{{y}_{N}},\\mathbf{{z}_{N}} \\right)} + A_{x}{\\left(\\mathbf{{x}_{N}},\\mathbf{{y}_{N}},\\mathbf{{z}_{N}} \\right)} \\frac{\\partial}{\\partial \\mathbf{{x}_{N}}} B_{x}{\\left(\\mathbf{{x}_{N}},\\mathbf{{y}_{N}},\\mathbf{{z}_{N}} \\right)} + A_{x}{\\left(\\mathbf{{x}_{N}},\\mathbf{{y}_{N}},\\mathbf{{z}_{N}} \\right)} \\frac{\\partial}{\\partial \\mathbf{{y}_{N}}} B_{y}{\\left(\\mathbf{{x}_{N}},\\mathbf{{y}_{N}},\\mathbf{{z}_{N}} \\right)} + A_{x}{\\left(\\mathbf{{x}_{N}},\\mathbf{{y}_{N}},\\mathbf{{z}_{N}} \\right)} \\frac{\\partial}{\\partial \\mathbf{{z}_{N}}} B_{z}{\\left(\\mathbf{{x}_{N}},\\mathbf{{y}_{N}},\\mathbf{{z}_{N}} \\right)} - B_{x}{\\left(\\mathbf{{x}_{N}},\\mathbf{{y}_{N}},\\mathbf{{z}_{N}} \\right)} \\frac{\\partial}{\\partial \\mathbf{{x}_{N}}} A_{x}{\\left(\\mathbf{{x}_{N}},\\mathbf{{y}_{N}},\\mathbf{{z}_{N}} \\right)} - B_{x}{\\left(\\mathbf{{x}_{N}},\\mathbf{{y}_{N}},\\mathbf{{z}_{N}} \\right)} \\frac{\\partial}{\\partial \\mathbf{{y}_{N}}} A_{y}{\\left(\\mathbf{{x}_{N}},\\mathbf{{y}_{N}},\\mathbf{{z}_{N}} \\right)} - B_{x}{\\left(\\mathbf{{x}_{N}},\\mathbf{{y}_{N}},\\mathbf{{z}_{N}} \\right)} \\frac{\\partial}{\\partial \\mathbf{{z}_{N}}} A_{z}{\\left(\\mathbf{{x}_{N}},\\mathbf{{y}_{N}},\\mathbf{{z}_{N}} \\right)}\\right)\\mathbf{\\hat{i}_{N}} + \\left(\\left(\\frac{\\partial}{\\partial \\mathbf{{x}_{N}}} A_{x}{\\left(\\mathbf{{x}_{N}},\\mathbf{{y}_{N}},\\mathbf{{z}_{N}} \\right)} + \\frac{\\partial}{\\partial \\mathbf{{y}_{N}}} A_{y}{\\left(\\mathbf{{x}_{N}},\\mathbf{{y}_{N}},\\mathbf{{z}_{N}} \\right)} + \\frac{\\partial}{\\partial \\mathbf{{z}_{N}}} A_{z}{\\left(\\mathbf{{x}_{N}},\\mathbf{{y}_{N}},\\mathbf{{z}_{N}} \\right)}\\right) B_{y}{\\left(\\mathbf{{x}_{N}},\\mathbf{{y}_{N}},\\mathbf{{z}_{N}} \\right)} - \\left(\\frac{\\partial}{\\partial \\mathbf{{x}_{N}}} B_{x}{\\left(\\mathbf{{x}_{N}},\\mathbf{{y}_{N}},\\mathbf{{z}_{N}} \\right)} + \\frac{\\partial}{\\partial \\mathbf{{y}_{N}}} B_{y}{\\left(\\mathbf{{x}_{N}},\\mathbf{{y}_{N}},\\mathbf{{z}_{N}} \\right)} + \\frac{\\partial}{\\partial \\mathbf{{z}_{N}}} B_{z}{\\left(\\mathbf{{x}_{N}},\\mathbf{{y}_{N}},\\mathbf{{z}_{N}} \\right)}\\right) A_{y}{\\left(\\mathbf{{x}_{N}},\\mathbf{{y}_{N}},\\mathbf{{z}_{N}} \\right)} + A_{y}{\\left(\\mathbf{{x}_{N}},\\mathbf{{y}_{N}},\\mathbf{{z}_{N}} \\right)} \\frac{\\partial}{\\partial \\mathbf{{x}_{N}}} B_{x}{\\left(\\mathbf{{x}_{N}},\\mathbf{{y}_{N}},\\mathbf{{z}_{N}} \\right)} + A_{y}{\\left(\\mathbf{{x}_{N}},\\mathbf{{y}_{N}},\\mathbf{{z}_{N}} \\right)} \\frac{\\partial}{\\partial \\mathbf{{y}_{N}}} B_{y}{\\left(\\mathbf{{x}_{N}},\\mathbf{{y}_{N}},\\mathbf{{z}_{N}} \\right)} + A_{y}{\\left(\\mathbf{{x}_{N}},\\mathbf{{y}_{N}},\\mathbf{{z}_{N}} \\right)} \\frac{\\partial}{\\partial \\mathbf{{z}_{N}}} B_{z}{\\left(\\mathbf{{x}_{N}},\\mathbf{{y}_{N}},\\mathbf{{z}_{N}} \\right)} - B_{y}{\\left(\\mathbf{{x}_{N}},\\mathbf{{y}_{N}},\\mathbf{{z}_{N}} \\right)} \\frac{\\partial}{\\partial \\mathbf{{x}_{N}}} A_{x}{\\left(\\mathbf{{x}_{N}},\\mathbf{{y}_{N}},\\mathbf{{z}_{N}} \\right)} - B_{y}{\\left(\\mathbf{{x}_{N}},\\mathbf{{y}_{N}},\\mathbf{{z}_{N}} \\right)} \\frac{\\partial}{\\partial \\mathbf{{y}_{N}}} A_{y}{\\left(\\mathbf{{x}_{N}},\\mathbf{{y}_{N}},\\mathbf{{z}_{N}} \\right)} - B_{y}{\\left(\\mathbf{{x}_{N}},\\mathbf{{y}_{N}},\\mathbf{{z}_{N}} \\right)} \\frac{\\partial}{\\partial \\mathbf{{z}_{N}}} A_{z}{\\left(\\mathbf{{x}_{N}},\\mathbf{{y}_{N}},\\mathbf{{z}_{N}} \\right)}\\right)\\mathbf{\\hat{j}_{N}} + \\left(\\left(\\frac{\\partial}{\\partial \\mathbf{{x}_{N}}} A_{x}{\\left(\\mathbf{{x}_{N}},\\mathbf{{y}_{N}},\\mathbf{{z}_{N}} \\right)} + \\frac{\\partial}{\\partial \\mathbf{{y}_{N}}} A_{y}{\\left(\\mathbf{{x}_{N}},\\mathbf{{y}_{N}},\\mathbf{{z}_{N}} \\right)} + \\frac{\\partial}{\\partial \\mathbf{{z}_{N}}} A_{z}{\\left(\\mathbf{{x}_{N}},\\mathbf{{y}_{N}},\\mathbf{{z}_{N}} \\right)}\\right) B_{z}{\\left(\\mathbf{{x}_{N}},\\mathbf{{y}_{N}},\\mathbf{{z}_{N}} \\right)} - \\left(\\frac{\\partial}{\\partial \\mathbf{{x}_{N}}} B_{x}{\\left(\\mathbf{{x}_{N}},\\mathbf{{y}_{N}},\\mathbf{{z}_{N}} \\right)} + \\frac{\\partial}{\\partial \\mathbf{{y}_{N}}} B_{y}{\\left(\\mathbf{{x}_{N}},\\mathbf{{y}_{N}},\\mathbf{{z}_{N}} \\right)} + \\frac{\\partial}{\\partial \\mathbf{{z}_{N}}} B_{z}{\\left(\\mathbf{{x}_{N}},\\mathbf{{y}_{N}},\\mathbf{{z}_{N}} \\right)}\\right) A_{z}{\\left(\\mathbf{{x}_{N}},\\mathbf{{y}_{N}},\\mathbf{{z}_{N}} \\right)} + A_{z}{\\left(\\mathbf{{x}_{N}},\\mathbf{{y}_{N}},\\mathbf{{z}_{N}} \\right)} \\frac{\\partial}{\\partial \\mathbf{{x}_{N}}} B_{x}{\\left(\\mathbf{{x}_{N}},\\mathbf{{y}_{N}},\\mathbf{{z}_{N}} \\right)} + A_{z}{\\left(\\mathbf{{x}_{N}},\\mathbf{{y}_{N}},\\mathbf{{z}_{N}} \\right)} \\frac{\\partial}{\\partial \\mathbf{{y}_{N}}} B_{y}{\\left(\\mathbf{{x}_{N}},\\mathbf{{y}_{N}},\\mathbf{{z}_{N}} \\right)} + A_{z}{\\left(\\mathbf{{x}_{N}},\\mathbf{{y}_{N}},\\mathbf{{z}_{N}} \\right)} \\frac{\\partial}{\\partial \\mathbf{{z}_{N}}} B_{z}{\\left(\\mathbf{{x}_{N}},\\mathbf{{y}_{N}},\\mathbf{{z}_{N}} \\right)} - B_{z}{\\left(\\mathbf{{x}_{N}},\\mathbf{{y}_{N}},\\mathbf{{z}_{N}} \\right)} \\frac{\\partial}{\\partial \\mathbf{{x}_{N}}} A_{x}{\\left(\\mathbf{{x}_{N}},\\mathbf{{y}_{N}},\\mathbf{{z}_{N}} \\right)} - B_{z}{\\left(\\mathbf{{x}_{N}},\\mathbf{{y}_{N}},\\mathbf{{z}_{N}} \\right)} \\frac{\\partial}{\\partial \\mathbf{{y}_{N}}} A_{y}{\\left(\\mathbf{{x}_{N}},\\mathbf{{y}_{N}},\\mathbf{{z}_{N}} \\right)} - B_{z}{\\left(\\mathbf{{x}_{N}},\\mathbf{{y}_{N}},\\mathbf{{z}_{N}} \\right)} \\frac{\\partial}{\\partial \\mathbf{{z}_{N}}} A_{z}{\\left(\\mathbf{{x}_{N}},\\mathbf{{y}_{N}},\\mathbf{{z}_{N}} \\right)}\\right)\\mathbf{\\hat{k}_{N}}$"
      ],
      "text/plain": [
       "((Derivative(A_x(N.x, N.y, N.z), N.x) + Derivative(A_y(N.x, N.y, N.z), N.y) + Derivative(A_z(N.x, N.y, N.z), N.z))*B_x(N.x, N.y, N.z) - (Derivative(B_x(N.x, N.y, N.z), N.x) + Derivative(B_y(N.x, N.y, N.z), N.y) + Derivative(B_z(N.x, N.y, N.z), N.z))*A_x(N.x, N.y, N.z) + A_x(N.x, N.y, N.z)*Derivative(B_x(N.x, N.y, N.z), N.x) + A_x(N.x, N.y, N.z)*Derivative(B_y(N.x, N.y, N.z), N.y) + A_x(N.x, N.y, N.z)*Derivative(B_z(N.x, N.y, N.z), N.z) - B_x(N.x, N.y, N.z)*Derivative(A_x(N.x, N.y, N.z), N.x) - B_x(N.x, N.y, N.z)*Derivative(A_y(N.x, N.y, N.z), N.y) - B_x(N.x, N.y, N.z)*Derivative(A_z(N.x, N.y, N.z), N.z))*N.i + ((Derivative(A_x(N.x, N.y, N.z), N.x) + Derivative(A_y(N.x, N.y, N.z), N.y) + Derivative(A_z(N.x, N.y, N.z), N.z))*B_y(N.x, N.y, N.z) - (Derivative(B_x(N.x, N.y, N.z), N.x) + Derivative(B_y(N.x, N.y, N.z), N.y) + Derivative(B_z(N.x, N.y, N.z), N.z))*A_y(N.x, N.y, N.z) + A_y(N.x, N.y, N.z)*Derivative(B_x(N.x, N.y, N.z), N.x) + A_y(N.x, N.y, N.z)*Derivative(B_y(N.x, N.y, N.z), N.y) + A_y(N.x, N.y, N.z)*Derivative(B_z(N.x, N.y, N.z), N.z) - B_y(N.x, N.y, N.z)*Derivative(A_x(N.x, N.y, N.z), N.x) - B_y(N.x, N.y, N.z)*Derivative(A_y(N.x, N.y, N.z), N.y) - B_y(N.x, N.y, N.z)*Derivative(A_z(N.x, N.y, N.z), N.z))*N.j + ((Derivative(A_x(N.x, N.y, N.z), N.x) + Derivative(A_y(N.x, N.y, N.z), N.y) + Derivative(A_z(N.x, N.y, N.z), N.z))*B_z(N.x, N.y, N.z) - (Derivative(B_x(N.x, N.y, N.z), N.x) + Derivative(B_y(N.x, N.y, N.z), N.y) + Derivative(B_z(N.x, N.y, N.z), N.z))*A_z(N.x, N.y, N.z) + A_z(N.x, N.y, N.z)*Derivative(B_x(N.x, N.y, N.z), N.x) + A_z(N.x, N.y, N.z)*Derivative(B_y(N.x, N.y, N.z), N.y) + A_z(N.x, N.y, N.z)*Derivative(B_z(N.x, N.y, N.z), N.z) - B_z(N.x, N.y, N.z)*Derivative(A_x(N.x, N.y, N.z), N.x) - B_z(N.x, N.y, N.z)*Derivative(A_y(N.x, N.y, N.z), N.y) - B_z(N.x, N.y, N.z)*Derivative(A_z(N.x, N.y, N.z), N.z))*N.k"
      ]
     },
     "metadata": {},
     "output_type": "display_data"
    },
    {
     "name": "stdout",
     "output_type": "stream",
     "text": [
      "化简得到：\n"
     ]
    },
    {
     "data": {
      "text/latex": [
       "$\\displaystyle \\mathbf{\\hat{0}}$"
      ],
      "text/plain": [
       "0"
      ]
     },
     "metadata": {},
     "output_type": "display_data"
    }
   ],
   "source": [
    "print('检验左式和右式是否相等，左式减去右式等于：')\n",
    "display(curl_AB - right_A1 - right_A2 - right_B1 - right_B2)\n",
    "print('化简得到：')\n",
    "display(sp.simplify(sp.expand(curl_AB - right_A1 - right_A2 - right_B1 - right_B2)))"
   ]
  },
  {
   "cell_type": "markdown",
   "id": "444b68db-7103-4744-9a42-8be77b5dcf62",
   "metadata": {},
   "source": [
    "## 习题1.21\n",
    "计算 $(\\hat{\\boldsymbol r} \\cdot \\nabla ){\\hat{\\boldsymbol r}}$, 其中 $\\hat{\\boldsymbol r}$ 是由式(1.21)定义的径向单位矢量。\n",
    "\n"
   ]
  },
  {
   "cell_type": "code",
   "execution_count": 70,
   "id": "7e1f71c2-a937-4b24-9e20-fd1c589aab50",
   "metadata": {},
   "outputs": [
    {
     "name": "stdout",
     "output_type": "stream",
     "text": [
      "定义位置矢量\n"
     ]
    },
    {
     "data": {
      "text/latex": [
       "$\\displaystyle \\left(\\mathbf{{x}_{N}}\\right)\\mathbf{\\hat{i}_{N}} + \\left(\\mathbf{{y}_{N}}\\right)\\mathbf{\\hat{j}_{N}} + \\left(\\mathbf{{z}_{N}}\\right)\\mathbf{\\hat{k}_{N}}$"
      ],
      "text/plain": [
       "N.x*N.i + N.y*N.j + N.z*N.k"
      ]
     },
     "metadata": {},
     "output_type": "display_data"
    }
   ],
   "source": [
    "import sympy as sp\n",
    "from sympy.vector import CoordSys3D\n",
    "\n",
    "# 创建一个三维坐标系\n",
    "N = CoordSys3D('N')\n",
    "\n",
    "# 定义矢量场 r\n",
    "r_field = N.x * N.i + N.y * N.j + N.z * N.k\n",
    "r_hat = (N.x * N.i + N.y * N.j + N.z * N.k)/sp.sqrt(N.x ** 2 + N.y ** 2 + N.z **2)\n",
    "print('定义位置矢量')\n",
    "display(r_field)"
   ]
  },
  {
   "cell_type": "code",
   "execution_count": 72,
   "id": "516644d6-60e1-468e-9b31-69937edd0cf9",
   "metadata": {},
   "outputs": [
    {
     "name": "stdout",
     "output_type": "stream",
     "text": [
      "右式固定A的第二项：\n"
     ]
    },
    {
     "data": {
      "text/latex": [
       "$\\displaystyle \\left(- \\frac{\\mathbf{{x}_{N}} \\mathbf{{y}_{N}}^{2}}{\\left(\\mathbf{{x}_{N}}^{2} + \\mathbf{{y}_{N}}^{2} + \\mathbf{{z}_{N}}^{2}\\right)^{2}} - \\frac{\\mathbf{{x}_{N}} \\mathbf{{z}_{N}}^{2}}{\\left(\\mathbf{{x}_{N}}^{2} + \\mathbf{{y}_{N}}^{2} + \\mathbf{{z}_{N}}^{2}\\right)^{2}} + \\frac{\\mathbf{{x}_{N}} \\left(- \\frac{\\mathbf{{x}_{N}}^{2}}{\\left(\\mathbf{{x}_{N}}^{2} + \\mathbf{{y}_{N}}^{2} + \\mathbf{{z}_{N}}^{2}\\right)^{\\frac{3}{2}}} + \\frac{1}{\\sqrt{\\mathbf{{x}_{N}}^{2} + \\mathbf{{y}_{N}}^{2} + \\mathbf{{z}_{N}}^{2}}}\\right)}{\\sqrt{\\mathbf{{x}_{N}}^{2} + \\mathbf{{y}_{N}}^{2} + \\mathbf{{z}_{N}}^{2}}}\\right)\\mathbf{\\hat{i}_{N}} + \\left(- \\frac{\\mathbf{{x}_{N}}^{2} \\mathbf{{y}_{N}}}{\\left(\\mathbf{{x}_{N}}^{2} + \\mathbf{{y}_{N}}^{2} + \\mathbf{{z}_{N}}^{2}\\right)^{2}} - \\frac{\\mathbf{{y}_{N}} \\mathbf{{z}_{N}}^{2}}{\\left(\\mathbf{{x}_{N}}^{2} + \\mathbf{{y}_{N}}^{2} + \\mathbf{{z}_{N}}^{2}\\right)^{2}} + \\frac{\\mathbf{{y}_{N}} \\left(- \\frac{\\mathbf{{y}_{N}}^{2}}{\\left(\\mathbf{{x}_{N}}^{2} + \\mathbf{{y}_{N}}^{2} + \\mathbf{{z}_{N}}^{2}\\right)^{\\frac{3}{2}}} + \\frac{1}{\\sqrt{\\mathbf{{x}_{N}}^{2} + \\mathbf{{y}_{N}}^{2} + \\mathbf{{z}_{N}}^{2}}}\\right)}{\\sqrt{\\mathbf{{x}_{N}}^{2} + \\mathbf{{y}_{N}}^{2} + \\mathbf{{z}_{N}}^{2}}}\\right)\\mathbf{\\hat{j}_{N}} + \\left(- \\frac{\\mathbf{{x}_{N}}^{2} \\mathbf{{z}_{N}}}{\\left(\\mathbf{{x}_{N}}^{2} + \\mathbf{{y}_{N}}^{2} + \\mathbf{{z}_{N}}^{2}\\right)^{2}} - \\frac{\\mathbf{{y}_{N}}^{2} \\mathbf{{z}_{N}}}{\\left(\\mathbf{{x}_{N}}^{2} + \\mathbf{{y}_{N}}^{2} + \\mathbf{{z}_{N}}^{2}\\right)^{2}} + \\frac{\\mathbf{{z}_{N}} \\left(- \\frac{\\mathbf{{z}_{N}}^{2}}{\\left(\\mathbf{{x}_{N}}^{2} + \\mathbf{{y}_{N}}^{2} + \\mathbf{{z}_{N}}^{2}\\right)^{\\frac{3}{2}}} + \\frac{1}{\\sqrt{\\mathbf{{x}_{N}}^{2} + \\mathbf{{y}_{N}}^{2} + \\mathbf{{z}_{N}}^{2}}}\\right)}{\\sqrt{\\mathbf{{x}_{N}}^{2} + \\mathbf{{y}_{N}}^{2} + \\mathbf{{z}_{N}}^{2}}}\\right)\\mathbf{\\hat{k}_{N}}$"
      ],
      "text/plain": [
       "(-N.x*N.y**2/(N.x**2 + N.y**2 + N.z**2)**2 - N.x*N.z**2/(N.x**2 + N.y**2 + N.z**2)**2 + N.x*(-N.x**2/(N.x**2 + N.y**2 + N.z**2)**(3/2) + 1/sqrt(N.x**2 + N.y**2 + N.z**2))/sqrt(N.x**2 + N.y**2 + N.z**2))*N.i + (-N.x**2*N.y/(N.x**2 + N.y**2 + N.z**2)**2 - N.y*N.z**2/(N.x**2 + N.y**2 + N.z**2)**2 + N.y*(-N.y**2/(N.x**2 + N.y**2 + N.z**2)**(3/2) + 1/sqrt(N.x**2 + N.y**2 + N.z**2))/sqrt(N.x**2 + N.y**2 + N.z**2))*N.j + (-N.x**2*N.z/(N.x**2 + N.y**2 + N.z**2)**2 - N.y**2*N.z/(N.x**2 + N.y**2 + N.z**2)**2 + N.z*(-N.z**2/(N.x**2 + N.y**2 + N.z**2)**(3/2) + 1/sqrt(N.x**2 + N.y**2 + N.z**2))/sqrt(N.x**2 + N.y**2 + N.z**2))*N.k"
      ]
     },
     "metadata": {},
     "output_type": "display_data"
    },
    {
     "name": "stdout",
     "output_type": "stream",
     "text": [
      "0\n"
     ]
    }
   ],
   "source": [
    "r_nabla_r = (r_hat & gradient(r_hat & N.i)) * N.i + \\\n",
    "            (r_hat & gradient(r_hat & N.j)) * N.j + \\\n",
    "            (r_hat & gradient(r_hat & N.k)) * N.k\n",
    "print(\"右式固定A的第二项：\")\n",
    "display(r_nabla_r)\n",
    "print(sp.simplify(sp.expand(r_nabla_r)))"
   ]
  }
 ],
 "metadata": {
  "kernelspec": {
   "display_name": "d2l",
   "language": "python",
   "name": "python3"
  },
  "language_info": {
   "codemirror_mode": {
    "name": "ipython",
    "version": 3
   },
   "file_extension": ".py",
   "mimetype": "text/x-python",
   "name": "python",
   "nbconvert_exporter": "python",
   "pygments_lexer": "ipython3",
   "version": "3.8.19"
  }
 },
 "nbformat": 4,
 "nbformat_minor": 5
}
