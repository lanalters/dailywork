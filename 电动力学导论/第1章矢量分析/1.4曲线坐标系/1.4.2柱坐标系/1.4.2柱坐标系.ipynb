{
 "cells": [
  {
   "cell_type": "markdown",
   "id": "7f82b0a5-96c1-4c17-a40e-32f28e56dc23",
   "metadata": {},
   "source": [
    "# 1.4.2柱坐标系"
   ]
  },
  {
   "cell_type": "markdown",
   "id": "b7b2e95a-2cb9-44be-94c4-db2096118f4d",
   "metadata": {},
   "source": [
    "图1.42 给出了一个点 $P$ 的柱坐标 $(s, \\phi, z)$ 的定义。\n",
    "注意，$\\phi$ 的意义与球坐标相同，$z$ 的意义与直角坐标相同；$s$ 是从 $z$ 轴到 $P$ 点的距离，而在球坐标系中 $r$ 是从原点到 $P$ 点的距离。\n",
    "$s,\\phi, z$ 与直角坐标的关系是\n",
    "$$\n",
    "  x=s\\cos\\phi, y=s\\sin\\phi, z=z  \n",
    "  \\tag{1.74}\n",
    "$$\n",
    "单位矢量是(习题1.41)\n",
    "$$\n",
    "\\begin{split}\n",
    "  \\hat{\\bm s} = & \\cos\\phi \\hat{\\bm x} + \\sin\\phi \\hat{\\bm y} \\\\\n",
    "  \\hat{\\bm \\phi} = & -\\sin\\phi \\hat{\\bm x} + \\cos\\phi \\hat{\\bm y} \\\\\n",
    "  \\hat{\\bm z} = & \\hat{\\bm z}\n",
    "\\end{split}\n",
    "\\tag{1.75}\n",
    "$$"
   ]
  },
  {
   "cell_type": "code",
   "execution_count": 4,
   "id": "4db4b6f3",
   "metadata": {},
   "outputs": [
    {
     "data": {
      "text/html": [
       "<hr style='border: 2px solid red;'>"
      ],
      "text/plain": [
       "<IPython.core.display.HTML object>"
      ]
     },
     "metadata": {},
     "output_type": "display_data"
    },
    {
     "name": "stdout",
     "output_type": "stream",
     "text": [
      "球坐标到直角坐标的转换：\n",
      "x = Z.x*cos(Z.y)\n",
      "y = Z.x*sin(Z.y)\n",
      "z = Z.z\n",
      "雅可比矩阵：\n"
     ]
    },
    {
     "data": {
      "text/latex": [
       "$\\displaystyle \\left[\\begin{matrix}\\cos{\\left(\\mathbf{{y}_{Z}} \\right)} & - \\mathbf{{x}_{Z}} \\sin{\\left(\\mathbf{{y}_{Z}} \\right)} & 0\\\\\\sin{\\left(\\mathbf{{y}_{Z}} \\right)} & \\mathbf{{x}_{Z}} \\cos{\\left(\\mathbf{{y}_{Z}} \\right)} & 0\\\\0 & 0 & 1\\end{matrix}\\right]$"
      ],
      "text/plain": [
       "Matrix([\n",
       "[cos(Z.y), -Z.x*sin(Z.y), 0],\n",
       "[sin(Z.y),  Z.x*cos(Z.y), 0],\n",
       "[       0,             0, 1]])"
      ]
     },
     "metadata": {},
     "output_type": "display_data"
    },
    {
     "name": "stdout",
     "output_type": "stream",
     "text": [
      "雅可比矩阵的逆：\n"
     ]
    },
    {
     "data": {
      "text/latex": [
       "$\\displaystyle \\left[\\begin{matrix}\\frac{\\cos{\\left(\\mathbf{{y}_{Z}} \\right)}}{\\sin^{2}{\\left(\\mathbf{{y}_{Z}} \\right)} + \\cos^{2}{\\left(\\mathbf{{y}_{Z}} \\right)}} & \\frac{\\sin{\\left(\\mathbf{{y}_{Z}} \\right)}}{\\sin^{2}{\\left(\\mathbf{{y}_{Z}} \\right)} + \\cos^{2}{\\left(\\mathbf{{y}_{Z}} \\right)}} & 0\\\\- \\frac{\\sin{\\left(\\mathbf{{y}_{Z}} \\right)}}{\\mathbf{{x}_{Z}} \\sin^{2}{\\left(\\mathbf{{y}_{Z}} \\right)} + \\mathbf{{x}_{Z}} \\cos^{2}{\\left(\\mathbf{{y}_{Z}} \\right)}} & \\frac{\\cos{\\left(\\mathbf{{y}_{Z}} \\right)}}{\\mathbf{{x}_{Z}} \\sin^{2}{\\left(\\mathbf{{y}_{Z}} \\right)} + \\mathbf{{x}_{Z}} \\cos^{2}{\\left(\\mathbf{{y}_{Z}} \\right)}} & 0\\\\0 & 0 & 1\\end{matrix}\\right]$"
      ],
      "text/plain": [
       "Matrix([\n",
       "[         cos(Z.y)/(sin(Z.y)**2 + cos(Z.y)**2),         sin(Z.y)/(sin(Z.y)**2 + cos(Z.y)**2), 0],\n",
       "[-sin(Z.y)/(Z.x*sin(Z.y)**2 + Z.x*cos(Z.y)**2), cos(Z.y)/(Z.x*sin(Z.y)**2 + Z.x*cos(Z.y)**2), 0],\n",
       "[                                            0,                                            0, 1]])"
      ]
     },
     "metadata": {},
     "output_type": "display_data"
    },
    {
     "name": "stdout",
     "output_type": "stream",
     "text": [
      "化简后的雅可比矩阵的逆：\n"
     ]
    },
    {
     "data": {
      "text/latex": [
       "$\\displaystyle \\left[\\begin{matrix}\\cos{\\left(\\mathbf{{y}_{Z}} \\right)} & \\sin{\\left(\\mathbf{{y}_{Z}} \\right)} & 0\\\\- \\frac{\\sin{\\left(\\mathbf{{y}_{Z}} \\right)}}{\\mathbf{{x}_{Z}}} & \\frac{\\cos{\\left(\\mathbf{{y}_{Z}} \\right)}}{\\mathbf{{x}_{Z}}} & 0\\\\0 & 0 & 1\\end{matrix}\\right]$"
      ],
      "text/plain": [
       "Matrix([\n",
       "[     cos(Z.y),     sin(Z.y), 0],\n",
       "[-sin(Z.y)/Z.x, cos(Z.y)/Z.x, 0],\n",
       "[            0,            0, 1]])"
      ]
     },
     "metadata": {},
     "output_type": "display_data"
    },
    {
     "data": {
      "text/html": [
       "<hr style='border: 2px solid red;'>"
      ],
      "text/plain": [
       "<IPython.core.display.HTML object>"
      ]
     },
     "metadata": {},
     "output_type": "display_data"
    }
   ],
   "source": [
    "import sympy as sp\n",
    "from sympy.vector import CoordSys3D\n",
    "from IPython.display import display\n",
    "from IPython.display import HTML\n",
    "\n",
    "# 打印红色的分割线\n",
    "display(HTML(\"<hr style='border: 2px solid red;'>\"))\n",
    "\n",
    "\n",
    "# 定义直角坐标系\n",
    "N = CoordSys3D('N')\n",
    "\n",
    "# 定义柱坐标系\n",
    "Z = CoordSys3D('Z')\n",
    "s, phi, z = Z.base_scalars()\n",
    "\n",
    "# 定义球坐标系到直角坐标系的转换\n",
    "x = s * sp.cos(phi)\n",
    "y = s * sp.sin(phi)\n",
    "z = z\n",
    "\n",
    "# 打印球坐标到直角坐标的转换\n",
    "print('球坐标到直角坐标的转换：')\n",
    "print('x =', x)\n",
    "print('y =', y)\n",
    "print('z =', z)\n",
    "\n",
    "# 求出直角坐标系的基向量\n",
    "e_s = sp.diff(sp.Matrix([x, y, z]), s)\n",
    "e_phi = sp.diff(sp.Matrix([x, y, z]), phi)\n",
    "e_z = sp.diff(sp.Matrix([x, y, z]), z)\n",
    "# 合成一个3 x 3的雅可比矩阵\n",
    "Jacobi_matrix = sp.Matrix([e_s, e_phi, e_z])\n",
    "Jacobi_matrix = Jacobi_matrix.reshape(3, 3).T\n",
    "# 打印雅可比矩阵\n",
    "print('雅可比矩阵：')\n",
    "display(Jacobi_matrix)\n",
    "\n",
    "Jacobi_inv = Jacobi_matrix.inv()\n",
    "print('雅可比矩阵的逆：')\n",
    "display(Jacobi_inv)\n",
    "print('化简后的雅可比矩阵的逆：')\n",
    "display(sp.simplify(Jacobi_inv))\n",
    "display(HTML(\"<hr style='border: 2px solid red;'>\"))\n"
   ]
  },
  {
   "cell_type": "markdown",
   "id": "ec829920",
   "metadata": {},
   "source": [
    "图1.36 也给出了指向相应坐标增加方向的三个单位矢量 $\\hat{\\boldsymbol r},\\hat{\\boldsymbol \\theta}, \\hat{\\boldsymbol \\varphi}$。\n",
    "它们构成一个正交(相互垂直)基，任何矢量 $\\boldsymbol A$ 都能以通常的方式用这三个单位矢量表示：\n",
    "$$\n",
    "  \\boldsymbol A = A_r \\hat{\\boldsymbol r} + A_\\theta \\hat{\\boldsymbol \\theta} + A_\\phi \\hat{\\boldsymbol \\phi}\n",
    "  \\tag{1.63}\n",
    "$$\n",
    "式中，$A_r, A_\\theta, A_\\phi$ 是 $\\boldsymbol A$ 的径向、极向和方位角分量。\n",
    "用直角系的单位矢量表示，有\n",
    "$$\n",
    "\\begin{split}\n",
    "  \\hat{\\boldsymbol r} = & \\sin\\theta \\cos\\phi \\hat{\\boldsymbol x} + \\sin\\theta \\sin\\phi \\hat{\\boldsymbol y} + \\cos\\theta \\hat{\\boldsymbol z} \\\\\n",
    "  \\hat{\\boldsymbol \\theta} = & \\cos\\theta \\cos\\phi \\hat{\\boldsymbol x} + \\sin\\theta \\cos\\phi \\hat{\\boldsymbol y} - \\sin\\theta\\hat{\\boldsymbol z} \\\\\n",
    "  \\hat{\\boldsymbol \\phi} = & -\\sin\\phi \\hat{\\boldsymbol x} + \\cos\\phi \\hat{\\boldsymbol y}\n",
    "\\end{split}\n",
    "\\tag{1.64}\n",
    "$$"
   ]
  },
  {
   "cell_type": "markdown",
   "id": "3a358843",
   "metadata": {},
   "source": [
    "如果要用 python 证明这个事情呢？\n",
    "实际上我们要找的就是 $\\text dr$ 的增加方向，因此恰是雅可比行列式的第一行；\n",
    "同理雅可比行列式第二行是 $\\boldsymbol \\theta$，雅可比行列式第三行是 $\\boldsymbol \\phi$。\n",
    "\n",
    "要证明这组基的正交性，只要证明雅可比矩阵 $M^TM$ 是对角阵。"
   ]
  },
  {
   "cell_type": "code",
   "execution_count": 4,
   "id": "6f87ed10",
   "metadata": {},
   "outputs": [
    {
     "data": {
      "text/html": [
       "<hr style='border: 2px solid red;'>"
      ],
      "text/plain": [
       "<IPython.core.display.HTML object>"
      ]
     },
     "metadata": {},
     "output_type": "display_data"
    },
    {
     "name": "stdout",
     "output_type": "stream",
     "text": [
      "矢量 r 在直角坐标系下的表示：\n"
     ]
    },
    {
     "data": {
      "text/latex": [
       "$\\displaystyle \\left[\\begin{matrix}\\cos{\\left(\\mathbf{{y}_{Z}} \\right)}\\\\\\sin{\\left(\\mathbf{{y}_{Z}} \\right)}\\\\0\\end{matrix}\\right]$"
      ],
      "text/plain": [
       "Matrix([\n",
       "[cos(Z.y)],\n",
       "[sin(Z.y)],\n",
       "[       0]])"
      ]
     },
     "metadata": {},
     "output_type": "display_data"
    },
    {
     "name": "stdout",
     "output_type": "stream",
     "text": [
      "矢量 theta 在直角坐标系下的表示：\n"
     ]
    },
    {
     "data": {
      "text/latex": [
       "$\\displaystyle \\left[\\begin{matrix}- \\mathbf{{x}_{Z}} \\sin{\\left(\\mathbf{{y}_{Z}} \\right)}\\\\\\mathbf{{x}_{Z}} \\cos{\\left(\\mathbf{{y}_{Z}} \\right)}\\\\0\\end{matrix}\\right]$"
      ],
      "text/plain": [
       "Matrix([\n",
       "[-Z.x*sin(Z.y)],\n",
       "[ Z.x*cos(Z.y)],\n",
       "[            0]])"
      ]
     },
     "metadata": {},
     "output_type": "display_data"
    },
    {
     "name": "stdout",
     "output_type": "stream",
     "text": [
      "矢量 phi 在直角坐标系下的表示：\n"
     ]
    },
    {
     "data": {
      "text/latex": [
       "$\\displaystyle \\left[\\begin{matrix}0\\\\0\\\\1\\end{matrix}\\right]$"
      ],
      "text/plain": [
       "Matrix([\n",
       "[0],\n",
       "[0],\n",
       "[1]])"
      ]
     },
     "metadata": {},
     "output_type": "display_data"
    },
    {
     "name": "stdout",
     "output_type": "stream",
     "text": [
      "归一化后的雅可比矩阵：\n"
     ]
    },
    {
     "data": {
      "text/latex": [
       "$\\displaystyle \\left[\\begin{matrix}\\cos{\\left(\\mathbf{{y}_{Z}} \\right)} & \\sin{\\left(\\mathbf{{y}_{Z}} \\right)} & 0\\\\- \\sin{\\left(\\mathbf{{y}_{Z}} \\right)} & \\cos{\\left(\\mathbf{{y}_{Z}} \\right)} & 0\\\\0 & 0 & 1\\end{matrix}\\right]$"
      ],
      "text/plain": [
       "Matrix([\n",
       "[ cos(Z.y), sin(Z.y), 0],\n",
       "[-sin(Z.y), cos(Z.y), 0],\n",
       "[        0,        0, 1]])"
      ]
     },
     "metadata": {},
     "output_type": "display_data"
    },
    {
     "name": "stdout",
     "output_type": "stream",
     "text": [
      "正交性 M^T  M:\n"
     ]
    },
    {
     "data": {
      "text/latex": [
       "$\\displaystyle \\left[\\begin{matrix}\\sin^{2}{\\left(\\mathbf{{y}_{Z}} \\right)} + \\cos^{2}{\\left(\\mathbf{{y}_{Z}} \\right)} & 0 & 0\\\\0 & \\sin^{2}{\\left(\\mathbf{{y}_{Z}} \\right)} + \\cos^{2}{\\left(\\mathbf{{y}_{Z}} \\right)} & 0\\\\0 & 0 & 1\\end{matrix}\\right]$"
      ],
      "text/plain": [
       "Matrix([\n",
       "[sin(Z.y)**2 + cos(Z.y)**2,                         0, 0],\n",
       "[                        0, sin(Z.y)**2 + cos(Z.y)**2, 0],\n",
       "[                        0,                         0, 1]])"
      ]
     },
     "metadata": {},
     "output_type": "display_data"
    },
    {
     "name": "stdout",
     "output_type": "stream",
     "text": [
      "化简：\n"
     ]
    },
    {
     "data": {
      "text/latex": [
       "$\\displaystyle \\left[\\begin{matrix}1 & 0 & 0\\\\0 & 1 & 0\\\\0 & 0 & 1\\end{matrix}\\right]$"
      ],
      "text/plain": [
       "Matrix([\n",
       "[1, 0, 0],\n",
       "[0, 1, 0],\n",
       "[0, 0, 1]])"
      ]
     },
     "metadata": {},
     "output_type": "display_data"
    },
    {
     "data": {
      "text/html": [
       "<hr style='border: 2px solid red;'>"
      ],
      "text/plain": [
       "<IPython.core.display.HTML object>"
      ]
     },
     "metadata": {},
     "output_type": "display_data"
    }
   ],
   "source": [
    "display(HTML(\"<hr style='border: 2px solid red;'>\"))\n",
    "print('矢量 r 在直角坐标系下的表示：')\n",
    "display(e_s)\n",
    "print('矢量 theta 在直角坐标系下的表示：')\n",
    "display(e_phi)\n",
    "print('矢量 phi 在直角坐标系下的表示：')\n",
    "display(e_z)\n",
    "\n",
    "# 合成一个3 x 3矩阵\n",
    "M = sp.Matrix([e_s, e_phi/Z.x, e_z])\n",
    "M = M.reshape(3, 3)\n",
    "print('归一化后的雅可比矩阵：')\n",
    "display(M)\n",
    "\n",
    "print('正交性 M^T  M:')\n",
    "display(M.T @ M)\n",
    "print('化简：')\n",
    "display(sp.simplify(M.T @ M))\n",
    "\n",
    "display(HTML(\"<hr style='border: 2px solid red;'>\"))"
   ]
  },
  {
   "cell_type": "code",
   "execution_count": null,
   "id": "37958aa5",
   "metadata": {},
   "outputs": [],
   "source": []
  },
  {
   "cell_type": "code",
   "execution_count": null,
   "id": "838e17da",
   "metadata": {},
   "outputs": [],
   "source": []
  },
  {
   "cell_type": "code",
   "execution_count": 8,
   "id": "ac2c8637",
   "metadata": {},
   "outputs": [
    {
     "name": "stdout",
     "output_type": "stream",
     "text": [
      "梯度变换公式：\n"
     ]
    },
    {
     "data": {
      "text/latex": [
       "$\\displaystyle \\left[\\begin{matrix}\\frac{\\cos{\\left(\\mathbf{{y}_{Z}} \\right)} \\frac{\\partial}{\\partial \\mathbf{{x}_{Z}}} f{\\left(\\mathbf{{x}_{Z}},\\mathbf{{y}_{Z}},\\mathbf{{z}_{Z}} \\right)}}{\\sin^{2}{\\left(\\mathbf{{y}_{Z}} \\right)} + \\cos^{2}{\\left(\\mathbf{{y}_{Z}} \\right)}} - \\frac{\\sin{\\left(\\mathbf{{y}_{Z}} \\right)} \\frac{\\partial}{\\partial \\mathbf{{y}_{Z}}} f{\\left(\\mathbf{{x}_{Z}},\\mathbf{{y}_{Z}},\\mathbf{{z}_{Z}} \\right)}}{\\mathbf{{x}_{Z}} \\sin^{2}{\\left(\\mathbf{{y}_{Z}} \\right)} + \\mathbf{{x}_{Z}} \\cos^{2}{\\left(\\mathbf{{y}_{Z}} \\right)}}\\\\\\frac{\\sin{\\left(\\mathbf{{y}_{Z}} \\right)} \\frac{\\partial}{\\partial \\mathbf{{x}_{Z}}} f{\\left(\\mathbf{{x}_{Z}},\\mathbf{{y}_{Z}},\\mathbf{{z}_{Z}} \\right)}}{\\sin^{2}{\\left(\\mathbf{{y}_{Z}} \\right)} + \\cos^{2}{\\left(\\mathbf{{y}_{Z}} \\right)}} + \\frac{\\cos{\\left(\\mathbf{{y}_{Z}} \\right)} \\frac{\\partial}{\\partial \\mathbf{{y}_{Z}}} f{\\left(\\mathbf{{x}_{Z}},\\mathbf{{y}_{Z}},\\mathbf{{z}_{Z}} \\right)}}{\\mathbf{{x}_{Z}} \\sin^{2}{\\left(\\mathbf{{y}_{Z}} \\right)} + \\mathbf{{x}_{Z}} \\cos^{2}{\\left(\\mathbf{{y}_{Z}} \\right)}}\\\\\\frac{\\partial}{\\partial \\mathbf{{z}_{Z}}} f{\\left(\\mathbf{{x}_{Z}},\\mathbf{{y}_{Z}},\\mathbf{{z}_{Z}} \\right)}\\end{matrix}\\right]$"
      ],
      "text/plain": [
       "Matrix([\n",
       "[cos(Z.y)*Derivative(f(Z.x, Z.y, Z.z), Z.x)/(sin(Z.y)**2 + cos(Z.y)**2) - sin(Z.y)*Derivative(f(Z.x, Z.y, Z.z), Z.y)/(Z.x*sin(Z.y)**2 + Z.x*cos(Z.y)**2)],\n",
       "[sin(Z.y)*Derivative(f(Z.x, Z.y, Z.z), Z.x)/(sin(Z.y)**2 + cos(Z.y)**2) + cos(Z.y)*Derivative(f(Z.x, Z.y, Z.z), Z.y)/(Z.x*sin(Z.y)**2 + Z.x*cos(Z.y)**2)],\n",
       "[                                                                                                                      Derivative(f(Z.x, Z.y, Z.z), Z.z)]])"
      ]
     },
     "metadata": {},
     "output_type": "display_data"
    },
    {
     "name": "stdout",
     "output_type": "stream",
     "text": [
      "散度变换公式：\n"
     ]
    },
    {
     "data": {
      "text/latex": [
       "$\\displaystyle \\frac{\\partial}{\\partial \\mathbf{{x}_{Z}}} A_{s}{\\left(\\mathbf{{x}_{Z}},\\mathbf{{y}_{Z}},\\mathbf{{z}_{Z}} \\right)} + \\frac{\\partial}{\\partial \\mathbf{{z}_{Z}}} A_{z}{\\left(\\mathbf{{x}_{Z}},\\mathbf{{y}_{Z}},\\mathbf{{z}_{Z}} \\right)} + \\frac{A_{s}{\\left(\\mathbf{{x}_{Z}},\\mathbf{{y}_{Z}},\\mathbf{{z}_{Z}} \\right)}}{\\mathbf{{x}_{Z}}} + \\frac{\\frac{\\partial}{\\partial \\mathbf{{y}_{Z}}} A_{\\phi}{\\left(\\mathbf{{x}_{Z}},\\mathbf{{y}_{Z}},\\mathbf{{z}_{Z}} \\right)}}{\\mathbf{{x}_{Z}}}$"
      ],
      "text/plain": [
       "Derivative(A_s(Z.x, Z.y, Z.z), Z.x) + Derivative(A_z(Z.x, Z.y, Z.z), Z.z) + A_s(Z.x, Z.y, Z.z)/Z.x + Derivative(A_phi(Z.x, Z.y, Z.z), Z.y)/Z.x"
      ]
     },
     "metadata": {},
     "output_type": "display_data"
    },
    {
     "name": "stdout",
     "output_type": "stream",
     "text": [
      "旋度变换公式：\n"
     ]
    },
    {
     "data": {
      "text/latex": [
       "$\\displaystyle \\left[\\begin{matrix}\\frac{\\left(- \\frac{\\partial}{\\partial \\mathbf{{z}_{Z}}} A_{\\phi}{\\left(\\mathbf{{x}_{Z}},\\mathbf{{y}_{Z}},\\mathbf{{z}_{Z}} \\right)} + \\frac{\\partial}{\\partial \\mathbf{{y}_{Z}}} A_{z}{\\left(\\mathbf{{x}_{Z}},\\mathbf{{y}_{Z}},\\mathbf{{z}_{Z}} \\right)}\\right) \\cos{\\left(\\mathbf{{y}_{Z}} \\right)}}{\\sin^{2}{\\left(\\mathbf{{y}_{Z}} \\right)} + \\cos^{2}{\\left(\\mathbf{{y}_{Z}} \\right)}} - \\frac{\\left(\\frac{\\partial}{\\partial \\mathbf{{z}_{Z}}} A_{s}{\\left(\\mathbf{{x}_{Z}},\\mathbf{{y}_{Z}},\\mathbf{{z}_{Z}} \\right)} - \\frac{\\partial}{\\partial \\mathbf{{x}_{Z}}} A_{z}{\\left(\\mathbf{{x}_{Z}},\\mathbf{{y}_{Z}},\\mathbf{{z}_{Z}} \\right)}\\right) \\sin{\\left(\\mathbf{{y}_{Z}} \\right)}}{\\mathbf{{x}_{Z}} \\sin^{2}{\\left(\\mathbf{{y}_{Z}} \\right)} + \\mathbf{{x}_{Z}} \\cos^{2}{\\left(\\mathbf{{y}_{Z}} \\right)}}\\\\\\frac{\\left(- \\frac{\\partial}{\\partial \\mathbf{{z}_{Z}}} A_{\\phi}{\\left(\\mathbf{{x}_{Z}},\\mathbf{{y}_{Z}},\\mathbf{{z}_{Z}} \\right)} + \\frac{\\partial}{\\partial \\mathbf{{y}_{Z}}} A_{z}{\\left(\\mathbf{{x}_{Z}},\\mathbf{{y}_{Z}},\\mathbf{{z}_{Z}} \\right)}\\right) \\sin{\\left(\\mathbf{{y}_{Z}} \\right)}}{\\sin^{2}{\\left(\\mathbf{{y}_{Z}} \\right)} + \\cos^{2}{\\left(\\mathbf{{y}_{Z}} \\right)}} + \\frac{\\left(\\frac{\\partial}{\\partial \\mathbf{{z}_{Z}}} A_{s}{\\left(\\mathbf{{x}_{Z}},\\mathbf{{y}_{Z}},\\mathbf{{z}_{Z}} \\right)} - \\frac{\\partial}{\\partial \\mathbf{{x}_{Z}}} A_{z}{\\left(\\mathbf{{x}_{Z}},\\mathbf{{y}_{Z}},\\mathbf{{z}_{Z}} \\right)}\\right) \\cos{\\left(\\mathbf{{y}_{Z}} \\right)}}{\\mathbf{{x}_{Z}} \\sin^{2}{\\left(\\mathbf{{y}_{Z}} \\right)} + \\mathbf{{x}_{Z}} \\cos^{2}{\\left(\\mathbf{{y}_{Z}} \\right)}}\\\\\\frac{\\partial}{\\partial \\mathbf{{x}_{Z}}} A_{\\phi}{\\left(\\mathbf{{x}_{Z}},\\mathbf{{y}_{Z}},\\mathbf{{z}_{Z}} \\right)} - \\frac{\\partial}{\\partial \\mathbf{{y}_{Z}}} A_{s}{\\left(\\mathbf{{x}_{Z}},\\mathbf{{y}_{Z}},\\mathbf{{z}_{Z}} \\right)}\\end{matrix}\\right]$"
      ],
      "text/plain": [
       "Matrix([\n",
       "[(-Derivative(A_phi(Z.x, Z.y, Z.z), Z.z) + Derivative(A_z(Z.x, Z.y, Z.z), Z.y))*cos(Z.y)/(sin(Z.y)**2 + cos(Z.y)**2) - (Derivative(A_s(Z.x, Z.y, Z.z), Z.z) - Derivative(A_z(Z.x, Z.y, Z.z), Z.x))*sin(Z.y)/(Z.x*sin(Z.y)**2 + Z.x*cos(Z.y)**2)],\n",
       "[(-Derivative(A_phi(Z.x, Z.y, Z.z), Z.z) + Derivative(A_z(Z.x, Z.y, Z.z), Z.y))*sin(Z.y)/(sin(Z.y)**2 + cos(Z.y)**2) + (Derivative(A_s(Z.x, Z.y, Z.z), Z.z) - Derivative(A_z(Z.x, Z.y, Z.z), Z.x))*cos(Z.y)/(Z.x*sin(Z.y)**2 + Z.x*cos(Z.y)**2)],\n",
       "[                                                                                                                                                                   Derivative(A_phi(Z.x, Z.y, Z.z), Z.x) - Derivative(A_s(Z.x, Z.y, Z.z), Z.y)]])"
      ]
     },
     "metadata": {},
     "output_type": "display_data"
    }
   ],
   "source": [
    "import sympy as sp\n",
    "from sympy.vector import CoordSys3D\n",
    "from IPython.display import display\n",
    "from IPython.display import HTML\n",
    "\n",
    "# 定义柱坐标系\n",
    "Z = CoordSys3D('Z')\n",
    "s, phi, z = Z.base_scalars()\n",
    "\n",
    "# 定义标量场和矢量场\n",
    "f = sp.Function('f')(s, phi, z)\n",
    "A = sp.Matrix([sp.Function('A_s')(s, phi, z), sp.Function('A_phi')(s, phi, z), sp.Function('A_z')(s, phi, z)])\n",
    "\n",
    "# 梯度变换公式\n",
    "grad_f = Jacobi_inv.T * sp.Matrix([sp.diff(f, s), sp.diff(f, phi), sp.diff(f, z)])\n",
    "print('梯度变换公式：')\n",
    "display(grad_f)\n",
    "\n",
    "# 散度变换公式\n",
    "div_A = sp.diff(A[0], s) + (1/s) * sp.diff(A[1], phi) + sp.diff(A[2], z) + (1/s) * A[0]\n",
    "print('散度变换公式：')\n",
    "display(div_A)\n",
    "\n",
    "# 旋度变换公式\n",
    "curl_A = Jacobi_inv.T * sp.Matrix([\n",
    "    sp.diff(A[2], phi) - sp.diff(A[1], z),\n",
    "    sp.diff(A[0], z) - sp.diff(A[2], s),\n",
    "    sp.diff(A[1], s) - sp.diff(A[0], phi)\n",
    "])\n",
    "print('旋度变换公式：')\n",
    "display(curl_A)"
   ]
  }
 ],
 "metadata": {
  "kernelspec": {
   "display_name": "d2l",
   "language": "python",
   "name": "python3"
  },
  "language_info": {
   "codemirror_mode": {
    "name": "ipython",
    "version": 3
   },
   "file_extension": ".py",
   "mimetype": "text/x-python",
   "name": "python",
   "nbconvert_exporter": "python",
   "pygments_lexer": "ipython3",
   "version": "3.8.19"
  }
 },
 "nbformat": 4,
 "nbformat_minor": 5
}
