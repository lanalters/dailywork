{
 "cells": [
  {
   "cell_type": "markdown",
   "id": "7f82b0a5-96c1-4c17-a40e-32f28e56dc23",
   "metadata": {},
   "source": [
    "# 1.4.1球坐标系"
   ]
  },
  {
   "cell_type": "markdown",
   "id": "b7b2e95a-2cb9-44be-94c4-db2096118f4d",
   "metadata": {},
   "source": [
    "图1.36给出了一个点 $P$ 的球坐标 $(r,\\theta,\\varphi)$ 的定义；$\\boldsymbol r$ 是到原点的距离(位置矢量的大小)，$\\theta$ (位置矢量与 $z$ 轴的夹角)称为极角，$\\varphi$ (位置矢量在 $xy$ 平面的投影与 $x$ 轴的夹角)称为方位角。\n",
    "由图可以得出 $(r,\\theta,\\varphi)$ 与直角坐标 $(x,y,z)$ 的关系:\n",
    "$$\n",
    "  x = r\\sin\\theta\\cos\\varphi, y = r\\sin\\theta\\sin\\varphi, z = r\\cos\\theta\n",
    "  \\tag{1.62}\n",
    "$$"
   ]
  },
  {
   "cell_type": "code",
   "execution_count": 30,
   "id": "4db4b6f3",
   "metadata": {},
   "outputs": [
    {
     "data": {
      "text/html": [
       "<hr style='border: 2px solid red;'>"
      ],
      "text/plain": [
       "<IPython.core.display.HTML object>"
      ]
     },
     "metadata": {},
     "output_type": "display_data"
    },
    {
     "name": "stdout",
     "output_type": "stream",
     "text": [
      "球坐标到直角坐标的转换：\n",
      "x = S.x*sin(S.y)*cos(S.z)\n",
      "y = S.x*sin(S.y)*sin(S.z)\n",
      "z = S.x*cos(S.y)\n",
      "雅可比矩阵：\n"
     ]
    },
    {
     "data": {
      "text/latex": [
       "$\\displaystyle \\left[\\begin{matrix}\\sin{\\left(\\mathbf{{y}_{S}} \\right)} \\cos{\\left(\\mathbf{{z}_{S}} \\right)} & \\sin{\\left(\\mathbf{{y}_{S}} \\right)} \\sin{\\left(\\mathbf{{z}_{S}} \\right)} & \\cos{\\left(\\mathbf{{y}_{S}} \\right)}\\\\\\mathbf{{x}_{S}} \\cos{\\left(\\mathbf{{y}_{S}} \\right)} \\cos{\\left(\\mathbf{{z}_{S}} \\right)} & \\mathbf{{x}_{S}} \\sin{\\left(\\mathbf{{z}_{S}} \\right)} \\cos{\\left(\\mathbf{{y}_{S}} \\right)} & - \\mathbf{{x}_{S}} \\sin{\\left(\\mathbf{{y}_{S}} \\right)}\\\\- \\mathbf{{x}_{S}} \\sin{\\left(\\mathbf{{y}_{S}} \\right)} \\sin{\\left(\\mathbf{{z}_{S}} \\right)} & \\mathbf{{x}_{S}} \\sin{\\left(\\mathbf{{y}_{S}} \\right)} \\cos{\\left(\\mathbf{{z}_{S}} \\right)} & 0\\end{matrix}\\right]$"
      ],
      "text/plain": [
       "Matrix([\n",
       "[     sin(S.y)*cos(S.z),     sin(S.y)*sin(S.z),      cos(S.y)],\n",
       "[ S.x*cos(S.y)*cos(S.z), S.x*sin(S.z)*cos(S.y), -S.x*sin(S.y)],\n",
       "[-S.x*sin(S.y)*sin(S.z), S.x*sin(S.y)*cos(S.z),             0]])"
      ]
     },
     "metadata": {},
     "output_type": "display_data"
    },
    {
     "name": "stdout",
     "output_type": "stream",
     "text": [
      "雅可比矩阵的逆：\n"
     ]
    },
    {
     "data": {
      "text/latex": [
       "$\\displaystyle \\left[\\begin{matrix}\\frac{\\sin{\\left(\\mathbf{{y}_{S}} \\right)} \\cos{\\left(\\mathbf{{z}_{S}} \\right)}}{\\sin^{2}{\\left(\\mathbf{{y}_{S}} \\right)} \\sin^{2}{\\left(\\mathbf{{z}_{S}} \\right)} + \\sin^{2}{\\left(\\mathbf{{y}_{S}} \\right)} \\cos^{2}{\\left(\\mathbf{{z}_{S}} \\right)} + \\sin^{2}{\\left(\\mathbf{{z}_{S}} \\right)} \\cos^{2}{\\left(\\mathbf{{y}_{S}} \\right)} + \\cos^{2}{\\left(\\mathbf{{y}_{S}} \\right)} \\cos^{2}{\\left(\\mathbf{{z}_{S}} \\right)}} & \\frac{\\cos{\\left(\\mathbf{{y}_{S}} \\right)} \\cos{\\left(\\mathbf{{z}_{S}} \\right)}}{\\mathbf{{x}_{S}} \\sin^{2}{\\left(\\mathbf{{y}_{S}} \\right)} \\sin^{2}{\\left(\\mathbf{{z}_{S}} \\right)} + \\mathbf{{x}_{S}} \\sin^{2}{\\left(\\mathbf{{y}_{S}} \\right)} \\cos^{2}{\\left(\\mathbf{{z}_{S}} \\right)} + \\mathbf{{x}_{S}} \\sin^{2}{\\left(\\mathbf{{z}_{S}} \\right)} \\cos^{2}{\\left(\\mathbf{{y}_{S}} \\right)} + \\mathbf{{x}_{S}} \\cos^{2}{\\left(\\mathbf{{y}_{S}} \\right)} \\cos^{2}{\\left(\\mathbf{{z}_{S}} \\right)}} & - \\frac{\\sin{\\left(\\mathbf{{z}_{S}} \\right)}}{\\mathbf{{x}_{S}} \\sin{\\left(\\mathbf{{y}_{S}} \\right)} \\sin^{2}{\\left(\\mathbf{{z}_{S}} \\right)} + \\mathbf{{x}_{S}} \\sin{\\left(\\mathbf{{y}_{S}} \\right)} \\cos^{2}{\\left(\\mathbf{{z}_{S}} \\right)}}\\\\\\frac{\\sin{\\left(\\mathbf{{y}_{S}} \\right)} \\sin{\\left(\\mathbf{{z}_{S}} \\right)}}{\\sin^{2}{\\left(\\mathbf{{y}_{S}} \\right)} \\sin^{2}{\\left(\\mathbf{{z}_{S}} \\right)} + \\sin^{2}{\\left(\\mathbf{{y}_{S}} \\right)} \\cos^{2}{\\left(\\mathbf{{z}_{S}} \\right)} + \\sin^{2}{\\left(\\mathbf{{z}_{S}} \\right)} \\cos^{2}{\\left(\\mathbf{{y}_{S}} \\right)} + \\cos^{2}{\\left(\\mathbf{{y}_{S}} \\right)} \\cos^{2}{\\left(\\mathbf{{z}_{S}} \\right)}} & \\frac{\\sin{\\left(\\mathbf{{z}_{S}} \\right)} \\cos{\\left(\\mathbf{{y}_{S}} \\right)}}{\\mathbf{{x}_{S}} \\sin^{2}{\\left(\\mathbf{{y}_{S}} \\right)} \\sin^{2}{\\left(\\mathbf{{z}_{S}} \\right)} + \\mathbf{{x}_{S}} \\sin^{2}{\\left(\\mathbf{{y}_{S}} \\right)} \\cos^{2}{\\left(\\mathbf{{z}_{S}} \\right)} + \\mathbf{{x}_{S}} \\sin^{2}{\\left(\\mathbf{{z}_{S}} \\right)} \\cos^{2}{\\left(\\mathbf{{y}_{S}} \\right)} + \\mathbf{{x}_{S}} \\cos^{2}{\\left(\\mathbf{{y}_{S}} \\right)} \\cos^{2}{\\left(\\mathbf{{z}_{S}} \\right)}} & \\frac{\\cos{\\left(\\mathbf{{z}_{S}} \\right)}}{\\mathbf{{x}_{S}} \\sin{\\left(\\mathbf{{y}_{S}} \\right)} \\sin^{2}{\\left(\\mathbf{{z}_{S}} \\right)} + \\mathbf{{x}_{S}} \\sin{\\left(\\mathbf{{y}_{S}} \\right)} \\cos^{2}{\\left(\\mathbf{{z}_{S}} \\right)}}\\\\\\frac{\\cos{\\left(\\mathbf{{y}_{S}} \\right)}}{\\sin^{2}{\\left(\\mathbf{{y}_{S}} \\right)} + \\cos^{2}{\\left(\\mathbf{{y}_{S}} \\right)}} & - \\frac{\\sin{\\left(\\mathbf{{y}_{S}} \\right)}}{\\mathbf{{x}_{S}} \\sin^{2}{\\left(\\mathbf{{y}_{S}} \\right)} + \\mathbf{{x}_{S}} \\cos^{2}{\\left(\\mathbf{{y}_{S}} \\right)}} & 0\\end{matrix}\\right]$"
      ],
      "text/plain": [
       "Matrix([\n",
       "[sin(S.y)*cos(S.z)/(sin(S.y)**2*sin(S.z)**2 + sin(S.y)**2*cos(S.z)**2 + sin(S.z)**2*cos(S.y)**2 + cos(S.y)**2*cos(S.z)**2), cos(S.y)*cos(S.z)/(S.x*sin(S.y)**2*sin(S.z)**2 + S.x*sin(S.y)**2*cos(S.z)**2 + S.x*sin(S.z)**2*cos(S.y)**2 + S.x*cos(S.y)**2*cos(S.z)**2), -sin(S.z)/(S.x*sin(S.y)*sin(S.z)**2 + S.x*sin(S.y)*cos(S.z)**2)],\n",
       "[sin(S.y)*sin(S.z)/(sin(S.y)**2*sin(S.z)**2 + sin(S.y)**2*cos(S.z)**2 + sin(S.z)**2*cos(S.y)**2 + cos(S.y)**2*cos(S.z)**2), sin(S.z)*cos(S.y)/(S.x*sin(S.y)**2*sin(S.z)**2 + S.x*sin(S.y)**2*cos(S.z)**2 + S.x*sin(S.z)**2*cos(S.y)**2 + S.x*cos(S.y)**2*cos(S.z)**2),  cos(S.z)/(S.x*sin(S.y)*sin(S.z)**2 + S.x*sin(S.y)*cos(S.z)**2)],\n",
       "[                                                                                     cos(S.y)/(sin(S.y)**2 + cos(S.y)**2),                                                                                             -sin(S.y)/(S.x*sin(S.y)**2 + S.x*cos(S.y)**2),                                                               0]])"
      ]
     },
     "metadata": {},
     "output_type": "display_data"
    },
    {
     "name": "stdout",
     "output_type": "stream",
     "text": [
      "化简后的雅可比矩阵的逆：\n"
     ]
    },
    {
     "data": {
      "text/latex": [
       "$\\displaystyle \\left[\\begin{matrix}\\sin{\\left(\\mathbf{{y}_{S}} \\right)} \\cos{\\left(\\mathbf{{z}_{S}} \\right)} & \\frac{\\cos{\\left(\\mathbf{{y}_{S}} \\right)} \\cos{\\left(\\mathbf{{z}_{S}} \\right)}}{\\mathbf{{x}_{S}}} & - \\frac{\\sin{\\left(\\mathbf{{z}_{S}} \\right)}}{\\mathbf{{x}_{S}} \\sin{\\left(\\mathbf{{y}_{S}} \\right)}}\\\\\\sin{\\left(\\mathbf{{y}_{S}} \\right)} \\sin{\\left(\\mathbf{{z}_{S}} \\right)} & \\frac{\\sin{\\left(\\mathbf{{z}_{S}} \\right)} \\cos{\\left(\\mathbf{{y}_{S}} \\right)}}{\\mathbf{{x}_{S}}} & \\frac{\\cos{\\left(\\mathbf{{z}_{S}} \\right)}}{\\mathbf{{x}_{S}} \\sin{\\left(\\mathbf{{y}_{S}} \\right)}}\\\\\\cos{\\left(\\mathbf{{y}_{S}} \\right)} & - \\frac{\\sin{\\left(\\mathbf{{y}_{S}} \\right)}}{\\mathbf{{x}_{S}}} & 0\\end{matrix}\\right]$"
      ],
      "text/plain": [
       "Matrix([\n",
       "[sin(S.y)*cos(S.z), cos(S.y)*cos(S.z)/S.x, -sin(S.z)/(S.x*sin(S.y))],\n",
       "[sin(S.y)*sin(S.z), sin(S.z)*cos(S.y)/S.x,  cos(S.z)/(S.x*sin(S.y))],\n",
       "[         cos(S.y),         -sin(S.y)/S.x,                        0]])"
      ]
     },
     "metadata": {},
     "output_type": "display_data"
    },
    {
     "data": {
      "text/html": [
       "<hr style='border: 2px solid red;'>"
      ],
      "text/plain": [
       "<IPython.core.display.HTML object>"
      ]
     },
     "metadata": {},
     "output_type": "display_data"
    }
   ],
   "source": [
    "import sympy as sp\n",
    "from sympy.vector import CoordSys3D\n",
    "from IPython.display import display\n",
    "from IPython.display import HTML\n",
    "\n",
    "# 定义直角坐标系\n",
    "N = CoordSys3D('N')\n",
    "\n",
    "# 定义球坐标系\n",
    "S = CoordSys3D('S')\n",
    "r, theta, phi = S.base_scalars()\n",
    "\n",
    "# 定义球坐标系到直角坐标系的转换\n",
    "x = r * sp.sin(theta) * sp.cos(phi)\n",
    "y = r * sp.sin(theta) * sp.sin(phi)\n",
    "z = r * sp.cos(theta)\n",
    "# 打印红色的分割线\n",
    "display(HTML(\"<hr style='border: 2px solid red;'>\"))\n",
    "# 打印球坐标到直角坐标的转换\n",
    "print('球坐标到直角坐标的转换：')\n",
    "print('x =', x)\n",
    "print('y =', y)\n",
    "print('z =', z)\n",
    "\n",
    "# 求出直角坐标系的基向量\n",
    "e_r = sp.diff(sp.Matrix([x, y, z]), r)\n",
    "e_theta = sp.diff(sp.Matrix([x, y, z]), theta)\n",
    "e_phi = sp.diff(sp.Matrix([x, y, z]), phi)\n",
    "# 合成一个3 x 3矩阵\n",
    "M = sp.Matrix([e_r, e_theta, e_phi])\n",
    "M = M.reshape(3, 3)\n",
    "# 打印雅可比矩阵\n",
    "print('雅可比矩阵：')\n",
    "display(M)\n",
    "M_inv = M.inv()\n",
    "print('雅可比矩阵的逆：')\n",
    "display(M_inv)\n",
    "print('化简后的雅可比矩阵的逆：')\n",
    "display(sp.simplify(M_inv))\n",
    "display(HTML(\"<hr style='border: 2px solid red;'>\"))\n"
   ]
  },
  {
   "cell_type": "markdown",
   "id": "ec829920",
   "metadata": {},
   "source": [
    "图1.36 也给出了指向相应坐标增加方向的三个单位矢量 $\\hat{\\boldsymbol r},\\hat{\\boldsymbol \\theta}, \\hat{\\boldsymbol \\varphi}$。\n",
    "它们构成一个正交(相互垂直)基，任何矢量 $\\boldsymbol A$ 都能以通常的方式用这三个单位矢量表示：\n",
    "$$\n",
    "  \\boldsymbol A = A_r \\hat{\\boldsymbol r} + A_\\theta \\hat{\\boldsymbol \\theta} + A_\\phi \\hat{\\boldsymbol \\phi}\n",
    "  \\tag{1.63}\n",
    "$$\n",
    "式中，$A_r, A_\\theta, A_\\phi$ 是 $\\boldsymbol A$ 的径向、极向和方位角分量。\n",
    "用直角系的单位矢量表示，有\n",
    "$$\n",
    "\\begin{split}\n",
    "  \\hat{\\boldsymbol r} = & \\sin\\theta \\cos\\phi \\hat{\\boldsymbol x} + \\sin\\theta \\sin\\phi \\hat{\\boldsymbol y} + \\cos\\theta \\hat{\\boldsymbol z} \\\\\n",
    "  \\hat{\\boldsymbol \\theta} = & \\cos\\theta \\cos\\phi \\hat{\\boldsymbol x} + \\sin\\theta \\cos\\phi \\hat{\\boldsymbol y} - \\sin\\theta\\hat{\\boldsymbol z} \\\\\n",
    "  \\hat{\\boldsymbol \\phi} = & -\\sin\\phi \\hat{\\boldsymbol x} + \\cos\\phi \\hat{\\boldsymbol y}\n",
    "\\end{split}\n",
    "\\tag{1.64}\n",
    "$$"
   ]
  },
  {
   "cell_type": "markdown",
   "id": "3a358843",
   "metadata": {},
   "source": [
    "如果要用 python 证明这个事情呢？\n",
    "实际上我们要找的就是 $\\text dr$ 的增加方向，因此恰是雅可比行列式的第一行；\n",
    "同理雅可比行列式第二行是 $\\boldsymbol \\theta$，雅可比行列式第三行是 $\\boldsymbol \\phi$。\n",
    "\n",
    "要证明这组基的正交性，只要证明雅可比矩阵 $M^TM$ 是对角阵。"
   ]
  },
  {
   "cell_type": "code",
   "execution_count": 55,
   "id": "6f87ed10",
   "metadata": {},
   "outputs": [
    {
     "data": {
      "text/html": [
       "<hr style='border: 2px solid red;'>"
      ],
      "text/plain": [
       "<IPython.core.display.HTML object>"
      ]
     },
     "metadata": {},
     "output_type": "display_data"
    },
    {
     "name": "stdout",
     "output_type": "stream",
     "text": [
      "矢量 r 在直角坐标系下的表示：\n"
     ]
    },
    {
     "data": {
      "text/latex": [
       "$\\displaystyle \\left[\\begin{matrix}\\sin{\\left(\\mathbf{{y}_{S}} \\right)} \\cos{\\left(\\mathbf{{z}_{S}} \\right)}\\\\\\sin{\\left(\\mathbf{{y}_{S}} \\right)} \\sin{\\left(\\mathbf{{z}_{S}} \\right)}\\\\\\cos{\\left(\\mathbf{{y}_{S}} \\right)}\\end{matrix}\\right]$"
      ],
      "text/plain": [
       "Matrix([\n",
       "[sin(S.y)*cos(S.z)],\n",
       "[sin(S.y)*sin(S.z)],\n",
       "[         cos(S.y)]])"
      ]
     },
     "metadata": {},
     "output_type": "display_data"
    },
    {
     "name": "stdout",
     "output_type": "stream",
     "text": [
      "矢量 theta 在直角坐标系下的表示：\n"
     ]
    },
    {
     "data": {
      "text/latex": [
       "$\\displaystyle \\left[\\begin{matrix}\\mathbf{{x}_{S}} \\cos{\\left(\\mathbf{{y}_{S}} \\right)} \\cos{\\left(\\mathbf{{z}_{S}} \\right)}\\\\\\mathbf{{x}_{S}} \\sin{\\left(\\mathbf{{z}_{S}} \\right)} \\cos{\\left(\\mathbf{{y}_{S}} \\right)}\\\\- \\mathbf{{x}_{S}} \\sin{\\left(\\mathbf{{y}_{S}} \\right)}\\end{matrix}\\right]$"
      ],
      "text/plain": [
       "Matrix([\n",
       "[S.x*cos(S.y)*cos(S.z)],\n",
       "[S.x*sin(S.z)*cos(S.y)],\n",
       "[        -S.x*sin(S.y)]])"
      ]
     },
     "metadata": {},
     "output_type": "display_data"
    },
    {
     "name": "stdout",
     "output_type": "stream",
     "text": [
      "矢量 phi 在直角坐标系下的表示：\n"
     ]
    },
    {
     "data": {
      "text/latex": [
       "$\\displaystyle \\left[\\begin{matrix}- \\mathbf{{x}_{S}} \\sin{\\left(\\mathbf{{y}_{S}} \\right)} \\sin{\\left(\\mathbf{{z}_{S}} \\right)}\\\\\\mathbf{{x}_{S}} \\sin{\\left(\\mathbf{{y}_{S}} \\right)} \\cos{\\left(\\mathbf{{z}_{S}} \\right)}\\\\0\\end{matrix}\\right]$"
      ],
      "text/plain": [
       "Matrix([\n",
       "[-S.x*sin(S.y)*sin(S.z)],\n",
       "[ S.x*sin(S.y)*cos(S.z)],\n",
       "[                     0]])"
      ]
     },
     "metadata": {},
     "output_type": "display_data"
    },
    {
     "name": "stdout",
     "output_type": "stream",
     "text": [
      "正交性 M^T  M:\n"
     ]
    },
    {
     "data": {
      "text/latex": [
       "$\\displaystyle \\left[\\begin{matrix}\\sin^{2}{\\left(\\mathbf{{y}_{S}} \\right)} \\cos^{2}{\\left(\\mathbf{{z}_{S}} \\right)} + \\sin^{2}{\\left(\\mathbf{{z}_{S}} \\right)} + \\cos^{2}{\\left(\\mathbf{{y}_{S}} \\right)} \\cos^{2}{\\left(\\mathbf{{z}_{S}} \\right)} & \\sin^{2}{\\left(\\mathbf{{y}_{S}} \\right)} \\sin{\\left(\\mathbf{{z}_{S}} \\right)} \\cos{\\left(\\mathbf{{z}_{S}} \\right)} + \\sin{\\left(\\mathbf{{z}_{S}} \\right)} \\cos^{2}{\\left(\\mathbf{{y}_{S}} \\right)} \\cos{\\left(\\mathbf{{z}_{S}} \\right)} - \\sin{\\left(\\mathbf{{z}_{S}} \\right)} \\cos{\\left(\\mathbf{{z}_{S}} \\right)} & 0\\\\\\sin^{2}{\\left(\\mathbf{{y}_{S}} \\right)} \\sin{\\left(\\mathbf{{z}_{S}} \\right)} \\cos{\\left(\\mathbf{{z}_{S}} \\right)} + \\sin{\\left(\\mathbf{{z}_{S}} \\right)} \\cos^{2}{\\left(\\mathbf{{y}_{S}} \\right)} \\cos{\\left(\\mathbf{{z}_{S}} \\right)} - \\sin{\\left(\\mathbf{{z}_{S}} \\right)} \\cos{\\left(\\mathbf{{z}_{S}} \\right)} & \\sin^{2}{\\left(\\mathbf{{y}_{S}} \\right)} \\sin^{2}{\\left(\\mathbf{{z}_{S}} \\right)} + \\sin^{2}{\\left(\\mathbf{{z}_{S}} \\right)} \\cos^{2}{\\left(\\mathbf{{y}_{S}} \\right)} + \\cos^{2}{\\left(\\mathbf{{z}_{S}} \\right)} & 0\\\\0 & 0 & \\sin^{2}{\\left(\\mathbf{{y}_{S}} \\right)} + \\cos^{2}{\\left(\\mathbf{{y}_{S}} \\right)}\\end{matrix}\\right]$"
      ],
      "text/plain": [
       "Matrix([\n",
       "[                  sin(S.y)**2*cos(S.z)**2 + sin(S.z)**2 + cos(S.y)**2*cos(S.z)**2, sin(S.y)**2*sin(S.z)*cos(S.z) + sin(S.z)*cos(S.y)**2*cos(S.z) - sin(S.z)*cos(S.z),                         0],\n",
       "[sin(S.y)**2*sin(S.z)*cos(S.z) + sin(S.z)*cos(S.y)**2*cos(S.z) - sin(S.z)*cos(S.z),                   sin(S.y)**2*sin(S.z)**2 + sin(S.z)**2*cos(S.y)**2 + cos(S.z)**2,                         0],\n",
       "[                                                                                0,                                                                                 0, sin(S.y)**2 + cos(S.y)**2]])"
      ]
     },
     "metadata": {},
     "output_type": "display_data"
    },
    {
     "name": "stdout",
     "output_type": "stream",
     "text": [
      "化简：\n"
     ]
    },
    {
     "data": {
      "text/latex": [
       "$\\displaystyle \\left[\\begin{matrix}1 & 0 & 0\\\\0 & 1 & 0\\\\0 & 0 & 1\\end{matrix}\\right]$"
      ],
      "text/plain": [
       "Matrix([\n",
       "[1, 0, 0],\n",
       "[0, 1, 0],\n",
       "[0, 0, 1]])"
      ]
     },
     "metadata": {},
     "output_type": "display_data"
    },
    {
     "data": {
      "text/html": [
       "<hr style='border: 2px solid red;'>"
      ],
      "text/plain": [
       "<IPython.core.display.HTML object>"
      ]
     },
     "metadata": {},
     "output_type": "display_data"
    }
   ],
   "source": [
    "display(HTML(\"<hr style='border: 2px solid red;'>\"))\n",
    "print('矢量 r 在直角坐标系下的表示：')\n",
    "display(e_r)\n",
    "print('矢量 theta 在直角坐标系下的表示：')\n",
    "display(e_theta)\n",
    "print('矢量 phi 在直角坐标系下的表示：')\n",
    "display(e_phi)\n",
    "\n",
    "# 合成一个3 x 3矩阵\n",
    "M = sp.Matrix([e_r, e_theta/S.x, e_phi/(S.x*sp.sin(theta))])\n",
    "M = M.reshape(3, 3)\n",
    "\n",
    "print('正交性 M^T  M:')\n",
    "display(M.T @ M)\n",
    "print('化简：')\n",
    "display(sp.simplify(M.T @ M))\n",
    "\n",
    "display(HTML(\"<hr style='border: 2px solid red;'>\"))"
   ]
  },
  {
   "cell_type": "markdown",
   "id": "fcfae772-5aca-4bf7-b9d0-e598b6a07076",
   "metadata": {},
   "source": [
    "### 用直角坐标表示球坐标的坐标轴"
   ]
  },
  {
   "cell_type": "code",
   "execution_count": null,
   "id": "67dca3ba-c5d6-47f4-89c1-3afe40a28f30",
   "metadata": {},
   "outputs": [
    {
     "name": "stdout",
     "output_type": "stream",
     "text": [
      "直角坐标到球坐标：\n",
      " r = sqrt(C.x**2 + C.y**2 + C.z**2)\n",
      " theta = acos(C.z/sqrt(C.x**2 + C.y**2 + C.z**2))\n",
      " phi = atan2(C.y, C.x)\n"
     ]
    }
   ],
   "source": [
    "import sympy as sp\n",
    "from sympy.vector import CoordSys3D\n",
    "from IPython.display import display\n",
    "\n",
    "# 创建一个三维坐标系\n",
    "C = CoordSys3D('C')\n",
    "\n",
    "\n",
    "# 直角坐标到球坐标的转换公式\n",
    "\n",
    "r_norm = (x * S.i + y * S.j + z * S.k).normalize()\n",
    "r_norm = sp.simplify(r_norm)\n",
    "r_expr = r.magnitude()\n",
    "\n",
    "theta_norm = (x * z * S.i + y * z * S.j - (x**2 + y**2) * S.k).normalize()\n",
    "theta_expr = sp.acos(z / r_magn)\n",
    "theta_norm = sp.simplify(theta_norm)\n",
    "\n",
    "phi_norm = (-y * S.i + x * S.j).normalize()\n",
    "phi_norm = sp.simplify(phi_norm)\n",
    "phi_expr = sp.atan2(y, x)         # φ 是方位角\n",
    "\n",
    "# 打印直角坐标到球坐标的转换\n",
    "print(f\"直角坐标到球坐标：\\n r = {r_expr}\\n theta = {theta_expr}\\n phi = {phi_expr}\")"
   ]
  },
  {
   "cell_type": "markdown",
   "id": "a04ba841-3aba-48b7-aa14-589706ac12c4",
   "metadata": {},
   "source": [
    "### 用球坐标表示直角坐标系的坐标轴"
   ]
  },
  {
   "cell_type": "code",
   "execution_count": 69,
   "id": "18b0e1a0-c799-4ef6-be77-6ff1b4834191",
   "metadata": {},
   "outputs": [
    {
     "name": "stdout",
     "output_type": "stream",
     "text": [
      "\n",
      "球坐标到直角坐标：\n",
      " x = S.x*sin(S.y)*cos(S.z)\n",
      " y = S.x*sin(S.y)*sin(S.z)\n",
      " z = S.x*cos(S.y)\n"
     ]
    }
   ],
   "source": [
    "import sympy as sp\n",
    "from sympy.vector import CoordSys3D\n",
    "\n",
    "# 创建极坐标系\n",
    "S = CoordSys3D('S')\n",
    "r, theta, phi = S.x, S.y, S.z\n",
    "\n",
    "# 球坐标到直角坐标的转换公式\n",
    "\n",
    "x_expr = r * sp.sin(theta) * sp.cos(phi)\n",
    "y_expr = r * sp.sin(theta) * sp.sin(phi)\n",
    "z_expr = r * sp.cos(theta)\n",
    "\n",
    "# 打印球坐标到直角坐标的转换\n",
    "print(f\"\\n球坐标到直角坐标：\\n x = {x_expr}\\n y = {y_expr}\\n z = {z_expr}\")"
   ]
  },
  {
   "cell_type": "markdown",
   "id": "49dbd4a6-3364-4d1e-b2bd-f84764dc1318",
   "metadata": {},
   "source": []
  },
  {
   "cell_type": "markdown",
   "id": "5f2805b9-149d-4c4e-9743-70261cdd4798",
   "metadata": {},
   "source": [
    "#### 我们可以验证这个事儿"
   ]
  },
  {
   "cell_type": "code",
   "execution_count": 104,
   "id": "ad738968-902a-4547-a503-9dc16da8623c",
   "metadata": {},
   "outputs": [
    {
     "name": "stdout",
     "output_type": "stream",
     "text": [
      "r, theta, phi 单位向量的形式是这样的\n",
      "r = (C.x/sqrt(C.x**2 + C.y**2 + C.z**2))*C.i + (C.y/sqrt(C.x**2 + C.y**2 + C.z**2))*C.j + (C.z/sqrt(C.x**2 + C.y**2 + C.z**2))*C.k\n",
      "theta = (C.x*C.z/sqrt(C.x**2*C.z**2 + C.y**2*C.z**2 + (C.x**2 + C.y**2)**2))*C.i + (C.y*C.z/sqrt(C.x**2*C.z**2 + C.y**2*C.z**2 + (C.x**2 + C.y**2)**2))*C.j + ((-C.x**2 - C.y**2)/sqrt(C.x**2*C.z**2 + C.y**2*C.z**2 + (C.x**2 + C.y**2)**2))*C.k\n",
      "phi = (-C.y/sqrt(C.x**2 + C.y**2))*C.i + (C.x/sqrt(C.x**2 + C.y**2))*C.j\n"
     ]
    }
   ],
   "source": [
    "import sympy as sp\n",
    "from sympy.vector import CoordSys3D\n",
    "\n",
    "# 创建一个三维坐标系\n",
    "C = CoordSys3D('C')\n",
    "x, y, z = C.x, C.y, C.z\n",
    "\n",
    "# 直角坐标到球坐标的转换公式\n",
    "r_norm = (x * C.i + y * C.j + z * C.k).normalize()\n",
    "r_norm = sp.simplify(r_norm)\n",
    "r_expr = (x * C.i + y * C.j + z * C.k).magnitude()\n",
    "\n",
    "theta_norm = (x * z * C.i + y * z * C.j - (x**2 + y**2) * C.k).normalize()\n",
    "theta_norm = sp.simplify(theta_norm)\n",
    "theta_expr = sp.acos(z / r_expr)\n",
    "\n",
    "\n",
    "phi_norm = (-y * C.i + x * C.j).normalize()\n",
    "phi_norm = sp.simplify(phi_norm)\n",
    "phi_expr = sp.atan2(y, x)         # φ 是方位角\n",
    "\n",
    "print('r, theta, phi 单位向量的形式是这样的')\n",
    "print('r =', r_norm)\n",
    "print('theta =', theta_norm)\n",
    "print('phi =', phi_norm)"
   ]
  },
  {
   "cell_type": "code",
   "execution_count": 105,
   "id": "90651d90-8061-46e7-8b02-6d3def923b0c",
   "metadata": {},
   "outputs": [
    {
     "name": "stdout",
     "output_type": "stream",
     "text": [
      "r · theta =  0\n",
      "r · phi =  0\n",
      "theta · phi =  0\n"
     ]
    }
   ],
   "source": [
    "print('r · theta = ',sp.simplify( r_norm & theta_norm))\n",
    "print('r · phi = ', sp.simplify( r_norm & phi_norm))\n",
    "print('theta · phi = ', sp.simplify(theta_norm & phi_norm))"
   ]
  },
  {
   "cell_type": "code",
   "execution_count": null,
   "id": "53defc23-d1da-4af2-b81b-839151791bcc",
   "metadata": {},
   "outputs": [],
   "source": []
  },
  {
   "cell_type": "markdown",
   "id": "d916548f-5315-4950-8b59-54c54a8d8a95",
   "metadata": {},
   "source": [
    "用直角系的单位矢量表示，有\n",
    "$$\n",
    "\\begin{split}\n",
    "  \\hat{\\boldsymbol r} = & \\sin\\theta \\cos\\phi \\hat{\\boldsymbol x} + \\sin\\theta \\sin\\phi \\hat{\\boldsymbol y} + \\cos\\theta \\hat{\\boldsymbol z} \\\\\n",
    "  \\hat{\\boldsymbol \\theta} = & \\cos\\theta \\cos\\phi \\hat{\\boldsymbol x} + \\sin\\theta \\cos\\phi \\hat{\\boldsymbol y} - \\sin\\theta\\hat{\\boldsymbol z} \\\\\n",
    "  \\hat{\\boldsymbol \\phi} = & -\\sin\\phi \\hat{\\boldsymbol x} + \\cos\\phi \\hat{\\boldsymbol y}\n",
    "\\end{split}\n",
    "\\tag{1.64}\n",
    "$$"
   ]
  },
  {
   "cell_type": "markdown",
   "id": "d01e672b-bb9a-473b-9ccf-297b6db344e9",
   "metadata": {},
   "source": [
    "我们也可以验证这个事儿："
   ]
  },
  {
   "cell_type": "code",
   "execution_count": 56,
   "id": "136b5f5f-8f06-4ed2-a36d-309471c086c7",
   "metadata": {},
   "outputs": [
    {
     "ename": "NameError",
     "evalue": "name 'r_norm' is not defined",
     "output_type": "error",
     "traceback": [
      "\u001b[1;31m---------------------------------------------------------------------------\u001b[0m",
      "\u001b[1;31mNameError\u001b[0m                                 Traceback (most recent call last)",
      "Cell \u001b[1;32mIn[56], line 17\u001b[0m\n\u001b[0;32m     12\u001b[0m z_expr \u001b[38;5;241m=\u001b[39m r \u001b[38;5;241m*\u001b[39m sp\u001b[38;5;241m.\u001b[39mcos(theta)\n\u001b[0;32m     14\u001b[0m \u001b[38;5;66;03m# 打印球坐标到直角坐标的转换\u001b[39;00m\n\u001b[0;32m     15\u001b[0m \u001b[38;5;66;03m# print(f\"\\n球坐标到直角坐标：\\n x = {x_expr}\\n y = {y_expr}\\n z = {z_expr}\")\u001b[39;00m\n\u001b[1;32m---> 17\u001b[0m \u001b[38;5;28mprint\u001b[39m( sp\u001b[38;5;241m.\u001b[39msimplify(\u001b[43mr_norm\u001b[49m\u001b[38;5;241m.\u001b[39msubs({x :r \u001b[38;5;241m*\u001b[39m sp\u001b[38;5;241m.\u001b[39msin(theta) \u001b[38;5;241m*\u001b[39m sp\u001b[38;5;241m.\u001b[39mcos(phi), y : r \u001b[38;5;241m*\u001b[39m sp\u001b[38;5;241m.\u001b[39msin(theta) \u001b[38;5;241m*\u001b[39m sp\u001b[38;5;241m.\u001b[39msin(phi), z : r \u001b[38;5;241m*\u001b[39m sp\u001b[38;5;241m.\u001b[39mcos(theta)})) )\n\u001b[0;32m     18\u001b[0m \u001b[38;5;28mprint\u001b[39m( sp\u001b[38;5;241m.\u001b[39msimplify(theta_norm\u001b[38;5;241m.\u001b[39msubs({x :r \u001b[38;5;241m*\u001b[39m sp\u001b[38;5;241m.\u001b[39msin(theta) \u001b[38;5;241m*\u001b[39m sp\u001b[38;5;241m.\u001b[39mcos(phi), y : r \u001b[38;5;241m*\u001b[39m sp\u001b[38;5;241m.\u001b[39msin(theta) \u001b[38;5;241m*\u001b[39m sp\u001b[38;5;241m.\u001b[39msin(phi), z : r \u001b[38;5;241m*\u001b[39m sp\u001b[38;5;241m.\u001b[39mcos(theta)})) )\n\u001b[0;32m     19\u001b[0m \u001b[38;5;28mprint\u001b[39m( sp\u001b[38;5;241m.\u001b[39msimplify(phi_norm\u001b[38;5;241m.\u001b[39msubs({x :r \u001b[38;5;241m*\u001b[39m sp\u001b[38;5;241m.\u001b[39msin(theta) \u001b[38;5;241m*\u001b[39m sp\u001b[38;5;241m.\u001b[39mcos(phi), y : r \u001b[38;5;241m*\u001b[39m sp\u001b[38;5;241m.\u001b[39msin(theta) \u001b[38;5;241m*\u001b[39m sp\u001b[38;5;241m.\u001b[39msin(phi), z : r \u001b[38;5;241m*\u001b[39m sp\u001b[38;5;241m.\u001b[39mcos(theta)})))\n",
      "\u001b[1;31mNameError\u001b[0m: name 'r_norm' is not defined"
     ]
    }
   ],
   "source": [
    "import sympy as sp\n",
    "from sympy.vector import CoordSys3D\n",
    "\n",
    "# 创建极坐标系\n",
    "S = CoordSys3D('S')\n",
    "r, theta, phi = S.x, S.y, S.z\n",
    "\n",
    "# 球坐标到直角坐标的转换公式\n",
    "\n",
    "x_expr = r * sp.sin(theta) * sp.cos(phi)\n",
    "y_expr = r * sp.sin(theta) * sp.sin(phi)\n",
    "z_expr = r * sp.cos(theta)\n",
    "\n",
    "# 打印球坐标到直角坐标的转换\n",
    "# print(f\"\\n球坐标到直角坐标：\\n x = {x_expr}\\n y = {y_expr}\\n z = {z_expr}\")\n",
    "\n",
    "print( sp.simplify(r_norm.subs({x :r * sp.sin(theta) * sp.cos(phi), y : r * sp.sin(theta) * sp.sin(phi), z : r * sp.cos(theta)})) )\n",
    "print( sp.simplify(theta_norm.subs({x :r * sp.sin(theta) * sp.cos(phi), y : r * sp.sin(theta) * sp.sin(phi), z : r * sp.cos(theta)})) )\n",
    "print( sp.simplify(phi_norm.subs({x :r * sp.sin(theta) * sp.cos(phi), y : r * sp.sin(theta) * sp.sin(phi), z : r * sp.cos(theta)})))"
   ]
  },
  {
   "cell_type": "code",
   "execution_count": 134,
   "id": "9425e17f-fc09-4531-9dcf-97bb8526d33c",
   "metadata": {},
   "outputs": [
    {
     "data": {
      "text/latex": [
       "$\\displaystyle \\left(\\frac{\\mathbf{{x}_{S}} \\sin{\\left(\\mathbf{{y}_{S}} \\right)} \\cos{\\left(\\mathbf{{z}_{S}} \\right)}}{\\sqrt{\\mathbf{{x}_{S}}^{2}}}\\right)\\mathbf{\\hat{i}_{C}} + \\left(\\frac{\\mathbf{{x}_{S}} \\sin{\\left(\\mathbf{{y}_{S}} \\right)} \\sin{\\left(\\mathbf{{z}_{S}} \\right)}}{\\sqrt{\\mathbf{{x}_{S}}^{2}}}\\right)\\mathbf{\\hat{j}_{C}} + \\left(\\frac{\\mathbf{{x}_{S}} \\cos{\\left(\\mathbf{{y}_{S}} \\right)}}{\\sqrt{\\mathbf{{x}_{S}}^{2}}}\\right)\\mathbf{\\hat{k}_{C}}$"
      ],
      "text/plain": [
       "(S.x*sin(S.y)*cos(S.z)/sqrt(S.x**2))*C.i + (S.x*sin(S.y)*sin(S.z)/sqrt(S.x**2))*C.j + (S.x*cos(S.y)/sqrt(S.x**2))*C.k"
      ]
     },
     "execution_count": 134,
     "metadata": {},
     "output_type": "execute_result"
    }
   ],
   "source": [
    "sp.simplify(r_norm.subs({x :r * sp.sin(theta) * sp.cos(phi), y : r * sp.sin(theta) * sp.sin(phi), z : r * sp.cos(theta)}))"
   ]
  },
  {
   "cell_type": "code",
   "execution_count": 140,
   "id": "f10e19b6-0547-4fc5-8a98-9c946fbc78a4",
   "metadata": {},
   "outputs": [
    {
     "data": {
      "text/latex": [
       "$\\displaystyle \\left(\\frac{\\sqrt{2} \\mathbf{{x}_{S}}^{2} \\left(\\sin{\\left(2 \\mathbf{{y}_{S}} - \\mathbf{{z}_{S}} \\right)} + \\sin{\\left(2 \\mathbf{{y}_{S}} + \\mathbf{{z}_{S}} \\right)}\\right)}{4 \\sqrt{\\mathbf{{x}_{S}}^{4} \\cdot \\left(1 - \\cos{\\left(2 \\mathbf{{y}_{S}} \\right)}\\right)}}\\right)\\mathbf{\\hat{i}_{C}} + \\left(\\frac{\\sqrt{2} \\mathbf{{x}_{S}}^{2} \\left(\\cos{\\left(2 \\mathbf{{y}_{S}} - \\mathbf{{z}_{S}} \\right)} - \\cos{\\left(2 \\mathbf{{y}_{S}} + \\mathbf{{z}_{S}} \\right)}\\right)}{4 \\sqrt{\\mathbf{{x}_{S}}^{4} \\cdot \\left(1 - \\cos{\\left(2 \\mathbf{{y}_{S}} \\right)}\\right)}}\\right)\\mathbf{\\hat{j}_{C}} + \\left(- \\frac{\\mathbf{{x}_{S}}^{2} \\sin^{2}{\\left(\\mathbf{{y}_{S}} \\right)}}{\\sqrt{\\mathbf{{x}_{S}}^{4} \\sin^{2}{\\left(\\mathbf{{y}_{S}} \\right)}}}\\right)\\mathbf{\\hat{k}_{C}}$"
      ],
      "text/plain": [
       "(sqrt(2)*S.x**2*(sin(2*S.y - S.z) + sin(2*S.y + S.z))/(4*sqrt(S.x**4*(1 - cos(2*S.y)))))*C.i + (sqrt(2)*S.x**2*(cos(2*S.y - S.z) - cos(2*S.y + S.z))/(4*sqrt(S.x**4*(1 - cos(2*S.y)))))*C.j + (-S.x**2*sin(S.y)**2/sqrt(S.x**4*sin(S.y)**2))*C.k"
      ]
     },
     "execution_count": 140,
     "metadata": {},
     "output_type": "execute_result"
    }
   ],
   "source": [
    "sp.simplify((theta_norm.subs({x :r * sp.sin(theta) * sp.cos(phi), y : r * sp.sin(theta) * sp.sin(phi), z : r * sp.cos(theta)})))"
   ]
  },
  {
   "cell_type": "code",
   "execution_count": 139,
   "id": "f9841177-0836-4eb5-84c9-eb94a65eabe8",
   "metadata": {},
   "outputs": [
    {
     "data": {
      "text/latex": [
       "$\\displaystyle \\left(- \\frac{\\mathbf{{x}_{S}} \\sin{\\left(\\mathbf{{y}_{S}} \\right)} \\sin{\\left(\\mathbf{{z}_{S}} \\right)}}{\\sqrt{\\mathbf{{x}_{S}}^{2} \\sin^{2}{\\left(\\mathbf{{y}_{S}} \\right)}}}\\right)\\mathbf{\\hat{i}_{C}} + \\left(\\frac{\\mathbf{{x}_{S}} \\sin{\\left(\\mathbf{{y}_{S}} \\right)} \\cos{\\left(\\mathbf{{z}_{S}} \\right)}}{\\sqrt{\\mathbf{{x}_{S}}^{2} \\sin^{2}{\\left(\\mathbf{{y}_{S}} \\right)}}}\\right)\\mathbf{\\hat{j}_{C}}$"
      ],
      "text/plain": [
       "(-S.x*sin(S.y)*sin(S.z)/sqrt(S.x**2*sin(S.y)**2))*C.i + (S.x*sin(S.y)*cos(S.z)/sqrt(S.x**2*sin(S.y)**2))*C.j"
      ]
     },
     "execution_count": 139,
     "metadata": {},
     "output_type": "execute_result"
    }
   ],
   "source": [
    "sp.simplify(phi_norm.subs({x :r * sp.sin(theta) * sp.cos(phi), y : r * sp.sin(theta) * sp.sin(phi), z : r * sp.cos(theta)}))"
   ]
  },
  {
   "cell_type": "markdown",
   "id": "6e174dec-74e8-43a0-a50c-cdcd4caad3b5",
   "metadata": {},
   "source": [
    "这里的式子之所以这么复杂，是因为它不知道 r > 0, cos theta >= 0"
   ]
  },
  {
   "cell_type": "code",
   "execution_count": null,
   "id": "029b75aa-acde-479c-a579-cecff4e60c19",
   "metadata": {},
   "outputs": [],
   "source": []
  },
  {
   "cell_type": "code",
   "execution_count": null,
   "id": "ef9456b4-bb63-40b5-9d8e-ddba8bf544bf",
   "metadata": {},
   "outputs": [],
   "source": []
  },
  {
   "cell_type": "markdown",
   "id": "3f460414-8519-452e-837d-237e02c891a7",
   "metadata": {},
   "source": [
    "到现在为止，我们仅讨论了球坐标的几何。\n",
    "现在让我们把矢量导数(梯度、散度、旋度、拉普拉斯算子)用 $r,\\theta,\\phi$ 写出。"
   ]
  },
  {
   "cell_type": "markdown",
   "id": "21cff30d-e8d7-4e36-a46d-b16b6e9d6cf9",
   "metadata": {},
   "source": [
    "原则上这是直截了当的，对梯度情况有\n",
    "$$\n",
    "  \\nabla T =\n",
    "  \\left( \\frac{\\partial T}{\\partial x} \\right)  \\hat{\\boldsymbol x} + \\left( \\frac{\\partial T}{\\partial y} \\right)  \\hat{\\boldsymbol y} + \\left( \\frac{\\partial T}{\\partial z} \\right)  \\hat{\\boldsymbol z}\n",
    "$$\n",
    "我们首先利用复合导数求导规则重新表示偏导数，例如\n",
    "$$\n",
    "  \\frac{\\partial T}{\\partial x} = \\frac{\\partial T}{\\partial r} \\frac{\\partial r}{\\partial x} + \\frac{\\partial T}{\\partial \\theta} \\frac{\\partial \\theta}{\\partial x} + \\frac{\\partial T}{\\partial \\phi} \\frac{\\partial \\phi}{\\partial x} \n",
    "$$\n",
    "圆括弧中求导项可由式(1.62)——或者它们的逆变式(习题1.36)求出。\n",
    "然后我们对 $\\partial T/\\partial y,\\partial T/\\partial z$ 同样作变换。\n",
    "最后，我们把 $\\hat{\\boldsymbol x},\\hat{\\boldsymbol y}, \\hat{\\boldsymbol z}$ 用 $\\hat{\\boldsymbol r},\\hat{\\boldsymbol \\theta},\\hat{\\boldsymbol \\phi}$ 代换(习题1.37)。\n"
   ]
  },
  {
   "cell_type": "code",
   "execution_count": null,
   "id": "0a1eeb1c-26e8-4201-bd8a-d1dd0a6ab1ad",
   "metadata": {},
   "outputs": [],
   "source": []
  }
 ],
 "metadata": {
  "kernelspec": {
   "display_name": "d2l",
   "language": "python",
   "name": "python3"
  },
  "language_info": {
   "codemirror_mode": {
    "name": "ipython",
    "version": 3
   },
   "file_extension": ".py",
   "mimetype": "text/x-python",
   "name": "python",
   "nbconvert_exporter": "python",
   "pygments_lexer": "ipython3",
   "version": "3.8.19"
  }
 },
 "nbformat": 4,
 "nbformat_minor": 5
}
