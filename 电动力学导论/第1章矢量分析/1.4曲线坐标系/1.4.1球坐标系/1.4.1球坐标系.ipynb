{
 "cells": [
  {
   "cell_type": "markdown",
   "id": "7f82b0a5-96c1-4c17-a40e-32f28e56dc23",
   "metadata": {},
   "source": [
    "# 1.4.1球坐标系"
   ]
  },
  {
   "cell_type": "markdown",
   "id": "b7b2e95a-2cb9-44be-94c4-db2096118f4d",
   "metadata": {},
   "source": [
    "图1.36给出了一个点 $P$ 的球坐标 $(r,\\theta,\\varphi)$ 的定义；$\\boldsymbol r$ 是到原点的距离(位置矢量的大小)，$\\theta$ (位置矢量与 $z$ 轴的夹角)称为极角，$\\varphi$ (位置矢量在 $xy$ 平面的投影与 $x$ 轴的夹角)称为方位角。\n",
    "由图可以得出 $(r,\\theta,\\varphi)$ 与直角坐标 $(x,y,z)$ 的关系:\n",
    "$$\n",
    "  x = r\\sin\\theta\\cos\\varphi, y = r\\sin\\theta\\sin\\varphi, z = r\\cos\\theta\n",
    "  \\tag{1.62}\n",
    "$$"
   ]
  },
  {
   "cell_type": "code",
   "execution_count": 4,
   "id": "4db4b6f3",
   "metadata": {},
   "outputs": [
    {
     "data": {
      "text/html": [
       "<hr style='border: 2px solid red;'>"
      ],
      "text/plain": [
       "<IPython.core.display.HTML object>"
      ]
     },
     "metadata": {},
     "output_type": "display_data"
    },
    {
     "name": "stdout",
     "output_type": "stream",
     "text": [
      "球坐标到直角坐标的转换：\n",
      "x = S.x*sin(S.y)*cos(S.z)\n",
      "y = S.x*sin(S.y)*sin(S.z)\n",
      "z = S.x*cos(S.y)\n",
      "我们需要知道雅可比矩阵是用来干嘛的，这有助于我们判断怎么构造雅可比矩阵：雅可比矩阵的行表示 dx, dy, dz 全微分。\n",
      "雅可比矩阵：\n"
     ]
    },
    {
     "data": {
      "text/latex": [
       "$\\displaystyle \\left[\\begin{matrix}\\sin{\\left(\\mathbf{{y}_{S}} \\right)} \\cos{\\left(\\mathbf{{z}_{S}} \\right)} & \\mathbf{{x}_{S}} \\cos{\\left(\\mathbf{{y}_{S}} \\right)} \\cos{\\left(\\mathbf{{z}_{S}} \\right)} & - \\mathbf{{x}_{S}} \\sin{\\left(\\mathbf{{y}_{S}} \\right)} \\sin{\\left(\\mathbf{{z}_{S}} \\right)}\\\\\\sin{\\left(\\mathbf{{y}_{S}} \\right)} \\sin{\\left(\\mathbf{{z}_{S}} \\right)} & \\mathbf{{x}_{S}} \\sin{\\left(\\mathbf{{z}_{S}} \\right)} \\cos{\\left(\\mathbf{{y}_{S}} \\right)} & \\mathbf{{x}_{S}} \\sin{\\left(\\mathbf{{y}_{S}} \\right)} \\cos{\\left(\\mathbf{{z}_{S}} \\right)}\\\\\\cos{\\left(\\mathbf{{y}_{S}} \\right)} & - \\mathbf{{x}_{S}} \\sin{\\left(\\mathbf{{y}_{S}} \\right)} & 0\\end{matrix}\\right]$"
      ],
      "text/plain": [
       "Matrix([\n",
       "[sin(S.y)*cos(S.z), S.x*cos(S.y)*cos(S.z), -S.x*sin(S.y)*sin(S.z)],\n",
       "[sin(S.y)*sin(S.z), S.x*sin(S.z)*cos(S.y),  S.x*sin(S.y)*cos(S.z)],\n",
       "[         cos(S.y),         -S.x*sin(S.y),                      0]])"
      ]
     },
     "metadata": {},
     "output_type": "display_data"
    },
    {
     "name": "stdout",
     "output_type": "stream",
     "text": [
      "雅可比矩阵的转置矩阵，是变量代换矩阵：将对 x,y,z 的梯度转换为对 r, theta, phi 的梯度\n"
     ]
    },
    {
     "data": {
      "text/latex": [
       "$\\displaystyle \\left[\\begin{matrix}\\sin{\\left(\\mathbf{{y}_{S}} \\right)} \\cos{\\left(\\mathbf{{z}_{S}} \\right)} & \\sin{\\left(\\mathbf{{y}_{S}} \\right)} \\sin{\\left(\\mathbf{{z}_{S}} \\right)} & \\cos{\\left(\\mathbf{{y}_{S}} \\right)}\\\\\\mathbf{{x}_{S}} \\cos{\\left(\\mathbf{{y}_{S}} \\right)} \\cos{\\left(\\mathbf{{z}_{S}} \\right)} & \\mathbf{{x}_{S}} \\sin{\\left(\\mathbf{{z}_{S}} \\right)} \\cos{\\left(\\mathbf{{y}_{S}} \\right)} & - \\mathbf{{x}_{S}} \\sin{\\left(\\mathbf{{y}_{S}} \\right)}\\\\- \\mathbf{{x}_{S}} \\sin{\\left(\\mathbf{{y}_{S}} \\right)} \\sin{\\left(\\mathbf{{z}_{S}} \\right)} & \\mathbf{{x}_{S}} \\sin{\\left(\\mathbf{{y}_{S}} \\right)} \\cos{\\left(\\mathbf{{z}_{S}} \\right)} & 0\\end{matrix}\\right]$"
      ],
      "text/plain": [
       "Matrix([\n",
       "[     sin(S.y)*cos(S.z),     sin(S.y)*sin(S.z),      cos(S.y)],\n",
       "[ S.x*cos(S.y)*cos(S.z), S.x*sin(S.z)*cos(S.y), -S.x*sin(S.y)],\n",
       "[-S.x*sin(S.y)*sin(S.z), S.x*sin(S.y)*cos(S.z),             0]])"
      ]
     },
     "metadata": {},
     "output_type": "display_data"
    },
    {
     "name": "stdout",
     "output_type": "stream",
     "text": [
      "雅可比矩阵的逆：\n"
     ]
    },
    {
     "data": {
      "text/latex": [
       "$\\displaystyle \\left[\\begin{matrix}\\frac{\\sin{\\left(\\mathbf{{y}_{S}} \\right)} \\cos{\\left(\\mathbf{{z}_{S}} \\right)}}{\\sin^{2}{\\left(\\mathbf{{y}_{S}} \\right)} \\sin^{2}{\\left(\\mathbf{{z}_{S}} \\right)} + \\sin^{2}{\\left(\\mathbf{{y}_{S}} \\right)} \\cos^{2}{\\left(\\mathbf{{z}_{S}} \\right)} + \\sin^{2}{\\left(\\mathbf{{z}_{S}} \\right)} \\cos^{2}{\\left(\\mathbf{{y}_{S}} \\right)} + \\cos^{2}{\\left(\\mathbf{{y}_{S}} \\right)} \\cos^{2}{\\left(\\mathbf{{z}_{S}} \\right)}} & \\frac{\\sin{\\left(\\mathbf{{y}_{S}} \\right)} \\sin{\\left(\\mathbf{{z}_{S}} \\right)}}{\\sin^{2}{\\left(\\mathbf{{y}_{S}} \\right)} \\sin^{2}{\\left(\\mathbf{{z}_{S}} \\right)} + \\sin^{2}{\\left(\\mathbf{{y}_{S}} \\right)} \\cos^{2}{\\left(\\mathbf{{z}_{S}} \\right)} + \\sin^{2}{\\left(\\mathbf{{z}_{S}} \\right)} \\cos^{2}{\\left(\\mathbf{{y}_{S}} \\right)} + \\cos^{2}{\\left(\\mathbf{{y}_{S}} \\right)} \\cos^{2}{\\left(\\mathbf{{z}_{S}} \\right)}} & \\frac{\\cos{\\left(\\mathbf{{y}_{S}} \\right)}}{\\sin^{2}{\\left(\\mathbf{{y}_{S}} \\right)} + \\cos^{2}{\\left(\\mathbf{{y}_{S}} \\right)}}\\\\\\frac{\\cos{\\left(\\mathbf{{y}_{S}} \\right)} \\cos{\\left(\\mathbf{{z}_{S}} \\right)}}{\\mathbf{{x}_{S}} \\sin^{2}{\\left(\\mathbf{{y}_{S}} \\right)} \\sin^{2}{\\left(\\mathbf{{z}_{S}} \\right)} + \\mathbf{{x}_{S}} \\sin^{2}{\\left(\\mathbf{{y}_{S}} \\right)} \\cos^{2}{\\left(\\mathbf{{z}_{S}} \\right)} + \\mathbf{{x}_{S}} \\sin^{2}{\\left(\\mathbf{{z}_{S}} \\right)} \\cos^{2}{\\left(\\mathbf{{y}_{S}} \\right)} + \\mathbf{{x}_{S}} \\cos^{2}{\\left(\\mathbf{{y}_{S}} \\right)} \\cos^{2}{\\left(\\mathbf{{z}_{S}} \\right)}} & \\frac{\\sin{\\left(\\mathbf{{z}_{S}} \\right)} \\cos{\\left(\\mathbf{{y}_{S}} \\right)}}{\\mathbf{{x}_{S}} \\sin^{2}{\\left(\\mathbf{{y}_{S}} \\right)} \\sin^{2}{\\left(\\mathbf{{z}_{S}} \\right)} + \\mathbf{{x}_{S}} \\sin^{2}{\\left(\\mathbf{{y}_{S}} \\right)} \\cos^{2}{\\left(\\mathbf{{z}_{S}} \\right)} + \\mathbf{{x}_{S}} \\sin^{2}{\\left(\\mathbf{{z}_{S}} \\right)} \\cos^{2}{\\left(\\mathbf{{y}_{S}} \\right)} + \\mathbf{{x}_{S}} \\cos^{2}{\\left(\\mathbf{{y}_{S}} \\right)} \\cos^{2}{\\left(\\mathbf{{z}_{S}} \\right)}} & - \\frac{\\sin{\\left(\\mathbf{{y}_{S}} \\right)}}{\\mathbf{{x}_{S}} \\sin^{2}{\\left(\\mathbf{{y}_{S}} \\right)} + \\mathbf{{x}_{S}} \\cos^{2}{\\left(\\mathbf{{y}_{S}} \\right)}}\\\\- \\frac{\\sin{\\left(\\mathbf{{z}_{S}} \\right)}}{\\mathbf{{x}_{S}} \\sin{\\left(\\mathbf{{y}_{S}} \\right)} \\sin^{2}{\\left(\\mathbf{{z}_{S}} \\right)} + \\mathbf{{x}_{S}} \\sin{\\left(\\mathbf{{y}_{S}} \\right)} \\cos^{2}{\\left(\\mathbf{{z}_{S}} \\right)}} & \\frac{\\cos{\\left(\\mathbf{{z}_{S}} \\right)}}{\\mathbf{{x}_{S}} \\sin{\\left(\\mathbf{{y}_{S}} \\right)} \\sin^{2}{\\left(\\mathbf{{z}_{S}} \\right)} + \\mathbf{{x}_{S}} \\sin{\\left(\\mathbf{{y}_{S}} \\right)} \\cos^{2}{\\left(\\mathbf{{z}_{S}} \\right)}} & 0\\end{matrix}\\right]$"
      ],
      "text/plain": [
       "Matrix([\n",
       "[                sin(S.y)*cos(S.z)/(sin(S.y)**2*sin(S.z)**2 + sin(S.y)**2*cos(S.z)**2 + sin(S.z)**2*cos(S.y)**2 + cos(S.y)**2*cos(S.z)**2),                 sin(S.y)*sin(S.z)/(sin(S.y)**2*sin(S.z)**2 + sin(S.y)**2*cos(S.z)**2 + sin(S.z)**2*cos(S.y)**2 + cos(S.y)**2*cos(S.z)**2),          cos(S.y)/(sin(S.y)**2 + cos(S.y)**2)],\n",
       "[cos(S.y)*cos(S.z)/(S.x*sin(S.y)**2*sin(S.z)**2 + S.x*sin(S.y)**2*cos(S.z)**2 + S.x*sin(S.z)**2*cos(S.y)**2 + S.x*cos(S.y)**2*cos(S.z)**2), sin(S.z)*cos(S.y)/(S.x*sin(S.y)**2*sin(S.z)**2 + S.x*sin(S.y)**2*cos(S.z)**2 + S.x*sin(S.z)**2*cos(S.y)**2 + S.x*cos(S.y)**2*cos(S.z)**2), -sin(S.y)/(S.x*sin(S.y)**2 + S.x*cos(S.y)**2)],\n",
       "[                                                                          -sin(S.z)/(S.x*sin(S.y)*sin(S.z)**2 + S.x*sin(S.y)*cos(S.z)**2),                                                                            cos(S.z)/(S.x*sin(S.y)*sin(S.z)**2 + S.x*sin(S.y)*cos(S.z)**2),                                             0]])"
      ]
     },
     "metadata": {},
     "output_type": "display_data"
    },
    {
     "name": "stdout",
     "output_type": "stream",
     "text": [
      "化简后的雅可比矩阵的逆：\n"
     ]
    },
    {
     "data": {
      "text/latex": [
       "$\\displaystyle \\left[\\begin{matrix}\\sin{\\left(\\mathbf{{y}_{S}} \\right)} \\cos{\\left(\\mathbf{{z}_{S}} \\right)} & \\sin{\\left(\\mathbf{{y}_{S}} \\right)} \\sin{\\left(\\mathbf{{z}_{S}} \\right)} & \\cos{\\left(\\mathbf{{y}_{S}} \\right)}\\\\\\frac{\\cos{\\left(\\mathbf{{y}_{S}} \\right)} \\cos{\\left(\\mathbf{{z}_{S}} \\right)}}{\\mathbf{{x}_{S}}} & \\frac{\\sin{\\left(\\mathbf{{z}_{S}} \\right)} \\cos{\\left(\\mathbf{{y}_{S}} \\right)}}{\\mathbf{{x}_{S}}} & - \\frac{\\sin{\\left(\\mathbf{{y}_{S}} \\right)}}{\\mathbf{{x}_{S}}}\\\\- \\frac{\\sin{\\left(\\mathbf{{z}_{S}} \\right)}}{\\mathbf{{x}_{S}} \\sin{\\left(\\mathbf{{y}_{S}} \\right)}} & \\frac{\\cos{\\left(\\mathbf{{z}_{S}} \\right)}}{\\mathbf{{x}_{S}} \\sin{\\left(\\mathbf{{y}_{S}} \\right)}} & 0\\end{matrix}\\right]$"
      ],
      "text/plain": [
       "Matrix([\n",
       "[       sin(S.y)*cos(S.z),       sin(S.y)*sin(S.z),      cos(S.y)],\n",
       "[   cos(S.y)*cos(S.z)/S.x,   sin(S.z)*cos(S.y)/S.x, -sin(S.y)/S.x],\n",
       "[-sin(S.z)/(S.x*sin(S.y)), cos(S.z)/(S.x*sin(S.y)),             0]])"
      ]
     },
     "metadata": {},
     "output_type": "display_data"
    },
    {
     "data": {
      "text/html": [
       "<hr style='border: 2px solid red;'>"
      ],
      "text/plain": [
       "<IPython.core.display.HTML object>"
      ]
     },
     "metadata": {},
     "output_type": "display_data"
    }
   ],
   "source": [
    "import sympy as sp\n",
    "from sympy.vector import CoordSys3D\n",
    "from IPython.display import display\n",
    "from IPython.display import HTML\n",
    "\n",
    "# 打印红色的分割线\n",
    "display(HTML(\"<hr style='border: 2px solid red;'>\"))\n",
    "\n",
    "\n",
    "# 定义直角坐标系\n",
    "N = CoordSys3D('N')\n",
    "\n",
    "# 定义球坐标系\n",
    "S = CoordSys3D('S')\n",
    "r, theta, phi = S.base_scalars()\n",
    "\n",
    "# 定义球坐标系到直角坐标系的转换\n",
    "x = r * sp.sin(theta) * sp.cos(phi)\n",
    "y = r * sp.sin(theta) * sp.sin(phi)\n",
    "z = r * sp.cos(theta)\n",
    "\n",
    "# 打印球坐标到直角坐标的转换\n",
    "print('球坐标到直角坐标的转换：')\n",
    "print('x =', x)\n",
    "print('y =', y)\n",
    "print('z =', z)\n",
    "\n",
    "# 求出直角坐标系的基向量\n",
    "e_r = sp.diff(sp.Matrix([x, y, z]), r)\n",
    "e_theta = sp.diff(sp.Matrix([x, y, z]), theta)\n",
    "e_phi = sp.diff(sp.Matrix([x, y, z]), phi)\n",
    "# 合成一个3 x 3的雅可比矩阵\n",
    "# 我们需要知道雅可比矩阵是用来干嘛的，这有助于我们判断怎么构造雅可比矩阵\n",
    "# 雅可比矩阵的行表示全微分\n",
    "print('我们需要知道雅可比矩阵是用来干嘛的，这有助于我们判断怎么构造雅可比矩阵：雅可比矩阵的行表示 dx, dy, dz 全微分。')\n",
    "Jacobi_matrix = sp.Matrix([e_r, e_theta, e_phi])\n",
    "Jacobi_matrix = Jacobi_matrix.reshape(3, 3).T\n",
    "# 打印雅可比矩阵\n",
    "print('雅可比矩阵：')\n",
    "display(Jacobi_matrix)\n",
    "\n",
    "print('雅可比矩阵的转置矩阵，是变量代换矩阵：将对 x,y,z 的梯度转换为对 r, theta, phi 的梯度')\n",
    "display(Jacobi_matrix.T)\n",
    "\n",
    "Jacobi_inv = Jacobi_matrix.inv()\n",
    "print('雅可比矩阵的逆：')\n",
    "display(Jacobi_inv)\n",
    "print('化简后的雅可比矩阵的逆：')\n",
    "Jacobi_inv = sp.simplify(Jacobi_inv)\n",
    "display(Jacobi_inv)\n",
    "display(HTML(\"<hr style='border: 2px solid red;'>\"))\n"
   ]
  },
  {
   "cell_type": "markdown",
   "id": "b1f7523c",
   "metadata": {},
   "source": [
    "雅可比矩阵的意义。\n",
    "雅可比矩阵的行是全微分：\n",
    "$$\n",
    "  J =\n",
    "  \\begin{pmatrix}\n",
    "    \\frac{\\partial x}{\\partial r} & \\frac{\\partial x}{\\partial \\theta} & \\frac{\\partial x}{\\partial \\phi} \\\\\n",
    "    \\frac{\\partial y}{\\partial r} & \\frac{\\partial y}{\\partial \\theta} & \\frac{\\partial y}{\\partial \\phi} \\\\\n",
    "    \\frac{\\partial z}{\\partial r} & \\frac{\\partial z}{\\partial \\theta} & \\frac{\\partial z}{\\partial \\phi}\n",
    "  \\end{pmatrix}\n",
    "$$\n",
    "雅可比矩阵的转置是梯度变换矩阵：\n",
    "$$\n",
    "  \\begin{pmatrix}\n",
    "    \\frac{\\partial V}{\\partial r} \\\\ \\frac{\\partial V}{\\partial \\theta} \\\\ \\frac{\\partial V}{\\partial \\phi} \n",
    "  \\end{pmatrix}\n",
    "  = \n",
    "  \\begin{pmatrix}\n",
    "    \\frac{\\partial x}{\\partial r} & \\frac{\\partial y}{\\partial r} & \\frac{\\partial z}{\\partial r} \\\\\n",
    "    \\frac{\\partial x}{\\partial \\theta} & \\frac{\\partial y}{\\partial \\theta} & \\frac{\\partial z}{\\partial \\theta} \\\\\n",
    "    \\frac{\\partial x}{\\partial \\phi} & \\frac{\\partial y}{\\partial \\phi} & \\frac{\\partial z}{\\partial \\phi}\n",
    "  \\end{pmatrix}\n",
    "  \\begin{pmatrix}\n",
    "    \\frac{\\partial V}{\\partial x} \\\\ \\frac{\\partial V}{\\partial y} \\\\ \\frac{\\partial V}{\\partial z}\n",
    "  \\end{pmatrix}\n",
    "$$\n",
    "\n",
    "最后是重要的基变换矩阵：\n",
    "$$\n",
    "  \\begin{pmatrix}\n",
    "    \\hat{\\bm r} & \\hat{\\bm \\theta} & \\hat{\\bm \\phi}\n",
    "  \\end{pmatrix}\n",
    "  = \n",
    "  \\begin{pmatrix}\n",
    "    \\hat{\\bm x} & \\hat{\\bm y} & \\hat{\\bm z}\n",
    "  \\end{pmatrix}\n",
    "  \\begin{pmatrix}\n",
    "    \\sin\\theta \\cos\\phi & \\cos\\theta \\cos\\phi & -\\sin\\phi \\\\\n",
    "    \\sin\\theta \\sin\\phi & \\sin\\theta \\cos\\phi & \\cos\\phi \\\\\n",
    "    \\cos\\theta & - \\sin\\theta\n",
    "  \\end{pmatrix}\n",
    "$$"
   ]
  },
  {
   "cell_type": "code",
   "execution_count": null,
   "id": "f4b8ab02",
   "metadata": {},
   "outputs": [],
   "source": []
  },
  {
   "cell_type": "markdown",
   "id": "ec829920",
   "metadata": {},
   "source": [
    "图1.36 也给出了指向相应坐标增加方向的三个单位矢量 $\\hat{\\boldsymbol r},\\hat{\\boldsymbol \\theta}, \\hat{\\boldsymbol \\varphi}$。\n",
    "它们构成一个正交(相互垂直)基，任何矢量 $\\boldsymbol A$ 都能以通常的方式用这三个单位矢量表示：\n",
    "$$\n",
    "  \\boldsymbol A = A_r \\hat{\\boldsymbol r} + A_\\theta \\hat{\\boldsymbol \\theta} + A_\\phi \\hat{\\boldsymbol \\phi}\n",
    "  \\tag{1.63}\n",
    "$$\n",
    "式中，$A_r, A_\\theta, A_\\phi$ 是 $\\boldsymbol A$ 的径向、极向和方位角分量。\n",
    "用直角系的单位矢量表示，有\n",
    "$$\n",
    "\\begin{split}\n",
    "  \\hat{\\boldsymbol r} = & \\sin\\theta \\cos\\phi \\hat{\\boldsymbol x} + \\sin\\theta \\sin\\phi \\hat{\\boldsymbol y} + \\cos\\theta \\hat{\\boldsymbol z} \\\\\n",
    "  \\hat{\\boldsymbol \\theta} = & \\cos\\theta \\cos\\phi \\hat{\\boldsymbol x} + \\sin\\theta \\cos\\phi \\hat{\\boldsymbol y} - \\sin\\theta\\hat{\\boldsymbol z} \\\\\n",
    "  \\hat{\\boldsymbol \\phi} = & -\\sin\\phi \\hat{\\boldsymbol x} + \\cos\\phi \\hat{\\boldsymbol y}\n",
    "\\end{split}\n",
    "\\tag{1.64}\n",
    "$$"
   ]
  },
  {
   "cell_type": "markdown",
   "id": "3a358843",
   "metadata": {},
   "source": [
    "如果要用 python 证明这个事情呢？\n",
    "实际上我们要找的就是 $\\text dr$ 的增加方向，因此恰是雅可比行列式的第一列；\n",
    "同理雅可比行列式第二列是 $\\boldsymbol \\theta$，雅可比行列式第三列是 $\\boldsymbol \\phi$。\n",
    "\n",
    "或者看雅可比矩阵的逆矩阵的行向量。"
   ]
  },
  {
   "cell_type": "code",
   "execution_count": 5,
   "id": "6f87ed10",
   "metadata": {},
   "outputs": [
    {
     "data": {
      "text/html": [
       "<hr style='border: 2px solid red;'>"
      ],
      "text/plain": [
       "<IPython.core.display.HTML object>"
      ]
     },
     "metadata": {},
     "output_type": "display_data"
    },
    {
     "name": "stdout",
     "output_type": "stream",
     "text": [
      "矢量 r 在直角坐标系下的表示：\n"
     ]
    },
    {
     "data": {
      "text/latex": [
       "$\\displaystyle \\left[\\begin{matrix}\\sin{\\left(\\mathbf{{y}_{S}} \\right)} \\cos{\\left(\\mathbf{{z}_{S}} \\right)}\\\\\\sin{\\left(\\mathbf{{y}_{S}} \\right)} \\sin{\\left(\\mathbf{{z}_{S}} \\right)}\\\\\\cos{\\left(\\mathbf{{y}_{S}} \\right)}\\end{matrix}\\right]$"
      ],
      "text/plain": [
       "Matrix([\n",
       "[sin(S.y)*cos(S.z)],\n",
       "[sin(S.y)*sin(S.z)],\n",
       "[         cos(S.y)]])"
      ]
     },
     "metadata": {},
     "output_type": "display_data"
    },
    {
     "name": "stdout",
     "output_type": "stream",
     "text": [
      "矢量 theta 在直角坐标系下的表示：\n"
     ]
    },
    {
     "data": {
      "text/latex": [
       "$\\displaystyle \\left[\\begin{matrix}\\cos{\\left(\\mathbf{{y}_{S}} \\right)} \\cos{\\left(\\mathbf{{z}_{S}} \\right)}\\\\\\sin{\\left(\\mathbf{{z}_{S}} \\right)} \\cos{\\left(\\mathbf{{y}_{S}} \\right)}\\\\- \\sin{\\left(\\mathbf{{y}_{S}} \\right)}\\end{matrix}\\right]$"
      ],
      "text/plain": [
       "Matrix([\n",
       "[cos(S.y)*cos(S.z)],\n",
       "[sin(S.z)*cos(S.y)],\n",
       "[        -sin(S.y)]])"
      ]
     },
     "metadata": {},
     "output_type": "display_data"
    },
    {
     "name": "stdout",
     "output_type": "stream",
     "text": [
      "矢量 phi 在直角坐标系下的表示：\n"
     ]
    },
    {
     "data": {
      "text/latex": [
       "$\\displaystyle \\left[\\begin{matrix}- \\sin{\\left(\\mathbf{{z}_{S}} \\right)}\\\\\\cos{\\left(\\mathbf{{z}_{S}} \\right)}\\\\0\\end{matrix}\\right]$"
      ],
      "text/plain": [
       "Matrix([\n",
       "[-sin(S.z)],\n",
       "[ cos(S.z)],\n",
       "[        0]])"
      ]
     },
     "metadata": {},
     "output_type": "display_data"
    },
    {
     "name": "stdout",
     "output_type": "stream",
     "text": [
      "坐标向量的变换矩阵为：\n"
     ]
    },
    {
     "data": {
      "text/latex": [
       "$\\displaystyle \\left[\\begin{matrix}\\sin{\\left(\\mathbf{{y}_{S}} \\right)} \\cos{\\left(\\mathbf{{z}_{S}} \\right)} & \\cos{\\left(\\mathbf{{y}_{S}} \\right)} \\cos{\\left(\\mathbf{{z}_{S}} \\right)} & - \\sin{\\left(\\mathbf{{z}_{S}} \\right)}\\\\\\sin{\\left(\\mathbf{{y}_{S}} \\right)} \\sin{\\left(\\mathbf{{z}_{S}} \\right)} & \\sin{\\left(\\mathbf{{z}_{S}} \\right)} \\cos{\\left(\\mathbf{{y}_{S}} \\right)} & \\cos{\\left(\\mathbf{{z}_{S}} \\right)}\\\\\\cos{\\left(\\mathbf{{y}_{S}} \\right)} & - \\sin{\\left(\\mathbf{{y}_{S}} \\right)} & 0\\end{matrix}\\right]$"
      ],
      "text/plain": [
       "Matrix([\n",
       "[sin(S.y)*cos(S.z), cos(S.y)*cos(S.z), -sin(S.z)],\n",
       "[sin(S.y)*sin(S.z), sin(S.z)*cos(S.y),  cos(S.z)],\n",
       "[         cos(S.y),         -sin(S.y),         0]])"
      ]
     },
     "metadata": {},
     "output_type": "display_data"
    },
    {
     "name": "stdout",
     "output_type": "stream",
     "text": [
      "坐标向量的变换矩阵给出了 r, theta, phi 的单位向量在直角坐标系下的表示\n",
      "正交性 G^T  G:\n"
     ]
    },
    {
     "data": {
      "text/latex": [
       "$\\displaystyle \\left[\\begin{matrix}\\sin^{2}{\\left(\\mathbf{{y}_{S}} \\right)} \\sin^{2}{\\left(\\mathbf{{z}_{S}} \\right)} + \\sin^{2}{\\left(\\mathbf{{y}_{S}} \\right)} \\cos^{2}{\\left(\\mathbf{{z}_{S}} \\right)} + \\cos^{2}{\\left(\\mathbf{{y}_{S}} \\right)} & \\sin{\\left(\\mathbf{{y}_{S}} \\right)} \\sin^{2}{\\left(\\mathbf{{z}_{S}} \\right)} \\cos{\\left(\\mathbf{{y}_{S}} \\right)} + \\sin{\\left(\\mathbf{{y}_{S}} \\right)} \\cos{\\left(\\mathbf{{y}_{S}} \\right)} \\cos^{2}{\\left(\\mathbf{{z}_{S}} \\right)} - \\sin{\\left(\\mathbf{{y}_{S}} \\right)} \\cos{\\left(\\mathbf{{y}_{S}} \\right)} & 0\\\\\\sin{\\left(\\mathbf{{y}_{S}} \\right)} \\sin^{2}{\\left(\\mathbf{{z}_{S}} \\right)} \\cos{\\left(\\mathbf{{y}_{S}} \\right)} + \\sin{\\left(\\mathbf{{y}_{S}} \\right)} \\cos{\\left(\\mathbf{{y}_{S}} \\right)} \\cos^{2}{\\left(\\mathbf{{z}_{S}} \\right)} - \\sin{\\left(\\mathbf{{y}_{S}} \\right)} \\cos{\\left(\\mathbf{{y}_{S}} \\right)} & \\sin^{2}{\\left(\\mathbf{{y}_{S}} \\right)} + \\sin^{2}{\\left(\\mathbf{{z}_{S}} \\right)} \\cos^{2}{\\left(\\mathbf{{y}_{S}} \\right)} + \\cos^{2}{\\left(\\mathbf{{y}_{S}} \\right)} \\cos^{2}{\\left(\\mathbf{{z}_{S}} \\right)} & 0\\\\0 & 0 & \\sin^{2}{\\left(\\mathbf{{z}_{S}} \\right)} + \\cos^{2}{\\left(\\mathbf{{z}_{S}} \\right)}\\end{matrix}\\right]$"
      ],
      "text/plain": [
       "Matrix([\n",
       "[                  sin(S.y)**2*sin(S.z)**2 + sin(S.y)**2*cos(S.z)**2 + cos(S.y)**2, sin(S.y)*sin(S.z)**2*cos(S.y) + sin(S.y)*cos(S.y)*cos(S.z)**2 - sin(S.y)*cos(S.y),                         0],\n",
       "[sin(S.y)*sin(S.z)**2*cos(S.y) + sin(S.y)*cos(S.y)*cos(S.z)**2 - sin(S.y)*cos(S.y),                   sin(S.y)**2 + sin(S.z)**2*cos(S.y)**2 + cos(S.y)**2*cos(S.z)**2,                         0],\n",
       "[                                                                                0,                                                                                 0, sin(S.z)**2 + cos(S.z)**2]])"
      ]
     },
     "metadata": {},
     "output_type": "display_data"
    },
    {
     "name": "stdout",
     "output_type": "stream",
     "text": [
      "化简：\n"
     ]
    },
    {
     "data": {
      "text/latex": [
       "$\\displaystyle \\left[\\begin{matrix}1 & 0 & 0\\\\0 & 1 & 0\\\\0 & 0 & 1\\end{matrix}\\right]$"
      ],
      "text/plain": [
       "Matrix([\n",
       "[1, 0, 0],\n",
       "[0, 1, 0],\n",
       "[0, 0, 1]])"
      ]
     },
     "metadata": {},
     "output_type": "display_data"
    },
    {
     "data": {
      "text/html": [
       "<hr style='border: 2px solid red;'>"
      ],
      "text/plain": [
       "<IPython.core.display.HTML object>"
      ]
     },
     "metadata": {},
     "output_type": "display_data"
    }
   ],
   "source": [
    "display(HTML(\"<hr style='border: 2px solid red;'>\"))\n",
    "print('矢量 r 在直角坐标系下的表示：')\n",
    "r_hat = Jacobi_matrix[:, 0]\n",
    "display(r_hat)\n",
    "print('矢量 theta 在直角坐标系下的表示：')\n",
    "theta_hat = Jacobi_matrix[:, 1]/S.x\n",
    "display(theta_hat)\n",
    "print('矢量 phi 在直角坐标系下的表示：')\n",
    "phi_hat = Jacobi_matrix[:, 2]/(S.x*sp.sin(theta))\n",
    "display(phi_hat)\n",
    "\n",
    "# 合成一个3 x 3矩阵\n",
    "G = sp.Matrix([r_hat, theta_hat, phi_hat])\n",
    "G = G.reshape(3, 3).T\n",
    "print('坐标向量的变换矩阵为：')\n",
    "display(G)\n",
    "print('坐标向量的变换矩阵给出了 r, theta, phi 的单位向量在直角坐标系下的表示')\n",
    "\n",
    "print('正交性 G^T  G:')\n",
    "display(G.T * G)\n",
    "print('化简：')\n",
    "display(sp.simplify(G.T * G))\n",
    "\n",
    "display(HTML(\"<hr style='border: 2px solid red;'>\"))"
   ]
  },
  {
   "cell_type": "markdown",
   "id": "3f460414-8519-452e-837d-237e02c891a7",
   "metadata": {},
   "source": [
    "到现在为止，我们仅讨论了球坐标的几何。\n",
    "现在让我们把矢量导数(梯度、散度、旋度、拉普拉斯算子)用 $r,\\theta,\\phi$ 写出。"
   ]
  },
  {
   "cell_type": "markdown",
   "id": "21cff30d-e8d7-4e36-a46d-b16b6e9d6cf9",
   "metadata": {},
   "source": [
    "原则上这是直截了当的，对梯度情况有\n",
    "$$\n",
    "  \\nabla T =\n",
    "  \\left( \\frac{\\partial T}{\\partial x} \\right)  \\hat{\\boldsymbol x} + \\left( \\frac{\\partial T}{\\partial y} \\right)  \\hat{\\boldsymbol y} + \\left( \\frac{\\partial T}{\\partial z} \\right)  \\hat{\\boldsymbol z}\n",
    "$$\n",
    "我们首先利用复合导数求导规则重新表示偏导数，例如\n",
    "$$\n",
    "  \\frac{\\partial T}{\\partial x} = \\frac{\\partial T}{\\partial r} \\frac{\\partial r}{\\partial x} + \\frac{\\partial T}{\\partial \\theta} \\frac{\\partial \\theta}{\\partial x} + \\frac{\\partial T}{\\partial \\phi} \\frac{\\partial \\phi}{\\partial x} \n",
    "$$\n",
    "圆括弧中求导项可由式(1.62)——或者它们的逆变式(习题1.36)求出。\n",
    "然后我们对 $\\partial T/\\partial y,\\partial T/\\partial z$ 同样作变换。\n",
    "最后，我们把 $\\hat{\\boldsymbol x},\\hat{\\boldsymbol y}, \\hat{\\boldsymbol z}$ 用 $\\hat{\\boldsymbol r},\\hat{\\boldsymbol \\theta},\\hat{\\boldsymbol \\phi}$ 代换(习题1.37)。\n"
   ]
  },
  {
   "cell_type": "markdown",
   "id": "a8530235",
   "metadata": {},
   "source": [
    "## $\\nabla T$"
   ]
  },
  {
   "cell_type": "code",
   "execution_count": 10,
   "id": "0a1eeb1c-26e8-4201-bd8a-d1dd0a6ab1ad",
   "metadata": {},
   "outputs": [
    {
     "data": {
      "text/html": [
       "<hr style='border: 2px solid red;'>"
      ],
      "text/plain": [
       "<IPython.core.display.HTML object>"
      ]
     },
     "metadata": {},
     "output_type": "display_data"
    },
    {
     "name": "stdout",
     "output_type": "stream",
     "text": [
      "标量场 T(作为 x,y,z 的函数):\n"
     ]
    },
    {
     "data": {
      "text/latex": [
       "$\\displaystyle T{\\left(\\mathbf{{x}_{N}},\\mathbf{{y}_{N}},\\mathbf{{z}_{N}} \\right)}$"
      ],
      "text/plain": [
       "T(N.x, N.y, N.z)"
      ]
     },
     "metadata": {},
     "output_type": "display_data"
    },
    {
     "name": "stdout",
     "output_type": "stream",
     "text": [
      "梯度 grad(T):\n"
     ]
    },
    {
     "data": {
      "text/latex": [
       "$\\displaystyle \\left(\\frac{\\partial}{\\partial \\mathbf{{x}_{N}}} T{\\left(\\mathbf{{x}_{N}},\\mathbf{{y}_{N}},\\mathbf{{z}_{N}} \\right)}\\right)\\mathbf{\\hat{i}_{N}} + \\left(\\frac{\\partial}{\\partial \\mathbf{{y}_{N}}} T{\\left(\\mathbf{{x}_{N}},\\mathbf{{y}_{N}},\\mathbf{{z}_{N}} \\right)}\\right)\\mathbf{\\hat{j}_{N}} + \\left(\\frac{\\partial}{\\partial \\mathbf{{z}_{N}}} T{\\left(\\mathbf{{x}_{N}},\\mathbf{{y}_{N}},\\mathbf{{z}_{N}} \\right)}\\right)\\mathbf{\\hat{k}_{N}}$"
      ],
      "text/plain": [
       "(Derivative(T(N.x, N.y, N.z), N.x))*N.i + (Derivative(T(N.x, N.y, N.z), N.y))*N.j + (Derivative(T(N.x, N.y, N.z), N.z))*N.k"
      ]
     },
     "metadata": {},
     "output_type": "display_data"
    },
    {
     "name": "stdout",
     "output_type": "stream",
     "text": [
      "矩阵形式：\n"
     ]
    },
    {
     "data": {
      "text/latex": [
       "$\\displaystyle \\left[\\begin{matrix}\\frac{\\partial}{\\partial \\mathbf{{x}_{N}}} T{\\left(\\mathbf{{x}_{N}},\\mathbf{{y}_{N}},\\mathbf{{z}_{N}} \\right)}\\\\\\frac{\\partial}{\\partial \\mathbf{{y}_{N}}} T{\\left(\\mathbf{{x}_{N}},\\mathbf{{y}_{N}},\\mathbf{{z}_{N}} \\right)}\\\\\\frac{\\partial}{\\partial \\mathbf{{z}_{N}}} T{\\left(\\mathbf{{x}_{N}},\\mathbf{{y}_{N}},\\mathbf{{z}_{N}} \\right)}\\end{matrix}\\right]$"
      ],
      "text/plain": [
       "Matrix([\n",
       "[Derivative(T(N.x, N.y, N.z), N.x)],\n",
       "[Derivative(T(N.x, N.y, N.z), N.y)],\n",
       "[Derivative(T(N.x, N.y, N.z), N.z)]])"
      ]
     },
     "metadata": {},
     "output_type": "display_data"
    },
    {
     "data": {
      "text/html": [
       "<hr style='border: 2px solid red;'>"
      ],
      "text/plain": [
       "<IPython.core.display.HTML object>"
      ]
     },
     "metadata": {},
     "output_type": "display_data"
    },
    {
     "name": "stdout",
     "output_type": "stream",
     "text": [
      "现在我们要将其变化为球坐标系下的梯度，包括用对 r, theta, phi 的偏导表示 grad(T)，以及用球坐标系下的基向量 r, theta, phi 表示 x, y, z\n",
      "对 r, theta, phi 的梯度：\n",
      "矩阵形式：\n"
     ]
    },
    {
     "data": {
      "text/latex": [
       "$\\displaystyle \\left[\\begin{matrix}\\frac{\\partial}{\\partial \\mathbf{{x}_{S}}} T{\\left(\\mathbf{{x}_{S}},\\mathbf{{y}_{S}},\\mathbf{{z}_{S}} \\right)}\\\\\\frac{\\partial}{\\partial \\mathbf{{y}_{S}}} T{\\left(\\mathbf{{x}_{S}},\\mathbf{{y}_{S}},\\mathbf{{z}_{S}} \\right)}\\\\\\frac{\\partial}{\\partial \\mathbf{{z}_{S}}} T{\\left(\\mathbf{{x}_{S}},\\mathbf{{y}_{S}},\\mathbf{{z}_{S}} \\right)}\\end{matrix}\\right]$"
      ],
      "text/plain": [
       "Matrix([\n",
       "[Derivative(T(S.x, S.y, S.z), S.x)],\n",
       "[Derivative(T(S.x, S.y, S.z), S.y)],\n",
       "[Derivative(T(S.x, S.y, S.z), S.z)]])"
      ]
     },
     "metadata": {},
     "output_type": "display_data"
    },
    {
     "name": "stdout",
     "output_type": "stream",
     "text": [
      "用对 r, theta, phi 的梯度替换矩阵里的偏导，即乘上雅可比矩阵的转置：\n"
     ]
    },
    {
     "data": {
      "text/latex": [
       "$\\displaystyle \\left[\\begin{matrix}\\sin{\\left(\\mathbf{{y}_{S}} \\right)} \\cos{\\left(\\mathbf{{z}_{S}} \\right)} \\frac{\\partial}{\\partial \\mathbf{{x}_{S}}} T{\\left(\\mathbf{{x}_{S}},\\mathbf{{y}_{S}},\\mathbf{{z}_{S}} \\right)} + \\frac{\\cos{\\left(\\mathbf{{y}_{S}} \\right)} \\cos{\\left(\\mathbf{{z}_{S}} \\right)} \\frac{\\partial}{\\partial \\mathbf{{y}_{S}}} T{\\left(\\mathbf{{x}_{S}},\\mathbf{{y}_{S}},\\mathbf{{z}_{S}} \\right)}}{\\mathbf{{x}_{S}}} - \\frac{\\sin{\\left(\\mathbf{{z}_{S}} \\right)} \\frac{\\partial}{\\partial \\mathbf{{z}_{S}}} T{\\left(\\mathbf{{x}_{S}},\\mathbf{{y}_{S}},\\mathbf{{z}_{S}} \\right)}}{\\mathbf{{x}_{S}} \\sin{\\left(\\mathbf{{y}_{S}} \\right)}}\\\\\\sin{\\left(\\mathbf{{y}_{S}} \\right)} \\sin{\\left(\\mathbf{{z}_{S}} \\right)} \\frac{\\partial}{\\partial \\mathbf{{x}_{S}}} T{\\left(\\mathbf{{x}_{S}},\\mathbf{{y}_{S}},\\mathbf{{z}_{S}} \\right)} + \\frac{\\sin{\\left(\\mathbf{{z}_{S}} \\right)} \\cos{\\left(\\mathbf{{y}_{S}} \\right)} \\frac{\\partial}{\\partial \\mathbf{{y}_{S}}} T{\\left(\\mathbf{{x}_{S}},\\mathbf{{y}_{S}},\\mathbf{{z}_{S}} \\right)}}{\\mathbf{{x}_{S}}} + \\frac{\\cos{\\left(\\mathbf{{z}_{S}} \\right)} \\frac{\\partial}{\\partial \\mathbf{{z}_{S}}} T{\\left(\\mathbf{{x}_{S}},\\mathbf{{y}_{S}},\\mathbf{{z}_{S}} \\right)}}{\\mathbf{{x}_{S}} \\sin{\\left(\\mathbf{{y}_{S}} \\right)}}\\\\\\cos{\\left(\\mathbf{{y}_{S}} \\right)} \\frac{\\partial}{\\partial \\mathbf{{x}_{S}}} T{\\left(\\mathbf{{x}_{S}},\\mathbf{{y}_{S}},\\mathbf{{z}_{S}} \\right)} - \\frac{\\sin{\\left(\\mathbf{{y}_{S}} \\right)} \\frac{\\partial}{\\partial \\mathbf{{y}_{S}}} T{\\left(\\mathbf{{x}_{S}},\\mathbf{{y}_{S}},\\mathbf{{z}_{S}} \\right)}}{\\mathbf{{x}_{S}}}\\end{matrix}\\right]$"
      ],
      "text/plain": [
       "Matrix([\n",
       "[sin(S.y)*cos(S.z)*Derivative(T(S.x, S.y, S.z), S.x) + cos(S.y)*cos(S.z)*Derivative(T(S.x, S.y, S.z), S.y)/S.x - sin(S.z)*Derivative(T(S.x, S.y, S.z), S.z)/(S.x*sin(S.y))],\n",
       "[sin(S.y)*sin(S.z)*Derivative(T(S.x, S.y, S.z), S.x) + sin(S.z)*cos(S.y)*Derivative(T(S.x, S.y, S.z), S.y)/S.x + cos(S.z)*Derivative(T(S.x, S.y, S.z), S.z)/(S.x*sin(S.y))],\n",
       "[                                                                              cos(S.y)*Derivative(T(S.x, S.y, S.z), S.x) - sin(S.y)*Derivative(T(S.x, S.y, S.z), S.y)/S.x]])"
      ]
     },
     "metadata": {},
     "output_type": "display_data"
    },
    {
     "name": "stdout",
     "output_type": "stream",
     "text": [
      "坐标轴转换，即乘上 G 的逆矩阵：\n"
     ]
    },
    {
     "data": {
      "text/latex": [
       "$\\displaystyle \\left[\\begin{matrix}\\left(\\sin^{2}{\\left(\\mathbf{{y}_{S}} \\right)} \\sin^{2}{\\left(\\mathbf{{z}_{S}} \\right)} + \\sin^{2}{\\left(\\mathbf{{y}_{S}} \\right)} \\cos^{2}{\\left(\\mathbf{{z}_{S}} \\right)} + \\cos^{2}{\\left(\\mathbf{{y}_{S}} \\right)}\\right) \\frac{\\partial}{\\partial \\mathbf{{x}_{S}}} T{\\left(\\mathbf{{x}_{S}},\\mathbf{{y}_{S}},\\mathbf{{z}_{S}} \\right)} + \\left(\\frac{\\sin{\\left(\\mathbf{{y}_{S}} \\right)} \\sin^{2}{\\left(\\mathbf{{z}_{S}} \\right)} \\cos{\\left(\\mathbf{{y}_{S}} \\right)}}{\\mathbf{{x}_{S}}} + \\frac{\\sin{\\left(\\mathbf{{y}_{S}} \\right)} \\cos{\\left(\\mathbf{{y}_{S}} \\right)} \\cos^{2}{\\left(\\mathbf{{z}_{S}} \\right)}}{\\mathbf{{x}_{S}}} - \\frac{\\sin{\\left(\\mathbf{{y}_{S}} \\right)} \\cos{\\left(\\mathbf{{y}_{S}} \\right)}}{\\mathbf{{x}_{S}}}\\right) \\frac{\\partial}{\\partial \\mathbf{{y}_{S}}} T{\\left(\\mathbf{{x}_{S}},\\mathbf{{y}_{S}},\\mathbf{{z}_{S}} \\right)}\\\\\\left(\\frac{\\sin^{2}{\\left(\\mathbf{{y}_{S}} \\right)}}{\\mathbf{{x}_{S}}} + \\frac{\\sin^{2}{\\left(\\mathbf{{z}_{S}} \\right)} \\cos^{2}{\\left(\\mathbf{{y}_{S}} \\right)}}{\\mathbf{{x}_{S}}} + \\frac{\\cos^{2}{\\left(\\mathbf{{y}_{S}} \\right)} \\cos^{2}{\\left(\\mathbf{{z}_{S}} \\right)}}{\\mathbf{{x}_{S}}}\\right) \\frac{\\partial}{\\partial \\mathbf{{y}_{S}}} T{\\left(\\mathbf{{x}_{S}},\\mathbf{{y}_{S}},\\mathbf{{z}_{S}} \\right)} + \\left(\\sin{\\left(\\mathbf{{y}_{S}} \\right)} \\sin^{2}{\\left(\\mathbf{{z}_{S}} \\right)} \\cos{\\left(\\mathbf{{y}_{S}} \\right)} + \\sin{\\left(\\mathbf{{y}_{S}} \\right)} \\cos{\\left(\\mathbf{{y}_{S}} \\right)} \\cos^{2}{\\left(\\mathbf{{z}_{S}} \\right)} - \\sin{\\left(\\mathbf{{y}_{S}} \\right)} \\cos{\\left(\\mathbf{{y}_{S}} \\right)}\\right) \\frac{\\partial}{\\partial \\mathbf{{x}_{S}}} T{\\left(\\mathbf{{x}_{S}},\\mathbf{{y}_{S}},\\mathbf{{z}_{S}} \\right)}\\\\\\left(\\frac{\\sin^{2}{\\left(\\mathbf{{z}_{S}} \\right)}}{\\mathbf{{x}_{S}} \\sin{\\left(\\mathbf{{y}_{S}} \\right)}} + \\frac{\\cos^{2}{\\left(\\mathbf{{z}_{S}} \\right)}}{\\mathbf{{x}_{S}} \\sin{\\left(\\mathbf{{y}_{S}} \\right)}}\\right) \\frac{\\partial}{\\partial \\mathbf{{z}_{S}}} T{\\left(\\mathbf{{x}_{S}},\\mathbf{{y}_{S}},\\mathbf{{z}_{S}} \\right)}\\end{matrix}\\right]$"
      ],
      "text/plain": [
       "Matrix([\n",
       "[(sin(S.y)**2*sin(S.z)**2 + sin(S.y)**2*cos(S.z)**2 + cos(S.y)**2)*Derivative(T(S.x, S.y, S.z), S.x) + (sin(S.y)*sin(S.z)**2*cos(S.y)/S.x + sin(S.y)*cos(S.y)*cos(S.z)**2/S.x - sin(S.y)*cos(S.y)/S.x)*Derivative(T(S.x, S.y, S.z), S.y)],\n",
       "[(sin(S.y)**2/S.x + sin(S.z)**2*cos(S.y)**2/S.x + cos(S.y)**2*cos(S.z)**2/S.x)*Derivative(T(S.x, S.y, S.z), S.y) + (sin(S.y)*sin(S.z)**2*cos(S.y) + sin(S.y)*cos(S.y)*cos(S.z)**2 - sin(S.y)*cos(S.y))*Derivative(T(S.x, S.y, S.z), S.x)],\n",
       "[                                                                                                                                            (sin(S.z)**2/(S.x*sin(S.y)) + cos(S.z)**2/(S.x*sin(S.y)))*Derivative(T(S.x, S.y, S.z), S.z)]])"
      ]
     },
     "metadata": {},
     "output_type": "display_data"
    },
    {
     "name": "stdout",
     "output_type": "stream",
     "text": [
      "化简：\n"
     ]
    },
    {
     "data": {
      "text/latex": [
       "$\\displaystyle \\left[\\begin{matrix}\\frac{\\partial}{\\partial \\mathbf{{x}_{S}}} T{\\left(\\mathbf{{x}_{S}},\\mathbf{{y}_{S}},\\mathbf{{z}_{S}} \\right)}\\\\\\frac{\\frac{\\partial}{\\partial \\mathbf{{y}_{S}}} T{\\left(\\mathbf{{x}_{S}},\\mathbf{{y}_{S}},\\mathbf{{z}_{S}} \\right)}}{\\mathbf{{x}_{S}}}\\\\\\frac{\\frac{\\partial}{\\partial \\mathbf{{z}_{S}}} T{\\left(\\mathbf{{x}_{S}},\\mathbf{{y}_{S}},\\mathbf{{z}_{S}} \\right)}}{\\mathbf{{x}_{S}} \\sin{\\left(\\mathbf{{y}_{S}} \\right)}}\\end{matrix}\\right]$"
      ],
      "text/plain": [
       "Matrix([\n",
       "[               Derivative(T(S.x, S.y, S.z), S.x)],\n",
       "[           Derivative(T(S.x, S.y, S.z), S.y)/S.x],\n",
       "[Derivative(T(S.x, S.y, S.z), S.z)/(S.x*sin(S.y))]])"
      ]
     },
     "metadata": {},
     "output_type": "display_data"
    },
    {
     "data": {
      "text/html": [
       "<hr style='border: 2px solid red;'>"
      ],
      "text/plain": [
       "<IPython.core.display.HTML object>"
      ]
     },
     "metadata": {},
     "output_type": "display_data"
    }
   ],
   "source": [
    "import sympy as sp\n",
    "from sympy.vector import CoordSys3D, gradient\n",
    "from sympy import Function\n",
    "from IPython.display import display\n",
    "from IPython.display import HTML\n",
    "\n",
    "display(HTML(\"<hr style='border: 2px solid red;'>\"))\n",
    "\n",
    "# 定义直角坐标系\n",
    "N = CoordSys3D('N')\n",
    "\n",
    "# 定义抽象标量场 T\n",
    "T = Function('T')(N.x, N.y, N.z)\n",
    "print('标量场 T(作为 x,y,z 的函数):')\n",
    "display(T)\n",
    "\n",
    "# 求出梯度 grad(T)\n",
    "grad_T = gradient(T)\n",
    "# 打印梯度\n",
    "print('梯度 grad(T):')\n",
    "display(grad_T)\n",
    "print('矩阵形式：')\n",
    "grad_T_matrix = grad_T.to_matrix(N)\n",
    "display(grad_T_matrix)\n",
    "\n",
    "display(HTML(\"<hr style='border: 2px solid red;'>\"))\n",
    "print('现在我们要将其变化为球坐标系下的梯度，包括用对 r, theta, phi 的偏导表示 grad(T)，以及用球坐标系下的基向量 r, theta, phi 表示 x, y, z')\n",
    "\n",
    "# 现在开始变换坐标系，将直角坐标换为球坐标\n",
    "# 定义球坐标系\n",
    "S = CoordSys3D('S')\n",
    "r, theta, phi = S.base_scalars()\n",
    "\n",
    "# 我们知道要用球坐标系下的梯度表示它\n",
    "T = Function('T')(S.x, S.y, S.z)\n",
    "\n",
    "grad_T_new = gradient(T, S)\n",
    "print('对 r, theta, phi 的梯度：')\n",
    "#display(grad_T_new)\n",
    "grad_T_new_matrix = grad_T_new.to_matrix(S)\n",
    "print('矩阵形式：')\n",
    "display(grad_T_new_matrix)\n",
    "\n",
    "print('用对 r, theta, phi 的梯度替换矩阵里的偏导，即乘上雅可比矩阵的转置：')\n",
    "display(Jacobi_inv.T * grad_T_new_matrix)\n",
    "\n",
    "print('坐标轴转换，即乘上 G 的逆矩阵：')\n",
    "result = G.T * Jacobi_inv.T * grad_T_new_matrix\n",
    "display(result) \n",
    "print('化简：')\n",
    "result = sp.simplify(result)\n",
    "display(result)\n",
    "\n",
    "display(HTML(\"<hr style='border: 2px solid red;'>\"))"
   ]
  },
  {
   "cell_type": "markdown",
   "id": "60e0cc4d",
   "metadata": {},
   "source": [
    "## $\\nabla \\cdot \\boldsymbol v$"
   ]
  },
  {
   "cell_type": "code",
   "execution_count": 30,
   "id": "b5fe3631",
   "metadata": {},
   "outputs": [
    {
     "data": {
      "text/html": [
       "<hr style='border: 2px solid red;'>"
      ],
      "text/plain": [
       "<IPython.core.display.HTML object>"
      ]
     },
     "metadata": {},
     "output_type": "display_data"
    },
    {
     "name": "stdout",
     "output_type": "stream",
     "text": [
      "向量场 A:\n"
     ]
    },
    {
     "data": {
      "text/latex": [
       "$\\displaystyle \\left(A_{x}{\\left(\\mathbf{{x}_{O}},\\mathbf{{y}_{O}},\\mathbf{{z}_{O}} \\right)}\\right)\\mathbf{\\hat{i}_{O}} + \\left(A_{y}{\\left(\\mathbf{{x}_{O}},\\mathbf{{y}_{O}},\\mathbf{{z}_{O}} \\right)}\\right)\\mathbf{\\hat{j}_{O}} + \\left(A_{z}{\\left(\\mathbf{{x}_{O}},\\mathbf{{y}_{O}},\\mathbf{{z}_{O}} \\right)}\\right)\\mathbf{\\hat{k}_{O}}$"
      ],
      "text/plain": [
       "(A_x(O.x, O.y, O.z))*O.i + (A_y(O.x, O.y, O.z))*O.j + (A_z(O.x, O.y, O.z))*O.k"
      ]
     },
     "metadata": {},
     "output_type": "display_data"
    },
    {
     "name": "stdout",
     "output_type": "stream",
     "text": [
      "散度 div(A):\n"
     ]
    },
    {
     "data": {
      "text/latex": [
       "$\\displaystyle \\frac{\\partial}{\\partial \\mathbf{{x}_{O}}} A_{x}{\\left(\\mathbf{{x}_{O}},\\mathbf{{y}_{O}},\\mathbf{{z}_{O}} \\right)} + \\frac{\\partial}{\\partial \\mathbf{{y}_{O}}} A_{y}{\\left(\\mathbf{{x}_{O}},\\mathbf{{y}_{O}},\\mathbf{{z}_{O}} \\right)} + \\frac{\\partial}{\\partial \\mathbf{{z}_{O}}} A_{z}{\\left(\\mathbf{{x}_{O}},\\mathbf{{y}_{O}},\\mathbf{{z}_{O}} \\right)}$"
      ],
      "text/plain": [
       "Derivative(A_x(O.x, O.y, O.z), O.x) + Derivative(A_y(O.x, O.y, O.z), O.y) + Derivative(A_z(O.x, O.y, O.z), O.z)"
      ]
     },
     "metadata": {},
     "output_type": "display_data"
    },
    {
     "data": {
      "text/html": [
       "<hr style='border: 2px solid red;'>"
      ],
      "text/plain": [
       "<IPython.core.display.HTML object>"
      ]
     },
     "metadata": {},
     "output_type": "display_data"
    },
    {
     "name": "stdout",
     "output_type": "stream",
     "text": [
      "我们的目标是，全部替换成球坐标系下的表示，因此 A_x, A_y, A_z 要替换成 A_r, A_theta, A_phi\n",
      "\n",
      "将坐标向量转化成直角坐标系下的表示\n"
     ]
    },
    {
     "data": {
      "text/latex": [
       "$\\displaystyle \\left[\\begin{matrix}A_{\\phi}{\\left(\\mathbf{{x}_{S}},\\mathbf{{y}_{S}},\\mathbf{{z}_{S}} \\right)} \\cos{\\left(\\mathbf{{y}_{S}} \\right)} + A_{r}{\\left(\\mathbf{{x}_{S}},\\mathbf{{y}_{S}},\\mathbf{{z}_{S}} \\right)} \\sin{\\left(\\mathbf{{y}_{S}} \\right)} \\cos{\\left(\\mathbf{{z}_{S}} \\right)} + A_{\\theta}{\\left(\\mathbf{{x}_{S}},\\mathbf{{y}_{S}},\\mathbf{{z}_{S}} \\right)} \\sin{\\left(\\mathbf{{y}_{S}} \\right)} \\sin{\\left(\\mathbf{{z}_{S}} \\right)}\\\\- A_{\\phi}{\\left(\\mathbf{{x}_{S}},\\mathbf{{y}_{S}},\\mathbf{{z}_{S}} \\right)} \\sin{\\left(\\mathbf{{y}_{S}} \\right)} + A_{r}{\\left(\\mathbf{{x}_{S}},\\mathbf{{y}_{S}},\\mathbf{{z}_{S}} \\right)} \\cos{\\left(\\mathbf{{y}_{S}} \\right)} \\cos{\\left(\\mathbf{{z}_{S}} \\right)} + A_{\\theta}{\\left(\\mathbf{{x}_{S}},\\mathbf{{y}_{S}},\\mathbf{{z}_{S}} \\right)} \\sin{\\left(\\mathbf{{z}_{S}} \\right)} \\cos{\\left(\\mathbf{{y}_{S}} \\right)}\\\\- A_{r}{\\left(\\mathbf{{x}_{S}},\\mathbf{{y}_{S}},\\mathbf{{z}_{S}} \\right)} \\sin{\\left(\\mathbf{{z}_{S}} \\right)} + A_{\\theta}{\\left(\\mathbf{{x}_{S}},\\mathbf{{y}_{S}},\\mathbf{{z}_{S}} \\right)} \\cos{\\left(\\mathbf{{z}_{S}} \\right)}\\end{matrix}\\right]$"
      ],
      "text/plain": [
       "Matrix([\n",
       "[ A_phi(S.x, S.y, S.z)*cos(S.y) + A_r(S.x, S.y, S.z)*sin(S.y)*cos(S.z) + A_theta(S.x, S.y, S.z)*sin(S.y)*sin(S.z)],\n",
       "[-A_phi(S.x, S.y, S.z)*sin(S.y) + A_r(S.x, S.y, S.z)*cos(S.y)*cos(S.z) + A_theta(S.x, S.y, S.z)*sin(S.z)*cos(S.y)],\n",
       "[                                                  -A_r(S.x, S.y, S.z)*sin(S.z) + A_theta(S.x, S.y, S.z)*cos(S.z)]])"
      ]
     },
     "metadata": {},
     "output_type": "display_data"
    },
    {
     "name": "stdout",
     "output_type": "stream",
     "text": [
      "我们知道如何用球坐标系下的偏导表示直角坐标系下的偏导\n",
      "▽A_x, ▽A_y, ▽A_z = \n"
     ]
    },
    {
     "data": {
      "text/latex": [
       "$\\displaystyle \\left[\\begin{matrix}\\sin{\\left(\\mathbf{{y}_{S}} \\right)} \\cos{\\left(\\mathbf{{z}_{S}} \\right)} & \\frac{\\cos{\\left(\\mathbf{{y}_{S}} \\right)} \\cos{\\left(\\mathbf{{z}_{S}} \\right)}}{\\mathbf{{x}_{S}}} & - \\frac{\\sin{\\left(\\mathbf{{z}_{S}} \\right)}}{\\mathbf{{x}_{S}} \\sin{\\left(\\mathbf{{y}_{S}} \\right)}}\\\\\\sin{\\left(\\mathbf{{y}_{S}} \\right)} \\sin{\\left(\\mathbf{{z}_{S}} \\right)} & \\frac{\\sin{\\left(\\mathbf{{z}_{S}} \\right)} \\cos{\\left(\\mathbf{{y}_{S}} \\right)}}{\\mathbf{{x}_{S}}} & \\frac{\\cos{\\left(\\mathbf{{z}_{S}} \\right)}}{\\mathbf{{x}_{S}} \\sin{\\left(\\mathbf{{y}_{S}} \\right)}}\\\\\\cos{\\left(\\mathbf{{y}_{S}} \\right)} & - \\frac{\\sin{\\left(\\mathbf{{y}_{S}} \\right)}}{\\mathbf{{x}_{S}}} & 0\\end{matrix}\\right]$"
      ],
      "text/plain": [
       "Matrix([\n",
       "[sin(S.y)*cos(S.z), cos(S.y)*cos(S.z)/S.x, -sin(S.z)/(S.x*sin(S.y))],\n",
       "[sin(S.y)*sin(S.z), sin(S.z)*cos(S.y)/S.x,  cos(S.z)/(S.x*sin(S.y))],\n",
       "[         cos(S.y),         -sin(S.y)/S.x,                        0]])"
      ]
     },
     "metadata": {},
     "output_type": "display_data"
    },
    {
     "name": "stdout",
     "output_type": "stream",
     "text": [
      "乘上\n"
     ]
    },
    {
     "data": {
      "text/latex": [
       "$\\displaystyle \\left[\\begin{matrix}\\frac{\\partial}{\\partial x_0} A_{r}{\\left(\\mathbf{{x}_{S}},\\mathbf{{y}_{S}},\\mathbf{{z}_{S}} \\right)} & \\frac{\\partial}{\\partial \\mathbf{{x}_{S}}} A_{\\theta}{\\left(\\mathbf{{x}_{S}},\\mathbf{{y}_{S}},\\mathbf{{z}_{S}} \\right)} & \\frac{\\partial}{\\partial \\mathbf{{x}_{S}}} A_{\\phi}{\\left(\\mathbf{{x}_{S}},\\mathbf{{y}_{S}},\\mathbf{{z}_{S}} \\right)}\\\\\\frac{\\partial}{\\partial \\mathbf{{y}_{S}}} A_{r}{\\left(\\mathbf{{x}_{S}},\\mathbf{{y}_{S}},\\mathbf{{z}_{S}} \\right)} & \\frac{\\partial}{\\partial \\mathbf{{y}_{S}}} A_{\\theta}{\\left(\\mathbf{{x}_{S}},\\mathbf{{y}_{S}},\\mathbf{{z}_{S}} \\right)} & \\frac{\\partial}{\\partial \\mathbf{{y}_{S}}} A_{\\phi}{\\left(\\mathbf{{x}_{S}},\\mathbf{{y}_{S}},\\mathbf{{z}_{S}} \\right)}\\\\\\frac{\\partial}{\\partial \\mathbf{{z}_{S}}} A_{r}{\\left(\\mathbf{{x}_{S}},\\mathbf{{y}_{S}},\\mathbf{{z}_{S}} \\right)} & \\frac{\\partial}{\\partial \\mathbf{{z}_{S}}} A_{\\theta}{\\left(\\mathbf{{x}_{S}},\\mathbf{{y}_{S}},\\mathbf{{z}_{S}} \\right)} & \\frac{\\partial}{\\partial \\mathbf{{z}_{S}}} A_{\\phi}{\\left(\\mathbf{{x}_{S}},\\mathbf{{y}_{S}},\\mathbf{{z}_{S}} \\right)}\\end{matrix}\\right]$"
      ],
      "text/plain": [
       "Matrix([\n",
       "[Derivative(A_r(S.x, S.y, S.z), S.x), Derivative(A_theta(S.x, S.y, S.z), S.x), Derivative(A_phi(S.x, S.y, S.z), S.x)],\n",
       "[Derivative(A_r(S.x, S.y, S.z), S.y), Derivative(A_theta(S.x, S.y, S.z), S.y), Derivative(A_phi(S.x, S.y, S.z), S.y)],\n",
       "[Derivative(A_r(S.x, S.y, S.z), S.z), Derivative(A_theta(S.x, S.y, S.z), S.z), Derivative(A_phi(S.x, S.y, S.z), S.z)]])"
      ]
     },
     "metadata": {},
     "output_type": "display_data"
    },
    {
     "name": "stdout",
     "output_type": "stream",
     "text": [
      "于是得到，用球坐标的偏导表示直角坐标的偏导：\n"
     ]
    },
    {
     "data": {
      "text/latex": [
       "$\\displaystyle \\left[\\begin{matrix}\\sin{\\left(\\mathbf{{y}_{S}} \\right)} \\cos{\\left(\\mathbf{{z}_{S}} \\right)} \\frac{\\partial}{\\partial x_0} A_{r}{\\left(\\mathbf{{x}_{S}},\\mathbf{{y}_{S}},\\mathbf{{z}_{S}} \\right)} + \\frac{\\cos{\\left(\\mathbf{{y}_{S}} \\right)} \\cos{\\left(\\mathbf{{z}_{S}} \\right)} \\frac{\\partial}{\\partial \\mathbf{{y}_{S}}} A_{r}{\\left(\\mathbf{{x}_{S}},\\mathbf{{y}_{S}},\\mathbf{{z}_{S}} \\right)}}{\\mathbf{{x}_{S}}} - \\frac{\\sin{\\left(\\mathbf{{z}_{S}} \\right)} \\frac{\\partial}{\\partial \\mathbf{{z}_{S}}} A_{r}{\\left(\\mathbf{{x}_{S}},\\mathbf{{y}_{S}},\\mathbf{{z}_{S}} \\right)}}{\\mathbf{{x}_{S}} \\sin{\\left(\\mathbf{{y}_{S}} \\right)}} & \\sin{\\left(\\mathbf{{y}_{S}} \\right)} \\cos{\\left(\\mathbf{{z}_{S}} \\right)} \\frac{\\partial}{\\partial \\mathbf{{x}_{S}}} A_{\\theta}{\\left(\\mathbf{{x}_{S}},\\mathbf{{y}_{S}},\\mathbf{{z}_{S}} \\right)} + \\frac{\\cos{\\left(\\mathbf{{y}_{S}} \\right)} \\cos{\\left(\\mathbf{{z}_{S}} \\right)} \\frac{\\partial}{\\partial \\mathbf{{y}_{S}}} A_{\\theta}{\\left(\\mathbf{{x}_{S}},\\mathbf{{y}_{S}},\\mathbf{{z}_{S}} \\right)}}{\\mathbf{{x}_{S}}} - \\frac{\\sin{\\left(\\mathbf{{z}_{S}} \\right)} \\frac{\\partial}{\\partial \\mathbf{{z}_{S}}} A_{\\theta}{\\left(\\mathbf{{x}_{S}},\\mathbf{{y}_{S}},\\mathbf{{z}_{S}} \\right)}}{\\mathbf{{x}_{S}} \\sin{\\left(\\mathbf{{y}_{S}} \\right)}} & \\sin{\\left(\\mathbf{{y}_{S}} \\right)} \\cos{\\left(\\mathbf{{z}_{S}} \\right)} \\frac{\\partial}{\\partial \\mathbf{{x}_{S}}} A_{\\phi}{\\left(\\mathbf{{x}_{S}},\\mathbf{{y}_{S}},\\mathbf{{z}_{S}} \\right)} + \\frac{\\cos{\\left(\\mathbf{{y}_{S}} \\right)} \\cos{\\left(\\mathbf{{z}_{S}} \\right)} \\frac{\\partial}{\\partial \\mathbf{{y}_{S}}} A_{\\phi}{\\left(\\mathbf{{x}_{S}},\\mathbf{{y}_{S}},\\mathbf{{z}_{S}} \\right)}}{\\mathbf{{x}_{S}}} - \\frac{\\sin{\\left(\\mathbf{{z}_{S}} \\right)} \\frac{\\partial}{\\partial \\mathbf{{z}_{S}}} A_{\\phi}{\\left(\\mathbf{{x}_{S}},\\mathbf{{y}_{S}},\\mathbf{{z}_{S}} \\right)}}{\\mathbf{{x}_{S}} \\sin{\\left(\\mathbf{{y}_{S}} \\right)}}\\\\\\sin{\\left(\\mathbf{{y}_{S}} \\right)} \\sin{\\left(\\mathbf{{z}_{S}} \\right)} \\frac{\\partial}{\\partial x_0} A_{r}{\\left(\\mathbf{{x}_{S}},\\mathbf{{y}_{S}},\\mathbf{{z}_{S}} \\right)} + \\frac{\\sin{\\left(\\mathbf{{z}_{S}} \\right)} \\cos{\\left(\\mathbf{{y}_{S}} \\right)} \\frac{\\partial}{\\partial \\mathbf{{y}_{S}}} A_{r}{\\left(\\mathbf{{x}_{S}},\\mathbf{{y}_{S}},\\mathbf{{z}_{S}} \\right)}}{\\mathbf{{x}_{S}}} + \\frac{\\cos{\\left(\\mathbf{{z}_{S}} \\right)} \\frac{\\partial}{\\partial \\mathbf{{z}_{S}}} A_{r}{\\left(\\mathbf{{x}_{S}},\\mathbf{{y}_{S}},\\mathbf{{z}_{S}} \\right)}}{\\mathbf{{x}_{S}} \\sin{\\left(\\mathbf{{y}_{S}} \\right)}} & \\sin{\\left(\\mathbf{{y}_{S}} \\right)} \\sin{\\left(\\mathbf{{z}_{S}} \\right)} \\frac{\\partial}{\\partial \\mathbf{{x}_{S}}} A_{\\theta}{\\left(\\mathbf{{x}_{S}},\\mathbf{{y}_{S}},\\mathbf{{z}_{S}} \\right)} + \\frac{\\sin{\\left(\\mathbf{{z}_{S}} \\right)} \\cos{\\left(\\mathbf{{y}_{S}} \\right)} \\frac{\\partial}{\\partial \\mathbf{{y}_{S}}} A_{\\theta}{\\left(\\mathbf{{x}_{S}},\\mathbf{{y}_{S}},\\mathbf{{z}_{S}} \\right)}}{\\mathbf{{x}_{S}}} + \\frac{\\cos{\\left(\\mathbf{{z}_{S}} \\right)} \\frac{\\partial}{\\partial \\mathbf{{z}_{S}}} A_{\\theta}{\\left(\\mathbf{{x}_{S}},\\mathbf{{y}_{S}},\\mathbf{{z}_{S}} \\right)}}{\\mathbf{{x}_{S}} \\sin{\\left(\\mathbf{{y}_{S}} \\right)}} & \\sin{\\left(\\mathbf{{y}_{S}} \\right)} \\sin{\\left(\\mathbf{{z}_{S}} \\right)} \\frac{\\partial}{\\partial \\mathbf{{x}_{S}}} A_{\\phi}{\\left(\\mathbf{{x}_{S}},\\mathbf{{y}_{S}},\\mathbf{{z}_{S}} \\right)} + \\frac{\\sin{\\left(\\mathbf{{z}_{S}} \\right)} \\cos{\\left(\\mathbf{{y}_{S}} \\right)} \\frac{\\partial}{\\partial \\mathbf{{y}_{S}}} A_{\\phi}{\\left(\\mathbf{{x}_{S}},\\mathbf{{y}_{S}},\\mathbf{{z}_{S}} \\right)}}{\\mathbf{{x}_{S}}} + \\frac{\\cos{\\left(\\mathbf{{z}_{S}} \\right)} \\frac{\\partial}{\\partial \\mathbf{{z}_{S}}} A_{\\phi}{\\left(\\mathbf{{x}_{S}},\\mathbf{{y}_{S}},\\mathbf{{z}_{S}} \\right)}}{\\mathbf{{x}_{S}} \\sin{\\left(\\mathbf{{y}_{S}} \\right)}}\\\\\\cos{\\left(\\mathbf{{y}_{S}} \\right)} \\frac{\\partial}{\\partial x_0} A_{r}{\\left(\\mathbf{{x}_{S}},\\mathbf{{y}_{S}},\\mathbf{{z}_{S}} \\right)} - \\frac{\\sin{\\left(\\mathbf{{y}_{S}} \\right)} \\frac{\\partial}{\\partial \\mathbf{{y}_{S}}} A_{r}{\\left(\\mathbf{{x}_{S}},\\mathbf{{y}_{S}},\\mathbf{{z}_{S}} \\right)}}{\\mathbf{{x}_{S}}} & \\cos{\\left(\\mathbf{{y}_{S}} \\right)} \\frac{\\partial}{\\partial \\mathbf{{x}_{S}}} A_{\\theta}{\\left(\\mathbf{{x}_{S}},\\mathbf{{y}_{S}},\\mathbf{{z}_{S}} \\right)} - \\frac{\\sin{\\left(\\mathbf{{y}_{S}} \\right)} \\frac{\\partial}{\\partial \\mathbf{{y}_{S}}} A_{\\theta}{\\left(\\mathbf{{x}_{S}},\\mathbf{{y}_{S}},\\mathbf{{z}_{S}} \\right)}}{\\mathbf{{x}_{S}}} & \\cos{\\left(\\mathbf{{y}_{S}} \\right)} \\frac{\\partial}{\\partial \\mathbf{{x}_{S}}} A_{\\phi}{\\left(\\mathbf{{x}_{S}},\\mathbf{{y}_{S}},\\mathbf{{z}_{S}} \\right)} - \\frac{\\sin{\\left(\\mathbf{{y}_{S}} \\right)} \\frac{\\partial}{\\partial \\mathbf{{y}_{S}}} A_{\\phi}{\\left(\\mathbf{{x}_{S}},\\mathbf{{y}_{S}},\\mathbf{{z}_{S}} \\right)}}{\\mathbf{{x}_{S}}}\\end{matrix}\\right]$"
      ],
      "text/plain": [
       "Matrix([\n",
       "[sin(S.y)*cos(S.z)*Derivative(A_r(S.x, S.y, S.z), S.x) + cos(S.y)*cos(S.z)*Derivative(A_r(S.x, S.y, S.z), S.y)/S.x - sin(S.z)*Derivative(A_r(S.x, S.y, S.z), S.z)/(S.x*sin(S.y)), sin(S.y)*cos(S.z)*Derivative(A_theta(S.x, S.y, S.z), S.x) + cos(S.y)*cos(S.z)*Derivative(A_theta(S.x, S.y, S.z), S.y)/S.x - sin(S.z)*Derivative(A_theta(S.x, S.y, S.z), S.z)/(S.x*sin(S.y)), sin(S.y)*cos(S.z)*Derivative(A_phi(S.x, S.y, S.z), S.x) + cos(S.y)*cos(S.z)*Derivative(A_phi(S.x, S.y, S.z), S.y)/S.x - sin(S.z)*Derivative(A_phi(S.x, S.y, S.z), S.z)/(S.x*sin(S.y))],\n",
       "[sin(S.y)*sin(S.z)*Derivative(A_r(S.x, S.y, S.z), S.x) + sin(S.z)*cos(S.y)*Derivative(A_r(S.x, S.y, S.z), S.y)/S.x + cos(S.z)*Derivative(A_r(S.x, S.y, S.z), S.z)/(S.x*sin(S.y)), sin(S.y)*sin(S.z)*Derivative(A_theta(S.x, S.y, S.z), S.x) + sin(S.z)*cos(S.y)*Derivative(A_theta(S.x, S.y, S.z), S.y)/S.x + cos(S.z)*Derivative(A_theta(S.x, S.y, S.z), S.z)/(S.x*sin(S.y)), sin(S.y)*sin(S.z)*Derivative(A_phi(S.x, S.y, S.z), S.x) + sin(S.z)*cos(S.y)*Derivative(A_phi(S.x, S.y, S.z), S.y)/S.x + cos(S.z)*Derivative(A_phi(S.x, S.y, S.z), S.z)/(S.x*sin(S.y))],\n",
       "[                                                                                cos(S.y)*Derivative(A_r(S.x, S.y, S.z), S.x) - sin(S.y)*Derivative(A_r(S.x, S.y, S.z), S.y)/S.x,                                                                                     cos(S.y)*Derivative(A_theta(S.x, S.y, S.z), S.x) - sin(S.y)*Derivative(A_theta(S.x, S.y, S.z), S.y)/S.x,                                                                                   cos(S.y)*Derivative(A_phi(S.x, S.y, S.z), S.x) - sin(S.y)*Derivative(A_phi(S.x, S.y, S.z), S.y)/S.x]])"
      ]
     },
     "metadata": {},
     "output_type": "display_data"
    },
    {
     "name": "stdout",
     "output_type": "stream",
     "text": [
      "散度：\n"
     ]
    },
    {
     "data": {
      "text/latex": [
       "$\\displaystyle \\left(\\cos{\\left(\\mathbf{{y}_{S}} \\right)} \\frac{\\partial}{\\partial x_0} A_{r}{\\left(\\mathbf{{x}_{S}},\\mathbf{{y}_{S}},\\mathbf{{z}_{S}} \\right)} - \\frac{\\sin{\\left(\\mathbf{{y}_{S}} \\right)} \\frac{\\partial}{\\partial \\mathbf{{y}_{S}}} A_{r}{\\left(\\mathbf{{x}_{S}},\\mathbf{{y}_{S}},\\mathbf{{z}_{S}} \\right)}}{\\mathbf{{x}_{S}}}\\right) \\cos{\\left(\\mathbf{{y}_{S}} \\right)} - \\left(\\cos{\\left(\\mathbf{{y}_{S}} \\right)} \\frac{\\partial}{\\partial \\mathbf{{x}_{S}}} A_{\\theta}{\\left(\\mathbf{{x}_{S}},\\mathbf{{y}_{S}},\\mathbf{{z}_{S}} \\right)} - \\frac{\\sin{\\left(\\mathbf{{y}_{S}} \\right)} \\frac{\\partial}{\\partial \\mathbf{{y}_{S}}} A_{\\theta}{\\left(\\mathbf{{x}_{S}},\\mathbf{{y}_{S}},\\mathbf{{z}_{S}} \\right)}}{\\mathbf{{x}_{S}}}\\right) \\sin{\\left(\\mathbf{{y}_{S}} \\right)} + \\left(\\sin{\\left(\\mathbf{{y}_{S}} \\right)} \\sin{\\left(\\mathbf{{z}_{S}} \\right)} \\frac{\\partial}{\\partial \\mathbf{{x}_{S}}} A_{\\phi}{\\left(\\mathbf{{x}_{S}},\\mathbf{{y}_{S}},\\mathbf{{z}_{S}} \\right)} + \\frac{\\sin{\\left(\\mathbf{{z}_{S}} \\right)} \\cos{\\left(\\mathbf{{y}_{S}} \\right)} \\frac{\\partial}{\\partial \\mathbf{{y}_{S}}} A_{\\phi}{\\left(\\mathbf{{x}_{S}},\\mathbf{{y}_{S}},\\mathbf{{z}_{S}} \\right)}}{\\mathbf{{x}_{S}}} + \\frac{\\cos{\\left(\\mathbf{{z}_{S}} \\right)} \\frac{\\partial}{\\partial \\mathbf{{z}_{S}}} A_{\\phi}{\\left(\\mathbf{{x}_{S}},\\mathbf{{y}_{S}},\\mathbf{{z}_{S}} \\right)}}{\\mathbf{{x}_{S}} \\sin{\\left(\\mathbf{{y}_{S}} \\right)}}\\right) \\cos{\\left(\\mathbf{{z}_{S}} \\right)} + \\left(\\sin{\\left(\\mathbf{{y}_{S}} \\right)} \\sin{\\left(\\mathbf{{z}_{S}} \\right)} \\frac{\\partial}{\\partial x_0} A_{r}{\\left(\\mathbf{{x}_{S}},\\mathbf{{y}_{S}},\\mathbf{{z}_{S}} \\right)} + \\frac{\\sin{\\left(\\mathbf{{z}_{S}} \\right)} \\cos{\\left(\\mathbf{{y}_{S}} \\right)} \\frac{\\partial}{\\partial \\mathbf{{y}_{S}}} A_{r}{\\left(\\mathbf{{x}_{S}},\\mathbf{{y}_{S}},\\mathbf{{z}_{S}} \\right)}}{\\mathbf{{x}_{S}}} + \\frac{\\cos{\\left(\\mathbf{{z}_{S}} \\right)} \\frac{\\partial}{\\partial \\mathbf{{z}_{S}}} A_{r}{\\left(\\mathbf{{x}_{S}},\\mathbf{{y}_{S}},\\mathbf{{z}_{S}} \\right)}}{\\mathbf{{x}_{S}} \\sin{\\left(\\mathbf{{y}_{S}} \\right)}}\\right) \\sin{\\left(\\mathbf{{y}_{S}} \\right)} \\sin{\\left(\\mathbf{{z}_{S}} \\right)} + \\left(\\sin{\\left(\\mathbf{{y}_{S}} \\right)} \\sin{\\left(\\mathbf{{z}_{S}} \\right)} \\frac{\\partial}{\\partial \\mathbf{{x}_{S}}} A_{\\theta}{\\left(\\mathbf{{x}_{S}},\\mathbf{{y}_{S}},\\mathbf{{z}_{S}} \\right)} + \\frac{\\sin{\\left(\\mathbf{{z}_{S}} \\right)} \\cos{\\left(\\mathbf{{y}_{S}} \\right)} \\frac{\\partial}{\\partial \\mathbf{{y}_{S}}} A_{\\theta}{\\left(\\mathbf{{x}_{S}},\\mathbf{{y}_{S}},\\mathbf{{z}_{S}} \\right)}}{\\mathbf{{x}_{S}}} + \\frac{\\cos{\\left(\\mathbf{{z}_{S}} \\right)} \\frac{\\partial}{\\partial \\mathbf{{z}_{S}}} A_{\\theta}{\\left(\\mathbf{{x}_{S}},\\mathbf{{y}_{S}},\\mathbf{{z}_{S}} \\right)}}{\\mathbf{{x}_{S}} \\sin{\\left(\\mathbf{{y}_{S}} \\right)}}\\right) \\sin{\\left(\\mathbf{{z}_{S}} \\right)} \\cos{\\left(\\mathbf{{y}_{S}} \\right)} - \\left(\\sin{\\left(\\mathbf{{y}_{S}} \\right)} \\cos{\\left(\\mathbf{{z}_{S}} \\right)} \\frac{\\partial}{\\partial \\mathbf{{x}_{S}}} A_{\\phi}{\\left(\\mathbf{{x}_{S}},\\mathbf{{y}_{S}},\\mathbf{{z}_{S}} \\right)} + \\frac{\\cos{\\left(\\mathbf{{y}_{S}} \\right)} \\cos{\\left(\\mathbf{{z}_{S}} \\right)} \\frac{\\partial}{\\partial \\mathbf{{y}_{S}}} A_{\\phi}{\\left(\\mathbf{{x}_{S}},\\mathbf{{y}_{S}},\\mathbf{{z}_{S}} \\right)}}{\\mathbf{{x}_{S}}} - \\frac{\\sin{\\left(\\mathbf{{z}_{S}} \\right)} \\frac{\\partial}{\\partial \\mathbf{{z}_{S}}} A_{\\phi}{\\left(\\mathbf{{x}_{S}},\\mathbf{{y}_{S}},\\mathbf{{z}_{S}} \\right)}}{\\mathbf{{x}_{S}} \\sin{\\left(\\mathbf{{y}_{S}} \\right)}}\\right) \\sin{\\left(\\mathbf{{z}_{S}} \\right)} + \\left(\\sin{\\left(\\mathbf{{y}_{S}} \\right)} \\cos{\\left(\\mathbf{{z}_{S}} \\right)} \\frac{\\partial}{\\partial x_0} A_{r}{\\left(\\mathbf{{x}_{S}},\\mathbf{{y}_{S}},\\mathbf{{z}_{S}} \\right)} + \\frac{\\cos{\\left(\\mathbf{{y}_{S}} \\right)} \\cos{\\left(\\mathbf{{z}_{S}} \\right)} \\frac{\\partial}{\\partial \\mathbf{{y}_{S}}} A_{r}{\\left(\\mathbf{{x}_{S}},\\mathbf{{y}_{S}},\\mathbf{{z}_{S}} \\right)}}{\\mathbf{{x}_{S}}} - \\frac{\\sin{\\left(\\mathbf{{z}_{S}} \\right)} \\frac{\\partial}{\\partial \\mathbf{{z}_{S}}} A_{r}{\\left(\\mathbf{{x}_{S}},\\mathbf{{y}_{S}},\\mathbf{{z}_{S}} \\right)}}{\\mathbf{{x}_{S}} \\sin{\\left(\\mathbf{{y}_{S}} \\right)}}\\right) \\sin{\\left(\\mathbf{{y}_{S}} \\right)} \\cos{\\left(\\mathbf{{z}_{S}} \\right)} + \\left(\\sin{\\left(\\mathbf{{y}_{S}} \\right)} \\cos{\\left(\\mathbf{{z}_{S}} \\right)} \\frac{\\partial}{\\partial \\mathbf{{x}_{S}}} A_{\\theta}{\\left(\\mathbf{{x}_{S}},\\mathbf{{y}_{S}},\\mathbf{{z}_{S}} \\right)} + \\frac{\\cos{\\left(\\mathbf{{y}_{S}} \\right)} \\cos{\\left(\\mathbf{{z}_{S}} \\right)} \\frac{\\partial}{\\partial \\mathbf{{y}_{S}}} A_{\\theta}{\\left(\\mathbf{{x}_{S}},\\mathbf{{y}_{S}},\\mathbf{{z}_{S}} \\right)}}{\\mathbf{{x}_{S}}} - \\frac{\\sin{\\left(\\mathbf{{z}_{S}} \\right)} \\frac{\\partial}{\\partial \\mathbf{{z}_{S}}} A_{\\theta}{\\left(\\mathbf{{x}_{S}},\\mathbf{{y}_{S}},\\mathbf{{z}_{S}} \\right)}}{\\mathbf{{x}_{S}} \\sin{\\left(\\mathbf{{y}_{S}} \\right)}}\\right) \\cos{\\left(\\mathbf{{y}_{S}} \\right)} \\cos{\\left(\\mathbf{{z}_{S}} \\right)}$"
      ],
      "text/plain": [
       "(cos(S.y)*Derivative(A_r(S.x, S.y, S.z), S.x) - sin(S.y)*Derivative(A_r(S.x, S.y, S.z), S.y)/S.x)*cos(S.y) - (cos(S.y)*Derivative(A_theta(S.x, S.y, S.z), S.x) - sin(S.y)*Derivative(A_theta(S.x, S.y, S.z), S.y)/S.x)*sin(S.y) + (sin(S.y)*sin(S.z)*Derivative(A_phi(S.x, S.y, S.z), S.x) + sin(S.z)*cos(S.y)*Derivative(A_phi(S.x, S.y, S.z), S.y)/S.x + cos(S.z)*Derivative(A_phi(S.x, S.y, S.z), S.z)/(S.x*sin(S.y)))*cos(S.z) + (sin(S.y)*sin(S.z)*Derivative(A_r(S.x, S.y, S.z), S.x) + sin(S.z)*cos(S.y)*Derivative(A_r(S.x, S.y, S.z), S.y)/S.x + cos(S.z)*Derivative(A_r(S.x, S.y, S.z), S.z)/(S.x*sin(S.y)))*sin(S.y)*sin(S.z) + (sin(S.y)*sin(S.z)*Derivative(A_theta(S.x, S.y, S.z), S.x) + sin(S.z)*cos(S.y)*Derivative(A_theta(S.x, S.y, S.z), S.y)/S.x + cos(S.z)*Derivative(A_theta(S.x, S.y, S.z), S.z)/(S.x*sin(S.y)))*sin(S.z)*cos(S.y) - (sin(S.y)*cos(S.z)*Derivative(A_phi(S.x, S.y, S.z), S.x) + cos(S.y)*cos(S.z)*Derivative(A_phi(S.x, S.y, S.z), S.y)/S.x - sin(S.z)*Derivative(A_phi(S.x, S.y, S.z), S.z)/(S.x*sin(S.y)))*sin(S.z) + (sin(S.y)*cos(S.z)*Derivative(A_r(S.x, S.y, S.z), S.x) + cos(S.y)*cos(S.z)*Derivative(A_r(S.x, S.y, S.z), S.y)/S.x - sin(S.z)*Derivative(A_r(S.x, S.y, S.z), S.z)/(S.x*sin(S.y)))*sin(S.y)*cos(S.z) + (sin(S.y)*cos(S.z)*Derivative(A_theta(S.x, S.y, S.z), S.x) + cos(S.y)*cos(S.z)*Derivative(A_theta(S.x, S.y, S.z), S.y)/S.x - sin(S.z)*Derivative(A_theta(S.x, S.y, S.z), S.z)/(S.x*sin(S.y)))*cos(S.y)*cos(S.z)"
      ]
     },
     "metadata": {},
     "output_type": "display_data"
    },
    {
     "name": "stdout",
     "output_type": "stream",
     "text": [
      "化简：\n"
     ]
    },
    {
     "data": {
      "text/latex": [
       "$\\displaystyle \\sin^{2}{\\left(\\mathbf{{y}_{S}} \\right)} \\sin^{2}{\\left(\\mathbf{{z}_{S}} \\right)} \\frac{\\partial}{\\partial \\mathbf{{x}_{S}}} A_{r}{\\left(\\mathbf{{x}_{S}},\\mathbf{{y}_{S}},\\mathbf{{z}_{S}} \\right)} + \\sin^{2}{\\left(\\mathbf{{y}_{S}} \\right)} \\cos^{2}{\\left(\\mathbf{{z}_{S}} \\right)} \\frac{\\partial}{\\partial \\mathbf{{x}_{S}}} A_{r}{\\left(\\mathbf{{x}_{S}},\\mathbf{{y}_{S}},\\mathbf{{z}_{S}} \\right)} + \\sin{\\left(\\mathbf{{y}_{S}} \\right)} \\sin^{2}{\\left(\\mathbf{{z}_{S}} \\right)} \\cos{\\left(\\mathbf{{y}_{S}} \\right)} \\frac{\\partial}{\\partial \\mathbf{{x}_{S}}} A_{\\theta}{\\left(\\mathbf{{x}_{S}},\\mathbf{{y}_{S}},\\mathbf{{z}_{S}} \\right)} + \\sin{\\left(\\mathbf{{y}_{S}} \\right)} \\cos{\\left(\\mathbf{{y}_{S}} \\right)} \\cos^{2}{\\left(\\mathbf{{z}_{S}} \\right)} \\frac{\\partial}{\\partial \\mathbf{{x}_{S}}} A_{\\theta}{\\left(\\mathbf{{x}_{S}},\\mathbf{{y}_{S}},\\mathbf{{z}_{S}} \\right)} - \\sin{\\left(\\mathbf{{y}_{S}} \\right)} \\cos{\\left(\\mathbf{{y}_{S}} \\right)} \\frac{\\partial}{\\partial \\mathbf{{x}_{S}}} A_{\\theta}{\\left(\\mathbf{{x}_{S}},\\mathbf{{y}_{S}},\\mathbf{{z}_{S}} \\right)} + \\cos^{2}{\\left(\\mathbf{{y}_{S}} \\right)} \\frac{\\partial}{\\partial \\mathbf{{x}_{S}}} A_{r}{\\left(\\mathbf{{x}_{S}},\\mathbf{{y}_{S}},\\mathbf{{z}_{S}} \\right)} + \\frac{\\sin^{2}{\\left(\\mathbf{{y}_{S}} \\right)} \\frac{\\partial}{\\partial \\mathbf{{y}_{S}}} A_{\\theta}{\\left(\\mathbf{{x}_{S}},\\mathbf{{y}_{S}},\\mathbf{{z}_{S}} \\right)}}{\\mathbf{{x}_{S}}} + \\frac{\\sin{\\left(\\mathbf{{y}_{S}} \\right)} \\sin^{2}{\\left(\\mathbf{{z}_{S}} \\right)} \\cos{\\left(\\mathbf{{y}_{S}} \\right)} \\frac{\\partial}{\\partial \\mathbf{{y}_{S}}} A_{r}{\\left(\\mathbf{{x}_{S}},\\mathbf{{y}_{S}},\\mathbf{{z}_{S}} \\right)}}{\\mathbf{{x}_{S}}} + \\frac{\\sin{\\left(\\mathbf{{y}_{S}} \\right)} \\cos{\\left(\\mathbf{{y}_{S}} \\right)} \\cos^{2}{\\left(\\mathbf{{z}_{S}} \\right)} \\frac{\\partial}{\\partial \\mathbf{{y}_{S}}} A_{r}{\\left(\\mathbf{{x}_{S}},\\mathbf{{y}_{S}},\\mathbf{{z}_{S}} \\right)}}{\\mathbf{{x}_{S}}} - \\frac{\\sin{\\left(\\mathbf{{y}_{S}} \\right)} \\cos{\\left(\\mathbf{{y}_{S}} \\right)} \\frac{\\partial}{\\partial \\mathbf{{y}_{S}}} A_{r}{\\left(\\mathbf{{x}_{S}},\\mathbf{{y}_{S}},\\mathbf{{z}_{S}} \\right)}}{\\mathbf{{x}_{S}}} + \\frac{\\sin^{2}{\\left(\\mathbf{{z}_{S}} \\right)} \\cos^{2}{\\left(\\mathbf{{y}_{S}} \\right)} \\frac{\\partial}{\\partial \\mathbf{{y}_{S}}} A_{\\theta}{\\left(\\mathbf{{x}_{S}},\\mathbf{{y}_{S}},\\mathbf{{z}_{S}} \\right)}}{\\mathbf{{x}_{S}}} + \\frac{\\cos^{2}{\\left(\\mathbf{{y}_{S}} \\right)} \\cos^{2}{\\left(\\mathbf{{z}_{S}} \\right)} \\frac{\\partial}{\\partial \\mathbf{{y}_{S}}} A_{\\theta}{\\left(\\mathbf{{x}_{S}},\\mathbf{{y}_{S}},\\mathbf{{z}_{S}} \\right)}}{\\mathbf{{x}_{S}}} + \\frac{\\sin^{2}{\\left(\\mathbf{{z}_{S}} \\right)} \\frac{\\partial}{\\partial \\mathbf{{z}_{S}}} A_{\\phi}{\\left(\\mathbf{{x}_{S}},\\mathbf{{y}_{S}},\\mathbf{{z}_{S}} \\right)}}{\\mathbf{{x}_{S}} \\sin{\\left(\\mathbf{{y}_{S}} \\right)}} + \\frac{\\cos^{2}{\\left(\\mathbf{{z}_{S}} \\right)} \\frac{\\partial}{\\partial \\mathbf{{z}_{S}}} A_{\\phi}{\\left(\\mathbf{{x}_{S}},\\mathbf{{y}_{S}},\\mathbf{{z}_{S}} \\right)}}{\\mathbf{{x}_{S}} \\sin{\\left(\\mathbf{{y}_{S}} \\right)}}$"
      ],
      "text/plain": [
       "sin(S.y)**2*sin(S.z)**2*Derivative(A_r(S.x, S.y, S.z), S.x) + sin(S.y)**2*cos(S.z)**2*Derivative(A_r(S.x, S.y, S.z), S.x) + sin(S.y)*sin(S.z)**2*cos(S.y)*Derivative(A_theta(S.x, S.y, S.z), S.x) + sin(S.y)*cos(S.y)*cos(S.z)**2*Derivative(A_theta(S.x, S.y, S.z), S.x) - sin(S.y)*cos(S.y)*Derivative(A_theta(S.x, S.y, S.z), S.x) + cos(S.y)**2*Derivative(A_r(S.x, S.y, S.z), S.x) + sin(S.y)**2*Derivative(A_theta(S.x, S.y, S.z), S.y)/S.x + sin(S.y)*sin(S.z)**2*cos(S.y)*Derivative(A_r(S.x, S.y, S.z), S.y)/S.x + sin(S.y)*cos(S.y)*cos(S.z)**2*Derivative(A_r(S.x, S.y, S.z), S.y)/S.x - sin(S.y)*cos(S.y)*Derivative(A_r(S.x, S.y, S.z), S.y)/S.x + sin(S.z)**2*cos(S.y)**2*Derivative(A_theta(S.x, S.y, S.z), S.y)/S.x + cos(S.y)**2*cos(S.z)**2*Derivative(A_theta(S.x, S.y, S.z), S.y)/S.x + sin(S.z)**2*Derivative(A_phi(S.x, S.y, S.z), S.z)/(S.x*sin(S.y)) + cos(S.z)**2*Derivative(A_phi(S.x, S.y, S.z), S.z)/(S.x*sin(S.y))"
      ]
     },
     "metadata": {},
     "output_type": "display_data"
    },
    {
     "data": {
      "text/html": [
       "<hr style='border: 2px solid red;'>"
      ],
      "text/plain": [
       "<IPython.core.display.HTML object>"
      ]
     },
     "metadata": {},
     "output_type": "display_data"
    }
   ],
   "source": [
    "import sympy as sp\n",
    "from sympy.vector import CoordSys3D, divergence\n",
    "from sympy import Function\n",
    "from IPython.display import display\n",
    "from IPython.display import HTML\n",
    "\n",
    "display(HTML(\"<hr style='border: 2px solid red;'>\"))\n",
    "\n",
    "# 定义直角坐标系\n",
    "N = CoordSys3D('O')\n",
    "\n",
    "# 定义抽象向量场 A\n",
    "A_x = Function('A_x')(N.x, N.y, N.z)\n",
    "A_y = Function('A_y')(N.x, N.y, N.z)\n",
    "A_z = Function('A_z')(N.x, N.y, N.z)\n",
    "A = A_x * N.i + A_y * N.j + A_z * N.k\n",
    "print('向量场 A:')\n",
    "display(A)\n",
    "\n",
    "# 求出散度 div(A)\n",
    "div_A = divergence(A)\n",
    "# 打印散度\n",
    "print('散度 div(A):')\n",
    "display(div_A)\n",
    "\n",
    "display(HTML(\"<hr style='border: 2px solid red;'>\"))\n",
    "# 现在开始变换坐标系，将直角坐标换为球坐标\n",
    "print('我们的目标是，全部替换成球坐标系下的表示，因此 A_x, A_y, A_z 要替换成 A_r, A_theta, A_phi')\n",
    "\n",
    "# 定义球坐标系\n",
    "S = CoordSys3D('S')\n",
    "r, theta, phi = S.base_scalars()\n",
    "\n",
    "# 我们知道要用球坐标系下的梯度表示它\n",
    "A_r = Function('A_r')(S.x, S.y, S.z)\n",
    "A_theta = Function('A_theta')(S.x, S.y, S.z)\n",
    "A_phi = Function('A_phi')(S.x, S.y, S.z)\n",
    "# 定义球坐标系下的向量场 A\n",
    "A = A_r * S.i + A_theta * S.j + A_phi * S.k\n",
    "#print('向量场 A:')\n",
    "#display(A)\n",
    "\n",
    "print('\\n将坐标向量转化成直角坐标系下的表示')\n",
    "A_new_marix = G.T * A.to_matrix(S)\n",
    "display(A_new_marix)\n",
    "\n",
    "print('我们知道如何用球坐标系下的偏导表示直角坐标系下的偏导')\n",
    "# 用球坐标系下的偏导表示直角坐标系下的偏导\n",
    "print('▽A_x, ▽A_y, ▽A_z = ')\n",
    "display(Jacobi_inv.T)\n",
    "print('乘上')\n",
    "grad_A_new = sp.Matrix([gradient(A_r, S).to_matrix(S), gradient(A_theta, S).to_matrix(S), gradient(A_phi, S).to_matrix(S)]).reshape(3, 3).T\n",
    "display(grad_A_new)\n",
    "print('于是得到，用球坐标的偏导表示直角坐标的偏导：')\n",
    "grad_A = Jacobi_inv.T * grad_A_new\n",
    "display(grad_A)\n",
    "\n",
    "# 取出我们所需要的散度\n",
    "grad_A = grad_A * G.T\n",
    "div_A_new = grad_A[0, 0] + grad_A[1, 1] + grad_A[2, 2]\n",
    "print('散度：')\n",
    "display(div_A_new)\n",
    "print('化简：')\n",
    "div_A_new = sp.simplify(div_A_new)\n",
    "display(div_A_new)\n",
    "\n",
    "display(HTML(\"<hr style='border: 2px solid red;'>\"))"
   ]
  },
  {
   "cell_type": "code",
   "execution_count": null,
   "id": "c6cdb1d6",
   "metadata": {},
   "outputs": [],
   "source": []
  },
  {
   "cell_type": "markdown",
   "id": "84589a9b",
   "metadata": {},
   "source": [
    "# $\\nabla \\times \\boldsymbol{v}$ "
   ]
  },
  {
   "cell_type": "code",
   "execution_count": 31,
   "id": "353c34ed",
   "metadata": {},
   "outputs": [
    {
     "data": {
      "text/html": [
       "<hr style='border: 2px solid red;'>"
      ],
      "text/plain": [
       "<IPython.core.display.HTML object>"
      ]
     },
     "metadata": {},
     "output_type": "display_data"
    },
    {
     "name": "stdout",
     "output_type": "stream",
     "text": [
      "向量场 A:\n"
     ]
    },
    {
     "data": {
      "text/latex": [
       "$\\displaystyle \\left(A_{x}{\\left(\\mathbf{{x}_{O}},\\mathbf{{y}_{O}},\\mathbf{{z}_{O}} \\right)}\\right)\\mathbf{\\hat{i}_{O}} + \\left(A_{y}{\\left(\\mathbf{{x}_{O}},\\mathbf{{y}_{O}},\\mathbf{{z}_{O}} \\right)}\\right)\\mathbf{\\hat{j}_{O}} + \\left(A_{z}{\\left(\\mathbf{{x}_{O}},\\mathbf{{y}_{O}},\\mathbf{{z}_{O}} \\right)}\\right)\\mathbf{\\hat{k}_{O}}$"
      ],
      "text/plain": [
       "(A_x(O.x, O.y, O.z))*O.i + (A_y(O.x, O.y, O.z))*O.j + (A_z(O.x, O.y, O.z))*O.k"
      ]
     },
     "metadata": {},
     "output_type": "display_data"
    },
    {
     "name": "stdout",
     "output_type": "stream",
     "text": [
      "旋度 curl(A):\n"
     ]
    },
    {
     "data": {
      "text/latex": [
       "$\\displaystyle \\left(- \\frac{\\partial}{\\partial \\mathbf{{z}_{O}}} A_{y}{\\left(\\mathbf{{x}_{O}},\\mathbf{{y}_{O}},\\mathbf{{z}_{O}} \\right)} + \\frac{\\partial}{\\partial \\mathbf{{y}_{O}}} A_{z}{\\left(\\mathbf{{x}_{O}},\\mathbf{{y}_{O}},\\mathbf{{z}_{O}} \\right)}\\right)\\mathbf{\\hat{i}_{O}} + \\left(\\frac{\\partial}{\\partial \\mathbf{{z}_{O}}} A_{x}{\\left(\\mathbf{{x}_{O}},\\mathbf{{y}_{O}},\\mathbf{{z}_{O}} \\right)} - \\frac{\\partial}{\\partial \\mathbf{{x}_{O}}} A_{z}{\\left(\\mathbf{{x}_{O}},\\mathbf{{y}_{O}},\\mathbf{{z}_{O}} \\right)}\\right)\\mathbf{\\hat{j}_{O}} + \\left(- \\frac{\\partial}{\\partial \\mathbf{{y}_{O}}} A_{x}{\\left(\\mathbf{{x}_{O}},\\mathbf{{y}_{O}},\\mathbf{{z}_{O}} \\right)} + \\frac{\\partial}{\\partial \\mathbf{{x}_{O}}} A_{y}{\\left(\\mathbf{{x}_{O}},\\mathbf{{y}_{O}},\\mathbf{{z}_{O}} \\right)}\\right)\\mathbf{\\hat{k}_{O}}$"
      ],
      "text/plain": [
       "(-Derivative(A_y(O.x, O.y, O.z), O.z) + Derivative(A_z(O.x, O.y, O.z), O.y))*O.i + (Derivative(A_x(O.x, O.y, O.z), O.z) - Derivative(A_z(O.x, O.y, O.z), O.x))*O.j + (-Derivative(A_x(O.x, O.y, O.z), O.y) + Derivative(A_y(O.x, O.y, O.z), O.x))*O.k"
      ]
     },
     "metadata": {},
     "output_type": "display_data"
    },
    {
     "data": {
      "text/html": [
       "<hr style='border: 2px solid red;'>"
      ],
      "text/plain": [
       "<IPython.core.display.HTML object>"
      ]
     },
     "metadata": {},
     "output_type": "display_data"
    },
    {
     "name": "stdout",
     "output_type": "stream",
     "text": [
      "我们的目标是，全部替换成球坐标系下的表示，因此 A_x, A_y, A_z 要替换成 A_r, A_theta, A_phi\n",
      "\n",
      "将坐标向量转化成直角坐标系下的表示\n"
     ]
    },
    {
     "data": {
      "text/latex": [
       "$\\displaystyle \\left[\\begin{matrix}A_{\\phi}{\\left(\\mathbf{{x}_{S}},\\mathbf{{y}_{S}},\\mathbf{{z}_{S}} \\right)} \\cos{\\left(\\mathbf{{y}_{S}} \\right)} + A_{r}{\\left(\\mathbf{{x}_{S}},\\mathbf{{y}_{S}},\\mathbf{{z}_{S}} \\right)} \\sin{\\left(\\mathbf{{y}_{S}} \\right)} \\cos{\\left(\\mathbf{{z}_{S}} \\right)} + A_{\\theta}{\\left(\\mathbf{{x}_{S}},\\mathbf{{y}_{S}},\\mathbf{{z}_{S}} \\right)} \\sin{\\left(\\mathbf{{y}_{S}} \\right)} \\sin{\\left(\\mathbf{{z}_{S}} \\right)}\\\\- A_{\\phi}{\\left(\\mathbf{{x}_{S}},\\mathbf{{y}_{S}},\\mathbf{{z}_{S}} \\right)} \\sin{\\left(\\mathbf{{y}_{S}} \\right)} + A_{r}{\\left(\\mathbf{{x}_{S}},\\mathbf{{y}_{S}},\\mathbf{{z}_{S}} \\right)} \\cos{\\left(\\mathbf{{y}_{S}} \\right)} \\cos{\\left(\\mathbf{{z}_{S}} \\right)} + A_{\\theta}{\\left(\\mathbf{{x}_{S}},\\mathbf{{y}_{S}},\\mathbf{{z}_{S}} \\right)} \\sin{\\left(\\mathbf{{z}_{S}} \\right)} \\cos{\\left(\\mathbf{{y}_{S}} \\right)}\\\\- A_{r}{\\left(\\mathbf{{x}_{S}},\\mathbf{{y}_{S}},\\mathbf{{z}_{S}} \\right)} \\sin{\\left(\\mathbf{{z}_{S}} \\right)} + A_{\\theta}{\\left(\\mathbf{{x}_{S}},\\mathbf{{y}_{S}},\\mathbf{{z}_{S}} \\right)} \\cos{\\left(\\mathbf{{z}_{S}} \\right)}\\end{matrix}\\right]$"
      ],
      "text/plain": [
       "Matrix([\n",
       "[ A_phi(S.x, S.y, S.z)*cos(S.y) + A_r(S.x, S.y, S.z)*sin(S.y)*cos(S.z) + A_theta(S.x, S.y, S.z)*sin(S.y)*sin(S.z)],\n",
       "[-A_phi(S.x, S.y, S.z)*sin(S.y) + A_r(S.x, S.y, S.z)*cos(S.y)*cos(S.z) + A_theta(S.x, S.y, S.z)*sin(S.z)*cos(S.y)],\n",
       "[                                                  -A_r(S.x, S.y, S.z)*sin(S.z) + A_theta(S.x, S.y, S.z)*cos(S.z)]])"
      ]
     },
     "metadata": {},
     "output_type": "display_data"
    },
    {
     "name": "stdout",
     "output_type": "stream",
     "text": [
      "我们知道如何用球坐标系下的偏导表示直角坐标系下的偏导\n",
      "▽A_x, ▽A_y, ▽A_z = \n"
     ]
    },
    {
     "data": {
      "text/latex": [
       "$\\displaystyle \\left[\\begin{matrix}\\sin{\\left(\\mathbf{{y}_{S}} \\right)} \\cos{\\left(\\mathbf{{z}_{S}} \\right)} & \\frac{\\cos{\\left(\\mathbf{{y}_{S}} \\right)} \\cos{\\left(\\mathbf{{z}_{S}} \\right)}}{\\mathbf{{x}_{S}}} & - \\frac{\\sin{\\left(\\mathbf{{z}_{S}} \\right)}}{\\mathbf{{x}_{S}} \\sin{\\left(\\mathbf{{y}_{S}} \\right)}}\\\\\\sin{\\left(\\mathbf{{y}_{S}} \\right)} \\sin{\\left(\\mathbf{{z}_{S}} \\right)} & \\frac{\\sin{\\left(\\mathbf{{z}_{S}} \\right)} \\cos{\\left(\\mathbf{{y}_{S}} \\right)}}{\\mathbf{{x}_{S}}} & \\frac{\\cos{\\left(\\mathbf{{z}_{S}} \\right)}}{\\mathbf{{x}_{S}} \\sin{\\left(\\mathbf{{y}_{S}} \\right)}}\\\\\\cos{\\left(\\mathbf{{y}_{S}} \\right)} & - \\frac{\\sin{\\left(\\mathbf{{y}_{S}} \\right)}}{\\mathbf{{x}_{S}}} & 0\\end{matrix}\\right]$"
      ],
      "text/plain": [
       "Matrix([\n",
       "[sin(S.y)*cos(S.z), cos(S.y)*cos(S.z)/S.x, -sin(S.z)/(S.x*sin(S.y))],\n",
       "[sin(S.y)*sin(S.z), sin(S.z)*cos(S.y)/S.x,  cos(S.z)/(S.x*sin(S.y))],\n",
       "[         cos(S.y),         -sin(S.y)/S.x,                        0]])"
      ]
     },
     "metadata": {},
     "output_type": "display_data"
    },
    {
     "name": "stdout",
     "output_type": "stream",
     "text": [
      "乘上\n"
     ]
    },
    {
     "data": {
      "text/latex": [
       "$\\displaystyle \\left[\\begin{matrix}\\frac{\\partial}{\\partial \\mathbf{{x}_{S}}} A_{r}{\\left(\\mathbf{{x}_{S}},\\mathbf{{y}_{S}},\\mathbf{{z}_{S}} \\right)} & \\frac{\\partial}{\\partial \\mathbf{{x}_{S}}} A_{\\theta}{\\left(\\mathbf{{x}_{S}},\\mathbf{{y}_{S}},\\mathbf{{z}_{S}} \\right)} & \\frac{\\partial}{\\partial \\mathbf{{x}_{S}}} A_{\\phi}{\\left(\\mathbf{{x}_{S}},\\mathbf{{y}_{S}},\\mathbf{{z}_{S}} \\right)}\\\\\\frac{\\partial}{\\partial \\mathbf{{y}_{S}}} A_{r}{\\left(\\mathbf{{x}_{S}},\\mathbf{{y}_{S}},\\mathbf{{z}_{S}} \\right)} & \\frac{\\partial}{\\partial \\mathbf{{y}_{S}}} A_{\\theta}{\\left(\\mathbf{{x}_{S}},\\mathbf{{y}_{S}},\\mathbf{{z}_{S}} \\right)} & \\frac{\\partial}{\\partial \\mathbf{{y}_{S}}} A_{\\phi}{\\left(\\mathbf{{x}_{S}},\\mathbf{{y}_{S}},\\mathbf{{z}_{S}} \\right)}\\\\\\frac{\\partial}{\\partial \\mathbf{{z}_{S}}} A_{r}{\\left(\\mathbf{{x}_{S}},\\mathbf{{y}_{S}},\\mathbf{{z}_{S}} \\right)} & \\frac{\\partial}{\\partial \\mathbf{{z}_{S}}} A_{\\theta}{\\left(\\mathbf{{x}_{S}},\\mathbf{{y}_{S}},\\mathbf{{z}_{S}} \\right)} & \\frac{\\partial}{\\partial \\mathbf{{z}_{S}}} A_{\\phi}{\\left(\\mathbf{{x}_{S}},\\mathbf{{y}_{S}},\\mathbf{{z}_{S}} \\right)}\\end{matrix}\\right]$"
      ],
      "text/plain": [
       "Matrix([\n",
       "[Derivative(A_r(S.x, S.y, S.z), S.x), Derivative(A_theta(S.x, S.y, S.z), S.x), Derivative(A_phi(S.x, S.y, S.z), S.x)],\n",
       "[Derivative(A_r(S.x, S.y, S.z), S.y), Derivative(A_theta(S.x, S.y, S.z), S.y), Derivative(A_phi(S.x, S.y, S.z), S.y)],\n",
       "[Derivative(A_r(S.x, S.y, S.z), S.z), Derivative(A_theta(S.x, S.y, S.z), S.z), Derivative(A_phi(S.x, S.y, S.z), S.z)]])"
      ]
     },
     "metadata": {},
     "output_type": "display_data"
    },
    {
     "name": "stdout",
     "output_type": "stream",
     "text": [
      "于是得到，用球坐标的偏导表示直角坐标的偏导：\n"
     ]
    },
    {
     "data": {
      "text/latex": [
       "$\\displaystyle \\left[\\begin{matrix}\\sin{\\left(\\mathbf{{y}_{S}} \\right)} \\cos{\\left(\\mathbf{{z}_{S}} \\right)} \\frac{\\partial}{\\partial \\mathbf{{x}_{S}}} A_{r}{\\left(\\mathbf{{x}_{S}},\\mathbf{{y}_{S}},\\mathbf{{z}_{S}} \\right)} + \\frac{\\cos{\\left(\\mathbf{{y}_{S}} \\right)} \\cos{\\left(\\mathbf{{z}_{S}} \\right)} \\frac{\\partial}{\\partial \\mathbf{{y}_{S}}} A_{r}{\\left(\\mathbf{{x}_{S}},\\mathbf{{y}_{S}},\\mathbf{{z}_{S}} \\right)}}{\\mathbf{{x}_{S}}} - \\frac{\\sin{\\left(\\mathbf{{z}_{S}} \\right)} \\frac{\\partial}{\\partial \\mathbf{{z}_{S}}} A_{r}{\\left(\\mathbf{{x}_{S}},\\mathbf{{y}_{S}},\\mathbf{{z}_{S}} \\right)}}{\\mathbf{{x}_{S}} \\sin{\\left(\\mathbf{{y}_{S}} \\right)}} & \\sin{\\left(\\mathbf{{y}_{S}} \\right)} \\cos{\\left(\\mathbf{{z}_{S}} \\right)} \\frac{\\partial}{\\partial \\mathbf{{x}_{S}}} A_{\\theta}{\\left(\\mathbf{{x}_{S}},\\mathbf{{y}_{S}},\\mathbf{{z}_{S}} \\right)} + \\frac{\\cos{\\left(\\mathbf{{y}_{S}} \\right)} \\cos{\\left(\\mathbf{{z}_{S}} \\right)} \\frac{\\partial}{\\partial \\mathbf{{y}_{S}}} A_{\\theta}{\\left(\\mathbf{{x}_{S}},\\mathbf{{y}_{S}},\\mathbf{{z}_{S}} \\right)}}{\\mathbf{{x}_{S}}} - \\frac{\\sin{\\left(\\mathbf{{z}_{S}} \\right)} \\frac{\\partial}{\\partial \\mathbf{{z}_{S}}} A_{\\theta}{\\left(\\mathbf{{x}_{S}},\\mathbf{{y}_{S}},\\mathbf{{z}_{S}} \\right)}}{\\mathbf{{x}_{S}} \\sin{\\left(\\mathbf{{y}_{S}} \\right)}} & \\sin{\\left(\\mathbf{{y}_{S}} \\right)} \\cos{\\left(\\mathbf{{z}_{S}} \\right)} \\frac{\\partial}{\\partial \\mathbf{{x}_{S}}} A_{\\phi}{\\left(\\mathbf{{x}_{S}},\\mathbf{{y}_{S}},\\mathbf{{z}_{S}} \\right)} + \\frac{\\cos{\\left(\\mathbf{{y}_{S}} \\right)} \\cos{\\left(\\mathbf{{z}_{S}} \\right)} \\frac{\\partial}{\\partial \\mathbf{{y}_{S}}} A_{\\phi}{\\left(\\mathbf{{x}_{S}},\\mathbf{{y}_{S}},\\mathbf{{z}_{S}} \\right)}}{\\mathbf{{x}_{S}}} - \\frac{\\sin{\\left(\\mathbf{{z}_{S}} \\right)} \\frac{\\partial}{\\partial \\mathbf{{z}_{S}}} A_{\\phi}{\\left(\\mathbf{{x}_{S}},\\mathbf{{y}_{S}},\\mathbf{{z}_{S}} \\right)}}{\\mathbf{{x}_{S}} \\sin{\\left(\\mathbf{{y}_{S}} \\right)}}\\\\\\sin{\\left(\\mathbf{{y}_{S}} \\right)} \\sin{\\left(\\mathbf{{z}_{S}} \\right)} \\frac{\\partial}{\\partial \\mathbf{{x}_{S}}} A_{r}{\\left(\\mathbf{{x}_{S}},\\mathbf{{y}_{S}},\\mathbf{{z}_{S}} \\right)} + \\frac{\\sin{\\left(\\mathbf{{z}_{S}} \\right)} \\cos{\\left(\\mathbf{{y}_{S}} \\right)} \\frac{\\partial}{\\partial \\mathbf{{y}_{S}}} A_{r}{\\left(\\mathbf{{x}_{S}},\\mathbf{{y}_{S}},\\mathbf{{z}_{S}} \\right)}}{\\mathbf{{x}_{S}}} + \\frac{\\cos{\\left(\\mathbf{{z}_{S}} \\right)} \\frac{\\partial}{\\partial \\mathbf{{z}_{S}}} A_{r}{\\left(\\mathbf{{x}_{S}},\\mathbf{{y}_{S}},\\mathbf{{z}_{S}} \\right)}}{\\mathbf{{x}_{S}} \\sin{\\left(\\mathbf{{y}_{S}} \\right)}} & \\sin{\\left(\\mathbf{{y}_{S}} \\right)} \\sin{\\left(\\mathbf{{z}_{S}} \\right)} \\frac{\\partial}{\\partial \\mathbf{{x}_{S}}} A_{\\theta}{\\left(\\mathbf{{x}_{S}},\\mathbf{{y}_{S}},\\mathbf{{z}_{S}} \\right)} + \\frac{\\sin{\\left(\\mathbf{{z}_{S}} \\right)} \\cos{\\left(\\mathbf{{y}_{S}} \\right)} \\frac{\\partial}{\\partial \\mathbf{{y}_{S}}} A_{\\theta}{\\left(\\mathbf{{x}_{S}},\\mathbf{{y}_{S}},\\mathbf{{z}_{S}} \\right)}}{\\mathbf{{x}_{S}}} + \\frac{\\cos{\\left(\\mathbf{{z}_{S}} \\right)} \\frac{\\partial}{\\partial \\mathbf{{z}_{S}}} A_{\\theta}{\\left(\\mathbf{{x}_{S}},\\mathbf{{y}_{S}},\\mathbf{{z}_{S}} \\right)}}{\\mathbf{{x}_{S}} \\sin{\\left(\\mathbf{{y}_{S}} \\right)}} & \\sin{\\left(\\mathbf{{y}_{S}} \\right)} \\sin{\\left(\\mathbf{{z}_{S}} \\right)} \\frac{\\partial}{\\partial \\mathbf{{x}_{S}}} A_{\\phi}{\\left(\\mathbf{{x}_{S}},\\mathbf{{y}_{S}},\\mathbf{{z}_{S}} \\right)} + \\frac{\\sin{\\left(\\mathbf{{z}_{S}} \\right)} \\cos{\\left(\\mathbf{{y}_{S}} \\right)} \\frac{\\partial}{\\partial \\mathbf{{y}_{S}}} A_{\\phi}{\\left(\\mathbf{{x}_{S}},\\mathbf{{y}_{S}},\\mathbf{{z}_{S}} \\right)}}{\\mathbf{{x}_{S}}} + \\frac{\\cos{\\left(\\mathbf{{z}_{S}} \\right)} \\frac{\\partial}{\\partial \\mathbf{{z}_{S}}} A_{\\phi}{\\left(\\mathbf{{x}_{S}},\\mathbf{{y}_{S}},\\mathbf{{z}_{S}} \\right)}}{\\mathbf{{x}_{S}} \\sin{\\left(\\mathbf{{y}_{S}} \\right)}}\\\\\\cos{\\left(\\mathbf{{y}_{S}} \\right)} \\frac{\\partial}{\\partial \\mathbf{{x}_{S}}} A_{r}{\\left(\\mathbf{{x}_{S}},\\mathbf{{y}_{S}},\\mathbf{{z}_{S}} \\right)} - \\frac{\\sin{\\left(\\mathbf{{y}_{S}} \\right)} \\frac{\\partial}{\\partial \\mathbf{{y}_{S}}} A_{r}{\\left(\\mathbf{{x}_{S}},\\mathbf{{y}_{S}},\\mathbf{{z}_{S}} \\right)}}{\\mathbf{{x}_{S}}} & \\cos{\\left(\\mathbf{{y}_{S}} \\right)} \\frac{\\partial}{\\partial \\mathbf{{x}_{S}}} A_{\\theta}{\\left(\\mathbf{{x}_{S}},\\mathbf{{y}_{S}},\\mathbf{{z}_{S}} \\right)} - \\frac{\\sin{\\left(\\mathbf{{y}_{S}} \\right)} \\frac{\\partial}{\\partial \\mathbf{{y}_{S}}} A_{\\theta}{\\left(\\mathbf{{x}_{S}},\\mathbf{{y}_{S}},\\mathbf{{z}_{S}} \\right)}}{\\mathbf{{x}_{S}}} & \\cos{\\left(\\mathbf{{y}_{S}} \\right)} \\frac{\\partial}{\\partial \\mathbf{{x}_{S}}} A_{\\phi}{\\left(\\mathbf{{x}_{S}},\\mathbf{{y}_{S}},\\mathbf{{z}_{S}} \\right)} - \\frac{\\sin{\\left(\\mathbf{{y}_{S}} \\right)} \\frac{\\partial}{\\partial \\mathbf{{y}_{S}}} A_{\\phi}{\\left(\\mathbf{{x}_{S}},\\mathbf{{y}_{S}},\\mathbf{{z}_{S}} \\right)}}{\\mathbf{{x}_{S}}}\\end{matrix}\\right]$"
      ],
      "text/plain": [
       "Matrix([\n",
       "[sin(S.y)*cos(S.z)*Derivative(A_r(S.x, S.y, S.z), S.x) + cos(S.y)*cos(S.z)*Derivative(A_r(S.x, S.y, S.z), S.y)/S.x - sin(S.z)*Derivative(A_r(S.x, S.y, S.z), S.z)/(S.x*sin(S.y)), sin(S.y)*cos(S.z)*Derivative(A_theta(S.x, S.y, S.z), S.x) + cos(S.y)*cos(S.z)*Derivative(A_theta(S.x, S.y, S.z), S.y)/S.x - sin(S.z)*Derivative(A_theta(S.x, S.y, S.z), S.z)/(S.x*sin(S.y)), sin(S.y)*cos(S.z)*Derivative(A_phi(S.x, S.y, S.z), S.x) + cos(S.y)*cos(S.z)*Derivative(A_phi(S.x, S.y, S.z), S.y)/S.x - sin(S.z)*Derivative(A_phi(S.x, S.y, S.z), S.z)/(S.x*sin(S.y))],\n",
       "[sin(S.y)*sin(S.z)*Derivative(A_r(S.x, S.y, S.z), S.x) + sin(S.z)*cos(S.y)*Derivative(A_r(S.x, S.y, S.z), S.y)/S.x + cos(S.z)*Derivative(A_r(S.x, S.y, S.z), S.z)/(S.x*sin(S.y)), sin(S.y)*sin(S.z)*Derivative(A_theta(S.x, S.y, S.z), S.x) + sin(S.z)*cos(S.y)*Derivative(A_theta(S.x, S.y, S.z), S.y)/S.x + cos(S.z)*Derivative(A_theta(S.x, S.y, S.z), S.z)/(S.x*sin(S.y)), sin(S.y)*sin(S.z)*Derivative(A_phi(S.x, S.y, S.z), S.x) + sin(S.z)*cos(S.y)*Derivative(A_phi(S.x, S.y, S.z), S.y)/S.x + cos(S.z)*Derivative(A_phi(S.x, S.y, S.z), S.z)/(S.x*sin(S.y))],\n",
       "[                                                                                cos(S.y)*Derivative(A_r(S.x, S.y, S.z), S.x) - sin(S.y)*Derivative(A_r(S.x, S.y, S.z), S.y)/S.x,                                                                                     cos(S.y)*Derivative(A_theta(S.x, S.y, S.z), S.x) - sin(S.y)*Derivative(A_theta(S.x, S.y, S.z), S.y)/S.x,                                                                                   cos(S.y)*Derivative(A_phi(S.x, S.y, S.z), S.x) - sin(S.y)*Derivative(A_phi(S.x, S.y, S.z), S.y)/S.x]])"
      ]
     },
     "metadata": {},
     "output_type": "display_data"
    },
    {
     "name": "stdout",
     "output_type": "stream",
     "text": [
      "我们最终需要的偏导矩阵是:\n"
     ]
    },
    {
     "data": {
      "text/latex": [
       "$\\displaystyle \\left[\\begin{matrix}- \\left(\\sin{\\left(\\mathbf{{y}_{S}} \\right)} \\cos{\\left(\\mathbf{{z}_{S}} \\right)} \\frac{\\partial}{\\partial \\mathbf{{x}_{S}}} A_{\\phi}{\\left(\\mathbf{{x}_{S}},\\mathbf{{y}_{S}},\\mathbf{{z}_{S}} \\right)} + \\frac{\\cos{\\left(\\mathbf{{y}_{S}} \\right)} \\cos{\\left(\\mathbf{{z}_{S}} \\right)} \\frac{\\partial}{\\partial \\mathbf{{y}_{S}}} A_{\\phi}{\\left(\\mathbf{{x}_{S}},\\mathbf{{y}_{S}},\\mathbf{{z}_{S}} \\right)}}{\\mathbf{{x}_{S}}} - \\frac{\\sin{\\left(\\mathbf{{z}_{S}} \\right)} \\frac{\\partial}{\\partial \\mathbf{{z}_{S}}} A_{\\phi}{\\left(\\mathbf{{x}_{S}},\\mathbf{{y}_{S}},\\mathbf{{z}_{S}} \\right)}}{\\mathbf{{x}_{S}} \\sin{\\left(\\mathbf{{y}_{S}} \\right)}}\\right) \\sin{\\left(\\mathbf{{z}_{S}} \\right)} + \\left(\\sin{\\left(\\mathbf{{y}_{S}} \\right)} \\cos{\\left(\\mathbf{{z}_{S}} \\right)} \\frac{\\partial}{\\partial \\mathbf{{x}_{S}}} A_{r}{\\left(\\mathbf{{x}_{S}},\\mathbf{{y}_{S}},\\mathbf{{z}_{S}} \\right)} + \\frac{\\cos{\\left(\\mathbf{{y}_{S}} \\right)} \\cos{\\left(\\mathbf{{z}_{S}} \\right)} \\frac{\\partial}{\\partial \\mathbf{{y}_{S}}} A_{r}{\\left(\\mathbf{{x}_{S}},\\mathbf{{y}_{S}},\\mathbf{{z}_{S}} \\right)}}{\\mathbf{{x}_{S}}} - \\frac{\\sin{\\left(\\mathbf{{z}_{S}} \\right)} \\frac{\\partial}{\\partial \\mathbf{{z}_{S}}} A_{r}{\\left(\\mathbf{{x}_{S}},\\mathbf{{y}_{S}},\\mathbf{{z}_{S}} \\right)}}{\\mathbf{{x}_{S}} \\sin{\\left(\\mathbf{{y}_{S}} \\right)}}\\right) \\sin{\\left(\\mathbf{{y}_{S}} \\right)} \\cos{\\left(\\mathbf{{z}_{S}} \\right)} + \\left(\\sin{\\left(\\mathbf{{y}_{S}} \\right)} \\cos{\\left(\\mathbf{{z}_{S}} \\right)} \\frac{\\partial}{\\partial \\mathbf{{x}_{S}}} A_{\\theta}{\\left(\\mathbf{{x}_{S}},\\mathbf{{y}_{S}},\\mathbf{{z}_{S}} \\right)} + \\frac{\\cos{\\left(\\mathbf{{y}_{S}} \\right)} \\cos{\\left(\\mathbf{{z}_{S}} \\right)} \\frac{\\partial}{\\partial \\mathbf{{y}_{S}}} A_{\\theta}{\\left(\\mathbf{{x}_{S}},\\mathbf{{y}_{S}},\\mathbf{{z}_{S}} \\right)}}{\\mathbf{{x}_{S}}} - \\frac{\\sin{\\left(\\mathbf{{z}_{S}} \\right)} \\frac{\\partial}{\\partial \\mathbf{{z}_{S}}} A_{\\theta}{\\left(\\mathbf{{x}_{S}},\\mathbf{{y}_{S}},\\mathbf{{z}_{S}} \\right)}}{\\mathbf{{x}_{S}} \\sin{\\left(\\mathbf{{y}_{S}} \\right)}}\\right) \\cos{\\left(\\mathbf{{y}_{S}} \\right)} \\cos{\\left(\\mathbf{{z}_{S}} \\right)} & \\left(\\sin{\\left(\\mathbf{{y}_{S}} \\right)} \\cos{\\left(\\mathbf{{z}_{S}} \\right)} \\frac{\\partial}{\\partial \\mathbf{{x}_{S}}} A_{\\phi}{\\left(\\mathbf{{x}_{S}},\\mathbf{{y}_{S}},\\mathbf{{z}_{S}} \\right)} + \\frac{\\cos{\\left(\\mathbf{{y}_{S}} \\right)} \\cos{\\left(\\mathbf{{z}_{S}} \\right)} \\frac{\\partial}{\\partial \\mathbf{{y}_{S}}} A_{\\phi}{\\left(\\mathbf{{x}_{S}},\\mathbf{{y}_{S}},\\mathbf{{z}_{S}} \\right)}}{\\mathbf{{x}_{S}}} - \\frac{\\sin{\\left(\\mathbf{{z}_{S}} \\right)} \\frac{\\partial}{\\partial \\mathbf{{z}_{S}}} A_{\\phi}{\\left(\\mathbf{{x}_{S}},\\mathbf{{y}_{S}},\\mathbf{{z}_{S}} \\right)}}{\\mathbf{{x}_{S}} \\sin{\\left(\\mathbf{{y}_{S}} \\right)}}\\right) \\cos{\\left(\\mathbf{{z}_{S}} \\right)} + \\left(\\sin{\\left(\\mathbf{{y}_{S}} \\right)} \\cos{\\left(\\mathbf{{z}_{S}} \\right)} \\frac{\\partial}{\\partial \\mathbf{{x}_{S}}} A_{r}{\\left(\\mathbf{{x}_{S}},\\mathbf{{y}_{S}},\\mathbf{{z}_{S}} \\right)} + \\frac{\\cos{\\left(\\mathbf{{y}_{S}} \\right)} \\cos{\\left(\\mathbf{{z}_{S}} \\right)} \\frac{\\partial}{\\partial \\mathbf{{y}_{S}}} A_{r}{\\left(\\mathbf{{x}_{S}},\\mathbf{{y}_{S}},\\mathbf{{z}_{S}} \\right)}}{\\mathbf{{x}_{S}}} - \\frac{\\sin{\\left(\\mathbf{{z}_{S}} \\right)} \\frac{\\partial}{\\partial \\mathbf{{z}_{S}}} A_{r}{\\left(\\mathbf{{x}_{S}},\\mathbf{{y}_{S}},\\mathbf{{z}_{S}} \\right)}}{\\mathbf{{x}_{S}} \\sin{\\left(\\mathbf{{y}_{S}} \\right)}}\\right) \\sin{\\left(\\mathbf{{y}_{S}} \\right)} \\sin{\\left(\\mathbf{{z}_{S}} \\right)} + \\left(\\sin{\\left(\\mathbf{{y}_{S}} \\right)} \\cos{\\left(\\mathbf{{z}_{S}} \\right)} \\frac{\\partial}{\\partial \\mathbf{{x}_{S}}} A_{\\theta}{\\left(\\mathbf{{x}_{S}},\\mathbf{{y}_{S}},\\mathbf{{z}_{S}} \\right)} + \\frac{\\cos{\\left(\\mathbf{{y}_{S}} \\right)} \\cos{\\left(\\mathbf{{z}_{S}} \\right)} \\frac{\\partial}{\\partial \\mathbf{{y}_{S}}} A_{\\theta}{\\left(\\mathbf{{x}_{S}},\\mathbf{{y}_{S}},\\mathbf{{z}_{S}} \\right)}}{\\mathbf{{x}_{S}}} - \\frac{\\sin{\\left(\\mathbf{{z}_{S}} \\right)} \\frac{\\partial}{\\partial \\mathbf{{z}_{S}}} A_{\\theta}{\\left(\\mathbf{{x}_{S}},\\mathbf{{y}_{S}},\\mathbf{{z}_{S}} \\right)}}{\\mathbf{{x}_{S}} \\sin{\\left(\\mathbf{{y}_{S}} \\right)}}\\right) \\sin{\\left(\\mathbf{{z}_{S}} \\right)} \\cos{\\left(\\mathbf{{y}_{S}} \\right)} & \\left(\\sin{\\left(\\mathbf{{y}_{S}} \\right)} \\cos{\\left(\\mathbf{{z}_{S}} \\right)} \\frac{\\partial}{\\partial \\mathbf{{x}_{S}}} A_{r}{\\left(\\mathbf{{x}_{S}},\\mathbf{{y}_{S}},\\mathbf{{z}_{S}} \\right)} + \\frac{\\cos{\\left(\\mathbf{{y}_{S}} \\right)} \\cos{\\left(\\mathbf{{z}_{S}} \\right)} \\frac{\\partial}{\\partial \\mathbf{{y}_{S}}} A_{r}{\\left(\\mathbf{{x}_{S}},\\mathbf{{y}_{S}},\\mathbf{{z}_{S}} \\right)}}{\\mathbf{{x}_{S}}} - \\frac{\\sin{\\left(\\mathbf{{z}_{S}} \\right)} \\frac{\\partial}{\\partial \\mathbf{{z}_{S}}} A_{r}{\\left(\\mathbf{{x}_{S}},\\mathbf{{y}_{S}},\\mathbf{{z}_{S}} \\right)}}{\\mathbf{{x}_{S}} \\sin{\\left(\\mathbf{{y}_{S}} \\right)}}\\right) \\cos{\\left(\\mathbf{{y}_{S}} \\right)} - \\left(\\sin{\\left(\\mathbf{{y}_{S}} \\right)} \\cos{\\left(\\mathbf{{z}_{S}} \\right)} \\frac{\\partial}{\\partial \\mathbf{{x}_{S}}} A_{\\theta}{\\left(\\mathbf{{x}_{S}},\\mathbf{{y}_{S}},\\mathbf{{z}_{S}} \\right)} + \\frac{\\cos{\\left(\\mathbf{{y}_{S}} \\right)} \\cos{\\left(\\mathbf{{z}_{S}} \\right)} \\frac{\\partial}{\\partial \\mathbf{{y}_{S}}} A_{\\theta}{\\left(\\mathbf{{x}_{S}},\\mathbf{{y}_{S}},\\mathbf{{z}_{S}} \\right)}}{\\mathbf{{x}_{S}}} - \\frac{\\sin{\\left(\\mathbf{{z}_{S}} \\right)} \\frac{\\partial}{\\partial \\mathbf{{z}_{S}}} A_{\\theta}{\\left(\\mathbf{{x}_{S}},\\mathbf{{y}_{S}},\\mathbf{{z}_{S}} \\right)}}{\\mathbf{{x}_{S}} \\sin{\\left(\\mathbf{{y}_{S}} \\right)}}\\right) \\sin{\\left(\\mathbf{{y}_{S}} \\right)}\\\\- \\left(\\sin{\\left(\\mathbf{{y}_{S}} \\right)} \\sin{\\left(\\mathbf{{z}_{S}} \\right)} \\frac{\\partial}{\\partial \\mathbf{{x}_{S}}} A_{\\phi}{\\left(\\mathbf{{x}_{S}},\\mathbf{{y}_{S}},\\mathbf{{z}_{S}} \\right)} + \\frac{\\sin{\\left(\\mathbf{{z}_{S}} \\right)} \\cos{\\left(\\mathbf{{y}_{S}} \\right)} \\frac{\\partial}{\\partial \\mathbf{{y}_{S}}} A_{\\phi}{\\left(\\mathbf{{x}_{S}},\\mathbf{{y}_{S}},\\mathbf{{z}_{S}} \\right)}}{\\mathbf{{x}_{S}}} + \\frac{\\cos{\\left(\\mathbf{{z}_{S}} \\right)} \\frac{\\partial}{\\partial \\mathbf{{z}_{S}}} A_{\\phi}{\\left(\\mathbf{{x}_{S}},\\mathbf{{y}_{S}},\\mathbf{{z}_{S}} \\right)}}{\\mathbf{{x}_{S}} \\sin{\\left(\\mathbf{{y}_{S}} \\right)}}\\right) \\sin{\\left(\\mathbf{{z}_{S}} \\right)} + \\left(\\sin{\\left(\\mathbf{{y}_{S}} \\right)} \\sin{\\left(\\mathbf{{z}_{S}} \\right)} \\frac{\\partial}{\\partial \\mathbf{{x}_{S}}} A_{r}{\\left(\\mathbf{{x}_{S}},\\mathbf{{y}_{S}},\\mathbf{{z}_{S}} \\right)} + \\frac{\\sin{\\left(\\mathbf{{z}_{S}} \\right)} \\cos{\\left(\\mathbf{{y}_{S}} \\right)} \\frac{\\partial}{\\partial \\mathbf{{y}_{S}}} A_{r}{\\left(\\mathbf{{x}_{S}},\\mathbf{{y}_{S}},\\mathbf{{z}_{S}} \\right)}}{\\mathbf{{x}_{S}}} + \\frac{\\cos{\\left(\\mathbf{{z}_{S}} \\right)} \\frac{\\partial}{\\partial \\mathbf{{z}_{S}}} A_{r}{\\left(\\mathbf{{x}_{S}},\\mathbf{{y}_{S}},\\mathbf{{z}_{S}} \\right)}}{\\mathbf{{x}_{S}} \\sin{\\left(\\mathbf{{y}_{S}} \\right)}}\\right) \\sin{\\left(\\mathbf{{y}_{S}} \\right)} \\cos{\\left(\\mathbf{{z}_{S}} \\right)} + \\left(\\sin{\\left(\\mathbf{{y}_{S}} \\right)} \\sin{\\left(\\mathbf{{z}_{S}} \\right)} \\frac{\\partial}{\\partial \\mathbf{{x}_{S}}} A_{\\theta}{\\left(\\mathbf{{x}_{S}},\\mathbf{{y}_{S}},\\mathbf{{z}_{S}} \\right)} + \\frac{\\sin{\\left(\\mathbf{{z}_{S}} \\right)} \\cos{\\left(\\mathbf{{y}_{S}} \\right)} \\frac{\\partial}{\\partial \\mathbf{{y}_{S}}} A_{\\theta}{\\left(\\mathbf{{x}_{S}},\\mathbf{{y}_{S}},\\mathbf{{z}_{S}} \\right)}}{\\mathbf{{x}_{S}}} + \\frac{\\cos{\\left(\\mathbf{{z}_{S}} \\right)} \\frac{\\partial}{\\partial \\mathbf{{z}_{S}}} A_{\\theta}{\\left(\\mathbf{{x}_{S}},\\mathbf{{y}_{S}},\\mathbf{{z}_{S}} \\right)}}{\\mathbf{{x}_{S}} \\sin{\\left(\\mathbf{{y}_{S}} \\right)}}\\right) \\cos{\\left(\\mathbf{{y}_{S}} \\right)} \\cos{\\left(\\mathbf{{z}_{S}} \\right)} & \\left(\\sin{\\left(\\mathbf{{y}_{S}} \\right)} \\sin{\\left(\\mathbf{{z}_{S}} \\right)} \\frac{\\partial}{\\partial \\mathbf{{x}_{S}}} A_{\\phi}{\\left(\\mathbf{{x}_{S}},\\mathbf{{y}_{S}},\\mathbf{{z}_{S}} \\right)} + \\frac{\\sin{\\left(\\mathbf{{z}_{S}} \\right)} \\cos{\\left(\\mathbf{{y}_{S}} \\right)} \\frac{\\partial}{\\partial \\mathbf{{y}_{S}}} A_{\\phi}{\\left(\\mathbf{{x}_{S}},\\mathbf{{y}_{S}},\\mathbf{{z}_{S}} \\right)}}{\\mathbf{{x}_{S}}} + \\frac{\\cos{\\left(\\mathbf{{z}_{S}} \\right)} \\frac{\\partial}{\\partial \\mathbf{{z}_{S}}} A_{\\phi}{\\left(\\mathbf{{x}_{S}},\\mathbf{{y}_{S}},\\mathbf{{z}_{S}} \\right)}}{\\mathbf{{x}_{S}} \\sin{\\left(\\mathbf{{y}_{S}} \\right)}}\\right) \\cos{\\left(\\mathbf{{z}_{S}} \\right)} + \\left(\\sin{\\left(\\mathbf{{y}_{S}} \\right)} \\sin{\\left(\\mathbf{{z}_{S}} \\right)} \\frac{\\partial}{\\partial \\mathbf{{x}_{S}}} A_{r}{\\left(\\mathbf{{x}_{S}},\\mathbf{{y}_{S}},\\mathbf{{z}_{S}} \\right)} + \\frac{\\sin{\\left(\\mathbf{{z}_{S}} \\right)} \\cos{\\left(\\mathbf{{y}_{S}} \\right)} \\frac{\\partial}{\\partial \\mathbf{{y}_{S}}} A_{r}{\\left(\\mathbf{{x}_{S}},\\mathbf{{y}_{S}},\\mathbf{{z}_{S}} \\right)}}{\\mathbf{{x}_{S}}} + \\frac{\\cos{\\left(\\mathbf{{z}_{S}} \\right)} \\frac{\\partial}{\\partial \\mathbf{{z}_{S}}} A_{r}{\\left(\\mathbf{{x}_{S}},\\mathbf{{y}_{S}},\\mathbf{{z}_{S}} \\right)}}{\\mathbf{{x}_{S}} \\sin{\\left(\\mathbf{{y}_{S}} \\right)}}\\right) \\sin{\\left(\\mathbf{{y}_{S}} \\right)} \\sin{\\left(\\mathbf{{z}_{S}} \\right)} + \\left(\\sin{\\left(\\mathbf{{y}_{S}} \\right)} \\sin{\\left(\\mathbf{{z}_{S}} \\right)} \\frac{\\partial}{\\partial \\mathbf{{x}_{S}}} A_{\\theta}{\\left(\\mathbf{{x}_{S}},\\mathbf{{y}_{S}},\\mathbf{{z}_{S}} \\right)} + \\frac{\\sin{\\left(\\mathbf{{z}_{S}} \\right)} \\cos{\\left(\\mathbf{{y}_{S}} \\right)} \\frac{\\partial}{\\partial \\mathbf{{y}_{S}}} A_{\\theta}{\\left(\\mathbf{{x}_{S}},\\mathbf{{y}_{S}},\\mathbf{{z}_{S}} \\right)}}{\\mathbf{{x}_{S}}} + \\frac{\\cos{\\left(\\mathbf{{z}_{S}} \\right)} \\frac{\\partial}{\\partial \\mathbf{{z}_{S}}} A_{\\theta}{\\left(\\mathbf{{x}_{S}},\\mathbf{{y}_{S}},\\mathbf{{z}_{S}} \\right)}}{\\mathbf{{x}_{S}} \\sin{\\left(\\mathbf{{y}_{S}} \\right)}}\\right) \\sin{\\left(\\mathbf{{z}_{S}} \\right)} \\cos{\\left(\\mathbf{{y}_{S}} \\right)} & \\left(\\sin{\\left(\\mathbf{{y}_{S}} \\right)} \\sin{\\left(\\mathbf{{z}_{S}} \\right)} \\frac{\\partial}{\\partial \\mathbf{{x}_{S}}} A_{r}{\\left(\\mathbf{{x}_{S}},\\mathbf{{y}_{S}},\\mathbf{{z}_{S}} \\right)} + \\frac{\\sin{\\left(\\mathbf{{z}_{S}} \\right)} \\cos{\\left(\\mathbf{{y}_{S}} \\right)} \\frac{\\partial}{\\partial \\mathbf{{y}_{S}}} A_{r}{\\left(\\mathbf{{x}_{S}},\\mathbf{{y}_{S}},\\mathbf{{z}_{S}} \\right)}}{\\mathbf{{x}_{S}}} + \\frac{\\cos{\\left(\\mathbf{{z}_{S}} \\right)} \\frac{\\partial}{\\partial \\mathbf{{z}_{S}}} A_{r}{\\left(\\mathbf{{x}_{S}},\\mathbf{{y}_{S}},\\mathbf{{z}_{S}} \\right)}}{\\mathbf{{x}_{S}} \\sin{\\left(\\mathbf{{y}_{S}} \\right)}}\\right) \\cos{\\left(\\mathbf{{y}_{S}} \\right)} - \\left(\\sin{\\left(\\mathbf{{y}_{S}} \\right)} \\sin{\\left(\\mathbf{{z}_{S}} \\right)} \\frac{\\partial}{\\partial \\mathbf{{x}_{S}}} A_{\\theta}{\\left(\\mathbf{{x}_{S}},\\mathbf{{y}_{S}},\\mathbf{{z}_{S}} \\right)} + \\frac{\\sin{\\left(\\mathbf{{z}_{S}} \\right)} \\cos{\\left(\\mathbf{{y}_{S}} \\right)} \\frac{\\partial}{\\partial \\mathbf{{y}_{S}}} A_{\\theta}{\\left(\\mathbf{{x}_{S}},\\mathbf{{y}_{S}},\\mathbf{{z}_{S}} \\right)}}{\\mathbf{{x}_{S}}} + \\frac{\\cos{\\left(\\mathbf{{z}_{S}} \\right)} \\frac{\\partial}{\\partial \\mathbf{{z}_{S}}} A_{\\theta}{\\left(\\mathbf{{x}_{S}},\\mathbf{{y}_{S}},\\mathbf{{z}_{S}} \\right)}}{\\mathbf{{x}_{S}} \\sin{\\left(\\mathbf{{y}_{S}} \\right)}}\\right) \\sin{\\left(\\mathbf{{y}_{S}} \\right)}\\\\- \\left(\\cos{\\left(\\mathbf{{y}_{S}} \\right)} \\frac{\\partial}{\\partial \\mathbf{{x}_{S}}} A_{\\phi}{\\left(\\mathbf{{x}_{S}},\\mathbf{{y}_{S}},\\mathbf{{z}_{S}} \\right)} - \\frac{\\sin{\\left(\\mathbf{{y}_{S}} \\right)} \\frac{\\partial}{\\partial \\mathbf{{y}_{S}}} A_{\\phi}{\\left(\\mathbf{{x}_{S}},\\mathbf{{y}_{S}},\\mathbf{{z}_{S}} \\right)}}{\\mathbf{{x}_{S}}}\\right) \\sin{\\left(\\mathbf{{z}_{S}} \\right)} + \\left(\\cos{\\left(\\mathbf{{y}_{S}} \\right)} \\frac{\\partial}{\\partial \\mathbf{{x}_{S}}} A_{r}{\\left(\\mathbf{{x}_{S}},\\mathbf{{y}_{S}},\\mathbf{{z}_{S}} \\right)} - \\frac{\\sin{\\left(\\mathbf{{y}_{S}} \\right)} \\frac{\\partial}{\\partial \\mathbf{{y}_{S}}} A_{r}{\\left(\\mathbf{{x}_{S}},\\mathbf{{y}_{S}},\\mathbf{{z}_{S}} \\right)}}{\\mathbf{{x}_{S}}}\\right) \\sin{\\left(\\mathbf{{y}_{S}} \\right)} \\cos{\\left(\\mathbf{{z}_{S}} \\right)} + \\left(\\cos{\\left(\\mathbf{{y}_{S}} \\right)} \\frac{\\partial}{\\partial \\mathbf{{x}_{S}}} A_{\\theta}{\\left(\\mathbf{{x}_{S}},\\mathbf{{y}_{S}},\\mathbf{{z}_{S}} \\right)} - \\frac{\\sin{\\left(\\mathbf{{y}_{S}} \\right)} \\frac{\\partial}{\\partial \\mathbf{{y}_{S}}} A_{\\theta}{\\left(\\mathbf{{x}_{S}},\\mathbf{{y}_{S}},\\mathbf{{z}_{S}} \\right)}}{\\mathbf{{x}_{S}}}\\right) \\cos{\\left(\\mathbf{{y}_{S}} \\right)} \\cos{\\left(\\mathbf{{z}_{S}} \\right)} & \\left(\\cos{\\left(\\mathbf{{y}_{S}} \\right)} \\frac{\\partial}{\\partial \\mathbf{{x}_{S}}} A_{\\phi}{\\left(\\mathbf{{x}_{S}},\\mathbf{{y}_{S}},\\mathbf{{z}_{S}} \\right)} - \\frac{\\sin{\\left(\\mathbf{{y}_{S}} \\right)} \\frac{\\partial}{\\partial \\mathbf{{y}_{S}}} A_{\\phi}{\\left(\\mathbf{{x}_{S}},\\mathbf{{y}_{S}},\\mathbf{{z}_{S}} \\right)}}{\\mathbf{{x}_{S}}}\\right) \\cos{\\left(\\mathbf{{z}_{S}} \\right)} + \\left(\\cos{\\left(\\mathbf{{y}_{S}} \\right)} \\frac{\\partial}{\\partial \\mathbf{{x}_{S}}} A_{r}{\\left(\\mathbf{{x}_{S}},\\mathbf{{y}_{S}},\\mathbf{{z}_{S}} \\right)} - \\frac{\\sin{\\left(\\mathbf{{y}_{S}} \\right)} \\frac{\\partial}{\\partial \\mathbf{{y}_{S}}} A_{r}{\\left(\\mathbf{{x}_{S}},\\mathbf{{y}_{S}},\\mathbf{{z}_{S}} \\right)}}{\\mathbf{{x}_{S}}}\\right) \\sin{\\left(\\mathbf{{y}_{S}} \\right)} \\sin{\\left(\\mathbf{{z}_{S}} \\right)} + \\left(\\cos{\\left(\\mathbf{{y}_{S}} \\right)} \\frac{\\partial}{\\partial \\mathbf{{x}_{S}}} A_{\\theta}{\\left(\\mathbf{{x}_{S}},\\mathbf{{y}_{S}},\\mathbf{{z}_{S}} \\right)} - \\frac{\\sin{\\left(\\mathbf{{y}_{S}} \\right)} \\frac{\\partial}{\\partial \\mathbf{{y}_{S}}} A_{\\theta}{\\left(\\mathbf{{x}_{S}},\\mathbf{{y}_{S}},\\mathbf{{z}_{S}} \\right)}}{\\mathbf{{x}_{S}}}\\right) \\sin{\\left(\\mathbf{{z}_{S}} \\right)} \\cos{\\left(\\mathbf{{y}_{S}} \\right)} & \\left(\\cos{\\left(\\mathbf{{y}_{S}} \\right)} \\frac{\\partial}{\\partial \\mathbf{{x}_{S}}} A_{r}{\\left(\\mathbf{{x}_{S}},\\mathbf{{y}_{S}},\\mathbf{{z}_{S}} \\right)} - \\frac{\\sin{\\left(\\mathbf{{y}_{S}} \\right)} \\frac{\\partial}{\\partial \\mathbf{{y}_{S}}} A_{r}{\\left(\\mathbf{{x}_{S}},\\mathbf{{y}_{S}},\\mathbf{{z}_{S}} \\right)}}{\\mathbf{{x}_{S}}}\\right) \\cos{\\left(\\mathbf{{y}_{S}} \\right)} - \\left(\\cos{\\left(\\mathbf{{y}_{S}} \\right)} \\frac{\\partial}{\\partial \\mathbf{{x}_{S}}} A_{\\theta}{\\left(\\mathbf{{x}_{S}},\\mathbf{{y}_{S}},\\mathbf{{z}_{S}} \\right)} - \\frac{\\sin{\\left(\\mathbf{{y}_{S}} \\right)} \\frac{\\partial}{\\partial \\mathbf{{y}_{S}}} A_{\\theta}{\\left(\\mathbf{{x}_{S}},\\mathbf{{y}_{S}},\\mathbf{{z}_{S}} \\right)}}{\\mathbf{{x}_{S}}}\\right) \\sin{\\left(\\mathbf{{y}_{S}} \\right)}\\end{matrix}\\right]$"
      ],
      "text/plain": [
       "Matrix([\n",
       "[-(sin(S.y)*cos(S.z)*Derivative(A_phi(S.x, S.y, S.z), S.x) + cos(S.y)*cos(S.z)*Derivative(A_phi(S.x, S.y, S.z), S.y)/S.x - sin(S.z)*Derivative(A_phi(S.x, S.y, S.z), S.z)/(S.x*sin(S.y)))*sin(S.z) + (sin(S.y)*cos(S.z)*Derivative(A_r(S.x, S.y, S.z), S.x) + cos(S.y)*cos(S.z)*Derivative(A_r(S.x, S.y, S.z), S.y)/S.x - sin(S.z)*Derivative(A_r(S.x, S.y, S.z), S.z)/(S.x*sin(S.y)))*sin(S.y)*cos(S.z) + (sin(S.y)*cos(S.z)*Derivative(A_theta(S.x, S.y, S.z), S.x) + cos(S.y)*cos(S.z)*Derivative(A_theta(S.x, S.y, S.z), S.y)/S.x - sin(S.z)*Derivative(A_theta(S.x, S.y, S.z), S.z)/(S.x*sin(S.y)))*cos(S.y)*cos(S.z), (sin(S.y)*cos(S.z)*Derivative(A_phi(S.x, S.y, S.z), S.x) + cos(S.y)*cos(S.z)*Derivative(A_phi(S.x, S.y, S.z), S.y)/S.x - sin(S.z)*Derivative(A_phi(S.x, S.y, S.z), S.z)/(S.x*sin(S.y)))*cos(S.z) + (sin(S.y)*cos(S.z)*Derivative(A_r(S.x, S.y, S.z), S.x) + cos(S.y)*cos(S.z)*Derivative(A_r(S.x, S.y, S.z), S.y)/S.x - sin(S.z)*Derivative(A_r(S.x, S.y, S.z), S.z)/(S.x*sin(S.y)))*sin(S.y)*sin(S.z) + (sin(S.y)*cos(S.z)*Derivative(A_theta(S.x, S.y, S.z), S.x) + cos(S.y)*cos(S.z)*Derivative(A_theta(S.x, S.y, S.z), S.y)/S.x - sin(S.z)*Derivative(A_theta(S.x, S.y, S.z), S.z)/(S.x*sin(S.y)))*sin(S.z)*cos(S.y), (sin(S.y)*cos(S.z)*Derivative(A_r(S.x, S.y, S.z), S.x) + cos(S.y)*cos(S.z)*Derivative(A_r(S.x, S.y, S.z), S.y)/S.x - sin(S.z)*Derivative(A_r(S.x, S.y, S.z), S.z)/(S.x*sin(S.y)))*cos(S.y) - (sin(S.y)*cos(S.z)*Derivative(A_theta(S.x, S.y, S.z), S.x) + cos(S.y)*cos(S.z)*Derivative(A_theta(S.x, S.y, S.z), S.y)/S.x - sin(S.z)*Derivative(A_theta(S.x, S.y, S.z), S.z)/(S.x*sin(S.y)))*sin(S.y)],\n",
       "[-(sin(S.y)*sin(S.z)*Derivative(A_phi(S.x, S.y, S.z), S.x) + sin(S.z)*cos(S.y)*Derivative(A_phi(S.x, S.y, S.z), S.y)/S.x + cos(S.z)*Derivative(A_phi(S.x, S.y, S.z), S.z)/(S.x*sin(S.y)))*sin(S.z) + (sin(S.y)*sin(S.z)*Derivative(A_r(S.x, S.y, S.z), S.x) + sin(S.z)*cos(S.y)*Derivative(A_r(S.x, S.y, S.z), S.y)/S.x + cos(S.z)*Derivative(A_r(S.x, S.y, S.z), S.z)/(S.x*sin(S.y)))*sin(S.y)*cos(S.z) + (sin(S.y)*sin(S.z)*Derivative(A_theta(S.x, S.y, S.z), S.x) + sin(S.z)*cos(S.y)*Derivative(A_theta(S.x, S.y, S.z), S.y)/S.x + cos(S.z)*Derivative(A_theta(S.x, S.y, S.z), S.z)/(S.x*sin(S.y)))*cos(S.y)*cos(S.z), (sin(S.y)*sin(S.z)*Derivative(A_phi(S.x, S.y, S.z), S.x) + sin(S.z)*cos(S.y)*Derivative(A_phi(S.x, S.y, S.z), S.y)/S.x + cos(S.z)*Derivative(A_phi(S.x, S.y, S.z), S.z)/(S.x*sin(S.y)))*cos(S.z) + (sin(S.y)*sin(S.z)*Derivative(A_r(S.x, S.y, S.z), S.x) + sin(S.z)*cos(S.y)*Derivative(A_r(S.x, S.y, S.z), S.y)/S.x + cos(S.z)*Derivative(A_r(S.x, S.y, S.z), S.z)/(S.x*sin(S.y)))*sin(S.y)*sin(S.z) + (sin(S.y)*sin(S.z)*Derivative(A_theta(S.x, S.y, S.z), S.x) + sin(S.z)*cos(S.y)*Derivative(A_theta(S.x, S.y, S.z), S.y)/S.x + cos(S.z)*Derivative(A_theta(S.x, S.y, S.z), S.z)/(S.x*sin(S.y)))*sin(S.z)*cos(S.y), (sin(S.y)*sin(S.z)*Derivative(A_r(S.x, S.y, S.z), S.x) + sin(S.z)*cos(S.y)*Derivative(A_r(S.x, S.y, S.z), S.y)/S.x + cos(S.z)*Derivative(A_r(S.x, S.y, S.z), S.z)/(S.x*sin(S.y)))*cos(S.y) - (sin(S.y)*sin(S.z)*Derivative(A_theta(S.x, S.y, S.z), S.x) + sin(S.z)*cos(S.y)*Derivative(A_theta(S.x, S.y, S.z), S.y)/S.x + cos(S.z)*Derivative(A_theta(S.x, S.y, S.z), S.z)/(S.x*sin(S.y)))*sin(S.y)],\n",
       "[                                                                                                                                                                                                                                                      -(cos(S.y)*Derivative(A_phi(S.x, S.y, S.z), S.x) - sin(S.y)*Derivative(A_phi(S.x, S.y, S.z), S.y)/S.x)*sin(S.z) + (cos(S.y)*Derivative(A_r(S.x, S.y, S.z), S.x) - sin(S.y)*Derivative(A_r(S.x, S.y, S.z), S.y)/S.x)*sin(S.y)*cos(S.z) + (cos(S.y)*Derivative(A_theta(S.x, S.y, S.z), S.x) - sin(S.y)*Derivative(A_theta(S.x, S.y, S.z), S.y)/S.x)*cos(S.y)*cos(S.z),                                                                                                                                                                                                                                                       (cos(S.y)*Derivative(A_phi(S.x, S.y, S.z), S.x) - sin(S.y)*Derivative(A_phi(S.x, S.y, S.z), S.y)/S.x)*cos(S.z) + (cos(S.y)*Derivative(A_r(S.x, S.y, S.z), S.x) - sin(S.y)*Derivative(A_r(S.x, S.y, S.z), S.y)/S.x)*sin(S.y)*sin(S.z) + (cos(S.y)*Derivative(A_theta(S.x, S.y, S.z), S.x) - sin(S.y)*Derivative(A_theta(S.x, S.y, S.z), S.y)/S.x)*sin(S.z)*cos(S.y),                                                                                                                                                                     (cos(S.y)*Derivative(A_r(S.x, S.y, S.z), S.x) - sin(S.y)*Derivative(A_r(S.x, S.y, S.z), S.y)/S.x)*cos(S.y) - (cos(S.y)*Derivative(A_theta(S.x, S.y, S.z), S.x) - sin(S.y)*Derivative(A_theta(S.x, S.y, S.z), S.y)/S.x)*sin(S.y)]])"
      ]
     },
     "metadata": {},
     "output_type": "display_data"
    },
    {
     "name": "stdout",
     "output_type": "stream",
     "text": [
      "最终我们得到的旋度：\n",
      "散度：\n"
     ]
    },
    {
     "data": {
      "text/latex": [
       "$\\displaystyle \\left[\\begin{matrix}- \\left(\\cos{\\left(\\mathbf{{y}_{S}} \\right)} \\frac{\\partial}{\\partial \\mathbf{{x}_{S}}} A_{\\phi}{\\left(\\mathbf{{x}_{S}},\\mathbf{{y}_{S}},\\mathbf{{z}_{S}} \\right)} - \\frac{\\sin{\\left(\\mathbf{{y}_{S}} \\right)} \\frac{\\partial}{\\partial \\mathbf{{y}_{S}}} A_{\\phi}{\\left(\\mathbf{{x}_{S}},\\mathbf{{y}_{S}},\\mathbf{{z}_{S}} \\right)}}{\\mathbf{{x}_{S}}}\\right) \\cos{\\left(\\mathbf{{z}_{S}} \\right)} - \\left(\\cos{\\left(\\mathbf{{y}_{S}} \\right)} \\frac{\\partial}{\\partial \\mathbf{{x}_{S}}} A_{r}{\\left(\\mathbf{{x}_{S}},\\mathbf{{y}_{S}},\\mathbf{{z}_{S}} \\right)} - \\frac{\\sin{\\left(\\mathbf{{y}_{S}} \\right)} \\frac{\\partial}{\\partial \\mathbf{{y}_{S}}} A_{r}{\\left(\\mathbf{{x}_{S}},\\mathbf{{y}_{S}},\\mathbf{{z}_{S}} \\right)}}{\\mathbf{{x}_{S}}}\\right) \\sin{\\left(\\mathbf{{y}_{S}} \\right)} \\sin{\\left(\\mathbf{{z}_{S}} \\right)} - \\left(\\cos{\\left(\\mathbf{{y}_{S}} \\right)} \\frac{\\partial}{\\partial \\mathbf{{x}_{S}}} A_{\\theta}{\\left(\\mathbf{{x}_{S}},\\mathbf{{y}_{S}},\\mathbf{{z}_{S}} \\right)} - \\frac{\\sin{\\left(\\mathbf{{y}_{S}} \\right)} \\frac{\\partial}{\\partial \\mathbf{{y}_{S}}} A_{\\theta}{\\left(\\mathbf{{x}_{S}},\\mathbf{{y}_{S}},\\mathbf{{z}_{S}} \\right)}}{\\mathbf{{x}_{S}}}\\right) \\sin{\\left(\\mathbf{{z}_{S}} \\right)} \\cos{\\left(\\mathbf{{y}_{S}} \\right)} + \\left(\\sin{\\left(\\mathbf{{y}_{S}} \\right)} \\sin{\\left(\\mathbf{{z}_{S}} \\right)} \\frac{\\partial}{\\partial \\mathbf{{x}_{S}}} A_{r}{\\left(\\mathbf{{x}_{S}},\\mathbf{{y}_{S}},\\mathbf{{z}_{S}} \\right)} + \\frac{\\sin{\\left(\\mathbf{{z}_{S}} \\right)} \\cos{\\left(\\mathbf{{y}_{S}} \\right)} \\frac{\\partial}{\\partial \\mathbf{{y}_{S}}} A_{r}{\\left(\\mathbf{{x}_{S}},\\mathbf{{y}_{S}},\\mathbf{{z}_{S}} \\right)}}{\\mathbf{{x}_{S}}} + \\frac{\\cos{\\left(\\mathbf{{z}_{S}} \\right)} \\frac{\\partial}{\\partial \\mathbf{{z}_{S}}} A_{r}{\\left(\\mathbf{{x}_{S}},\\mathbf{{y}_{S}},\\mathbf{{z}_{S}} \\right)}}{\\mathbf{{x}_{S}} \\sin{\\left(\\mathbf{{y}_{S}} \\right)}}\\right) \\cos{\\left(\\mathbf{{y}_{S}} \\right)} - \\left(\\sin{\\left(\\mathbf{{y}_{S}} \\right)} \\sin{\\left(\\mathbf{{z}_{S}} \\right)} \\frac{\\partial}{\\partial \\mathbf{{x}_{S}}} A_{\\theta}{\\left(\\mathbf{{x}_{S}},\\mathbf{{y}_{S}},\\mathbf{{z}_{S}} \\right)} + \\frac{\\sin{\\left(\\mathbf{{z}_{S}} \\right)} \\cos{\\left(\\mathbf{{y}_{S}} \\right)} \\frac{\\partial}{\\partial \\mathbf{{y}_{S}}} A_{\\theta}{\\left(\\mathbf{{x}_{S}},\\mathbf{{y}_{S}},\\mathbf{{z}_{S}} \\right)}}{\\mathbf{{x}_{S}}} + \\frac{\\cos{\\left(\\mathbf{{z}_{S}} \\right)} \\frac{\\partial}{\\partial \\mathbf{{z}_{S}}} A_{\\theta}{\\left(\\mathbf{{x}_{S}},\\mathbf{{y}_{S}},\\mathbf{{z}_{S}} \\right)}}{\\mathbf{{x}_{S}} \\sin{\\left(\\mathbf{{y}_{S}} \\right)}}\\right) \\sin{\\left(\\mathbf{{y}_{S}} \\right)}\\\\- \\left(\\cos{\\left(\\mathbf{{y}_{S}} \\right)} \\frac{\\partial}{\\partial \\mathbf{{x}_{S}}} A_{\\phi}{\\left(\\mathbf{{x}_{S}},\\mathbf{{y}_{S}},\\mathbf{{z}_{S}} \\right)} - \\frac{\\sin{\\left(\\mathbf{{y}_{S}} \\right)} \\frac{\\partial}{\\partial \\mathbf{{y}_{S}}} A_{\\phi}{\\left(\\mathbf{{x}_{S}},\\mathbf{{y}_{S}},\\mathbf{{z}_{S}} \\right)}}{\\mathbf{{x}_{S}}}\\right) \\sin{\\left(\\mathbf{{z}_{S}} \\right)} + \\left(\\cos{\\left(\\mathbf{{y}_{S}} \\right)} \\frac{\\partial}{\\partial \\mathbf{{x}_{S}}} A_{r}{\\left(\\mathbf{{x}_{S}},\\mathbf{{y}_{S}},\\mathbf{{z}_{S}} \\right)} - \\frac{\\sin{\\left(\\mathbf{{y}_{S}} \\right)} \\frac{\\partial}{\\partial \\mathbf{{y}_{S}}} A_{r}{\\left(\\mathbf{{x}_{S}},\\mathbf{{y}_{S}},\\mathbf{{z}_{S}} \\right)}}{\\mathbf{{x}_{S}}}\\right) \\sin{\\left(\\mathbf{{y}_{S}} \\right)} \\cos{\\left(\\mathbf{{z}_{S}} \\right)} + \\left(\\cos{\\left(\\mathbf{{y}_{S}} \\right)} \\frac{\\partial}{\\partial \\mathbf{{x}_{S}}} A_{\\theta}{\\left(\\mathbf{{x}_{S}},\\mathbf{{y}_{S}},\\mathbf{{z}_{S}} \\right)} - \\frac{\\sin{\\left(\\mathbf{{y}_{S}} \\right)} \\frac{\\partial}{\\partial \\mathbf{{y}_{S}}} A_{\\theta}{\\left(\\mathbf{{x}_{S}},\\mathbf{{y}_{S}},\\mathbf{{z}_{S}} \\right)}}{\\mathbf{{x}_{S}}}\\right) \\cos{\\left(\\mathbf{{y}_{S}} \\right)} \\cos{\\left(\\mathbf{{z}_{S}} \\right)} - \\left(\\sin{\\left(\\mathbf{{y}_{S}} \\right)} \\cos{\\left(\\mathbf{{z}_{S}} \\right)} \\frac{\\partial}{\\partial \\mathbf{{x}_{S}}} A_{r}{\\left(\\mathbf{{x}_{S}},\\mathbf{{y}_{S}},\\mathbf{{z}_{S}} \\right)} + \\frac{\\cos{\\left(\\mathbf{{y}_{S}} \\right)} \\cos{\\left(\\mathbf{{z}_{S}} \\right)} \\frac{\\partial}{\\partial \\mathbf{{y}_{S}}} A_{r}{\\left(\\mathbf{{x}_{S}},\\mathbf{{y}_{S}},\\mathbf{{z}_{S}} \\right)}}{\\mathbf{{x}_{S}}} - \\frac{\\sin{\\left(\\mathbf{{z}_{S}} \\right)} \\frac{\\partial}{\\partial \\mathbf{{z}_{S}}} A_{r}{\\left(\\mathbf{{x}_{S}},\\mathbf{{y}_{S}},\\mathbf{{z}_{S}} \\right)}}{\\mathbf{{x}_{S}} \\sin{\\left(\\mathbf{{y}_{S}} \\right)}}\\right) \\cos{\\left(\\mathbf{{y}_{S}} \\right)} + \\left(\\sin{\\left(\\mathbf{{y}_{S}} \\right)} \\cos{\\left(\\mathbf{{z}_{S}} \\right)} \\frac{\\partial}{\\partial \\mathbf{{x}_{S}}} A_{\\theta}{\\left(\\mathbf{{x}_{S}},\\mathbf{{y}_{S}},\\mathbf{{z}_{S}} \\right)} + \\frac{\\cos{\\left(\\mathbf{{y}_{S}} \\right)} \\cos{\\left(\\mathbf{{z}_{S}} \\right)} \\frac{\\partial}{\\partial \\mathbf{{y}_{S}}} A_{\\theta}{\\left(\\mathbf{{x}_{S}},\\mathbf{{y}_{S}},\\mathbf{{z}_{S}} \\right)}}{\\mathbf{{x}_{S}}} - \\frac{\\sin{\\left(\\mathbf{{z}_{S}} \\right)} \\frac{\\partial}{\\partial \\mathbf{{z}_{S}}} A_{\\theta}{\\left(\\mathbf{{x}_{S}},\\mathbf{{y}_{S}},\\mathbf{{z}_{S}} \\right)}}{\\mathbf{{x}_{S}} \\sin{\\left(\\mathbf{{y}_{S}} \\right)}}\\right) \\sin{\\left(\\mathbf{{y}_{S}} \\right)}\\\\\\left(\\sin{\\left(\\mathbf{{y}_{S}} \\right)} \\sin{\\left(\\mathbf{{z}_{S}} \\right)} \\frac{\\partial}{\\partial \\mathbf{{x}_{S}}} A_{\\phi}{\\left(\\mathbf{{x}_{S}},\\mathbf{{y}_{S}},\\mathbf{{z}_{S}} \\right)} + \\frac{\\sin{\\left(\\mathbf{{z}_{S}} \\right)} \\cos{\\left(\\mathbf{{y}_{S}} \\right)} \\frac{\\partial}{\\partial \\mathbf{{y}_{S}}} A_{\\phi}{\\left(\\mathbf{{x}_{S}},\\mathbf{{y}_{S}},\\mathbf{{z}_{S}} \\right)}}{\\mathbf{{x}_{S}}} + \\frac{\\cos{\\left(\\mathbf{{z}_{S}} \\right)} \\frac{\\partial}{\\partial \\mathbf{{z}_{S}}} A_{\\phi}{\\left(\\mathbf{{x}_{S}},\\mathbf{{y}_{S}},\\mathbf{{z}_{S}} \\right)}}{\\mathbf{{x}_{S}} \\sin{\\left(\\mathbf{{y}_{S}} \\right)}}\\right) \\sin{\\left(\\mathbf{{z}_{S}} \\right)} - \\left(\\sin{\\left(\\mathbf{{y}_{S}} \\right)} \\sin{\\left(\\mathbf{{z}_{S}} \\right)} \\frac{\\partial}{\\partial \\mathbf{{x}_{S}}} A_{r}{\\left(\\mathbf{{x}_{S}},\\mathbf{{y}_{S}},\\mathbf{{z}_{S}} \\right)} + \\frac{\\sin{\\left(\\mathbf{{z}_{S}} \\right)} \\cos{\\left(\\mathbf{{y}_{S}} \\right)} \\frac{\\partial}{\\partial \\mathbf{{y}_{S}}} A_{r}{\\left(\\mathbf{{x}_{S}},\\mathbf{{y}_{S}},\\mathbf{{z}_{S}} \\right)}}{\\mathbf{{x}_{S}}} + \\frac{\\cos{\\left(\\mathbf{{z}_{S}} \\right)} \\frac{\\partial}{\\partial \\mathbf{{z}_{S}}} A_{r}{\\left(\\mathbf{{x}_{S}},\\mathbf{{y}_{S}},\\mathbf{{z}_{S}} \\right)}}{\\mathbf{{x}_{S}} \\sin{\\left(\\mathbf{{y}_{S}} \\right)}}\\right) \\sin{\\left(\\mathbf{{y}_{S}} \\right)} \\cos{\\left(\\mathbf{{z}_{S}} \\right)} - \\left(\\sin{\\left(\\mathbf{{y}_{S}} \\right)} \\sin{\\left(\\mathbf{{z}_{S}} \\right)} \\frac{\\partial}{\\partial \\mathbf{{x}_{S}}} A_{\\theta}{\\left(\\mathbf{{x}_{S}},\\mathbf{{y}_{S}},\\mathbf{{z}_{S}} \\right)} + \\frac{\\sin{\\left(\\mathbf{{z}_{S}} \\right)} \\cos{\\left(\\mathbf{{y}_{S}} \\right)} \\frac{\\partial}{\\partial \\mathbf{{y}_{S}}} A_{\\theta}{\\left(\\mathbf{{x}_{S}},\\mathbf{{y}_{S}},\\mathbf{{z}_{S}} \\right)}}{\\mathbf{{x}_{S}}} + \\frac{\\cos{\\left(\\mathbf{{z}_{S}} \\right)} \\frac{\\partial}{\\partial \\mathbf{{z}_{S}}} A_{\\theta}{\\left(\\mathbf{{x}_{S}},\\mathbf{{y}_{S}},\\mathbf{{z}_{S}} \\right)}}{\\mathbf{{x}_{S}} \\sin{\\left(\\mathbf{{y}_{S}} \\right)}}\\right) \\cos{\\left(\\mathbf{{y}_{S}} \\right)} \\cos{\\left(\\mathbf{{z}_{S}} \\right)} + \\left(\\sin{\\left(\\mathbf{{y}_{S}} \\right)} \\cos{\\left(\\mathbf{{z}_{S}} \\right)} \\frac{\\partial}{\\partial \\mathbf{{x}_{S}}} A_{\\phi}{\\left(\\mathbf{{x}_{S}},\\mathbf{{y}_{S}},\\mathbf{{z}_{S}} \\right)} + \\frac{\\cos{\\left(\\mathbf{{y}_{S}} \\right)} \\cos{\\left(\\mathbf{{z}_{S}} \\right)} \\frac{\\partial}{\\partial \\mathbf{{y}_{S}}} A_{\\phi}{\\left(\\mathbf{{x}_{S}},\\mathbf{{y}_{S}},\\mathbf{{z}_{S}} \\right)}}{\\mathbf{{x}_{S}}} - \\frac{\\sin{\\left(\\mathbf{{z}_{S}} \\right)} \\frac{\\partial}{\\partial \\mathbf{{z}_{S}}} A_{\\phi}{\\left(\\mathbf{{x}_{S}},\\mathbf{{y}_{S}},\\mathbf{{z}_{S}} \\right)}}{\\mathbf{{x}_{S}} \\sin{\\left(\\mathbf{{y}_{S}} \\right)}}\\right) \\cos{\\left(\\mathbf{{z}_{S}} \\right)} + \\left(\\sin{\\left(\\mathbf{{y}_{S}} \\right)} \\cos{\\left(\\mathbf{{z}_{S}} \\right)} \\frac{\\partial}{\\partial \\mathbf{{x}_{S}}} A_{r}{\\left(\\mathbf{{x}_{S}},\\mathbf{{y}_{S}},\\mathbf{{z}_{S}} \\right)} + \\frac{\\cos{\\left(\\mathbf{{y}_{S}} \\right)} \\cos{\\left(\\mathbf{{z}_{S}} \\right)} \\frac{\\partial}{\\partial \\mathbf{{y}_{S}}} A_{r}{\\left(\\mathbf{{x}_{S}},\\mathbf{{y}_{S}},\\mathbf{{z}_{S}} \\right)}}{\\mathbf{{x}_{S}}} - \\frac{\\sin{\\left(\\mathbf{{z}_{S}} \\right)} \\frac{\\partial}{\\partial \\mathbf{{z}_{S}}} A_{r}{\\left(\\mathbf{{x}_{S}},\\mathbf{{y}_{S}},\\mathbf{{z}_{S}} \\right)}}{\\mathbf{{x}_{S}} \\sin{\\left(\\mathbf{{y}_{S}} \\right)}}\\right) \\sin{\\left(\\mathbf{{y}_{S}} \\right)} \\sin{\\left(\\mathbf{{z}_{S}} \\right)} + \\left(\\sin{\\left(\\mathbf{{y}_{S}} \\right)} \\cos{\\left(\\mathbf{{z}_{S}} \\right)} \\frac{\\partial}{\\partial \\mathbf{{x}_{S}}} A_{\\theta}{\\left(\\mathbf{{x}_{S}},\\mathbf{{y}_{S}},\\mathbf{{z}_{S}} \\right)} + \\frac{\\cos{\\left(\\mathbf{{y}_{S}} \\right)} \\cos{\\left(\\mathbf{{z}_{S}} \\right)} \\frac{\\partial}{\\partial \\mathbf{{y}_{S}}} A_{\\theta}{\\left(\\mathbf{{x}_{S}},\\mathbf{{y}_{S}},\\mathbf{{z}_{S}} \\right)}}{\\mathbf{{x}_{S}}} - \\frac{\\sin{\\left(\\mathbf{{z}_{S}} \\right)} \\frac{\\partial}{\\partial \\mathbf{{z}_{S}}} A_{\\theta}{\\left(\\mathbf{{x}_{S}},\\mathbf{{y}_{S}},\\mathbf{{z}_{S}} \\right)}}{\\mathbf{{x}_{S}} \\sin{\\left(\\mathbf{{y}_{S}} \\right)}}\\right) \\sin{\\left(\\mathbf{{z}_{S}} \\right)} \\cos{\\left(\\mathbf{{y}_{S}} \\right)}\\end{matrix}\\right]$"
      ],
      "text/plain": [
       "Matrix([\n",
       "[                                                                                                                                                                                                                                                                                                                                                                                                                                                                          -(cos(S.y)*Derivative(A_phi(S.x, S.y, S.z), S.x) - sin(S.y)*Derivative(A_phi(S.x, S.y, S.z), S.y)/S.x)*cos(S.z) - (cos(S.y)*Derivative(A_r(S.x, S.y, S.z), S.x) - sin(S.y)*Derivative(A_r(S.x, S.y, S.z), S.y)/S.x)*sin(S.y)*sin(S.z) - (cos(S.y)*Derivative(A_theta(S.x, S.y, S.z), S.x) - sin(S.y)*Derivative(A_theta(S.x, S.y, S.z), S.y)/S.x)*sin(S.z)*cos(S.y) + (sin(S.y)*sin(S.z)*Derivative(A_r(S.x, S.y, S.z), S.x) + sin(S.z)*cos(S.y)*Derivative(A_r(S.x, S.y, S.z), S.y)/S.x + cos(S.z)*Derivative(A_r(S.x, S.y, S.z), S.z)/(S.x*sin(S.y)))*cos(S.y) - (sin(S.y)*sin(S.z)*Derivative(A_theta(S.x, S.y, S.z), S.x) + sin(S.z)*cos(S.y)*Derivative(A_theta(S.x, S.y, S.z), S.y)/S.x + cos(S.z)*Derivative(A_theta(S.x, S.y, S.z), S.z)/(S.x*sin(S.y)))*sin(S.y)],\n",
       "[                                                                                                                                                                                                                                                                                                                                                                                                                                                                          -(cos(S.y)*Derivative(A_phi(S.x, S.y, S.z), S.x) - sin(S.y)*Derivative(A_phi(S.x, S.y, S.z), S.y)/S.x)*sin(S.z) + (cos(S.y)*Derivative(A_r(S.x, S.y, S.z), S.x) - sin(S.y)*Derivative(A_r(S.x, S.y, S.z), S.y)/S.x)*sin(S.y)*cos(S.z) + (cos(S.y)*Derivative(A_theta(S.x, S.y, S.z), S.x) - sin(S.y)*Derivative(A_theta(S.x, S.y, S.z), S.y)/S.x)*cos(S.y)*cos(S.z) - (sin(S.y)*cos(S.z)*Derivative(A_r(S.x, S.y, S.z), S.x) + cos(S.y)*cos(S.z)*Derivative(A_r(S.x, S.y, S.z), S.y)/S.x - sin(S.z)*Derivative(A_r(S.x, S.y, S.z), S.z)/(S.x*sin(S.y)))*cos(S.y) + (sin(S.y)*cos(S.z)*Derivative(A_theta(S.x, S.y, S.z), S.x) + cos(S.y)*cos(S.z)*Derivative(A_theta(S.x, S.y, S.z), S.y)/S.x - sin(S.z)*Derivative(A_theta(S.x, S.y, S.z), S.z)/(S.x*sin(S.y)))*sin(S.y)],\n",
       "[(sin(S.y)*sin(S.z)*Derivative(A_phi(S.x, S.y, S.z), S.x) + sin(S.z)*cos(S.y)*Derivative(A_phi(S.x, S.y, S.z), S.y)/S.x + cos(S.z)*Derivative(A_phi(S.x, S.y, S.z), S.z)/(S.x*sin(S.y)))*sin(S.z) - (sin(S.y)*sin(S.z)*Derivative(A_r(S.x, S.y, S.z), S.x) + sin(S.z)*cos(S.y)*Derivative(A_r(S.x, S.y, S.z), S.y)/S.x + cos(S.z)*Derivative(A_r(S.x, S.y, S.z), S.z)/(S.x*sin(S.y)))*sin(S.y)*cos(S.z) - (sin(S.y)*sin(S.z)*Derivative(A_theta(S.x, S.y, S.z), S.x) + sin(S.z)*cos(S.y)*Derivative(A_theta(S.x, S.y, S.z), S.y)/S.x + cos(S.z)*Derivative(A_theta(S.x, S.y, S.z), S.z)/(S.x*sin(S.y)))*cos(S.y)*cos(S.z) + (sin(S.y)*cos(S.z)*Derivative(A_phi(S.x, S.y, S.z), S.x) + cos(S.y)*cos(S.z)*Derivative(A_phi(S.x, S.y, S.z), S.y)/S.x - sin(S.z)*Derivative(A_phi(S.x, S.y, S.z), S.z)/(S.x*sin(S.y)))*cos(S.z) + (sin(S.y)*cos(S.z)*Derivative(A_r(S.x, S.y, S.z), S.x) + cos(S.y)*cos(S.z)*Derivative(A_r(S.x, S.y, S.z), S.y)/S.x - sin(S.z)*Derivative(A_r(S.x, S.y, S.z), S.z)/(S.x*sin(S.y)))*sin(S.y)*sin(S.z) + (sin(S.y)*cos(S.z)*Derivative(A_theta(S.x, S.y, S.z), S.x) + cos(S.y)*cos(S.z)*Derivative(A_theta(S.x, S.y, S.z), S.y)/S.x - sin(S.z)*Derivative(A_theta(S.x, S.y, S.z), S.z)/(S.x*sin(S.y)))*sin(S.z)*cos(S.y)]])"
      ]
     },
     "metadata": {},
     "output_type": "display_data"
    },
    {
     "name": "stdout",
     "output_type": "stream",
     "text": [
      "化简：\n"
     ]
    },
    {
     "data": {
      "text/latex": [
       "$\\displaystyle \\left[\\begin{matrix}\\frac{- \\frac{x_0 \\left(\\sin{\\left(2 \\mathbf{{y}_{S}} - \\mathbf{{z}_{S}} \\right)} + \\sin{\\left(2 \\mathbf{{y}_{S}} + \\mathbf{{z}_{S}} \\right)}\\right) \\frac{\\partial}{\\partial \\mathbf{{x}_{S}}} A_{\\phi}{\\left(\\mathbf{{x}_{S}},\\mathbf{{y}_{S}},\\mathbf{{z}_{S}} \\right)}}{4} - \\mathbf{{x}_{S}} \\sin^{3}{\\left(\\mathbf{{y}_{S}} \\right)} \\sin{\\left(\\mathbf{{z}_{S}} \\right)} \\frac{\\partial}{\\partial \\mathbf{{x}_{S}}} A_{\\theta}{\\left(\\mathbf{{x}_{S}},\\mathbf{{y}_{S}},\\mathbf{{z}_{S}} \\right)} - \\mathbf{{x}_{S}} \\sin{\\left(\\mathbf{{y}_{S}} \\right)} \\sin{\\left(\\mathbf{{z}_{S}} \\right)} \\cos^{2}{\\left(\\mathbf{{y}_{S}} \\right)} \\frac{\\partial}{\\partial \\mathbf{{x}_{S}}} A_{\\theta}{\\left(\\mathbf{{x}_{S}},\\mathbf{{y}_{S}},\\mathbf{{z}_{S}} \\right)} + \\sin^{3}{\\left(\\mathbf{{y}_{S}} \\right)} \\sin{\\left(\\mathbf{{z}_{S}} \\right)} \\frac{\\partial}{\\partial \\mathbf{{y}_{S}}} A_{r}{\\left(\\mathbf{{x}_{S}},\\mathbf{{y}_{S}},\\mathbf{{z}_{S}} \\right)} + \\sin^{2}{\\left(\\mathbf{{y}_{S}} \\right)} \\cos{\\left(\\mathbf{{z}_{S}} \\right)} \\frac{\\partial}{\\partial \\mathbf{{y}_{S}}} A_{\\phi}{\\left(\\mathbf{{x}_{S}},\\mathbf{{y}_{S}},\\mathbf{{z}_{S}} \\right)} + \\sin{\\left(\\mathbf{{y}_{S}} \\right)} \\sin{\\left(\\mathbf{{z}_{S}} \\right)} \\cos^{2}{\\left(\\mathbf{{y}_{S}} \\right)} \\frac{\\partial}{\\partial \\mathbf{{y}_{S}}} A_{r}{\\left(\\mathbf{{x}_{S}},\\mathbf{{y}_{S}},\\mathbf{{z}_{S}} \\right)} - \\sin{\\left(\\mathbf{{y}_{S}} \\right)} \\cos{\\left(\\mathbf{{z}_{S}} \\right)} \\frac{\\partial}{\\partial \\mathbf{{z}_{S}}} A_{\\theta}{\\left(\\mathbf{{x}_{S}},\\mathbf{{y}_{S}},\\mathbf{{z}_{S}} \\right)} + \\cos{\\left(\\mathbf{{y}_{S}} \\right)} \\cos{\\left(\\mathbf{{z}_{S}} \\right)} \\frac{\\partial}{\\partial \\mathbf{{z}_{S}}} A_{r}{\\left(\\mathbf{{x}_{S}},\\mathbf{{y}_{S}},\\mathbf{{z}_{S}} \\right)}}{\\mathbf{{x}_{S}} \\sin{\\left(\\mathbf{{y}_{S}} \\right)}}\\\\\\frac{- \\frac{x_0 \\left(\\cos{\\left(2 \\mathbf{{y}_{S}} - \\mathbf{{z}_{S}} \\right)} - \\cos{\\left(2 \\mathbf{{y}_{S}} + \\mathbf{{z}_{S}} \\right)}\\right) \\frac{\\partial}{\\partial \\mathbf{{x}_{S}}} A_{\\phi}{\\left(\\mathbf{{x}_{S}},\\mathbf{{y}_{S}},\\mathbf{{z}_{S}} \\right)}}{4} + \\mathbf{{x}_{S}} \\sin^{3}{\\left(\\mathbf{{y}_{S}} \\right)} \\cos{\\left(\\mathbf{{z}_{S}} \\right)} \\frac{\\partial}{\\partial \\mathbf{{x}_{S}}} A_{\\theta}{\\left(\\mathbf{{x}_{S}},\\mathbf{{y}_{S}},\\mathbf{{z}_{S}} \\right)} + \\mathbf{{x}_{S}} \\sin{\\left(\\mathbf{{y}_{S}} \\right)} \\cos^{2}{\\left(\\mathbf{{y}_{S}} \\right)} \\cos{\\left(\\mathbf{{z}_{S}} \\right)} \\frac{\\partial}{\\partial \\mathbf{{x}_{S}}} A_{\\theta}{\\left(\\mathbf{{x}_{S}},\\mathbf{{y}_{S}},\\mathbf{{z}_{S}} \\right)} - \\sin^{3}{\\left(\\mathbf{{y}_{S}} \\right)} \\cos{\\left(\\mathbf{{z}_{S}} \\right)} \\frac{\\partial}{\\partial \\mathbf{{y}_{S}}} A_{r}{\\left(\\mathbf{{x}_{S}},\\mathbf{{y}_{S}},\\mathbf{{z}_{S}} \\right)} + \\sin^{2}{\\left(\\mathbf{{y}_{S}} \\right)} \\sin{\\left(\\mathbf{{z}_{S}} \\right)} \\frac{\\partial}{\\partial \\mathbf{{y}_{S}}} A_{\\phi}{\\left(\\mathbf{{x}_{S}},\\mathbf{{y}_{S}},\\mathbf{{z}_{S}} \\right)} - \\sin{\\left(\\mathbf{{y}_{S}} \\right)} \\sin{\\left(\\mathbf{{z}_{S}} \\right)} \\frac{\\partial}{\\partial \\mathbf{{z}_{S}}} A_{\\theta}{\\left(\\mathbf{{x}_{S}},\\mathbf{{y}_{S}},\\mathbf{{z}_{S}} \\right)} - \\sin{\\left(\\mathbf{{y}_{S}} \\right)} \\cos^{2}{\\left(\\mathbf{{y}_{S}} \\right)} \\cos{\\left(\\mathbf{{z}_{S}} \\right)} \\frac{\\partial}{\\partial \\mathbf{{y}_{S}}} A_{r}{\\left(\\mathbf{{x}_{S}},\\mathbf{{y}_{S}},\\mathbf{{z}_{S}} \\right)} + \\sin{\\left(\\mathbf{{z}_{S}} \\right)} \\cos{\\left(\\mathbf{{y}_{S}} \\right)} \\frac{\\partial}{\\partial \\mathbf{{z}_{S}}} A_{r}{\\left(\\mathbf{{x}_{S}},\\mathbf{{y}_{S}},\\mathbf{{z}_{S}} \\right)}}{\\mathbf{{x}_{S}} \\sin{\\left(\\mathbf{{y}_{S}} \\right)}}\\\\\\sin{\\left(\\mathbf{{y}_{S}} \\right)} \\sin^{2}{\\left(\\mathbf{{z}_{S}} \\right)} \\frac{\\partial}{\\partial \\mathbf{{x}_{S}}} A_{\\phi}{\\left(\\mathbf{{x}_{S}},\\mathbf{{y}_{S}},\\mathbf{{z}_{S}} \\right)} + \\sin{\\left(\\mathbf{{y}_{S}} \\right)} \\cos^{2}{\\left(\\mathbf{{z}_{S}} \\right)} \\frac{\\partial}{\\partial \\mathbf{{x}_{S}}} A_{\\phi}{\\left(\\mathbf{{x}_{S}},\\mathbf{{y}_{S}},\\mathbf{{z}_{S}} \\right)} + \\frac{\\sin^{2}{\\left(\\mathbf{{z}_{S}} \\right)} \\cos{\\left(\\mathbf{{y}_{S}} \\right)} \\frac{\\partial}{\\partial \\mathbf{{y}_{S}}} A_{\\phi}{\\left(\\mathbf{{x}_{S}},\\mathbf{{y}_{S}},\\mathbf{{z}_{S}} \\right)}}{\\mathbf{{x}_{S}}} - \\frac{\\sin^{2}{\\left(\\mathbf{{z}_{S}} \\right)} \\frac{\\partial}{\\partial \\mathbf{{z}_{S}}} A_{r}{\\left(\\mathbf{{x}_{S}},\\mathbf{{y}_{S}},\\mathbf{{z}_{S}} \\right)}}{\\mathbf{{x}_{S}}} - \\frac{\\sin^{2}{\\left(\\mathbf{{z}_{S}} \\right)} \\frac{\\partial}{\\partial \\mathbf{{z}_{S}}} A_{\\theta}{\\left(\\mathbf{{x}_{S}},\\mathbf{{y}_{S}},\\mathbf{{z}_{S}} \\right)}}{\\mathbf{{x}_{S}} \\tan{\\left(\\mathbf{{y}_{S}} \\right)}} + \\frac{\\cos{\\left(\\mathbf{{y}_{S}} \\right)} \\cos^{2}{\\left(\\mathbf{{z}_{S}} \\right)} \\frac{\\partial}{\\partial \\mathbf{{y}_{S}}} A_{\\phi}{\\left(\\mathbf{{x}_{S}},\\mathbf{{y}_{S}},\\mathbf{{z}_{S}} \\right)}}{\\mathbf{{x}_{S}}} - \\frac{\\cos^{2}{\\left(\\mathbf{{z}_{S}} \\right)} \\frac{\\partial}{\\partial \\mathbf{{z}_{S}}} A_{r}{\\left(\\mathbf{{x}_{S}},\\mathbf{{y}_{S}},\\mathbf{{z}_{S}} \\right)}}{\\mathbf{{x}_{S}}} - \\frac{\\cos^{2}{\\left(\\mathbf{{z}_{S}} \\right)} \\frac{\\partial}{\\partial \\mathbf{{z}_{S}}} A_{\\theta}{\\left(\\mathbf{{x}_{S}},\\mathbf{{y}_{S}},\\mathbf{{z}_{S}} \\right)}}{\\mathbf{{x}_{S}} \\tan{\\left(\\mathbf{{y}_{S}} \\right)}}\\end{matrix}\\right]$"
      ],
      "text/plain": [
       "Matrix([\n",
       "[(-S.x*(sin(2*S.y - S.z) + sin(2*S.y + S.z))*Derivative(A_phi(S.x, S.y, S.z), S.x)/4 - S.x*sin(S.y)**3*sin(S.z)*Derivative(A_theta(S.x, S.y, S.z), S.x) - S.x*sin(S.y)*sin(S.z)*cos(S.y)**2*Derivative(A_theta(S.x, S.y, S.z), S.x) + sin(S.y)**3*sin(S.z)*Derivative(A_r(S.x, S.y, S.z), S.y) + sin(S.y)**2*cos(S.z)*Derivative(A_phi(S.x, S.y, S.z), S.y) + sin(S.y)*sin(S.z)*cos(S.y)**2*Derivative(A_r(S.x, S.y, S.z), S.y) - sin(S.y)*cos(S.z)*Derivative(A_theta(S.x, S.y, S.z), S.z) + cos(S.y)*cos(S.z)*Derivative(A_r(S.x, S.y, S.z), S.z))/(S.x*sin(S.y))],\n",
       "[(-S.x*(cos(2*S.y - S.z) - cos(2*S.y + S.z))*Derivative(A_phi(S.x, S.y, S.z), S.x)/4 + S.x*sin(S.y)**3*cos(S.z)*Derivative(A_theta(S.x, S.y, S.z), S.x) + S.x*sin(S.y)*cos(S.y)**2*cos(S.z)*Derivative(A_theta(S.x, S.y, S.z), S.x) - sin(S.y)**3*cos(S.z)*Derivative(A_r(S.x, S.y, S.z), S.y) + sin(S.y)**2*sin(S.z)*Derivative(A_phi(S.x, S.y, S.z), S.y) - sin(S.y)*sin(S.z)*Derivative(A_theta(S.x, S.y, S.z), S.z) - sin(S.y)*cos(S.y)**2*cos(S.z)*Derivative(A_r(S.x, S.y, S.z), S.y) + sin(S.z)*cos(S.y)*Derivative(A_r(S.x, S.y, S.z), S.z))/(S.x*sin(S.y))],\n",
       "[                                                   sin(S.y)*sin(S.z)**2*Derivative(A_phi(S.x, S.y, S.z), S.x) + sin(S.y)*cos(S.z)**2*Derivative(A_phi(S.x, S.y, S.z), S.x) + sin(S.z)**2*cos(S.y)*Derivative(A_phi(S.x, S.y, S.z), S.y)/S.x - sin(S.z)**2*Derivative(A_r(S.x, S.y, S.z), S.z)/S.x - sin(S.z)**2*Derivative(A_theta(S.x, S.y, S.z), S.z)/(S.x*tan(S.y)) + cos(S.y)*cos(S.z)**2*Derivative(A_phi(S.x, S.y, S.z), S.y)/S.x - cos(S.z)**2*Derivative(A_r(S.x, S.y, S.z), S.z)/S.x - cos(S.z)**2*Derivative(A_theta(S.x, S.y, S.z), S.z)/(S.x*tan(S.y))]])"
      ]
     },
     "metadata": {},
     "output_type": "display_data"
    },
    {
     "data": {
      "text/html": [
       "<hr style='border: 2px solid red;'>"
      ],
      "text/plain": [
       "<IPython.core.display.HTML object>"
      ]
     },
     "metadata": {},
     "output_type": "display_data"
    }
   ],
   "source": [
    "import sympy as sp\n",
    "from sympy.vector import CoordSys3D, curl\n",
    "from sympy import Function\n",
    "from IPython.display import display\n",
    "from IPython.display import HTML\n",
    "\n",
    "display(HTML(\"<hr style='border: 2px solid red;'>\"))\n",
    "\n",
    "# 定义直角坐标系\n",
    "N = CoordSys3D('O')\n",
    "\n",
    "# 定义抽象向量场 A\n",
    "A_x = Function('A_x')(N.x, N.y, N.z)\n",
    "A_y = Function('A_y')(N.x, N.y, N.z)\n",
    "A_z = Function('A_z')(N.x, N.y, N.z)\n",
    "A = A_x * N.i + A_y * N.j + A_z * N.k\n",
    "print('向量场 A:')\n",
    "display(A)\n",
    "\n",
    "# 求出旋度 curl(A)\n",
    "curl_A = curl(A)\n",
    "# 打印旋度\n",
    "print('旋度 curl(A):')\n",
    "display(curl_A)\n",
    "\n",
    "display(HTML(\"<hr style='border: 2px solid red;'>\"))\n",
    "\n",
    "# 现在开始变换坐标系，将直角坐标换为球坐标\n",
    "print('我们的目标是，全部替换成球坐标系下的表示，因此 A_x, A_y, A_z 要替换成 A_r, A_theta, A_phi')\n",
    "\n",
    "# 定义球坐标系\n",
    "S = CoordSys3D('S')\n",
    "r, theta, phi = S.base_scalars()\n",
    "\n",
    "# 我们知道要用球坐标系下的梯度表示它\n",
    "A_r = Function('A_r')(S.x, S.y, S.z)\n",
    "A_theta = Function('A_theta')(S.x, S.y, S.z)\n",
    "A_phi = Function('A_phi')(S.x, S.y, S.z)\n",
    "\n",
    "# 定义球坐标系下的向量场 A\n",
    "A = A_r * S.i + A_theta * S.j + A_phi * S.k\n",
    "#print('向量场 A:')\n",
    "#display(A)\n",
    "\n",
    "print('\\n将坐标向量转化成直角坐标系下的表示')\n",
    "A_new_marix = G.T * A.to_matrix(S)\n",
    "display(A_new_marix)\n",
    "\n",
    "print('我们知道如何用球坐标系下的偏导表示直角坐标系下的偏导')\n",
    "# 用球坐标系下的偏导表示直角坐标系下的偏导\n",
    "print('▽A_x, ▽A_y, ▽A_z = ')\n",
    "display(Jacobi_inv.T)\n",
    "print('乘上')\n",
    "grad_A_new = sp.Matrix([gradient(A_r, S).to_matrix(S), gradient(A_theta, S).to_matrix(S), gradient(A_phi, S).to_matrix(S)]).reshape(3, 3).T\n",
    "display(grad_A_new)\n",
    "print('于是得到，用球坐标的偏导表示直角坐标的偏导：')\n",
    "grad_A = Jacobi_inv.T * grad_A_new\n",
    "display(grad_A)\n",
    "\n",
    "# 取出我们所需要的散度\n",
    "print('我们最终需要的偏导矩阵是:')\n",
    "grad_A = grad_A * G.T\n",
    "display(grad_A)\n",
    "print('最终我们得到的旋度：')\n",
    "\n",
    "curl_A_new = sp.Matrix([\n",
    "    grad_A[1,2] - grad_A[2,1], \n",
    "    grad_A[2,0] - grad_A[0,2], \n",
    "    grad_A[0,1] - grad_A[1,0]\n",
    "    ])\n",
    "print('散度：')\n",
    "display(curl_A_new)\n",
    "print('化简：')\n",
    "curl_A_new = sp.simplify(curl_A_new)\n",
    "display(curl_A_new)\n",
    "display(HTML(\"<hr style='border: 2px solid red;'>\"))"
   ]
  },
  {
   "cell_type": "code",
   "execution_count": null,
   "id": "851823bc",
   "metadata": {},
   "outputs": [],
   "source": []
  },
  {
   "cell_type": "code",
   "execution_count": null,
   "id": "a25ba0dd",
   "metadata": {},
   "outputs": [],
   "source": []
  },
  {
   "cell_type": "code",
   "execution_count": null,
   "id": "30572f12",
   "metadata": {},
   "outputs": [],
   "source": []
  },
  {
   "cell_type": "code",
   "execution_count": 14,
   "id": "ec5489f3",
   "metadata": {},
   "outputs": [
    {
     "name": "stdout",
     "output_type": "stream",
     "text": [
      "球坐标系下的梯度公式：\n"
     ]
    },
    {
     "data": {
      "text/latex": [
       "$\\displaystyle \\left[\\begin{matrix}\\frac{\\partial}{\\partial \\mathbf{{x}_{S}}} T{\\left(\\mathbf{{x}_{S}},\\mathbf{{y}_{S}},\\mathbf{{z}_{S}} \\right)}\\\\\\frac{\\frac{\\partial}{\\partial \\mathbf{{y}_{S}}} T{\\left(\\mathbf{{x}_{S}},\\mathbf{{y}_{S}},\\mathbf{{z}_{S}} \\right)}}{\\mathbf{{x}_{S}}}\\\\\\frac{\\frac{\\partial}{\\partial \\mathbf{{z}_{S}}} T{\\left(\\mathbf{{x}_{S}},\\mathbf{{y}_{S}},\\mathbf{{z}_{S}} \\right)}}{\\mathbf{{x}_{S}} \\sin{\\left(\\mathbf{{y}_{S}} \\right)}}\\end{matrix}\\right]$"
      ],
      "text/plain": [
       "Matrix([\n",
       "[               Derivative(T(S.x, S.y, S.z), S.x)],\n",
       "[           Derivative(T(S.x, S.y, S.z), S.y)/S.x],\n",
       "[Derivative(T(S.x, S.y, S.z), S.z)/(S.x*sin(S.y))]])"
      ]
     },
     "metadata": {},
     "output_type": "display_data"
    },
    {
     "name": "stdout",
     "output_type": "stream",
     "text": [
      "球坐标系下的散度公式：\n"
     ]
    },
    {
     "data": {
      "text/latex": [
       "$\\displaystyle \\frac{A_{\\theta}{\\left(\\mathbf{{x}_{S}},\\mathbf{{y}_{S}},\\mathbf{{z}_{S}} \\right)} \\cos{\\left(\\mathbf{{y}_{S}} \\right)} + \\sin{\\left(\\mathbf{{y}_{S}} \\right)} \\frac{\\partial}{\\partial \\mathbf{{y}_{S}}} A_{\\theta}{\\left(\\mathbf{{x}_{S}},\\mathbf{{y}_{S}},\\mathbf{{z}_{S}} \\right)}}{\\mathbf{{x}_{S}} \\sin{\\left(\\mathbf{{y}_{S}} \\right)}} + \\frac{\\frac{\\partial}{\\partial \\mathbf{{z}_{S}}} A_{\\phi}{\\left(\\mathbf{{x}_{S}},\\mathbf{{y}_{S}},\\mathbf{{z}_{S}} \\right)}}{\\mathbf{{x}_{S}} \\sin{\\left(\\mathbf{{y}_{S}} \\right)}} + \\frac{\\mathbf{{x}_{S}}^{2} \\frac{\\partial}{\\partial \\mathbf{{x}_{S}}} A_{r}{\\left(\\mathbf{{x}_{S}},\\mathbf{{y}_{S}},\\mathbf{{z}_{S}} \\right)} + 2 \\mathbf{{x}_{S}} A_{r}{\\left(\\mathbf{{x}_{S}},\\mathbf{{y}_{S}},\\mathbf{{z}_{S}} \\right)}}{\\mathbf{{x}_{S}}^{2}}$"
      ],
      "text/plain": [
       "(A_theta(S.x, S.y, S.z)*cos(S.y) + sin(S.y)*Derivative(A_theta(S.x, S.y, S.z), S.y))/(S.x*sin(S.y)) + Derivative(A_phi(S.x, S.y, S.z), S.z)/(S.x*sin(S.y)) + (S.x**2*Derivative(A_r(S.x, S.y, S.z), S.x) + 2*S.x*A_r(S.x, S.y, S.z))/S.x**2"
      ]
     },
     "metadata": {},
     "output_type": "display_data"
    },
    {
     "name": "stdout",
     "output_type": "stream",
     "text": [
      "球坐标系下的旋度公式：\n"
     ]
    },
    {
     "data": {
      "text/latex": [
       "$\\displaystyle \\left[\\begin{matrix}\\frac{A_{\\phi}{\\left(\\mathbf{{x}_{S}},\\mathbf{{y}_{S}},\\mathbf{{z}_{S}} \\right)} \\cos{\\left(\\mathbf{{y}_{S}} \\right)} + \\sin{\\left(\\mathbf{{y}_{S}} \\right)} \\frac{\\partial}{\\partial \\mathbf{{y}_{S}}} A_{\\phi}{\\left(\\mathbf{{x}_{S}},\\mathbf{{y}_{S}},\\mathbf{{z}_{S}} \\right)} - \\frac{\\partial}{\\partial \\mathbf{{z}_{S}}} A_{\\theta}{\\left(\\mathbf{{x}_{S}},\\mathbf{{y}_{S}},\\mathbf{{z}_{S}} \\right)}}{\\mathbf{{x}_{S}} \\sin{\\left(\\mathbf{{y}_{S}} \\right)}}\\\\\\frac{- \\mathbf{{x}_{S}} \\frac{\\partial}{\\partial \\mathbf{{x}_{S}}} A_{\\phi}{\\left(\\mathbf{{x}_{S}},\\mathbf{{y}_{S}},\\mathbf{{z}_{S}} \\right)} - A_{\\phi}{\\left(\\mathbf{{x}_{S}},\\mathbf{{y}_{S}},\\mathbf{{z}_{S}} \\right)} + \\frac{\\partial}{\\partial \\mathbf{{z}_{S}}} A_{r}{\\left(\\mathbf{{x}_{S}},\\mathbf{{y}_{S}},\\mathbf{{z}_{S}} \\right)}}{\\mathbf{{x}_{S}} \\sin{\\left(\\mathbf{{y}_{S}} \\right)}}\\\\\\frac{\\mathbf{{x}_{S}} \\frac{\\partial}{\\partial \\mathbf{{x}_{S}}} A_{\\theta}{\\left(\\mathbf{{x}_{S}},\\mathbf{{y}_{S}},\\mathbf{{z}_{S}} \\right)} + A_{\\theta}{\\left(\\mathbf{{x}_{S}},\\mathbf{{y}_{S}},\\mathbf{{z}_{S}} \\right)} - \\frac{\\partial}{\\partial \\mathbf{{y}_{S}}} A_{r}{\\left(\\mathbf{{x}_{S}},\\mathbf{{y}_{S}},\\mathbf{{z}_{S}} \\right)}}{\\mathbf{{x}_{S}}}\\end{matrix}\\right]$"
      ],
      "text/plain": [
       "Matrix([\n",
       "[(A_phi(S.x, S.y, S.z)*cos(S.y) + sin(S.y)*Derivative(A_phi(S.x, S.y, S.z), S.y) - Derivative(A_theta(S.x, S.y, S.z), S.z))/(S.x*sin(S.y))],\n",
       "[                 (-S.x*Derivative(A_phi(S.x, S.y, S.z), S.x) - A_phi(S.x, S.y, S.z) + Derivative(A_r(S.x, S.y, S.z), S.z))/(S.x*sin(S.y))],\n",
       "[                         (S.x*Derivative(A_theta(S.x, S.y, S.z), S.x) + A_theta(S.x, S.y, S.z) - Derivative(A_r(S.x, S.y, S.z), S.y))/S.x]])"
      ]
     },
     "metadata": {},
     "output_type": "display_data"
    },
    {
     "name": "stdout",
     "output_type": "stream",
     "text": [
      "球坐标系下的拉普拉斯算子：\n"
     ]
    },
    {
     "data": {
      "text/latex": [
       "$\\displaystyle \\frac{\\mathbf{{x}_{S}}^{2} \\frac{\\partial^{2}}{\\partial \\mathbf{{x}_{S}}^{2}} T{\\left(\\mathbf{{x}_{S}},\\mathbf{{y}_{S}},\\mathbf{{z}_{S}} \\right)} + 2 \\mathbf{{x}_{S}} \\frac{\\partial}{\\partial \\mathbf{{x}_{S}}} T{\\left(\\mathbf{{x}_{S}},\\mathbf{{y}_{S}},\\mathbf{{z}_{S}} \\right)}}{\\mathbf{{x}_{S}}^{2}} + \\frac{\\sin{\\left(\\mathbf{{y}_{S}} \\right)} \\frac{\\partial^{2}}{\\partial \\mathbf{{y}_{S}}^{2}} T{\\left(\\mathbf{{x}_{S}},\\mathbf{{y}_{S}},\\mathbf{{z}_{S}} \\right)} + \\cos{\\left(\\mathbf{{y}_{S}} \\right)} \\frac{\\partial}{\\partial \\mathbf{{y}_{S}}} T{\\left(\\mathbf{{x}_{S}},\\mathbf{{y}_{S}},\\mathbf{{z}_{S}} \\right)}}{\\mathbf{{x}_{S}}^{2} \\sin{\\left(\\mathbf{{y}_{S}} \\right)}} + \\frac{\\frac{\\partial^{2}}{\\partial \\mathbf{{z}_{S}}^{2}} T{\\left(\\mathbf{{x}_{S}},\\mathbf{{y}_{S}},\\mathbf{{z}_{S}} \\right)}}{\\mathbf{{x}_{S}}^{2} \\sin^{2}{\\left(\\mathbf{{y}_{S}} \\right)}}$"
      ],
      "text/plain": [
       "(S.x**2*Derivative(T(S.x, S.y, S.z), (S.x, 2)) + 2*S.x*Derivative(T(S.x, S.y, S.z), S.x))/S.x**2 + (sin(S.y)*Derivative(T(S.x, S.y, S.z), (S.y, 2)) + cos(S.y)*Derivative(T(S.x, S.y, S.z), S.y))/(S.x**2*sin(S.y)) + Derivative(T(S.x, S.y, S.z), (S.z, 2))/(S.x**2*sin(S.y)**2)"
      ]
     },
     "metadata": {},
     "output_type": "display_data"
    }
   ],
   "source": [
    "# 定义球坐标系下的标量场 T\n",
    "T = Function('T')(r, theta, phi)\n",
    "\n",
    "# 计算梯度\n",
    "grad_T_spherical = sp.Matrix([\n",
    "    sp.diff(T, r),\n",
    "    (1/r) * sp.diff(T, theta),\n",
    "    (1/(r * sp.sin(theta))) * sp.diff(T, phi)\n",
    "])\n",
    "\n",
    "print('球坐标系下的梯度公式：')\n",
    "display(grad_T_spherical)\n",
    "\n",
    "# 定义球坐标系下的向量场 A\n",
    "A_r = Function('A_r')(r, theta, phi)\n",
    "A_theta = Function('A_theta')(r, theta, phi)\n",
    "A_phi = Function('A_phi')(r, theta, phi)\n",
    "A = A_r * S.i + A_theta * S.j + A_phi * S.k\n",
    "\n",
    "# 计算散度\n",
    "div_A_spherical = (1/r**2) * sp.diff(r**2 * A_r, r) + (1/(r * sp.sin(theta))) * sp.diff(sp.sin(theta) * A_theta, theta) + (1/(r * sp.sin(theta))) * sp.diff(A_phi, phi)\n",
    "\n",
    "print('球坐标系下的散度公式：')\n",
    "display(div_A_spherical)\n",
    "\n",
    "# 计算旋度\n",
    "curl_A_spherical = sp.Matrix([\n",
    "    (1/(r * sp.sin(theta))) * (sp.diff(A_phi * sp.sin(theta), theta) - sp.diff(A_theta, phi)),\n",
    "    (1/r) * (1/sp.sin(theta)) * (sp.diff(A_r, phi) - sp.diff(r * A_phi, r)),\n",
    "    (1/r) * (sp.diff(r * A_theta, r) - sp.diff(A_r, theta))\n",
    "])\n",
    "\n",
    "print('球坐标系下的旋度公式：')\n",
    "display(curl_A_spherical)\n",
    "\n",
    "# 计算拉普拉斯算子\n",
    "laplacian_T_spherical = (1/r**2) * sp.diff(r**2 * sp.diff(T, r), r) + (1/(r**2 * sp.sin(theta))) * sp.diff(sp.sin(theta) * sp.diff(T, theta), theta) + (1/(r**2 * sp.sin(theta)**2)) * sp.diff(T, phi, phi)\n",
    "\n",
    "print('球坐标系下的拉普拉斯算子：')\n",
    "display(laplacian_T_spherical)"
   ]
  },
  {
   "cell_type": "markdown",
   "id": "949073d1",
   "metadata": {},
   "source": [
    "### 习题1.38\n",
    "1) 对函数 $\\boldsymbol v_1 = r^2 \\hat{\\boldsymbol r}$ 验证散度定理，体积选为中心在原点，半径为 $R$ 的球体。\n",
    "2) 同样对函数 $\\boldsymbol v_2 = (1/ r^2) \\hat{\\boldsymbol r}$ 计算(如果你对结果感到惊讶， 回顾习题1.16)。\n"
   ]
  }
 ],
 "metadata": {
  "kernelspec": {
   "display_name": "d2l",
   "language": "python",
   "name": "python3"
  },
  "language_info": {
   "codemirror_mode": {
    "name": "ipython",
    "version": 3
   },
   "file_extension": ".py",
   "mimetype": "text/x-python",
   "name": "python",
   "nbconvert_exporter": "python",
   "pygments_lexer": "ipython3",
   "version": "3.8.19"
  }
 },
 "nbformat": 4,
 "nbformat_minor": 5
}
