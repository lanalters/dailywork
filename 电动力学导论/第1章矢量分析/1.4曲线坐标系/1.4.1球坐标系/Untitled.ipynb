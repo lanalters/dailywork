{
 "cells": [
  {
   "cell_type": "markdown",
   "id": "7f82b0a5-96c1-4c17-a40e-32f28e56dc23",
   "metadata": {},
   "source": [
    "# 1.4.1球坐标系"
   ]
  },
  {
   "cell_type": "markdown",
   "id": "b7b2e95a-2cb9-44be-94c4-db2096118f4d",
   "metadata": {},
   "source": [
    "图1.36给出了一个点 $P$ 的球坐标 $(r,\\theta,\\varphi)$ 的定义；$\\boldsymbol r$ 是到原点的距离(位置矢量的大小)，$\\theta$ (位置矢量与 $z$ 轴的夹角)称为极角，$\\varphi$ (位置矢量在 $xy$ 平面的投影与 $x$ 轴的夹角)称为方位角。\n",
    "由图可以得出 $(r,\\theta,\\varphi)$ 与直角坐标 $(x,y,z)$ 的关系:\n",
    "$$\n",
    "  x = r\\sin\\theta\\cos\\varphi, y = r\\sin\\theta\\sin\\varphi, z = r\\cos\\theta\n",
    "  \\tag{1.62}\n",
    "$$"
   ]
  },
  {
   "cell_type": "markdown",
   "id": "fcfae772-5aca-4bf7-b9d0-e598b6a07076",
   "metadata": {},
   "source": [
    "### 用直角坐标表示球坐标的坐标轴"
   ]
  },
  {
   "cell_type": "code",
   "execution_count": 66,
   "id": "67dca3ba-c5d6-47f4-89c1-3afe40a28f30",
   "metadata": {},
   "outputs": [
    {
     "name": "stdout",
     "output_type": "stream",
     "text": [
      "直角坐标到球坐标：\n",
      " r = sqrt(C.x**2 + C.y**2 + C.z**2)\n",
      " theta = acos(C.z/sqrt(C.x**2 + C.y**2 + C.z**2))\n",
      " phi = atan2(C.y, C.x)\n"
     ]
    }
   ],
   "source": [
    "import sympy as sp\n",
    "from sympy.vector import CoordSys3D\n",
    "\n",
    "# 创建一个三维坐标系\n",
    "C = CoordSys3D('C')\n",
    "x, y, z = C.x, C.y, C.z\n",
    "\n",
    "# 直角坐标到球坐标的转换公式\n",
    "\n",
    "r_norm = (x * S.i + y * S.j + z * S.k).normalize()\n",
    "r_norm = sp.simplify(r_norm)\n",
    "r_expr = r.magnitude()\n",
    "\n",
    "theta_norm = (x * z * S.i + y * z * S.j - (x**2 + y**2) * S.k).normalize()\n",
    "theta_expr = sp.acos(z / r_magn)\n",
    "theta_norm = sp.simplify(theta_norm)\n",
    "\n",
    "phi_norm = (-y * S.i + x * S.j).normalize()\n",
    "phi_norm = sp.simplify(phi_norm)\n",
    "phi_expr = sp.atan2(y, x)         # φ 是方位角\n",
    "\n",
    "# 打印直角坐标到球坐标的转换\n",
    "print(f\"直角坐标到球坐标：\\n r = {r_expr}\\n theta = {theta_expr}\\n phi = {phi_expr}\")"
   ]
  },
  {
   "cell_type": "markdown",
   "id": "a04ba841-3aba-48b7-aa14-589706ac12c4",
   "metadata": {},
   "source": [
    "### 用球坐标表示直角坐标系的坐标轴"
   ]
  },
  {
   "cell_type": "code",
   "execution_count": 69,
   "id": "18b0e1a0-c799-4ef6-be77-6ff1b4834191",
   "metadata": {},
   "outputs": [
    {
     "name": "stdout",
     "output_type": "stream",
     "text": [
      "\n",
      "球坐标到直角坐标：\n",
      " x = S.x*sin(S.y)*cos(S.z)\n",
      " y = S.x*sin(S.y)*sin(S.z)\n",
      " z = S.x*cos(S.y)\n"
     ]
    }
   ],
   "source": [
    "import sympy as sp\n",
    "from sympy.vector import CoordSys3D\n",
    "\n",
    "# 创建极坐标系\n",
    "S = CoordSys3D('S')\n",
    "r, theta, phi = S.x, S.y, S.z\n",
    "\n",
    "# 球坐标到直角坐标的转换公式\n",
    "\n",
    "x_expr = r * sp.sin(theta) * sp.cos(phi)\n",
    "y_expr = r * sp.sin(theta) * sp.sin(phi)\n",
    "z_expr = r * sp.cos(theta)\n",
    "\n",
    "# 打印球坐标到直角坐标的转换\n",
    "print(f\"\\n球坐标到直角坐标：\\n x = {x_expr}\\n y = {y_expr}\\n z = {z_expr}\")"
   ]
  },
  {
   "cell_type": "markdown",
   "id": "49dbd4a6-3364-4d1e-b2bd-f84764dc1318",
   "metadata": {},
   "source": [
    "图1.36 也给出了指向相应坐标增加方向的三个单位矢量 $\\hat{\\boldsymbol r},\\hat{\\boldsymbol \\theta}, \\hat{\\boldsymbol \\varphi}$。\n",
    "它们构成一个正交(相互垂直)基，任何矢量 $\\boldsymbol A$ 都能以通常的方式用这三个单位矢量表示：\n",
    "$$\n",
    "  \\boldsymbol A = A_r \\hat{\\boldsymbol r} + A_\\theta \\hat{\\boldsymbol \\theta} + A_\\phi \\hat{\\boldsymbol \\phi}\n",
    "  \\tag{1.63}\n",
    "$$"
   ]
  },
  {
   "cell_type": "markdown",
   "id": "5f2805b9-149d-4c4e-9743-70261cdd4798",
   "metadata": {},
   "source": [
    "#### 我们可以验证这个事儿"
   ]
  },
  {
   "cell_type": "code",
   "execution_count": 104,
   "id": "ad738968-902a-4547-a503-9dc16da8623c",
   "metadata": {},
   "outputs": [
    {
     "name": "stdout",
     "output_type": "stream",
     "text": [
      "r, theta, phi 单位向量的形式是这样的\n",
      "r = (C.x/sqrt(C.x**2 + C.y**2 + C.z**2))*C.i + (C.y/sqrt(C.x**2 + C.y**2 + C.z**2))*C.j + (C.z/sqrt(C.x**2 + C.y**2 + C.z**2))*C.k\n",
      "theta = (C.x*C.z/sqrt(C.x**2*C.z**2 + C.y**2*C.z**2 + (C.x**2 + C.y**2)**2))*C.i + (C.y*C.z/sqrt(C.x**2*C.z**2 + C.y**2*C.z**2 + (C.x**2 + C.y**2)**2))*C.j + ((-C.x**2 - C.y**2)/sqrt(C.x**2*C.z**2 + C.y**2*C.z**2 + (C.x**2 + C.y**2)**2))*C.k\n",
      "phi = (-C.y/sqrt(C.x**2 + C.y**2))*C.i + (C.x/sqrt(C.x**2 + C.y**2))*C.j\n"
     ]
    }
   ],
   "source": [
    "import sympy as sp\n",
    "from sympy.vector import CoordSys3D\n",
    "\n",
    "# 创建一个三维坐标系\n",
    "C = CoordSys3D('C')\n",
    "x, y, z = C.x, C.y, C.z\n",
    "\n",
    "# 直角坐标到球坐标的转换公式\n",
    "r_norm = (x * C.i + y * C.j + z * C.k).normalize()\n",
    "r_norm = sp.simplify(r_norm)\n",
    "r_expr = (x * C.i + y * C.j + z * C.k).magnitude()\n",
    "\n",
    "theta_norm = (x * z * C.i + y * z * C.j - (x**2 + y**2) * C.k).normalize()\n",
    "theta_norm = sp.simplify(theta_norm)\n",
    "theta_expr = sp.acos(z / r_expr)\n",
    "\n",
    "\n",
    "phi_norm = (-y * C.i + x * C.j).normalize()\n",
    "phi_norm = sp.simplify(phi_norm)\n",
    "phi_expr = sp.atan2(y, x)         # φ 是方位角\n",
    "\n",
    "print('r, theta, phi 单位向量的形式是这样的')\n",
    "print('r =', r_norm)\n",
    "print('theta =', theta_norm)\n",
    "print('phi =', phi_norm)"
   ]
  },
  {
   "cell_type": "code",
   "execution_count": 105,
   "id": "90651d90-8061-46e7-8b02-6d3def923b0c",
   "metadata": {},
   "outputs": [
    {
     "name": "stdout",
     "output_type": "stream",
     "text": [
      "r · theta =  0\n",
      "r · phi =  0\n",
      "theta · phi =  0\n"
     ]
    }
   ],
   "source": [
    "print('r · theta = ',sp.simplify( r_norm & theta_norm))\n",
    "print('r · phi = ', sp.simplify( r_norm & phi_norm))\n",
    "print('theta · phi = ', sp.simplify(theta_norm & phi_norm))"
   ]
  },
  {
   "cell_type": "code",
   "execution_count": null,
   "id": "53defc23-d1da-4af2-b81b-839151791bcc",
   "metadata": {},
   "outputs": [],
   "source": []
  },
  {
   "cell_type": "markdown",
   "id": "d916548f-5315-4950-8b59-54c54a8d8a95",
   "metadata": {},
   "source": [
    "用直角系的单位矢量表示，有\n",
    "$$\n",
    "\\begin{split}\n",
    "  \\hat{\\boldsymbol r} = & \\sin\\theta \\cos\\phi \\hat{\\boldsymbol x} + \\sin\\theta \\sin\\phi \\hat{\\boldsymbol y} + \\cos\\theta \\hat{\\boldsymbol z} \\\\\n",
    "  \\hat{\\boldsymbol \\theta} = & \\cos\\theta \\cos\\phi \\hat{\\boldsymbol x} + \\sin\\theta \\cos\\phi \\hat{\\boldsymbol y} - \\sin\\theta\\hat{\\boldsymbol z} \\\\\n",
    "  \\hat{\\boldsymbol \\phi} = & -\\sin\\phi \\hat{\\boldsymbol x} + \\cos\\phi \\hat{\\boldsymbol y}\n",
    "\\end{split}\n",
    "\\tag{1.64}\n",
    "$$"
   ]
  },
  {
   "cell_type": "markdown",
   "id": "d01e672b-bb9a-473b-9ccf-297b6db344e9",
   "metadata": {},
   "source": [
    "我们也可以验证这个事儿："
   ]
  },
  {
   "cell_type": "code",
   "execution_count": 137,
   "id": "136b5f5f-8f06-4ed2-a36d-309471c086c7",
   "metadata": {},
   "outputs": [
    {
     "name": "stdout",
     "output_type": "stream",
     "text": [
      "(S.x*sin(S.y)*cos(S.z)/sqrt(S.x**2))*C.i + (S.x*sin(S.y)*sin(S.z)/sqrt(S.x**2))*C.j + (S.x*cos(S.y)/sqrt(S.x**2))*C.k\n",
      "(sqrt(2)*S.x**2*(sin(2*S.y - S.z) + sin(2*S.y + S.z))/(4*sqrt(S.x**4*(1 - cos(2*S.y)))))*C.i + (sqrt(2)*S.x**2*(cos(2*S.y - S.z) - cos(2*S.y + S.z))/(4*sqrt(S.x**4*(1 - cos(2*S.y)))))*C.j + (-S.x**2*sin(S.y)**2/sqrt(S.x**4*sin(S.y)**2))*C.k\n",
      "(-S.x*sin(S.y)*sin(S.z)/sqrt(S.x**2*sin(S.y)**2))*C.i + (S.x*sin(S.y)*cos(S.z)/sqrt(S.x**2*sin(S.y)**2))*C.j\n"
     ]
    }
   ],
   "source": [
    "import sympy as sp\n",
    "from sympy.vector import CoordSys3D\n",
    "\n",
    "# 创建极坐标系\n",
    "S = CoordSys3D('S')\n",
    "r, theta, phi = S.x, S.y, S.z\n",
    "\n",
    "# 球坐标到直角坐标的转换公式\n",
    "\n",
    "x_expr = r * sp.sin(theta) * sp.cos(phi)\n",
    "y_expr = r * sp.sin(theta) * sp.sin(phi)\n",
    "z_expr = r * sp.cos(theta)\n",
    "\n",
    "# 打印球坐标到直角坐标的转换\n",
    "# print(f\"\\n球坐标到直角坐标：\\n x = {x_expr}\\n y = {y_expr}\\n z = {z_expr}\")\n",
    "\n",
    "print( sp.simplify(r_norm.subs({x :r * sp.sin(theta) * sp.cos(phi), y : r * sp.sin(theta) * sp.sin(phi), z : r * sp.cos(theta)})) )\n",
    "print( sp.simplify(theta_norm.subs({x :r * sp.sin(theta) * sp.cos(phi), y : r * sp.sin(theta) * sp.sin(phi), z : r * sp.cos(theta)})) )\n",
    "print( sp.simplify(phi_norm.subs({x :r * sp.sin(theta) * sp.cos(phi), y : r * sp.sin(theta) * sp.sin(phi), z : r * sp.cos(theta)})))"
   ]
  },
  {
   "cell_type": "code",
   "execution_count": 134,
   "id": "9425e17f-fc09-4531-9dcf-97bb8526d33c",
   "metadata": {},
   "outputs": [
    {
     "data": {
      "text/latex": [
       "$\\displaystyle \\left(\\frac{\\mathbf{{x}_{S}} \\sin{\\left(\\mathbf{{y}_{S}} \\right)} \\cos{\\left(\\mathbf{{z}_{S}} \\right)}}{\\sqrt{\\mathbf{{x}_{S}}^{2}}}\\right)\\mathbf{\\hat{i}_{C}} + \\left(\\frac{\\mathbf{{x}_{S}} \\sin{\\left(\\mathbf{{y}_{S}} \\right)} \\sin{\\left(\\mathbf{{z}_{S}} \\right)}}{\\sqrt{\\mathbf{{x}_{S}}^{2}}}\\right)\\mathbf{\\hat{j}_{C}} + \\left(\\frac{\\mathbf{{x}_{S}} \\cos{\\left(\\mathbf{{y}_{S}} \\right)}}{\\sqrt{\\mathbf{{x}_{S}}^{2}}}\\right)\\mathbf{\\hat{k}_{C}}$"
      ],
      "text/plain": [
       "(S.x*sin(S.y)*cos(S.z)/sqrt(S.x**2))*C.i + (S.x*sin(S.y)*sin(S.z)/sqrt(S.x**2))*C.j + (S.x*cos(S.y)/sqrt(S.x**2))*C.k"
      ]
     },
     "execution_count": 134,
     "metadata": {},
     "output_type": "execute_result"
    }
   ],
   "source": [
    "sp.simplify(r_norm.subs({x :r * sp.sin(theta) * sp.cos(phi), y : r * sp.sin(theta) * sp.sin(phi), z : r * sp.cos(theta)}))"
   ]
  },
  {
   "cell_type": "code",
   "execution_count": 140,
   "id": "f10e19b6-0547-4fc5-8a98-9c946fbc78a4",
   "metadata": {},
   "outputs": [
    {
     "data": {
      "text/latex": [
       "$\\displaystyle \\left(\\frac{\\sqrt{2} \\mathbf{{x}_{S}}^{2} \\left(\\sin{\\left(2 \\mathbf{{y}_{S}} - \\mathbf{{z}_{S}} \\right)} + \\sin{\\left(2 \\mathbf{{y}_{S}} + \\mathbf{{z}_{S}} \\right)}\\right)}{4 \\sqrt{\\mathbf{{x}_{S}}^{4} \\cdot \\left(1 - \\cos{\\left(2 \\mathbf{{y}_{S}} \\right)}\\right)}}\\right)\\mathbf{\\hat{i}_{C}} + \\left(\\frac{\\sqrt{2} \\mathbf{{x}_{S}}^{2} \\left(\\cos{\\left(2 \\mathbf{{y}_{S}} - \\mathbf{{z}_{S}} \\right)} - \\cos{\\left(2 \\mathbf{{y}_{S}} + \\mathbf{{z}_{S}} \\right)}\\right)}{4 \\sqrt{\\mathbf{{x}_{S}}^{4} \\cdot \\left(1 - \\cos{\\left(2 \\mathbf{{y}_{S}} \\right)}\\right)}}\\right)\\mathbf{\\hat{j}_{C}} + \\left(- \\frac{\\mathbf{{x}_{S}}^{2} \\sin^{2}{\\left(\\mathbf{{y}_{S}} \\right)}}{\\sqrt{\\mathbf{{x}_{S}}^{4} \\sin^{2}{\\left(\\mathbf{{y}_{S}} \\right)}}}\\right)\\mathbf{\\hat{k}_{C}}$"
      ],
      "text/plain": [
       "(sqrt(2)*S.x**2*(sin(2*S.y - S.z) + sin(2*S.y + S.z))/(4*sqrt(S.x**4*(1 - cos(2*S.y)))))*C.i + (sqrt(2)*S.x**2*(cos(2*S.y - S.z) - cos(2*S.y + S.z))/(4*sqrt(S.x**4*(1 - cos(2*S.y)))))*C.j + (-S.x**2*sin(S.y)**2/sqrt(S.x**4*sin(S.y)**2))*C.k"
      ]
     },
     "execution_count": 140,
     "metadata": {},
     "output_type": "execute_result"
    }
   ],
   "source": [
    "sp.simplify((theta_norm.subs({x :r * sp.sin(theta) * sp.cos(phi), y : r * sp.sin(theta) * sp.sin(phi), z : r * sp.cos(theta)})))"
   ]
  },
  {
   "cell_type": "code",
   "execution_count": 139,
   "id": "f9841177-0836-4eb5-84c9-eb94a65eabe8",
   "metadata": {},
   "outputs": [
    {
     "data": {
      "text/latex": [
       "$\\displaystyle \\left(- \\frac{\\mathbf{{x}_{S}} \\sin{\\left(\\mathbf{{y}_{S}} \\right)} \\sin{\\left(\\mathbf{{z}_{S}} \\right)}}{\\sqrt{\\mathbf{{x}_{S}}^{2} \\sin^{2}{\\left(\\mathbf{{y}_{S}} \\right)}}}\\right)\\mathbf{\\hat{i}_{C}} + \\left(\\frac{\\mathbf{{x}_{S}} \\sin{\\left(\\mathbf{{y}_{S}} \\right)} \\cos{\\left(\\mathbf{{z}_{S}} \\right)}}{\\sqrt{\\mathbf{{x}_{S}}^{2} \\sin^{2}{\\left(\\mathbf{{y}_{S}} \\right)}}}\\right)\\mathbf{\\hat{j}_{C}}$"
      ],
      "text/plain": [
       "(-S.x*sin(S.y)*sin(S.z)/sqrt(S.x**2*sin(S.y)**2))*C.i + (S.x*sin(S.y)*cos(S.z)/sqrt(S.x**2*sin(S.y)**2))*C.j"
      ]
     },
     "execution_count": 139,
     "metadata": {},
     "output_type": "execute_result"
    }
   ],
   "source": [
    "sp.simplify(phi_norm.subs({x :r * sp.sin(theta) * sp.cos(phi), y : r * sp.sin(theta) * sp.sin(phi), z : r * sp.cos(theta)}))"
   ]
  },
  {
   "cell_type": "markdown",
   "id": "6e174dec-74e8-43a0-a50c-cdcd4caad3b5",
   "metadata": {},
   "source": [
    "这里的式子之所以这么复杂，是因为它不知道 r > 0, cos theta >= 0"
   ]
  },
  {
   "cell_type": "code",
   "execution_count": null,
   "id": "029b75aa-acde-479c-a579-cecff4e60c19",
   "metadata": {},
   "outputs": [],
   "source": []
  },
  {
   "cell_type": "code",
   "execution_count": null,
   "id": "ef9456b4-bb63-40b5-9d8e-ddba8bf544bf",
   "metadata": {},
   "outputs": [],
   "source": []
  },
  {
   "cell_type": "markdown",
   "id": "3f460414-8519-452e-837d-237e02c891a7",
   "metadata": {},
   "source": [
    "到现在为止，我们仅讨论了球坐标的几何。\n",
    "现在让我们把矢量导数(梯度、散度、旋度、拉普拉斯算子)用 $r,\\theta,\\phi$ 写出。"
   ]
  },
  {
   "cell_type": "markdown",
   "id": "21cff30d-e8d7-4e36-a46d-b16b6e9d6cf9",
   "metadata": {},
   "source": [
    "原则上这是直截了当的，对梯度情况有\n",
    "$$\n",
    "  \\nabla T =\n",
    "  \\left( \\frac{\\partial T}{\\partial x} \\right)  \\hat{\\boldsymbol x} + \\left( \\frac{\\partial T}{\\partial y} \\right)  \\hat{\\boldsymbol y} + \\left( \\frac{\\partial T}{\\partial z} \\right)  \\hat{\\boldsymbol z}\n",
    "$$\n",
    "我们首先利用复合导数求导规则重新表示偏导数，例如\n",
    "$$\n",
    "  \\frac{\\partial T}{\\partial x} = \\frac{\\partial T}{\\partial r} \\frac{\\partial r}{\\partial x} + \\frac{\\partial T}{\\partial \\theta} \\frac{\\partial \\theta}{\\partial x} + \\frac{\\partial T}{\\partial \\phi} \\frac{\\partial \\phi}{\\partial x} \n",
    "$$\n",
    "圆括弧中求导项可由式(1.62)——或者它们的逆变式(习题1.36)求出。\n",
    "然后我们对 $\\partial T/\\partial y,\\partial T/\\partial z$ 同样作变换。\n",
    "最后，我们把 $\\hat{\\boldsymbol x},\\hat{\\boldsymbol y}, \\hat{\\boldsymbol z}$ 用 $\\hat{\\boldsymbol r},\\hat{\\boldsymbol \\theta},\\hat{\\boldsymbol \\phi}$ 代换(习题1.37)。\n"
   ]
  },
  {
   "cell_type": "code",
   "execution_count": null,
   "id": "0a1eeb1c-26e8-4201-bd8a-d1dd0a6ab1ad",
   "metadata": {},
   "outputs": [],
   "source": []
  }
 ],
 "metadata": {
  "kernelspec": {
   "display_name": "Python 3 (ipykernel)",
   "language": "python",
   "name": "python3"
  },
  "language_info": {
   "codemirror_mode": {
    "name": "ipython",
    "version": 3
   },
   "file_extension": ".py",
   "mimetype": "text/x-python",
   "name": "python",
   "nbconvert_exporter": "python",
   "pygments_lexer": "ipython3",
   "version": "3.8.19"
  }
 },
 "nbformat": 4,
 "nbformat_minor": 5
}
