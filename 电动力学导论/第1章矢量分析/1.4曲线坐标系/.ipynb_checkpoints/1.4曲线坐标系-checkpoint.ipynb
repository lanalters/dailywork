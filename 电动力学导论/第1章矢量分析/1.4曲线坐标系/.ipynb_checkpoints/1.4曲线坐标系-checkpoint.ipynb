{
 "cells": [
  {
   "cell_type": "markdown",
   "id": "7b30f641-e5a3-42cc-9a50-5d303e472ab8",
   "metadata": {},
   "source": [
    "# 1.4曲线坐标系\n"
   ]
  },
  {
   "cell_type": "markdown",
   "id": "640e251b-f314-41fe-8ce6-05360fbc4e34",
   "metadata": {},
   "source": [
    "这一节我要做的事情是，符号推演，记下来各种变换的结果。"
   ]
  }
 ],
 "metadata": {
  "kernelspec": {
   "display_name": "Python 3 (ipykernel)",
   "language": "python",
   "name": "python3"
  },
  "language_info": {
   "codemirror_mode": {
    "name": "ipython",
    "version": 3
   },
   "file_extension": ".py",
   "mimetype": "text/x-python",
   "name": "python",
   "nbconvert_exporter": "python",
   "pygments_lexer": "ipython3",
   "version": "3.8.19"
  }
 },
 "nbformat": 4,
 "nbformat_minor": 5
}
