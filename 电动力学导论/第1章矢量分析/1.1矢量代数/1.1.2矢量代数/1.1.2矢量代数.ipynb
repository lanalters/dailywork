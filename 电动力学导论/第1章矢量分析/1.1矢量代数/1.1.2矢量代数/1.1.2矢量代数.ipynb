{
 "cells": [
  {
   "cell_type": "markdown",
   "id": "318680dd-1e3c-45a1-8711-55f0044e6243",
   "metadata": {},
   "source": [
    "# 1.1.2 矢量代数：分量形式"
   ]
  },
  {
   "cell_type": "markdown",
   "id": "2d90cb07-8e3d-42bd-a3ff-afb5d4c2b328",
   "metadata": {},
   "source": [
    "我所需要面对的主要问题是如何利用 python 做矢量运算。\n",
    "其次，我应当养成良好的使用习惯和命名习惯，以便将来整理，这就需要复习和整理。"
   ]
  },
  {
   "cell_type": "markdown",
   "id": "d62a8cf8-87b7-4d29-90ce-7dbe6885c16b",
   "metadata": {},
   "source": [
    "在这一节，我学会了如何用 sympy 包定义抽象常向量，其各分量是未定元（补充一句，高等代数里的未定元的概念如此好用）。\n",
    "以后如果函数或者量没有具体的表达式，我将称其为抽象的，否则称为具体的。\n",
    "有两种定义方法，一种是利用 Matrix 函数将矢量定义为列矩阵，一种是将矢量定义为坐标基向量的函数。\n",
    "这两种方法都很重要吗，可以相互转化，因为坐标基向量的函数可以转化为矩阵形式。"
   ]
  },
  {
   "cell_type": "markdown",
   "id": "70c424a6",
   "metadata": {},
   "source": [
    "### 使用 `sp.Matrix` 定义矢量为矩阵"
   ]
  },
  {
   "cell_type": "code",
   "execution_count": 2,
   "id": "225b3e9e-f466-43af-bf09-55410ca76427",
   "metadata": {},
   "outputs": [
    {
     "name": "stdout",
     "output_type": "stream",
     "text": [
      "向量点积:\n"
     ]
    },
    {
     "data": {
      "text/latex": [
       "$\\displaystyle A_{x} B_{x} + A_{y} B_{y} + A_{z} B_{z}$"
      ],
      "text/plain": [
       "A_x*B_x + A_y*B_y + A_z*B_z"
      ]
     },
     "metadata": {},
     "output_type": "display_data"
    },
    {
     "name": "stdout",
     "output_type": "stream",
     "text": [
      "向量叉乘:\n"
     ]
    },
    {
     "data": {
      "text/latex": [
       "$\\displaystyle \\left[\\begin{matrix}A_{y} B_{z} - A_{z} B_{y}\\\\- A_{x} B_{z} + A_{z} B_{x}\\\\A_{x} B_{y} - A_{y} B_{x}\\end{matrix}\\right]$"
      ],
      "text/plain": [
       "Matrix([\n",
       "[ A_y*B_z - A_z*B_y],\n",
       "[-A_x*B_z + A_z*B_x],\n",
       "[ A_x*B_y - A_y*B_x]])"
      ]
     },
     "metadata": {},
     "output_type": "display_data"
    },
    {
     "name": "stdout",
     "output_type": "stream",
     "text": [
      "向量数乘结果:\n"
     ]
    },
    {
     "data": {
      "text/latex": [
       "$\\displaystyle \\left[\\begin{matrix}A_{x} k\\\\A_{y} k\\\\A_{z} k\\end{matrix}\\right]$"
      ],
      "text/plain": [
       "Matrix([\n",
       "[A_x*k],\n",
       "[A_y*k],\n",
       "[A_z*k]])"
      ]
     },
     "metadata": {},
     "output_type": "display_data"
    },
    {
     "name": "stdout",
     "output_type": "stream",
     "text": [
      "矩阵乘法结果:\n"
     ]
    },
    {
     "data": {
      "text/latex": [
       "$\\displaystyle \\left[\\begin{matrix}A_{x} B_{x} & A_{x} B_{y} & A_{x} B_{z}\\\\A_{y} B_{x} & A_{y} B_{y} & A_{y} B_{z}\\\\A_{z} B_{x} & A_{z} B_{y} & A_{z} B_{z}\\end{matrix}\\right]$"
      ],
      "text/plain": [
       "Matrix([\n",
       "[A_x*B_x, A_x*B_y, A_x*B_z],\n",
       "[A_y*B_x, A_y*B_y, A_y*B_z],\n",
       "[A_z*B_x, A_z*B_y, A_z*B_z]])"
      ]
     },
     "metadata": {},
     "output_type": "display_data"
    }
   ],
   "source": [
    "import sympy as sp\n",
    "from IPython.display import display\n",
    "\n",
    "# 定义符号变量，类型sympy.core.symbol.Symbol\n",
    "A_x, A_y, A_z, B_x, B_y, B_z = sp.symbols('A_x A_y A_z B_x B_y B_z')\n",
    "\n",
    "# 定义两个向量，类型sympy.matrices.dense.MutableDenseMatrix\n",
    "vector_a = sp.Matrix([A_x, A_y, A_z])\n",
    "vector_b = sp.Matrix([B_x, B_y, B_z])\n",
    "\n",
    "# 计算点积\n",
    "dot_product = vector_a.dot(vector_b)\n",
    "print(\"向量点积:\")\n",
    "display(dot_product)\n",
    "# 计算叉乘\n",
    "cross_product = vector_a.cross(vector_b)\n",
    "print(\"向量叉乘:\")\n",
    "display(cross_product)\n",
    "\n",
    "# 向量数乘\n",
    "k = sp.symbols('k')  # 定义数乘的标量\n",
    "vector_scalar_mult = k * vector_a\n",
    "print(\"向量数乘结果:\")\n",
    "display(vector_scalar_mult)\n",
    "\n",
    "# 计算矩阵乘法\n",
    "matrix_mult = vector_a * vector_b.T # sympy.matrices.dense.MutableDenseMatrix\n",
    "print(\"矩阵乘法结果:\")\n",
    "display(matrix_mult)"
   ]
  },
  {
   "cell_type": "markdown",
   "id": "27909e39-b14f-4efc-a069-bd65051e1156",
   "metadata": {},
   "source": [
    "### 还有一种办法是先定义三维坐标系，由坐标向量线性组合得到抽象向量"
   ]
  },
  {
   "cell_type": "code",
   "execution_count": 3,
   "id": "66f2bf77-fb14-4cae-8ff5-e47dcbd8d47f",
   "metadata": {},
   "outputs": [
    {
     "name": "stdout",
     "output_type": "stream",
     "text": [
      "向量点积:\n"
     ]
    },
    {
     "data": {
      "text/latex": [
       "$\\displaystyle A_{x} B_{x} + A_{y} B_{y} + A_{z} B_{z}$"
      ],
      "text/plain": [
       "A_x*B_x + A_y*B_y + A_z*B_z"
      ]
     },
     "metadata": {},
     "output_type": "display_data"
    },
    {
     "name": "stdout",
     "output_type": "stream",
     "text": [
      "向量叉乘:\n"
     ]
    },
    {
     "data": {
      "text/latex": [
       "$\\displaystyle \\left(A_{y} B_{z} - A_{z} B_{y}\\right)\\mathbf{\\hat{i}_{N}} + \\left(- A_{x} B_{z} + A_{z} B_{x}\\right)\\mathbf{\\hat{j}_{N}} + \\left(A_{x} B_{y} - A_{y} B_{x}\\right)\\mathbf{\\hat{k}_{N}}$"
      ],
      "text/plain": [
       "(A_y*B_z - A_z*B_y)*N.i + (-A_x*B_z + A_z*B_x)*N.j + (A_x*B_y - A_y*B_x)*N.k"
      ]
     },
     "metadata": {},
     "output_type": "display_data"
    },
    {
     "name": "stdout",
     "output_type": "stream",
     "text": [
      "向量数乘结果:\n"
     ]
    },
    {
     "data": {
      "text/latex": [
       "$\\displaystyle \\left(A_{x} k\\right)\\mathbf{\\hat{i}_{N}} + \\left(A_{y} k\\right)\\mathbf{\\hat{j}_{N}} + \\left(A_{z} k\\right)\\mathbf{\\hat{k}_{N}}$"
      ],
      "text/plain": [
       "A_x*k*N.i + A_y*k*N.j + A_z*k*N.k"
      ]
     },
     "metadata": {},
     "output_type": "display_data"
    }
   ],
   "source": [
    "import sympy as sp\n",
    "from sympy.vector import CoordSys3D\n",
    "from IPython.display import display\n",
    "\n",
    "# 创建一个三维坐标系\n",
    "N = CoordSys3D('N') # sympy.vector.coordsysrect.CoordSys3D\n",
    "\n",
    "# 定义符号变量\n",
    "A_x, A_y, A_z, B_x, B_y, B_z = sp.symbols('A_x A_y A_z B_x B_y B_z') # sympy.core.symbol.Symbol\n",
    "\n",
    "# 定义两个向量\n",
    "vector_a = A_x * N.i + A_y * N.j + A_z * N.k # sympy.vector.vector.VectorAdd\n",
    "vector_b = B_x * N.i + B_y * N.j + B_z * N.k\n",
    "\n",
    "# 计算点积\n",
    "dot_product = vector_a & vector_b # sympy.core.add.Add\n",
    "print(\"向量点积:\") \n",
    "display(dot_product)\n",
    "\n",
    "# 计算叉乘\n",
    "cross_product = vector_a ^ vector_b # sympy.vector.vector.VectorAdd\n",
    "print(\"向量叉乘:\")\n",
    "display(cross_product)\n",
    "\n",
    "k = sp.symbols('k')  # 定义数乘的标量\n",
    "# 向量数乘\n",
    "vector_scalar_mult = k * vector_a # sympy.vector.vector.VectorAdd\n",
    "print(\"向量数乘结果:\")\n",
    "display(vector_scalar_mult)"
   ]
  },
  {
   "cell_type": "markdown",
   "id": "f95a9ab2",
   "metadata": {},
   "source": [
    "## 这两种办法可以结合"
   ]
  },
  {
   "cell_type": "code",
   "execution_count": 3,
   "id": "c86dfaa1",
   "metadata": {},
   "outputs": [
    {
     "name": "stdout",
     "output_type": "stream",
     "text": [
      "向量点积:\n"
     ]
    },
    {
     "data": {
      "text/latex": [
       "$\\displaystyle A_{x} B_{x} + A_{y} B_{y} + A_{z} B_{z}$"
      ],
      "text/plain": [
       "A_x*B_x + A_y*B_y + A_z*B_z"
      ]
     },
     "metadata": {},
     "output_type": "display_data"
    },
    {
     "name": "stdout",
     "output_type": "stream",
     "text": [
      "向量叉乘:\n"
     ]
    },
    {
     "data": {
      "text/latex": [
       "$\\displaystyle \\left(A_{y} B_{z} - A_{z} B_{y}\\right)\\mathbf{\\hat{i}_{N}} + \\left(- A_{x} B_{z} + A_{z} B_{x}\\right)\\mathbf{\\hat{j}_{N}} + \\left(A_{x} B_{y} - A_{y} B_{x}\\right)\\mathbf{\\hat{k}_{N}}$"
      ],
      "text/plain": [
       "(A_y*B_z - A_z*B_y)*N.i + (-A_x*B_z + A_z*B_x)*N.j + (A_x*B_y - A_y*B_x)*N.k"
      ]
     },
     "metadata": {},
     "output_type": "display_data"
    },
    {
     "name": "stdout",
     "output_type": "stream",
     "text": [
      "向量数乘结果:\n"
     ]
    },
    {
     "data": {
      "text/latex": [
       "$\\displaystyle \\left(A_{x} k\\right)\\mathbf{\\hat{i}_{N}} + \\left(A_{y} k\\right)\\mathbf{\\hat{j}_{N}} + \\left(A_{z} k\\right)\\mathbf{\\hat{k}_{N}}$"
      ],
      "text/plain": [
       "A_x*k*N.i + A_y*k*N.j + A_z*k*N.k"
      ]
     },
     "metadata": {},
     "output_type": "display_data"
    },
    {
     "name": "stdout",
     "output_type": "stream",
     "text": [
      "向量点积(矩阵形式):\n"
     ]
    },
    {
     "data": {
      "text/latex": [
       "$\\displaystyle A_{x} B_{x} + A_{y} B_{y} + A_{z} B_{z}$"
      ],
      "text/plain": [
       "A_x*B_x + A_y*B_y + A_z*B_z"
      ]
     },
     "metadata": {},
     "output_type": "display_data"
    },
    {
     "name": "stdout",
     "output_type": "stream",
     "text": [
      "向量叉乘(矩阵形式):\n"
     ]
    },
    {
     "data": {
      "text/latex": [
       "$\\displaystyle \\left[\\begin{matrix}A_{y} B_{z} - A_{z} B_{y}\\\\- A_{x} B_{z} + A_{z} B_{x}\\\\A_{x} B_{y} - A_{y} B_{x}\\end{matrix}\\right]$"
      ],
      "text/plain": [
       "Matrix([\n",
       "[ A_y*B_z - A_z*B_y],\n",
       "[-A_x*B_z + A_z*B_x],\n",
       "[ A_x*B_y - A_y*B_x]])"
      ]
     },
     "metadata": {},
     "output_type": "display_data"
    },
    {
     "name": "stdout",
     "output_type": "stream",
     "text": [
      "向量数乘结果(矩阵形式):\n"
     ]
    },
    {
     "data": {
      "text/latex": [
       "$\\displaystyle \\left[\\begin{matrix}A_{x} k\\\\A_{y} k\\\\A_{z} k\\end{matrix}\\right]$"
      ],
      "text/plain": [
       "Matrix([\n",
       "[A_x*k],\n",
       "[A_y*k],\n",
       "[A_z*k]])"
      ]
     },
     "metadata": {},
     "output_type": "display_data"
    },
    {
     "name": "stdout",
     "output_type": "stream",
     "text": [
      "矩阵乘法结果:\n"
     ]
    },
    {
     "data": {
      "text/latex": [
       "$\\displaystyle \\left[\\begin{matrix}A_{x} B_{x} & A_{x} B_{y} & A_{x} B_{z}\\\\A_{y} B_{x} & A_{y} B_{y} & A_{y} B_{z}\\\\A_{z} B_{x} & A_{z} B_{y} & A_{z} B_{z}\\end{matrix}\\right]$"
      ],
      "text/plain": [
       "Matrix([\n",
       "[A_x*B_x, A_x*B_y, A_x*B_z],\n",
       "[A_y*B_x, A_y*B_y, A_y*B_z],\n",
       "[A_z*B_x, A_z*B_y, A_z*B_z]])"
      ]
     },
     "metadata": {},
     "output_type": "display_data"
    }
   ],
   "source": [
    "import sympy as sp\n",
    "from sympy.vector import CoordSys3D\n",
    "from IPython.display import display\n",
    "\n",
    "# 创建一个三维坐标系\n",
    "N = CoordSys3D('N') # sympy.vector.coordsysrect.CoordSys3D\n",
    "\n",
    "# 定义符号变量\n",
    "A_x, A_y, A_z, B_x, B_y, B_z = sp.symbols('A_x A_y A_z B_x B_y B_z') # sympy.core.symbol.Symbol\n",
    "\n",
    "# 定义两个向量\n",
    "vector_a = A_x * N.i + A_y * N.j + A_z * N.k # sympy.vector.vector.VectorAdd\n",
    "vector_b = B_x * N.i + B_y * N.j + B_z * N.k\n",
    "\n",
    "# 计算点积\n",
    "dot_product = vector_a & vector_b # sympy.core.add.Add\n",
    "print(\"向量点积:\") \n",
    "display(dot_product)\n",
    "\n",
    "# 计算叉乘\n",
    "cross_product = vector_a ^ vector_b # sympy.vector.vector.VectorAdd\n",
    "print(\"向量叉乘:\")\n",
    "display(cross_product)\n",
    "\n",
    "# 向量数乘\n",
    "k = sp.symbols('k')  # 定义数乘的标量\n",
    "vector_scalar_mult = k * vector_a # sympy.vector.vector.VectorAdd\n",
    "print(\"向量数乘结果:\")\n",
    "display(vector_scalar_mult)\n",
    "\n",
    "# 转化为矩阵形式\n",
    "matrix_a = vector_a.to_matrix(N) # sympy.matrices.dense.MutableDenseMatrix\n",
    "matrix_b = vector_b.to_matrix(N)\n",
    "\n",
    "# 计算点积\n",
    "dot_product_matrix = matrix_a.dot(matrix_b) # sympy.matrices.dense.MutableDenseMatrix\n",
    "print(\"向量点积(矩阵形式):\")\n",
    "display(dot_product_matrix)\n",
    "\n",
    "# 计算叉乘\n",
    "cross_product_matrix = matrix_a.cross(matrix_b) # sympy.matrices.dense.MutableDenseMatrix\n",
    "print(\"向量叉乘(矩阵形式):\")\n",
    "display(cross_product_matrix)\n",
    "\n",
    "# 向量数乘\n",
    "k = sp.symbols('k')  # 定义数乘的标量\n",
    "vector_scalar_mult_matrix = k * matrix_a # sympy.matrices.dense.MutableDenseMatrix\n",
    "print(\"向量数乘结果(矩阵形式):\")\n",
    "display(vector_scalar_mult_matrix)\n",
    "\n",
    "# 矩阵乘法\n",
    "matrix_mult = matrix_a * matrix_b.T # sympy.matrices.dense.MutableDenseMatrix\n",
    "print(\"矩阵乘法结果:\")\n",
    "display(matrix_mult)\n"
   ]
  }
 ],
 "metadata": {
  "kernelspec": {
   "display_name": "d2l",
   "language": "python",
   "name": "python3"
  },
  "language_info": {
   "codemirror_mode": {
    "name": "ipython",
    "version": 3
   },
   "file_extension": ".py",
   "mimetype": "text/x-python",
   "name": "python",
   "nbconvert_exporter": "python",
   "pygments_lexer": "ipython3",
   "version": "3.8.19"
  }
 },
 "nbformat": 4,
 "nbformat_minor": 5
}
