{
 "cells": [
  {
   "cell_type": "markdown",
   "id": "318680dd-1e3c-45a1-8711-55f0044e6243",
   "metadata": {},
   "source": [
    "# 1.1.2 矢量代数：分量形式"
   ]
  },
  {
   "cell_type": "markdown",
   "id": "2d90cb07-8e3d-42bd-a3ff-afb5d4c2b328",
   "metadata": {},
   "source": [
    "我所需要面对的主要问题是如何利用 python 做矢量运算。\n",
    "sympy 包。\n",
    "\n",
    "其次，我应当养成良好的使用习惯和命名习惯，以便将来整理，这就需要复习和整理。"
   ]
  },
  {
   "cell_type": "markdown",
   "id": "d62a8cf8-87b7-4d29-90ce-7dbe6885c16b",
   "metadata": {},
   "source": [
    "首先我们可以定义常向量，其各分量是未定元（补充一句，高等代数里的未定元的概念如何好用）。\n",
    "以后如果函数或者量没有具体的表达式，我将称其为抽象的，否则称为具体的。\n",
    "\n",
    "对于抽象向量，只需要 sympy 就可以定义，不过考虑到我们总要对向量做各种操作，也许前后统一起来更好。"
   ]
  },
  {
   "cell_type": "code",
   "execution_count": 14,
   "id": "225b3e9e-f466-43af-bf09-55410ca76427",
   "metadata": {},
   "outputs": [],
   "source": [
    "import sympy as sp\n",
    "\n",
    "# 定义符号变量\n",
    "Ax, Ay, Az, Bx, By, Bz = sp.symbols('Ax Ay Az Bx By Bz')\n",
    "\n",
    "# 定义两个向量\n",
    "vector_a = sp.Matrix([Ax, Ay, Az])\n",
    "vector_b = sp.Matrix([Bx, By, Bz])\n",
    "\n",
    "# 计算点积\n",
    "dot_product = vector_a.dot(vector_b)\n",
    "print(\"向量点积:\")\n",
    "print(dot_product)\n",
    "\n",
    "# 计算叉乘\n",
    "cross_product = vector_a.cross(vector_b)\n",
    "print(\"向量叉乘:\")\n",
    "print(cross_product)\n",
    "\n",
    "k = sp.symbols('k')  # 定义数乘的标量\n",
    "# 向量数乘\n",
    "vector_scalar_mult = k * vector_a\n",
    "print(\"向量数乘结果:\")\n",
    "print(vector_scalar_mult)"
   ]
  },
  {
   "cell_type": "markdown",
   "id": "27909e39-b14f-4efc-a069-bd65051e1156",
   "metadata": {},
   "source": [
    "还有一种办法是先定义三维坐标系，由坐标向量线性组合得到抽象向量"
   ]
  },
  {
   "cell_type": "code",
   "execution_count": 23,
   "id": "66f2bf77-fb14-4cae-8ff5-e47dcbd8d47f",
   "metadata": {},
   "outputs": [],
   "source": [
    "import sympy as sp\n",
    "from sympy.vector import CoordSys3D\n",
    "\n",
    "# 创建一个三维坐标系\n",
    "N = CoordSys3D('N')\n",
    "x, y, z = N.x, N.y, N.z\n",
    "\n",
    "# 定义符号变量\n",
    "Ax, Ay, Az, Bx, By, Bz = sp.symbols('Ax Ay Az Bx By Bz')\n",
    "\n",
    "# 定义两个向量\n",
    "vector_a = Ax * N.i + Ay * N.j + Az * N.k\n",
    "vector_b = Bx * N.i + By * N.j + Bz * N.k\n",
    "\n",
    "# 计算点积\n",
    "dot_product = vector_a & vector_b\n",
    "print(\"向量点积:\")\n",
    "print(dot_product)\n",
    "\n",
    "# 计算叉乘\n",
    "cross_product = vector_a ^ vector_b\n",
    "print(\"向量叉乘:\")\n",
    "print(cross_product)\n",
    "\n",
    "k = sp.symbols('k')  # 定义数乘的标量\n",
    "# 向量数乘\n",
    "vector_scalar_mult = k * vector_a\n",
    "print(\"向量数乘结果:\")\n",
    "print(vector_scalar_mult)"
   ]
  }
 ],
 "metadata": {
  "kernelspec": {
   "display_name": "Python 3 (ipykernel)",
   "language": "python",
   "name": "python3"
  },
  "language_info": {
   "codemirror_mode": {
    "name": "ipython",
    "version": 3
   },
   "file_extension": ".py",
   "mimetype": "text/x-python",
   "name": "python",
   "nbconvert_exporter": "python",
   "pygments_lexer": "ipython3",
   "version": "3.8.19"
  }
 },
 "nbformat": 4,
 "nbformat_minor": 5
}
