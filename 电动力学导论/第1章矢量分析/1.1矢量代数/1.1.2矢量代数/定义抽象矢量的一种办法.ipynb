{
 "cells": [
  {
   "cell_type": "markdown",
   "id": "dbd867cc-a460-4a14-812f-8c39e24ddcc0",
   "metadata": {},
   "source": [
    "# 通过 sp.Matrix 定义抽象矢量"
   ]
  },
  {
   "cell_type": "code",
   "execution_count": 1,
   "id": "51e0affe-a39c-461d-843a-43c76b520239",
   "metadata": {},
   "outputs": [],
   "source": [
    "import sympy as sp\n",
    "\n",
    "# 定义符号变量\n",
    "Ax, Ay, Az, Bx, By, Bz = sp.symbols('Ax Ay Az Bx By Bz')\n",
    "\n",
    "# 定义两个向量\n",
    "vector_a = sp.Matrix([Ax, Ay, Az])\n",
    "vector_b = sp.Matrix([Bx, By, Bz])"
   ]
  },
  {
   "cell_type": "markdown",
   "id": "207d063f-5190-4f38-b9d2-d3f27e6fb0a9",
   "metadata": {},
   "source": [
    "## 对矢量进行加法，数乘，点乘，叉乘运算"
   ]
  },
  {
   "cell_type": "code",
   "execution_count": 8,
   "id": "001753d5-778b-4d53-a9df-2f91f89c6a1d",
   "metadata": {},
   "outputs": [
    {
     "name": "stdout",
     "output_type": "stream",
     "text": [
      "向量点积:\n",
      "Ax*Bx + Ay*By + Az*Bz\n"
     ]
    }
   ],
   "source": [
    "# 计算点积\n",
    "dot_product = vector_a.dot(vector_b)\n",
    "print(\"向量点积:\")\n",
    "print(dot_product)"
   ]
  },
  {
   "cell_type": "code",
   "execution_count": 7,
   "id": "8a4c80b8-aa65-420d-bdd6-c7268210d93d",
   "metadata": {},
   "outputs": [
    {
     "name": "stdout",
     "output_type": "stream",
     "text": [
      "向量叉乘:\n",
      "Matrix([[Ay*Bz - Az*By], [-Ax*Bz + Az*Bx], [Ax*By - Ay*Bx]])\n"
     ]
    }
   ],
   "source": [
    "# 计算叉乘\n",
    "cross_product = vector_a.cross(vector_b)\n",
    "print(\"向量叉乘:\")\n",
    "print(cross_product)"
   ]
  },
  {
   "cell_type": "code",
   "execution_count": 9,
   "id": "2b366c96-7be5-4568-ad54-c83804735395",
   "metadata": {},
   "outputs": [
    {
     "name": "stdout",
     "output_type": "stream",
     "text": [
      "向量数乘结果:\n",
      "Matrix([[Ax*k], [Ay*k], [Az*k]])\n"
     ]
    }
   ],
   "source": [
    "k = sp.symbols('k')  # 定义数乘的标量\n",
    "# 向量数乘\n",
    "vector_scalar_mult = k * vector_a\n",
    "print(\"向量数乘结果:\")\n",
    "print(vector_scalar_mult)"
   ]
  },
  {
   "cell_type": "markdown",
   "id": "72b04bf8-bd77-4b58-b670-17f3cd0263bc",
   "metadata": {},
   "source": [
    "## 此时矢量的格式"
   ]
  },
  {
   "cell_type": "code",
   "execution_count": 7,
   "id": "3a379bec-5b47-4c04-9cbc-bed1ac3bc006",
   "metadata": {},
   "outputs": [
    {
     "data": {
      "text/plain": [
       "sympy.matrices.dense.MutableDenseMatrix"
      ]
     },
     "execution_count": 7,
     "metadata": {},
     "output_type": "execute_result"
    }
   ],
   "source": [
    "type(vector_a)"
   ]
  }
 ],
 "metadata": {
  "kernelspec": {
   "display_name": "Python 3 (ipykernel)",
   "language": "python",
   "name": "python3"
  },
  "language_info": {
   "codemirror_mode": {
    "name": "ipython",
    "version": 3
   },
   "file_extension": ".py",
   "mimetype": "text/x-python",
   "name": "python",
   "nbconvert_exporter": "python",
   "pygments_lexer": "ipython3",
   "version": "3.8.19"
  }
 },
 "nbformat": 4,
 "nbformat_minor": 5
}
