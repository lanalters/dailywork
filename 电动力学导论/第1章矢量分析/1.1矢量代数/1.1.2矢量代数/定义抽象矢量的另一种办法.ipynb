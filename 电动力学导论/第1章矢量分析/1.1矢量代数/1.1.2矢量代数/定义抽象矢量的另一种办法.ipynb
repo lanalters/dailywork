{
 "cells": [
  {
   "cell_type": "markdown",
   "id": "5e5c8bf5-0c7f-4757-9bd8-da442b3bf76a",
   "metadata": {},
   "source": [
    "# 可以先定义坐标系，再定义抽象矢量"
   ]
  },
  {
   "cell_type": "code",
   "execution_count": null,
   "id": "0e775583-8076-479f-a988-adb60ca1f151",
   "metadata": {},
   "outputs": [],
   "source": [
    "import sympy as sp\n",
    "from sympy.vector import CoordSys3D\n",
    "\n",
    "\n",
    "# 创建一个三维坐标系\n",
    "N = CoordSys3D('N')\n",
    "x, y, z = N.x, N.y, N.z\n",
    "\n",
    "# 定义符号变量\n",
    "Ax, Ay, Az, Bx, By, Bz = sp.symbols('Ax Ay Az Bx By Bz')\n",
    "\n",
    "# 定义两个向量\n",
    "vector_a = Ax * N.i + Ay * N.j + Az * N.k\n",
    "vector_b = Bx * N.i + By * N.j + Bz * N.k"
   ]
  },
  {
   "cell_type": "code",
   "execution_count": null,
   "id": "2c6d6b14-cc3a-4414-bea7-1f691f696601",
   "metadata": {},
   "outputs": [],
   "source": [
    "# 计算点积\n",
    "dot_product = vector_a & vector_b\n",
    "print(\"向量点积:\")\n",
    "print(dot_product)\n",
    "\n",
    "# 计算叉乘\n",
    "cross_product = vector_a ^ vector_b\n",
    "print(\"向量叉乘:\")\n",
    "print(cross_product)\n",
    "\n",
    "k = sp.symbols('k')  # 定义数乘的标量\n",
    "# 向量数乘\n",
    "vector_scalar_mult = k * vector_a\n",
    "print(\"向量数乘结果:\")\n",
    "print(vector_scalar_mult)"
   ]
  },
  {
   "cell_type": "code",
   "execution_count": null,
   "id": "f1628c7a-e931-4da6-a485-cdafda1b5be2",
   "metadata": {},
   "outputs": [],
   "source": [
    "type(vector_a)"
   ]
  }
 ],
 "metadata": {
  "kernelspec": {
   "display_name": "Python 3 (ipykernel)",
   "language": "python",
   "name": "python3"
  },
  "language_info": {
   "codemirror_mode": {
    "name": "ipython",
    "version": 3
   },
   "file_extension": ".py",
   "mimetype": "text/x-python",
   "name": "python",
   "nbconvert_exporter": "python",
   "pygments_lexer": "ipython3",
   "version": "3.8.19"
  }
 },
 "nbformat": 4,
 "nbformat_minor": 5
}
