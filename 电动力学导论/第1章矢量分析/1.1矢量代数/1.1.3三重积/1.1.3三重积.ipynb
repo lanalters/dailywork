{
 "cells": [
  {
   "cell_type": "markdown",
   "id": "86bcc8c9-bc86-477b-960b-b70e76079cf9",
   "metadata": {},
   "source": [
    "# 1.1.3 三重积"
   ]
  },
  {
   "cell_type": "markdown",
   "id": "0d35c4cd-eb8c-4caa-9fd9-21cca033888c",
   "metadata": {},
   "source": [
    "这一节的目标是通过 sympy 符号推演得到标量三重积和矢量三重积的具体展开形式，验证基本的性质。\n",
    "具体而言，标量三重积具有矩阵形式和轮换对称性，矢量三重积可以展开为 $BAC - CAB$。\n",
    "\n",
    "此外可以注意到，将矢量定义为基向量的线性函数具有方便运算的特点。\n"
   ]
  },
  {
   "cell_type": "markdown",
   "id": "df36c1d3-dd97-49e9-a694-af42162f4ea4",
   "metadata": {},
   "source": [
    "## 标量三重积"
   ]
  },
  {
   "cell_type": "markdown",
   "id": "d01c6d6d-39ed-4458-8886-4f2a85999f5a",
   "metadata": {},
   "source": [
    "### 展开标量三重积"
   ]
  },
  {
   "cell_type": "code",
   "execution_count": 2,
   "id": "f98a7788-4f91-45c4-910b-1883d3563616",
   "metadata": {},
   "outputs": [
    {
     "name": "stdout",
     "output_type": "stream",
     "text": [
      "标量三重积展开为：A·(B×C)=\n"
     ]
    },
    {
     "data": {
      "text/latex": [
       "$\\displaystyle A_{x} B_{y} C_{z} - A_{x} B_{z} C_{y} - A_{y} B_{x} C_{z} + A_{y} B_{z} C_{x} + A_{z} B_{x} C_{y} - A_{z} B_{y} C_{x}$"
      ],
      "text/plain": [
       "A_x*B_y*C_z - A_x*B_z*C_y - A_y*B_x*C_z + A_y*B_z*C_x + A_z*B_x*C_y - A_z*B_y*C_x"
      ]
     },
     "metadata": {},
     "output_type": "display_data"
    }
   ],
   "source": [
    "import sympy as sp\n",
    "from sympy.vector import CoordSys3D\n",
    "from IPython.display import display\n",
    "\n",
    "# 创建一个三维坐标系\n",
    "N = CoordSys3D('N')\n",
    "\n",
    "# 定义符号变量\n",
    "A_x, A_y, A_z = sp.symbols('A_x A_y A_z')\n",
    "B_x, B_y, B_z = sp.symbols('B_x B_y B_z')\n",
    "C_x, C_y, C_z = sp.symbols('C_x C_y C_z')\n",
    "\n",
    "\n",
    "# 定义两个向量\n",
    "vector_a = A_x * N.i + A_y * N.j + A_z * N.k\n",
    "vector_b = B_x * N.i + B_y * N.j + B_z * N.k\n",
    "vector_c = C_x * N.i + C_y * N.j + C_z * N.k\n",
    "\n",
    "# 展开三重积\n",
    "eq_ABC = vector_a & (vector_b ^ vector_c)\n",
    "eq_ABC = sp.simplify(sp.expand(eq_ABC))\n",
    "print('标量三重积展开为：A·(B×C)=')\n",
    "display(eq_ABC)"
   ]
  },
  {
   "cell_type": "markdown",
   "id": "48455606-5e0f-446c-aca1-73dc850af5d8",
   "metadata": {},
   "source": [
    "验证标量三重积满足轮换对称性"
   ]
  },
  {
   "cell_type": "code",
   "execution_count": 3,
   "id": "7cdb965d-2791-4e2b-9cc3-40d015f48286",
   "metadata": {},
   "outputs": [
    {
     "name": "stdout",
     "output_type": "stream",
     "text": [
      "A·(B×C) - B·(C×A) =\n"
     ]
    },
    {
     "data": {
      "text/latex": [
       "$\\displaystyle 0$"
      ],
      "text/plain": [
       "0"
      ]
     },
     "metadata": {},
     "output_type": "display_data"
    },
    {
     "name": "stdout",
     "output_type": "stream",
     "text": [
      "A·(B×C) - C·(A×B) =\n"
     ]
    },
    {
     "data": {
      "text/latex": [
       "$\\displaystyle 0$"
      ],
      "text/plain": [
       "0"
      ]
     },
     "metadata": {},
     "output_type": "display_data"
    }
   ],
   "source": [
    "# 其他轮换式\n",
    "eq_BCA = vector_b & (vector_c ^ vector_a)\n",
    "eq_BCA = sp.simplify(sp.expand( eq_BCA ))\n",
    "eq_CAB = vector_c & (vector_a ^ vector_b)\n",
    "eq_CAB = sp.simplify(sp.expand( eq_CAB ))\n",
    "\n",
    "print('A·(B×C) - B·(C×A) =')\n",
    "display(eq_ABC - eq_BCA)\n",
    "print('A·(B×C) - C·(A×B) =')\n",
    "display(eq_ABC - eq_CAB)"
   ]
  },
  {
   "cell_type": "code",
   "execution_count": null,
   "id": "879b66cc",
   "metadata": {},
   "outputs": [],
   "source": []
  },
  {
   "cell_type": "markdown",
   "id": "3c893bc8",
   "metadata": {},
   "source": [
    "#### 用矩阵来证明"
   ]
  },
  {
   "cell_type": "code",
   "execution_count": 2,
   "id": "984892ef",
   "metadata": {},
   "outputs": [
    {
     "name": "stdout",
     "output_type": "stream",
     "text": [
      "向量叉乘 B × C:\n"
     ]
    },
    {
     "data": {
      "text/latex": [
       "$\\displaystyle \\left[\\begin{matrix}B_{y} C_{z} - B_{z} C_{y}\\\\- B_{x} C_{z} + B_{z} C_{x}\\\\B_{x} C_{y} - B_{y} C_{x}\\end{matrix}\\right]$"
      ],
      "text/plain": [
       "Matrix([\n",
       "[ B_y*C_z - B_z*C_y],\n",
       "[-B_x*C_z + B_z*C_x],\n",
       "[ B_x*C_y - B_y*C_x]])"
      ]
     },
     "metadata": {},
     "output_type": "display_data"
    },
    {
     "name": "stdout",
     "output_type": "stream",
     "text": [
      "向量点积 A · (B × C):\n"
     ]
    },
    {
     "data": {
      "text/latex": [
       "$\\displaystyle A_{x} \\left(B_{y} C_{z} - B_{z} C_{y}\\right) + A_{y} \\left(- B_{x} C_{z} + B_{z} C_{x}\\right) + A_{z} \\left(B_{x} C_{y} - B_{y} C_{x}\\right)$"
      ],
      "text/plain": [
       "A_x*(B_y*C_z - B_z*C_y) + A_y*(-B_x*C_z + B_z*C_x) + A_z*(B_x*C_y - B_y*C_x)"
      ]
     },
     "metadata": {},
     "output_type": "display_data"
    },
    {
     "name": "stdout",
     "output_type": "stream",
     "text": [
      "化简后的结果：\n"
     ]
    },
    {
     "data": {
      "text/latex": [
       "$\\displaystyle A_{x} B_{y} C_{z} - A_{x} B_{z} C_{y} - A_{y} B_{x} C_{z} + A_{y} B_{z} C_{x} + A_{z} B_{x} C_{y} - A_{z} B_{y} C_{x}$"
      ],
      "text/plain": [
       "A_x*B_y*C_z - A_x*B_z*C_y - A_y*B_x*C_z + A_y*B_z*C_x + A_z*B_x*C_y - A_z*B_y*C_x"
      ]
     },
     "metadata": {},
     "output_type": "display_data"
    }
   ],
   "source": [
    "import sympy as sp\n",
    "from sympy.vector import CoordSys3D\n",
    "from IPython.display import display\n",
    "\n",
    "# 创建一个三维坐标系\n",
    "N = CoordSys3D('N')\n",
    "\n",
    "# 定义符号变量\n",
    "A_x, A_y, A_z = sp.symbols('A_x A_y A_z')\n",
    "B_x, B_y, B_z = sp.symbols('B_x B_y B_z')\n",
    "C_x, C_y, C_z = sp.symbols('C_x C_y C_z')\n",
    "\n",
    "\n",
    "# 定义三个向量\n",
    "vector_a = A_x * N.i + A_y * N.j + A_z * N.k\n",
    "vector_b = B_x * N.i + B_y * N.j + B_z * N.k\n",
    "vector_c = C_x * N.i + C_y * N.j + C_z * N.k\n",
    "\n",
    "# 矩阵形式\n",
    "matrix_a = sp.Matrix([A_x, A_y, A_z])\n",
    "matrix_b = sp.Matrix([B_x, B_y, B_z])\n",
    "matrix_c = sp.Matrix([C_x, C_y, C_z])\n",
    "\n",
    "# 计算叉乘\n",
    "cross_product = matrix_b.cross(matrix_c)\n",
    "print(\"向量叉乘 B × C:\")\n",
    "display(cross_product)\n",
    "# 计算点积\n",
    "dot_product = matrix_a.dot(cross_product)\n",
    "print(\"向量点积 A · (B × C):\")\n",
    "display(dot_product)\n",
    "print('化简后的结果：')\n",
    "display(sp.expand(dot_product))"
   ]
  },
  {
   "cell_type": "markdown",
   "id": "303fb962",
   "metadata": {},
   "source": [
    "### 标量三重积有矩阵形式"
   ]
  },
  {
   "cell_type": "code",
   "execution_count": 6,
   "id": "400ba661",
   "metadata": {},
   "outputs": [
    {
     "name": "stdout",
     "output_type": "stream",
     "text": [
      "叉乘的矩阵表达式 B × C:\n"
     ]
    },
    {
     "data": {
      "text/latex": [
       "$\\displaystyle \\left[\\begin{matrix}\\mathbf{\\hat{i}_{N}} & \\mathbf{\\hat{j}_{N}} & \\mathbf{\\hat{k}_{N}}\\\\B_{x} & B_{y} & B_{z}\\\\C_{x} & C_{y} & C_{z}\\end{matrix}\\right]$"
      ],
      "text/plain": [
       "Matrix([\n",
       "[N.i, N.j, N.k],\n",
       "[B_x, B_y, B_z],\n",
       "[C_x, C_y, C_z]])"
      ]
     },
     "metadata": {},
     "output_type": "display_data"
    },
    {
     "name": "stdout",
     "output_type": "stream",
     "text": [
      "行列式: \n"
     ]
    },
    {
     "data": {
      "text/latex": [
       "$\\displaystyle \\left(B_{y} C_{z} - B_{z} C_{y}\\right)\\mathbf{\\hat{i}_{N}} + \\left(- B_{x} C_{z} + B_{z} C_{x}\\right)\\mathbf{\\hat{j}_{N}} + \\left(B_{x} C_{y} - B_{y} C_{x}\\right)\\mathbf{\\hat{k}_{N}}$"
      ],
      "text/plain": [
       "(B_y*C_z - B_z*C_y)*N.i + (-B_x*C_z + B_z*C_x)*N.j + (B_x*C_y - B_y*C_x)*N.k"
      ]
     },
     "metadata": {},
     "output_type": "display_data"
    },
    {
     "name": "stdout",
     "output_type": "stream",
     "text": [
      "三重积的矩阵表达式 A · (B × C):\n"
     ]
    },
    {
     "data": {
      "text/latex": [
       "$\\displaystyle \\left[\\begin{matrix}A_{x} & A_{y} & A_{z}\\\\B_{x} & B_{y} & B_{z}\\\\C_{x} & C_{y} & C_{z}\\end{matrix}\\right]$"
      ],
      "text/plain": [
       "Matrix([\n",
       "[A_x, A_y, A_z],\n",
       "[B_x, B_y, B_z],\n",
       "[C_x, C_y, C_z]])"
      ]
     },
     "metadata": {},
     "output_type": "display_data"
    },
    {
     "name": "stdout",
     "output_type": "stream",
     "text": [
      "行列式: \n"
     ]
    },
    {
     "data": {
      "text/latex": [
       "$\\displaystyle A_{x} B_{y} C_{z} - A_{x} B_{z} C_{y} - A_{y} B_{x} C_{z} + A_{y} B_{z} C_{x} + A_{z} B_{x} C_{y} - A_{z} B_{y} C_{x}$"
      ],
      "text/plain": [
       "A_x*B_y*C_z - A_x*B_z*C_y - A_y*B_x*C_z + A_y*B_z*C_x + A_z*B_x*C_y - A_z*B_y*C_x"
      ]
     },
     "metadata": {},
     "output_type": "display_data"
    }
   ],
   "source": [
    "print('叉乘的矩阵表达式 B × C:')\n",
    "cross_matrix = sp.Matrix([[N.i, N.j, N.k], [B_x, B_y, B_z], [C_x, C_y, C_z]])\n",
    "display(cross_matrix)\n",
    "print('行列式: ')\n",
    "cross_det = cross_matrix.det()\n",
    "display(cross_det)\n",
    "\n",
    "print('三重积的矩阵表达式 A · (B × C):')\n",
    "three_product_matrix = sp.Matrix([[A_x, A_y, A_z], [B_x, B_y, B_z], [C_x, C_y, C_z]])\n",
    "display(three_product_matrix)\n",
    "print('行列式: ')\n",
    "dot_det = three_product_matrix.det()\n",
    "display(dot_det)"
   ]
  },
  {
   "cell_type": "markdown",
   "id": "875699e8-be20-4964-adc4-66582d6bfaa2",
   "metadata": {},
   "source": [
    "# 矢量三重积\n",
    "$$\n",
    "      \\boldsymbol A \\times (\\boldsymbol B \\times \\boldsymbol C) = \\boldsymbol B (\\boldsymbol A \\cdot \\boldsymbol C) - (\\boldsymbol A \\cdot \\boldsymbol B) \\boldsymbol C\n",
    "$$"
   ]
  },
  {
   "cell_type": "markdown",
   "id": "d391b58b-ee2a-42ed-9dbc-74cd237ed4f6",
   "metadata": {},
   "source": [
    "### 矢量三重积展开式"
   ]
  },
  {
   "cell_type": "code",
   "execution_count": 11,
   "id": "7a227930-9c2f-4b4c-a4d5-56c3f9b2d163",
   "metadata": {},
   "outputs": [
    {
     "name": "stdout",
     "output_type": "stream",
     "text": [
      "左式为：A×(B×C)=\n"
     ]
    },
    {
     "data": {
      "text/latex": [
       "$\\displaystyle \\left(Ay Bx Cy - Ay By Cx + Az Bx Cz - Az Bz Cx\\right)\\mathbf{\\hat{i}_{N}} + \\left(- Ax Bx Cy + Ax By Cx + Az By Cz - Az Bz Cy\\right)\\mathbf{\\hat{j}_{N}} + \\left(- Ax Bx Cz + Ax Bz Cx - Ay By Cz + Ay Bz Cy\\right)\\mathbf{\\hat{k}_{N}}$"
      ],
      "text/plain": [
       "(Ay*Bx*Cy - Ay*By*Cx + Az*Bx*Cz - Az*Bz*Cx)*N.i + (-Ax*Bx*Cy + Ax*By*Cx + Az*By*Cz - Az*Bz*Cy)*N.j + (-Ax*Bx*Cz + Ax*Bz*Cx - Ay*By*Cz + Ay*Bz*Cy)*N.k"
      ]
     },
     "metadata": {},
     "output_type": "display_data"
    },
    {
     "name": "stdout",
     "output_type": "stream",
     "text": [
      "左式为：A×(B×C)=\n"
     ]
    },
    {
     "data": {
      "text/latex": [
       "$\\displaystyle \\left[\\begin{matrix}Ay Bx Cy - Ay By Cx + Az Bx Cz - Az Bz Cx\\\\- Ax Bx Cy + Ax By Cx + Az By Cz - Az Bz Cy\\\\- Ax Bx Cz + Ax Bz Cx - Ay By Cz + Ay Bz Cy\\end{matrix}\\right]$"
      ],
      "text/plain": [
       "Matrix([\n",
       "[ Ay*Bx*Cy - Ay*By*Cx + Az*Bx*Cz - Az*Bz*Cx],\n",
       "[-Ax*Bx*Cy + Ax*By*Cx + Az*By*Cz - Az*Bz*Cy],\n",
       "[-Ax*Bx*Cz + Ax*Bz*Cx - Ay*By*Cz + Ay*Bz*Cy]])"
      ]
     },
     "metadata": {},
     "output_type": "display_data"
    }
   ],
   "source": [
    "import sympy as sp\n",
    "from sympy.vector import CoordSys3D\n",
    "from IPython.display import display\n",
    "\n",
    "# 创建一个三维坐标系\n",
    "N = CoordSys3D('N')\n",
    "x, y, z = N.x, N.y, N.z\n",
    "\n",
    "# 定义符号变量\n",
    "A_x, A_y, A_z = sp.symbols('Ax Ay Az')\n",
    "B_x, B_y, B_z = sp.symbols('Bx By Bz')\n",
    "C_x, C_y, C_z = sp.symbols('Cx Cy Cz')\n",
    "\n",
    "\n",
    "# 定义三个向量\n",
    "vector_a = A_x * N.i + A_y * N.j + A_z * N.k\n",
    "vector_b = B_x * N.i + B_y * N.j + B_z * N.k\n",
    "vector_c = C_x * N.i + C_y * N.j + C_z * N.k\n",
    "\n",
    "# 用 python证明矢量三重积公式的正确性\n",
    "Left = vector_a ^ (vector_b ^ vector_c)\n",
    "Left = sp.simplify(sp.expand(Left))\n",
    "print('左式为：A×(B×C)=')\n",
    "display(Left)\n",
    "\n",
    "# 矩阵形式\n",
    "matrix_a = sp.Matrix([A_x, A_y, A_z])\n",
    "matrix_b = sp.Matrix([B_x, B_y, B_z])\n",
    "matrix_c = sp.Matrix([C_x, C_y, C_z])\n",
    "Left = matrix_a.cross(matrix_b.cross(matrix_c))\n",
    "Left = sp.simplify(sp.expand(Left))\n",
    "print('左式为：A×(B×C)=')\n",
    "display(Left)\n"
   ]
  },
  {
   "cell_type": "markdown",
   "id": "8bbe9e6e-9386-44fe-a3b4-6b91ed0b900f",
   "metadata": {},
   "source": [
    "### 验证矢量三重积的公式"
   ]
  },
  {
   "cell_type": "code",
   "execution_count": 5,
   "id": "4520f016-39cb-4a11-91ff-e9ae5d4272e5",
   "metadata": {},
   "outputs": [
    {
     "name": "stdout",
     "output_type": "stream",
     "text": [
      "右式为：\n"
     ]
    },
    {
     "data": {
      "text/latex": [
       "$\\displaystyle \\left(Ay Bx Cy - Ay By Cx + Az Bx Cz - Az Bz Cx\\right)\\mathbf{\\hat{i}_{N}} + \\left(- Ax Bx Cy + Ax By Cx + Az By Cz - Az Bz Cy\\right)\\mathbf{\\hat{j}_{N}} + \\left(- Ax Bx Cz + Ax Bz Cx - Ay By Cz + Ay Bz Cy\\right)\\mathbf{\\hat{k}_{N}}$"
      ],
      "text/plain": [
       "(Ay*Bx*Cy - Ay*By*Cx + Az*Bx*Cz - Az*Bz*Cx)*N.i + (-Ax*Bx*Cy + Ax*By*Cx + Az*By*Cz - Az*Bz*Cy)*N.j + (-Ax*Bx*Cz + Ax*Bz*Cx - Ay*By*Cz + Ay*Bz*Cy)*N.k"
      ]
     },
     "metadata": {},
     "output_type": "display_data"
    },
    {
     "name": "stdout",
     "output_type": "stream",
     "text": [
      "左式减去右式 = \n"
     ]
    },
    {
     "data": {
      "text/latex": [
       "$\\displaystyle \\mathbf{\\hat{0}}$"
      ],
      "text/plain": [
       "0"
      ]
     },
     "metadata": {},
     "output_type": "display_data"
    }
   ],
   "source": [
    "Right = (vector_a & vector_c) * vector_b - (vector_a & vector_b) * vector_c\n",
    "Right = sp.simplify(sp.expand(Right))\n",
    "print('右式为：')\n",
    "display(Right)\n",
    "print('左式减去右式 = ')\n",
    "display(Left - Right)"
   ]
  },
  {
   "cell_type": "markdown",
   "id": "b04914fa-c3ea-4813-b366-8315bd6caf32",
   "metadata": {},
   "source": [
    "### 矢量三重积的推论"
   ]
  },
  {
   "cell_type": "markdown",
   "id": "f6ed6642-759a-405c-91dc-2d0af2f18a5a",
   "metadata": {},
   "source": [
    "\\begin{split}\n",
    "  (\\boldsymbol A\\times \\boldsymbol B)\\cdot(\\boldsymbol C \\times \\boldsymbol D) =  (\\boldsymbol A\\cdot \\boldsymbol C)(\\boldsymbol B\\cdot \\boldsymbol D)-(\\boldsymbol A\\cdot \\boldsymbol D)(\\boldsymbol B \\cdot \\boldsymbol C) \n",
    "\\end{split}\n"
   ]
  },
  {
   "cell_type": "code",
   "execution_count": 25,
   "id": "ef434ddd-2eb4-4480-a8d8-9e1f987d45ec",
   "metadata": {
    "scrolled": true
   },
   "outputs": [
    {
     "name": "stdout",
     "output_type": "stream",
     "text": [
      "左式为：\n"
     ]
    },
    {
     "data": {
      "text/latex": [
       "$\\displaystyle Ax By Cx Dy - Ax By Cy Dx + Ax Bz Cx Dz - Ax Bz Cz Dx - Ay Bx Cx Dy + Ay Bx Cy Dx + Ay Bz Cy Dz - Ay Bz Cz Dy - Az Bx Cx Dz + Az Bx Cz Dx - Az By Cy Dz + Az By Cz Dy$"
      ],
      "text/plain": [
       "Ax*By*Cx*Dy - Ax*By*Cy*Dx + Ax*Bz*Cx*Dz - Ax*Bz*Cz*Dx - Ay*Bx*Cx*Dy + Ay*Bx*Cy*Dx + Ay*Bz*Cy*Dz - Ay*Bz*Cz*Dy - Az*Bx*Cx*Dz + Az*Bx*Cz*Dx - Az*By*Cy*Dz + Az*By*Cz*Dy"
      ]
     },
     "metadata": {},
     "output_type": "display_data"
    },
    {
     "name": "stdout",
     "output_type": "stream",
     "text": [
      "右式为：\n"
     ]
    },
    {
     "data": {
      "text/latex": [
       "$\\displaystyle Ax By Cx Dy - Ax By Cy Dx + Ax Bz Cx Dz - Ax Bz Cz Dx - Ay Bx Cx Dy + Ay Bx Cy Dx + Ay Bz Cy Dz - Ay Bz Cz Dy - Az Bx Cx Dz + Az Bx Cz Dx - Az By Cy Dz + Az By Cz Dy$"
      ],
      "text/plain": [
       "Ax*By*Cx*Dy - Ax*By*Cy*Dx + Ax*Bz*Cx*Dz - Ax*Bz*Cz*Dx - Ay*Bx*Cx*Dy + Ay*Bx*Cy*Dx + Ay*Bz*Cy*Dz - Ay*Bz*Cz*Dy - Az*Bx*Cx*Dz + Az*Bx*Cz*Dx - Az*By*Cy*Dz + Az*By*Cz*Dy"
      ]
     },
     "metadata": {},
     "output_type": "display_data"
    },
    {
     "name": "stdout",
     "output_type": "stream",
     "text": [
      "左式减去右式 = 0\n"
     ]
    }
   ],
   "source": [
    "# 用python证明矢量三重积公式推论的正确性\n",
    "Dx, Dy, Dz = sp.symbols('Dx Dy Dz')\n",
    "vector_d = Dx * N.i + Dy * N.j + Dz* N.k\n",
    "\n",
    "Left = (vector_a ^ vector_b) & (vector_c ^ vector_d)\n",
    "Left = sp.simplify(sp.expand( Left ))\n",
    "print('左式为：')\n",
    "display(Left)\n",
    "Right = (vector_a & vector_c) * (vector_b & vector_d) - (vector_a & vector_d) * (vector_b & vector_c)\n",
    "Right = sp.simplify(sp.expand( Right ))\n",
    "print('右式为：')\n",
    "display(Right)\n",
    "print('左式减去右式 =', Left - Right)"
   ]
  },
  {
   "cell_type": "markdown",
   "id": "d57120da-6867-4d55-bcf8-d0fd3ff209e1",
   "metadata": {},
   "source": [
    "$$\n",
    "  \\boldsymbol A \\times (\\boldsymbol B \\times ( \\boldsymbol C \\times \\boldsymbol D)) = \\boldsymbol B( \\boldsymbol A \\cdot (\\boldsymbol C \\times \\boldsymbol D)) - (\\boldsymbol A \\cdot \\boldsymbol B)(\\boldsymbol C \\times \\boldsymbol D)\n",
    "$$"
   ]
  },
  {
   "cell_type": "code",
   "execution_count": 26,
   "id": "9deb7059-eec8-483b-ae6c-a1ef0b33525f",
   "metadata": {},
   "outputs": [
    {
     "name": "stdout",
     "output_type": "stream",
     "text": [
      "左式为：\n"
     ]
    },
    {
     "data": {
      "text/latex": [
       "$\\displaystyle \\left(- Ay Bx Cx Dz + Ay Bx Cz Dx - Ay By Cy Dz + Ay By Cz Dy + Az Bx Cx Dy - Az Bx Cy Dx - Az Bz Cy Dz + Az Bz Cz Dy\\right)\\mathbf{\\hat{i}_{N}} + \\left(Ax Bx Cx Dz - Ax Bx Cz Dx + Ax By Cy Dz - Ax By Cz Dy + Az By Cx Dy - Az By Cy Dx + Az Bz Cx Dz - Az Bz Cz Dx\\right)\\mathbf{\\hat{j}_{N}} + \\left(- Ax Bx Cx Dy + Ax Bx Cy Dx + Ax Bz Cy Dz - Ax Bz Cz Dy - Ay By Cx Dy + Ay By Cy Dx - Ay Bz Cx Dz + Ay Bz Cz Dx\\right)\\mathbf{\\hat{k}_{N}}$"
      ],
      "text/plain": [
       "(-Ay*Bx*Cx*Dz + Ay*Bx*Cz*Dx - Ay*By*Cy*Dz + Ay*By*Cz*Dy + Az*Bx*Cx*Dy - Az*Bx*Cy*Dx - Az*Bz*Cy*Dz + Az*Bz*Cz*Dy)*N.i + (Ax*Bx*Cx*Dz - Ax*Bx*Cz*Dx + Ax*By*Cy*Dz - Ax*By*Cz*Dy + Az*By*Cx*Dy - Az*By*Cy*Dx + Az*Bz*Cx*Dz - Az*Bz*Cz*Dx)*N.j + (-Ax*Bx*Cx*Dy + Ax*Bx*Cy*Dx + Ax*Bz*Cy*Dz - Ax*Bz*Cz*Dy - Ay*By*Cx*Dy + Ay*By*Cy*Dx - Ay*Bz*Cx*Dz + Ay*Bz*Cz*Dx)*N.k"
      ]
     },
     "metadata": {},
     "output_type": "display_data"
    },
    {
     "name": "stdout",
     "output_type": "stream",
     "text": [
      "右式为：\n"
     ]
    },
    {
     "data": {
      "text/latex": [
       "$\\displaystyle \\left(- Ay Bx Cx Dz + Ay Bx Cz Dx - Ay By Cy Dz + Ay By Cz Dy + Az Bx Cx Dy - Az Bx Cy Dx - Az Bz Cy Dz + Az Bz Cz Dy\\right)\\mathbf{\\hat{i}_{N}} + \\left(Ax Bx Cx Dz - Ax Bx Cz Dx + Ax By Cy Dz - Ax By Cz Dy + Az By Cx Dy - Az By Cy Dx + Az Bz Cx Dz - Az Bz Cz Dx\\right)\\mathbf{\\hat{j}_{N}} + \\left(- Ax Bx Cx Dy + Ax Bx Cy Dx + Ax Bz Cy Dz - Ax Bz Cz Dy - Ay By Cx Dy + Ay By Cy Dx - Ay Bz Cx Dz + Ay Bz Cz Dx\\right)\\mathbf{\\hat{k}_{N}}$"
      ],
      "text/plain": [
       "(-Ay*Bx*Cx*Dz + Ay*Bx*Cz*Dx - Ay*By*Cy*Dz + Ay*By*Cz*Dy + Az*Bx*Cx*Dy - Az*Bx*Cy*Dx - Az*Bz*Cy*Dz + Az*Bz*Cz*Dy)*N.i + (Ax*Bx*Cx*Dz - Ax*Bx*Cz*Dx + Ax*By*Cy*Dz - Ax*By*Cz*Dy + Az*By*Cx*Dy - Az*By*Cy*Dx + Az*Bz*Cx*Dz - Az*Bz*Cz*Dx)*N.j + (-Ax*Bx*Cx*Dy + Ax*Bx*Cy*Dx + Ax*Bz*Cy*Dz - Ax*Bz*Cz*Dy - Ay*By*Cx*Dy + Ay*By*Cy*Dx - Ay*Bz*Cx*Dz + Ay*Bz*Cz*Dx)*N.k"
      ]
     },
     "metadata": {},
     "output_type": "display_data"
    },
    {
     "name": "stdout",
     "output_type": "stream",
     "text": [
      "左式减去右式 = 0\n"
     ]
    }
   ],
   "source": [
    "Left = vector_a ^ (vector_b ^ (vector_c ^ vector_d))\n",
    "Left = sp.simplify(sp.expand(Left))\n",
    "print('左式为：')\n",
    "display(Left)\n",
    "Right = vector_b * ( vector_a & (vector_c ^ vector_d)) -  (vector_a & vector_b) *  (vector_c ^ vector_d)\n",
    "Right = sp.simplify(sp.expand(Right ))\n",
    "print('右式为：')\n",
    "display(Right)\n",
    "print('左式减去右式 =', Left - Right)"
   ]
  },
  {
   "cell_type": "markdown",
   "id": "124f8211-8f03-474c-8454-e3babad5e878",
   "metadata": {},
   "source": [
    "$$\n",
    "  [\\boldsymbol A \\times (\\boldsymbol B \\times \\boldsymbol C)]+[\\boldsymbol B \\times (\\boldsymbol C \\times \\boldsymbol A)]+[\\boldsymbol C \\times (\\boldsymbol A \\times \\boldsymbol B)]=0\n",
    "$$"
   ]
  },
  {
   "cell_type": "code",
   "execution_count": 27,
   "id": "a5a56bd4-e86b-4076-8ace-744fd2289dde",
   "metadata": {},
   "outputs": [
    {
     "name": "stdout",
     "output_type": "stream",
     "text": [
      "左式为：\n"
     ]
    },
    {
     "data": {
      "text/latex": [
       "$\\displaystyle \\mathbf{\\hat{0}}$"
      ],
      "text/plain": [
       "0"
      ]
     },
     "metadata": {},
     "output_type": "display_data"
    }
   ],
   "source": [
    "Left = (vector_a ^ (vector_b ^ vector_c)) + (vector_b ^ (vector_c ^ vector_a)) + (vector_c ^ (vector_a ^ vector_b))\n",
    "Left = sp.simplify(sp.expand( Left ))\n",
    "print('左式为：')\n",
    "display(Left)"
   ]
  },
  {
   "cell_type": "markdown",
   "id": "af786eff-ac2b-411d-88e5-7afb89242621",
   "metadata": {},
   "source": [
    "在什么条件下有\n",
    "$$\n",
    "  \\boldsymbol A \\times (\\boldsymbol B \\times \\boldsymbol C) =(\\boldsymbol A \\times \\boldsymbol B) \\times \\boldsymbol C?\n",
    "$$"
   ]
  },
  {
   "cell_type": "code",
   "execution_count": 28,
   "id": "666556b0-f982-4871-99b7-af44c026bd36",
   "metadata": {},
   "outputs": [
    {
     "name": "stdout",
     "output_type": "stream",
     "text": [
      "左式为：\n"
     ]
    },
    {
     "data": {
      "text/latex": [
       "$\\displaystyle \\left(Ax By Cy + Ax Bz Cz - Ay By Cx - Az Bz Cx\\right)\\mathbf{\\hat{i}_{N}} + \\left(- Ax Bx Cy + Ay Bx Cx + Ay Bz Cz - Az Bz Cy\\right)\\mathbf{\\hat{j}_{N}} + \\left(- Ax Bx Cz - Ay By Cz + Az Bx Cx + Az By Cy\\right)\\mathbf{\\hat{k}_{N}}$"
      ],
      "text/plain": [
       "(Ax*By*Cy + Ax*Bz*Cz - Ay*By*Cx - Az*Bz*Cx)*N.i + (-Ax*Bx*Cy + Ay*Bx*Cx + Ay*Bz*Cz - Az*Bz*Cy)*N.j + (-Ax*Bx*Cz - Ay*By*Cz + Az*Bx*Cx + Az*By*Cy)*N.k"
      ]
     },
     "metadata": {},
     "output_type": "display_data"
    }
   ],
   "source": [
    "Left = (vector_a ^ (vector_b ^ vector_c)) - ((vector_a ^ vector_b) ^ vector_c)\n",
    "Left = sp.simplify(sp.expand( Left ))\n",
    "print('左式为：')\n",
    "display(Left)"
   ]
  },
  {
   "cell_type": "markdown",
   "id": "bb96504b-d21a-43ab-8cce-a701cefbc519",
   "metadata": {},
   "source": [
    "根据符号推演知道，当且仅当 $C(A \\cdot B) = A(B \\cdot C)$。\n",
    "当且仅当 $A, C$ 共线。\n"
   ]
  }
 ],
 "metadata": {
  "kernelspec": {
   "display_name": "d2l",
   "language": "python",
   "name": "python3"
  },
  "language_info": {
   "codemirror_mode": {
    "name": "ipython",
    "version": 3
   },
   "file_extension": ".py",
   "mimetype": "text/x-python",
   "name": "python",
   "nbconvert_exporter": "python",
   "pygments_lexer": "ipython3",
   "version": "3.8.19"
  }
 },
 "nbformat": 4,
 "nbformat_minor": 5
}
