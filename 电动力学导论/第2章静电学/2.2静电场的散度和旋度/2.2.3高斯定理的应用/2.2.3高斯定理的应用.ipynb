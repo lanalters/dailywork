{
 "cells": [
  {
   "cell_type": "markdown",
   "metadata": {},
   "source": [
    "# 2.2.3 高斯定理的应用\n",
    "\n",
    "现在我必须打断理论的探讨而向你们展示高斯定理积分形式的强大威力。\n",
    "当所考虑的问题具有某种对称性时，它提供了一种非常简单快捷计算电场的方法。\n",
    "我以几个例子来阐述这种方法。"
   ]
  },
  {
   "cell_type": "markdown",
   "metadata": {},
   "source": [
    "## 例题 2.2\n",
    "求总电荷为 $q$，半径为 $R$ 的均匀带电球体球外的电场。\n",
    "\n",
    "解：\n",
    "画一个半径 $r>R$ 的球面(见图2.18)，这称为“高斯面”。\n",
    "高斯定理指出对这个面(对其他任何闭合面也一样)\n",
    "$$\n",
    "  \\oint_S \\boldsymbol E \\cdot \\text d\\boldsymbol a = \\frac{1}{\\varepsilon_0}Q_{\\rm enc}\n",
    "$$\n",
    "并且有乍看起来这个并不能帮助我们进一步继续，因为 $\\boldsymbol E$ 是含在面积分里的。\n",
    "幸运的是，对称性使我们可以把 $E$ 提取到积分号外：$\\boldsymbol E$ 的方向是径向外指的，处处与 $\\text d\\boldsymbol a$ 同向，所以我们可以去掉点积，\n",
    "$$\n",
    "  \\oint_S \\boldsymbol E \\cdot \\text d\\boldsymbol a = \\oint_S|\\boldsymbol E|  \\text da\n",
    "$$\n",
    "另外 $\\boldsymbol E$ 的大小在球面上是一个常数，所以它可以被移到积分号外：\n",
    "R\n",
    "这样有\n",
    "\n",
    "或者\n",
    "$$\n",
    "  \\boldsymbol E = \\frac{1}{4\\pi\\varepsilon_0} \\frac{q}{r^2} \\hat{\\boldsymbol r}\n",
    "$$\n",
    "\n",
    "注意，这个结果的一个显著特性是：球外的电场同把所有的电荷集中在球心时所产生的电场是一样的。"
   ]
  },
  {
   "cell_type": "markdown",
   "metadata": {},
   "source": []
  },
  {
   "cell_type": "markdown",
   "metadata": {},
   "source": [
    "## 例题2.4\n",
    "\n",
    "一个均匀带电的无限大平面，电荷面密度为 $\\sigma$，求出它产生的电场。\n",
    "\n",
    "解：\n",
    "画出一个“高斯盒面”，盒子的顶面处于平面上方，底面处于平面的下方，顶面和底面与平面的距离相同(见图2.22)。\n",
    "对盒面应用高斯定理。\n",
    "对现在的情况，$Q_{\\rm enc} = \\sigma A$，其中 $A$ 是被盒子所包含的带电平面的面积，它等于盒子的顶面积或底面积。\n",
    "由对称性，电场 $\\boldsymbol E$ 的方向是垂直于平面的(如果平面带正电，是外指向的)，这样盒子侧面的积分为零，仅顶面和底面有贡献，而在顶面和底面上电场的大小一样，所以\n",
    "$$\n",
    "  \\oint_S \\boldsymbol E \\cdot \\text d\\boldsymbol a = 2A|\\boldsymbol E|\n",
    "$$\n",
    "因而\n",
    "$$\n",
    "  \\boldsymbol E = \\frac{\\sigma}{2\\varepsilon_0}\\hat{\\boldsymbol n}\n",
    "  \\tag{2.17}\n",
    "$$\n",
    "这里，$\\hat{\\boldsymbol  n}$ 是从平面外指的单位矢量。\n",
    "在习题2.6曾用一个很麻烦的方法得到过这个结果。\n",
    "\n",
    "乍看起来，这个结果令人不可思议。\n",
    "一个无限大平面产生的电场与到平面的距离无关。"
   ]
  },
  {
   "cell_type": "markdown",
   "metadata": {},
   "source": [
    "#### 习题2.11\n",
    "\n",
    "一个半径为 $R$ 的均匀带电球面，电荷面密度为 $\\sigma$。\n",
    "利用高斯定理求出该球面内外的电场。\n",
    "与习题2.7比较你的结果。\n",
    "\n",
    "取球面高斯面，此时球面上电场的强度相等，方向与径向相反：\n",
    "$$\n",
    "  \\oint_S \\boldsymbol E \\cdot \\text d\\boldsymbol a\n",
    "  = - |\\boldsymbol E| \\oint_S \\text da\n",
    "  = - 4\\pi z^2|\\boldsymbol E| = 0\n",
    "$$\n",
    "如果在球面外，则\n",
    "$$\n",
    "  \\oint_S \\boldsymbol E \\cdot \\text d\\boldsymbol a\n",
    "  = |\\boldsymbol E| \\oint_S \\text da\n",
    "  = 4\\pi z^2|\\boldsymbol E| = \\frac{4\\pi R^2\\sigma}{\\varepsilon_0}\n",
    "$$\n",
    "于是\n",
    "$$\n",
    "  \\boldsymbol E = \\frac{Q}{4\\pi\\varepsilon_0 z^2}\n",
    "$$"
   ]
  },
  {
   "cell_type": "markdown",
   "metadata": {},
   "source": [
    "#### 习题2.12\n",
    "\n",
    "一个均匀带电球体，电荷密度为 $\\rho$。\n",
    "利用高斯定理求出球内的电场。\n",
    "与习题2.8比较你的结果。\n",
    "\n",
    "取球面高斯面，此时球面上电场的强度相等，方向沿着径向：\n",
    "$$\n",
    "  \\oint_S \\boldsymbol E \\cdot \\text d\\boldsymbol a\n",
    "  = E \\oint_S \\text da\n",
    "  = 4\\pi r^2 E\n",
    "  = \\frac{Q}{\\varepsilon_0}\n",
    "$$"
   ]
  },
  {
   "cell_type": "markdown",
   "metadata": {},
   "source": [
    "#### 习题2.13\n",
    "\n",
    "一根无限长直均匀带电线，电荷线密度为 $\\lambda$，求出与线距离为 $s$ 处的电场，并与式(2.9)比较。\n",
    "\n",
    "取圆柱面，电场方向沿着径向，大小相等；侧面没有电场线穿过，因此\n",
    "$$\n",
    "  \\oint_S \\boldsymbol E \\cdot \\text d\\boldsymbol a\n",
    "  = E \\oint_S \\text da\n",
    "  = E 2\\pi s l\n",
    "  = \\frac{\\lambda l}{\\varepsilon_0}\n",
    "$$"
   ]
  }
 ],
 "metadata": {
  "kernelspec": {
   "display_name": "d2l",
   "language": "python",
   "name": "python3"
  },
  "language_info": {
   "codemirror_mode": {
    "name": "ipython",
    "version": 3
   },
   "file_extension": ".py",
   "mimetype": "text/x-python",
   "name": "python",
   "nbconvert_exporter": "python",
   "pygments_lexer": "ipython3",
   "version": "3.8.19"
  }
 },
 "nbformat": 4,
 "nbformat_minor": 2
}
