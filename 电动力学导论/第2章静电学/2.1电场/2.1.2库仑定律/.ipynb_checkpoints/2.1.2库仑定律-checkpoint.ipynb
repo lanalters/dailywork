{
 "cells": [
  {
   "cell_type": "markdown",
   "id": "37e67fc6-cb28-45a3-a9c5-acfc41d570c4",
   "metadata": {},
   "source": [
    "# 2.1.2库仑定律"
   ]
  },
  {
   "cell_type": "markdown",
   "id": "d3a05bab-f5a6-485f-a612-e212a5f76587",
   "metadata": {},
   "source": [
    "设一个静止点电荷 $q$ 距检验电荷 $Q$ 的距离为 $\\overrightarrow{\\mathfrak r}$，那么它作用在 $Q$ 上的力是什么?\n",
    "答案由(基于实验的)库仑定律给出：\n",
    "$$\n",
    "  \\boldsymbol F = \\frac{1}{4\\pi\\varepsilon_0} \\frac{qQ}{\\mathfrak r^2} \\hat{\\mathfrak r}\n",
    "  \\tag{2.1}\n",
    "$$\n",
    "常数 $\\varepsilon_0$ 称为真空介电常数。\n",
    "用 $\\rm SI$ 单位制，力的单位为牛顿($\\rm N$)，距离为米($\\rm m$)，电荷为库仑($\\rm C$), 则\n",
    "$$\n",
    "  \\varepsilon_0 = 8.85 \\times 10^{-12} \\frac{\\rm C^2}{\\rm N \\cdot m^2}\n",
    "$$\n",
    "可以看出，力正比于两电荷的乘积而反比于它们之间的距离。\n",
    "\n",
    "我们总用 $\\overrightarrow{\\mathfrak r}$ 表示间隔矢量，\n",
    "$$\n",
    "  \\overrightarrow{\\mathfrak r} = \\boldsymbol r - \\boldsymbol r'\n",
    "  \\tag{2.2}\n",
    "$$\n",
    "式中，$\\boldsymbol r'$ 是 $q$ 的位矢；$\\boldsymbol r$ 是 $Q$ 的位矢；$\\mathfrak r$ 是 $\\overrightarrow{\\mathfrak r}$ 的大小；$\\hat{\\mathfrak r}$ 是沿 $\\overrightarrow{\\mathfrak r}$ 方向的单位矢量。\n",
    "力沿 $q$ 到 $Q$ 的连线方向；\n",
    "如果 $q$ 同 $Q$ 同号，是排斥力，如果 $q$ 同 $Q$ 反号，是吸引力。"
   ]
  },
  {
   "cell_type": "code",
   "execution_count": 2,
   "id": "9958ea79-4133-48c4-9b15-016ae19fddfd",
   "metadata": {},
   "outputs": [],
   "source": [
    "# varepsilon_0 \n",
    "varepsilon_0 = 8.85e-12"
   ]
  },
  {
   "cell_type": "markdown",
   "id": "e67e6295-dc3b-47d1-9c23-b7083372cf97",
   "metadata": {},
   "source": [
    "### 图像表示库仑定律"
   ]
  },
  {
   "cell_type": "code",
   "execution_count": 6,
   "id": "1cd5de70-a316-4a82-870a-f4f50eefd109",
   "metadata": {},
   "outputs": [
    {
     "ename": "NameError",
     "evalue": "name 'A_x' is not defined",
     "output_type": "error",
     "traceback": [
      "\u001b[1;31m---------------------------------------------------------------------------\u001b[0m",
      "\u001b[1;31mNameError\u001b[0m                                 Traceback (most recent call last)",
      "Cell \u001b[1;32mIn[6], line 24\u001b[0m\n\u001b[0;32m     21\u001b[0m X, Y, Z \u001b[38;5;241m=\u001b[39m np\u001b[38;5;241m.\u001b[39mmeshgrid(x, y, z)\n\u001b[0;32m     23\u001b[0m \u001b[38;5;66;03m# 定义 3D 矢量场的分量\u001b[39;00m\n\u001b[1;32m---> 24\u001b[0m A_x, A_y, A_z \u001b[38;5;241m=\u001b[39m \u001b[43mvector_field\u001b[49m\u001b[43m(\u001b[49m\u001b[43mX\u001b[49m\u001b[43m,\u001b[49m\u001b[43m \u001b[49m\u001b[43mY\u001b[49m\u001b[43m,\u001b[49m\u001b[43m \u001b[49m\u001b[43mZ\u001b[49m\u001b[43m)\u001b[49m\n\u001b[0;32m     26\u001b[0m \u001b[38;5;66;03m# 绘制 3D 矢量场\u001b[39;00m\n\u001b[0;32m     27\u001b[0m fig \u001b[38;5;241m=\u001b[39m plt\u001b[38;5;241m.\u001b[39mfigure(figsize\u001b[38;5;241m=\u001b[39m(\u001b[38;5;241m10\u001b[39m, \u001b[38;5;241m8\u001b[39m))\n",
      "Cell \u001b[1;32mIn[6], line 15\u001b[0m, in \u001b[0;36mvector_field\u001b[1;34m(x, y, z)\u001b[0m\n\u001b[0;32m     13\u001b[0m Y \u001b[38;5;241m/\u001b[39m (np\u001b[38;5;241m.\u001b[39msqrt(X \u001b[38;5;241m*\u001b[39m\u001b[38;5;241m*\u001b[39m \u001b[38;5;241m2\u001b[39m \u001b[38;5;241m+\u001b[39m Y \u001b[38;5;241m*\u001b[39m\u001b[38;5;241m*\u001b[39m \u001b[38;5;241m2\u001b[39m \u001b[38;5;241m+\u001b[39m Z \u001b[38;5;241m*\u001b[39m\u001b[38;5;241m*\u001b[39m \u001b[38;5;241m2\u001b[39m) )\n\u001b[0;32m     14\u001b[0m Z \u001b[38;5;241m/\u001b[39m (np\u001b[38;5;241m.\u001b[39msqrt(X \u001b[38;5;241m*\u001b[39m\u001b[38;5;241m*\u001b[39m \u001b[38;5;241m2\u001b[39m \u001b[38;5;241m+\u001b[39m Y \u001b[38;5;241m*\u001b[39m\u001b[38;5;241m*\u001b[39m \u001b[38;5;241m2\u001b[39m \u001b[38;5;241m+\u001b[39m Z \u001b[38;5;241m*\u001b[39m\u001b[38;5;241m*\u001b[39m \u001b[38;5;241m2\u001b[39m) )\n\u001b[1;32m---> 15\u001b[0m \u001b[38;5;28;01mreturn\u001b[39;00m \u001b[43mA_x\u001b[49m, A_y, A_z\n",
      "\u001b[1;31mNameError\u001b[0m: name 'A_x' is not defined"
     ]
    }
   ],
   "source": [
    "import numpy as np\n",
    "import matplotlib.pyplot as plt\n",
    "from mpl_toolkits.mplot3d import Axes3D\n",
    "\n",
    "# 设置字体，防止中文乱码\n",
    "from matplotlib import rcParams\n",
    "rcParams['font.sans-serif'] = ['SimHei']  # 使用黑体\n",
    "rcParams['axes.unicode_minus'] = False    # 解决负号无法正常显示的问题\n",
    "\n",
    "# 定义矢量场函数\n",
    "def vector_field(x, y, z):\n",
    "    X / (np.sqrt(X ** 2 + Y ** 2 + Z ** 2) )\n",
    "    Y / (np.sqrt(X ** 2 + Y ** 2 + Z ** 2) )\n",
    "    Z / (np.sqrt(X ** 2 + Y ** 2 + Z ** 2) )\n",
    "    return A_x, A_y, A_z\n",
    "\n",
    "# 创建 3D 网格点\n",
    "x = np.linspace(-10, 10, 10)\n",
    "y = np.linspace(-10, 10, 10)\n",
    "z = np.linspace(-10, 10, 10)\n",
    "X, Y, Z = np.meshgrid(x, y, z)\n",
    "\n",
    "# 定义 3D 矢量场的分量\n",
    "A_x, A_y, A_z = vector_field(X, Y, Z)\n",
    "\n",
    "# 绘制 3D 矢量场\n",
    "fig = plt.figure(figsize=(10, 8))\n",
    "ax = fig.add_subplot(111, projection='3d')\n",
    "ax.quiver(X, Y, Z, A_x, A_y, A_z, length=0.5, normalize=True, color='b')\n",
    "\n",
    "ax.set_xlim([-10, 10])\n",
    "ax.set_ylim([-10, 10])\n",
    "ax.set_zlim([-10, 10])\n",
    "ax.set_xlabel('X 轴')\n",
    "ax.set_ylabel('Y 轴')\n",
    "ax.set_zlabel('Z 轴')\n",
    "ax.set_title('三维矢量场图像')\n",
    "plt.show()"
   ]
  },
  {
   "cell_type": "code",
   "execution_count": null,
   "id": "bd268f25-dec3-41e5-ab0f-74d95c97e61d",
   "metadata": {},
   "outputs": [],
   "source": []
  },
  {
   "cell_type": "code",
   "execution_count": null,
   "id": "d2411a45-4de3-4430-82d0-e62273eb4941",
   "metadata": {},
   "outputs": [],
   "source": []
  },
  {
   "cell_type": "code",
   "execution_count": null,
   "id": "ebb6e6b5-4d6d-4bc5-81d1-c9a339d5b5ff",
   "metadata": {},
   "outputs": [],
   "source": []
  }
 ],
 "metadata": {
  "kernelspec": {
   "display_name": "Python 3 (ipykernel)",
   "language": "python",
   "name": "python3"
  },
  "language_info": {
   "codemirror_mode": {
    "name": "ipython",
    "version": 3
   },
   "file_extension": ".py",
   "mimetype": "text/x-python",
   "name": "python",
   "nbconvert_exporter": "python",
   "pygments_lexer": "ipython3",
   "version": "3.8.19"
  }
 },
 "nbformat": 4,
 "nbformat_minor": 5
}
