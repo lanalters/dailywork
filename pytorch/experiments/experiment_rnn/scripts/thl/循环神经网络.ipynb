{
 "cells": [
  {
   "cell_type": "markdown",
   "metadata": {},
   "source": []
  },
  {
   "cell_type": "markdown",
   "metadata": {},
   "source": [
    "读取数据。"
   ]
  },
  {
   "cell_type": "code",
   "execution_count": null,
   "metadata": {},
   "outputs": [],
   "source": [
    "import torch # pytorch 主库\n",
    "from torch import nn # 神经网络\n",
    "from torch.nn import functional as F # 激活函数\n",
    "from d2l import torch as d2l # 本书自定义的库\n",
    "import random # 随机数\n",
    "import pandas as pd # 读取数据\n",
    "import numpy as np # 数组\n",
    "import math\n"
   ]
  },
  {
   "cell_type": "code",
   "execution_count": null,
   "metadata": {},
   "outputs": [],
   "source": [
    "batch_size, num_steps = 32, 35"
   ]
  },
  {
   "cell_type": "markdown",
   "metadata": {},
   "source": [
    "## 我们首先要做的是处理数据，第一步是读取数据\n"
   ]
  },
  {
   "cell_type": "code",
   "execution_count": null,
   "metadata": {},
   "outputs": [],
   "source": [
    "time_series = pd.read_csv('/home/ubuntu/code/EAST/data/2024-09-20/POINT_N/shot_77003_data.csv')\n",
    "# 此时我们的 point_ne 格式为 (4250000, 12)，行是样本量，列是特征量\n",
    "time_series.shape"
   ]
  },
  {
   "cell_type": "code",
   "execution_count": null,
   "metadata": {},
   "outputs": [],
   "source": [
    "time_series.min()"
   ]
  },
  {
   "cell_type": "markdown",
   "metadata": {},
   "source": [
    "## 接下来我们要定义抽样方法，设计迭代器"
   ]
  },
  {
   "cell_type": "code",
   "execution_count": null,
   "metadata": {},
   "outputs": [],
   "source": [
    "# 顺序抽样\n",
    "def seq_data_iter_sequential(time_series, batch_size, num_steps):\n",
    "    \"\"\"使用顺序分区生成一个小批量子序列\"\"\"\n",
    "    \"\"\" 输入语料库，批量大小，时间步数，返回小批量子序列\"\"\"\n",
    "    \n",
    "    offset = random.randint(0, num_steps)\n",
    "    # 从随机偏移量开始划分序列\n",
    "    num_tokens = ((len(time_series) - offset - 1) // batch_size) * batch_size\n",
    "    # 计算有多少个有效的样本\n",
    "    # 为什么要这么计算呢？\n",
    "    ## 首先是搞了个偏移量，让我们的结果有随机性，生成的小批量子序列不同\n",
    "    ## 其次我们最终选到的数据实际上是 batch_size 的整数倍，因此 num_tokens 是有效样本量\n",
    "    Xs = torch.tensor(time_series[offset: offset + num_tokens, :])\n",
    "    Ys = torch.tensor(time_series[offset + 1: offset + 1 + num_tokens, :])\n",
    "    # 计算有效的输入和标签\n",
    "    # 我们的 time_series 是 (样本量, 特征) 的格式\n",
    "    Xs, Ys = Xs.reshape(batch_size, -1, 11), Ys.reshape(batch_size, -1, 11)\n",
    "    # 将输入和标签转换为 (小样本量, -1, 特征数) 的格式\n",
    "    num_batches = Xs.shape[1] // num_steps\n",
    "    # 计算有多少个批量\n",
    "    for i in range(0, num_steps * num_batches, num_steps):\n",
    "        X = Xs[:, i: i + num_steps, :]\n",
    "        Y = Ys[:, i: i + num_steps, :]\n",
    "        yield X, Y"
   ]
  },
  {
   "cell_type": "code",
   "execution_count": null,
   "metadata": {},
   "outputs": [],
   "source": [
    "# 说明咱们的迭代是可行的\n",
    "for X, Y in seq_data_iter_sequential(point_ne.values, batch_size, num_steps):\n",
    "    print(X.shape)"
   ]
  },
  {
   "cell_type": "code",
   "execution_count": null,
   "metadata": {},
   "outputs": [],
   "source": [
    "def seq_data_iter_random(time_series, batch_size, num_steps):\n",
    "    \"\"\"使用随机抽样生成一个小批量子序列\"\"\"\n",
    "    \n",
    "    time_series = time_series[random.randint(0, num_steps - 1):]\n",
    "    # 从随机偏移量开始对序列进行分区，随机范围为[0, num_steps - 1]\n",
    "    # 减去1，是因为我们需要考虑标签\n",
    "    # random.randint(a, b) 返回一个随机整数N，a <= N <= b\n",
    "\n",
    "    num_subseqs = (len(time_series) - 1) // num_steps\n",
    "    # 一个子序列的长度为num_steps，所以有len(corpus) - 1 // num_steps 个子序列\n",
    "    # // 的意思是整除\n",
    "    # 减去1，是因为我们需要考虑标签\n",
    "\n",
    "    initial_indices = list(range(0, num_subseqs * num_steps, num_steps))\n",
    "    # 生成一个包含所有子序列的起始索引的列表\n",
    "    # range(start, end, step) 返回一个包含等差数列的列表\n",
    "\n",
    "    random.shuffle(initial_indices)\n",
    "    # 将所有子序列的起始索引打乱\n",
    "    # random.shuffle() 方法将序列的所有元素随机排序\n",
    "    # 在随机抽样的迭代过程中，\n",
    "    # 来自两个相邻的、随机的、小批量中的子序列不一定在原始序列上相邻\n",
    "\n",
    "    def data(pos):\n",
    "        return time_series[pos: pos + num_steps, :]\n",
    "        # 返回从pos位置开始的长度为num_steps的序列\n",
    "\n",
    "    num_batches = num_subseqs // batch_size\n",
    "    # 一个批量的子序列的数量为num_subseqs // batch_size\n",
    "\n",
    "    for i in range(0, batch_size * num_batches, batch_size):\n",
    "        \n",
    "        initial_indices_per_batch = initial_indices[i: i + batch_size]\n",
    "        # 在这里，initial_indices包含子序列的随机起始索引\n",
    "        # initial_indices_per_batch包含了一个批量的子序列的随机起始索引\n",
    "        \n",
    "        X = [data(j) for j in initial_indices_per_batch]\n",
    "        Y = [data(j + 1) for j in initial_indices_per_batch]\n",
    "        yield torch.tensor(X), torch.tensor(Y)\n",
    "        # X, Y 的格式是 (batch_size, num_steps, 特征数)\n"
   ]
  },
  {
   "cell_type": "code",
   "execution_count": null,
   "metadata": {},
   "outputs": [],
   "source": [
    "# 说明咱们的迭代是可行的\n",
    "time_series = point_ne.iloc[:10000]\n",
    "for X, Y in seq_data_iter_random(time_series.values, batch_size, num_steps):\n",
    "    print(X.shape)"
   ]
  },
  {
   "cell_type": "markdown",
   "metadata": {},
   "source": [
    "## 将两个抽样函数打包"
   ]
  },
  {
   "cell_type": "code",
   "execution_count": null,
   "metadata": {},
   "outputs": [],
   "source": [
    "class SeqDataLoader:\n",
    "    \"\"\"加载序列数据的迭代器\"\"\"\n",
    "    # 输入 batch_size, num_steps, use_random_iter, max_tokens，返回按顺序或者随机的方式小样本抽样的一个迭代器\n",
    "    def __init__(self, batch_size, num_steps, use_random_iter, max_tokens):\n",
    "        # max_tokens是指读取 time_series 的最大数量，截取前max_tokens个，目前弃用状态\n",
    "        if use_random_iter:\n",
    "            self.data_iter_fn = seq_data_iter_random\n",
    "        # 如果use_random_iter为True，则使用随机抽样\n",
    "        else:\n",
    "            self.data_iter_fn = seq_data_iter_sequential\n",
    "        # 否则使用顺序抽样\n",
    "        self.time_series = load_data_timeseries(max_tokens)\n",
    "        # 读取时光机器数据集\n",
    "        # 输入的max_tokens是指读取 time_series 的最大数量\n",
    "        self.batch_size, self.num_steps = batch_size, num_steps\n",
    "\n",
    "    def __iter__(self):\n",
    "        return self.data_iter_fn(self.time_series, self.batch_size, self.num_steps)\n",
    "    # 返回迭代器\n",
    "\n",
    "def load_data_timeseries(max_tokens=-1):\n",
    "    \"\"\" 返回时间序列数据集 \"\"\"\n",
    "    time_series = pd.read_csv('/home/ubuntu/code/EAST/data/2024-09-20/POINT_N/shot_77003_data.csv')\n",
    "\n",
    "    if max_tokens > 0:\n",
    "        time_series = time_series[:max_tokens]\n",
    "    return time_series.iloc[:,1:].values\n",
    "    # 如果 max_tokens 大于 0，则返回前 max_tokens 个词元索引，否则返回所有索引"
   ]
  },
  {
   "cell_type": "markdown",
   "metadata": {},
   "source": [
    "## 最后我们定义一个函数，直接返回数据迭代器"
   ]
  },
  {
   "cell_type": "code",
   "execution_count": null,
   "metadata": {},
   "outputs": [],
   "source": [
    "# 定义一个函数，返回迭代器\n",
    "# 至于我们要加载哪些数据，已经内置在 SeqDataLoader 类中，更进一步load_data_timeseries 函数中\n",
    "def load_data_east(batch_size, num_steps, \n",
    "                           use_random_iter=False, max_tokens=10000):\n",
    "    # use_random_iter是指是否使用随机抽样\n",
    "    # max_tokens是指将corpus中的词转换为标记的最大数量，截取前max_tokens个词\n",
    "    \n",
    "    \"\"\"返回时光机器数据集的迭代器和词表\"\"\"\n",
    "    data_iter = SeqDataLoader(\n",
    "        batch_size, num_steps, use_random_iter, max_tokens)\n",
    "    # 创建一个SeqDataLoader对象\n",
    "    # 输入 batch_size, num_steps, use_random_iter, max_tokens，返回按顺序或者随机的方式小样本抽样的一个迭代器\n",
    "    return data_iter"
   ]
  },
  {
   "cell_type": "markdown",
   "metadata": {},
   "source": [
    "# 循环神经网络的从零开始实现"
   ]
  },
  {
   "cell_type": "code",
   "execution_count": null,
   "metadata": {},
   "outputs": [],
   "source": [
    "# 初始化参数\n",
    "def get_params(features, labels, num_hiddens, device):\n",
    "    # num_hiddens 超参数，隐藏单元的数量\n",
    "    num_inputs = features\n",
    "    num_outputs = labels\n",
    "    # 输入层参数等于输出层参数等于词表大小\n",
    "\n",
    "    def normal(shape):\n",
    "        return torch.randn(size=shape, device=device, dtype=torch.float64) * 0.01\n",
    "    # 定义一个辅助函数，用来初始化模型参数\n",
    "    # 根据输入的形状shape返回一个张量，张量的值是从标准正态分布中随机取样的，然后乘以0.01\n",
    "    # device是用来指定张量的存储设备的，如果device是一个cuda设备，那么返回的张量将会被存在显存上\n",
    "\n",
    "    # 隐藏层参数\n",
    "    W_xh = normal((num_inputs, num_hiddens))\n",
    "    W_hh = normal((num_hiddens, num_hiddens))\n",
    "    b_h = torch.zeros(num_hiddens, device=device, dtype=torch.float64)\n",
    "    # 输出层参数\n",
    "    W_hq = normal((num_hiddens, num_outputs))\n",
    "    b_q = torch.zeros(num_outputs, device=device, dtype=torch.float64)\n",
    "    \"\"\" 附加梯度 \"\"\"\n",
    "    params = [W_xh, W_hh, b_h, W_hq, b_q]\n",
    "    for param in params:\n",
    "        param.requires_grad_(True)\n",
    "    return params\n",
    "    # 为模型参数附加梯度\n",
    "    # 附加梯度是指在反向传播过程中，计算梯度的张量\n"
   ]
  },
  {
   "cell_type": "code",
   "execution_count": null,
   "metadata": {},
   "outputs": [],
   "source": [
    "# 初始化隐藏状态\n",
    "def init_rnn_state(batch_size, num_hiddens, device):\n",
    "    return (torch.zeros((batch_size, num_hiddens), device=device, dtype=torch.float64), )\n",
    "# 初始化隐藏状态，返回一个元组，元组中的第一个元素是一个张量，张量的形状是 (batch_size, num_hiddens)\n"
   ]
  },
  {
   "cell_type": "code",
   "execution_count": null,
   "metadata": {},
   "outputs": [],
   "source": [
    "def rnn(inputs, state, params):\n",
    "    # inputs的形状：(时间步数量，批量大小，特征数)\n",
    "    W_xh, W_hh, b_h, W_hq, b_q = params\n",
    "    H, = state\n",
    "    # H, 表示隐藏状态\n",
    "    outputs = []\n",
    "    # X的形状：(批量大小，特征数)\n",
    "    for X in inputs:\n",
    "        H = torch.tanh(torch.mm(X, W_xh) + torch.mm(H, W_hh) + b_h)\n",
    "        # 计算隐藏状态\n",
    "        Y = torch.mm(H, W_hq) + b_q\n",
    "        # 计算输出\n",
    "        outputs.append(Y)\n",
    "    return torch.cat(outputs, dim=0), (H,)\n",
    "    # 返回输出和隐藏状态\n",
    "    # torch.cat()函数是将一个张量列表拼接成一个张量"
   ]
  },
  {
   "cell_type": "code",
   "execution_count": null,
   "metadata": {},
   "outputs": [],
   "source": [
    "class RNNModelScratch: #@save\n",
    "    \"\"\"从零开始实现的循环神经网络模型\"\"\"\n",
    "    def __init__(self, features, labels, num_hiddens, device,\n",
    "                 get_params, init_state, forward_fn):\n",
    "        self.features, self.labels, self.num_hiddens = features, labels, num_hiddens\n",
    "        self.params = get_params(features, labels, num_hiddens, device)\n",
    "        self.init_state, self.forward_fn = init_state, forward_fn\n",
    "\n",
    "    def __call__(self, X, state):\n",
    "        X = X.transpose(0, 1)\n",
    "        return self.forward_fn(X, state, self.params)\n",
    "    # __call__函数是一个特殊函数，当实例被当做函数调用时，会调用这个函数\n",
    "    # X 将输入转换成 one-hot 向量，大小为 (时间步数, 批量大小, 词表大小)\n",
    "    # 调用forward_fn函数，返回输出和隐藏状态，参数\n",
    "    # 这里 forward_fn 函数是 rnn 函数\n",
    "\n",
    "    def begin_state(self, batch_size, device):\n",
    "        return self.init_state(batch_size, self.num_hiddens, device)\n",
    "    # 返回初始化的隐藏状态"
   ]
  },
  {
   "cell_type": "code",
   "execution_count": null,
   "metadata": {},
   "outputs": [],
   "source": [
    "# 检查输出是否正确\n",
    "\n",
    "num_hiddens = 512 # 设置隐藏单元数量\n",
    "features = 11 # 特征数\n",
    "labels = 11 # 输出数\n",
    "net = RNNModelScratch(features, labels, num_hiddens, d2l.try_gpu(), get_params,\n",
    "                      init_rnn_state, rnn)\n",
    "# 实例化 RNNModelScratch 类，输入词表大小 28，隐藏层大小 512，设备，初始化参数函数，初始化隐藏状态函数，循环神经网络函数\n",
    "X = torch.zeros((batch_size, num_steps, features), dtype=torch.float64)\n",
    "state = net.begin_state(batch_size, d2l.try_gpu())\n",
    "# 初始化隐藏状态，全是 0\n",
    "# 返回一个元组，元组中的第一个元素是一个张量，张量的形状是 (batch_size, num_hiddens)，第二个元素是空\n",
    "# X 是一个 2 行 5 列的矩阵，它的行九室批量大小，列是时间步数\n",
    "Y, new_state = net(X.to(d2l.try_gpu()), state)\n",
    "# X 转化成所需的格式，时间步数 x 批量大小 x 词表大小\n",
    "# 再输入当前隐藏层，进入 rnn 计算得到输出\n",
    "Y.shape, len(new_state), new_state[0].shape"
   ]
  },
  {
   "cell_type": "code",
   "execution_count": null,
   "metadata": {},
   "outputs": [],
   "source": [
    "def predict_ch8(prefix, num_preds, net, device):\n",
    "    \"\"\" 预测 prefix 之后的数值 \"\"\"\n",
    "    # num_steps 表示预测的步数\n",
    "    state = net.begin_state(batch_size=1, device=device)\n",
    "    H, = state\n",
    "    # 初始化隐藏状态，只需输入批量大小，得到 state，格式为 H,\n",
    "    outputs = [prefix[0,:]]\n",
    "    # 输出列表\n",
    "    features = 11\n",
    "    get_input = lambda: torch.tensor([outputs[-1]], device=device).reshape((1, 1, features))\n",
    "    # 定义一个函数，返回一个张量，张量的值是输出列表的最后一个元素，形状是 (features, )\n",
    "    for y in prefix[1:,:]:  # 预热期\n",
    "        _, state = net(get_input(), state)\n",
    "        # 输入当前数值和隐藏层状态，得到输出和新的隐藏层状态\n",
    "        outputs.append(y)\n",
    "        # 输出列表添加当前字符\n",
    "    for _ in range(num_preds):  # 预测num_preds步\n",
    "        y, state = net(get_input(), state)\n",
    "        # 输入当前字符和隐藏层状态，得到输出和新的隐藏层状态\n",
    "        outputs.append(list(y.T))\n",
    "    # outputs 转化为张量\n",
    "    return torch.tensor(outputs, device=device)\n",
    "    # outputs 的格式为 (num_preds + prefix.shape[0], features)"
   ]
  },
  {
   "cell_type": "code",
   "execution_count": null,
   "metadata": {},
   "outputs": [],
   "source": [
    "num_preds = 20\n",
    "test = point_ne[:,1:]\n",
    "predict_ch8(test, num_preds, net, d2l.try_gpu())\n",
    "\n"
   ]
  },
  {
   "cell_type": "code",
   "execution_count": null,
   "metadata": {},
   "outputs": [],
   "source": [
    "def grad_clipping(net, theta):\n",
    "    \"\"\"裁剪梯度\"\"\"\n",
    "    if isinstance(net, nn.Module):\n",
    "        params = [p for p in net.parameters() if p.requires_grad]\n",
    "    else:\n",
    "        params = net.params\n",
    "    norm = torch.sqrt(sum(torch.sum((p.grad ** 2)) for p in params))\n",
    "    # 计算梯度的 L2 范数\n",
    "    if norm > theta:\n",
    "        for param in params:\n",
    "            param.grad[:] *= theta / norm"
   ]
  },
  {
   "cell_type": "code",
   "execution_count": null,
   "metadata": {},
   "outputs": [],
   "source": [
    "# 训练\n",
    "\n",
    "def train_epoch_ch8(net, train_iter, loss, updater, device, use_random_iter):\n",
    "    \"\"\"训练网络一个迭代周期（定义见第8章）\"\"\"\n",
    "    state, timer = None, d2l.Timer()\n",
    "    \n",
    "    metric = d2l.Accumulator(2)\n",
    "    # 训练损失，用预测值与标签的交叉熵损失之和\n",
    "    for X, Y in train_iter:\n",
    "    # 对于迭代的每一个结果\n",
    "        if state is None or use_random_iter:\n",
    "            # 在第一次迭代或使用随机抽样时初始化state\n",
    "            state = net.begin_state(batch_size=train_iter.batch_size, device=device)\n",
    "        else:\n",
    "            if isinstance(net, nn.Module) and not isinstance(state, tuple):\n",
    "                # state对于nn.GRU是个张量\n",
    "                state.detach_()\n",
    "            else:\n",
    "                # state对于nn.LSTM或对于我们从零开始实现的模型是个张量\n",
    "                for s in state:\n",
    "                    s.detach_()\n",
    "        y = Y.transpose(0, 1)\n",
    "        y = Y.reshape(-1, Y.shape[2])\n",
    "        X, y = X.to(device), y.to(device)\n",
    "        y_hat, state = net(X, state)\n",
    "        l = loss(y_hat, y.long())\n",
    "        if isinstance(updater, torch.optim.Optimizer):\n",
    "            updater.zero_grad()\n",
    "            l.backward()\n",
    "            grad_clipping(net, 1)\n",
    "            updater.step()\n",
    "        else:\n",
    "            l.backward()\n",
    "            grad_clipping(net, 1)\n",
    "            # 因为已经调用了mean函数\n",
    "            updater(batch_size=1)\n",
    "        metric.add(l * y.numel(), y.numel())\n",
    "    return math.exp(metric[0] / metric[1]), metric[1] / timer.stop()"
   ]
  },
  {
   "cell_type": "code",
   "execution_count": null,
   "metadata": {},
   "outputs": [],
   "source": [
    "#@save\n",
    "def train_ch8(net, train_iter, lr, num_epochs, device,\n",
    "              use_random_iter=False):\n",
    "    \"\"\"训练模型（定义见第8章）\"\"\"\n",
    "    loss = nn.MSELoss()\n",
    "    animator = d2l.Animator(xlabel='epoch', ylabel='perplexity',\n",
    "                            legend=['train'], xlim=[10, num_epochs])\n",
    "    # 初始化\n",
    "    if isinstance(net, nn.Module):\n",
    "        updater = torch.optim.SGD(net.parameters(), lr)\n",
    "    else:\n",
    "        updater = lambda batch_size: d2l.sgd(net.params, lr, batch_size)\n",
    "    \n",
    "    time_series = load_data_timeseries(1000)\n",
    "    predict = lambda prefix: predict_ch8(prefix, 50, net, device)\n",
    "    \n",
    "    \n",
    "    # 训练和预测\n",
    "    for epoch in range(num_epochs):\n",
    "        ppl, speed = train_epoch_ch8(\n",
    "            net, train_iter, loss, updater, device, use_random_iter)\n",
    "        if (epoch + 1) % 10 == 0:\n",
    "            \n",
    "            #predict(time_series)\n",
    "            animator.add(epoch + 1, [ppl])\n",
    "    print(f'困惑度 {ppl:.1f}, {speed:.1f} 词元/秒 {str(device)}')\n",
    "    #predict(time_series)"
   ]
  },
  {
   "cell_type": "code",
   "execution_count": null,
   "metadata": {},
   "outputs": [],
   "source": [
    "num_epochs, lr = 500, 1\n",
    "#train_iter = load_data_east(batch_size, num_steps, use_random_iter=True)\n",
    "train_ch8(net, train_iter, lr, num_epochs, d2l.try_gpu())\n"
   ]
  },
  {
   "cell_type": "code",
   "execution_count": null,
   "metadata": {},
   "outputs": [],
   "source": [
    "for X, Y in train_iter:\n",
    "    print(X.shape, Y.shape)\n",
    "    state = net.begin_state(batch_size=32, device=d2l.try_gpu())\n",
    "    y_hat, state = net(X.to(d2l.try_gpu()), state)\n",
    "    print(y_hat.shape)\n",
    "    \n",
    "    break"
   ]
  },
  {
   "cell_type": "code",
   "execution_count": null,
   "metadata": {},
   "outputs": [],
   "source": [
    "load_data_timeseries().shape"
   ]
  },
  {
   "cell_type": "code",
   "execution_count": null,
   "metadata": {},
   "outputs": [],
   "source": [
    "x = torch.tensor([1., 2, 3])\n",
    "y = torch.tensor([4., 8, 6])\n",
    "l = nn.MSELoss()\n",
    "l(x, y)"
   ]
  },
  {
   "cell_type": "markdown",
   "metadata": {},
   "source": [
    "## 简洁实现\n"
   ]
  },
  {
   "cell_type": "code",
   "execution_count": null,
   "metadata": {},
   "outputs": [],
   "source": [
    "batch_size, num_steps = 32, 35 # 指定批量大小和时间步数\n",
    "train_iter = load_data_east(batch_size, num_steps)\n",
    "# load_data_time_machine 输入批量大小和时间步数，返回数据迭代器和词汇表"
   ]
  },
  {
   "cell_type": "markdown",
   "metadata": {},
   "source": [
    "## [**定义模型**]\n",
    "\n",
    "高级API提供了循环神经网络的实现。\n",
    "我们构造一个具有256个隐藏单元的单隐藏层的循环神经网络层`rnn_layer`。\n",
    "事实上，我们还没有讨论多层循环神经网络的意义（这将在 :numref:`sec_deep_rnn`中介绍）。\n",
    "现在仅需要将多层理解为一层循环神经网络的输出被用作下一层循环神经网络的输入就足够了。"
   ]
  },
  {
   "cell_type": "code",
   "execution_count": null,
   "metadata": {},
   "outputs": [],
   "source": [
    "num_hiddens = 256\n",
    "features = 11\n",
    "labels = 11\n",
    "rnn_layer = nn.RNN(features, num_hiddens)"
   ]
  },
  {
   "cell_type": "markdown",
   "metadata": {},
   "source": [
    "我们(**使用张量来初始化隐状态**)，它的形状是（隐藏层数，批量大小，隐藏单元数）。\n"
   ]
  },
  {
   "cell_type": "code",
   "execution_count": null,
   "metadata": {},
   "outputs": [],
   "source": [
    "state = torch.zeros((1, batch_size, num_hiddens))\n",
    "state.shape"
   ]
  },
  {
   "cell_type": "code",
   "execution_count": null,
   "metadata": {},
   "outputs": [],
   "source": [
    "X = torch.rand(size=(num_steps, batch_size, features))\n",
    "# torch.rand 函数生成一个形状为 (num_steps, batch_size, len(vocab)) 的小批量数据\n",
    "Y, state_new = rnn_layer(X, state)\n",
    "Y.shape, state_new.shape"
   ]
  },
  {
   "cell_type": "code",
   "execution_count": null,
   "metadata": {},
   "outputs": [],
   "source": [
    "class RNNModel(nn.Module):\n",
    "    \"\"\"循环神经网络模型\"\"\"\n",
    "    def __init__(self, rnn_layer, features, labels, **kwargs):\n",
    "        super(RNNModel, self).__init__(**kwargs)\n",
    "        self.rnn = rnn_layer\n",
    "        self.features = features\n",
    "        self.labels = labels\n",
    "        self.num_hiddens = self.rnn.hidden_size\n",
    "        # 如果RNN是双向的（之后将介绍），num_directions应该是2，否则应该是1\n",
    "        if not self.rnn.bidirectional:\n",
    "            self.num_directions = 1\n",
    "            self.linear = nn.Linear(self.num_hiddens, self.features)\n",
    "        else:\n",
    "            self.num_directions = 2\n",
    "            self.linear = nn.Linear(self.num_hiddens * 2, self.features)\n",
    "\n",
    "    def forward(self, inputs, state):\n",
    "        X = F.one_hot(inputs.T.long(), self.vocab_size)\n",
    "        X = X.to(torch.float32)\n",
    "        Y, state = self.rnn(X, state)\n",
    "        # 全连接层首先将Y的形状改为(时间步数*批量大小,隐藏单元数)\n",
    "        # 它的输出形状是(时间步数*批量大小,词表大小)。\n",
    "        output = self.linear(Y.reshape((-1, Y.shape[-1])))\n",
    "        return output, state\n",
    "\n",
    "    def begin_state(self, device, batch_size=1):\n",
    "        if not isinstance(self.rnn, nn.LSTM):\n",
    "            # nn.GRU以张量作为隐状态\n",
    "            return  torch.zeros((self.num_directions * self.rnn.num_layers,\n",
    "                                 batch_size, self.num_hiddens),\n",
    "                                device=device)\n",
    "        else:\n",
    "            # nn.LSTM以元组作为隐状态\n",
    "            return (torch.zeros((\n",
    "                self.num_directions * self.rnn.num_layers,\n",
    "                batch_size, self.num_hiddens), device=device),\n",
    "                    torch.zeros((\n",
    "                        self.num_directions * self.rnn.num_layers,\n",
    "                        batch_size, self.num_hiddens), device=device))"
   ]
  }
 ],
 "metadata": {
  "kernelspec": {
   "display_name": "default09",
   "language": "python",
   "name": "python3"
  },
  "language_info": {
   "codemirror_mode": {
    "name": "ipython",
    "version": 3
   },
   "file_extension": ".py",
   "mimetype": "text/x-python",
   "name": "python",
   "nbconvert_exporter": "python",
   "pygments_lexer": "ipython3",
   "version": "3.10.13"
  }
 },
 "nbformat": 4,
 "nbformat_minor": 2
}
