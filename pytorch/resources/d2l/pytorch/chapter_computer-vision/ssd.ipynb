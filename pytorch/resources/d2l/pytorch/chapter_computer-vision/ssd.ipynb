{
 "cells": [
  {
   "cell_type": "markdown",
   "id": "6a8bed8a",
   "metadata": {
    "origin_pos": 0
   },
   "source": [
    "# 单发多框检测（SSD）\n",
    ":label:`sec_ssd`\n",
    "\n",
    "在 :numref:`sec_bbox`— :numref:`sec_object-detection-dataset`中，我们分别介绍了边界框、锚框、多尺度目标检测和用于目标检测的数据集。\n",
    "现在我们已经准备好使用这样的背景知识来设计一个目标检测模型：单发多框检测（SSD） :cite:`Liu.Anguelov.Erhan.ea.2016`。\n",
    "该模型简单、快速且被广泛使用。尽管这只是其中一种目标检测模型，但本节中的一些设计原则和实现细节也适用于其他模型。\n",
    "\n",
    "## 模型\n",
    "\n",
    " :numref:`fig_ssd`描述了单发多框检测模型的设计。\n",
    "此模型主要由基础网络组成，其后是几个多尺度特征块。\n",
    "基本网络用于从输入图像中提取特征，因此它可以使用深度卷积神经网络。\n",
    "单发多框检测论文中选用了在分类层之前截断的VGG :cite:`Liu.Anguelov.Erhan.ea.2016`，现在也常用ResNet替代。\n",
    "我们可以设计基础网络，使它输出的高和宽较大。\n",
    "这样一来，基于该特征图生成的锚框数量较多，可以用来检测尺寸较小的目标。\n",
    "接下来的每个多尺度特征块将上一层提供的特征图的高和宽缩小（如减半），并使特征图中每个单元在输入图像上的感受野变得更广阔。\n",
    "\n",
    "回想一下在 :numref:`sec_multiscale-object-detection`中，通过深度神经网络分层表示图像的多尺度目标检测的设计。\n",
    "由于接近 :numref:`fig_ssd`顶部的多尺度特征图较小，但具有较大的感受野，它们适合检测较少但较大的物体。\n",
    "简而言之，通过多尺度特征块，单发多框检测生成不同大小的锚框，并通过预测边界框的类别和偏移量来检测大小不同的目标，因此这是一个多尺度目标检测模型。\n",
    "\n",
    "![单发多框检测模型主要由一个基础网络块和若干多尺度特征块串联而成。](../img/ssd.svg)\n",
    ":label:`fig_ssd`\n",
    "\n",
    "在下面，我们将介绍 :numref:`fig_ssd`中不同块的实施细节。\n",
    "首先，我们将讨论如何实施类别和边界框预测。\n",
    "\n",
    "### [**类别预测层**]\n",
    "\n",
    "设目标类别的数量为$q$。这样一来，锚框有$q+1$个类别，其中0类是背景。\n",
    "在某个尺度下，设特征图的高和宽分别为$h$和$w$。\n",
    "如果以其中每个单元为中心生成$a$个锚框，那么我们需要对$hwa$个锚框进行分类。\n",
    "如果使用全连接层作为输出，很容易导致模型参数过多。\n",
    "回忆 :numref:`sec_nin`一节介绍的使用卷积层的通道来输出类别预测的方法，\n",
    "单发多框检测采用同样的方法来降低模型复杂度。\n",
    "\n",
    "具体来说，类别预测层使用一个保持输入高和宽的卷积层。\n",
    "这样一来，输出和输入在特征图宽和高上的空间坐标一一对应。\n",
    "考虑输出和输入同一空间坐标（$x$、$y$）：输出特征图上（$x$、$y$）坐标的通道里包含了以输入特征图（$x$、$y$）坐标为中心生成的所有锚框的类别预测。\n",
    "因此输出通道数为$a(q+1)$，其中索引为$i(q+1) + j$（$0 \\leq j \\leq q$）的通道代表了索引为$i$的锚框有关类别索引为$j$的预测。\n",
    "\n",
    "在下面，我们定义了这样一个类别预测层，通过参数`num_anchors`和`num_classes`分别指定了$a$和$q$。\n",
    "该图层使用填充为1的$3\\times3$的卷积层。此卷积层的输入和输出的宽度和高度保持不变。\n"
   ]
  },
  {
   "cell_type": "code",
   "execution_count": 1,
   "id": "342ee008",
   "metadata": {
    "execution": {
     "iopub.execute_input": "2022-12-07T17:38:17.809326Z",
     "iopub.status.busy": "2022-12-07T17:38:17.808709Z",
     "iopub.status.idle": "2022-12-07T17:38:20.859771Z",
     "shell.execute_reply": "2022-12-07T17:38:20.858953Z"
    },
    "origin_pos": 2,
    "tab": [
     "pytorch"
    ]
   },
   "outputs": [],
   "source": [
    "%matplotlib inline\n",
    "import torch\n",
    "import torchvision\n",
    "from torch import nn\n",
    "from torch.nn import functional as F\n",
    "from d2l import torch as d2l\n",
    "\n",
    "\n",
    "def cls_predictor(num_inputs, num_anchors, num_classes):\n",
    "    return nn.Conv2d(num_inputs, num_anchors * (num_classes + 1),\n",
    "                     kernel_size=3, padding=1)"
   ]
  },
  {
   "cell_type": "markdown",
   "id": "9cd47b9b",
   "metadata": {
    "origin_pos": 4
   },
   "source": [
    "### (**边界框预测层**)\n",
    "\n",
    "边界框预测层的设计与类别预测层的设计类似。\n",
    "唯一不同的是，这里需要为每个锚框预测4个偏移量，而不是$q+1$个类别。\n"
   ]
  },
  {
   "cell_type": "code",
   "execution_count": 2,
   "id": "874f3567",
   "metadata": {
    "execution": {
     "iopub.execute_input": "2022-12-07T17:38:20.863567Z",
     "iopub.status.busy": "2022-12-07T17:38:20.863024Z",
     "iopub.status.idle": "2022-12-07T17:38:20.867079Z",
     "shell.execute_reply": "2022-12-07T17:38:20.866347Z"
    },
    "origin_pos": 6,
    "tab": [
     "pytorch"
    ]
   },
   "outputs": [],
   "source": [
    "def bbox_predictor(num_inputs, num_anchors):\n",
    "    return nn.Conv2d(num_inputs, num_anchors * 4, kernel_size=3, padding=1)"
   ]
  },
  {
   "cell_type": "markdown",
   "id": "621251f5",
   "metadata": {
    "origin_pos": 8
   },
   "source": [
    "### [**连结多尺度的预测**]\n",
    "\n",
    "正如我们所提到的，单发多框检测使用多尺度特征图来生成锚框并预测其类别和偏移量。\n",
    "在不同的尺度下，特征图的形状或以同一单元为中心的锚框的数量可能会有所不同。\n",
    "因此，不同尺度下预测输出的形状可能会有所不同。\n",
    "\n",
    "在以下示例中，我们为同一个小批量构建两个不同比例（`Y1`和`Y2`）的特征图，其中`Y2`的高度和宽度是`Y1`的一半。\n",
    "以类别预测为例，假设`Y1`和`Y2`的每个单元分别生成了$5$个和$3$个锚框。\n",
    "进一步假设目标类别的数量为$10$，对于特征图`Y1`和`Y2`，类别预测输出中的通道数分别为$5\\times(10+1)=55$和$3\\times(10+1)=33$，其中任一输出的形状是（批量大小，通道数，高度，宽度）。\n"
   ]
  },
  {
   "cell_type": "code",
   "execution_count": 3,
   "id": "db0024c0",
   "metadata": {
    "execution": {
     "iopub.execute_input": "2022-12-07T17:38:20.870137Z",
     "iopub.status.busy": "2022-12-07T17:38:20.869726Z",
     "iopub.status.idle": "2022-12-07T17:38:20.904646Z",
     "shell.execute_reply": "2022-12-07T17:38:20.903941Z"
    },
    "origin_pos": 10,
    "tab": [
     "pytorch"
    ]
   },
   "outputs": [
    {
     "data": {
      "text/plain": [
       "(torch.Size([2, 55, 20, 20]), torch.Size([2, 33, 10, 10]))"
      ]
     },
     "execution_count": 3,
     "metadata": {},
     "output_type": "execute_result"
    }
   ],
   "source": [
    "def forward(x, block):\n",
    "    return block(x)\n",
    "\n",
    "Y1 = forward(torch.zeros((2, 8, 20, 20)), cls_predictor(8, 5, 10))\n",
    "Y2 = forward(torch.zeros((2, 16, 10, 10)), cls_predictor(16, 3, 10))\n",
    "Y1.shape, Y2.shape"
   ]
  },
  {
   "cell_type": "markdown",
   "id": "ab9f6da6",
   "metadata": {
    "origin_pos": 12
   },
   "source": [
    "正如我们所看到的，除了批量大小这一维度外，其他三个维度都具有不同的尺寸。\n",
    "为了将这两个预测输出链接起来以提高计算效率，我们将把这些张量转换为更一致的格式。\n",
    "\n",
    "通道维包含中心相同的锚框的预测结果。我们首先将通道维移到最后一维。\n",
    "因为不同尺度下批量大小仍保持不变，我们可以将预测结果转成二维的（批量大小，高$\\times$宽$\\times$通道数）的格式，以方便之后在维度$1$上的连结。\n"
   ]
  },
  {
   "cell_type": "code",
   "execution_count": 4,
   "id": "c6bc9a5b",
   "metadata": {
    "execution": {
     "iopub.execute_input": "2022-12-07T17:38:20.907950Z",
     "iopub.status.busy": "2022-12-07T17:38:20.907521Z",
     "iopub.status.idle": "2022-12-07T17:38:20.911886Z",
     "shell.execute_reply": "2022-12-07T17:38:20.911179Z"
    },
    "origin_pos": 14,
    "tab": [
     "pytorch"
    ]
   },
   "outputs": [],
   "source": [
    "def flatten_pred(pred):\n",
    "    return torch.flatten(pred.permute(0, 2, 3, 1), start_dim=1)\n",
    "\n",
    "def concat_preds(preds):\n",
    "    return torch.cat([flatten_pred(p) for p in preds], dim=1)"
   ]
  },
  {
   "cell_type": "markdown",
   "id": "369427b3",
   "metadata": {
    "origin_pos": 16
   },
   "source": [
    "这样一来，尽管`Y1`和`Y2`在通道数、高度和宽度方面具有不同的大小，我们仍然可以在同一个小批量的两个不同尺度上连接这两个预测输出。\n"
   ]
  },
  {
   "cell_type": "code",
   "execution_count": 5,
   "id": "f1050eeb",
   "metadata": {
    "execution": {
     "iopub.execute_input": "2022-12-07T17:38:20.914994Z",
     "iopub.status.busy": "2022-12-07T17:38:20.914499Z",
     "iopub.status.idle": "2022-12-07T17:38:20.920406Z",
     "shell.execute_reply": "2022-12-07T17:38:20.919655Z"
    },
    "origin_pos": 17,
    "tab": [
     "pytorch"
    ]
   },
   "outputs": [
    {
     "data": {
      "text/plain": [
       "torch.Size([2, 25300])"
      ]
     },
     "execution_count": 5,
     "metadata": {},
     "output_type": "execute_result"
    }
   ],
   "source": [
    "concat_preds([Y1, Y2]).shape"
   ]
  },
  {
   "cell_type": "markdown",
   "id": "fa1c7176",
   "metadata": {
    "origin_pos": 18
   },
   "source": [
    "### [**高和宽减半块**]\n",
    "\n",
    "为了在多个尺度下检测目标，我们在下面定义了高和宽减半块`down_sample_blk`，该模块将输入特征图的高度和宽度减半。\n",
    "事实上，该块应用了在 :numref:`subsec_vgg-blocks`中的VGG模块设计。\n",
    "更具体地说，每个高和宽减半块由两个填充为$1$的$3\\times3$的卷积层、以及步幅为$2$的$2\\times2$最大汇聚层组成。\n",
    "我们知道，填充为$1$的$3\\times3$卷积层不改变特征图的形状。但是，其后的$2\\times2$的最大汇聚层将输入特征图的高度和宽度减少了一半。\n",
    "对于此高和宽减半块的输入和输出特征图，因为$1\\times 2+(3-1)+(3-1)=6$，所以输出中的每个单元在输入上都有一个$6\\times6$的感受野。因此，高和宽减半块会扩大每个单元在其输出特征图中的感受野。\n"
   ]
  },
  {
   "cell_type": "code",
   "execution_count": 6,
   "id": "2aa3380b",
   "metadata": {
    "execution": {
     "iopub.execute_input": "2022-12-07T17:38:20.923772Z",
     "iopub.status.busy": "2022-12-07T17:38:20.923154Z",
     "iopub.status.idle": "2022-12-07T17:38:20.928055Z",
     "shell.execute_reply": "2022-12-07T17:38:20.927340Z"
    },
    "origin_pos": 20,
    "tab": [
     "pytorch"
    ]
   },
   "outputs": [],
   "source": [
    "def down_sample_blk(in_channels, out_channels):\n",
    "    blk = []\n",
    "    for _ in range(2):\n",
    "        blk.append(nn.Conv2d(in_channels, out_channels,\n",
    "                             kernel_size=3, padding=1))\n",
    "        blk.append(nn.BatchNorm2d(out_channels))\n",
    "        blk.append(nn.ReLU())\n",
    "        in_channels = out_channels\n",
    "    blk.append(nn.MaxPool2d(2))\n",
    "    return nn.Sequential(*blk)"
   ]
  },
  {
   "cell_type": "markdown",
   "id": "fd4144b4",
   "metadata": {
    "origin_pos": 22
   },
   "source": [
    "在以下示例中，我们构建的高和宽减半块会更改输入通道的数量，并将输入特征图的高度和宽度减半。\n"
   ]
  },
  {
   "cell_type": "code",
   "execution_count": 7,
   "id": "9be135c0",
   "metadata": {
    "execution": {
     "iopub.execute_input": "2022-12-07T17:38:20.931332Z",
     "iopub.status.busy": "2022-12-07T17:38:20.930734Z",
     "iopub.status.idle": "2022-12-07T17:38:20.940465Z",
     "shell.execute_reply": "2022-12-07T17:38:20.939746Z"
    },
    "origin_pos": 24,
    "tab": [
     "pytorch"
    ]
   },
   "outputs": [
    {
     "data": {
      "text/plain": [
       "torch.Size([2, 10, 10, 10])"
      ]
     },
     "execution_count": 7,
     "metadata": {},
     "output_type": "execute_result"
    }
   ],
   "source": [
    "forward(torch.zeros((2, 3, 20, 20)), down_sample_blk(3, 10)).shape"
   ]
  },
  {
   "cell_type": "markdown",
   "id": "f9055d45",
   "metadata": {
    "origin_pos": 26
   },
   "source": [
    "### [**基本网络块**]\n",
    "\n",
    "基本网络块用于从输入图像中抽取特征。\n",
    "为了计算简洁，我们构造了一个小的基础网络，该网络串联3个高和宽减半块，并逐步将通道数翻倍。\n",
    "给定输入图像的形状为$256\\times256$，此基本网络块输出的特征图形状为$32 \\times 32$（$256/2^3=32$）。\n"
   ]
  },
  {
   "cell_type": "code",
   "execution_count": 8,
   "id": "0ee88bfa",
   "metadata": {
    "execution": {
     "iopub.execute_input": "2022-12-07T17:38:20.943829Z",
     "iopub.status.busy": "2022-12-07T17:38:20.943214Z",
     "iopub.status.idle": "2022-12-07T17:38:20.979005Z",
     "shell.execute_reply": "2022-12-07T17:38:20.978212Z"
    },
    "origin_pos": 28,
    "tab": [
     "pytorch"
    ]
   },
   "outputs": [
    {
     "data": {
      "text/plain": [
       "torch.Size([2, 64, 32, 32])"
      ]
     },
     "execution_count": 8,
     "metadata": {},
     "output_type": "execute_result"
    }
   ],
   "source": [
    "def base_net():\n",
    "    blk = []\n",
    "    num_filters = [3, 16, 32, 64]\n",
    "    for i in range(len(num_filters) - 1):\n",
    "        blk.append(down_sample_blk(num_filters[i], num_filters[i+1]))\n",
    "    return nn.Sequential(*blk)\n",
    "\n",
    "forward(torch.zeros((2, 3, 256, 256)), base_net()).shape"
   ]
  },
  {
   "cell_type": "markdown",
   "id": "0f4f120c",
   "metadata": {
    "origin_pos": 30
   },
   "source": [
    "### 完整的模型\n",
    "\n",
    "[**完整的单发多框检测模型由五个模块组成**]。每个块生成的特征图既用于生成锚框，又用于预测这些锚框的类别和偏移量。在这五个模块中，第一个是基本网络块，第二个到第四个是高和宽减半块，最后一个模块使用全局最大池将高度和宽度都降到1。从技术上讲，第二到第五个区块都是 :numref:`fig_ssd`中的多尺度特征块。\n"
   ]
  },
  {
   "cell_type": "code",
   "execution_count": 9,
   "id": "630514a5",
   "metadata": {
    "execution": {
     "iopub.execute_input": "2022-12-07T17:38:20.982533Z",
     "iopub.status.busy": "2022-12-07T17:38:20.981993Z",
     "iopub.status.idle": "2022-12-07T17:38:20.986626Z",
     "shell.execute_reply": "2022-12-07T17:38:20.985868Z"
    },
    "origin_pos": 32,
    "tab": [
     "pytorch"
    ]
   },
   "outputs": [],
   "source": [
    "def get_blk(i):\n",
    "    if i == 0:\n",
    "        blk = base_net()\n",
    "    elif i == 1:\n",
    "        blk = down_sample_blk(64, 128)\n",
    "    elif i == 4:\n",
    "        blk = nn.AdaptiveMaxPool2d((1,1))\n",
    "    else:\n",
    "        blk = down_sample_blk(128, 128)\n",
    "    return blk"
   ]
  },
  {
   "cell_type": "markdown",
   "id": "788f94f0",
   "metadata": {
    "origin_pos": 34
   },
   "source": [
    "现在我们[**为每个块定义前向传播**]。与图像分类任务不同，此处的输出包括：CNN特征图`Y`；在当前尺度下根据`Y`生成的锚框；预测的这些锚框的类别和偏移量（基于`Y`）。\n"
   ]
  },
  {
   "cell_type": "code",
   "execution_count": 10,
   "id": "826e6b7e",
   "metadata": {
    "execution": {
     "iopub.execute_input": "2022-12-07T17:38:20.990006Z",
     "iopub.status.busy": "2022-12-07T17:38:20.989396Z",
     "iopub.status.idle": "2022-12-07T17:38:20.993766Z",
     "shell.execute_reply": "2022-12-07T17:38:20.993051Z"
    },
    "origin_pos": 36,
    "tab": [
     "pytorch"
    ]
   },
   "outputs": [],
   "source": [
    "def blk_forward(X, blk, size, ratio, cls_predictor, bbox_predictor):\n",
    "    Y = blk(X)\n",
    "    anchors = d2l.multibox_prior(Y, sizes=size, ratios=ratio)\n",
    "    cls_preds = cls_predictor(Y)\n",
    "    bbox_preds = bbox_predictor(Y)\n",
    "    return (Y, anchors, cls_preds, bbox_preds)"
   ]
  },
  {
   "cell_type": "markdown",
   "id": "d626cb87",
   "metadata": {
    "origin_pos": 38
   },
   "source": [
    "回想一下，在 :numref:`fig_ssd`中，一个较接近顶部的多尺度特征块是用于检测较大目标的，因此需要生成更大的锚框。\n",
    "在上面的前向传播中，在每个多尺度特征块上，我们通过调用的`multibox_prior`函数（见 :numref:`sec_anchor`）的`sizes`参数传递两个比例值的列表。\n",
    "在下面，0.2和1.05之间的区间被均匀分成五个部分，以确定五个模块的在不同尺度下的较小值：0.2、0.37、0.54、0.71和0.88。\n",
    "之后，他们较大的值由$\\sqrt{0.2 \\times 0.37} = 0.272$、$\\sqrt{0.37 \\times 0.54} = 0.447$等给出。\n",
    "\n",
    "[~~超参数~~]\n"
   ]
  },
  {
   "cell_type": "code",
   "execution_count": 11,
   "id": "42eb5b8a",
   "metadata": {
    "execution": {
     "iopub.execute_input": "2022-12-07T17:38:20.997040Z",
     "iopub.status.busy": "2022-12-07T17:38:20.996464Z",
     "iopub.status.idle": "2022-12-07T17:38:21.000736Z",
     "shell.execute_reply": "2022-12-07T17:38:21.000016Z"
    },
    "origin_pos": 39,
    "tab": [
     "pytorch"
    ]
   },
   "outputs": [],
   "source": [
    "sizes = [[0.2, 0.272], [0.37, 0.447], [0.54, 0.619], [0.71, 0.79],\n",
    "         [0.88, 0.961]]\n",
    "ratios = [[1, 2, 0.5]] * 5\n",
    "num_anchors = len(sizes[0]) + len(ratios[0]) - 1"
   ]
  },
  {
   "cell_type": "markdown",
   "id": "2c096208",
   "metadata": {
    "origin_pos": 40
   },
   "source": [
    "现在，我们就可以按如下方式[**定义完整的模型**]`TinySSD`了。\n"
   ]
  },
  {
   "cell_type": "code",
   "execution_count": 12,
   "id": "117ebaba",
   "metadata": {
    "execution": {
     "iopub.execute_input": "2022-12-07T17:38:21.003960Z",
     "iopub.status.busy": "2022-12-07T17:38:21.003469Z",
     "iopub.status.idle": "2022-12-07T17:38:21.011143Z",
     "shell.execute_reply": "2022-12-07T17:38:21.010414Z"
    },
    "origin_pos": 42,
    "tab": [
     "pytorch"
    ]
   },
   "outputs": [],
   "source": [
    "class TinySSD(nn.Module):\n",
    "    def __init__(self, num_classes, **kwargs):\n",
    "        super(TinySSD, self).__init__(**kwargs)\n",
    "        self.num_classes = num_classes\n",
    "        idx_to_in_channels = [64, 128, 128, 128, 128]\n",
    "        for i in range(5):\n",
    "            # 即赋值语句self.blk_i=get_blk(i)\n",
    "            setattr(self, f'blk_{i}', get_blk(i))\n",
    "            setattr(self, f'cls_{i}', cls_predictor(idx_to_in_channels[i],\n",
    "                                                    num_anchors, num_classes))\n",
    "            setattr(self, f'bbox_{i}', bbox_predictor(idx_to_in_channels[i],\n",
    "                                                      num_anchors))\n",
    "\n",
    "    def forward(self, X):\n",
    "        anchors, cls_preds, bbox_preds = [None] * 5, [None] * 5, [None] * 5\n",
    "        for i in range(5):\n",
    "            # getattr(self,'blk_%d'%i)即访问self.blk_i\n",
    "            X, anchors[i], cls_preds[i], bbox_preds[i] = blk_forward(\n",
    "                X, getattr(self, f'blk_{i}'), sizes[i], ratios[i],\n",
    "                getattr(self, f'cls_{i}'), getattr(self, f'bbox_{i}'))\n",
    "        anchors = torch.cat(anchors, dim=1)\n",
    "        cls_preds = concat_preds(cls_preds)\n",
    "        cls_preds = cls_preds.reshape(\n",
    "            cls_preds.shape[0], -1, self.num_classes + 1)\n",
    "        bbox_preds = concat_preds(bbox_preds)\n",
    "        return anchors, cls_preds, bbox_preds"
   ]
  },
  {
   "cell_type": "markdown",
   "id": "7147c9d0",
   "metadata": {
    "origin_pos": 44
   },
   "source": [
    "我们[**创建一个模型实例，然后使用它**]对一个$256 \\times 256$像素的小批量图像`X`(**执行前向传播**)。\n",
    "\n",
    "如本节前面部分所示，第一个模块输出特征图的形状为$32 \\times 32$。\n",
    "回想一下，第二到第四个模块为高和宽减半块，第五个模块为全局汇聚层。\n",
    "由于以特征图的每个单元为中心有$4$个锚框生成，因此在所有五个尺度下，每个图像总共生成$(32^2 + 16^2 + 8^2 + 4^2 + 1)\\times 4 = 5444$个锚框。\n"
   ]
  },
  {
   "cell_type": "code",
   "execution_count": 13,
   "id": "06038003",
   "metadata": {
    "execution": {
     "iopub.execute_input": "2022-12-07T17:38:21.014471Z",
     "iopub.status.busy": "2022-12-07T17:38:21.013871Z",
     "iopub.status.idle": "2022-12-07T17:38:21.465449Z",
     "shell.execute_reply": "2022-12-07T17:38:21.464614Z"
    },
    "origin_pos": 46,
    "tab": [
     "pytorch"
    ]
   },
   "outputs": [
    {
     "name": "stdout",
     "output_type": "stream",
     "text": [
      "output anchors: torch.Size([1, 5444, 4])\n",
      "output class preds: torch.Size([32, 5444, 2])\n",
      "output bbox preds: torch.Size([32, 21776])\n"
     ]
    },
    {
     "name": "stdout",
     "output_type": "stream",
     "text": [
      "/home/d2l-worker/miniconda3/envs/d2l-zh-release-1/lib/python3.9/site-packages/torch/functional.py:478: UserWarning: torch.meshgrid: in an upcoming release, it will be required to pass the indexing argument. (Triggered internally at  ../aten/src/ATen/native/TensorShape.cpp:2895.)\n",
      "  return _VF.meshgrid(tensors, **kwargs)  # type: ignore[attr-defined]\n"
     ]
    }
   ],
   "source": [
    "net = TinySSD(num_classes=1)\n",
    "X = torch.zeros((32, 3, 256, 256))\n",
    "anchors, cls_preds, bbox_preds = net(X)\n",
    "\n",
    "print('output anchors:', anchors.shape)\n",
    "print('output class preds:', cls_preds.shape)\n",
    "print('output bbox preds:', bbox_preds.shape)"
   ]
  },
  {
   "cell_type": "markdown",
   "id": "d3fcaf31",
   "metadata": {
    "origin_pos": 48
   },
   "source": [
    "## 训练模型\n",
    "\n",
    "现在，我们将描述如何训练用于目标检测的单发多框检测模型。\n",
    "\n",
    "### 读取数据集和初始化\n",
    "\n",
    "首先，让我们[**读取**] :numref:`sec_object-detection-dataset`中描述的(**香蕉检测数据集**)。\n"
   ]
  },
  {
   "cell_type": "code",
   "execution_count": 14,
   "id": "eb1120b5",
   "metadata": {
    "execution": {
     "iopub.execute_input": "2022-12-07T17:38:21.469061Z",
     "iopub.status.busy": "2022-12-07T17:38:21.468491Z",
     "iopub.status.idle": "2022-12-07T17:38:25.865354Z",
     "shell.execute_reply": "2022-12-07T17:38:25.864562Z"
    },
    "origin_pos": 49,
    "tab": [
     "pytorch"
    ]
   },
   "outputs": [
    {
     "name": "stdout",
     "output_type": "stream",
     "text": [
      "read 1000 training examples\n"
     ]
    },
    {
     "name": "stdout",
     "output_type": "stream",
     "text": [
      "read 100 validation examples\n"
     ]
    }
   ],
   "source": [
    "batch_size = 32\n",
    "train_iter, _ = d2l.load_data_bananas(batch_size)"
   ]
  },
  {
   "cell_type": "markdown",
   "id": "aa90931d",
   "metadata": {
    "origin_pos": 50
   },
   "source": [
    "香蕉检测数据集中，目标的类别数为1。\n",
    "定义好模型后，我们需要(**初始化其参数并定义优化算法**)。\n"
   ]
  },
  {
   "cell_type": "code",
   "execution_count": 15,
   "id": "a69d4488",
   "metadata": {
    "execution": {
     "iopub.execute_input": "2022-12-07T17:38:25.868734Z",
     "iopub.status.busy": "2022-12-07T17:38:25.868279Z",
     "iopub.status.idle": "2022-12-07T17:38:25.888687Z",
     "shell.execute_reply": "2022-12-07T17:38:25.887968Z"
    },
    "origin_pos": 52,
    "tab": [
     "pytorch"
    ]
   },
   "outputs": [],
   "source": [
    "device, net = d2l.try_gpu(), TinySSD(num_classes=1)\n",
    "trainer = torch.optim.SGD(net.parameters(), lr=0.2, weight_decay=5e-4)"
   ]
  },
  {
   "cell_type": "markdown",
   "id": "2f90eba4",
   "metadata": {
    "origin_pos": 54
   },
   "source": [
    "### [**定义损失函数和评价函数**]\n",
    "\n",
    "目标检测有两种类型的损失。\n",
    "第一种有关锚框类别的损失：我们可以简单地复用之前图像分类问题里一直使用的交叉熵损失函数来计算；\n",
    "第二种有关正类锚框偏移量的损失：预测偏移量是一个回归问题。\n",
    "但是，对于这个回归问题，我们在这里不使用 :numref:`subsec_normal_distribution_and_squared_loss`中描述的平方损失，而是使用$L_1$范数损失，即预测值和真实值之差的绝对值。\n",
    "掩码变量`bbox_masks`令负类锚框和填充锚框不参与损失的计算。\n",
    "最后，我们将锚框类别和偏移量的损失相加，以获得模型的最终损失函数。\n"
   ]
  },
  {
   "cell_type": "code",
   "execution_count": 16,
   "id": "883cf50e",
   "metadata": {
    "execution": {
     "iopub.execute_input": "2022-12-07T17:38:25.891762Z",
     "iopub.status.busy": "2022-12-07T17:38:25.891353Z",
     "iopub.status.idle": "2022-12-07T17:38:25.896686Z",
     "shell.execute_reply": "2022-12-07T17:38:25.895957Z"
    },
    "origin_pos": 56,
    "tab": [
     "pytorch"
    ]
   },
   "outputs": [],
   "source": [
    "cls_loss = nn.CrossEntropyLoss(reduction='none')\n",
    "bbox_loss = nn.L1Loss(reduction='none')\n",
    "\n",
    "def calc_loss(cls_preds, cls_labels, bbox_preds, bbox_labels, bbox_masks):\n",
    "    batch_size, num_classes = cls_preds.shape[0], cls_preds.shape[2]\n",
    "    cls = cls_loss(cls_preds.reshape(-1, num_classes),\n",
    "                   cls_labels.reshape(-1)).reshape(batch_size, -1).mean(dim=1)\n",
    "    bbox = bbox_loss(bbox_preds * bbox_masks,\n",
    "                     bbox_labels * bbox_masks).mean(dim=1)\n",
    "    return cls + bbox"
   ]
  },
  {
   "cell_type": "markdown",
   "id": "e8ff9334",
   "metadata": {
    "origin_pos": 58
   },
   "source": [
    "我们可以沿用准确率评价分类结果。\n",
    "由于偏移量使用了$L_1$范数损失，我们使用*平均绝对误差*来评价边界框的预测结果。这些预测结果是从生成的锚框及其预测偏移量中获得的。\n"
   ]
  },
  {
   "cell_type": "code",
   "execution_count": 17,
   "id": "63bb405a",
   "metadata": {
    "execution": {
     "iopub.execute_input": "2022-12-07T17:38:25.900057Z",
     "iopub.status.busy": "2022-12-07T17:38:25.899443Z",
     "iopub.status.idle": "2022-12-07T17:38:25.904023Z",
     "shell.execute_reply": "2022-12-07T17:38:25.903271Z"
    },
    "origin_pos": 60,
    "tab": [
     "pytorch"
    ]
   },
   "outputs": [],
   "source": [
    "def cls_eval(cls_preds, cls_labels):\n",
    "    # 由于类别预测结果放在最后一维，argmax需要指定最后一维。\n",
    "    return float((cls_preds.argmax(dim=-1).type(\n",
    "        cls_labels.dtype) == cls_labels).sum())\n",
    "\n",
    "def bbox_eval(bbox_preds, bbox_labels, bbox_masks):\n",
    "    return float((torch.abs((bbox_labels - bbox_preds) * bbox_masks)).sum())"
   ]
  },
  {
   "cell_type": "markdown",
   "id": "20b502ea",
   "metadata": {
    "origin_pos": 62
   },
   "source": [
    "### [**训练模型**]\n",
    "\n",
    "在训练模型时，我们需要在模型的前向传播过程中生成多尺度锚框（`anchors`），并预测其类别（`cls_preds`）和偏移量（`bbox_preds`）。\n",
    "然后，我们根据标签信息`Y`为生成的锚框标记类别（`cls_labels`）和偏移量（`bbox_labels`）。\n",
    "最后，我们根据类别和偏移量的预测和标注值计算损失函数。为了代码简洁，这里没有评价测试数据集。\n"
   ]
  },
  {
   "cell_type": "code",
   "execution_count": 18,
   "id": "62b01d96",
   "metadata": {
    "execution": {
     "iopub.execute_input": "2022-12-07T17:38:25.907293Z",
     "iopub.status.busy": "2022-12-07T17:38:25.906714Z",
     "iopub.status.idle": "2022-12-07T17:39:43.987460Z",
     "shell.execute_reply": "2022-12-07T17:39:43.986632Z"
    },
    "origin_pos": 64,
    "tab": [
     "pytorch"
    ]
   },
   "outputs": [
    {
     "name": "stdout",
     "output_type": "stream",
     "text": [
      "class err 3.17e-03, bbox mae 3.01e-03\n",
      "6261.8 examples/sec on cuda:0\n"
     ]
    },
    {
     "data": {
      "image/svg+xml": [
       "<?xml version=\"1.0\" encoding=\"utf-8\" standalone=\"no\"?>\n",
       "<!DOCTYPE svg PUBLIC \"-//W3C//DTD SVG 1.1//EN\"\n",
       "  \"http://www.w3.org/Graphics/SVG/1.1/DTD/svg11.dtd\">\n",
       "<svg xmlns:xlink=\"http://www.w3.org/1999/xlink\" width=\"251.690625pt\" height=\"183.35625pt\" viewBox=\"0 0 251.690625 183.35625\" xmlns=\"http://www.w3.org/2000/svg\" version=\"1.1\">\n",
       " <metadata>\n",
       "  <rdf:RDF xmlns:dc=\"http://purl.org/dc/elements/1.1/\" xmlns:cc=\"http://creativecommons.org/ns#\" xmlns:rdf=\"http://www.w3.org/1999/02/22-rdf-syntax-ns#\">\n",
       "   <cc:Work>\n",
       "    <dc:type rdf:resource=\"http://purl.org/dc/dcmitype/StillImage\"/>\n",
       "    <dc:date>2022-12-07T17:39:43.953084</dc:date>\n",
       "    <dc:format>image/svg+xml</dc:format>\n",
       "    <dc:creator>\n",
       "     <cc:Agent>\n",
       "      <dc:title>Matplotlib v3.5.1, https://matplotlib.org/</dc:title>\n",
       "     </cc:Agent>\n",
       "    </dc:creator>\n",
       "   </cc:Work>\n",
       "  </rdf:RDF>\n",
       " </metadata>\n",
       " <defs>\n",
       "  <style type=\"text/css\">*{stroke-linejoin: round; stroke-linecap: butt}</style>\n",
       " </defs>\n",
       " <g id=\"figure_1\">\n",
       "  <g id=\"patch_1\">\n",
       "   <path d=\"M 0 183.35625 \n",
       "L 251.690625 183.35625 \n",
       "L 251.690625 0 \n",
       "L 0 0 \n",
       "z\n",
       "\" style=\"fill: #ffffff\"/>\n",
       "  </g>\n",
       "  <g id=\"axes_1\">\n",
       "   <g id=\"patch_2\">\n",
       "    <path d=\"M 42.828125 145.8 \n",
       "L 238.128125 145.8 \n",
       "L 238.128125 7.2 \n",
       "L 42.828125 7.2 \n",
       "z\n",
       "\" style=\"fill: #ffffff\"/>\n",
       "   </g>\n",
       "   <g id=\"matplotlib.axis_1\">\n",
       "    <g id=\"xtick_1\">\n",
       "     <g id=\"line2d_1\">\n",
       "      <path d=\"M 83.943914 145.8 \n",
       "L 83.943914 7.2 \n",
       "\" clip-path=\"url(#paae9830b86)\" style=\"fill: none; stroke: #b0b0b0; stroke-width: 0.8; stroke-linecap: square\"/>\n",
       "     </g>\n",
       "     <g id=\"line2d_2\">\n",
       "      <defs>\n",
       "       <path id=\"m3e2fa1c350\" d=\"M 0 0 \n",
       "L 0 3.5 \n",
       "\" style=\"stroke: #000000; stroke-width: 0.8\"/>\n",
       "      </defs>\n",
       "      <g>\n",
       "       <use xlink:href=\"#m3e2fa1c350\" x=\"83.943914\" y=\"145.8\" style=\"stroke: #000000; stroke-width: 0.8\"/>\n",
       "      </g>\n",
       "     </g>\n",
       "     <g id=\"text_1\">\n",
       "      <!-- 5 -->\n",
       "      <g transform=\"translate(80.762664 160.398438)scale(0.1 -0.1)\">\n",
       "       <defs>\n",
       "        <path id=\"DejaVuSans-35\" d=\"M 691 4666 \n",
       "L 3169 4666 \n",
       "L 3169 4134 \n",
       "L 1269 4134 \n",
       "L 1269 2991 \n",
       "Q 1406 3038 1543 3061 \n",
       "Q 1681 3084 1819 3084 \n",
       "Q 2600 3084 3056 2656 \n",
       "Q 3513 2228 3513 1497 \n",
       "Q 3513 744 3044 326 \n",
       "Q 2575 -91 1722 -91 \n",
       "Q 1428 -91 1123 -41 \n",
       "Q 819 9 494 109 \n",
       "L 494 744 \n",
       "Q 775 591 1075 516 \n",
       "Q 1375 441 1709 441 \n",
       "Q 2250 441 2565 725 \n",
       "Q 2881 1009 2881 1497 \n",
       "Q 2881 1984 2565 2268 \n",
       "Q 2250 2553 1709 2553 \n",
       "Q 1456 2553 1204 2497 \n",
       "Q 953 2441 691 2322 \n",
       "L 691 4666 \n",
       "z\n",
       "\" transform=\"scale(0.015625)\"/>\n",
       "       </defs>\n",
       "       <use xlink:href=\"#DejaVuSans-35\"/>\n",
       "      </g>\n",
       "     </g>\n",
       "    </g>\n",
       "    <g id=\"xtick_2\">\n",
       "     <g id=\"line2d_3\">\n",
       "      <path d=\"M 135.338651 145.8 \n",
       "L 135.338651 7.2 \n",
       "\" clip-path=\"url(#paae9830b86)\" style=\"fill: none; stroke: #b0b0b0; stroke-width: 0.8; stroke-linecap: square\"/>\n",
       "     </g>\n",
       "     <g id=\"line2d_4\">\n",
       "      <g>\n",
       "       <use xlink:href=\"#m3e2fa1c350\" x=\"135.338651\" y=\"145.8\" style=\"stroke: #000000; stroke-width: 0.8\"/>\n",
       "      </g>\n",
       "     </g>\n",
       "     <g id=\"text_2\">\n",
       "      <!-- 10 -->\n",
       "      <g transform=\"translate(128.976151 160.398438)scale(0.1 -0.1)\">\n",
       "       <defs>\n",
       "        <path id=\"DejaVuSans-31\" d=\"M 794 531 \n",
       "L 1825 531 \n",
       "L 1825 4091 \n",
       "L 703 3866 \n",
       "L 703 4441 \n",
       "L 1819 4666 \n",
       "L 2450 4666 \n",
       "L 2450 531 \n",
       "L 3481 531 \n",
       "L 3481 0 \n",
       "L 794 0 \n",
       "L 794 531 \n",
       "z\n",
       "\" transform=\"scale(0.015625)\"/>\n",
       "        <path id=\"DejaVuSans-30\" d=\"M 2034 4250 \n",
       "Q 1547 4250 1301 3770 \n",
       "Q 1056 3291 1056 2328 \n",
       "Q 1056 1369 1301 889 \n",
       "Q 1547 409 2034 409 \n",
       "Q 2525 409 2770 889 \n",
       "Q 3016 1369 3016 2328 \n",
       "Q 3016 3291 2770 3770 \n",
       "Q 2525 4250 2034 4250 \n",
       "z\n",
       "M 2034 4750 \n",
       "Q 2819 4750 3233 4129 \n",
       "Q 3647 3509 3647 2328 \n",
       "Q 3647 1150 3233 529 \n",
       "Q 2819 -91 2034 -91 \n",
       "Q 1250 -91 836 529 \n",
       "Q 422 1150 422 2328 \n",
       "Q 422 3509 836 4129 \n",
       "Q 1250 4750 2034 4750 \n",
       "z\n",
       "\" transform=\"scale(0.015625)\"/>\n",
       "       </defs>\n",
       "       <use xlink:href=\"#DejaVuSans-31\"/>\n",
       "       <use xlink:href=\"#DejaVuSans-30\" x=\"63.623047\"/>\n",
       "      </g>\n",
       "     </g>\n",
       "    </g>\n",
       "    <g id=\"xtick_3\">\n",
       "     <g id=\"line2d_5\">\n",
       "      <path d=\"M 186.733388 145.8 \n",
       "L 186.733388 7.2 \n",
       "\" clip-path=\"url(#paae9830b86)\" style=\"fill: none; stroke: #b0b0b0; stroke-width: 0.8; stroke-linecap: square\"/>\n",
       "     </g>\n",
       "     <g id=\"line2d_6\">\n",
       "      <g>\n",
       "       <use xlink:href=\"#m3e2fa1c350\" x=\"186.733388\" y=\"145.8\" style=\"stroke: #000000; stroke-width: 0.8\"/>\n",
       "      </g>\n",
       "     </g>\n",
       "     <g id=\"text_3\">\n",
       "      <!-- 15 -->\n",
       "      <g transform=\"translate(180.370888 160.398438)scale(0.1 -0.1)\">\n",
       "       <use xlink:href=\"#DejaVuSans-31\"/>\n",
       "       <use xlink:href=\"#DejaVuSans-35\" x=\"63.623047\"/>\n",
       "      </g>\n",
       "     </g>\n",
       "    </g>\n",
       "    <g id=\"xtick_4\">\n",
       "     <g id=\"line2d_7\">\n",
       "      <path d=\"M 238.128125 145.8 \n",
       "L 238.128125 7.2 \n",
       "\" clip-path=\"url(#paae9830b86)\" style=\"fill: none; stroke: #b0b0b0; stroke-width: 0.8; stroke-linecap: square\"/>\n",
       "     </g>\n",
       "     <g id=\"line2d_8\">\n",
       "      <g>\n",
       "       <use xlink:href=\"#m3e2fa1c350\" x=\"238.128125\" y=\"145.8\" style=\"stroke: #000000; stroke-width: 0.8\"/>\n",
       "      </g>\n",
       "     </g>\n",
       "     <g id=\"text_4\">\n",
       "      <!-- 20 -->\n",
       "      <g transform=\"translate(231.765625 160.398438)scale(0.1 -0.1)\">\n",
       "       <defs>\n",
       "        <path id=\"DejaVuSans-32\" d=\"M 1228 531 \n",
       "L 3431 531 \n",
       "L 3431 0 \n",
       "L 469 0 \n",
       "L 469 531 \n",
       "Q 828 903 1448 1529 \n",
       "Q 2069 2156 2228 2338 \n",
       "Q 2531 2678 2651 2914 \n",
       "Q 2772 3150 2772 3378 \n",
       "Q 2772 3750 2511 3984 \n",
       "Q 2250 4219 1831 4219 \n",
       "Q 1534 4219 1204 4116 \n",
       "Q 875 4013 500 3803 \n",
       "L 500 4441 \n",
       "Q 881 4594 1212 4672 \n",
       "Q 1544 4750 1819 4750 \n",
       "Q 2544 4750 2975 4387 \n",
       "Q 3406 4025 3406 3419 \n",
       "Q 3406 3131 3298 2873 \n",
       "Q 3191 2616 2906 2266 \n",
       "Q 2828 2175 2409 1742 \n",
       "Q 1991 1309 1228 531 \n",
       "z\n",
       "\" transform=\"scale(0.015625)\"/>\n",
       "       </defs>\n",
       "       <use xlink:href=\"#DejaVuSans-32\"/>\n",
       "       <use xlink:href=\"#DejaVuSans-30\" x=\"63.623047\"/>\n",
       "      </g>\n",
       "     </g>\n",
       "    </g>\n",
       "    <g id=\"text_5\">\n",
       "     <!-- epoch -->\n",
       "     <g transform=\"translate(125.25 174.076563)scale(0.1 -0.1)\">\n",
       "      <defs>\n",
       "       <path id=\"DejaVuSans-65\" d=\"M 3597 1894 \n",
       "L 3597 1613 \n",
       "L 953 1613 \n",
       "Q 991 1019 1311 708 \n",
       "Q 1631 397 2203 397 \n",
       "Q 2534 397 2845 478 \n",
       "Q 3156 559 3463 722 \n",
       "L 3463 178 \n",
       "Q 3153 47 2828 -22 \n",
       "Q 2503 -91 2169 -91 \n",
       "Q 1331 -91 842 396 \n",
       "Q 353 884 353 1716 \n",
       "Q 353 2575 817 3079 \n",
       "Q 1281 3584 2069 3584 \n",
       "Q 2775 3584 3186 3129 \n",
       "Q 3597 2675 3597 1894 \n",
       "z\n",
       "M 3022 2063 \n",
       "Q 3016 2534 2758 2815 \n",
       "Q 2500 3097 2075 3097 \n",
       "Q 1594 3097 1305 2825 \n",
       "Q 1016 2553 972 2059 \n",
       "L 3022 2063 \n",
       "z\n",
       "\" transform=\"scale(0.015625)\"/>\n",
       "       <path id=\"DejaVuSans-70\" d=\"M 1159 525 \n",
       "L 1159 -1331 \n",
       "L 581 -1331 \n",
       "L 581 3500 \n",
       "L 1159 3500 \n",
       "L 1159 2969 \n",
       "Q 1341 3281 1617 3432 \n",
       "Q 1894 3584 2278 3584 \n",
       "Q 2916 3584 3314 3078 \n",
       "Q 3713 2572 3713 1747 \n",
       "Q 3713 922 3314 415 \n",
       "Q 2916 -91 2278 -91 \n",
       "Q 1894 -91 1617 61 \n",
       "Q 1341 213 1159 525 \n",
       "z\n",
       "M 3116 1747 \n",
       "Q 3116 2381 2855 2742 \n",
       "Q 2594 3103 2138 3103 \n",
       "Q 1681 3103 1420 2742 \n",
       "Q 1159 2381 1159 1747 \n",
       "Q 1159 1113 1420 752 \n",
       "Q 1681 391 2138 391 \n",
       "Q 2594 391 2855 752 \n",
       "Q 3116 1113 3116 1747 \n",
       "z\n",
       "\" transform=\"scale(0.015625)\"/>\n",
       "       <path id=\"DejaVuSans-6f\" d=\"M 1959 3097 \n",
       "Q 1497 3097 1228 2736 \n",
       "Q 959 2375 959 1747 \n",
       "Q 959 1119 1226 758 \n",
       "Q 1494 397 1959 397 \n",
       "Q 2419 397 2687 759 \n",
       "Q 2956 1122 2956 1747 \n",
       "Q 2956 2369 2687 2733 \n",
       "Q 2419 3097 1959 3097 \n",
       "z\n",
       "M 1959 3584 \n",
       "Q 2709 3584 3137 3096 \n",
       "Q 3566 2609 3566 1747 \n",
       "Q 3566 888 3137 398 \n",
       "Q 2709 -91 1959 -91 \n",
       "Q 1206 -91 779 398 \n",
       "Q 353 888 353 1747 \n",
       "Q 353 2609 779 3096 \n",
       "Q 1206 3584 1959 3584 \n",
       "z\n",
       "\" transform=\"scale(0.015625)\"/>\n",
       "       <path id=\"DejaVuSans-63\" d=\"M 3122 3366 \n",
       "L 3122 2828 \n",
       "Q 2878 2963 2633 3030 \n",
       "Q 2388 3097 2138 3097 \n",
       "Q 1578 3097 1268 2742 \n",
       "Q 959 2388 959 1747 \n",
       "Q 959 1106 1268 751 \n",
       "Q 1578 397 2138 397 \n",
       "Q 2388 397 2633 464 \n",
       "Q 2878 531 3122 666 \n",
       "L 3122 134 \n",
       "Q 2881 22 2623 -34 \n",
       "Q 2366 -91 2075 -91 \n",
       "Q 1284 -91 818 406 \n",
       "Q 353 903 353 1747 \n",
       "Q 353 2603 823 3093 \n",
       "Q 1294 3584 2113 3584 \n",
       "Q 2378 3584 2631 3529 \n",
       "Q 2884 3475 3122 3366 \n",
       "z\n",
       "\" transform=\"scale(0.015625)\"/>\n",
       "       <path id=\"DejaVuSans-68\" d=\"M 3513 2113 \n",
       "L 3513 0 \n",
       "L 2938 0 \n",
       "L 2938 2094 \n",
       "Q 2938 2591 2744 2837 \n",
       "Q 2550 3084 2163 3084 \n",
       "Q 1697 3084 1428 2787 \n",
       "Q 1159 2491 1159 1978 \n",
       "L 1159 0 \n",
       "L 581 0 \n",
       "L 581 4863 \n",
       "L 1159 4863 \n",
       "L 1159 2956 \n",
       "Q 1366 3272 1645 3428 \n",
       "Q 1925 3584 2291 3584 \n",
       "Q 2894 3584 3203 3211 \n",
       "Q 3513 2838 3513 2113 \n",
       "z\n",
       "\" transform=\"scale(0.015625)\"/>\n",
       "      </defs>\n",
       "      <use xlink:href=\"#DejaVuSans-65\"/>\n",
       "      <use xlink:href=\"#DejaVuSans-70\" x=\"61.523438\"/>\n",
       "      <use xlink:href=\"#DejaVuSans-6f\" x=\"125\"/>\n",
       "      <use xlink:href=\"#DejaVuSans-63\" x=\"186.181641\"/>\n",
       "      <use xlink:href=\"#DejaVuSans-68\" x=\"241.162109\"/>\n",
       "     </g>\n",
       "    </g>\n",
       "   </g>\n",
       "   <g id=\"matplotlib.axis_2\">\n",
       "    <g id=\"ytick_1\">\n",
       "     <g id=\"line2d_9\">\n",
       "      <path d=\"M 42.828125 121.793184 \n",
       "L 238.128125 121.793184 \n",
       "\" clip-path=\"url(#paae9830b86)\" style=\"fill: none; stroke: #b0b0b0; stroke-width: 0.8; stroke-linecap: square\"/>\n",
       "     </g>\n",
       "     <g id=\"line2d_10\">\n",
       "      <defs>\n",
       "       <path id=\"m6ea26eb2e1\" d=\"M 0 0 \n",
       "L -3.5 0 \n",
       "\" style=\"stroke: #000000; stroke-width: 0.8\"/>\n",
       "      </defs>\n",
       "      <g>\n",
       "       <use xlink:href=\"#m6ea26eb2e1\" x=\"42.828125\" y=\"121.793184\" style=\"stroke: #000000; stroke-width: 0.8\"/>\n",
       "      </g>\n",
       "     </g>\n",
       "     <g id=\"text_6\">\n",
       "      <!-- 0.005 -->\n",
       "      <g transform=\"translate(7.2 125.592402)scale(0.1 -0.1)\">\n",
       "       <defs>\n",
       "        <path id=\"DejaVuSans-2e\" d=\"M 684 794 \n",
       "L 1344 794 \n",
       "L 1344 0 \n",
       "L 684 0 \n",
       "L 684 794 \n",
       "z\n",
       "\" transform=\"scale(0.015625)\"/>\n",
       "       </defs>\n",
       "       <use xlink:href=\"#DejaVuSans-30\"/>\n",
       "       <use xlink:href=\"#DejaVuSans-2e\" x=\"63.623047\"/>\n",
       "       <use xlink:href=\"#DejaVuSans-30\" x=\"95.410156\"/>\n",
       "       <use xlink:href=\"#DejaVuSans-30\" x=\"159.033203\"/>\n",
       "       <use xlink:href=\"#DejaVuSans-35\" x=\"222.65625\"/>\n",
       "      </g>\n",
       "     </g>\n",
       "    </g>\n",
       "    <g id=\"ytick_2\">\n",
       "     <g id=\"line2d_11\">\n",
       "      <path d=\"M 42.828125 77.24856 \n",
       "L 238.128125 77.24856 \n",
       "\" clip-path=\"url(#paae9830b86)\" style=\"fill: none; stroke: #b0b0b0; stroke-width: 0.8; stroke-linecap: square\"/>\n",
       "     </g>\n",
       "     <g id=\"line2d_12\">\n",
       "      <g>\n",
       "       <use xlink:href=\"#m6ea26eb2e1\" x=\"42.828125\" y=\"77.24856\" style=\"stroke: #000000; stroke-width: 0.8\"/>\n",
       "      </g>\n",
       "     </g>\n",
       "     <g id=\"text_7\">\n",
       "      <!-- 0.010 -->\n",
       "      <g transform=\"translate(7.2 81.047779)scale(0.1 -0.1)\">\n",
       "       <use xlink:href=\"#DejaVuSans-30\"/>\n",
       "       <use xlink:href=\"#DejaVuSans-2e\" x=\"63.623047\"/>\n",
       "       <use xlink:href=\"#DejaVuSans-30\" x=\"95.410156\"/>\n",
       "       <use xlink:href=\"#DejaVuSans-31\" x=\"159.033203\"/>\n",
       "       <use xlink:href=\"#DejaVuSans-30\" x=\"222.65625\"/>\n",
       "      </g>\n",
       "     </g>\n",
       "    </g>\n",
       "    <g id=\"ytick_3\">\n",
       "     <g id=\"line2d_13\">\n",
       "      <path d=\"M 42.828125 32.703937 \n",
       "L 238.128125 32.703937 \n",
       "\" clip-path=\"url(#paae9830b86)\" style=\"fill: none; stroke: #b0b0b0; stroke-width: 0.8; stroke-linecap: square\"/>\n",
       "     </g>\n",
       "     <g id=\"line2d_14\">\n",
       "      <g>\n",
       "       <use xlink:href=\"#m6ea26eb2e1\" x=\"42.828125\" y=\"32.703937\" style=\"stroke: #000000; stroke-width: 0.8\"/>\n",
       "      </g>\n",
       "     </g>\n",
       "     <g id=\"text_8\">\n",
       "      <!-- 0.015 -->\n",
       "      <g transform=\"translate(7.2 36.503155)scale(0.1 -0.1)\">\n",
       "       <use xlink:href=\"#DejaVuSans-30\"/>\n",
       "       <use xlink:href=\"#DejaVuSans-2e\" x=\"63.623047\"/>\n",
       "       <use xlink:href=\"#DejaVuSans-30\" x=\"95.410156\"/>\n",
       "       <use xlink:href=\"#DejaVuSans-31\" x=\"159.033203\"/>\n",
       "       <use xlink:href=\"#DejaVuSans-35\" x=\"222.65625\"/>\n",
       "      </g>\n",
       "     </g>\n",
       "    </g>\n",
       "   </g>\n",
       "   <g id=\"line2d_15\">\n",
       "    <path d=\"M 42.828125 13.5 \n",
       "L 53.107072 123.23982 \n",
       "L 63.38602 125.543965 \n",
       "L 73.664967 128.39469 \n",
       "L 83.943914 130.018065 \n",
       "L 94.222862 132.224022 \n",
       "L 104.501809 133.001344 \n",
       "L 114.780757 134.246695 \n",
       "L 125.059704 134.826004 \n",
       "L 135.338651 135.061656 \n",
       "L 145.617599 135.940438 \n",
       "L 155.896546 136.071356 \n",
       "L 166.175493 136.289006 \n",
       "L 176.454441 136.806129 \n",
       "L 186.733388 136.71285 \n",
       "L 197.012336 137.316707 \n",
       "L 207.291283 137.462352 \n",
       "L 217.57023 137.792919 \n",
       "L 227.849178 137.910744 \n",
       "L 238.128125 138.087483 \n",
       "\" clip-path=\"url(#paae9830b86)\" style=\"fill: none; stroke: #1f77b4; stroke-width: 1.5; stroke-linecap: square\"/>\n",
       "   </g>\n",
       "   <g id=\"line2d_16\">\n",
       "    <path d=\"M 42.828125 122.123902 \n",
       "L 53.107072 125.701269 \n",
       "L 63.38602 128.193339 \n",
       "L 73.664967 130.072901 \n",
       "L 83.943914 131.343661 \n",
       "L 94.222862 132.503567 \n",
       "L 104.501809 133.458761 \n",
       "L 114.780757 134.388637 \n",
       "L 125.059704 135.221088 \n",
       "L 135.338651 135.909625 \n",
       "L 145.617599 136.432779 \n",
       "L 155.896546 136.956663 \n",
       "L 166.175493 137.461448 \n",
       "L 176.454441 137.780772 \n",
       "L 186.733388 138.136667 \n",
       "L 197.012336 138.462338 \n",
       "L 207.291283 138.744036 \n",
       "L 217.57023 139.002274 \n",
       "L 227.849178 139.23661 \n",
       "L 238.128125 139.5 \n",
       "\" clip-path=\"url(#paae9830b86)\" style=\"fill: none; stroke-dasharray: 5.55,2.4; stroke-dashoffset: 0; stroke: #bf00bf; stroke-width: 1.5\"/>\n",
       "   </g>\n",
       "   <g id=\"patch_3\">\n",
       "    <path d=\"M 42.828125 145.8 \n",
       "L 42.828125 7.2 \n",
       "\" style=\"fill: none; stroke: #000000; stroke-width: 0.8; stroke-linejoin: miter; stroke-linecap: square\"/>\n",
       "   </g>\n",
       "   <g id=\"patch_4\">\n",
       "    <path d=\"M 238.128125 145.8 \n",
       "L 238.128125 7.2 \n",
       "\" style=\"fill: none; stroke: #000000; stroke-width: 0.8; stroke-linejoin: miter; stroke-linecap: square\"/>\n",
       "   </g>\n",
       "   <g id=\"patch_5\">\n",
       "    <path d=\"M 42.828125 145.8 \n",
       "L 238.128125 145.8 \n",
       "\" style=\"fill: none; stroke: #000000; stroke-width: 0.8; stroke-linejoin: miter; stroke-linecap: square\"/>\n",
       "   </g>\n",
       "   <g id=\"patch_6\">\n",
       "    <path d=\"M 42.828125 7.2 \n",
       "L 238.128125 7.2 \n",
       "\" style=\"fill: none; stroke: #000000; stroke-width: 0.8; stroke-linejoin: miter; stroke-linecap: square\"/>\n",
       "   </g>\n",
       "   <g id=\"legend_1\">\n",
       "    <g id=\"patch_7\">\n",
       "     <path d=\"M 146.921875 44.55625 \n",
       "L 231.128125 44.55625 \n",
       "Q 233.128125 44.55625 233.128125 42.55625 \n",
       "L 233.128125 14.2 \n",
       "Q 233.128125 12.2 231.128125 12.2 \n",
       "L 146.921875 12.2 \n",
       "Q 144.921875 12.2 144.921875 14.2 \n",
       "L 144.921875 42.55625 \n",
       "Q 144.921875 44.55625 146.921875 44.55625 \n",
       "z\n",
       "\" style=\"fill: #ffffff; opacity: 0.8; stroke: #cccccc; stroke-linejoin: miter\"/>\n",
       "    </g>\n",
       "    <g id=\"line2d_17\">\n",
       "     <path d=\"M 148.921875 20.298438 \n",
       "L 158.921875 20.298438 \n",
       "L 168.921875 20.298438 \n",
       "\" style=\"fill: none; stroke: #1f77b4; stroke-width: 1.5; stroke-linecap: square\"/>\n",
       "    </g>\n",
       "    <g id=\"text_9\">\n",
       "     <!-- class error -->\n",
       "     <g transform=\"translate(176.921875 23.798438)scale(0.1 -0.1)\">\n",
       "      <defs>\n",
       "       <path id=\"DejaVuSans-6c\" d=\"M 603 4863 \n",
       "L 1178 4863 \n",
       "L 1178 0 \n",
       "L 603 0 \n",
       "L 603 4863 \n",
       "z\n",
       "\" transform=\"scale(0.015625)\"/>\n",
       "       <path id=\"DejaVuSans-61\" d=\"M 2194 1759 \n",
       "Q 1497 1759 1228 1600 \n",
       "Q 959 1441 959 1056 \n",
       "Q 959 750 1161 570 \n",
       "Q 1363 391 1709 391 \n",
       "Q 2188 391 2477 730 \n",
       "Q 2766 1069 2766 1631 \n",
       "L 2766 1759 \n",
       "L 2194 1759 \n",
       "z\n",
       "M 3341 1997 \n",
       "L 3341 0 \n",
       "L 2766 0 \n",
       "L 2766 531 \n",
       "Q 2569 213 2275 61 \n",
       "Q 1981 -91 1556 -91 \n",
       "Q 1019 -91 701 211 \n",
       "Q 384 513 384 1019 \n",
       "Q 384 1609 779 1909 \n",
       "Q 1175 2209 1959 2209 \n",
       "L 2766 2209 \n",
       "L 2766 2266 \n",
       "Q 2766 2663 2505 2880 \n",
       "Q 2244 3097 1772 3097 \n",
       "Q 1472 3097 1187 3025 \n",
       "Q 903 2953 641 2809 \n",
       "L 641 3341 \n",
       "Q 956 3463 1253 3523 \n",
       "Q 1550 3584 1831 3584 \n",
       "Q 2591 3584 2966 3190 \n",
       "Q 3341 2797 3341 1997 \n",
       "z\n",
       "\" transform=\"scale(0.015625)\"/>\n",
       "       <path id=\"DejaVuSans-73\" d=\"M 2834 3397 \n",
       "L 2834 2853 \n",
       "Q 2591 2978 2328 3040 \n",
       "Q 2066 3103 1784 3103 \n",
       "Q 1356 3103 1142 2972 \n",
       "Q 928 2841 928 2578 \n",
       "Q 928 2378 1081 2264 \n",
       "Q 1234 2150 1697 2047 \n",
       "L 1894 2003 \n",
       "Q 2506 1872 2764 1633 \n",
       "Q 3022 1394 3022 966 \n",
       "Q 3022 478 2636 193 \n",
       "Q 2250 -91 1575 -91 \n",
       "Q 1294 -91 989 -36 \n",
       "Q 684 19 347 128 \n",
       "L 347 722 \n",
       "Q 666 556 975 473 \n",
       "Q 1284 391 1588 391 \n",
       "Q 1994 391 2212 530 \n",
       "Q 2431 669 2431 922 \n",
       "Q 2431 1156 2273 1281 \n",
       "Q 2116 1406 1581 1522 \n",
       "L 1381 1569 \n",
       "Q 847 1681 609 1914 \n",
       "Q 372 2147 372 2553 \n",
       "Q 372 3047 722 3315 \n",
       "Q 1072 3584 1716 3584 \n",
       "Q 2034 3584 2315 3537 \n",
       "Q 2597 3491 2834 3397 \n",
       "z\n",
       "\" transform=\"scale(0.015625)\"/>\n",
       "       <path id=\"DejaVuSans-20\" transform=\"scale(0.015625)\"/>\n",
       "       <path id=\"DejaVuSans-72\" d=\"M 2631 2963 \n",
       "Q 2534 3019 2420 3045 \n",
       "Q 2306 3072 2169 3072 \n",
       "Q 1681 3072 1420 2755 \n",
       "Q 1159 2438 1159 1844 \n",
       "L 1159 0 \n",
       "L 581 0 \n",
       "L 581 3500 \n",
       "L 1159 3500 \n",
       "L 1159 2956 \n",
       "Q 1341 3275 1631 3429 \n",
       "Q 1922 3584 2338 3584 \n",
       "Q 2397 3584 2469 3576 \n",
       "Q 2541 3569 2628 3553 \n",
       "L 2631 2963 \n",
       "z\n",
       "\" transform=\"scale(0.015625)\"/>\n",
       "      </defs>\n",
       "      <use xlink:href=\"#DejaVuSans-63\"/>\n",
       "      <use xlink:href=\"#DejaVuSans-6c\" x=\"54.980469\"/>\n",
       "      <use xlink:href=\"#DejaVuSans-61\" x=\"82.763672\"/>\n",
       "      <use xlink:href=\"#DejaVuSans-73\" x=\"144.042969\"/>\n",
       "      <use xlink:href=\"#DejaVuSans-73\" x=\"196.142578\"/>\n",
       "      <use xlink:href=\"#DejaVuSans-20\" x=\"248.242188\"/>\n",
       "      <use xlink:href=\"#DejaVuSans-65\" x=\"280.029297\"/>\n",
       "      <use xlink:href=\"#DejaVuSans-72\" x=\"341.552734\"/>\n",
       "      <use xlink:href=\"#DejaVuSans-72\" x=\"380.916016\"/>\n",
       "      <use xlink:href=\"#DejaVuSans-6f\" x=\"419.779297\"/>\n",
       "      <use xlink:href=\"#DejaVuSans-72\" x=\"480.960938\"/>\n",
       "     </g>\n",
       "    </g>\n",
       "    <g id=\"line2d_18\">\n",
       "     <path d=\"M 148.921875 34.976562 \n",
       "L 158.921875 34.976562 \n",
       "L 168.921875 34.976562 \n",
       "\" style=\"fill: none; stroke-dasharray: 5.55,2.4; stroke-dashoffset: 0; stroke: #bf00bf; stroke-width: 1.5\"/>\n",
       "    </g>\n",
       "    <g id=\"text_10\">\n",
       "     <!-- bbox mae -->\n",
       "     <g transform=\"translate(176.921875 38.476562)scale(0.1 -0.1)\">\n",
       "      <defs>\n",
       "       <path id=\"DejaVuSans-62\" d=\"M 3116 1747 \n",
       "Q 3116 2381 2855 2742 \n",
       "Q 2594 3103 2138 3103 \n",
       "Q 1681 3103 1420 2742 \n",
       "Q 1159 2381 1159 1747 \n",
       "Q 1159 1113 1420 752 \n",
       "Q 1681 391 2138 391 \n",
       "Q 2594 391 2855 752 \n",
       "Q 3116 1113 3116 1747 \n",
       "z\n",
       "M 1159 2969 \n",
       "Q 1341 3281 1617 3432 \n",
       "Q 1894 3584 2278 3584 \n",
       "Q 2916 3584 3314 3078 \n",
       "Q 3713 2572 3713 1747 \n",
       "Q 3713 922 3314 415 \n",
       "Q 2916 -91 2278 -91 \n",
       "Q 1894 -91 1617 61 \n",
       "Q 1341 213 1159 525 \n",
       "L 1159 0 \n",
       "L 581 0 \n",
       "L 581 4863 \n",
       "L 1159 4863 \n",
       "L 1159 2969 \n",
       "z\n",
       "\" transform=\"scale(0.015625)\"/>\n",
       "       <path id=\"DejaVuSans-78\" d=\"M 3513 3500 \n",
       "L 2247 1797 \n",
       "L 3578 0 \n",
       "L 2900 0 \n",
       "L 1881 1375 \n",
       "L 863 0 \n",
       "L 184 0 \n",
       "L 1544 1831 \n",
       "L 300 3500 \n",
       "L 978 3500 \n",
       "L 1906 2253 \n",
       "L 2834 3500 \n",
       "L 3513 3500 \n",
       "z\n",
       "\" transform=\"scale(0.015625)\"/>\n",
       "       <path id=\"DejaVuSans-6d\" d=\"M 3328 2828 \n",
       "Q 3544 3216 3844 3400 \n",
       "Q 4144 3584 4550 3584 \n",
       "Q 5097 3584 5394 3201 \n",
       "Q 5691 2819 5691 2113 \n",
       "L 5691 0 \n",
       "L 5113 0 \n",
       "L 5113 2094 \n",
       "Q 5113 2597 4934 2840 \n",
       "Q 4756 3084 4391 3084 \n",
       "Q 3944 3084 3684 2787 \n",
       "Q 3425 2491 3425 1978 \n",
       "L 3425 0 \n",
       "L 2847 0 \n",
       "L 2847 2094 \n",
       "Q 2847 2600 2669 2842 \n",
       "Q 2491 3084 2119 3084 \n",
       "Q 1678 3084 1418 2786 \n",
       "Q 1159 2488 1159 1978 \n",
       "L 1159 0 \n",
       "L 581 0 \n",
       "L 581 3500 \n",
       "L 1159 3500 \n",
       "L 1159 2956 \n",
       "Q 1356 3278 1631 3431 \n",
       "Q 1906 3584 2284 3584 \n",
       "Q 2666 3584 2933 3390 \n",
       "Q 3200 3197 3328 2828 \n",
       "z\n",
       "\" transform=\"scale(0.015625)\"/>\n",
       "      </defs>\n",
       "      <use xlink:href=\"#DejaVuSans-62\"/>\n",
       "      <use xlink:href=\"#DejaVuSans-62\" x=\"63.476562\"/>\n",
       "      <use xlink:href=\"#DejaVuSans-6f\" x=\"126.953125\"/>\n",
       "      <use xlink:href=\"#DejaVuSans-78\" x=\"185.009766\"/>\n",
       "      <use xlink:href=\"#DejaVuSans-20\" x=\"244.189453\"/>\n",
       "      <use xlink:href=\"#DejaVuSans-6d\" x=\"275.976562\"/>\n",
       "      <use xlink:href=\"#DejaVuSans-61\" x=\"373.388672\"/>\n",
       "      <use xlink:href=\"#DejaVuSans-65\" x=\"434.667969\"/>\n",
       "     </g>\n",
       "    </g>\n",
       "   </g>\n",
       "  </g>\n",
       " </g>\n",
       " <defs>\n",
       "  <clipPath id=\"paae9830b86\">\n",
       "   <rect x=\"42.828125\" y=\"7.2\" width=\"195.3\" height=\"138.6\"/>\n",
       "  </clipPath>\n",
       " </defs>\n",
       "</svg>\n"
      ],
      "text/plain": [
       "<Figure size 350x250 with 1 Axes>"
      ]
     },
     "metadata": {},
     "output_type": "display_data"
    }
   ],
   "source": [
    "num_epochs, timer = 20, d2l.Timer()\n",
    "animator = d2l.Animator(xlabel='epoch', xlim=[1, num_epochs],\n",
    "                        legend=['class error', 'bbox mae'])\n",
    "net = net.to(device)\n",
    "for epoch in range(num_epochs):\n",
    "    # 训练精确度的和，训练精确度的和中的示例数\n",
    "    # 绝对误差的和，绝对误差的和中的示例数\n",
    "    metric = d2l.Accumulator(4)\n",
    "    net.train()\n",
    "    for features, target in train_iter:\n",
    "        timer.start()\n",
    "        trainer.zero_grad()\n",
    "        X, Y = features.to(device), target.to(device)\n",
    "        # 生成多尺度的锚框，为每个锚框预测类别和偏移量\n",
    "        anchors, cls_preds, bbox_preds = net(X)\n",
    "        # 为每个锚框标注类别和偏移量\n",
    "        bbox_labels, bbox_masks, cls_labels = d2l.multibox_target(anchors, Y)\n",
    "        # 根据类别和偏移量的预测和标注值计算损失函数\n",
    "        l = calc_loss(cls_preds, cls_labels, bbox_preds, bbox_labels,\n",
    "                      bbox_masks)\n",
    "        l.mean().backward()\n",
    "        trainer.step()\n",
    "        metric.add(cls_eval(cls_preds, cls_labels), cls_labels.numel(),\n",
    "                   bbox_eval(bbox_preds, bbox_labels, bbox_masks),\n",
    "                   bbox_labels.numel())\n",
    "    cls_err, bbox_mae = 1 - metric[0] / metric[1], metric[2] / metric[3]\n",
    "    animator.add(epoch + 1, (cls_err, bbox_mae))\n",
    "print(f'class err {cls_err:.2e}, bbox mae {bbox_mae:.2e}')\n",
    "print(f'{len(train_iter.dataset) / timer.stop():.1f} examples/sec on '\n",
    "      f'{str(device)}')"
   ]
  },
  {
   "cell_type": "markdown",
   "id": "4e1ac44e",
   "metadata": {
    "origin_pos": 66
   },
   "source": [
    "## [**预测目标**]\n",
    "\n",
    "在预测阶段，我们希望能把图像里面所有我们感兴趣的目标检测出来。在下面，我们读取并调整测试图像的大小，然后将其转成卷积层需要的四维格式。\n"
   ]
  },
  {
   "cell_type": "code",
   "execution_count": 19,
   "id": "889d67cd",
   "metadata": {
    "execution": {
     "iopub.execute_input": "2022-12-07T17:39:43.990635Z",
     "iopub.status.busy": "2022-12-07T17:39:43.990349Z",
     "iopub.status.idle": "2022-12-07T17:39:43.995741Z",
     "shell.execute_reply": "2022-12-07T17:39:43.994902Z"
    },
    "origin_pos": 68,
    "tab": [
     "pytorch"
    ]
   },
   "outputs": [],
   "source": [
    "X = torchvision.io.read_image('../img/banana.jpg').unsqueeze(0).float()\n",
    "img = X.squeeze(0).permute(1, 2, 0).long()"
   ]
  },
  {
   "cell_type": "markdown",
   "id": "3091cd0e",
   "metadata": {
    "origin_pos": 70
   },
   "source": [
    "使用下面的`multibox_detection`函数，我们可以根据锚框及其预测偏移量得到预测边界框。然后，通过非极大值抑制来移除相似的预测边界框。\n"
   ]
  },
  {
   "cell_type": "code",
   "execution_count": 20,
   "id": "18472826",
   "metadata": {
    "execution": {
     "iopub.execute_input": "2022-12-07T17:39:43.998768Z",
     "iopub.status.busy": "2022-12-07T17:39:43.998462Z",
     "iopub.status.idle": "2022-12-07T17:39:44.599636Z",
     "shell.execute_reply": "2022-12-07T17:39:44.598825Z"
    },
    "origin_pos": 72,
    "tab": [
     "pytorch"
    ]
   },
   "outputs": [],
   "source": [
    "def predict(X):\n",
    "    net.eval()\n",
    "    anchors, cls_preds, bbox_preds = net(X.to(device))\n",
    "    cls_probs = F.softmax(cls_preds, dim=2).permute(0, 2, 1)\n",
    "    output = d2l.multibox_detection(cls_probs, bbox_preds, anchors)\n",
    "    idx = [i for i, row in enumerate(output[0]) if row[0] != -1]\n",
    "    return output[0, idx]\n",
    "\n",
    "output = predict(X)"
   ]
  },
  {
   "cell_type": "markdown",
   "id": "aa8dd31e",
   "metadata": {
    "origin_pos": 74
   },
   "source": [
    "最后，我们[**筛选所有置信度不低于0.9的边界框，做为最终输出**]。\n"
   ]
  },
  {
   "cell_type": "code",
   "execution_count": 21,
   "id": "def84610",
   "metadata": {
    "execution": {
     "iopub.execute_input": "2022-12-07T17:39:44.603221Z",
     "iopub.status.busy": "2022-12-07T17:39:44.602675Z",
     "iopub.status.idle": "2022-12-07T17:39:44.919118Z",
     "shell.execute_reply": "2022-12-07T17:39:44.918305Z"
    },
    "origin_pos": 76,
    "tab": [
     "pytorch"
    ]
   },
   "outputs": [
    {
     "data": {
      "image/svg+xml": [
       "<?xml version=\"1.0\" encoding=\"utf-8\" standalone=\"no\"?>\n",
       "<!DOCTYPE svg PUBLIC \"-//W3C//DTD SVG 1.1//EN\"\n",
       "  \"http://www.w3.org/Graphics/SVG/1.1/DTD/svg11.dtd\">\n",
       "<svg xmlns:xlink=\"http://www.w3.org/1999/xlink\" width=\"321.275781pt\" height=\"311.535938pt\" viewBox=\"0 0 321.275781 311.535938\" xmlns=\"http://www.w3.org/2000/svg\" version=\"1.1\">\n",
       " <metadata>\n",
       "  <rdf:RDF xmlns:dc=\"http://purl.org/dc/elements/1.1/\" xmlns:cc=\"http://creativecommons.org/ns#\" xmlns:rdf=\"http://www.w3.org/1999/02/22-rdf-syntax-ns#\">\n",
       "   <cc:Work>\n",
       "    <dc:type rdf:resource=\"http://purl.org/dc/dcmitype/StillImage\"/>\n",
       "    <dc:date>2022-12-07T17:39:44.762602</dc:date>\n",
       "    <dc:format>image/svg+xml</dc:format>\n",
       "    <dc:creator>\n",
       "     <cc:Agent>\n",
       "      <dc:title>Matplotlib v3.5.1, https://matplotlib.org/</dc:title>\n",
       "     </cc:Agent>\n",
       "    </dc:creator>\n",
       "   </cc:Work>\n",
       "  </rdf:RDF>\n",
       " </metadata>\n",
       " <defs>\n",
       "  <style type=\"text/css\">*{stroke-linejoin: round; stroke-linecap: butt}</style>\n",
       " </defs>\n",
       " <g id=\"figure_1\">\n",
       "  <g id=\"patch_1\">\n",
       "   <path d=\"M 0 311.535938 \n",
       "L 321.275781 311.535938 \n",
       "L 321.275781 0 \n",
       "L 0 0 \n",
       "z\n",
       "\" style=\"fill: #ffffff\"/>\n",
       "  </g>\n",
       "  <g id=\"axes_1\">\n",
       "   <g id=\"patch_2\">\n",
       "    <path d=\"M 33.2875 287.657813 \n",
       "L 310.4875 287.657813 \n",
       "L 310.4875 10.457813 \n",
       "L 33.2875 10.457813 \n",
       "z\n",
       "\" style=\"fill: #ffffff\"/>\n",
       "   </g>\n",
       "   <g clip-path=\"url(#p6a8764ce3c)\">\n",
       "    <image xlink:href=\"data:image/png;base64,\n",
       "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